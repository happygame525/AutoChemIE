{
 "cells": [
  {
   "cell_type": "markdown",
   "metadata": {},
   "source": [
    "# 使用大模型来抽取化学反应 上下文学习"
   ]
  },
  {
   "cell_type": "code",
   "execution_count": 1,
   "metadata": {},
   "outputs": [
    {
     "name": "stderr",
     "output_type": "stream",
     "text": [
      "/data/lizh/Conda/anaconda3/envs/vllm/lib/python3.9/site-packages/tqdm/auto.py:21: TqdmWarning: IProgress not found. Please update jupyter and ipywidgets. See https://ipywidgets.readthedocs.io/en/stable/user_install.html\n",
      "  from .autonotebook import tqdm as notebook_tqdm\n",
      "2024-12-04 17:29:48,081\tINFO util.py:154 -- Missing packages: ['ipywidgets']. Run `pip install -U ipywidgets`, then restart the notebook server for rich notebook output.\n",
      "2024-12-04 17:29:50,438\tINFO worker.py:1771 -- Started a local Ray instance.\n"
     ]
    },
    {
     "name": "stdout",
     "output_type": "stream",
     "text": [
      "INFO 12-04 17:29:51 llm_engine.py:161] Initializing an LLM engine (v0.4.3) with config: model='/data/models/qwen2.5/qwen2.5-14B-Instruct', speculative_config=None, tokenizer='/data/models/qwen2.5/qwen2.5-14B-Instruct', skip_tokenizer_init=False, tokenizer_mode=auto, revision=None, rope_scaling=None, tokenizer_revision=None, trust_remote_code=False, dtype=torch.bfloat16, max_seq_len=32768, download_dir=None, load_format=LoadFormat.AUTO, tensor_parallel_size=4, disable_custom_all_reduce=False, quantization=None, enforce_eager=False, kv_cache_dtype=auto, quantization_param_path=None, device_config=cuda, decoding_config=DecodingConfig(guided_decoding_backend='outlines'), seed=0, served_model_name=/data/models/qwen2.5/qwen2.5-14B-Instruct)\n",
      "INFO 12-04 17:30:03 utils.py:618] Found nccl from library libnccl.so.2\n",
      "INFO 12-04 17:30:03 pynccl.py:65] vLLM is using nccl==2.20.5\n",
      "\u001b[36m(RayWorkerWrapper pid=2344798)\u001b[0m INFO 12-04 17:30:03 utils.py:618] Found nccl from library libnccl.so.2\n",
      "\u001b[36m(RayWorkerWrapper pid=2344798)\u001b[0m INFO 12-04 17:30:03 pynccl.py:65] vLLM is using nccl==2.20.5\n",
      "WARNING 12-04 17:30:03 custom_all_reduce.py:158] Custom allreduce is disabled because it's not supported on more than two PCIe-only GPUs. To silence this warning, specify disable_custom_all_reduce=True explicitly.\n",
      "\u001b[36m(RayWorkerWrapper pid=2344798)\u001b[0m WARNING 12-04 17:30:03 custom_all_reduce.py:158] Custom allreduce is disabled because it's not supported on more than two PCIe-only GPUs. To silence this warning, specify disable_custom_all_reduce=True explicitly.\n",
      "INFO 12-04 17:30:06 model_runner.py:146] Loading model weights took 6.9459 GB\n",
      "\u001b[36m(RayWorkerWrapper pid=2344881)\u001b[0m INFO 12-04 17:30:07 model_runner.py:146] Loading model weights took 6.9459 GB\n",
      "INFO 12-04 17:30:16 distributed_gpu_executor.py:56] # GPU blocks: 40967, # CPU blocks: 5461\n",
      "INFO 12-04 17:30:20 model_runner.py:854] Capturing the model for CUDA graphs. This may lead to unexpected consequences if the model is not static. To run the model in eager mode, set 'enforce_eager=True' or use '--enforce-eager' in the CLI.\n",
      "INFO 12-04 17:30:20 model_runner.py:858] CUDA graphs can take additional 1~3 GiB memory per GPU. If you are running out of memory, consider decreasing `gpu_memory_utilization` or enforcing eager mode. You can also reduce the `max_num_seqs` as needed to decrease memory usage.\n",
      "\u001b[36m(RayWorkerWrapper pid=2344798)\u001b[0m INFO 12-04 17:30:21 model_runner.py:854] Capturing the model for CUDA graphs. This may lead to unexpected consequences if the model is not static. To run the model in eager mode, set 'enforce_eager=True' or use '--enforce-eager' in the CLI.\n",
      "\u001b[36m(RayWorkerWrapper pid=2344798)\u001b[0m INFO 12-04 17:30:21 model_runner.py:858] CUDA graphs can take additional 1~3 GiB memory per GPU. If you are running out of memory, consider decreasing `gpu_memory_utilization` or enforcing eager mode. You can also reduce the `max_num_seqs` as needed to decrease memory usage.\n",
      "\u001b[36m(RayWorkerWrapper pid=2345031)\u001b[0m INFO 12-04 17:30:03 utils.py:618] Found nccl from library libnccl.so.2\u001b[32m [repeated 2x across cluster] (Ray deduplicates logs by default. Set RAY_DEDUP_LOGS=0 to disable log deduplication, or see https://docs.ray.io/en/master/ray-observability/user-guides/configure-logging.html#log-deduplication for more options.)\u001b[0m\n",
      "\u001b[36m(RayWorkerWrapper pid=2345031)\u001b[0m INFO 12-04 17:30:03 pynccl.py:65] vLLM is using nccl==2.20.5\u001b[32m [repeated 2x across cluster]\u001b[0m\n",
      "\u001b[36m(RayWorkerWrapper pid=2345031)\u001b[0m WARNING 12-04 17:30:03 custom_all_reduce.py:158] Custom allreduce is disabled because it's not supported on more than two PCIe-only GPUs. To silence this warning, specify disable_custom_all_reduce=True explicitly.\u001b[32m [repeated 2x across cluster]\u001b[0m\n",
      "\u001b[36m(RayWorkerWrapper pid=2344798)\u001b[0m INFO 12-04 17:30:07 model_runner.py:146] Loading model weights took 6.9459 GB\u001b[32m [repeated 2x across cluster]\u001b[0m\n",
      "INFO 12-04 17:30:32 model_runner.py:924] Graph capturing finished in 12 secs.\n",
      "\u001b[36m(RayWorkerWrapper pid=2344798)\u001b[0m INFO 12-04 17:30:32 model_runner.py:924] Graph capturing finished in 11 secs.\n",
      "\u001b[36m(RayWorkerWrapper pid=2345031)\u001b[0m INFO 12-04 17:30:21 model_runner.py:854] Capturing the model for CUDA graphs. This may lead to unexpected consequences if the model is not static. To run the model in eager mode, set 'enforce_eager=True' or use '--enforce-eager' in the CLI.\u001b[32m [repeated 2x across cluster]\u001b[0m\n",
      "\u001b[36m(RayWorkerWrapper pid=2345031)\u001b[0m INFO 12-04 17:30:21 model_runner.py:858] CUDA graphs can take additional 1~3 GiB memory per GPU. If you are running out of memory, consider decreasing `gpu_memory_utilization` or enforcing eager mode. You can also reduce the `max_num_seqs` as needed to decrease memory usage.\u001b[32m [repeated 2x across cluster]\u001b[0m\n",
      "第0条数据\n"
     ]
    },
    {
     "name": "stderr",
     "output_type": "stream",
     "text": [
      "Processed prompts: 100%|██████████| 1/1 [00:01<00:00,  1.17s/it, Generation Speed: 55.60 toks/s]\n",
      "100%|██████████| 1/1 [00:01<00:00,  1.25s/it]\n"
     ]
    },
    {
     "name": "stdout",
     "output_type": "stream",
     "text": [
      "{'Reactants': ['benzene-1,2-diamine', 'hexanebis(peroxoic acid)', 'dodecanebis(peroxoic acid)'], 'Product': ['2- nitroaniline'], 'Yield': ['90 %', '92 %']}\n",
      "第1条数据\n"
     ]
    },
    {
     "name": "stderr",
     "output_type": "stream",
     "text": [
      "Processed prompts: 100%|██████████| 1/1 [00:00<00:00,  1.47it/s, Generation Speed: 50.11 toks/s]\n",
      "100%|██████████| 1/1 [00:00<00:00,  1.45it/s]\n"
     ]
    },
    {
     "name": "stdout",
     "output_type": "stream",
     "text": [
      "{'Product': [\"[PyH]+[2'cu4 @ -C1)4 @ ~ -Cl)]-\"], 'Reactants': ['2']}\n"
     ]
    },
    {
     "name": "stderr",
     "output_type": "stream",
     "text": [
      "Processed prompts: 100%|██████████| 1/1 [00:00<00:00,  2.20it/s, Generation Speed: 40.16 toks/s]\n",
      "100%|██████████| 1/1 [00:00<00:00,  2.16it/s]\n"
     ]
    },
    {
     "name": "stdout",
     "output_type": "stream",
     "text": [
      "{'Product': ['4'], 'Reactants': ['2', 'PyH']}\n"
     ]
    },
    {
     "name": "stderr",
     "output_type": "stream",
     "text": [
      "Processed prompts: 100%|██████████| 1/1 [00:00<00:00,  1.49it/s, Generation Speed: 50.81 toks/s]\n",
      "100%|██████████| 1/1 [00:00<00:00,  1.47it/s]\n"
     ]
    },
    {
     "name": "stdout",
     "output_type": "stream",
     "text": [
      "{'Product': ['[PyH]+[2.Ag4 @ -C1)4 @ 4- Cl)]-'], 'Reactants': ['2']}\n"
     ]
    },
    {
     "name": "stderr",
     "output_type": "stream",
     "text": [
      "Processed prompts: 100%|██████████| 1/1 [00:00<00:00,  1.71it/s, Generation Speed: 48.24 toks/s]\n",
      "100%|██████████| 1/1 [00:00<00:00,  1.69it/s]\n"
     ]
    },
    {
     "name": "stdout",
     "output_type": "stream",
     "text": [
      "{'Product': ['5'], 'Reactants': ['2', 'Ag4 @ -C1)4 @ - Cl)']}\n",
      "第2条数据\n"
     ]
    },
    {
     "name": "stderr",
     "output_type": "stream",
     "text": [
      "Processed prompts: 100%|██████████| 1/1 [00:01<00:00,  1.03s/it, Generation Speed: 50.63 toks/s]\n",
      "100%|██████████| 1/1 [00:01<00:00,  1.04s/it]\n"
     ]
    },
    {
     "name": "stdout",
     "output_type": "stream",
     "text": [
      "{'Reactants': ['TM-3', 'molecular oxygen'], 'Product': ['3-hydroperoxy-3,5,5-trimethyl-2-0 ~ 0- morpholin-4-yl']}\n"
     ]
    },
    {
     "name": "stderr",
     "output_type": "stream",
     "text": [
      "Processed prompts: 100%|██████████| 1/1 [00:01<00:00,  1.33s/it, Generation Speed: 57.35 toks/s]\n",
      "100%|██████████| 1/1 [00:01<00:00,  1.34s/it]\n"
     ]
    },
    {
     "name": "stdout",
     "output_type": "stream",
     "text": [
      "{'Reactants': ['(3,5,5-trimethyl-2-oxomorpholin-3-yl)peroxyl radical (l)', 'hydrogen atom bonded to nitrogen'], 'Product': ['3-hydroperoxy-3,5,5-trimethyl-2-oxo-morpholin-4-yl (3)']}\n",
      "第3条数据\n"
     ]
    },
    {
     "name": "stderr",
     "output_type": "stream",
     "text": [
      "Processed prompts: 100%|██████████| 1/1 [00:01<00:00,  1.05s/it, Generation Speed: 59.44 toks/s]\n",
      "100%|██████████| 1/1 [00:01<00:00,  1.06s/it]\n"
     ]
    },
    {
     "name": "stdout",
     "output_type": "stream",
     "text": [
      "{'Reactants': ['3,4,5,5-tetramethyl-2-oxomorpholine', 'di-tert-butyl peroxide'], 'Product': ['3-methylidene- 4,5,5-trimethyl-2-oxomorpholine']}\n"
     ]
    },
    {
     "name": "stderr",
     "output_type": "stream",
     "text": [
      "Processed prompts: 100%|██████████| 1/1 [00:00<00:00,  1.08it/s, Generation Speed: 55.09 toks/s]\n",
      "100%|██████████| 1/1 [00:00<00:00,  1.07it/s]\n"
     ]
    },
    {
     "name": "stdout",
     "output_type": "stream",
     "text": [
      "{'Reactants': ['3,4,5,5-tetramethyl-2-oxomorpholine', 'di-tert-butyl peroxide'], 'Product': ['7'], 'Catalyst_Reagents': ['light']}\n",
      "第4条数据\n"
     ]
    },
    {
     "name": "stderr",
     "output_type": "stream",
     "text": [
      "Processed prompts: 100%|██████████| 1/1 [00:01<00:00,  1.57s/it, Generation Speed: 70.23 toks/s]\n",
      "100%|██████████| 1/1 [00:01<00:00,  1.58s/it]\n"
     ]
    },
    {
     "name": "stdout",
     "output_type": "stream",
     "text": [
      "{'Reactants': ['1-bromo-2-chlorobenzene', '1-chloro-2-iodobenzene', '1,2-dibromobenzene', '1-bromo-2-iodobenzene', '1,2-dichlorobenzene', 'N-(5-chloro-2-mercaptophenyl)acetamide'], 'Product': ['2-chloro-10H-phenothiazine'], 'Yield': ['92 %']}\n",
      "第5条数据\n"
     ]
    },
    {
     "name": "stderr",
     "output_type": "stream",
     "text": [
      "Processed prompts: 100%|██████████| 1/1 [00:00<00:00,  1.51it/s, Generation Speed: 46.96 toks/s]\n",
      "100%|██████████| 1/1 [00:00<00:00,  1.49it/s]\n"
     ]
    },
    {
     "name": "stdout",
     "output_type": "stream",
     "text": [
      "{'Reactants': ['CO2'], 'Catalyst_Reagents': ['formate dehydrogenase'], 'Product': ['formate']}\n"
     ]
    },
    {
     "name": "stderr",
     "output_type": "stream",
     "text": [
      "Processed prompts: 100%|██████████| 1/1 [00:00<00:00,  1.35it/s, Generation Speed: 48.95 toks/s]\n",
      "100%|██████████| 1/1 [00:00<00:00,  1.34it/s]\n"
     ]
    },
    {
     "name": "stdout",
     "output_type": "stream",
     "text": [
      "{'Reactants': ['formate'], 'Catalyst_Reagents': ['a series of THF - dependent enzymes'], 'Product': ['CH3 - THF']}\n",
      "第6条数据\n"
     ]
    },
    {
     "name": "stderr",
     "output_type": "stream",
     "text": [
      "Processed prompts: 100%|██████████| 1/1 [00:01<00:00,  1.06s/it, Generation Speed: 59.89 toks/s]\n",
      "100%|██████████| 1/1 [00:01<00:00,  1.06s/it]\n"
     ]
    },
    {
     "name": "stdout",
     "output_type": "stream",
     "text": [
      "{'Reactants': ['4a', '3e', 'BF3-methanol'], 'Product': ['5e'], 'Solvent': ['dichloromethane'], 'Temperature': ['0 °C', 'room temperature'], 'Time': ['1 h', '45 min']}\n",
      "第7条数据\n"
     ]
    },
    {
     "name": "stderr",
     "output_type": "stream",
     "text": [
      "Processed prompts: 100%|██████████| 1/1 [00:01<00:00,  1.07s/it, Generation Speed: 59.11 toks/s]\n",
      "100%|██████████| 1/1 [00:01<00:00,  1.08s/it]\n"
     ]
    },
    {
     "name": "stdout",
     "output_type": "stream",
     "text": [
      "{'Product': ['5e'], 'Reactants': ['7e', 'chloranil'], 'Catalyst_Reagents': ['0.1 % aqueous FeCl3'], 'Solvent': ['CHCl3'], 'Yield': ['6 %'], 'Temperature': ['room temperature']}\n"
     ]
    },
    {
     "name": "stderr",
     "output_type": "stream",
     "text": [
      "Processed prompts: 100%|██████████| 1/1 [00:00<00:00,  1.02it/s, Generation Speed: 59.10 toks/s]\n",
      "100%|██████████| 1/1 [00:00<00:00,  1.01it/s]\n"
     ]
    },
    {
     "name": "stdout",
     "output_type": "stream",
     "text": [
      "{'Product': ['5f'], 'Reactants': ['7f'], 'Catalyst_Reagents': ['0.1 % aqueous FeCl3'], 'Solvent': ['CHCl3'], 'Yield': ['7 %'], 'Temperature': ['room temperature']}\n"
     ]
    },
    {
     "name": "stderr",
     "output_type": "stream",
     "text": [
      "Processed prompts: 100%|██████████| 1/1 [00:00<00:00,  1.07it/s, Generation Speed: 56.10 toks/s]\n",
      "100%|██████████| 1/1 [00:00<00:00,  1.06it/s]\n"
     ]
    },
    {
     "name": "stdout",
     "output_type": "stream",
     "text": [
      "{'Product': ['5g'], 'Reactants': ['7g'], 'Catalyst_Reagents': ['FeCl3'], 'Solvent': ['CHCl3'], 'Yield': ['5 %'], 'Temperature': ['room temperature']}\n"
     ]
    },
    {
     "name": "stderr",
     "output_type": "stream",
     "text": [
      "Processed prompts: 100%|██████████| 1/1 [00:00<00:00,  1.00it/s, Generation Speed: 58.26 toks/s]\n",
      "100%|██████████| 1/1 [00:01<00:00,  1.01s/it]\n"
     ]
    },
    {
     "name": "stdout",
     "output_type": "stream",
     "text": [
      "{'Product': ['5h'], 'Reactants': ['7h'], 'Catalyst_Reagents': ['0.1 % aqueous FeCl3'], 'Solvent': ['CHCl3'], 'Yield': ['4 %'], 'Temperature': ['room temperature']}\n",
      "第8条数据\n"
     ]
    },
    {
     "name": "stderr",
     "output_type": "stream",
     "text": [
      "Processed prompts: 100%|██████████| 1/1 [00:00<00:00,  1.31it/s, Generation Speed: 59.35 toks/s]\n",
      "100%|██████████| 1/1 [00:00<00:00,  1.30it/s]\n"
     ]
    },
    {
     "name": "stdout",
     "output_type": "stream",
     "text": [
      "{'Reactants': ['phenyl ring systems', 'C = C double bonds'], 'Product': ['Cp-CH(CH3)Cyl2ZrCI2'], 'Yield': ['almost quantitative']}\n",
      "第9条数据\n"
     ]
    },
    {
     "name": "stderr",
     "output_type": "stream",
     "text": [
      "Processed prompts: 100%|██████████| 1/1 [00:01<00:00,  1.24s/it, Generation Speed: 61.48 toks/s]\n",
      "100%|██████████| 1/1 [00:01<00:00,  1.25s/it]\n"
     ]
    },
    {
     "name": "stdout",
     "output_type": "stream",
     "text": [
      "{'Reactants': ['benzofuran dioxetane 2s', 'dimethyl or diphenyl sulfide'], 'Solvent': ['deutericchloroform'], 'Temperature': ['-30 O C'], 'Time': ['15 min'], 'Product': ['benzofuran epoxide']}\n"
     ]
    },
    {
     "name": "stderr",
     "output_type": "stream",
     "text": [
      "Processed prompts: 100%|██████████| 1/1 [00:01<00:00,  1.15s/it, Generation Speed: 60.07 toks/s]\n",
      "100%|██████████| 1/1 [00:01<00:00,  1.16s/it]\n"
     ]
    },
    {
     "name": "stdout",
     "output_type": "stream",
     "text": [
      "{'Reactants': ['benzofuran dioxetane 2s', 'dimethyl sulfide', 'diphenyl sulfide'], 'Solvent': ['deutericchloroform'], 'Temperature': ['-30 O C'], 'Time': ['15 min'], 'Product': ['3a']}\n"
     ]
    },
    {
     "name": "stderr",
     "output_type": "stream",
     "text": [
      "Processed prompts: 100%|██████████| 1/1 [00:01<00:00,  1.15s/it, Generation Speed: 59.18 toks/s]\n",
      "100%|██████████| 1/1 [00:01<00:00,  1.16s/it]\n"
     ]
    },
    {
     "name": "stdout",
     "output_type": "stream",
     "text": [
      "{'Reactants': ['diphenyl sulfide', 'benzofuran dioxetane 2s'], 'Solvent': ['deutericchloroform'], 'Product': ['diphenyl sulfoxide'], 'Temperature': ['-30 O C'], 'Time': ['15 min']}\n",
      "第10条数据\n"
     ]
    },
    {
     "name": "stderr",
     "output_type": "stream",
     "text": [
      "Processed prompts: 100%|██████████| 1/1 [00:00<00:00,  1.15it/s, Generation Speed: 56.44 toks/s]\n",
      "100%|██████████| 1/1 [00:00<00:00,  1.14it/s]\n"
     ]
    },
    {
     "name": "stdout",
     "output_type": "stream",
     "text": [
      "{'Reactants': ['Cyclooctatetraene', 'COT'], 'Product': ['benzene'], 'Catalyst_Reagents': ['Pd(111)'], 'Temperature': ['low']}\n"
     ]
    },
    {
     "name": "stderr",
     "output_type": "stream",
     "text": [
      "Processed prompts: 100%|██████████| 1/1 [00:00<00:00,  1.14it/s, Generation Speed: 57.30 toks/s]\n",
      "100%|██████████| 1/1 [00:00<00:00,  1.13it/s]\n"
     ]
    },
    {
     "name": "stdout",
     "output_type": "stream",
     "text": [
      "{'Reactants': ['Cyclooctatetraene', 'COT'], 'Product': ['benzene.'], 'Catalyst_Reagents': ['Pd(111)'], 'Temperature': ['low']}\n",
      "第11条数据\n"
     ]
    },
    {
     "name": "stderr",
     "output_type": "stream",
     "text": [
      "Processed prompts: 100%|██████████| 1/1 [00:00<00:00,  1.78it/s, Generation Speed: 46.47 toks/s]\n",
      "100%|██████████| 1/1 [00:00<00:00,  1.75it/s]\n"
     ]
    },
    {
     "name": "stdout",
     "output_type": "stream",
     "text": [
      "{'Catalyst_Reagents': ['4'], 'Reactants': ['1a'], 'Product': ['2a']}\n",
      "第12条数据\n"
     ]
    },
    {
     "name": "stderr",
     "output_type": "stream",
     "text": [
      "Processed prompts: 100%|██████████| 1/1 [00:00<00:00,  1.02it/s, Generation Speed: 53.08 toks/s]\n",
      "100%|██████████| 1/1 [00:00<00:00,  1.01it/s]\n"
     ]
    },
    {
     "name": "stdout",
     "output_type": "stream",
     "text": [
      "{'Reactants': ['thiophenol', 'phenylacetylene'], 'Product': ['phenylglyoxal hemithioacetal.'], 'Catalyst_Reagents': ['oxygen atmosphere']}\n",
      "第13条数据\n"
     ]
    },
    {
     "name": "stderr",
     "output_type": "stream",
     "text": [
      "Processed prompts: 100%|██████████| 1/1 [00:01<00:00,  1.81s/it, Generation Speed: 65.85 toks/s]\n",
      "100%|██████████| 1/1 [00:01<00:00,  1.82s/it]\n"
     ]
    },
    {
     "name": "stdout",
     "output_type": "stream",
     "text": [
      "{'Product': ['N-((methyloxycarbony1)- methyl)-3,6-diaminocarbazole.'], 'Reactants': ['3,6-dinitrocarbazole', 'BrCH2CO2Me'], 'Catalyst_Reagents': ['KzCO3', 'Pd/C'], 'Solvent': ['DMF', 'EtOH', 'HOAc'], 'Yield': ['99 %', '61 %'], 'Workup_reagents': ['H2']}\n",
      "第14条数据\n"
     ]
    },
    {
     "name": "stderr",
     "output_type": "stream",
     "text": [
      "Processed prompts: 100%|██████████| 1/1 [00:00<00:00,  1.75it/s, Generation Speed: 47.39 toks/s]\n",
      "100%|██████████| 1/1 [00:00<00:00,  1.72it/s]\n"
     ]
    },
    {
     "name": "stdout",
     "output_type": "stream",
     "text": [
      "{'Reactants': ['2-cy- clohexenone'], 'Product': ['2-cyclohexenol']}\n"
     ]
    },
    {
     "name": "stderr",
     "output_type": "stream",
     "text": [
      "Processed prompts: 100%|██████████| 1/1 [00:00<00:00,  1.65it/s, Generation Speed: 49.78 toks/s]\n",
      "100%|██████████| 1/1 [00:00<00:00,  1.63it/s]\n"
     ]
    },
    {
     "name": "stdout",
     "output_type": "stream",
     "text": [
      "{'Reactants': ['2-cyclohexenone ( 7a )'], 'Product': ['cyclohexanol.']}\n",
      "第15条数据\n"
     ]
    },
    {
     "name": "stderr",
     "output_type": "stream",
     "text": [
      "Processed prompts: 100%|██████████| 1/1 [00:00<00:00,  1.68it/s, Generation Speed: 55.69 toks/s]\n",
      "100%|██████████| 1/1 [00:00<00:00,  1.66it/s]\n"
     ]
    },
    {
     "name": "stdout",
     "output_type": "stream",
     "text": [
      "{'Reactants': ['1a', '2a'], 'Catalyst_Reagents': ['CsF'], 'Product': ['benzylamine']}\n"
     ]
    },
    {
     "name": "stderr",
     "output_type": "stream",
     "text": [
      "Processed prompts: 100%|██████████| 1/1 [00:00<00:00,  1.31it/s, Generation Speed: 60.55 toks/s]\n",
      "100%|██████████| 1/1 [00:00<00:00,  1.30it/s]\n"
     ]
    },
    {
     "name": "stdout",
     "output_type": "stream",
     "text": [
      "{'Reactants': ['1a', '2a'], 'Catalyst_Reagents': ['CsF'], 'Product': ['5'], 'Yield': ['predominantly'], 'Time': ['40']}\n"
     ]
    },
    {
     "name": "stderr",
     "output_type": "stream",
     "text": [
      "Processed prompts: 100%|██████████| 1/1 [00:00<00:00,  1.61it/s, Generation Speed: 53.49 toks/s]\n",
      "100%|██████████| 1/1 [00:00<00:00,  1.59it/s]\n"
     ]
    },
    {
     "name": "stdout",
     "output_type": "stream",
     "text": [
      "{'Reactants': ['1a', '2a', 'CsF'], 'Product': ['3a'], 'Yield': ['24 %']}\n",
      "第16条数据\n"
     ]
    },
    {
     "name": "stderr",
     "output_type": "stream",
     "text": [
      "Processed prompts: 100%|██████████| 1/1 [00:00<00:00,  1.36it/s, Generation Speed: 58.56 toks/s]\n",
      "100%|██████████| 1/1 [00:00<00:00,  1.34it/s]\n"
     ]
    },
    {
     "name": "stdout",
     "output_type": "stream",
     "text": [
      "{'Reactants': ['chloride', 'hydrogen peroxide'], 'Catalyst_Reagents': ['dioxovanadium(V)'], 'Product': ['chlorotrimethoxybenzene']}\n",
      "第17条数据\n"
     ]
    },
    {
     "name": "stderr",
     "output_type": "stream",
     "text": [
      "Processed prompts: 100%|██████████| 1/1 [00:00<00:00,  1.92it/s, Generation Speed: 54.11 toks/s]\n",
      "100%|██████████| 1/1 [00:00<00:00,  1.89it/s]\n"
     ]
    },
    {
     "name": "stdout",
     "output_type": "stream",
     "text": [
      "{'Reactants': ['diphenylketene'], 'Product': ['2'], 'Yield': ['61 %']}\n",
      "第18条数据\n"
     ]
    },
    {
     "name": "stderr",
     "output_type": "stream",
     "text": [
      "Processed prompts: 100%|██████████| 1/1 [00:00<00:00,  1.26it/s, Generation Speed: 51.97 toks/s]\n",
      "100%|██████████| 1/1 [00:00<00:00,  1.25it/s]\n"
     ]
    },
    {
     "name": "stdout",
     "output_type": "stream",
     "text": [
      "{'Reactants': ['naph-thacene', 'chloroacetyl chloride'], 'Catalyst_Reagents': ['AlCl3'], 'Product': ['acenaphthacenone']}\n"
     ]
    },
    {
     "name": "stderr",
     "output_type": "stream",
     "text": [
      "Processed prompts: 100%|██████████| 1/1 [00:00<00:00,  1.36it/s, Generation Speed: 50.51 toks/s]\n",
      "100%|██████████| 1/1 [00:00<00:00,  1.35it/s]\n"
     ]
    },
    {
     "name": "stdout",
     "output_type": "stream",
     "text": [
      "{'Reactants': ['naph-thacene', 'chloroacetyl chloride'], 'Catalyst_Reagents': ['AlCl3'], 'Product': ['6']}\n",
      "第19条数据\n"
     ]
    },
    {
     "name": "stderr",
     "output_type": "stream",
     "text": [
      "Processed prompts: 100%|██████████| 1/1 [00:00<00:00,  1.53it/s, Generation Speed: 52.23 toks/s]\n",
      "100%|██████████| 1/1 [00:00<00:00,  1.51it/s]\n"
     ]
    },
    {
     "name": "stdout",
     "output_type": "stream",
     "text": [
      "{'Reactants': ['6'], 'Catalyst_Reagents': ['TiCl4'], 'Solvent': ['ODCB'], 'Product': ['4']}\n",
      "第20条数据\n"
     ]
    },
    {
     "name": "stderr",
     "output_type": "stream",
     "text": [
      "Processed prompts: 100%|██████████| 1/1 [00:00<00:00,  1.29it/s, Generation Speed: 52.00 toks/s]\n",
      "100%|██████████| 1/1 [00:00<00:00,  1.28it/s]\n"
     ]
    },
    {
     "name": "stdout",
     "output_type": "stream",
     "text": [
      "{'Reactants': ['β-enamino ester'], 'Product': ['4aa'], 'Catalyst_Reagents': ['EDCI', 'KHCO3', 'HOAt']}\n",
      "第21条数据\n"
     ]
    },
    {
     "name": "stderr",
     "output_type": "stream",
     "text": [
      "Processed prompts: 100%|██████████| 1/1 [00:01<00:00,  1.35s/it, Generation Speed: 62.24 toks/s]\n",
      "100%|██████████| 1/1 [00:01<00:00,  1.36s/it]\n"
     ]
    },
    {
     "name": "stdout",
     "output_type": "stream",
     "text": [
      "{'Reactants': ['(Z)-1a'], 'Product': ['2aa'], 'Catalyst_Reagents': ['Pd (0.5 mol %)', 'PPh3 (2 mol %)', 'Pd2dba3'], 'Solvent': ['MeOH'], 'Temperature': ['25 °C'], 'Time': ['1 h']}\n",
      "第22条数据\n"
     ]
    },
    {
     "name": "stderr",
     "output_type": "stream",
     "text": [
      "Processed prompts: 100%|██████████| 1/1 [00:00<00:00,  1.92it/s, Generation Speed: 46.45 toks/s]\n",
      "100%|██████████| 1/1 [00:00<00:00,  1.89it/s]\n"
     ]
    },
    {
     "name": "stdout",
     "output_type": "stream",
     "text": [
      "{'Reactants': ['NHC catalyst', 'cinnamaldehydes'], 'Product': ['7']}\n"
     ]
    },
    {
     "name": "stderr",
     "output_type": "stream",
     "text": [
      "Processed prompts: 100%|██████████| 1/1 [00:00<00:00,  1.47it/s, Generation Speed: 54.56 toks/s]\n",
      "100%|██████████| 1/1 [00:00<00:00,  1.45it/s]\n"
     ]
    },
    {
     "name": "stdout",
     "output_type": "stream",
     "text": [
      "{'Reactants': ['NHC catalyst', 'cinnamaldehydes'], 'Catalyst_Reagents': ['oxidant 4'], 'Product': ['8']}\n",
      "第23条数据\n"
     ]
    },
    {
     "name": "stderr",
     "output_type": "stream",
     "text": [
      "Processed prompts: 100%|██████████| 1/1 [00:00<00:00,  1.88it/s, Generation Speed: 35.99 toks/s]\n",
      "100%|██████████| 1/1 [00:00<00:00,  1.85it/s]\n"
     ]
    },
    {
     "name": "stdout",
     "output_type": "stream",
     "text": [
      "{'Reactants': ['2', '8'], 'Product': ['10.']}\n",
      "第24条数据\n"
     ]
    },
    {
     "name": "stderr",
     "output_type": "stream",
     "text": [
      "Processed prompts: 100%|██████████| 1/1 [00:00<00:00,  2.02it/s, Generation Speed: 34.45 toks/s]\n",
      "100%|██████████| 1/1 [00:00<00:00,  1.99it/s]\n"
     ]
    },
    {
     "name": "stdout",
     "output_type": "stream",
     "text": [
      "{'Reactants': ['10'], 'Product': ['11.']}\n",
      "第25条数据\n"
     ]
    },
    {
     "name": "stderr",
     "output_type": "stream",
     "text": [
      "Processed prompts: 100%|██████████| 1/1 [00:00<00:00,  1.46it/s, Generation Speed: 47.06 toks/s]\n",
      "100%|██████████| 1/1 [00:00<00:00,  1.42it/s]\n"
     ]
    },
    {
     "name": "stdout",
     "output_type": "stream",
     "text": [
      "{'Reactants': ['10', 'NBS'], 'Catalyst_Reagents': ['AgNO3'], 'Product': ['31']}\n",
      "第26条数据\n"
     ]
    },
    {
     "name": "stderr",
     "output_type": "stream",
     "text": [
      "Processed prompts: 100%|██████████| 1/1 [00:00<00:00,  1.18it/s, Generation Speed: 54.26 toks/s]\n",
      "100%|██████████| 1/1 [00:00<00:00,  1.16it/s]\n"
     ]
    },
    {
     "name": "stdout",
     "output_type": "stream",
     "text": [
      "{'Reactants': ['5', 'HBFdEt20'], 'Product': ['Zpropynyl-2-fenchyl)Coz(CO)6+'], 'Solvent': ['ethereal']}\n"
     ]
    },
    {
     "name": "stderr",
     "output_type": "stream",
     "text": [
      "Processed prompts: 100%|██████████| 1/1 [00:00<00:00,  1.72it/s, Generation Speed: 52.00 toks/s]\n",
      "100%|██████████| 1/1 [00:00<00:00,  1.70it/s]\n"
     ]
    },
    {
     "name": "stdout",
     "output_type": "stream",
     "text": [
      "{'Product': ['6'], 'Reactants': ['5', 'HBFdEt20'], 'Solvent': ['ethereal']}\n",
      "第27条数据\n"
     ]
    },
    {
     "name": "stderr",
     "output_type": "stream",
     "text": [
      "Processed prompts: 100%|██████████| 1/1 [00:00<00:00,  2.10it/s, Generation Speed: 35.97 toks/s]\n",
      "100%|██████████| 1/1 [00:00<00:00,  2.06it/s]\n"
     ]
    },
    {
     "name": "stdout",
     "output_type": "stream",
     "text": [
      "{'Product': ['7a'], 'Yield': ['22 %']}\n"
     ]
    },
    {
     "name": "stderr",
     "output_type": "stream",
     "text": [
      "Processed prompts: 100%|██████████| 1/1 [00:00<00:00,  2.21it/s, Generation Speed: 35.56 toks/s]\n",
      "100%|██████████| 1/1 [00:00<00:00,  2.16it/s]\n"
     ]
    },
    {
     "name": "stdout",
     "output_type": "stream",
     "text": [
      "{'Product': ['7b'], 'Yield': ['8 %']}\n"
     ]
    },
    {
     "name": "stderr",
     "output_type": "stream",
     "text": [
      "Processed prompts: 100%|██████████| 1/1 [00:00<00:00,  2.80it/s, Generation Speed: 22.64 toks/s]\n",
      "100%|██████████| 1/1 [00:00<00:00,  2.74it/s]\n"
     ]
    },
    {
     "name": "stdout",
     "output_type": "stream",
     "text": [
      "{'Product': ['8a']}\n"
     ]
    },
    {
     "name": "stderr",
     "output_type": "stream",
     "text": [
      "Processed prompts: 100%|██████████| 1/1 [00:00<00:00,  2.80it/s, Generation Speed: 22.61 toks/s]\n",
      "100%|██████████| 1/1 [00:00<00:00,  2.74it/s]\n"
     ]
    },
    {
     "name": "stdout",
     "output_type": "stream",
     "text": [
      "{'Product': ['8b']}\n"
     ]
    },
    {
     "name": "stderr",
     "output_type": "stream",
     "text": [
      "Processed prompts: 100%|██████████| 1/1 [00:00<00:00,  1.56it/s, Generation Speed: 45.62 toks/s]\n",
      "100%|██████████| 1/1 [00:00<00:00,  1.54it/s]\n"
     ]
    },
    {
     "name": "stdout",
     "output_type": "stream",
     "text": [
      "{'Product': ['(propynylfenchol)Co2(C0)6'], 'Yield': ['23 %']}\n"
     ]
    },
    {
     "name": "stderr",
     "output_type": "stream",
     "text": [
      "Processed prompts: 100%|██████████| 1/1 [00:00<00:00,  2.08it/s, Generation Speed: 35.62 toks/s]\n",
      "100%|██████████| 1/1 [00:00<00:00,  2.04it/s]\n"
     ]
    },
    {
     "name": "stdout",
     "output_type": "stream",
     "text": [
      "{'Product': ['Sb'], 'Yield': ['23 %']}\n",
      "第28条数据\n"
     ]
    },
    {
     "name": "stderr",
     "output_type": "stream",
     "text": [
      "Processed prompts: 100%|██████████| 1/1 [00:00<00:00,  1.14it/s, Generation Speed: 51.47 toks/s]\n",
      "100%|██████████| 1/1 [00:00<00:00,  1.13it/s]\n"
     ]
    },
    {
     "name": "stdout",
     "output_type": "stream",
     "text": [
      "{'Product': ['l-propynyl- 2-methylene-7,7-dimethylbicyclo[2.2.1]heptane)Coz(C0)']}\n"
     ]
    },
    {
     "name": "stderr",
     "output_type": "stream",
     "text": [
      "Processed prompts: 100%|██████████| 1/1 [00:00<00:00,  1.23it/s, Generation Speed: 50.61 toks/s]\n",
      "100%|██████████| 1/1 [00:00<00:00,  1.22it/s]\n"
     ]
    },
    {
     "name": "stdout",
     "output_type": "stream",
     "text": [
      "{'Product': ['1 -propynyl-2,7,7-trimethylbicyclo[2.2.l]-2-heptene)Co2- (CO)6']}\n",
      "第29条数据\n"
     ]
    },
    {
     "name": "stderr",
     "output_type": "stream",
     "text": [
      "Processed prompts: 100%|██████████| 1/1 [00:00<00:00,  2.56it/s, Generation Speed: 43.94 toks/s]\n",
      "100%|██████████| 1/1 [00:00<00:00,  2.51it/s]\n"
     ]
    },
    {
     "name": "stdout",
     "output_type": "stream",
     "text": [
      "{'Product': ['8a'], 'Yield': ['very minor quantities']}\n"
     ]
    },
    {
     "name": "stderr",
     "output_type": "stream",
     "text": [
      "Processed prompts: 100%|██████████| 1/1 [00:00<00:00,  2.48it/s, Generation Speed: 42.60 toks/s]\n",
      "100%|██████████| 1/1 [00:00<00:00,  2.43it/s]\n"
     ]
    },
    {
     "name": "stdout",
     "output_type": "stream",
     "text": [
      "{'Product': ['8b'], 'Yield': ['very minor quantities']}\n",
      "第30条数据\n"
     ]
    },
    {
     "name": "stderr",
     "output_type": "stream",
     "text": [
      "Processed prompts: 100%|██████████| 1/1 [00:01<00:00,  1.22s/it, Generation Speed: 26.29 toks/s]\n",
      "100%|██████████| 1/1 [00:01<00:00,  1.23s/it]\n"
     ]
    },
    {
     "name": "stdout",
     "output_type": "stream",
     "text": [
      "{'Reactants': ['tetrol I b', 'trifluoroacetic acid'], 'Product': ['I b', 'free pymrine']}\n",
      "第31条数据\n"
     ]
    },
    {
     "name": "stderr",
     "output_type": "stream",
     "text": [
      "Processed prompts: 100%|██████████| 1/1 [00:00<00:00,  3.50it/s, Generation Speed: 35.40 toks/s]\n",
      "100%|██████████| 1/1 [00:00<00:00,  3.41it/s]\n"
     ]
    },
    {
     "name": "stdout",
     "output_type": "stream",
     "text": [
      "{'Product': ['3bCDCh']}\n"
     ]
    },
    {
     "name": "stderr",
     "output_type": "stream",
     "text": [
      "Processed prompts: 100%|██████████| 1/1 [00:00<00:00,  3.69it/s, Generation Speed: 33.66 toks/s]\n",
      "100%|██████████| 1/1 [00:00<00:00,  3.59it/s]\n"
     ]
    },
    {
     "name": "stdout",
     "output_type": "stream",
     "text": [
      "{'Product': ['Ib.']}\n",
      "第32条数据\n"
     ]
    },
    {
     "name": "stderr",
     "output_type": "stream",
     "text": [
      "Processed prompts: 100%|██████████| 1/1 [00:00<00:00,  1.11it/s, Generation Speed: 53.67 toks/s]\n",
      "100%|██████████| 1/1 [00:00<00:00,  1.10it/s]\n"
     ]
    },
    {
     "name": "stdout",
     "output_type": "stream",
     "text": [
      "{'Product': ['WBS'], 'Reactants': ['tetrol Ib', 'aqueous (n-Bu),N+HO-', 'pyrazine'], 'Solvent': ['9 : I CHCIKHIOH']}\n",
      "第33条数据\n"
     ]
    },
    {
     "name": "stderr",
     "output_type": "stream",
     "text": [
      "Processed prompts: 100%|██████████| 1/1 [00:00<00:00,  1.36it/s, Generation Speed: 57.83 toks/s]\n",
      "100%|██████████| 1/1 [00:00<00:00,  1.35it/s]\n"
     ]
    },
    {
     "name": "stdout",
     "output_type": "stream",
     "text": [
      "{'Reactants': [], 'Product': ['1-octanoic acid'], 'Yield': ['82 %'], 'Temperature': ['80 °C'], 'Time': ['6 h']}\n",
      "第34条数据\n"
     ]
    },
    {
     "name": "stderr",
     "output_type": "stream",
     "text": [
      "Processed prompts: 100%|██████████| 1/1 [00:00<00:00,  1.49it/s, Generation Speed: 47.98 toks/s]\n",
      "100%|██████████| 1/1 [00:00<00:00,  1.48it/s]\n"
     ]
    },
    {
     "name": "stdout",
     "output_type": "stream",
     "text": [
      "{'Reactants': ['42b'], 'Catalyst_Reagents': ['thexylborane'], 'Product': ['43a']}\n",
      "第35条数据\n"
     ]
    },
    {
     "name": "stderr",
     "output_type": "stream",
     "text": [
      "Processed prompts: 100%|██████████| 1/1 [00:00<00:00,  1.81it/s, Generation Speed: 36.87 toks/s]\n",
      "100%|██████████| 1/1 [00:00<00:00,  1.77it/s]\n"
     ]
    },
    {
     "name": "stdout",
     "output_type": "stream",
     "text": [
      "{'Reactants': ['2', 'KMn04'], 'Product': ['3']}\n",
      "第36条数据\n"
     ]
    },
    {
     "name": "stderr",
     "output_type": "stream",
     "text": [
      "Processed prompts: 100%|██████████| 1/1 [00:01<00:00,  1.35s/it, Generation Speed: 54.47 toks/s]\n",
      "100%|██████████| 1/1 [00:01<00:00,  1.36s/it]\n"
     ]
    },
    {
     "name": "stdout",
     "output_type": "stream",
     "text": [
      "{'Reactants': ['(4-tert-butyl-2,6-dimethylphenyl)mesitylketene 5'], 'Product': ['1,2-bis(4-tert-buty1-2,6-dimethylphenyl)- 1 ,Zdimesitylethene']}\n"
     ]
    },
    {
     "name": "stderr",
     "output_type": "stream",
     "text": [
      "Processed prompts: 100%|██████████| 1/1 [00:00<00:00,  1.26it/s, Generation Speed: 48.00 toks/s]\n",
      "100%|██████████| 1/1 [00:00<00:00,  1.25it/s]\n"
     ]
    },
    {
     "name": "stdout",
     "output_type": "stream",
     "text": [
      "{'Reactants': ['(4-tert-butyl-2,6-dimethylphenyl)mesitylketene', '5'], 'Product': ['4']}\n",
      "第37条数据\n"
     ]
    },
    {
     "name": "stderr",
     "output_type": "stream",
     "text": [
      "Processed prompts: 100%|██████████| 1/1 [00:01<00:00,  1.16s/it, Generation Speed: 46.88 toks/s]\n",
      "100%|██████████| 1/1 [00:01<00:00,  1.17s/it]\n"
     ]
    },
    {
     "name": "stdout",
     "output_type": "stream",
     "text": [
      "{'Reactants': ['2-methylfuran', '3-bromobenzyne'], 'Product': ['1,4-dihydro-1,4-epoxynaphthalenes'], 'Catalyst_Reagents': ['LDA']}\n"
     ]
    },
    {
     "name": "stderr",
     "output_type": "stream",
     "text": [
      "Processed prompts: 100%|██████████| 1/1 [00:00<00:00,  1.38it/s, Generation Speed: 37.54 toks/s]\n",
      "100%|██████████| 1/1 [00:00<00:00,  1.36it/s]\n"
     ]
    },
    {
     "name": "stdout",
     "output_type": "stream",
     "text": [
      "{'Reactants': ['2-methylfuran', '3-bromobenzyne'], 'Product': ['4']}\n"
     ]
    },
    {
     "name": "stderr",
     "output_type": "stream",
     "text": [
      "Processed prompts: 100%|██████████| 1/1 [00:01<00:00,  1.06s/it, Generation Speed: 50.96 toks/s]\n",
      "100%|██████████| 1/1 [00:01<00:00,  1.07s/it]\n"
     ]
    },
    {
     "name": "stdout",
     "output_type": "stream",
     "text": [
      "{'Reactants': ['2-methylfuran', '3-bromobenzyne', '1,3-dibromobenzene', 'lithium diisopropylamide', 'LDA'], 'Product': ['5.']}\n"
     ]
    },
    {
     "name": "stderr",
     "output_type": "stream",
     "text": [
      "Processed prompts: 100%|██████████| 1/1 [00:00<00:00,  1.27it/s, Generation Speed: 40.90 toks/s]\n",
      "100%|██████████| 1/1 [00:00<00:00,  1.26it/s]\n"
     ]
    },
    {
     "name": "stdout",
     "output_type": "stream",
     "text": [
      "{'Reactants': ['1,3-dibromobenzene', 'LDA'], 'Product': ['3-bromobenzyne']}\n"
     ]
    },
    {
     "name": "stderr",
     "output_type": "stream",
     "text": [
      "Processed prompts: 100%|██████████| 1/1 [00:00<00:00,  1.43it/s, Generation Speed: 37.30 toks/s]\n",
      "100%|██████████| 1/1 [00:00<00:00,  1.41it/s]\n"
     ]
    },
    {
     "name": "stdout",
     "output_type": "stream",
     "text": [
      "{'Reactants': ['1,3-dibromobenzene', 'LDA'], 'Product': ['3']}\n",
      "第38条数据\n"
     ]
    },
    {
     "name": "stderr",
     "output_type": "stream",
     "text": [
      "Processed prompts: 100%|██████████| 1/1 [00:01<00:00,  1.09s/it, Generation Speed: 56.31 toks/s]\n",
      "100%|██████████| 1/1 [00:01<00:00,  1.09s/it]\n"
     ]
    },
    {
     "name": "stdout",
     "output_type": "stream",
     "text": [
      "{'Product': ['3a'], 'Reactants': ['quinine - derived thiourea I'], 'Yield': ['moderate diastereoselec- tivity ( 5 : 1 dr )', 'high enantioselectivity ( 98 % ee )']}\n",
      "第39条数据\n"
     ]
    },
    {
     "name": "stderr",
     "output_type": "stream",
     "text": [
      "Processed prompts: 100%|██████████| 1/1 [00:00<00:00,  1.95it/s, Generation Speed: 45.10 toks/s]\n",
      "100%|██████████| 1/1 [00:00<00:00,  1.91it/s]\n"
     ]
    },
    {
     "name": "stdout",
     "output_type": "stream",
     "text": [
      "{'Reactants': ['cation radical 2', 'thiyl radical'], 'Product': ['3']}\n",
      "第40条数据\n"
     ]
    },
    {
     "name": "stderr",
     "output_type": "stream",
     "text": [
      "Processed prompts: 100%|██████████| 1/1 [00:00<00:00,  1.37it/s, Generation Speed: 51.00 toks/s]\n",
      "100%|██████████| 1/1 [00:00<00:00,  1.36it/s]\n"
     ]
    },
    {
     "name": "stdout",
     "output_type": "stream",
     "text": [
      "{'Reactants': ['CpFe(CO)zSiMe3', 'l a'], 'Product': ['2a'], 'Yield': ['21 %']}\n"
     ]
    },
    {
     "name": "stderr",
     "output_type": "stream",
     "text": [
      "Processed prompts: 100%|██████████| 1/1 [00:00<00:00,  1.33it/s, Generation Speed: 53.33 toks/s]\n",
      "100%|██████████| 1/1 [00:00<00:00,  1.31it/s]\n"
     ]
    },
    {
     "name": "stdout",
     "output_type": "stream",
     "text": [
      "{'Reactants': ['CpFe(CO)2SiMe3', 'lb,c'], 'Product': ['2b,c'], 'Yield': ['not an isolable quantity']}\n",
      "第41条数据\n"
     ]
    },
    {
     "name": "stderr",
     "output_type": "stream",
     "text": [
      "Processed prompts: 100%|██████████| 1/1 [00:00<00:00,  1.06it/s, Generation Speed: 55.24 toks/s]\n",
      "100%|██████████| 1/1 [00:00<00:00,  1.05it/s]\n"
     ]
    },
    {
     "name": "stdout",
     "output_type": "stream",
     "text": [
      "{'Product': ['3a'], 'Reactants': ['CpFe-(CO)2SiR2H', 'R = 2,4,6-C6H3-iPr3'], 'Yield': ['3.9 %']}\n"
     ]
    },
    {
     "name": "stderr",
     "output_type": "stream",
     "text": [
      "Processed prompts: 100%|██████████| 1/1 [00:00<00:00,  2.77it/s, Generation Speed: 22.35 toks/s]\n",
      "100%|██████████| 1/1 [00:00<00:00,  2.70it/s]\n"
     ]
    },
    {
     "name": "stdout",
     "output_type": "stream",
     "text": [
      "{'Product': ['3b']}\n",
      "第42条数据\n"
     ]
    },
    {
     "name": "stderr",
     "output_type": "stream",
     "text": [
      "Processed prompts: 100%|██████████| 1/1 [00:00<00:00,  1.19it/s, Generation Speed: 58.60 toks/s]\n",
      "100%|██████████| 1/1 [00:00<00:00,  1.18it/s]\n"
     ]
    },
    {
     "name": "stdout",
     "output_type": "stream",
     "text": [
      "{'Product': ['2-(2,4-dimethoxyphenyl)-p-benzoquinone'], 'Yield': ['8 %'], 'Reactants': ['1'], 'Catalyst_Reagents': ['CAN']}\n",
      "第43条数据\n"
     ]
    },
    {
     "name": "stderr",
     "output_type": "stream",
     "text": [
      "Processed prompts: 100%|██████████| 1/1 [00:01<00:00,  1.58s/it, Generation Speed: 31.70 toks/s]\n",
      "100%|██████████| 1/1 [00:01<00:00,  1.59s/it]\n"
     ]
    },
    {
     "name": "stdout",
     "output_type": "stream",
     "text": [
      "{'Reactants': ['styrene−yne 30'], 'Solvent': ['DCE'], 'Temperature': ['180 ° C'], 'Product': ['dihydronaphthalene']}\n"
     ]
    },
    {
     "name": "stderr",
     "output_type": "stream",
     "text": [
      "Processed prompts: 100%|██████████| 1/1 [00:01<00:00,  1.03s/it, Generation Speed: 45.87 toks/s]\n",
      "100%|██████████| 1/1 [00:01<00:00,  1.04s/it]\n"
     ]
    },
    {
     "name": "stdout",
     "output_type": "stream",
     "text": [
      "{'Reactants': ['styrene−yne 30'], 'Solvent': ['DCE'], 'Product': ['31b'], 'Temperature': ['180 ° C'], 'Time': ['2 min']}\n"
     ]
    },
    {
     "name": "stderr",
     "output_type": "stream",
     "text": [
      "Processed prompts: 100%|██████████| 1/1 [00:01<00:00,  1.01s/it, Generation Speed: 46.89 toks/s]\n",
      "100%|██████████| 1/1 [00:01<00:00,  1.02s/it]\n"
     ]
    },
    {
     "name": "stdout",
     "output_type": "stream",
     "text": [
      "{'Reactants': ['styrene−yne 30'], 'Solvent': ['DCE'], 'Temperature': ['180 ° C'], 'Product': ['naphthalene']}\n"
     ]
    },
    {
     "name": "stderr",
     "output_type": "stream",
     "text": [
      "Processed prompts: 100%|██████████| 1/1 [00:01<00:00,  1.09s/it, Generation Speed: 49.62 toks/s]\n",
      "100%|██████████| 1/1 [00:01<00:00,  1.11s/it]\n"
     ]
    },
    {
     "name": "stdout",
     "output_type": "stream",
     "text": [
      "{'Reactants': ['styrene−yne 30'], 'Solvent': ['DCE'], 'Temperature': ['180 ° C'], 'Product': ['31a'], 'Time': ['2 min']}\n",
      "第44条数据\n"
     ]
    },
    {
     "name": "stderr",
     "output_type": "stream",
     "text": [
      "Processed prompts: 100%|██████████| 1/1 [00:00<00:00,  2.30it/s, Generation Speed: 53.17 toks/s]\n",
      "100%|██████████| 1/1 [00:00<00:00,  2.26it/s]\n"
     ]
    },
    {
     "name": "stdout",
     "output_type": "stream",
     "text": [
      "{'Reactants': ['Deoxy-Mb', 'quinone'], 'Product': ['met-Mb']}\n",
      "第45条数据\n"
     ]
    },
    {
     "name": "stderr",
     "output_type": "stream",
     "text": [
      "Processed prompts: 100%|██████████| 1/1 [00:00<00:00,  2.99it/s, Generation Speed: 21.20 toks/s]\n",
      "100%|██████████| 1/1 [00:00<00:00,  2.92it/s]\n"
     ]
    },
    {
     "name": "stdout",
     "output_type": "stream",
     "text": [
      "{'Product': ['I']}\n",
      "第46条数据\n"
     ]
    },
    {
     "name": "stderr",
     "output_type": "stream",
     "text": [
      "Processed prompts: 100%|██████████| 1/1 [00:01<00:00,  1.16s/it, Generation Speed: 59.83 toks/s]\n",
      "100%|██████████| 1/1 [00:01<00:00,  1.17s/it]\n"
     ]
    },
    {
     "name": "stdout",
     "output_type": "stream",
     "text": [
      "{'Reactants': ['l-(diazomethyl)-8-methylnaphthalene', '2'], 'Product': ['acenaphthene', '3'], 'Intermediate': ['(8-methyl-I-naphthy1)carbene', '1,8-naphthoquinodimethane']}\n"
     ]
    },
    {
     "name": "stderr",
     "output_type": "stream",
     "text": [
      "Processed prompts: 100%|██████████| 1/1 [00:00<00:00,  1.51it/s, Generation Speed: 47.06 toks/s]\n",
      "100%|██████████| 1/1 [00:00<00:00,  1.49it/s]\n"
     ]
    },
    {
     "name": "stdout",
     "output_type": "stream",
     "text": [
      "{'Reactants': ['l-(diazomethyl)-8-methylnaphthalene', '2'], 'Product': ['3']}\n",
      "第47条数据\n"
     ]
    },
    {
     "name": "stderr",
     "output_type": "stream",
     "text": [
      "Processed prompts: 100%|██████████| 1/1 [00:00<00:00,  4.01it/s, Generation Speed: 28.56 toks/s]\n",
      "100%|██████████| 1/1 [00:00<00:00,  3.89it/s]\n"
     ]
    },
    {
     "name": "stdout",
     "output_type": "stream",
     "text": [
      "{'Product': ['3']}\n"
     ]
    },
    {
     "name": "stderr",
     "output_type": "stream",
     "text": [
      "Processed prompts: 100%|██████████| 1/1 [00:00<00:00,  4.12it/s, Generation Speed: 29.24 toks/s]\n",
      "100%|██████████| 1/1 [00:00<00:00,  3.99it/s]\n"
     ]
    },
    {
     "name": "stdout",
     "output_type": "stream",
     "text": [
      "{'Product': ['4']}\n",
      "第48条数据\n"
     ]
    },
    {
     "name": "stderr",
     "output_type": "stream",
     "text": [
      "Processed prompts: 100%|██████████| 1/1 [00:00<00:00,  1.92it/s, Generation Speed: 53.87 toks/s]\n",
      "100%|██████████| 1/1 [00:00<00:00,  1.89it/s]\n"
     ]
    },
    {
     "name": "stdout",
     "output_type": "stream",
     "text": [
      "{'Product': ['3a'], 'Reactants': ['4a', '5'], 'Yield': ['25 %']}\n",
      "第49条数据\n"
     ]
    },
    {
     "name": "stderr",
     "output_type": "stream",
     "text": [
      "Processed prompts: 100%|██████████| 1/1 [00:01<00:00,  1.05s/it, Generation Speed: 49.52 toks/s]\n",
      "100%|██████████| 1/1 [00:01<00:00,  1.06s/it]\n"
     ]
    },
    {
     "name": "stdout",
     "output_type": "stream",
     "text": [
      "{'Reactants': ['3b-e', '5'], 'Catalyst_Reagents': ['Rhz(OAc)4'], 'Product': ['4b-elo9l1'], 'Yield': ['50-62 %']}\n",
      "第50条数据\n"
     ]
    },
    {
     "name": "stderr",
     "output_type": "stream",
     "text": [
      "Processed prompts: 100%|██████████| 1/1 [00:00<00:00,  2.72it/s, Generation Speed: 49.35 toks/s]\n",
      "100%|██████████| 1/1 [00:00<00:00,  2.66it/s]\n"
     ]
    },
    {
     "name": "stdout",
     "output_type": "stream",
     "text": [
      "{'Reactants': ['4a'], 'Product': ['4c-e.']}\n",
      "第51条数据\n"
     ]
    },
    {
     "name": "stderr",
     "output_type": "stream",
     "text": [
      "Processed prompts: 100%|██████████| 1/1 [00:00<00:00,  1.14it/s, Generation Speed: 63.87 toks/s]\n",
      "100%|██████████| 1/1 [00:00<00:00,  1.13it/s]\n"
     ]
    },
    {
     "name": "stdout",
     "output_type": "stream",
     "text": [
      "{'Reactants': ['enamide 5'], 'Catalyst_Reagents': ['catalyst la', 'catalyst lb'], 'Solvent': ['MeOH'], 'Temperature': ['40 °C'], 'Product': ['(R)-6']}\n",
      "第52条数据\n"
     ]
    },
    {
     "name": "stderr",
     "output_type": "stream",
     "text": [
      "Processed prompts: 100%|██████████| 1/1 [00:00<00:00,  1.66it/s, Generation Speed: 50.13 toks/s]\n",
      "100%|██████████| 1/1 [00:00<00:00,  1.64it/s]\n"
     ]
    },
    {
     "name": "stdout",
     "output_type": "stream",
     "text": [
      "{'Product': ['(R)-6'], 'Yield': ['84.7 % ee', '88.4 % ee']}\n",
      "第53条数据\n"
     ]
    },
    {
     "name": "stderr",
     "output_type": "stream",
     "text": [
      "Processed prompts: 100%|██████████| 1/1 [00:00<00:00,  1.26it/s, Generation Speed: 51.90 toks/s]\n",
      "100%|██████████| 1/1 [00:00<00:00,  1.25it/s]\n"
     ]
    },
    {
     "name": "stdout",
     "output_type": "stream",
     "text": [
      "{'Reactants': ['enamide', '7'], 'Product': ['8'], 'Catalyst_Reagents': ['l a'], 'Solvent': ['supercritical C02']}\n",
      "第54条数据\n"
     ]
    },
    {
     "name": "stderr",
     "output_type": "stream",
     "text": [
      "Processed prompts: 100%|██████████| 1/1 [00:00<00:00,  1.58it/s, Generation Speed: 55.62 toks/s]\n",
      "100%|██████████| 1/1 [00:00<00:00,  1.56it/s]\n"
     ]
    },
    {
     "name": "stdout",
     "output_type": "stream",
     "text": [
      "{'Reactants': ['DPD dioxetane'], 'Temperature': ['60 OC'], 'Time': ['2 h'], 'Product': ['EGDB']}\n",
      "第55条数据\n"
     ]
    },
    {
     "name": "stderr",
     "output_type": "stream",
     "text": [
      "Processed prompts: 100%|██████████| 1/1 [00:00<00:00,  2.35it/s, Generation Speed: 47.37 toks/s]\n",
      "100%|██████████| 1/1 [00:00<00:00,  2.30it/s]\n"
     ]
    },
    {
     "name": "stdout",
     "output_type": "stream",
     "text": [
      "{'Product': ['2,3-diphenyl-l,4dioxene oxide']}\n",
      "第56条数据\n"
     ]
    },
    {
     "name": "stderr",
     "output_type": "stream",
     "text": [
      "Processed prompts: 100%|██████████| 1/1 [00:00<00:00,  1.07it/s, Generation Speed: 53.82 toks/s]\n",
      "100%|██████████| 1/1 [00:00<00:00,  1.06it/s]\n"
     ]
    },
    {
     "name": "stdout",
     "output_type": "stream",
     "text": [
      "{'Reactants': ['1', '2', 'Br2'], 'Product': ['3'], 'Solvent': ['1,Zdichlorcethane'], 'Temperature': ['25 O C']}\n"
     ]
    },
    {
     "name": "stderr",
     "output_type": "stream",
     "text": [
      "Processed prompts: 100%|██████████| 1/1 [00:00<00:00,  1.13it/s, Generation Speed: 52.17 toks/s]\n",
      "100%|██████████| 1/1 [00:00<00:00,  1.12it/s]"
     ]
    },
    {
     "name": "stdout",
     "output_type": "stream",
     "text": [
      "{'Reactants': ['free Br2', 'cis olefins', '1,Zdichlorcethane'], 'Product': ['4'], 'Temperature': ['25 O C']}\n",
      "TP, FP, FN 243 119 140\n",
      "NER:  precision, recall 0.6712707182320442 0.6344647519582245\n",
      "NER:  f1_score 0.6523489932885905\n"
     ]
    },
    {
     "name": "stderr",
     "output_type": "stream",
     "text": [
      "\n"
     ]
    }
   ],
   "source": [
    "import os\n",
    "\n",
    "from evaluate import *\n",
    "from llm_re import *\n",
    "\n",
    "def main():\n",
    "    train_data,test_data=get_data()\n",
    "    prev_data=chem_re(train_data,test_data)\n",
    "    Reaction_f1(test_data,prev_data)\n",
    "\n",
    "main()"
   ]
  },
  {
   "cell_type": "code",
   "execution_count": null,
   "metadata": {},
   "outputs": [
    {
     "name": "stderr",
     "output_type": "stream",
     "text": [
      "/data/lizh/Conda/anaconda3/envs/vllm/lib/python3.9/site-packages/tqdm/auto.py:21: TqdmWarning: IProgress not found. Please update jupyter and ipywidgets. See https://ipywidgets.readthedocs.io/en/stable/user_install.html\n",
      "  from .autonotebook import tqdm as notebook_tqdm\n",
      "2024-12-02 19:14:09,635\tINFO util.py:154 -- Missing packages: ['ipywidgets']. Run `pip install -U ipywidgets`, then restart the notebook server for rich notebook output.\n",
      "2024-12-02 19:14:13,697\tINFO worker.py:1771 -- Started a local Ray instance.\n"
     ]
    },
    {
     "name": "stdout",
     "output_type": "stream",
     "text": [
      "INFO 12-02 19:14:15 llm_engine.py:161] Initializing an LLM engine (v0.4.3) with config: model='/data/models/llama3/Meta-Llama-3-70B-Instruct', speculative_config=None, tokenizer='/data/models/llama3/Meta-Llama-3-70B-Instruct', skip_tokenizer_init=False, tokenizer_mode=auto, revision=None, rope_scaling=None, tokenizer_revision=None, trust_remote_code=False, dtype=torch.bfloat16, max_seq_len=8192, download_dir=None, load_format=LoadFormat.AUTO, tensor_parallel_size=4, disable_custom_all_reduce=False, quantization=None, enforce_eager=False, kv_cache_dtype=auto, quantization_param_path=None, device_config=cuda, decoding_config=DecodingConfig(guided_decoding_backend='outlines'), seed=0, served_model_name=/data/models/llama3/Meta-Llama-3-70B-Instruct)\n",
      "INFO 12-02 19:14:34 utils.py:618] Found nccl from library libnccl.so.2\n",
      "INFO 12-02 19:14:34 pynccl.py:65] vLLM is using nccl==2.20.5\n",
      "\u001b[36m(RayWorkerWrapper pid=937116)\u001b[0m INFO 12-02 19:14:34 utils.py:618] Found nccl from library libnccl.so.2\n",
      "\u001b[36m(RayWorkerWrapper pid=937116)\u001b[0m INFO 12-02 19:14:34 pynccl.py:65] vLLM is using nccl==2.20.5\n",
      "WARNING 12-02 19:14:36 custom_all_reduce.py:158] Custom allreduce is disabled because it's not supported on more than two PCIe-only GPUs. To silence this warning, specify disable_custom_all_reduce=True explicitly.\n",
      "\u001b[36m(RayWorkerWrapper pid=937116)\u001b[0m WARNING 12-02 19:14:36 custom_all_reduce.py:158] Custom allreduce is disabled because it's not supported on more than two PCIe-only GPUs. To silence this warning, specify disable_custom_all_reduce=True explicitly.\n",
      "INFO 12-02 19:15:25 model_runner.py:146] Loading model weights took 32.8599 GB\n",
      "\u001b[36m(RayWorkerWrapper pid=937280)\u001b[0m INFO 12-02 19:15:25 model_runner.py:146] Loading model weights took 32.8599 GB\n",
      "\u001b[36m(RayWorkerWrapper pid=937362)\u001b[0m INFO 12-02 19:14:34 utils.py:618] Found nccl from library libnccl.so.2\u001b[32m [repeated 2x across cluster] (Ray deduplicates logs by default. Set RAY_DEDUP_LOGS=0 to disable log deduplication, or see https://docs.ray.io/en/master/ray-observability/user-guides/configure-logging.html#log-deduplication for more options.)\u001b[0m\n",
      "\u001b[36m(RayWorkerWrapper pid=937362)\u001b[0m INFO 12-02 19:14:34 pynccl.py:65] vLLM is using nccl==2.20.5\u001b[32m [repeated 2x across cluster]\u001b[0m\n",
      "\u001b[36m(RayWorkerWrapper pid=937362)\u001b[0m WARNING 12-02 19:14:36 custom_all_reduce.py:158] Custom allreduce is disabled because it's not supported on more than two PCIe-only GPUs. To silence this warning, specify disable_custom_all_reduce=True explicitly.\u001b[32m [repeated 2x across cluster]\u001b[0m\n",
      "INFO 12-02 19:15:50 distributed_gpu_executor.py:56] # GPU blocks: 3487, # CPU blocks: 3276\n",
      "INFO 12-02 19:16:00 model_runner.py:854] Capturing the model for CUDA graphs. This may lead to unexpected consequences if the model is not static. To run the model in eager mode, set 'enforce_eager=True' or use '--enforce-eager' in the CLI.\n",
      "INFO 12-02 19:16:00 model_runner.py:858] CUDA graphs can take additional 1~3 GiB memory per GPU. If you are running out of memory, consider decreasing `gpu_memory_utilization` or enforcing eager mode. You can also reduce the `max_num_seqs` as needed to decrease memory usage.\n",
      "\u001b[36m(RayWorkerWrapper pid=937362)\u001b[0m INFO 12-02 19:16:03 model_runner.py:854] Capturing the model for CUDA graphs. This may lead to unexpected consequences if the model is not static. To run the model in eager mode, set 'enforce_eager=True' or use '--enforce-eager' in the CLI.\n",
      "\u001b[36m(RayWorkerWrapper pid=937362)\u001b[0m INFO 12-02 19:16:03 model_runner.py:858] CUDA graphs can take additional 1~3 GiB memory per GPU. If you are running out of memory, consider decreasing `gpu_memory_utilization` or enforcing eager mode. You can also reduce the `max_num_seqs` as needed to decrease memory usage.\n",
      "\u001b[36m(RayWorkerWrapper pid=937362)\u001b[0m INFO 12-02 19:15:29 model_runner.py:146] Loading model weights took 32.8599 GB\u001b[32m [repeated 2x across cluster]\u001b[0m\n",
      "INFO 12-02 19:17:25 model_runner.py:924] Graph capturing finished in 84 secs.\n",
      "第0条数据\n",
      "\u001b[36m(RayWorkerWrapper pid=937116)\u001b[0m INFO 12-02 19:17:25 model_runner.py:924] Graph capturing finished in 82 secs.\n",
      "\u001b[36m(RayWorkerWrapper pid=937280)\u001b[0m INFO 12-02 19:16:03 model_runner.py:854] Capturing the model for CUDA graphs. This may lead to unexpected consequences if the model is not static. To run the model in eager mode, set 'enforce_eager=True' or use '--enforce-eager' in the CLI.\u001b[32m [repeated 2x across cluster]\u001b[0m\n",
      "\u001b[36m(RayWorkerWrapper pid=937280)\u001b[0m INFO 12-02 19:16:03 model_runner.py:858] CUDA graphs can take additional 1~3 GiB memory per GPU. If you are running out of memory, consider decreasing `gpu_memory_utilization` or enforcing eager mode. You can also reduce the `max_num_seqs` as needed to decrease memory usage.\u001b[32m [repeated 2x across cluster]\u001b[0m\n"
     ]
    },
    {
     "name": "stderr",
     "output_type": "stream",
     "text": [
      "Processed prompts: 100%|██████████| 1/1 [00:19<00:00, 19.83s/it, Generation Speed: 3.18 toks/s]\n",
      "100%|██████████| 1/1 [00:19<00:00, 19.89s/it]\n"
     ]
    },
    {
     "name": "stdout",
     "output_type": "stream",
     "text": [
      "{'Reactants': ['benzene-1,2-diamine', 'hexanebis(peroxoic acid)', 'dodecanebis(peroxoic acid)'], 'Product': ['2- nitroaniline'], 'Yield': ['90 %', '92 %']}\n",
      "第1条数据\n"
     ]
    },
    {
     "name": "stderr",
     "output_type": "stream",
     "text": [
      "Processed prompts: 100%|██████████| 1/1 [00:10<00:00, 10.67s/it, Generation Speed: 3.19 toks/s]\n",
      "100%|██████████| 1/1 [00:10<00:00, 10.68s/it]\n"
     ]
    },
    {
     "name": "stdout",
     "output_type": "stream",
     "text": [
      "{'Product': [\"[PyH]+[2'cu4 @ -C1)4 @ ~ -Cl)]-\"], 'Reactants': ['2']}\n"
     ]
    },
    {
     "name": "stderr",
     "output_type": "stream",
     "text": [
      "Processed prompts: 100%|██████████| 1/1 [00:08<00:00,  8.77s/it, Generation Speed: 3.76 toks/s]\n",
      "100%|██████████| 1/1 [00:08<00:00,  8.78s/it]\n"
     ]
    },
    {
     "name": "stdout",
     "output_type": "stream",
     "text": [
      "{'Product': ['4'], 'Reactants': ['2', 'PyH', '[Cu4 @ -C1)4 @ ~ -Cl)']}\n"
     ]
    },
    {
     "name": "stderr",
     "output_type": "stream",
     "text": [
      "Processed prompts: 100%|██████████| 1/1 [00:10<00:00, 10.90s/it, Generation Speed: 3.12 toks/s]\n",
      "100%|██████████| 1/1 [00:10<00:00, 10.91s/it]\n"
     ]
    },
    {
     "name": "stdout",
     "output_type": "stream",
     "text": [
      "{'Product': ['[PyH]+[2.Ag4 @ -C1)4 @ 4- Cl)]-'], 'Reactants': ['2']}\n"
     ]
    },
    {
     "name": "stderr",
     "output_type": "stream",
     "text": [
      "Processed prompts: 100%|██████████| 1/1 [00:06<00:00,  6.94s/it, Generation Speed: 3.60 toks/s]\n",
      "100%|██████████| 1/1 [00:06<00:00,  6.95s/it]\n"
     ]
    },
    {
     "name": "stdout",
     "output_type": "stream",
     "text": [
      "{'Product': ['5'], 'Reactants': ['2', 'PyH', 'Ag4', 'Cl']}\n",
      "第2条数据\n"
     ]
    },
    {
     "name": "stderr",
     "output_type": "stream",
     "text": [
      "Processed prompts: 100%|██████████| 1/1 [00:14<00:00, 14.63s/it, Generation Speed: 3.28 toks/s]\n",
      "100%|██████████| 1/1 [00:14<00:00, 14.65s/it]\n"
     ]
    },
    {
     "name": "stdout",
     "output_type": "stream",
     "text": [
      "{'Reactants': ['TM-3', 'molecular oxygen'], 'Product': ['3-hydroperoxy-3,5,5-trimethyl-2-0 ~ 0- morpholin-4-yl']}\n"
     ]
    },
    {
     "name": "stderr",
     "output_type": "stream",
     "text": [
      "Processed prompts: 100%|██████████| 1/1 [00:08<00:00,  8.05s/it, Generation Speed: 2.61 toks/s]\n",
      "100%|██████████| 1/1 [00:08<00:00,  8.06s/it]\n"
     ]
    },
    {
     "name": "stdout",
     "output_type": "stream",
     "text": [
      "{'Reactants': ['TM-3', 'molecular oxygen'], 'Product': ['3']}\n",
      "第3条数据\n"
     ]
    },
    {
     "name": "stderr",
     "output_type": "stream",
     "text": [
      "Processed prompts: 100%|██████████| 1/1 [00:15<00:00, 15.99s/it, Generation Speed: 3.88 toks/s]\n",
      "100%|██████████| 1/1 [00:15<00:00, 16.00s/it]\n"
     ]
    },
    {
     "name": "stdout",
     "output_type": "stream",
     "text": [
      "{'Reactants': ['3,4,5,5-tetramethyl-2-oxomorpholine', 'di-tert-butyl peroxide'], 'Product': ['3-methylidene- 4,5,5-trimethyl-2-oxomorpholine']}\n"
     ]
    },
    {
     "name": "stderr",
     "output_type": "stream",
     "text": [
      "Processed prompts: 100%|██████████| 1/1 [00:12<00:00, 12.58s/it, Generation Speed: 3.26 toks/s]\n",
      "100%|██████████| 1/1 [00:12<00:00, 12.59s/it]\n"
     ]
    },
    {
     "name": "stdout",
     "output_type": "stream",
     "text": [
      "{'Reactants': ['3,4,5,5-tetramethyl-2-oxomorpholine', 'di-tert-butyl peroxide'], 'Product': ['7']}\n",
      "第4条数据\n"
     ]
    },
    {
     "name": "stderr",
     "output_type": "stream",
     "text": [
      "Processed prompts: 100%|██████████| 1/1 [00:29<00:00, 29.82s/it, Generation Speed: 3.62 toks/s]\n",
      "100%|██████████| 1/1 [00:29<00:00, 29.83s/it]\n"
     ]
    },
    {
     "name": "stdout",
     "output_type": "stream",
     "text": [
      "{'Reactants': ['1-bromo-2-chlorobenzene', '1-chloro-2-iodobenzene', '1,2-dibromobenzene', '1-bromo-2-iodobenzene', '1,2-dichlorobenzene', 'N-(5-chloro-2-mercaptophenyl)acetamide'], 'Product': ['2-chloro-10H-phenothiazine'], 'Yield': ['92 %']}\n",
      "第5条数据\n"
     ]
    },
    {
     "name": "stderr",
     "output_type": "stream",
     "text": [
      "Processed prompts: 100%|██████████| 1/1 [00:10<00:00, 10.43s/it, Generation Speed: 2.97 toks/s]\n",
      "100%|██████████| 1/1 [00:10<00:00, 10.44s/it]\n"
     ]
    },
    {
     "name": "stdout",
     "output_type": "stream",
     "text": [
      "{'Reactants': ['C02'], 'Catalyst_Reagents': ['formate dehydrogenase'], 'Product': ['formate']}\n"
     ]
    },
    {
     "name": "stderr",
     "output_type": "stream",
     "text": [
      "Processed prompts: 100%|██████████| 1/1 [00:14<00:00, 14.34s/it, Generation Speed: 3.14 toks/s]\n",
      "100%|██████████| 1/1 [00:14<00:00, 14.34s/it]\n"
     ]
    },
    {
     "name": "stdout",
     "output_type": "stream",
     "text": [
      "{'Reactants': ['C02', 'formate'], 'Catalyst_Reagents': ['formate dehydrogenase', 'THF - dependent enzymes'], 'Product': ['CH3 - THF']}\n",
      "第6条数据\n"
     ]
    },
    {
     "name": "stderr",
     "output_type": "stream",
     "text": [
      "Processed prompts: 100%|██████████| 1/1 [00:17<00:00, 17.17s/it, Generation Speed: 3.84 toks/s]\n",
      "100%|██████████| 1/1 [00:17<00:00, 17.18s/it]\n"
     ]
    },
    {
     "name": "stdout",
     "output_type": "stream",
     "text": [
      "{'Reactants': ['4a', '3e'], 'Catalyst_Reagents': ['BF3'], 'Solvent': ['dichloromethane', 'methanol'], 'Product': ['5e'], 'Temperature': ['0 ° C'], 'Time': ['1 h', '45 min']}\n",
      "第7条数据\n"
     ]
    },
    {
     "name": "stderr",
     "output_type": "stream",
     "text": [
      "Processed prompts: 100%|██████████| 1/1 [00:15<00:00, 15.57s/it, Generation Speed: 3.34 toks/s]\n",
      "100%|██████████| 1/1 [00:15<00:00, 15.58s/it]\n"
     ]
    },
    {
     "name": "stdout",
     "output_type": "stream",
     "text": [
      "{'Product': ['5e'], 'Reactants': ['7e'], 'Catalyst_Reagents': ['chloranil'], 'Solvent': ['CHCl3'], 'Yield': ['6 %'], 'Temperature': ['room temperature']}\n"
     ]
    },
    {
     "name": "stderr",
     "output_type": "stream",
     "text": [
      "Processed prompts: 100%|██████████| 1/1 [00:14<00:00, 14.41s/it, Generation Speed: 3.61 toks/s]\n",
      "100%|██████████| 1/1 [00:14<00:00, 14.42s/it]\n"
     ]
    },
    {
     "name": "stdout",
     "output_type": "stream",
     "text": [
      "{'Product': ['5f'], 'Reactants': ['7f'], 'Catalyst_Reagents': ['chloranil'], 'Solvent': ['CHCl3'], 'Yield': ['7 %'], 'Temperature': ['room temperature']}\n"
     ]
    },
    {
     "name": "stderr",
     "output_type": "stream",
     "text": [
      "Processed prompts: 100%|██████████| 1/1 [00:16<00:00, 16.56s/it, Generation Speed: 3.14 toks/s]\n",
      "100%|██████████| 1/1 [00:16<00:00, 16.57s/it]\n"
     ]
    },
    {
     "name": "stdout",
     "output_type": "stream",
     "text": [
      "{'Product': ['5g'], 'Reactants': ['7g'], 'Catalyst_Reagents': ['FeCl3'], 'Solvent': ['CHCl3'], 'Yield': ['5 %'], 'Temperature': ['room temperature']}\n"
     ]
    },
    {
     "name": "stderr",
     "output_type": "stream",
     "text": [
      "Processed prompts: 100%|██████████| 1/1 [00:16<00:00, 16.10s/it, Generation Speed: 3.23 toks/s]\n",
      "100%|██████████| 1/1 [00:16<00:00, 16.11s/it]\n"
     ]
    },
    {
     "name": "stdout",
     "output_type": "stream",
     "text": [
      "{'Product': ['5h'], 'Reactants': ['7h'], 'Catalyst_Reagents': ['FeCl3'], 'Solvent': ['CHCl3'], 'Yield': ['4 %'], 'Temperature': ['room temperature']}\n",
      "第8条数据\n"
     ]
    },
    {
     "name": "stderr",
     "output_type": "stream",
     "text": [
      "Processed prompts: 100%|██████████| 1/1 [00:10<00:00, 10.67s/it, Generation Speed: 3.19 toks/s]\n",
      "100%|██████████| 1/1 [00:10<00:00, 10.68s/it]\n"
     ]
    },
    {
     "name": "stdout",
     "output_type": "stream",
     "text": [
      "{'Reactants': [], 'Product': ['Cp-CH(CH3)Cyl2ZrCI2'], 'Yield': ['almost quantitative yield']}\n",
      "第9条数据\n"
     ]
    },
    {
     "name": "stderr",
     "output_type": "stream",
     "text": [
      "Processed prompts: 100%|██████████| 1/1 [00:18<00:00, 18.82s/it, Generation Speed: 3.88 toks/s]\n",
      "100%|██████████| 1/1 [00:18<00:00, 18.83s/it]\n"
     ]
    },
    {
     "name": "stdout",
     "output_type": "stream",
     "text": [
      "{'Reactants': ['benzofuran dioxetane 2s', 'dimethyl sulfide', 'diphenyl sulfide'], 'Solvent': ['deutericchloroform'], 'Temperature': ['-30 O C'], 'Time': ['15 min'], 'Product': ['benzofuran epoxide 3a']}\n"
     ]
    },
    {
     "name": "stderr",
     "output_type": "stream",
     "text": [
      "Processed prompts: 100%|██████████| 1/1 [00:17<00:00, 17.12s/it, Generation Speed: 3.39 toks/s]\n",
      "100%|██████████| 1/1 [00:17<00:00, 17.13s/it]\n"
     ]
    },
    {
     "name": "stdout",
     "output_type": "stream",
     "text": [
      "{'Reactants': ['benzofuran dioxetane 2s', 'dimethyl sulfide'], 'Solvent': ['deutericchloroform'], 'Temperature': ['-30 O C'], 'Time': ['15 min'], 'Product': ['3a']}\n"
     ]
    },
    {
     "name": "stderr",
     "output_type": "stream",
     "text": [
      "Processed prompts: 100%|██████████| 1/1 [00:20<00:00, 20.10s/it, Generation Speed: 3.23 toks/s]\n",
      "100%|██████████| 1/1 [00:20<00:00, 20.11s/it]\n"
     ]
    },
    {
     "name": "stdout",
     "output_type": "stream",
     "text": [
      "{'Reactants': ['benzofuran dioxetane 2s', 'diphenyl sulfide'], 'Solvent': ['deutericchloroform'], 'Temperature': ['-30 O C'], 'Time': ['15 min'], 'Product': ['diphenyl sulfoxide']}\n",
      "第10条数据\n"
     ]
    },
    {
     "name": "stderr",
     "output_type": "stream",
     "text": [
      "Processed prompts: 100%|██████████| 1/1 [00:12<00:00, 12.99s/it, Generation Speed: 3.77 toks/s]\n",
      "100%|██████████| 1/1 [00:12<00:00, 13.00s/it]\n"
     ]
    },
    {
     "name": "stdout",
     "output_type": "stream",
     "text": [
      "{'Reactants': ['Cyclooctatetraene', 'COT'], 'Product': ['benzene'], 'Catalyst_Reagents': ['Pd(11 1)'], 'Temperature': ['low']}\n"
     ]
    },
    {
     "name": "stderr",
     "output_type": "stream",
     "text": [
      "Processed prompts: 100%|██████████| 1/1 [00:15<00:00, 15.78s/it, Generation Speed: 3.11 toks/s]\n",
      "100%|██████████| 1/1 [00:15<00:00, 15.79s/it]\n"
     ]
    },
    {
     "name": "stdout",
     "output_type": "stream",
     "text": [
      "{'Reactants': ['Cyclooctatetraene', 'COT'], 'Product': ['benzene'], 'Catalyst_Reagents': ['Pd(11 1)'], 'Temperature': ['low']}\n",
      "第11条数据\n"
     ]
    },
    {
     "name": "stderr",
     "output_type": "stream",
     "text": [
      "Processed prompts: 100%|██████████| 1/1 [00:07<00:00,  7.24s/it, Generation Speed: 3.59 toks/s]\n",
      "100%|██████████| 1/1 [00:07<00:00,  7.25s/it]\n"
     ]
    },
    {
     "name": "stdout",
     "output_type": "stream",
     "text": [
      "{'Reactants': ['1a'], 'Catalyst_Reagents': ['4'], 'Product': ['2a']}\n",
      "第12条数据\n"
     ]
    },
    {
     "name": "stderr",
     "output_type": "stream",
     "text": [
      "Processed prompts: 100%|██████████| 1/1 [00:11<00:00, 11.97s/it, Generation Speed: 2.92 toks/s]\n",
      "100%|██████████| 1/1 [00:11<00:00, 11.98s/it]\n"
     ]
    },
    {
     "name": "stdout",
     "output_type": "stream",
     "text": [
      "{'Reactants': ['thiophenol', 'phenylacetylene'], 'Product': ['phenylglyoxal hemithioacetal.']}\n",
      "第13条数据\n"
     ]
    },
    {
     "name": "stderr",
     "output_type": "stream",
     "text": [
      "Processed prompts: 100%|██████████| 1/1 [00:24<00:00, 24.49s/it, Generation Speed: 3.68 toks/s]\n",
      "100%|██████████| 1/1 [00:24<00:00, 24.50s/it]\n"
     ]
    },
    {
     "name": "stdout",
     "output_type": "stream",
     "text": [
      "{'Reactants': ['3,6-dinitrocarbazole'], 'Product': ['N-((methyloxycarbony1)- methyl)-3,6-diaminocarbazole'], 'Catalyst_Reagents': ['KzCO3', 'Pd/C'], 'Solvent': ['DMF', 'EtOH', 'HOAc'], 'Yield': ['99 %', '61 %']}\n",
      "第14条数据\n"
     ]
    },
    {
     "name": "stderr",
     "output_type": "stream",
     "text": [
      "Processed prompts: 100%|██████████| 1/1 [00:08<00:00,  8.66s/it, Generation Speed: 3.47 toks/s]\n",
      "100%|██████████| 1/1 [00:08<00:00,  8.67s/it]\n"
     ]
    },
    {
     "name": "stdout",
     "output_type": "stream",
     "text": [
      "{'Reactants': ['2-cyclohexenone (7a)'], 'Product': ['2-cyclohexenol']}\n"
     ]
    },
    {
     "name": "stderr",
     "output_type": "stream",
     "text": [
      "Processed prompts: 100%|██████████| 1/1 [00:09<00:00,  9.24s/it, Generation Speed: 3.14 toks/s]\n",
      "100%|██████████| 1/1 [00:09<00:00,  9.25s/it]\n"
     ]
    },
    {
     "name": "stdout",
     "output_type": "stream",
     "text": [
      "{'Reactants': ['2-cy-clohexenone (7a)'], 'Product': ['cyclohexanol']}\n",
      "第15条数据\n"
     ]
    },
    {
     "name": "stderr",
     "output_type": "stream",
     "text": [
      "Processed prompts: 100%|██████████| 1/1 [00:11<00:00, 11.36s/it, Generation Speed: 3.96 toks/s]\n",
      "100%|██████████| 1/1 [00:11<00:00, 11.37s/it]\n"
     ]
    },
    {
     "name": "stdout",
     "output_type": "stream",
     "text": [
      "{'Reactants': ['1a', '2a'], 'Catalyst_Reagents': ['CsF'], 'Product': ['benzylamine', '3a'], 'Yield': ['24 %']}\n"
     ]
    },
    {
     "name": "stderr",
     "output_type": "stream",
     "text": [
      "Processed prompts: 100%|██████████| 1/1 [00:12<00:00, 12.90s/it, Generation Speed: 3.26 toks/s]\n",
      "100%|██████████| 1/1 [00:12<00:00, 12.91s/it]\n"
     ]
    },
    {
     "name": "stdout",
     "output_type": "stream",
     "text": [
      "{'Reactants': ['1a', '2a'], 'Catalyst_Reagents': ['CsF'], 'Product': ['5', '3a'], 'Yield': ['24 %']}\n"
     ]
    },
    {
     "name": "stderr",
     "output_type": "stream",
     "text": [
      "Processed prompts: 100%|██████████| 1/1 [00:11<00:00, 11.98s/it, Generation Speed: 3.26 toks/s]\n",
      "100%|██████████| 1/1 [00:11<00:00, 11.99s/it]\n"
     ]
    },
    {
     "name": "stdout",
     "output_type": "stream",
     "text": [
      "{'Reactants': ['1a', '2a'], 'Catalyst_Reagents': ['CsF'], 'Product': ['3a'], 'Yield': ['24 %']}\n",
      "第16条数据\n"
     ]
    },
    {
     "name": "stderr",
     "output_type": "stream",
     "text": [
      "Processed prompts: 100%|██████████| 1/1 [00:11<00:00, 11.61s/it, Generation Speed: 3.71 toks/s]\n",
      "100%|██████████| 1/1 [00:11<00:00, 11.62s/it]\n"
     ]
    },
    {
     "name": "stdout",
     "output_type": "stream",
     "text": [
      "{'Reactants': ['chloride', 'hydrogen peroxide'], 'Catalyst_Reagents': ['dioxovanadium(V)'], 'Product': ['chlorotrimethoxybenzene']}\n",
      "第17条数据\n"
     ]
    },
    {
     "name": "stderr",
     "output_type": "stream",
     "text": [
      "Processed prompts: 100%|██████████| 1/1 [00:07<00:00,  7.54s/it, Generation Speed: 3.58 toks/s]\n",
      "100%|██████████| 1/1 [00:07<00:00,  7.55s/it]\n"
     ]
    },
    {
     "name": "stdout",
     "output_type": "stream",
     "text": [
      "{'Reactants': ['diphenylketene'], 'Product': ['2'], 'Yield': ['61 %']}\n",
      "第18条数据\n"
     ]
    },
    {
     "name": "stderr",
     "output_type": "stream",
     "text": [
      "Processed prompts: 100%|██████████| 1/1 [00:13<00:00, 13.10s/it, Generation Speed: 3.21 toks/s]\n",
      "100%|██████████| 1/1 [00:13<00:00, 13.11s/it]\n"
     ]
    },
    {
     "name": "stdout",
     "output_type": "stream",
     "text": [
      "{'Reactants': ['naph- thacene', 'chloroacetyl chloride'], 'Catalyst_Reagents': ['AlCl3'], 'Product': ['acenaphthacenone']}\n"
     ]
    },
    {
     "name": "stderr",
     "output_type": "stream",
     "text": [
      "Processed prompts: 100%|██████████| 1/1 [00:12<00:00, 12.85s/it, Generation Speed: 2.96 toks/s]\n",
      "100%|██████████| 1/1 [00:12<00:00, 12.86s/it]\n"
     ]
    },
    {
     "name": "stdout",
     "output_type": "stream",
     "text": [
      "{'Reactants': ['naph- thacene', 'chloroacetyl chloride'], 'Catalyst_Reagents': ['AlCl3'], 'Product': ['6']}\n",
      "第19条数据\n"
     ]
    },
    {
     "name": "stderr",
     "output_type": "stream",
     "text": [
      "Processed prompts: 100%|██████████| 1/1 [00:12<00:00, 12.70s/it, Generation Speed: 3.46 toks/s]\n",
      "100%|██████████| 1/1 [00:12<00:00, 12.71s/it]\n"
     ]
    },
    {
     "name": "stdout",
     "output_type": "stream",
     "text": [
      "{'Reactants': ['6'], 'Catalyst_Reagents': ['TiCl4'], 'Solvent': ['ODCB'], 'Temperature': ['reﬂuxing'], 'Product': ['4']}\n",
      "第20条数据\n"
     ]
    },
    {
     "name": "stderr",
     "output_type": "stream",
     "text": [
      "Processed prompts: 100%|██████████| 1/1 [00:11<00:00, 11.17s/it, Generation Speed: 2.96 toks/s]\n",
      "100%|██████████| 1/1 [00:11<00:00, 11.18s/it]\n"
     ]
    },
    {
     "name": "stdout",
     "output_type": "stream",
     "text": [
      "{'Reactants': [], 'Product': ['4aa'], 'Catalyst_Reagents': ['EDCI', 'KHCO3', 'HOAt']}\n",
      "第21条数据\n"
     ]
    },
    {
     "name": "stderr",
     "output_type": "stream",
     "text": [
      "Processed prompts: 100%|██████████| 1/1 [00:19<00:00, 19.93s/it, Generation Speed: 3.26 toks/s]\n",
      "100%|██████████| 1/1 [00:19<00:00, 19.94s/it]\n"
     ]
    },
    {
     "name": "stdout",
     "output_type": "stream",
     "text": [
      "{'Reactants': ['(Z)-1a'], 'Product': ['2aa'], 'Catalyst_Reagents': ['Pd', 'PPh3', 'Pd2dba3'], 'Solvent': ['MeOH'], 'Temperature': ['25 ° C'], 'Time': ['1 h']}\n",
      "第22条数据\n"
     ]
    },
    {
     "name": "stderr",
     "output_type": "stream",
     "text": [
      "Processed prompts: 100%|██████████| 1/1 [00:07<00:00,  7.97s/it, Generation Speed: 3.26 toks/s]\n",
      "100%|██████████| 1/1 [00:07<00:00,  7.99s/it]\n"
     ]
    },
    {
     "name": "stdout",
     "output_type": "stream",
     "text": [
      "{'Reactants': ['NHC catalyst', 'cinnamaldehydes 1'], 'Product': ['7']}\n"
     ]
    },
    {
     "name": "stderr",
     "output_type": "stream",
     "text": [
      "Processed prompts: 100%|██████████| 1/1 [00:08<00:00,  8.66s/it, Generation Speed: 3.35 toks/s]\n",
      "100%|██████████| 1/1 [00:08<00:00,  8.67s/it]\n"
     ]
    },
    {
     "name": "stdout",
     "output_type": "stream",
     "text": [
      "{'Reactants': ['cinnamaldehydes 1', 'NHC catalyst', '4'], 'Product': ['8']}\n",
      "第23条数据\n"
     ]
    },
    {
     "name": "stderr",
     "output_type": "stream",
     "text": [
      "Processed prompts: 100%|██████████| 1/1 [00:09<00:00,  9.87s/it, Generation Speed: 3.04 toks/s]\n",
      "100%|██████████| 1/1 [00:09<00:00,  9.87s/it]\n"
     ]
    },
    {
     "name": "stdout",
     "output_type": "stream",
     "text": [
      "{'Reactants': ['2', 'α,β-unsaturated acylazolium salts 8'], 'Product': ['10']}\n",
      "第24条数据\n"
     ]
    },
    {
     "name": "stderr",
     "output_type": "stream",
     "text": [
      "Processed prompts: 100%|██████████| 1/1 [00:06<00:00,  6.61s/it, Generation Speed: 2.12 toks/s]\n",
      "100%|██████████| 1/1 [00:06<00:00,  6.62s/it]\n"
     ]
    },
    {
     "name": "stdout",
     "output_type": "stream",
     "text": [
      "{'Reactants': ['10'], 'Product': ['11']}\n",
      "第25条数据\n"
     ]
    },
    {
     "name": "stderr",
     "output_type": "stream",
     "text": [
      "Processed prompts: 100%|██████████| 1/1 [00:09<00:00,  9.43s/it, Generation Speed: 3.71 toks/s]\n",
      "100%|██████████| 1/1 [00:09<00:00,  9.44s/it]\n"
     ]
    },
    {
     "name": "stdout",
     "output_type": "stream",
     "text": [
      "{'Reactants': ['30', 'AgNO3', 'NBS'], 'Product': ['31'], 'Catalyst_Reagents': ['AgNO3']}\n",
      "第26条数据\n"
     ]
    },
    {
     "name": "stderr",
     "output_type": "stream",
     "text": [
      "Processed prompts: 100%|██████████| 1/1 [00:11<00:00, 11.50s/it, Generation Speed: 3.31 toks/s]\n",
      "100%|██████████| 1/1 [00:11<00:00, 11.51s/it]\n"
     ]
    },
    {
     "name": "stdout",
     "output_type": "stream",
     "text": [
      "{'Product': ['(Z-propynyl-2-fenchyl)Coz(CO)6]+'], 'Reactants': ['5', 'HBFdEt20']}\n"
     ]
    },
    {
     "name": "stderr",
     "output_type": "stream",
     "text": [
      "Processed prompts: 100%|██████████| 1/1 [00:07<00:00,  7.24s/it, Generation Speed: 2.90 toks/s]\n",
      "100%|██████████| 1/1 [00:07<00:00,  7.25s/it]\n"
     ]
    },
    {
     "name": "stdout",
     "output_type": "stream",
     "text": [
      "{'Product': ['6'], 'Reactants': ['5', 'HBFdEt20']}\n",
      "第27条数据\n"
     ]
    },
    {
     "name": "stderr",
     "output_type": "stream",
     "text": [
      "Processed prompts: 100%|██████████| 1/1 [00:07<00:00,  7.20s/it, Generation Speed: 2.22 toks/s]\n",
      "100%|██████████| 1/1 [00:07<00:00,  7.21s/it]\n"
     ]
    },
    {
     "name": "stdout",
     "output_type": "stream",
     "text": [
      "{'Product': ['7a'], 'Yield': ['22 %']}\n"
     ]
    },
    {
     "name": "stderr",
     "output_type": "stream",
     "text": [
      "Processed prompts: 100%|██████████| 1/1 [00:06<00:00,  6.85s/it, Generation Speed: 2.34 toks/s]\n",
      "100%|██████████| 1/1 [00:06<00:00,  6.87s/it]\n"
     ]
    },
    {
     "name": "stdout",
     "output_type": "stream",
     "text": [
      "{'Yield': ['8 %'], 'Product': ['7b']}\n"
     ]
    },
    {
     "name": "stderr",
     "output_type": "stream",
     "text": [
      "Processed prompts: 100%|██████████| 1/1 [00:06<00:00,  6.61s/it, Generation Speed: 2.88 toks/s]\n",
      "100%|██████████| 1/1 [00:06<00:00,  6.61s/it]\n"
     ]
    },
    {
     "name": "stdout",
     "output_type": "stream",
     "text": [
      "{'Reactants': [], 'Product': ['8a'], 'Yield': []}\n"
     ]
    },
    {
     "name": "stderr",
     "output_type": "stream",
     "text": [
      "Processed prompts: 100%|██████████| 1/1 [00:07<00:00,  7.19s/it, Generation Speed: 2.92 toks/s]\n",
      "100%|██████████| 1/1 [00:07<00:00,  7.19s/it]\n"
     ]
    },
    {
     "name": "stdout",
     "output_type": "stream",
     "text": [
      "{'Reactants': [], 'Product': ['8b'], 'Yield': ['traces']}\n"
     ]
    },
    {
     "name": "stderr",
     "output_type": "stream",
     "text": [
      "Processed prompts: 100%|██████████| 1/1 [00:08<00:00,  8.07s/it, Generation Speed: 3.47 toks/s]\n",
      "100%|██████████| 1/1 [00:08<00:00,  8.08s/it]\n"
     ]
    },
    {
     "name": "stdout",
     "output_type": "stream",
     "text": [
      "{'Product': ['(propynylfenchol)Co2(C0)6'], 'Yield': ['23 %']}\n"
     ]
    },
    {
     "name": "stderr",
     "output_type": "stream",
     "text": [
      "Processed prompts: 100%|██████████| 1/1 [00:07<00:00,  7.47s/it, Generation Speed: 2.14 toks/s]\n",
      "100%|██████████| 1/1 [00:07<00:00,  7.48s/it]\n"
     ]
    },
    {
     "name": "stdout",
     "output_type": "stream",
     "text": [
      "{'Product': ['Sb'], 'Yield': ['23 %']}\n",
      "第28条数据\n"
     ]
    },
    {
     "name": "stderr",
     "output_type": "stream",
     "text": [
      "Processed prompts: 100%|██████████| 1/1 [00:17<00:00, 17.52s/it, Generation Speed: 2.86 toks/s]\n",
      "100%|██████████| 1/1 [00:17<00:00, 17.52s/it]\n"
     ]
    },
    {
     "name": "stdout",
     "output_type": "stream",
     "text": [
      "{'Reactants': ['7a'], 'Product': ['(l-propynyl- 2-methylene-7,7-dimethylbicyclo[2.2.1]heptane)Coz(C0)']}\n"
     ]
    },
    {
     "name": "stderr",
     "output_type": "stream",
     "text": [
      "Processed prompts: 100%|██████████| 1/1 [00:16<00:00, 16.48s/it, Generation Speed: 3.09 toks/s]\n",
      "100%|██████████| 1/1 [00:16<00:00, 16.49s/it]\n"
     ]
    },
    {
     "name": "stdout",
     "output_type": "stream",
     "text": [
      "{'Reactants': ['7b'], 'Product': ['( 1 -propynyl-2,7,7-trimethylbicyclo[2.2.l]-2-heptene)Co2- (CO)6']}\n",
      "第29条数据\n"
     ]
    },
    {
     "name": "stderr",
     "output_type": "stream",
     "text": [
      "Processed prompts: 100%|██████████| 1/1 [00:05<00:00,  5.71s/it, Generation Speed: 2.80 toks/s]\n",
      "100%|██████████| 1/1 [00:05<00:00,  5.72s/it]\n"
     ]
    },
    {
     "name": "stdout",
     "output_type": "stream",
     "text": [
      "{'Product': ['8a'], 'Yield': ['very minor']}\n"
     ]
    },
    {
     "name": "stderr",
     "output_type": "stream",
     "text": [
      "Processed prompts: 100%|██████████| 1/1 [00:05<00:00,  5.47s/it, Generation Speed: 3.11 toks/s]\n",
      "100%|██████████| 1/1 [00:05<00:00,  5.48s/it]\n"
     ]
    },
    {
     "name": "stdout",
     "output_type": "stream",
     "text": [
      "{'Yield': ['very minor quantities'], 'Product': ['8b']}\n",
      "第30条数据\n"
     ]
    },
    {
     "name": "stderr",
     "output_type": "stream",
     "text": [
      "Processed prompts: 100%|██████████| 1/1 [00:10<00:00, 10.13s/it, Generation Speed: 2.47 toks/s]\n",
      "100%|██████████| 1/1 [00:10<00:00, 10.14s/it]\n"
     ]
    },
    {
     "name": "stdout",
     "output_type": "stream",
     "text": [
      "{'Reactants': ['tetrol', 'trifluoroacetic acid'], 'Product': ['I b']}\n",
      "第31条数据\n"
     ]
    },
    {
     "name": "stderr",
     "output_type": "stream",
     "text": [
      "Processed prompts: 100%|██████████| 1/1 [00:05<00:00,  5.47s/it, Generation Speed: 3.47 toks/s]\n",
      "100%|██████████| 1/1 [00:05<00:00,  5.48s/it]\n"
     ]
    },
    {
     "name": "stdout",
     "output_type": "stream",
     "text": [
      "{'Reactants': ['tetrol Ib'], 'Product': ['3bCDCh']}\n"
     ]
    },
    {
     "name": "stderr",
     "output_type": "stream",
     "text": [
      "Processed prompts: 100%|██████████| 1/1 [00:05<00:00,  5.72s/it, Generation Speed: 3.33 toks/s]\n",
      "100%|██████████| 1/1 [00:05<00:00,  5.72s/it]\n"
     ]
    },
    {
     "name": "stdout",
     "output_type": "stream",
     "text": [
      "{'Reactants': ['3bCDCh'], 'Product': ['Ib.']}\n",
      "第32条数据\n"
     ]
    },
    {
     "name": "stderr",
     "output_type": "stream",
     "text": [
      "Processed prompts: 100%|██████████| 1/1 [00:12<00:00, 12.93s/it, Generation Speed: 3.25 toks/s]\n",
      "100%|██████████| 1/1 [00:12<00:00, 12.94s/it]\n"
     ]
    },
    {
     "name": "stdout",
     "output_type": "stream",
     "text": [
      "{'Product': ['WBS'], 'Reactants': ['tetrol Ib', '(n-Bu),N+HO-', 'pyrazine'], 'Solvent': ['CHCIKHIOH']}\n",
      "第33条数据\n"
     ]
    },
    {
     "name": "stderr",
     "output_type": "stream",
     "text": [
      "Processed prompts: 100%|██████████| 1/1 [00:10<00:00, 10.64s/it, Generation Speed: 3.20 toks/s]\n",
      "100%|██████████| 1/1 [00:10<00:00, 10.65s/it]\n"
     ]
    },
    {
     "name": "stdout",
     "output_type": "stream",
     "text": [
      "{'Product': ['1-octanoic acid'], 'Temperature': ['80 C'], 'Time': ['6 h'], 'Yield': ['82 %']}\n",
      "第34条数据\n"
     ]
    },
    {
     "name": "stderr",
     "output_type": "stream",
     "text": [
      "Processed prompts: 100%|██████████| 1/1 [00:05<00:00,  5.14s/it, Generation Speed: 3.12 toks/s]\n",
      "100%|██████████| 1/1 [00:05<00:00,  5.14s/it]\n"
     ]
    },
    {
     "name": "stdout",
     "output_type": "stream",
     "text": [
      "{'Reactants': ['42b'], 'Product': ['43a']}\n",
      "第35条数据\n"
     ]
    },
    {
     "name": "stderr",
     "output_type": "stream",
     "text": [
      "Processed prompts: 100%|██████████| 1/1 [00:08<00:00,  8.27s/it, Generation Speed: 3.14 toks/s]\n",
      "100%|██████████| 1/1 [00:08<00:00,  8.28s/it]\n"
     ]
    },
    {
     "name": "stdout",
     "output_type": "stream",
     "text": [
      "{'Reactants': ['2'], 'Catalyst_Reagents': ['KMn04'], 'Product': ['3']}\n",
      "第36条数据\n"
     ]
    },
    {
     "name": "stderr",
     "output_type": "stream",
     "text": [
      "Processed prompts: 100%|██████████| 1/1 [00:16<00:00, 16.09s/it, Generation Speed: 4.16 toks/s]\n",
      "100%|██████████| 1/1 [00:16<00:00, 16.10s/it]\n"
     ]
    },
    {
     "name": "stdout",
     "output_type": "stream",
     "text": [
      "{'Reactants': ['(4-tert-butyl-2,6-dimethylphenyl)mesitylketene'], 'Product': ['1,2-bis(4-tert-buty1-2,6-dimethylphenyl)- 1 ,Zdimesitylethene']}\n"
     ]
    },
    {
     "name": "stderr",
     "output_type": "stream",
     "text": [
      "Processed prompts: 100%|██████████| 1/1 [00:12<00:00, 12.01s/it, Generation Speed: 2.91 toks/s]\n",
      "100%|██████████| 1/1 [00:12<00:00, 12.02s/it]\n"
     ]
    },
    {
     "name": "stdout",
     "output_type": "stream",
     "text": [
      "{'Reactants': ['(4-tert-butyl-2,6-dimethylphenyl)mesitylketene'], 'Product': ['4']}\n",
      "第37条数据\n"
     ]
    },
    {
     "name": "stderr",
     "output_type": "stream",
     "text": [
      "Processed prompts: 100%|██████████| 1/1 [00:18<00:00, 18.03s/it, Generation Speed: 3.83 toks/s]\n",
      "100%|██████████| 1/1 [00:18<00:00, 18.04s/it]\n"
     ]
    },
    {
     "name": "stdout",
     "output_type": "stream",
     "text": [
      "{'Reactants': ['2-methylfuran', '3-bromobenzyne', '1,3-dibromobenzene', 'lithium diisopropylamide', 'LDA'], 'Product': ['1,4-dihydro-1,4-epoxynaphthalenes']}\n"
     ]
    },
    {
     "name": "stderr",
     "output_type": "stream",
     "text": [
      "Processed prompts: 100%|██████████| 1/1 [00:16<00:00, 16.22s/it, Generation Speed: 3.27 toks/s]\n",
      "100%|██████████| 1/1 [00:16<00:00, 16.23s/it]\n"
     ]
    },
    {
     "name": "stdout",
     "output_type": "stream",
     "text": [
      "{'Reactants': ['2-methylfuran', '3-bromobenzyne', '1,3-dibromobenzene', 'lithium diisopropylamide', 'LDA'], 'Product': ['4']}\n"
     ]
    },
    {
     "name": "stderr",
     "output_type": "stream",
     "text": [
      "Processed prompts: 100%|██████████| 1/1 [00:16<00:00, 16.26s/it, Generation Speed: 3.07 toks/s]\n",
      "100%|██████████| 1/1 [00:16<00:00, 16.28s/it]\n"
     ]
    },
    {
     "name": "stdout",
     "output_type": "stream",
     "text": [
      "{'Reactants': ['2-methylfuran', '3-bromobenzyne', '1,3-dibromobenzene', 'lithium diisopropylamide'], 'Product': ['5.']}\n"
     ]
    },
    {
     "name": "stderr",
     "output_type": "stream",
     "text": [
      "Processed prompts: 100%|██████████| 1/1 [00:13<00:00, 13.20s/it, Generation Speed: 2.96 toks/s]\n",
      "100%|██████████| 1/1 [00:13<00:00, 13.21s/it]\n"
     ]
    },
    {
     "name": "stdout",
     "output_type": "stream",
     "text": [
      "{'Reactants': ['1,3-dibromobenzene'], 'Catalyst_Reagents': ['LDA'], 'Product': ['3-bromobenzyne']}\n"
     ]
    },
    {
     "name": "stderr",
     "output_type": "stream",
     "text": [
      "Processed prompts: 100%|██████████| 1/1 [00:12<00:00, 12.37s/it, Generation Speed: 3.07 toks/s]\n",
      "100%|██████████| 1/1 [00:12<00:00, 12.38s/it]\n"
     ]
    },
    {
     "name": "stdout",
     "output_type": "stream",
     "text": [
      "{'Reactants': ['2-methylfuran', '1,3-dibromobenzene', 'lithium diisopropylamide', 'LDA']}\n",
      "第38条数据\n"
     ]
    },
    {
     "name": "stderr",
     "output_type": "stream",
     "text": [
      "Processed prompts: 100%|██████████| 1/1 [00:07<00:00,  7.74s/it, Generation Speed: 3.10 toks/s]\n",
      "100%|██████████| 1/1 [00:07<00:00,  7.75s/it]\n"
     ]
    },
    {
     "name": "stdout",
     "output_type": "stream",
     "text": [
      "{'Catalyst_Reagents': ['quinine-derived thiourea I'], 'Product': ['3a']}\n",
      "第39条数据\n"
     ]
    },
    {
     "name": "stderr",
     "output_type": "stream",
     "text": [
      "Processed prompts: 100%|██████████| 1/1 [00:06<00:00,  6.52s/it, Generation Speed: 3.07 toks/s]\n",
      "100%|██████████| 1/1 [00:06<00:00,  6.53s/it]\n"
     ]
    },
    {
     "name": "stdout",
     "output_type": "stream",
     "text": [
      "{'Reactants': ['2', 'thiyl radical'], 'Product': ['3']}\n",
      "第40条数据\n"
     ]
    },
    {
     "name": "stderr",
     "output_type": "stream",
     "text": [
      "Processed prompts: 100%|██████████| 1/1 [00:11<00:00, 11.06s/it, Generation Speed: 3.26 toks/s]\n",
      "100%|██████████| 1/1 [00:11<00:00, 11.07s/it]\n"
     ]
    },
    {
     "name": "stdout",
     "output_type": "stream",
     "text": [
      "{'Reactants': ['CpFe(CO)zSiMe3', '1a'], 'Yield': ['21 %'], 'Product': ['2a']}\n"
     ]
    },
    {
     "name": "stderr",
     "output_type": "stream",
     "text": [
      "Processed prompts: 100%|██████████| 1/1 [00:14<00:00, 14.26s/it, Generation Speed: 3.51 toks/s]\n",
      "100%|██████████| 1/1 [00:14<00:00, 14.27s/it]\n"
     ]
    },
    {
     "name": "stdout",
     "output_type": "stream",
     "text": [
      "{'Reactants': ['CpFe(CO)zSiMe3'], 'Catalyst_Reagents': ['lb,c'], 'Yield': ['did not give an isolable quantity'], 'Product': ['2b,c.']}\n",
      "第41条数据\n"
     ]
    },
    {
     "name": "stderr",
     "output_type": "stream",
     "text": [
      "Processed prompts: 100%|██████████| 1/1 [00:10<00:00, 10.09s/it, Generation Speed: 3.67 toks/s]\n",
      "100%|██████████| 1/1 [00:10<00:00, 10.10s/it]\n"
     ]
    },
    {
     "name": "stdout",
     "output_type": "stream",
     "text": [
      "{'Reactants': ['CpFe- (C0)zSiRzH'], 'Yield': ['3.9 %'], 'Product': ['3a']}\n"
     ]
    },
    {
     "name": "stderr",
     "output_type": "stream",
     "text": [
      "Processed prompts: 100%|██████████| 1/1 [00:10<00:00, 10.92s/it, Generation Speed: 3.39 toks/s]\n",
      "100%|██████████| 1/1 [00:10<00:00, 10.93s/it]\n"
     ]
    },
    {
     "name": "stdout",
     "output_type": "stream",
     "text": [
      "{'Reactants': ['CpFe- (C0)zSiRzH'], 'Yield': ['3.9 %'], 'Product': ['3b']}\n",
      "第42条数据\n"
     ]
    },
    {
     "name": "stderr",
     "output_type": "stream",
     "text": [
      "Processed prompts: 100%|██████████| 1/1 [00:15<00:00, 15.21s/it, Generation Speed: 3.22 toks/s]\n",
      "100%|██████████| 1/1 [00:15<00:00, 15.22s/it]\n"
     ]
    },
    {
     "name": "stdout",
     "output_type": "stream",
     "text": [
      "{'Reactants': ['1'], 'Catalyst_Reagents': ['CAN'], 'Product': ['2-(2,4-dimethoxyphenyl)-p-benzoquinone'], 'Yield': ['8 %']}\n",
      "第43条数据\n"
     ]
    },
    {
     "name": "stderr",
     "output_type": "stream",
     "text": [
      "Processed prompts: 100%|██████████| 1/1 [00:17<00:00, 17.68s/it, Generation Speed: 3.45 toks/s]\n",
      "100%|██████████| 1/1 [00:17<00:00, 17.69s/it]\n"
     ]
    },
    {
     "name": "stdout",
     "output_type": "stream",
     "text": [
      "{'Reactants': ['styrene− yne 30'], 'Solvent': ['DCE'], 'Temperature': ['180 ° C'], 'Time': ['2 min'], 'Product': ['dihydronaphthalene 31b', 'naphthalene 31a']}\n"
     ]
    },
    {
     "name": "stderr",
     "output_type": "stream",
     "text": [
      "Processed prompts: 100%|██████████| 1/1 [00:14<00:00, 14.98s/it, Generation Speed: 2.94 toks/s]\n",
      "100%|██████████| 1/1 [00:14<00:00, 14.99s/it]\n"
     ]
    },
    {
     "name": "stdout",
     "output_type": "stream",
     "text": [
      "{'Reactants': ['styrene− yne 30'], 'Solvent': ['DCE'], 'Temperature': ['180 ° C'], 'Product': ['31b'], 'Time': ['2 min']}\n"
     ]
    },
    {
     "name": "stderr",
     "output_type": "stream",
     "text": [
      "Processed prompts: 100%|██████████| 1/1 [00:15<00:00, 15.13s/it, Generation Speed: 3.04 toks/s]\n",
      "100%|██████████| 1/1 [00:15<00:00, 15.14s/it]\n"
     ]
    },
    {
     "name": "stdout",
     "output_type": "stream",
     "text": [
      "{'Reactants': ['styrene− yne 30'], 'Solvent': ['DCE'], 'Temperature': ['180 ° C'], 'Time': ['2 min'], 'Product': ['naphthalene']}\n"
     ]
    },
    {
     "name": "stderr",
     "output_type": "stream",
     "text": [
      "Processed prompts: 100%|██████████| 1/1 [00:13<00:00, 13.68s/it, Generation Speed: 3.22 toks/s]\n",
      "100%|██████████| 1/1 [00:13<00:00, 13.69s/it]\n"
     ]
    },
    {
     "name": "stdout",
     "output_type": "stream",
     "text": [
      "{'Reactants': ['styrene− yne 30'], 'Solvent': ['DCE'], 'Temperature': ['180 ° C'], 'Product': ['31a'], 'Time': ['2 min']}\n",
      "第44条数据\n"
     ]
    },
    {
     "name": "stderr",
     "output_type": "stream",
     "text": [
      "Processed prompts: 100%|██████████| 1/1 [00:06<00:00,  6.43s/it, Generation Speed: 3.58 toks/s]\n",
      "100%|██████████| 1/1 [00:06<00:00,  6.44s/it]\n"
     ]
    },
    {
     "name": "stdout",
     "output_type": "stream",
     "text": [
      "{'Reactants': ['Deoxy-Mb', 'quinone'], 'Product': ['met-Mb']}\n",
      "第45条数据\n"
     ]
    },
    {
     "name": "stderr",
     "output_type": "stream",
     "text": [
      "Processed prompts: 100%|██████████| 1/1 [00:12<00:00, 12.74s/it, Generation Speed: 3.06 toks/s]\n",
      "100%|██████████| 1/1 [00:12<00:00, 12.75s/it]\n"
     ]
    },
    {
     "name": "stdout",
     "output_type": "stream",
     "text": [
      "{'Reactants': [], 'Product': ['I'], 'Catalyst_Reagents': [], 'Solvent': [], 'Yield': [], 'Temperature': [], 'Time': []}\n",
      "第46条数据\n"
     ]
    },
    {
     "name": "stderr",
     "output_type": "stream",
     "text": [
      "Processed prompts: 100%|██████████| 1/1 [00:10<00:00, 10.59s/it, Generation Speed: 2.93 toks/s]\n",
      "100%|██████████| 1/1 [00:10<00:00, 10.59s/it]\n"
     ]
    },
    {
     "name": "stdout",
     "output_type": "stream",
     "text": [
      "{'Reactants': ['l-(diazomethyl)-8-methylnaphthalene'], 'Product': ['acenaphthene']}\n"
     ]
    },
    {
     "name": "stderr",
     "output_type": "stream",
     "text": [
      "Processed prompts: 100%|██████████| 1/1 [00:08<00:00,  8.74s/it, Generation Speed: 3.55 toks/s]\n",
      "100%|██████████| 1/1 [00:08<00:00,  8.75s/it]\n"
     ]
    },
    {
     "name": "stdout",
     "output_type": "stream",
     "text": [
      "{'Reactants': ['l-(diazomethyl)-8-methylnaphthalene', '2'], 'Product': ['3']}\n",
      "第47条数据\n"
     ]
    },
    {
     "name": "stderr",
     "output_type": "stream",
     "text": [
      "Processed prompts: 100%|██████████| 1/1 [00:06<00:00,  6.30s/it, Generation Speed: 2.70 toks/s]\n",
      "100%|██████████| 1/1 [00:06<00:00,  6.31s/it]\n"
     ]
    },
    {
     "name": "stdout",
     "output_type": "stream",
     "text": [
      "{'Reactants': ['1', '2'], 'Product': ['3']}\n"
     ]
    },
    {
     "name": "stderr",
     "output_type": "stream",
     "text": [
      "Processed prompts: 100%|██████████| 1/1 [00:06<00:00,  6.47s/it, Generation Speed: 3.10 toks/s]\n",
      "100%|██████████| 1/1 [00:06<00:00,  6.47s/it]\n"
     ]
    },
    {
     "name": "stdout",
     "output_type": "stream",
     "text": [
      "{'Reactants': ['1', '2'], 'Product': ['3', '4']}\n",
      "第48条数据\n"
     ]
    },
    {
     "name": "stderr",
     "output_type": "stream",
     "text": [
      "Processed prompts: 100%|██████████| 1/1 [00:07<00:00,  7.75s/it, Generation Speed: 3.48 toks/s]\n",
      "100%|██████████| 1/1 [00:07<00:00,  7.76s/it]\n"
     ]
    },
    {
     "name": "stdout",
     "output_type": "stream",
     "text": [
      "{'Product': ['3a'], 'Reactants': ['4a', '5'], 'Yield': ['25 %']}\n",
      "第49条数据\n"
     ]
    },
    {
     "name": "stderr",
     "output_type": "stream",
     "text": [
      "Processed prompts: 100%|██████████| 1/1 [00:11<00:00, 11.83s/it, Generation Speed: 3.13 toks/s]\n",
      "100%|██████████| 1/1 [00:11<00:00, 11.84s/it]\n"
     ]
    },
    {
     "name": "stdout",
     "output_type": "stream",
     "text": [
      "{'Reactants': ['3b-e'], 'Catalyst_Reagents': ['Rhz(OAc)4'], 'Product': ['4b-elo9l1']}\n",
      "第50条数据\n"
     ]
    },
    {
     "name": "stderr",
     "output_type": "stream",
     "text": [
      "Processed prompts: 100%|██████████| 1/1 [00:04<00:00,  4.82s/it, Generation Speed: 3.53 toks/s]\n",
      "100%|██████████| 1/1 [00:04<00:00,  4.83s/it]\n"
     ]
    },
    {
     "name": "stdout",
     "output_type": "stream",
     "text": [
      "{'Reactants': ['4a'], 'Product': ['4c-e']}\n",
      "第51条数据\n"
     ]
    },
    {
     "name": "stderr",
     "output_type": "stream",
     "text": [
      "Processed prompts: 100%|██████████| 1/1 [00:13<00:00, 13.74s/it, Generation Speed: 3.86 toks/s]\n",
      "100%|██████████| 1/1 [00:13<00:00, 13.75s/it]\n"
     ]
    },
    {
     "name": "stdout",
     "output_type": "stream",
     "text": [
      "{'Reactants': ['enamide 5', 'H2'], 'Solvent': ['MeOH'], 'Temperature': ['40 \" C'], 'Product': ['(R)-6'], 'Catalyst_Reagents': ['la', 'lb']}\n",
      "第52条数据\n"
     ]
    },
    {
     "name": "stderr",
     "output_type": "stream",
     "text": [
      "Processed prompts: 100%|██████████| 1/1 [00:06<00:00,  6.54s/it, Generation Speed: 3.37 toks/s]\n",
      "100%|██████████| 1/1 [00:06<00:00,  6.55s/it]\n"
     ]
    },
    {
     "name": "stdout",
     "output_type": "stream",
     "text": [
      "{'Product': ['(R)-6'], 'Solvent': ['methanol', 'hexane']}\n",
      "第53条数据\n"
     ]
    },
    {
     "name": "stderr",
     "output_type": "stream",
     "text": [
      "Processed prompts: 100%|██████████| 1/1 [00:10<00:00, 10.22s/it, Generation Speed: 2.84 toks/s]\n",
      "100%|██████████| 1/1 [00:10<00:00, 10.23s/it]\n"
     ]
    },
    {
     "name": "stdout",
     "output_type": "stream",
     "text": [
      "{'Reactants': ['enamide', '7'], 'Product': ['8'], 'Solvent': ['supercritical C02']}\n",
      "第54条数据\n"
     ]
    },
    {
     "name": "stderr",
     "output_type": "stream",
     "text": [
      "Processed prompts: 100%|██████████| 1/1 [00:09<00:00,  9.10s/it, Generation Speed: 3.74 toks/s]\n",
      "100%|██████████| 1/1 [00:09<00:00,  9.10s/it]\n"
     ]
    },
    {
     "name": "stdout",
     "output_type": "stream",
     "text": [
      "{'Reactants': ['DPD dioxetane'], 'Temperature': ['60 OC'], 'Time': ['2 h'], 'Product': ['EGDB']}\n",
      "第55条数据\n"
     ]
    },
    {
     "name": "stderr",
     "output_type": "stream",
     "text": [
      "Processed prompts: 100%|██████████| 1/1 [00:06<00:00,  6.80s/it, Generation Speed: 2.94 toks/s]\n",
      "100%|██████████| 1/1 [00:06<00:00,  6.81s/it]\n"
     ]
    },
    {
     "name": "stdout",
     "output_type": "stream",
     "text": [
      "{'Product': ['2,3-diphenyl-l,4dioxene oxide']}\n",
      "第56条数据\n"
     ]
    },
    {
     "name": "stderr",
     "output_type": "stream",
     "text": [
      "Processed prompts: 100%|██████████| 1/1 [00:11<00:00, 11.55s/it, Generation Speed: 3.81 toks/s]\n",
      "100%|██████████| 1/1 [00:11<00:00, 11.56s/it]\n"
     ]
    },
    {
     "name": "stdout",
     "output_type": "stream",
     "text": [
      "{'Reactants': ['Br2', '1', '2'], 'Product': ['3'], 'Solvent': ['1,2-dichloroethane'], 'Temperature': ['25 O C']}\n"
     ]
    },
    {
     "name": "stderr",
     "output_type": "stream",
     "text": [
      "Processed prompts: 100%|██████████| 1/1 [00:13<00:00, 13.29s/it, Generation Speed: 3.31 toks/s]\n",
      "100%|██████████| 1/1 [00:13<00:00, 13.29s/it]"
     ]
    },
    {
     "name": "stdout",
     "output_type": "stream",
     "text": [
      "{'Reactants': ['Br2', '1', '2'], 'Product': ['4'], 'Solvent': ['1,2-dichloroethane'], 'Temperature': ['25 O C']}\n",
      "TP, FP, FN 275 94 108\n",
      "NER:  precision, recall 0.7452574525745257 0.7180156657963447\n",
      "NER:  f1_score 0.7313829787234042\n"
     ]
    },
    {
     "name": "stderr",
     "output_type": "stream",
     "text": [
      "\n"
     ]
    },
    {
     "name": "stdout",
     "output_type": "stream",
     "text": [
      "\u001b[36m(RayWorkerWrapper pid=937116)\u001b[0m ERROR 12-02 20:06:09 worker_base.py:148] Error executing method start_worker_execution_loop. This might cause deadlock in distributed execution.\n",
      "\u001b[36m(RayWorkerWrapper pid=937116)\u001b[0m ERROR 12-02 20:06:09 worker_base.py:148] Traceback (most recent call last):\n",
      "\u001b[36m(RayWorkerWrapper pid=937116)\u001b[0m ERROR 12-02 20:06:09 worker_base.py:148]   File \"/data/lizh/Conda/anaconda3/envs/vllm/lib/python3.9/site-packages/vllm/worker/worker_base.py\", line 140, in execute_method\n",
      "\u001b[36m(RayWorkerWrapper pid=937116)\u001b[0m ERROR 12-02 20:06:09 worker_base.py:148]     return executor(*args, **kwargs)\n",
      "\u001b[36m(RayWorkerWrapper pid=937116)\u001b[0m ERROR 12-02 20:06:09 worker_base.py:148]   File \"/data/lizh/Conda/anaconda3/envs/vllm/lib/python3.9/site-packages/torch/utils/_contextlib.py\", line 115, in decorate_context\n",
      "\u001b[36m(RayWorkerWrapper pid=937116)\u001b[0m ERROR 12-02 20:06:09 worker_base.py:148]     return func(*args, **kwargs)\n",
      "\u001b[36m(RayWorkerWrapper pid=937116)\u001b[0m ERROR 12-02 20:06:09 worker_base.py:148]   File \"/data/lizh/Conda/anaconda3/envs/vllm/lib/python3.9/site-packages/vllm/worker/worker.py\", line 286, in start_worker_execution_loop\n",
      "\u001b[36m(RayWorkerWrapper pid=937116)\u001b[0m ERROR 12-02 20:06:09 worker_base.py:148]     while self._execute_model_non_driver():\n",
      "\u001b[36m(RayWorkerWrapper pid=937116)\u001b[0m ERROR 12-02 20:06:09 worker_base.py:148]   File \"/data/lizh/Conda/anaconda3/envs/vllm/lib/python3.9/site-packages/vllm/worker/worker.py\", line 295, in _execute_model_non_driver\n",
      "\u001b[36m(RayWorkerWrapper pid=937116)\u001b[0m ERROR 12-02 20:06:09 worker_base.py:148]     data = broadcast_tensor_dict(src=0)\n",
      "\u001b[36m(RayWorkerWrapper pid=937116)\u001b[0m ERROR 12-02 20:06:09 worker_base.py:148]   File \"/data/lizh/Conda/anaconda3/envs/vllm/lib/python3.9/site-packages/vllm/distributed/communication_op.py\", line 284, in broadcast_tensor_dict\n",
      "\u001b[36m(RayWorkerWrapper pid=937116)\u001b[0m ERROR 12-02 20:06:09 worker_base.py:148]     torch.distributed.broadcast_object_list(recv_metadata_list,\n",
      "\u001b[36m(RayWorkerWrapper pid=937116)\u001b[0m ERROR 12-02 20:06:09 worker_base.py:148]   File \"/data/lizh/Conda/anaconda3/envs/vllm/lib/python3.9/site-packages/torch/distributed/c10d_logger.py\", line 75, in wrapper\n",
      "\u001b[36m(RayWorkerWrapper pid=937116)\u001b[0m ERROR 12-02 20:06:09 worker_base.py:148]     return func(*args, **kwargs)\n",
      "\u001b[36m(RayWorkerWrapper pid=937116)\u001b[0m ERROR 12-02 20:06:09 worker_base.py:148]   File \"/data/lizh/Conda/anaconda3/envs/vllm/lib/python3.9/site-packages/torch/distributed/distributed_c10d.py\", line 2649, in broadcast_object_list\n",
      "\u001b[36m(RayWorkerWrapper pid=937116)\u001b[0m ERROR 12-02 20:06:09 worker_base.py:148]     broadcast(object_sizes_tensor, src=src, group=group)\n",
      "\u001b[36m(RayWorkerWrapper pid=937116)\u001b[0m ERROR 12-02 20:06:09 worker_base.py:148]   File \"/data/lizh/Conda/anaconda3/envs/vllm/lib/python3.9/site-packages/torch/distributed/c10d_logger.py\", line 75, in wrapper\n",
      "\u001b[36m(RayWorkerWrapper pid=937116)\u001b[0m ERROR 12-02 20:06:09 worker_base.py:148]     return func(*args, **kwargs)\n",
      "\u001b[36m(RayWorkerWrapper pid=937116)\u001b[0m ERROR 12-02 20:06:09 worker_base.py:148]   File \"/data/lizh/Conda/anaconda3/envs/vllm/lib/python3.9/site-packages/torch/distributed/distributed_c10d.py\", line 2144, in broadcast\n",
      "\u001b[36m(RayWorkerWrapper pid=937116)\u001b[0m ERROR 12-02 20:06:09 worker_base.py:148]     work.wait()\n",
      "\u001b[36m(RayWorkerWrapper pid=937116)\u001b[0m ERROR 12-02 20:06:09 worker_base.py:148] RuntimeError: [../third_party/gloo/gloo/transport/tcp/unbound_buffer.cc:81] Timed out waiting 1800000ms for recv operation to complete\n"
     ]
    },
    {
     "name": "stderr",
     "output_type": "stream",
     "text": [
      "2024-12-02 20:06:14,869\tERROR worker.py:409 -- Unhandled error (suppress with 'RAY_IGNORE_UNHANDLED_ERRORS=1'): \u001b[36mray::RayWorkerWrapper.execute_method()\u001b[39m (pid=937280, ip=211.86.155.202, actor_id=ec921a6912ca7eed31b3387601000000, repr=<vllm.executor.ray_utils.RayWorkerWrapper object at 0x7edd97f3ae20>)\n",
      "  File \"/data/lizh/Conda/anaconda3/envs/vllm/lib/python3.9/site-packages/vllm/worker/worker_base.py\", line 149, in execute_method\n",
      "    raise e\n",
      "  File \"/data/lizh/Conda/anaconda3/envs/vllm/lib/python3.9/site-packages/vllm/worker/worker_base.py\", line 140, in execute_method\n",
      "    return executor(*args, **kwargs)\n",
      "  File \"/data/lizh/Conda/anaconda3/envs/vllm/lib/python3.9/site-packages/torch/utils/_contextlib.py\", line 115, in decorate_context\n",
      "    return func(*args, **kwargs)\n",
      "  File \"/data/lizh/Conda/anaconda3/envs/vllm/lib/python3.9/site-packages/vllm/worker/worker.py\", line 286, in start_worker_execution_loop\n",
      "    while self._execute_model_non_driver():\n",
      "  File \"/data/lizh/Conda/anaconda3/envs/vllm/lib/python3.9/site-packages/vllm/worker/worker.py\", line 295, in _execute_model_non_driver\n",
      "    data = broadcast_tensor_dict(src=0)\n",
      "  File \"/data/lizh/Conda/anaconda3/envs/vllm/lib/python3.9/site-packages/vllm/distributed/communication_op.py\", line 284, in broadcast_tensor_dict\n",
      "    torch.distributed.broadcast_object_list(recv_metadata_list,\n",
      "  File \"/data/lizh/Conda/anaconda3/envs/vllm/lib/python3.9/site-packages/torch/distributed/c10d_logger.py\", line 75, in wrapper\n",
      "    return func(*args, **kwargs)\n",
      "  File \"/data/lizh/Conda/anaconda3/envs/vllm/lib/python3.9/site-packages/torch/distributed/distributed_c10d.py\", line 2649, in broadcast_object_list\n",
      "    broadcast(object_sizes_tensor, src=src, group=group)\n",
      "  File \"/data/lizh/Conda/anaconda3/envs/vllm/lib/python3.9/site-packages/torch/distributed/c10d_logger.py\", line 75, in wrapper\n",
      "    return func(*args, **kwargs)\n",
      "  File \"/data/lizh/Conda/anaconda3/envs/vllm/lib/python3.9/site-packages/torch/distributed/distributed_c10d.py\", line 2144, in broadcast\n",
      "    work.wait()\n",
      "RuntimeError: [../third_party/gloo/gloo/transport/tcp/unbound_buffer.cc:81] Timed out waiting 1800000ms for recv operation to complete\n",
      "2024-12-02 20:06:14,872\tERROR worker.py:409 -- Unhandled error (suppress with 'RAY_IGNORE_UNHANDLED_ERRORS=1'): \u001b[36mray::RayWorkerWrapper.execute_method()\u001b[39m (pid=937116, ip=211.86.155.202, actor_id=beb112c5f573dcab19b6d1fd01000000, repr=<vllm.executor.ray_utils.RayWorkerWrapper object at 0x7fcc918c7e20>)\n",
      "  File \"/data/lizh/Conda/anaconda3/envs/vllm/lib/python3.9/site-packages/vllm/worker/worker_base.py\", line 149, in execute_method\n",
      "    raise e\n",
      "  File \"/data/lizh/Conda/anaconda3/envs/vllm/lib/python3.9/site-packages/vllm/worker/worker_base.py\", line 140, in execute_method\n",
      "    return executor(*args, **kwargs)\n",
      "  File \"/data/lizh/Conda/anaconda3/envs/vllm/lib/python3.9/site-packages/torch/utils/_contextlib.py\", line 115, in decorate_context\n",
      "    return func(*args, **kwargs)\n",
      "  File \"/data/lizh/Conda/anaconda3/envs/vllm/lib/python3.9/site-packages/vllm/worker/worker.py\", line 286, in start_worker_execution_loop\n",
      "    while self._execute_model_non_driver():\n",
      "  File \"/data/lizh/Conda/anaconda3/envs/vllm/lib/python3.9/site-packages/vllm/worker/worker.py\", line 295, in _execute_model_non_driver\n",
      "    data = broadcast_tensor_dict(src=0)\n",
      "  File \"/data/lizh/Conda/anaconda3/envs/vllm/lib/python3.9/site-packages/vllm/distributed/communication_op.py\", line 284, in broadcast_tensor_dict\n",
      "    torch.distributed.broadcast_object_list(recv_metadata_list,\n",
      "  File \"/data/lizh/Conda/anaconda3/envs/vllm/lib/python3.9/site-packages/torch/distributed/c10d_logger.py\", line 75, in wrapper\n",
      "    return func(*args, **kwargs)\n",
      "  File \"/data/lizh/Conda/anaconda3/envs/vllm/lib/python3.9/site-packages/torch/distributed/distributed_c10d.py\", line 2649, in broadcast_object_list\n",
      "    broadcast(object_sizes_tensor, src=src, group=group)\n",
      "  File \"/data/lizh/Conda/anaconda3/envs/vllm/lib/python3.9/site-packages/torch/distributed/c10d_logger.py\", line 75, in wrapper\n",
      "    return func(*args, **kwargs)\n",
      "  File \"/data/lizh/Conda/anaconda3/envs/vllm/lib/python3.9/site-packages/torch/distributed/distributed_c10d.py\", line 2144, in broadcast\n",
      "    work.wait()\n",
      "RuntimeError: [../third_party/gloo/gloo/transport/tcp/unbound_buffer.cc:81] Timed out waiting 1800000ms for recv operation to complete\n",
      "2024-12-02 20:06:14,875\tERROR worker.py:409 -- Unhandled error (suppress with 'RAY_IGNORE_UNHANDLED_ERRORS=1'): \u001b[36mray::RayWorkerWrapper.execute_method()\u001b[39m (pid=937362, ip=211.86.155.202, actor_id=d92ff5f9198bbfc408d33a5b01000000, repr=<vllm.executor.ray_utils.RayWorkerWrapper object at 0x7ef14b5b5eb0>)\n",
      "  File \"/data/lizh/Conda/anaconda3/envs/vllm/lib/python3.9/site-packages/vllm/worker/worker_base.py\", line 149, in execute_method\n",
      "    raise e\n",
      "  File \"/data/lizh/Conda/anaconda3/envs/vllm/lib/python3.9/site-packages/vllm/worker/worker_base.py\", line 140, in execute_method\n",
      "    return executor(*args, **kwargs)\n",
      "  File \"/data/lizh/Conda/anaconda3/envs/vllm/lib/python3.9/site-packages/torch/utils/_contextlib.py\", line 115, in decorate_context\n",
      "    return func(*args, **kwargs)\n",
      "  File \"/data/lizh/Conda/anaconda3/envs/vllm/lib/python3.9/site-packages/vllm/worker/worker.py\", line 286, in start_worker_execution_loop\n",
      "    while self._execute_model_non_driver():\n",
      "  File \"/data/lizh/Conda/anaconda3/envs/vllm/lib/python3.9/site-packages/vllm/worker/worker.py\", line 295, in _execute_model_non_driver\n",
      "    data = broadcast_tensor_dict(src=0)\n",
      "  File \"/data/lizh/Conda/anaconda3/envs/vllm/lib/python3.9/site-packages/vllm/distributed/communication_op.py\", line 284, in broadcast_tensor_dict\n",
      "    torch.distributed.broadcast_object_list(recv_metadata_list,\n",
      "  File \"/data/lizh/Conda/anaconda3/envs/vllm/lib/python3.9/site-packages/torch/distributed/c10d_logger.py\", line 75, in wrapper\n",
      "    return func(*args, **kwargs)\n",
      "  File \"/data/lizh/Conda/anaconda3/envs/vllm/lib/python3.9/site-packages/torch/distributed/distributed_c10d.py\", line 2649, in broadcast_object_list\n",
      "    broadcast(object_sizes_tensor, src=src, group=group)\n",
      "  File \"/data/lizh/Conda/anaconda3/envs/vllm/lib/python3.9/site-packages/torch/distributed/c10d_logger.py\", line 75, in wrapper\n",
      "    return func(*args, **kwargs)\n",
      "  File \"/data/lizh/Conda/anaconda3/envs/vllm/lib/python3.9/site-packages/torch/distributed/distributed_c10d.py\", line 2144, in broadcast\n",
      "    work.wait()\n",
      "RuntimeError: [../third_party/gloo/gloo/transport/tcp/unbound_buffer.cc:81] Timed out waiting 1800000ms for recv operation to complete\n"
     ]
    }
   ],
   "source": [
    "import os\n",
    "\n",
    "from evaluate import *\n",
    "from llm_re import *\n",
    "\n",
    "def main():\n",
    "    train_data,test_data=get_data()\n",
    "    prev_data=chem_re(train_data,test_data)\n",
    "    NER_f1(test_data,prev_data)\n",
    "\n",
    "main()"
   ]
  },
  {
   "cell_type": "markdown",
   "metadata": {},
   "source": [
    "# 使用预训练+微调的llm"
   ]
  },
  {
   "cell_type": "code",
   "execution_count": 1,
   "metadata": {},
   "outputs": [
    {
     "name": "stderr",
     "output_type": "stream",
     "text": [
      "/data/lizh/Conda/anaconda3/envs/vllm/lib/python3.9/site-packages/tqdm/auto.py:21: TqdmWarning: IProgress not found. Please update jupyter and ipywidgets. See https://ipywidgets.readthedocs.io/en/stable/user_install.html\n",
      "  from .autonotebook import tqdm as notebook_tqdm\n",
      "2024-12-04 11:02:54,158\tINFO util.py:154 -- Missing packages: ['ipywidgets']. Run `pip install -U ipywidgets`, then restart the notebook server for rich notebook output.\n",
      "2024-12-04 11:02:58,537\tINFO worker.py:1771 -- Started a local Ray instance.\n"
     ]
    },
    {
     "name": "stdout",
     "output_type": "stream",
     "text": [
      "INFO 12-04 11:02:59 llm_engine.py:161] Initializing an LLM engine (v0.4.3) with config: model='/data/lizh/LLaMA-Factory-main/models/qwen2.5_14b_ptsft', speculative_config=None, tokenizer='/data/lizh/LLaMA-Factory-main/models/qwen2.5_14b_ptsft', skip_tokenizer_init=False, tokenizer_mode=auto, revision=None, rope_scaling=None, tokenizer_revision=None, trust_remote_code=False, dtype=torch.bfloat16, max_seq_len=32768, download_dir=None, load_format=LoadFormat.AUTO, tensor_parallel_size=4, disable_custom_all_reduce=False, quantization=None, enforce_eager=False, kv_cache_dtype=auto, quantization_param_path=None, device_config=cuda, decoding_config=DecodingConfig(guided_decoding_backend='outlines'), seed=0, served_model_name=/data/lizh/LLaMA-Factory-main/models/qwen2.5_14b_ptsft)\n",
      "INFO 12-04 11:03:13 utils.py:618] Found nccl from library libnccl.so.2\n",
      "INFO 12-04 11:03:13 pynccl.py:65] vLLM is using nccl==2.20.5\n",
      "\u001b[36m(RayWorkerWrapper pid=2086089)\u001b[0m INFO 12-04 11:03:13 utils.py:618] Found nccl from library libnccl.so.2\n",
      "\u001b[36m(RayWorkerWrapper pid=2086089)\u001b[0m INFO 12-04 11:03:13 pynccl.py:65] vLLM is using nccl==2.20.5\n",
      "WARNING 12-04 11:03:13 custom_all_reduce.py:158] Custom allreduce is disabled because it's not supported on more than two PCIe-only GPUs. To silence this warning, specify disable_custom_all_reduce=True explicitly.\n",
      "\u001b[36m(RayWorkerWrapper pid=2086089)\u001b[0m WARNING 12-04 11:03:13 custom_all_reduce.py:158] Custom allreduce is disabled because it's not supported on more than two PCIe-only GPUs. To silence this warning, specify disable_custom_all_reduce=True explicitly.\n",
      "INFO 12-04 11:03:16 model_runner.py:146] Loading model weights took 6.9459 GB\n",
      "\u001b[36m(RayWorkerWrapper pid=2086089)\u001b[0m INFO 12-04 11:03:17 model_runner.py:146] Loading model weights took 6.9459 GB\n",
      "INFO 12-04 11:03:30 distributed_gpu_executor.py:56] # GPU blocks: 40967, # CPU blocks: 5461\n",
      "INFO 12-04 11:03:34 model_runner.py:854] Capturing the model for CUDA graphs. This may lead to unexpected consequences if the model is not static. To run the model in eager mode, set 'enforce_eager=True' or use '--enforce-eager' in the CLI.\n",
      "INFO 12-04 11:03:34 model_runner.py:858] CUDA graphs can take additional 1~3 GiB memory per GPU. If you are running out of memory, consider decreasing `gpu_memory_utilization` or enforcing eager mode. You can also reduce the `max_num_seqs` as needed to decrease memory usage.\n",
      "\u001b[36m(RayWorkerWrapper pid=2086174)\u001b[0m INFO 12-04 11:03:34 model_runner.py:854] Capturing the model for CUDA graphs. This may lead to unexpected consequences if the model is not static. To run the model in eager mode, set 'enforce_eager=True' or use '--enforce-eager' in the CLI.\n",
      "\u001b[36m(RayWorkerWrapper pid=2086174)\u001b[0m INFO 12-04 11:03:34 model_runner.py:858] CUDA graphs can take additional 1~3 GiB memory per GPU. If you are running out of memory, consider decreasing `gpu_memory_utilization` or enforcing eager mode. You can also reduce the `max_num_seqs` as needed to decrease memory usage.\n",
      "\u001b[36m(RayWorkerWrapper pid=2086319)\u001b[0m INFO 12-04 11:03:13 utils.py:618] Found nccl from library libnccl.so.2\u001b[32m [repeated 2x across cluster] (Ray deduplicates logs by default. Set RAY_DEDUP_LOGS=0 to disable log deduplication, or see https://docs.ray.io/en/master/ray-observability/user-guides/configure-logging.html#log-deduplication for more options.)\u001b[0m\n",
      "\u001b[36m(RayWorkerWrapper pid=2086319)\u001b[0m INFO 12-04 11:03:13 pynccl.py:65] vLLM is using nccl==2.20.5\u001b[32m [repeated 2x across cluster]\u001b[0m\n",
      "\u001b[36m(RayWorkerWrapper pid=2086319)\u001b[0m WARNING 12-04 11:03:13 custom_all_reduce.py:158] Custom allreduce is disabled because it's not supported on more than two PCIe-only GPUs. To silence this warning, specify disable_custom_all_reduce=True explicitly.\u001b[32m [repeated 2x across cluster]\u001b[0m\n",
      "\u001b[36m(RayWorkerWrapper pid=2086174)\u001b[0m INFO 12-04 11:03:17 model_runner.py:146] Loading model weights took 6.9459 GB\u001b[32m [repeated 2x across cluster]\u001b[0m\n",
      "INFO 12-04 11:03:52 model_runner.py:924] Graph capturing finished in 19 secs.\n",
      "\u001b[36m(RayWorkerWrapper pid=2086089)\u001b[0m INFO 12-04 11:03:52 model_runner.py:924] Graph capturing finished in 18 secs.\n",
      "\u001b[36m(RayWorkerWrapper pid=2086089)\u001b[0m INFO 12-04 11:03:34 model_runner.py:854] Capturing the model for CUDA graphs. This may lead to unexpected consequences if the model is not static. To run the model in eager mode, set 'enforce_eager=True' or use '--enforce-eager' in the CLI.\u001b[32m [repeated 2x across cluster]\u001b[0m\n",
      "\u001b[36m(RayWorkerWrapper pid=2086089)\u001b[0m INFO 12-04 11:03:34 model_runner.py:858] CUDA graphs can take additional 1~3 GiB memory per GPU. If you are running out of memory, consider decreasing `gpu_memory_utilization` or enforcing eager mode. You can also reduce the `max_num_seqs` as needed to decrease memory usage.\u001b[32m [repeated 2x across cluster]\u001b[0m\n",
      "第0条数据\n"
     ]
    },
    {
     "name": "stderr",
     "output_type": "stream",
     "text": [
      "Processed prompts: 100%|██████████| 1/1 [00:03<00:00,  3.54s/it, Generation Speed: 18.38 toks/s]\n",
      "100%|██████████| 1/1 [00:03<00:00,  3.62s/it]\n"
     ]
    },
    {
     "name": "stdout",
     "output_type": "stream",
     "text": [
      "{'Reactants': ['benzene-1,2-diamine', 'hexanebis(peroxoic acid)', 'dodecanebis(peroxoic acid)'], 'Product': ['2- nitroaniline'], 'Yield': ['90 %', '92 %']}\n",
      "第1条数据\n"
     ]
    },
    {
     "name": "stderr",
     "output_type": "stream",
     "text": [
      "Processed prompts: 100%|██████████| 1/1 [00:01<00:00,  1.32s/it, Generation Speed: 25.85 toks/s]\n",
      "100%|██████████| 1/1 [00:01<00:00,  1.33s/it]\n"
     ]
    },
    {
     "name": "stdout",
     "output_type": "stream",
     "text": [
      "{'Reactants': ['2'], 'Product': [\"[PyH]+[2'cu4 @ -C1)4 @ ~ -Cl)]-\"]}\n"
     ]
    },
    {
     "name": "stderr",
     "output_type": "stream",
     "text": [
      "Processed prompts: 100%|██████████| 1/1 [00:00<00:00,  1.46it/s, Generation Speed: 20.51 toks/s]\n",
      "100%|██████████| 1/1 [00:00<00:00,  1.44it/s]\n"
     ]
    },
    {
     "name": "stdout",
     "output_type": "stream",
     "text": [
      "{'Reactants': ['2'], 'Product': ['4']}\n"
     ]
    },
    {
     "name": "stderr",
     "output_type": "stream",
     "text": [
      "Processed prompts: 100%|██████████| 1/1 [00:01<00:00,  1.20s/it, Generation Speed: 28.32 toks/s]\n",
      "100%|██████████| 1/1 [00:01<00:00,  1.21s/it]\n"
     ]
    },
    {
     "name": "stdout",
     "output_type": "stream",
     "text": [
      "{'Reactants': ['2'], 'Product': ['[PyH]+[2.Ag4 @ -C1)4 @ 4- Cl)]-']}\n"
     ]
    },
    {
     "name": "stderr",
     "output_type": "stream",
     "text": [
      "Processed prompts: 100%|██████████| 1/1 [00:00<00:00,  1.23it/s, Generation Speed: 17.25 toks/s]\n",
      "100%|██████████| 1/1 [00:00<00:00,  1.21it/s]\n"
     ]
    },
    {
     "name": "stdout",
     "output_type": "stream",
     "text": [
      "{'Reactants': ['2'], 'Product': ['5']}\n",
      "第2条数据\n"
     ]
    },
    {
     "name": "stderr",
     "output_type": "stream",
     "text": [
      "Processed prompts: 100%|██████████| 1/1 [00:02<00:00,  2.77s/it, Generation Speed: 24.56 toks/s]\n",
      "100%|██████████| 1/1 [00:02<00:00,  2.78s/it]\n"
     ]
    },
    {
     "name": "stdout",
     "output_type": "stream",
     "text": [
      "{'Reactants': ['(3,5,5-trimethyl-2-oxomorpholin-3-yl)peroxyl radical', 'l'], 'Product': ['3-hydroperoxy-3,5,5-trimethyl-2-0 ~ 0- morpholin-4-yl']}\n"
     ]
    },
    {
     "name": "stderr",
     "output_type": "stream",
     "text": [
      "Processed prompts: 100%|██████████| 1/1 [00:02<00:00,  2.56s/it, Generation Speed: 16.02 toks/s]\n",
      "100%|██████████| 1/1 [00:02<00:00,  2.57s/it]\n"
     ]
    },
    {
     "name": "stdout",
     "output_type": "stream",
     "text": [
      "{'Reactants': ['(3,5,5-trimethyl-2-oxomorpholin-3-yl)peroxyl radical', 'l'], 'Product': ['3']}\n",
      "第3条数据\n"
     ]
    },
    {
     "name": "stderr",
     "output_type": "stream",
     "text": [
      "Processed prompts: 100%|██████████| 1/1 [00:02<00:00,  2.62s/it, Generation Speed: 24.86 toks/s]\n",
      "100%|██████████| 1/1 [00:02<00:00,  2.63s/it]\n"
     ]
    },
    {
     "name": "stdout",
     "output_type": "stream",
     "text": [
      "{'Reactants': ['3,4,5,5-tetramethyl-2-oxomorpholine', '6', 'di-tert-butyl peroxide'], 'Product': ['3-methylidene- 4,5,5-trimethyl-2-oxomorpholine']}\n"
     ]
    },
    {
     "name": "stderr",
     "output_type": "stream",
     "text": [
      "Processed prompts: 100%|██████████| 1/1 [00:01<00:00,  1.87s/it, Generation Speed: 23.61 toks/s]\n",
      "100%|██████████| 1/1 [00:01<00:00,  1.88s/it]\n"
     ]
    },
    {
     "name": "stdout",
     "output_type": "stream",
     "text": [
      "{'Reactants': ['3,4,5,5-tetramethyl-2-oxomorpholine', '6', 'di-tert-butyl peroxide'], 'Product': ['7']}\n",
      "第4条数据\n"
     ]
    },
    {
     "name": "stderr",
     "output_type": "stream",
     "text": [
      "Processed prompts: 100%|██████████| 1/1 [00:03<00:00,  3.57s/it, Generation Speed: 30.81 toks/s]\n",
      "100%|██████████| 1/1 [00:03<00:00,  3.58s/it]\n"
     ]
    },
    {
     "name": "stdout",
     "output_type": "stream",
     "text": [
      "{'Reactants': ['1-bromo-2- chlorobenzene', '1-chloro-2-iodobenzene', '1,2-dibromobenzene', '1-bromo-2-iodobenzene', '1,2-dichlorobenzene', 'N-(5-chloro-2-mercaptophenyl)acetamide'], 'Product': ['2-chloro-10H-phenothiazine'], 'Yield': ['92 %']}\n",
      "第5条数据\n"
     ]
    },
    {
     "name": "stderr",
     "output_type": "stream",
     "text": [
      "Processed prompts: 100%|██████████| 1/1 [00:01<00:00,  1.22s/it, Generation Speed: 26.18 toks/s]\n",
      "100%|██████████| 1/1 [00:01<00:00,  1.23s/it]\n"
     ]
    },
    {
     "name": "stdout",
     "output_type": "stream",
     "text": [
      "{'Reactants': ['C02'], 'Product': ['formate'], 'Catalyst_Reagents': ['formate dehydrogenase']}\n"
     ]
    },
    {
     "name": "stderr",
     "output_type": "stream",
     "text": [
      "Processed prompts: 100%|██████████| 1/1 [00:01<00:00,  1.40s/it, Generation Speed: 23.67 toks/s]\n",
      "100%|██████████| 1/1 [00:01<00:00,  1.41s/it]\n"
     ]
    },
    {
     "name": "stdout",
     "output_type": "stream",
     "text": [
      "{'Reactants': ['formate'], 'Catalyst_Reagents': ['THF - dependent enzymes'], 'Product': ['CH3 - THF']}\n",
      "第6条数据\n"
     ]
    },
    {
     "name": "stderr",
     "output_type": "stream",
     "text": [
      "Processed prompts: 100%|██████████| 1/1 [00:02<00:00,  2.46s/it, Generation Speed: 26.83 toks/s]\n",
      "100%|██████████| 1/1 [00:02<00:00,  2.47s/it]\n"
     ]
    },
    {
     "name": "stdout",
     "output_type": "stream",
     "text": [
      "{'Reactants': ['4a', '3e'], 'Catalyst_Reagents': ['BF3-methanol'], 'Solvent': ['dichloromethane'], 'Temperature': ['0 ° C'], 'Time': ['1 h'], 'Product': ['5e']}\n",
      "第7条数据\n"
     ]
    },
    {
     "name": "stderr",
     "output_type": "stream",
     "text": [
      "Processed prompts: 100%|██████████| 1/1 [00:01<00:00,  1.46s/it, Generation Speed: 16.48 toks/s]\n",
      "100%|██████████| 1/1 [00:01<00:00,  1.47s/it]\n"
     ]
    },
    {
     "name": "stdout",
     "output_type": "stream",
     "text": [
      "{'Reactants': ['7e'], 'Product': ['5e'], 'Yield': ['6 %']}\n"
     ]
    },
    {
     "name": "stderr",
     "output_type": "stream",
     "text": [
      "Processed prompts: 100%|██████████| 1/1 [00:02<00:00,  2.68s/it, Generation Speed: 21.27 toks/s]\n",
      "100%|██████████| 1/1 [00:02<00:00,  2.69s/it]\n"
     ]
    },
    {
     "name": "stdout",
     "output_type": "stream",
     "text": [
      "{'Reactants': ['7f'], 'Product': ['5f'], 'Yield': ['7 %'], 'Catalyst_Reagents': ['0.1 % aqueous FeCl3'], 'Solvent': ['CHCl3'], 'Temperature': ['room']}\n"
     ]
    },
    {
     "name": "stderr",
     "output_type": "stream",
     "text": [
      "Processed prompts: 100%|██████████| 1/1 [00:01<00:00,  1.78s/it, Generation Speed: 28.75 toks/s]\n",
      "100%|██████████| 1/1 [00:01<00:00,  1.79s/it]\n"
     ]
    },
    {
     "name": "stdout",
     "output_type": "stream",
     "text": [
      "{'Reactants': ['7g'], 'Product': ['5g'], 'Yield': ['5 %'], 'Catalyst_Reagents': ['FeCl3'], 'Solvent': ['CHCl3'], 'Temperature': ['room']}\n"
     ]
    },
    {
     "name": "stderr",
     "output_type": "stream",
     "text": [
      "Processed prompts: 100%|██████████| 1/1 [00:01<00:00,  1.30s/it, Generation Speed: 18.49 toks/s]\n",
      "100%|██████████| 1/1 [00:01<00:00,  1.32s/it]\n"
     ]
    },
    {
     "name": "stdout",
     "output_type": "stream",
     "text": [
      "{'Reactants': ['7h'], 'Product': ['5h'], 'Yield': ['4 %']}\n",
      "第8条数据\n"
     ]
    },
    {
     "name": "stderr",
     "output_type": "stream",
     "text": [
      "Processed prompts: 100%|██████████| 1/1 [00:00<00:00,  1.01it/s, Generation Speed: 28.36 toks/s]\n",
      "100%|██████████| 1/1 [00:00<00:00,  1.00it/s]\n"
     ]
    },
    {
     "name": "stdout",
     "output_type": "stream",
     "text": [
      "{'Product': ['Cp-CH(CH3)Cyl2ZrCI2'], 'Yield': ['almost quantitative']}\n",
      "第9条数据\n"
     ]
    },
    {
     "name": "stderr",
     "output_type": "stream",
     "text": [
      "Processed prompts: 100%|██████████| 1/1 [00:02<00:00,  2.75s/it, Generation Speed: 26.22 toks/s]\n",
      "100%|██████████| 1/1 [00:02<00:00,  2.76s/it]\n"
     ]
    },
    {
     "name": "stdout",
     "output_type": "stream",
     "text": [
      "{'Reactants': ['benzofuran dioxetane', '2s', 'dimethyl', 'diphenyl sulfide'], 'Solvent': ['deutericchloroform'], 'Temperature': ['-30 O C'], 'Time': ['15 min'], 'Product': ['benzofuran epoxide']}\n"
     ]
    },
    {
     "name": "stderr",
     "output_type": "stream",
     "text": [
      "Processed prompts: 100%|██████████| 1/1 [00:02<00:00,  2.81s/it, Generation Speed: 27.08 toks/s]\n",
      "100%|██████████| 1/1 [00:02<00:00,  2.83s/it]\n"
     ]
    },
    {
     "name": "stdout",
     "output_type": "stream",
     "text": [
      "{'Reactants': ['benzofuran dioxetane', '2s', 'dimethyl', 'diphenyl sulfide'], 'Solvent': ['deutericchloroform'], 'Temperature': ['-30 O C'], 'Time': ['15 min'], 'Product': ['3a'], 'Yield': ['quantitative']}\n"
     ]
    },
    {
     "name": "stderr",
     "output_type": "stream",
     "text": [
      "Processed prompts: 100%|██████████| 1/1 [00:02<00:00,  2.32s/it, Generation Speed: 18.54 toks/s]\n",
      "100%|██████████| 1/1 [00:02<00:00,  2.33s/it]\n"
     ]
    },
    {
     "name": "stdout",
     "output_type": "stream",
     "text": [
      "{'Reactants': ['diphenyl sulfide'], 'Temperature': ['-30 O C'], 'Time': ['15 min'], 'Product': ['diphenyl sulfoxide']}\n",
      "第10条数据\n"
     ]
    },
    {
     "name": "stderr",
     "output_type": "stream",
     "text": [
      "Processed prompts: 100%|██████████| 1/1 [00:01<00:00,  1.59s/it, Generation Speed: 20.77 toks/s]\n",
      "100%|██████████| 1/1 [00:01<00:00,  1.60s/it]\n"
     ]
    },
    {
     "name": "stdout",
     "output_type": "stream",
     "text": [
      "{'Reactants': ['Cyclooctatetraene', 'COT'], 'Product': ['benzene'], 'Temperature': ['low']}\n"
     ]
    },
    {
     "name": "stderr",
     "output_type": "stream",
     "text": [
      "Processed prompts: 100%|██████████| 1/1 [00:03<00:00,  3.31s/it, Generation Speed: 15.74 toks/s]\n",
      "100%|██████████| 1/1 [00:03<00:00,  3.32s/it]\n"
     ]
    },
    {
     "name": "stdout",
     "output_type": "stream",
     "text": [
      "{'Reactants': ['Cyclooctatetraene', 'COT'], 'Product': ['benzene.'], 'Catalyst_Reagents': ['Pd( 11 1 )'], 'Temperature': ['low']}\n",
      "第11条数据\n"
     ]
    },
    {
     "name": "stderr",
     "output_type": "stream",
     "text": [
      "Processed prompts: 100%|██████████| 1/1 [00:01<00:00,  1.87s/it, Generation Speed: 13.91 toks/s]\n",
      "100%|██████████| 1/1 [00:01<00:00,  1.88s/it]\n"
     ]
    },
    {
     "name": "stdout",
     "output_type": "stream",
     "text": [
      "{'Catalyst_Reagents': ['4'], 'Reactants': ['1a'], 'Product': ['2a']}\n",
      "第12条数据\n"
     ]
    },
    {
     "name": "stderr",
     "output_type": "stream",
     "text": [
      "Processed prompts: 100%|██████████| 1/1 [00:02<00:00,  2.36s/it, Generation Speed: 14.84 toks/s]\n",
      "100%|██████████| 1/1 [00:02<00:00,  2.37s/it]\n"
     ]
    },
    {
     "name": "stdout",
     "output_type": "stream",
     "text": [
      "{'Reactants': ['thiophenol', 'phenylacetylene'], 'Product': ['phenylglyoxal hemithioacetal.']}\n",
      "第13条数据\n"
     ]
    },
    {
     "name": "stderr",
     "output_type": "stream",
     "text": [
      "Processed prompts: 100%|██████████| 1/1 [00:04<00:00,  4.25s/it, Generation Speed: 19.76 toks/s]\n",
      "100%|██████████| 1/1 [00:04<00:00,  4.26s/it]\n"
     ]
    },
    {
     "name": "stdout",
     "output_type": "stream",
     "text": [
      "{'Reactants': ['3,6-dinitrocarbazole'], 'Catalyst_Reagents': ['KzCO3', 'BrCH2C02Me'], 'Solvent': ['DMF'], 'Product': ['N-((methyloxycarbony1)- methyl)-3,6-diaminocarbazole.'], 'Yield': ['99 %']}\n",
      "第14条数据\n"
     ]
    },
    {
     "name": "stderr",
     "output_type": "stream",
     "text": [
      "Processed prompts: 100%|██████████| 1/1 [00:01<00:00,  1.77s/it, Generation Speed: 17.50 toks/s]\n",
      "100%|██████████| 1/1 [00:01<00:00,  1.78s/it]\n"
     ]
    },
    {
     "name": "stdout",
     "output_type": "stream",
     "text": [
      "{'Reactants': ['2-cy- clohexenone', '7a'], 'Product': ['2-cyclohexenol']}\n"
     ]
    },
    {
     "name": "stderr",
     "output_type": "stream",
     "text": [
      "Processed prompts: 100%|██████████| 1/1 [00:01<00:00,  1.60s/it, Generation Speed: 18.74 toks/s]\n",
      "100%|██████████| 1/1 [00:01<00:00,  1.61s/it]\n"
     ]
    },
    {
     "name": "stdout",
     "output_type": "stream",
     "text": [
      "{'Reactants': ['2-cy- clohexenone', '7a'], 'Product': ['cyclohexanol.']}\n",
      "第15条数据\n"
     ]
    },
    {
     "name": "stderr",
     "output_type": "stream",
     "text": [
      "Processed prompts: 100%|██████████| 1/1 [00:01<00:00,  1.31s/it, Generation Speed: 19.95 toks/s]\n",
      "100%|██████████| 1/1 [00:01<00:00,  1.31s/it]\n"
     ]
    },
    {
     "name": "stdout",
     "output_type": "stream",
     "text": [
      "{'Reactants': ['1a', '2a', 'CsF'], 'Product': ['benzylamine']}\n"
     ]
    },
    {
     "name": "stderr",
     "output_type": "stream",
     "text": [
      "Processed prompts: 100%|██████████| 1/1 [00:02<00:00,  2.15s/it, Generation Speed: 17.21 toks/s]\n",
      "100%|██████████| 1/1 [00:02<00:00,  2.16s/it]\n"
     ]
    },
    {
     "name": "stdout",
     "output_type": "stream",
     "text": [
      "{'Reactants': ['1a', '2a', 'CsF'], 'Product': ['5'], 'Yield': ['low'], 'Time': ['40']}\n"
     ]
    },
    {
     "name": "stderr",
     "output_type": "stream",
     "text": [
      "Processed prompts: 100%|██████████| 1/1 [00:01<00:00,  1.94s/it, Generation Speed: 17.08 toks/s]\n",
      "100%|██████████| 1/1 [00:01<00:00,  1.94s/it]\n"
     ]
    },
    {
     "name": "stdout",
     "output_type": "stream",
     "text": [
      "{'Reactants': ['1a', '2a', 'CsF'], 'Product': ['3a'], 'Yield': ['24 %']}\n",
      "第16条数据\n"
     ]
    },
    {
     "name": "stderr",
     "output_type": "stream",
     "text": [
      "Processed prompts: 100%|██████████| 1/1 [00:02<00:00,  2.83s/it, Generation Speed: 15.23 toks/s]\n",
      "100%|██████████| 1/1 [00:02<00:00,  2.84s/it]\n"
     ]
    },
    {
     "name": "stdout",
     "output_type": "stream",
     "text": [
      "{'Catalyst_Reagents': ['dioxovanadium(V)'], 'Reactants': ['chloride', 'hydrogen peroxide'], 'Product': ['chlorotrimethoxybenzene']}\n",
      "第17条数据\n"
     ]
    },
    {
     "name": "stderr",
     "output_type": "stream",
     "text": [
      "Processed prompts: 100%|██████████| 1/1 [00:01<00:00,  1.07s/it, Generation Speed: 26.21 toks/s]\n",
      "100%|██████████| 1/1 [00:01<00:00,  1.08s/it]\n"
     ]
    },
    {
     "name": "stdout",
     "output_type": "stream",
     "text": [
      "{'Reactants': ['diphenylketene'], 'Product': ['2'], 'Yield': ['61 %']}\n",
      "第18条数据\n"
     ]
    },
    {
     "name": "stderr",
     "output_type": "stream",
     "text": [
      "Processed prompts: 100%|██████████| 1/1 [00:02<00:00,  2.53s/it, Generation Speed: 17.05 toks/s]\n",
      "100%|██████████| 1/1 [00:02<00:00,  2.53s/it]\n"
     ]
    },
    {
     "name": "stdout",
     "output_type": "stream",
     "text": [
      "{'Catalyst_Reagents': ['AlCl3'], 'Reactants': ['naph- thacene', 'chloroacetyl chloride.'], 'Product': ['acenaphthacenone']}\n"
     ]
    },
    {
     "name": "stderr",
     "output_type": "stream",
     "text": [
      "Processed prompts: 100%|██████████| 1/1 [00:01<00:00,  1.79s/it, Generation Speed: 21.23 toks/s]\n",
      "100%|██████████| 1/1 [00:01<00:00,  1.80s/it]\n"
     ]
    },
    {
     "name": "stdout",
     "output_type": "stream",
     "text": [
      "{'Reactants': ['naph- thacene', 'chloroacetyl chloride'], 'Catalyst_Reagents': ['AlCl3'], 'Product': ['6']}\n",
      "第19条数据\n"
     ]
    },
    {
     "name": "stderr",
     "output_type": "stream",
     "text": [
      "Processed prompts: 100%|██████████| 1/1 [00:01<00:00,  2.00s/it, Generation Speed: 17.03 toks/s]\n",
      "100%|██████████| 1/1 [00:02<00:00,  2.01s/it]\n"
     ]
    },
    {
     "name": "stdout",
     "output_type": "stream",
     "text": [
      "{'Reactants': ['6'], 'Catalyst_Reagents': ['TiCl4'], 'Solvent': ['ODCB'], 'Product': ['4']}\n",
      "第20条数据\n"
     ]
    },
    {
     "name": "stderr",
     "output_type": "stream",
     "text": [
      "Processed prompts: 100%|██████████| 1/1 [00:01<00:00,  1.64s/it, Generation Speed: 18.37 toks/s]\n",
      "100%|██████████| 1/1 [00:01<00:00,  1.64s/it]\n"
     ]
    },
    {
     "name": "stdout",
     "output_type": "stream",
     "text": [
      "{'Product': ['4aa'], 'Catalyst_Reagents': ['EDCI', 'KHCO3', 'HOAt15']}\n",
      "第21条数据\n"
     ]
    },
    {
     "name": "stderr",
     "output_type": "stream",
     "text": [
      "Processed prompts: 100%|██████████| 1/1 [00:03<00:00,  3.89s/it, Generation Speed: 17.24 toks/s]\n",
      "100%|██████████| 1/1 [00:03<00:00,  3.90s/it]\n"
     ]
    },
    {
     "name": "stdout",
     "output_type": "stream",
     "text": [
      "{'Reactants': ['(Z)-1a'], 'Product': ['2aa'], 'Catalyst_Reagents': ['Pd2dba3', 'PPh3'], 'Solvent': ['MeOH'], 'Temperature': ['25 ° C'], 'Time': ['1 h']}\n",
      "第22条数据\n"
     ]
    },
    {
     "name": "stderr",
     "output_type": "stream",
     "text": [
      "Processed prompts: 100%|██████████| 1/1 [00:01<00:00,  1.34s/it, Generation Speed: 20.18 toks/s]\n",
      "100%|██████████| 1/1 [00:01<00:00,  1.35s/it]\n"
     ]
    },
    {
     "name": "stdout",
     "output_type": "stream",
     "text": [
      "{'Reactants': ['NHC catalyst', 'cinnamaldehydes', '1'], 'Product': ['7']}\n"
     ]
    },
    {
     "name": "stderr",
     "output_type": "stream",
     "text": [
      "Processed prompts: 100%|██████████| 1/1 [00:02<00:00,  2.31s/it, Generation Speed: 16.04 toks/s]\n",
      "100%|██████████| 1/1 [00:02<00:00,  2.31s/it]\n"
     ]
    },
    {
     "name": "stdout",
     "output_type": "stream",
     "text": [
      "{'Reactants': ['cinnamaldehydes', '1'], 'Catalyst_Reagents': ['NHC catalyst', '4'], 'Product': ['8']}\n",
      "第23条数据\n"
     ]
    },
    {
     "name": "stderr",
     "output_type": "stream",
     "text": [
      "Processed prompts: 100%|██████████| 1/1 [00:01<00:00,  1.73s/it, Generation Speed: 11.00 toks/s]\n",
      "100%|██████████| 1/1 [00:01<00:00,  1.74s/it]\n"
     ]
    },
    {
     "name": "stdout",
     "output_type": "stream",
     "text": [
      "{'Reactants': ['2', '8'], 'Product': ['10.']}\n",
      "第24条数据\n"
     ]
    },
    {
     "name": "stderr",
     "output_type": "stream",
     "text": [
      "Processed prompts: 100%|██████████| 1/1 [00:01<00:00,  1.45s/it, Generation Speed: 11.71 toks/s]\n",
      "100%|██████████| 1/1 [00:01<00:00,  1.46s/it]\n"
     ]
    },
    {
     "name": "stdout",
     "output_type": "stream",
     "text": [
      "{'Reactants': ['10'], 'Product': ['11.']}\n",
      "第25条数据\n"
     ]
    },
    {
     "name": "stderr",
     "output_type": "stream",
     "text": [
      "Processed prompts: 100%|██████████| 1/1 [00:01<00:00,  1.65s/it, Generation Speed: 19.48 toks/s]\n",
      "100%|██████████| 1/1 [00:01<00:00,  1.65s/it]\n"
     ]
    },
    {
     "name": "stdout",
     "output_type": "stream",
     "text": [
      "{'Reactants': ['30'], 'Catalyst_Reagents': ['AgNO3', 'NBS'], 'Product': ['31']}\n",
      "第26条数据\n"
     ]
    },
    {
     "name": "stderr",
     "output_type": "stream",
     "text": [
      "Processed prompts: 100%|██████████| 1/1 [00:01<00:00,  1.92s/it, Generation Speed: 20.34 toks/s]\n",
      "100%|██████████| 1/1 [00:01<00:00,  1.93s/it]\n",
      "Processed prompts: 100%|██████████| 1/1 [00:02<00:00,  2.06s/it, Generation Speed: 14.58 toks/s]\n",
      "100%|██████████| 1/1 [00:02<00:00,  2.06s/it]\n"
     ]
    },
    {
     "name": "stdout",
     "output_type": "stream",
     "text": [
      "{'Reactants': ['5', 'HBFdEt20'], 'Product': ['6'], 'Solvent': ['ethereal']}\n",
      "第27条数据\n"
     ]
    },
    {
     "name": "stderr",
     "output_type": "stream",
     "text": [
      "Processed prompts: 100%|██████████| 1/1 [00:01<00:00,  1.20s/it, Generation Speed: 14.24 toks/s]\n",
      "100%|██████████| 1/1 [00:01<00:00,  1.20s/it]\n"
     ]
    },
    {
     "name": "stdout",
     "output_type": "stream",
     "text": [
      "{'Product': ['7a'], 'Yield': ['22 %']}\n"
     ]
    },
    {
     "name": "stderr",
     "output_type": "stream",
     "text": [
      "Processed prompts: 100%|██████████| 1/1 [00:01<00:00,  1.40s/it, Generation Speed: 11.47 toks/s]\n",
      "100%|██████████| 1/1 [00:01<00:00,  1.41s/it]\n"
     ]
    },
    {
     "name": "stdout",
     "output_type": "stream",
     "text": [
      "{'Product': ['7b'], 'Yield': ['8 %']}\n"
     ]
    },
    {
     "name": "stderr",
     "output_type": "stream",
     "text": [
      "Processed prompts: 100%|██████████| 1/1 [00:00<00:00,  1.25it/s, Generation Speed: 10.05 toks/s]\n",
      "100%|██████████| 1/1 [00:00<00:00,  1.24it/s]\n"
     ]
    },
    {
     "name": "stdout",
     "output_type": "stream",
     "text": [
      "{'Product': ['8a']}\n"
     ]
    },
    {
     "name": "stderr",
     "output_type": "stream",
     "text": [
      "Processed prompts: 100%|██████████| 1/1 [00:00<00:00,  1.03it/s, Generation Speed: 8.26 toks/s]\n",
      "100%|██████████| 1/1 [00:00<00:00,  1.02it/s]\n"
     ]
    },
    {
     "name": "stdout",
     "output_type": "stream",
     "text": [
      "{'Product': ['8b']}\n"
     ]
    },
    {
     "name": "stderr",
     "output_type": "stream",
     "text": [
      "Processed prompts: 100%|██████████| 1/1 [00:02<00:00,  2.02s/it, Generation Speed: 14.38 toks/s]\n",
      "100%|██████████| 1/1 [00:02<00:00,  2.03s/it]\n"
     ]
    },
    {
     "name": "stdout",
     "output_type": "stream",
     "text": [
      "{'Product': ['(propynylfenchol)Co2(C0)6'], 'Yield': ['23 %']}\n"
     ]
    },
    {
     "name": "stderr",
     "output_type": "stream",
     "text": [
      "Processed prompts: 100%|██████████| 1/1 [00:01<00:00,  1.20s/it, Generation Speed: 14.25 toks/s]\n",
      "100%|██████████| 1/1 [00:01<00:00,  1.20s/it]\n"
     ]
    },
    {
     "name": "stdout",
     "output_type": "stream",
     "text": [
      "{'Product': ['Sb'], 'Yield': ['23 %']}\n",
      "第28条数据\n"
     ]
    },
    {
     "name": "stderr",
     "output_type": "stream",
     "text": [
      "Processed prompts: 100%|██████████| 1/1 [00:01<00:00,  1.84s/it, Generation Speed: 22.35 toks/s]\n",
      "100%|██████████| 1/1 [00:01<00:00,  1.85s/it]\n"
     ]
    },
    {
     "name": "stdout",
     "output_type": "stream",
     "text": [
      "{'Product': ['l-propynyl- 2-methylene-7,7-dimethylbicyclo[2.2.1]heptane)Coz(C0)']}\n"
     ]
    },
    {
     "name": "stderr",
     "output_type": "stream",
     "text": [
      "Processed prompts: 100%|██████████| 1/1 [00:02<00:00,  2.63s/it, Generation Speed: 15.64 toks/s]\n",
      "100%|██████████| 1/1 [00:02<00:00,  2.64s/it]\n"
     ]
    },
    {
     "name": "stdout",
     "output_type": "stream",
     "text": [
      "{'Product': ['1 -propynyl-2,7,7-trimethylbicyclo[2.2.l]-2-heptene)Co2- (CO)6']}\n",
      "第29条数据\n"
     ]
    },
    {
     "name": "stderr",
     "output_type": "stream",
     "text": [
      "Processed prompts: 100%|██████████| 1/1 [00:00<00:00,  1.30it/s, Generation Speed: 22.15 toks/s]\n",
      "100%|██████████| 1/1 [00:00<00:00,  1.28it/s]\n"
     ]
    },
    {
     "name": "stdout",
     "output_type": "stream",
     "text": [
      "{'Product': ['8a'], 'Yield': ['very minor quantities']}\n"
     ]
    },
    {
     "name": "stderr",
     "output_type": "stream",
     "text": [
      "Processed prompts: 100%|██████████| 1/1 [00:01<00:00,  1.12s/it, Generation Speed: 14.29 toks/s]\n",
      "100%|██████████| 1/1 [00:01<00:00,  1.13s/it]\n"
     ]
    },
    {
     "name": "stdout",
     "output_type": "stream",
     "text": [
      "{'Yield': ['very minor'], 'Product': ['8b']}\n",
      "第30条数据\n"
     ]
    },
    {
     "name": "stderr",
     "output_type": "stream",
     "text": [
      "Processed prompts: 100%|██████████| 1/1 [00:01<00:00,  1.91s/it, Generation Speed: 13.09 toks/s]\n",
      "100%|██████████| 1/1 [00:01<00:00,  1.92s/it]\n"
     ]
    },
    {
     "name": "stdout",
     "output_type": "stream",
     "text": [
      "{'Reactants': ['trifluoroacetic acid', 'I b'], 'Product': ['I b']}\n",
      "第31条数据\n"
     ]
    },
    {
     "name": "stderr",
     "output_type": "stream",
     "text": [
      "Processed prompts: 100%|██████████| 1/1 [00:00<00:00,  1.40it/s, Generation Speed: 14.06 toks/s]\n",
      "100%|██████████| 1/1 [00:00<00:00,  1.38it/s]\n"
     ]
    },
    {
     "name": "stdout",
     "output_type": "stream",
     "text": [
      "{'Product': ['3bCDCh']}\n"
     ]
    },
    {
     "name": "stderr",
     "output_type": "stream",
     "text": [
      "Processed prompts: 100%|██████████| 1/1 [00:00<00:00,  1.64it/s, Generation Speed: 14.86 toks/s]\n",
      "100%|██████████| 1/1 [00:00<00:00,  1.62it/s]\n"
     ]
    },
    {
     "name": "stdout",
     "output_type": "stream",
     "text": [
      "{'Product': ['Ib.']}\n",
      "第32条数据\n"
     ]
    },
    {
     "name": "stderr",
     "output_type": "stream",
     "text": [
      "Processed prompts: 100%|██████████| 1/1 [00:02<00:00,  2.29s/it, Generation Speed: 15.71 toks/s]\n",
      "100%|██████████| 1/1 [00:02<00:00,  2.30s/it]\n"
     ]
    },
    {
     "name": "stdout",
     "output_type": "stream",
     "text": [
      "{'Product': ['WBS'], 'Reactants': ['Ib', 'pyrazine'], 'Solvent': ['9 : I CHCIKHIOH.']}\n",
      "第33条数据\n"
     ]
    },
    {
     "name": "stderr",
     "output_type": "stream",
     "text": [
      "Processed prompts: 100%|██████████| 1/1 [00:01<00:00,  1.81s/it, Generation Speed: 24.35 toks/s]\n",
      "100%|██████████| 1/1 [00:01<00:00,  1.82s/it]\n"
     ]
    },
    {
     "name": "stdout",
     "output_type": "stream",
     "text": [
      "{'Temperature': ['80 ( cid : 176 ) C'], 'Product': ['1-octanoic acid'], 'Yield': ['82 %'], 'Time': ['6 h']}\n",
      "第34条数据\n"
     ]
    },
    {
     "name": "stderr",
     "output_type": "stream",
     "text": [
      "Processed prompts: 100%|██████████| 1/1 [00:02<00:00,  2.53s/it, Generation Speed: 12.64 toks/s]\n",
      "100%|██████████| 1/1 [00:02<00:00,  2.54s/it]\n"
     ]
    },
    {
     "name": "stdout",
     "output_type": "stream",
     "text": [
      "{'Reactants': ['42b'], 'Catalyst_Reagents': ['thexylborane'], 'Product': ['43a']}\n",
      "第35条数据\n"
     ]
    },
    {
     "name": "stderr",
     "output_type": "stream",
     "text": [
      "Processed prompts: 100%|██████████| 1/1 [00:01<00:00,  1.24s/it, Generation Speed: 16.13 toks/s]\n",
      "100%|██████████| 1/1 [00:01<00:00,  1.25s/it]\n"
     ]
    },
    {
     "name": "stdout",
     "output_type": "stream",
     "text": [
      "{'Reactants': ['2', 'KMn04'], 'Product': ['3']}\n",
      "第36条数据\n"
     ]
    },
    {
     "name": "stderr",
     "output_type": "stream",
     "text": [
      "Processed prompts: 100%|██████████| 1/1 [00:03<00:00,  3.50s/it, Generation Speed: 20.01 toks/s]\n",
      "100%|██████████| 1/1 [00:03<00:00,  3.51s/it]\n"
     ]
    },
    {
     "name": "stdout",
     "output_type": "stream",
     "text": [
      "{'Reactants': ['(4-tert-butyl-2,6-dimethylphenyl)mesitylketene', '5'], 'Product': ['1,2-bis(4-tert-buty1-2,6-dimethylphenyl)- 1 ,Zdimesitylethene']}\n"
     ]
    },
    {
     "name": "stderr",
     "output_type": "stream",
     "text": [
      "Processed prompts: 100%|██████████| 1/1 [00:01<00:00,  1.94s/it, Generation Speed: 19.64 toks/s]\n",
      "100%|██████████| 1/1 [00:01<00:00,  1.95s/it]\n"
     ]
    },
    {
     "name": "stdout",
     "output_type": "stream",
     "text": [
      "{'Reactants': ['(4-tert-butyl-2,6-dimethylphenyl)mesitylketene', '5'], 'Product': ['4']}\n",
      "第37条数据\n"
     ]
    },
    {
     "name": "stderr",
     "output_type": "stream",
     "text": [
      "Processed prompts: 100%|██████████| 1/1 [00:03<00:00,  3.88s/it, Generation Speed: 18.57 toks/s]\n",
      "100%|██████████| 1/1 [00:03<00:00,  3.89s/it]\n"
     ]
    },
    {
     "name": "stdout",
     "output_type": "stream",
     "text": [
      "{'Reactants': ['2-methylfuran', '3-bromobenzyne', '3', '1,3-dibromobenzene', 'lithium diisopropylamide', 'LDA'], 'Product': ['1,4-dihydro-1,4-epoxynaphthalenes']}\n"
     ]
    },
    {
     "name": "stderr",
     "output_type": "stream",
     "text": [
      "Processed prompts: 100%|██████████| 1/1 [00:04<00:00,  4.35s/it, Generation Speed: 12.89 toks/s]\n",
      "100%|██████████| 1/1 [00:04<00:00,  4.36s/it]\n"
     ]
    },
    {
     "name": "stdout",
     "output_type": "stream",
     "text": [
      "{'Reactants': ['2-methylfuran', '3-bromobenzyne', '3', '1,3-dibromobenzene', 'lithium diisopropylamide', 'LDA'], 'Product': ['4']}\n"
     ]
    },
    {
     "name": "stderr",
     "output_type": "stream",
     "text": [
      "Processed prompts: 100%|██████████| 1/1 [00:02<00:00,  2.76s/it, Generation Speed: 20.68 toks/s]\n",
      "100%|██████████| 1/1 [00:02<00:00,  2.77s/it]\n"
     ]
    },
    {
     "name": "stdout",
     "output_type": "stream",
     "text": [
      "{'Reactants': ['2-methylfuran', '3-bromobenzyne', '3', '1,3-dibromobenzene', 'lithium diisopropylamide', 'LDA'], 'Product': ['5.']}\n"
     ]
    },
    {
     "name": "stderr",
     "output_type": "stream",
     "text": [
      "Processed prompts: 100%|██████████| 1/1 [00:02<00:00,  2.44s/it, Generation Speed: 17.65 toks/s]\n",
      "100%|██████████| 1/1 [00:02<00:00,  2.45s/it]\n"
     ]
    },
    {
     "name": "stdout",
     "output_type": "stream",
     "text": [
      "{'Reactants': ['1,3-dibromobenzene', 'lithium diisopropylamide', 'LDA'], 'Product': ['3-bromobenzyne']}\n"
     ]
    },
    {
     "name": "stderr",
     "output_type": "stream",
     "text": [
      "Processed prompts: 100%|██████████| 1/1 [00:01<00:00,  1.72s/it, Generation Speed: 21.51 toks/s]\n",
      "100%|██████████| 1/1 [00:01<00:00,  1.73s/it]\n"
     ]
    },
    {
     "name": "stdout",
     "output_type": "stream",
     "text": [
      "{'Reactants': ['1,3-dibromobenzene', 'lithium diisopropylamide', 'LDA'], 'Product': ['3']}\n",
      "第38条数据\n"
     ]
    },
    {
     "name": "stderr",
     "output_type": "stream",
     "text": [
      "Processed prompts: 100%|██████████| 1/1 [00:01<00:00,  1.23s/it, Generation Speed: 26.11 toks/s]\n",
      "100%|██████████| 1/1 [00:01<00:00,  1.24s/it]\n"
     ]
    },
    {
     "name": "stdout",
     "output_type": "stream",
     "text": [
      "{'Reactants': ['I'], 'Product': ['3a'], 'Yield': ['98 % ee', '5 : 1 dr']}\n",
      "第39条数据\n"
     ]
    },
    {
     "name": "stderr",
     "output_type": "stream",
     "text": [
      "Processed prompts: 100%|██████████| 1/1 [00:00<00:00,  1.20it/s, Generation Speed: 16.79 toks/s]\n",
      "100%|██████████| 1/1 [00:00<00:00,  1.18it/s]\n"
     ]
    },
    {
     "name": "stdout",
     "output_type": "stream",
     "text": [
      "{'Reactants': ['2'], 'Product': ['3']}\n",
      "第40条数据\n"
     ]
    },
    {
     "name": "stderr",
     "output_type": "stream",
     "text": [
      "Processed prompts: 100%|██████████| 1/1 [00:01<00:00,  1.53s/it, Generation Speed: 24.30 toks/s]\n",
      "100%|██████████| 1/1 [00:01<00:00,  1.53s/it]\n"
     ]
    },
    {
     "name": "stdout",
     "output_type": "stream",
     "text": [
      "{'Reactants': ['CpFe(CO)zSiMe3', 'l a'], 'Product': ['2a'], 'Yield': ['21 %']}\n"
     ]
    },
    {
     "name": "stderr",
     "output_type": "stream",
     "text": [
      "Processed prompts: 100%|██████████| 1/1 [00:01<00:00,  1.31s/it, Generation Speed: 29.81 toks/s]\n",
      "100%|██████████| 1/1 [00:01<00:00,  1.32s/it]\n"
     ]
    },
    {
     "name": "stdout",
     "output_type": "stream",
     "text": [
      "{'Reactants': ['CpFe(CO)zSiMe3', 'lb,c'], 'Product': ['2b,c.'], 'Yield': ['isolable quantity']}\n",
      "第41条数据\n"
     ]
    },
    {
     "name": "stderr",
     "output_type": "stream",
     "text": [
      "Processed prompts: 100%|██████████| 1/1 [00:01<00:00,  1.62s/it, Generation Speed: 11.10 toks/s]\n",
      "100%|██████████| 1/1 [00:01<00:00,  1.63s/it]\n"
     ]
    },
    {
     "name": "stdout",
     "output_type": "stream",
     "text": [
      "{'Yield': ['3.9 %'], 'Product': ['3a']}\n"
     ]
    },
    {
     "name": "stderr",
     "output_type": "stream",
     "text": [
      "Processed prompts: 100%|██████████| 1/1 [00:00<00:00,  1.43it/s, Generation Speed: 11.51 toks/s]\n",
      "100%|██████████| 1/1 [00:00<00:00,  1.42it/s]\n"
     ]
    },
    {
     "name": "stdout",
     "output_type": "stream",
     "text": [
      "{'Product': ['3b']}\n",
      "第42条数据\n"
     ]
    },
    {
     "name": "stderr",
     "output_type": "stream",
     "text": [
      "Processed prompts: 100%|██████████| 1/1 [00:01<00:00,  1.87s/it, Generation Speed: 26.31 toks/s]\n",
      "100%|██████████| 1/1 [00:01<00:00,  1.87s/it]\n"
     ]
    },
    {
     "name": "stdout",
     "output_type": "stream",
     "text": [
      "{'Reactants': ['1'], 'Catalyst_Reagents': ['CAN'], 'Product': ['2-(2,4-dimethoxyphenyl)-p-benzoquinone'], 'Yield': ['8 %']}\n",
      "第43条数据\n"
     ]
    },
    {
     "name": "stderr",
     "output_type": "stream",
     "text": [
      "Processed prompts: 100%|██████████| 1/1 [00:02<00:00,  2.64s/it, Generation Speed: 20.85 toks/s]\n",
      "100%|██████████| 1/1 [00:02<00:00,  2.65s/it]\n"
     ]
    },
    {
     "name": "stdout",
     "output_type": "stream",
     "text": [
      "{'Reactants': ['styrene− yne', '30'], 'Solvent': ['DCE'], 'Temperature': ['180 ° C'], 'Product': ['dihydronaphthalene']}\n"
     ]
    },
    {
     "name": "stderr",
     "output_type": "stream",
     "text": [
      "Processed prompts: 100%|██████████| 1/1 [00:02<00:00,  2.35s/it, Generation Speed: 24.72 toks/s]\n",
      "100%|██████████| 1/1 [00:02<00:00,  2.36s/it]\n"
     ]
    },
    {
     "name": "stdout",
     "output_type": "stream",
     "text": [
      "{'Reactants': ['styrene− yne', '30'], 'Solvent': ['DCE'], 'Temperature': ['180 ° C'], 'Product': ['31b'], 'Time': ['2 min']}\n"
     ]
    },
    {
     "name": "stderr",
     "output_type": "stream",
     "text": [
      "Processed prompts: 100%|██████████| 1/1 [00:02<00:00,  2.08s/it, Generation Speed: 25.06 toks/s]\n",
      "100%|██████████| 1/1 [00:02<00:00,  2.08s/it]\n"
     ]
    },
    {
     "name": "stdout",
     "output_type": "stream",
     "text": [
      "{'Reactants': ['styrene− yne', '30'], 'Solvent': ['DCE'], 'Temperature': ['180 ° C'], 'Product': ['naphthalene']}\n"
     ]
    },
    {
     "name": "stderr",
     "output_type": "stream",
     "text": [
      "Processed prompts: 100%|██████████| 1/1 [00:02<00:00,  2.31s/it, Generation Speed: 25.15 toks/s]\n",
      "100%|██████████| 1/1 [00:02<00:00,  2.32s/it]\n"
     ]
    },
    {
     "name": "stdout",
     "output_type": "stream",
     "text": [
      "{'Reactants': ['styrene− yne', '30'], 'Solvent': ['DCE'], 'Temperature': ['180 ° C'], 'Product': ['31a'], 'Time': ['2 min']}\n",
      "第44条数据\n"
     ]
    },
    {
     "name": "stderr",
     "output_type": "stream",
     "text": [
      "Processed prompts: 100%|██████████| 1/1 [00:01<00:00,  1.17s/it, Generation Speed: 24.76 toks/s]\n",
      "100%|██████████| 1/1 [00:01<00:00,  1.18s/it]\n"
     ]
    },
    {
     "name": "stdout",
     "output_type": "stream",
     "text": [
      "{'Reactants': ['Deoxy-Mb'], 'Workup_reagents': ['quinone'], 'Product': ['met-Mb']}\n",
      "第45条数据\n"
     ]
    },
    {
     "name": "stderr",
     "output_type": "stream",
     "text": [
      "Processed prompts: 100%|██████████| 1/1 [00:00<00:00,  1.62it/s, Generation Speed: 11.38 toks/s]\n",
      "100%|██████████| 1/1 [00:00<00:00,  1.60it/s]\n"
     ]
    },
    {
     "name": "stdout",
     "output_type": "stream",
     "text": [
      "{'Product': ['I']}\n",
      "第46条数据\n"
     ]
    },
    {
     "name": "stderr",
     "output_type": "stream",
     "text": [
      "Processed prompts: 100%|██████████| 1/1 [00:01<00:00,  1.57s/it, Generation Speed: 21.68 toks/s]\n",
      "100%|██████████| 1/1 [00:01<00:00,  1.58s/it]\n"
     ]
    },
    {
     "name": "stdout",
     "output_type": "stream",
     "text": [
      "{'Reactants': ['l-(diazomethyl)-8-methylnaphthalene', '2'], 'Product': ['acenaphthene']}\n"
     ]
    },
    {
     "name": "stderr",
     "output_type": "stream",
     "text": [
      "Processed prompts: 100%|██████████| 1/1 [00:02<00:00,  2.56s/it, Generation Speed: 12.11 toks/s]\n",
      "100%|██████████| 1/1 [00:02<00:00,  2.57s/it]\n"
     ]
    },
    {
     "name": "stdout",
     "output_type": "stream",
     "text": [
      "{'Reactants': ['l-(diazomethyl)-8-methylnaphthalene', '2'], 'Product': ['3']}\n",
      "第47条数据\n"
     ]
    },
    {
     "name": "stderr",
     "output_type": "stream",
     "text": [
      "Processed prompts: 100%|██████████| 1/1 [00:00<00:00,  2.28it/s, Generation Speed: 16.04 toks/s]\n",
      "100%|██████████| 1/1 [00:00<00:00,  2.25it/s]\n"
     ]
    },
    {
     "name": "stdout",
     "output_type": "stream",
     "text": [
      "{'Product': ['3']}\n"
     ]
    },
    {
     "name": "stderr",
     "output_type": "stream",
     "text": [
      "Processed prompts: 100%|██████████| 1/1 [00:00<00:00,  2.29it/s, Generation Speed: 16.11 toks/s]\n",
      "100%|██████████| 1/1 [00:00<00:00,  2.27it/s]\n"
     ]
    },
    {
     "name": "stdout",
     "output_type": "stream",
     "text": [
      "{'Product': ['4']}\n",
      "第48条数据\n"
     ]
    },
    {
     "name": "stderr",
     "output_type": "stream",
     "text": [
      "Processed prompts: 100%|██████████| 1/1 [00:01<00:00,  1.03s/it, Generation Speed: 27.25 toks/s]\n",
      "100%|██████████| 1/1 [00:01<00:00,  1.03s/it]\n"
     ]
    },
    {
     "name": "stdout",
     "output_type": "stream",
     "text": [
      "{'Reactants': ['4a', '5'], 'Product': ['3a'], 'Yield': ['25 %']}\n",
      "第49条数据\n"
     ]
    },
    {
     "name": "stderr",
     "output_type": "stream",
     "text": [
      "Processed prompts: 100%|██████████| 1/1 [00:01<00:00,  1.57s/it, Generation Speed: 15.29 toks/s]\n",
      "100%|██████████| 1/1 [00:01<00:00,  1.58s/it]\n"
     ]
    },
    {
     "name": "stdout",
     "output_type": "stream",
     "text": [
      "{'Reactants': ['3b-e.I0'], 'Product': ['4b-elo9l1']}\n",
      "第50条数据\n"
     ]
    },
    {
     "name": "stderr",
     "output_type": "stream",
     "text": [
      "Processed prompts: 100%|██████████| 1/1 [00:00<00:00,  1.44it/s, Generation Speed: 25.90 toks/s]\n",
      "100%|██████████| 1/1 [00:00<00:00,  1.42it/s]\n"
     ]
    },
    {
     "name": "stdout",
     "output_type": "stream",
     "text": [
      "{'Reactants': ['4a'], 'Product': ['4c-e.']}\n",
      "第51条数据\n"
     ]
    },
    {
     "name": "stderr",
     "output_type": "stream",
     "text": [
      "Processed prompts: 100%|██████████| 1/1 [00:01<00:00,  1.45s/it, Generation Speed: 33.84 toks/s]\n",
      "100%|██████████| 1/1 [00:01<00:00,  1.46s/it]\n"
     ]
    },
    {
     "name": "stdout",
     "output_type": "stream",
     "text": [
      "{'Reactants': ['enamide 5'], 'Solvent': ['MeOH'], 'Temperature': ['40 \" C'], 'Product': ['(R)-6'], 'Yield': ['62.6 % ee']}\n",
      "第52条数据\n"
     ]
    },
    {
     "name": "stderr",
     "output_type": "stream",
     "text": [
      "Processed prompts: 100%|██████████| 1/1 [00:01<00:00,  1.70s/it, Generation Speed: 17.67 toks/s]\n",
      "100%|██████████| 1/1 [00:01<00:00,  1.71s/it]\n"
     ]
    },
    {
     "name": "stdout",
     "output_type": "stream",
     "text": [
      "{'Product': ['(R)-6'], 'Yield': ['84.7 % ee', '88.4 % ee']}\n",
      "第53条数据\n"
     ]
    },
    {
     "name": "stderr",
     "output_type": "stream",
     "text": [
      "Processed prompts: 100%|██████████| 1/1 [00:01<00:00,  1.69s/it, Generation Speed: 24.95 toks/s]\n",
      "100%|██████████| 1/1 [00:01<00:00,  1.69s/it]\n"
     ]
    },
    {
     "name": "stdout",
     "output_type": "stream",
     "text": [
      "{'Reactants': ['enamide', '7', 'l a'], 'Solvent': ['CO2'], 'Product': ['8'], 'Yield': ['96.8 % ee']}\n",
      "第54条数据\n"
     ]
    },
    {
     "name": "stderr",
     "output_type": "stream",
     "text": [
      "Processed prompts: 100%|██████████| 1/1 [00:01<00:00,  1.72s/it, Generation Speed: 20.92 toks/s]\n",
      "100%|██████████| 1/1 [00:01<00:00,  1.73s/it]\n"
     ]
    },
    {
     "name": "stdout",
     "output_type": "stream",
     "text": [
      "{'Reactants': ['DPD diox- etane'], 'Time': ['2 h'], 'Temperature': ['60 OC'], 'Product': ['EGDB']}\n",
      "第55条数据\n"
     ]
    },
    {
     "name": "stderr",
     "output_type": "stream",
     "text": [
      "Processed prompts: 100%|██████████| 1/1 [00:01<00:00,  1.18s/it, Generation Speed: 16.99 toks/s]\n",
      "100%|██████████| 1/1 [00:01<00:00,  1.18s/it]\n"
     ]
    },
    {
     "name": "stdout",
     "output_type": "stream",
     "text": [
      "{'Product': ['2,3-diphenyl-l,4dioxene oxide']}\n",
      "第56条数据\n"
     ]
    },
    {
     "name": "stderr",
     "output_type": "stream",
     "text": [
      "Processed prompts: 100%|██████████| 1/1 [00:02<00:00,  2.17s/it, Generation Speed: 20.26 toks/s]\n",
      "100%|██████████| 1/1 [00:02<00:00,  2.18s/it]\n"
     ]
    },
    {
     "name": "stdout",
     "output_type": "stream",
     "text": [
      "{'Reactants': ['Br2', '1', '2'], 'Solvent': ['1,Zdichlorcethane'], 'Temperature': ['25 O C'], 'Product': ['3']}\n"
     ]
    },
    {
     "name": "stderr",
     "output_type": "stream",
     "text": [
      "Processed prompts: 100%|██████████| 1/1 [00:01<00:00,  1.77s/it, Generation Speed: 15.24 toks/s]\n",
      "100%|██████████| 1/1 [00:01<00:00,  1.78s/it]"
     ]
    },
    {
     "name": "stdout",
     "output_type": "stream",
     "text": [
      "{'Reactants': ['Br2', '2'], 'Product': ['4'], 'Temperature': ['25 O C']}\n",
      "TP, FP, FN 310 55 73\n",
      "NER:  precision, recall 0.8493150684931506 0.8093994778067886\n",
      "NER:  f1_score 0.8288770053475936\n"
     ]
    },
    {
     "name": "stderr",
     "output_type": "stream",
     "text": [
      "\n"
     ]
    },
    {
     "name": "stdout",
     "output_type": "stream",
     "text": [
      "\u001b[36m(RayWorkerWrapper pid=2086089)\u001b[0m ERROR 12-04 11:36:53 worker_base.py:148] Error executing method start_worker_execution_loop. This might cause deadlock in distributed execution.\n",
      "\u001b[36m(RayWorkerWrapper pid=2086089)\u001b[0m ERROR 12-04 11:36:53 worker_base.py:148] Traceback (most recent call last):\n",
      "\u001b[36m(RayWorkerWrapper pid=2086089)\u001b[0m ERROR 12-04 11:36:53 worker_base.py:148]   File \"/data/lizh/Conda/anaconda3/envs/vllm/lib/python3.9/site-packages/vllm/worker/worker_base.py\", line 140, in execute_method\n",
      "\u001b[36m(RayWorkerWrapper pid=2086089)\u001b[0m ERROR 12-04 11:36:53 worker_base.py:148]     return executor(*args, **kwargs)\n",
      "\u001b[36m(RayWorkerWrapper pid=2086089)\u001b[0m ERROR 12-04 11:36:53 worker_base.py:148]   File \"/data/lizh/Conda/anaconda3/envs/vllm/lib/python3.9/site-packages/torch/utils/_contextlib.py\", line 115, in decorate_context\n",
      "\u001b[36m(RayWorkerWrapper pid=2086089)\u001b[0m ERROR 12-04 11:36:53 worker_base.py:148]     return func(*args, **kwargs)\n",
      "\u001b[36m(RayWorkerWrapper pid=2086089)\u001b[0m ERROR 12-04 11:36:53 worker_base.py:148]   File \"/data/lizh/Conda/anaconda3/envs/vllm/lib/python3.9/site-packages/vllm/worker/worker.py\", line 286, in start_worker_execution_loop\n",
      "\u001b[36m(RayWorkerWrapper pid=2086089)\u001b[0m ERROR 12-04 11:36:53 worker_base.py:148]     while self._execute_model_non_driver():\n",
      "\u001b[36m(RayWorkerWrapper pid=2086089)\u001b[0m ERROR 12-04 11:36:53 worker_base.py:148]   File \"/data/lizh/Conda/anaconda3/envs/vllm/lib/python3.9/site-packages/vllm/worker/worker.py\", line 295, in _execute_model_non_driver\n",
      "\u001b[36m(RayWorkerWrapper pid=2086089)\u001b[0m ERROR 12-04 11:36:53 worker_base.py:148]     data = broadcast_tensor_dict(src=0)\n",
      "\u001b[36m(RayWorkerWrapper pid=2086089)\u001b[0m ERROR 12-04 11:36:53 worker_base.py:148]   File \"/data/lizh/Conda/anaconda3/envs/vllm/lib/python3.9/site-packages/vllm/distributed/communication_op.py\", line 284, in broadcast_tensor_dict\n",
      "\u001b[36m(RayWorkerWrapper pid=2086089)\u001b[0m ERROR 12-04 11:36:53 worker_base.py:148]     torch.distributed.broadcast_object_list(recv_metadata_list,\n",
      "\u001b[36m(RayWorkerWrapper pid=2086089)\u001b[0m ERROR 12-04 11:36:53 worker_base.py:148]   File \"/data/lizh/Conda/anaconda3/envs/vllm/lib/python3.9/site-packages/torch/distributed/c10d_logger.py\", line 75, in wrapper\n",
      "\u001b[36m(RayWorkerWrapper pid=2086089)\u001b[0m ERROR 12-04 11:36:53 worker_base.py:148]     return func(*args, **kwargs)\n",
      "\u001b[36m(RayWorkerWrapper pid=2086089)\u001b[0m ERROR 12-04 11:36:53 worker_base.py:148]   File \"/data/lizh/Conda/anaconda3/envs/vllm/lib/python3.9/site-packages/torch/distributed/distributed_c10d.py\", line 2649, in broadcast_object_list\n",
      "\u001b[36m(RayWorkerWrapper pid=2086089)\u001b[0m ERROR 12-04 11:36:53 worker_base.py:148]     broadcast(object_sizes_tensor, src=src, group=group)\n",
      "\u001b[36m(RayWorkerWrapper pid=2086089)\u001b[0m ERROR 12-04 11:36:53 worker_base.py:148]   File \"/data/lizh/Conda/anaconda3/envs/vllm/lib/python3.9/site-packages/torch/distributed/c10d_logger.py\", line 75, in wrapper\n",
      "\u001b[36m(RayWorkerWrapper pid=2086089)\u001b[0m ERROR 12-04 11:36:53 worker_base.py:148]     return func(*args, **kwargs)\n",
      "\u001b[36m(RayWorkerWrapper pid=2086089)\u001b[0m ERROR 12-04 11:36:53 worker_base.py:148]   File \"/data/lizh/Conda/anaconda3/envs/vllm/lib/python3.9/site-packages/torch/distributed/distributed_c10d.py\", line 2144, in broadcast\n",
      "\u001b[36m(RayWorkerWrapper pid=2086089)\u001b[0m ERROR 12-04 11:36:53 worker_base.py:148]     work.wait()\n",
      "\u001b[36m(RayWorkerWrapper pid=2086089)\u001b[0m ERROR 12-04 11:36:53 worker_base.py:148] RuntimeError: [../third_party/gloo/gloo/transport/tcp/unbound_buffer.cc:81] Timed out waiting 1800000ms for recv operation to complete\n"
     ]
    },
    {
     "name": "stderr",
     "output_type": "stream",
     "text": [
      "2024-12-04 11:36:58,756\tERROR worker.py:409 -- Unhandled error (suppress with 'RAY_IGNORE_UNHANDLED_ERRORS=1'): \u001b[36mray::RayWorkerWrapper.execute_method()\u001b[39m (pid=2086319, ip=211.86.155.202, actor_id=cafa37b087f7bbeb682b288c01000000, repr=<vllm.executor.ray_utils.RayWorkerWrapper object at 0x7f67dd1adeb0>)\n",
      "  File \"/data/lizh/Conda/anaconda3/envs/vllm/lib/python3.9/site-packages/vllm/worker/worker_base.py\", line 149, in execute_method\n",
      "    raise e\n",
      "  File \"/data/lizh/Conda/anaconda3/envs/vllm/lib/python3.9/site-packages/vllm/worker/worker_base.py\", line 140, in execute_method\n",
      "    return executor(*args, **kwargs)\n",
      "  File \"/data/lizh/Conda/anaconda3/envs/vllm/lib/python3.9/site-packages/torch/utils/_contextlib.py\", line 115, in decorate_context\n",
      "    return func(*args, **kwargs)\n",
      "  File \"/data/lizh/Conda/anaconda3/envs/vllm/lib/python3.9/site-packages/vllm/worker/worker.py\", line 286, in start_worker_execution_loop\n",
      "    while self._execute_model_non_driver():\n",
      "  File \"/data/lizh/Conda/anaconda3/envs/vllm/lib/python3.9/site-packages/vllm/worker/worker.py\", line 295, in _execute_model_non_driver\n",
      "    data = broadcast_tensor_dict(src=0)\n",
      "  File \"/data/lizh/Conda/anaconda3/envs/vllm/lib/python3.9/site-packages/vllm/distributed/communication_op.py\", line 284, in broadcast_tensor_dict\n",
      "    torch.distributed.broadcast_object_list(recv_metadata_list,\n",
      "  File \"/data/lizh/Conda/anaconda3/envs/vllm/lib/python3.9/site-packages/torch/distributed/c10d_logger.py\", line 75, in wrapper\n",
      "    return func(*args, **kwargs)\n",
      "  File \"/data/lizh/Conda/anaconda3/envs/vllm/lib/python3.9/site-packages/torch/distributed/distributed_c10d.py\", line 2649, in broadcast_object_list\n",
      "    broadcast(object_sizes_tensor, src=src, group=group)\n",
      "  File \"/data/lizh/Conda/anaconda3/envs/vllm/lib/python3.9/site-packages/torch/distributed/c10d_logger.py\", line 75, in wrapper\n",
      "    return func(*args, **kwargs)\n",
      "  File \"/data/lizh/Conda/anaconda3/envs/vllm/lib/python3.9/site-packages/torch/distributed/distributed_c10d.py\", line 2144, in broadcast\n",
      "    work.wait()\n",
      "RuntimeError: [../third_party/gloo/gloo/transport/tcp/unbound_buffer.cc:81] Timed out waiting 1800000ms for recv operation to complete\n",
      "2024-12-04 11:36:58,759\tERROR worker.py:409 -- Unhandled error (suppress with 'RAY_IGNORE_UNHANDLED_ERRORS=1'): \u001b[36mray::RayWorkerWrapper.execute_method()\u001b[39m (pid=2086089, ip=211.86.155.202, actor_id=e53eecd062982c723516bcf801000000, repr=<vllm.executor.ray_utils.RayWorkerWrapper object at 0x7f111febfee0>)\n",
      "  File \"/data/lizh/Conda/anaconda3/envs/vllm/lib/python3.9/site-packages/vllm/worker/worker_base.py\", line 149, in execute_method\n",
      "    raise e\n",
      "  File \"/data/lizh/Conda/anaconda3/envs/vllm/lib/python3.9/site-packages/vllm/worker/worker_base.py\", line 140, in execute_method\n",
      "    return executor(*args, **kwargs)\n",
      "  File \"/data/lizh/Conda/anaconda3/envs/vllm/lib/python3.9/site-packages/torch/utils/_contextlib.py\", line 115, in decorate_context\n",
      "    return func(*args, **kwargs)\n",
      "  File \"/data/lizh/Conda/anaconda3/envs/vllm/lib/python3.9/site-packages/vllm/worker/worker.py\", line 286, in start_worker_execution_loop\n",
      "    while self._execute_model_non_driver():\n",
      "  File \"/data/lizh/Conda/anaconda3/envs/vllm/lib/python3.9/site-packages/vllm/worker/worker.py\", line 295, in _execute_model_non_driver\n",
      "    data = broadcast_tensor_dict(src=0)\n",
      "  File \"/data/lizh/Conda/anaconda3/envs/vllm/lib/python3.9/site-packages/vllm/distributed/communication_op.py\", line 284, in broadcast_tensor_dict\n",
      "    torch.distributed.broadcast_object_list(recv_metadata_list,\n",
      "  File \"/data/lizh/Conda/anaconda3/envs/vllm/lib/python3.9/site-packages/torch/distributed/c10d_logger.py\", line 75, in wrapper\n",
      "    return func(*args, **kwargs)\n",
      "  File \"/data/lizh/Conda/anaconda3/envs/vllm/lib/python3.9/site-packages/torch/distributed/distributed_c10d.py\", line 2649, in broadcast_object_list\n",
      "    broadcast(object_sizes_tensor, src=src, group=group)\n",
      "  File \"/data/lizh/Conda/anaconda3/envs/vllm/lib/python3.9/site-packages/torch/distributed/c10d_logger.py\", line 75, in wrapper\n",
      "    return func(*args, **kwargs)\n",
      "  File \"/data/lizh/Conda/anaconda3/envs/vllm/lib/python3.9/site-packages/torch/distributed/distributed_c10d.py\", line 2144, in broadcast\n",
      "    work.wait()\n",
      "RuntimeError: [../third_party/gloo/gloo/transport/tcp/unbound_buffer.cc:81] Timed out waiting 1800000ms for recv operation to complete\n",
      "2024-12-04 11:36:58,761\tERROR worker.py:409 -- Unhandled error (suppress with 'RAY_IGNORE_UNHANDLED_ERRORS=1'): \u001b[36mray::RayWorkerWrapper.execute_method()\u001b[39m (pid=2086174, ip=211.86.155.202, actor_id=901088bad7dca96c20aed16f01000000, repr=<vllm.executor.ray_utils.RayWorkerWrapper object at 0x7f100544be20>)\n",
      "  File \"/data/lizh/Conda/anaconda3/envs/vllm/lib/python3.9/site-packages/vllm/worker/worker_base.py\", line 149, in execute_method\n",
      "    raise e\n",
      "  File \"/data/lizh/Conda/anaconda3/envs/vllm/lib/python3.9/site-packages/vllm/worker/worker_base.py\", line 140, in execute_method\n",
      "    return executor(*args, **kwargs)\n",
      "  File \"/data/lizh/Conda/anaconda3/envs/vllm/lib/python3.9/site-packages/torch/utils/_contextlib.py\", line 115, in decorate_context\n",
      "    return func(*args, **kwargs)\n",
      "  File \"/data/lizh/Conda/anaconda3/envs/vllm/lib/python3.9/site-packages/vllm/worker/worker.py\", line 286, in start_worker_execution_loop\n",
      "    while self._execute_model_non_driver():\n",
      "  File \"/data/lizh/Conda/anaconda3/envs/vllm/lib/python3.9/site-packages/vllm/worker/worker.py\", line 295, in _execute_model_non_driver\n",
      "    data = broadcast_tensor_dict(src=0)\n",
      "  File \"/data/lizh/Conda/anaconda3/envs/vllm/lib/python3.9/site-packages/vllm/distributed/communication_op.py\", line 284, in broadcast_tensor_dict\n",
      "    torch.distributed.broadcast_object_list(recv_metadata_list,\n",
      "  File \"/data/lizh/Conda/anaconda3/envs/vllm/lib/python3.9/site-packages/torch/distributed/c10d_logger.py\", line 75, in wrapper\n",
      "    return func(*args, **kwargs)\n",
      "  File \"/data/lizh/Conda/anaconda3/envs/vllm/lib/python3.9/site-packages/torch/distributed/distributed_c10d.py\", line 2649, in broadcast_object_list\n",
      "    broadcast(object_sizes_tensor, src=src, group=group)\n",
      "  File \"/data/lizh/Conda/anaconda3/envs/vllm/lib/python3.9/site-packages/torch/distributed/c10d_logger.py\", line 75, in wrapper\n",
      "    return func(*args, **kwargs)\n",
      "  File \"/data/lizh/Conda/anaconda3/envs/vllm/lib/python3.9/site-packages/torch/distributed/distributed_c10d.py\", line 2144, in broadcast\n",
      "    work.wait()\n",
      "RuntimeError: [../third_party/gloo/gloo/transport/tcp/unbound_buffer.cc:81] Timed out waiting 1800000ms for recv operation to complete\n"
     ]
    }
   ],
   "source": [
    "import os\n",
    "\n",
    "from evaluate import *\n",
    "from llm_re import *\n",
    "\n",
    "def main():\n",
    "    train_data,test_data=get_data()\n",
    "    prev_data=chem_re(train_data,test_data)\n",
    "    NER_f1(test_data,prev_data)\n",
    "\n",
    "main()"
   ]
  },
  {
   "cell_type": "markdown",
   "metadata": {},
   "source": [
    "# 没有预训练 直接进行微调的llm"
   ]
  },
  {
   "cell_type": "code",
   "execution_count": 1,
   "metadata": {},
   "outputs": [
    {
     "name": "stderr",
     "output_type": "stream",
     "text": [
      "/data/lizh/Conda/anaconda3/envs/vllm/lib/python3.9/site-packages/tqdm/auto.py:21: TqdmWarning: IProgress not found. Please update jupyter and ipywidgets. See https://ipywidgets.readthedocs.io/en/stable/user_install.html\n",
      "  from .autonotebook import tqdm as notebook_tqdm\n",
      "2024-12-04 15:40:57,654\tINFO util.py:154 -- Missing packages: ['ipywidgets']. Run `pip install -U ipywidgets`, then restart the notebook server for rich notebook output.\n",
      "2024-12-04 15:40:59,978\tINFO worker.py:1771 -- Started a local Ray instance.\n"
     ]
    },
    {
     "name": "stdout",
     "output_type": "stream",
     "text": [
      "INFO 12-04 15:41:00 llm_engine.py:161] Initializing an LLM engine (v0.4.3) with config: model='/data/lizh/LLaMA-Factory-main/models/qwen2.5_14b_sft_only', speculative_config=None, tokenizer='/data/lizh/LLaMA-Factory-main/models/qwen2.5_14b_sft_only', skip_tokenizer_init=False, tokenizer_mode=auto, revision=None, rope_scaling=None, tokenizer_revision=None, trust_remote_code=False, dtype=torch.bfloat16, max_seq_len=32768, download_dir=None, load_format=LoadFormat.AUTO, tensor_parallel_size=4, disable_custom_all_reduce=False, quantization=None, enforce_eager=False, kv_cache_dtype=auto, quantization_param_path=None, device_config=cuda, decoding_config=DecodingConfig(guided_decoding_backend='outlines'), seed=0, served_model_name=/data/lizh/LLaMA-Factory-main/models/qwen2.5_14b_sft_only)\n",
      "INFO 12-04 15:41:12 utils.py:618] Found nccl from library libnccl.so.2\n",
      "INFO 12-04 15:41:12 pynccl.py:65] vLLM is using nccl==2.20.5\n",
      "\u001b[36m(RayWorkerWrapper pid=2285520)\u001b[0m INFO 12-04 15:41:12 utils.py:618] Found nccl from library libnccl.so.2\n",
      "\u001b[36m(RayWorkerWrapper pid=2285520)\u001b[0m INFO 12-04 15:41:12 pynccl.py:65] vLLM is using nccl==2.20.5\n",
      "WARNING 12-04 15:41:12 custom_all_reduce.py:158] Custom allreduce is disabled because it's not supported on more than two PCIe-only GPUs. To silence this warning, specify disable_custom_all_reduce=True explicitly.\n",
      "\u001b[36m(RayWorkerWrapper pid=2285520)\u001b[0m WARNING 12-04 15:41:12 custom_all_reduce.py:158] Custom allreduce is disabled because it's not supported on more than two PCIe-only GPUs. To silence this warning, specify disable_custom_all_reduce=True explicitly.\n",
      "INFO 12-04 15:41:15 model_runner.py:146] Loading model weights took 6.9459 GB\n",
      "\u001b[36m(RayWorkerWrapper pid=2285604)\u001b[0m INFO 12-04 15:41:17 model_runner.py:146] Loading model weights took 6.9459 GB\n",
      "INFO 12-04 15:41:33 distributed_gpu_executor.py:56] # GPU blocks: 40967, # CPU blocks: 5461\n",
      "INFO 12-04 15:41:35 model_runner.py:854] Capturing the model for CUDA graphs. This may lead to unexpected consequences if the model is not static. To run the model in eager mode, set 'enforce_eager=True' or use '--enforce-eager' in the CLI.\n",
      "INFO 12-04 15:41:35 model_runner.py:858] CUDA graphs can take additional 1~3 GiB memory per GPU. If you are running out of memory, consider decreasing `gpu_memory_utilization` or enforcing eager mode. You can also reduce the `max_num_seqs` as needed to decrease memory usage.\n",
      "\u001b[36m(RayWorkerWrapper pid=2285520)\u001b[0m INFO 12-04 15:41:37 model_runner.py:854] Capturing the model for CUDA graphs. This may lead to unexpected consequences if the model is not static. To run the model in eager mode, set 'enforce_eager=True' or use '--enforce-eager' in the CLI.\n",
      "\u001b[36m(RayWorkerWrapper pid=2285520)\u001b[0m INFO 12-04 15:41:37 model_runner.py:858] CUDA graphs can take additional 1~3 GiB memory per GPU. If you are running out of memory, consider decreasing `gpu_memory_utilization` or enforcing eager mode. You can also reduce the `max_num_seqs` as needed to decrease memory usage.\n",
      "\u001b[36m(RayWorkerWrapper pid=2285767)\u001b[0m INFO 12-04 15:41:12 utils.py:618] Found nccl from library libnccl.so.2\u001b[32m [repeated 2x across cluster] (Ray deduplicates logs by default. Set RAY_DEDUP_LOGS=0 to disable log deduplication, or see https://docs.ray.io/en/master/ray-observability/user-guides/configure-logging.html#log-deduplication for more options.)\u001b[0m\n",
      "\u001b[36m(RayWorkerWrapper pid=2285767)\u001b[0m INFO 12-04 15:41:12 pynccl.py:65] vLLM is using nccl==2.20.5\u001b[32m [repeated 2x across cluster]\u001b[0m\n",
      "\u001b[36m(RayWorkerWrapper pid=2285767)\u001b[0m WARNING 12-04 15:41:12 custom_all_reduce.py:158] Custom allreduce is disabled because it's not supported on more than two PCIe-only GPUs. To silence this warning, specify disable_custom_all_reduce=True explicitly.\u001b[32m [repeated 2x across cluster]\u001b[0m\n",
      "\u001b[36m(RayWorkerWrapper pid=2285520)\u001b[0m INFO 12-04 15:41:17 model_runner.py:146] Loading model weights took 6.9459 GB\u001b[32m [repeated 2x across cluster]\u001b[0m\n",
      "\u001b[36m(RayWorkerWrapper pid=2285604)\u001b[0m INFO 12-04 15:41:52 model_runner.py:924] Graph capturing finished in 15 secs.\n",
      "\u001b[36m(RayWorkerWrapper pid=2285767)\u001b[0m INFO 12-04 15:41:37 model_runner.py:854] Capturing the model for CUDA graphs. This may lead to unexpected consequences if the model is not static. To run the model in eager mode, set 'enforce_eager=True' or use '--enforce-eager' in the CLI.\u001b[32m [repeated 2x across cluster]\u001b[0m\n",
      "\u001b[36m(RayWorkerWrapper pid=2285767)\u001b[0m INFO 12-04 15:41:37 model_runner.py:858] CUDA graphs can take additional 1~3 GiB memory per GPU. If you are running out of memory, consider decreasing `gpu_memory_utilization` or enforcing eager mode. You can also reduce the `max_num_seqs` as needed to decrease memory usage.\u001b[32m [repeated 2x across cluster]\u001b[0m\n",
      "INFO 12-04 15:41:52 model_runner.py:924] Graph capturing finished in 17 secs.\n",
      "第0条数据\n"
     ]
    },
    {
     "name": "stderr",
     "output_type": "stream",
     "text": [
      "Processed prompts: 100%|██████████| 1/1 [00:02<00:00,  2.66s/it, Generation Speed: 24.84 toks/s]\n",
      "100%|██████████| 1/1 [00:02<00:00,  2.73s/it]\n"
     ]
    },
    {
     "name": "stdout",
     "output_type": "stream",
     "text": [
      "{'Reactants': ['benzene-1,2-diamine', 'hexanebis(peroxoic acid )', 'dodecanebis(peroxoic acid )'], 'Product': ['2- nitroaniline'], 'Yield': ['90 %', '92 %']}\n",
      "第1条数据\n"
     ]
    },
    {
     "name": "stderr",
     "output_type": "stream",
     "text": [
      "Processed prompts: 100%|██████████| 1/1 [00:01<00:00,  1.17s/it, Generation Speed: 29.05 toks/s]\n",
      "100%|██████████| 1/1 [00:01<00:00,  1.18s/it]\n"
     ]
    },
    {
     "name": "stdout",
     "output_type": "stream",
     "text": [
      "{'Product': [\"[PyH]+[2'cu4 @ -C1)4 @ ~ -Cl)]-\"], 'Reactants': ['2']}\n"
     ]
    },
    {
     "name": "stderr",
     "output_type": "stream",
     "text": [
      "Processed prompts: 100%|██████████| 1/1 [00:00<00:00,  1.41it/s, Generation Speed: 19.85 toks/s]\n",
      "100%|██████████| 1/1 [00:00<00:00,  1.40it/s]\n"
     ]
    },
    {
     "name": "stdout",
     "output_type": "stream",
     "text": [
      "{'Reactants': ['2'], 'Product': ['4']}\n"
     ]
    },
    {
     "name": "stderr",
     "output_type": "stream",
     "text": [
      "Processed prompts: 100%|██████████| 1/1 [00:01<00:00,  1.18s/it, Generation Speed: 29.00 toks/s]\n",
      "100%|██████████| 1/1 [00:01<00:00,  1.18s/it]\n"
     ]
    },
    {
     "name": "stdout",
     "output_type": "stream",
     "text": [
      "{'Product': ['[PyH]+[2.Ag4 @ -C1)4 @ 4- Cl)]-'], 'Reactants': ['2']}\n"
     ]
    },
    {
     "name": "stderr",
     "output_type": "stream",
     "text": [
      "Processed prompts: 100%|██████████| 1/1 [00:00<00:00,  1.40it/s, Generation Speed: 19.67 toks/s]\n",
      "100%|██████████| 1/1 [00:00<00:00,  1.38it/s]\n"
     ]
    },
    {
     "name": "stdout",
     "output_type": "stream",
     "text": [
      "{'Reactants': ['2'], 'Product': ['5']}\n",
      "第2条数据\n"
     ]
    },
    {
     "name": "stderr",
     "output_type": "stream",
     "text": [
      "Processed prompts: 100%|██████████| 1/1 [00:03<00:00,  3.16s/it, Generation Speed: 21.53 toks/s]\n",
      "100%|██████████| 1/1 [00:03<00:00,  3.17s/it]\n"
     ]
    },
    {
     "name": "stdout",
     "output_type": "stream",
     "text": [
      "{'Reactants': ['(3,5,5-trimethyl-2-oxomorpholin-3-yl)peroxyl radical', 'l'], 'Product': ['3-hydroperoxy-3,5,5-trimethyl-2-0 ~ 0- morpholin-4-yl']}\n"
     ]
    },
    {
     "name": "stderr",
     "output_type": "stream",
     "text": [
      "Processed prompts: 100%|██████████| 1/1 [00:01<00:00,  1.65s/it, Generation Speed: 24.90 toks/s]\n",
      "100%|██████████| 1/1 [00:01<00:00,  1.66s/it]\n"
     ]
    },
    {
     "name": "stdout",
     "output_type": "stream",
     "text": [
      "{'Reactants': ['(3,5,5-trimethyl-2-oxomorpholin-3-yl)peroxyl radical', 'l'], 'Product': ['3']}\n",
      "第3条数据\n"
     ]
    },
    {
     "name": "stderr",
     "output_type": "stream",
     "text": [
      "Processed prompts: 100%|██████████| 1/1 [00:02<00:00,  2.02s/it, Generation Speed: 32.17 toks/s]\n",
      "100%|██████████| 1/1 [00:02<00:00,  2.03s/it]\n"
     ]
    },
    {
     "name": "stdout",
     "output_type": "stream",
     "text": [
      "{'Reactants': ['3,4,5,5-tetramethyl-2-oxomorpholine', '6', 'di-tert-butyl peroxide'], 'Product': ['3-methylidene- 4,5,5-trimethyl-2-oxomorpholine']}\n"
     ]
    },
    {
     "name": "stderr",
     "output_type": "stream",
     "text": [
      "Processed prompts: 100%|██████████| 1/1 [00:01<00:00,  1.53s/it, Generation Speed: 28.85 toks/s]\n",
      "100%|██████████| 1/1 [00:01<00:00,  1.54s/it]\n"
     ]
    },
    {
     "name": "stdout",
     "output_type": "stream",
     "text": [
      "{'Reactants': ['3,4,5,5-tetramethyl-2-oxomorpholine', '6', 'di-tert-butyl peroxide'], 'Product': ['7']}\n",
      "第4条数据\n"
     ]
    },
    {
     "name": "stderr",
     "output_type": "stream",
     "text": [
      "Processed prompts: 100%|██████████| 1/1 [00:02<00:00,  2.91s/it, Generation Speed: 37.79 toks/s]\n",
      "100%|██████████| 1/1 [00:02<00:00,  2.92s/it]\n"
     ]
    },
    {
     "name": "stdout",
     "output_type": "stream",
     "text": [
      "{'Reactants': ['1-bromo-2- chlorobenzene', '1-chloro-2-iodobenzene', '1,2-dibromobenzene', '1-bromo-2-iodobenzene', '1,2-dichlorobenzene', 'N-(5-chloro-2-mercaptophenyl)acetamide'], 'Product': ['2-chloro-10H-phenothiazine'], 'Yield': ['92 %']}\n",
      "第5条数据\n"
     ]
    },
    {
     "name": "stderr",
     "output_type": "stream",
     "text": [
      "Processed prompts: 100%|██████████| 1/1 [00:01<00:00,  1.30s/it, Generation Speed: 24.65 toks/s]\n",
      "100%|██████████| 1/1 [00:01<00:00,  1.32s/it]\n"
     ]
    },
    {
     "name": "stdout",
     "output_type": "stream",
     "text": [
      "{'Reactants': ['C02'], 'Product': ['formate'], 'Catalyst_Reagents': ['formate dehydrogenase']}\n"
     ]
    },
    {
     "name": "stderr",
     "output_type": "stream",
     "text": [
      "Processed prompts: 100%|██████████| 1/1 [00:01<00:00,  1.43s/it, Generation Speed: 23.78 toks/s]\n",
      "100%|██████████| 1/1 [00:01<00:00,  1.44s/it]\n"
     ]
    },
    {
     "name": "stdout",
     "output_type": "stream",
     "text": [
      "{'Reactants': ['formate'], 'Catalyst_Reagents': ['THF - dependent enzymes.'], 'Product': ['CH3 - THF']}\n",
      "第6条数据\n"
     ]
    },
    {
     "name": "stderr",
     "output_type": "stream",
     "text": [
      "Processed prompts: 100%|██████████| 1/1 [00:02<00:00,  2.07s/it, Generation Speed: 34.31 toks/s]\n",
      "100%|██████████| 1/1 [00:02<00:00,  2.08s/it]\n"
     ]
    },
    {
     "name": "stdout",
     "output_type": "stream",
     "text": [
      "{'Reactants': ['4a', '3e'], 'Catalyst_Reagents': ['BF3-methanol'], 'Solvent': ['dichloromethane'], 'Temperature': ['0 ° C'], 'Time': ['1 h', '45 min'], 'Product': ['5e']}\n",
      "第7条数据\n"
     ]
    },
    {
     "name": "stderr",
     "output_type": "stream",
     "text": [
      "Processed prompts: 100%|██████████| 1/1 [00:01<00:00,  1.68s/it, Generation Speed: 29.88 toks/s]\n",
      "100%|██████████| 1/1 [00:01<00:00,  1.69s/it]\n"
     ]
    },
    {
     "name": "stdout",
     "output_type": "stream",
     "text": [
      "{'Reactants': ['7e', '0.1 % aqueous FeCl3'], 'Solvent': ['CHCl3'], 'Temperature': ['room'], 'Product': ['5e'], 'Yield': ['6 %']}\n"
     ]
    },
    {
     "name": "stderr",
     "output_type": "stream",
     "text": [
      "Processed prompts: 100%|██████████| 1/1 [00:01<00:00,  1.83s/it, Generation Speed: 31.17 toks/s]\n",
      "100%|██████████| 1/1 [00:01<00:00,  1.84s/it]\n"
     ]
    },
    {
     "name": "stdout",
     "output_type": "stream",
     "text": [
      "{'Reactants': ['7f'], 'Catalyst_Reagents': ['0.1 % aqueous FeCl3'], 'Solvent': ['CHCl3'], 'Temperature': ['room'], 'Product': ['5f'], 'Yield': ['7 %']}\n"
     ]
    },
    {
     "name": "stderr",
     "output_type": "stream",
     "text": [
      "Processed prompts: 100%|██████████| 1/1 [00:01<00:00,  1.42s/it, Generation Speed: 27.48 toks/s]\n",
      "100%|██████████| 1/1 [00:01<00:00,  1.43s/it]\n"
     ]
    },
    {
     "name": "stdout",
     "output_type": "stream",
     "text": [
      "{'Reactants': ['7g'], 'Solvent': ['CHCl3'], 'Temperature': ['room'], 'Product': ['5g'], 'Yield': ['5 %']}\n"
     ]
    },
    {
     "name": "stderr",
     "output_type": "stream",
     "text": [
      "Processed prompts: 100%|██████████| 1/1 [00:01<00:00,  1.93s/it, Generation Speed: 26.48 toks/s]\n",
      "100%|██████████| 1/1 [00:01<00:00,  1.94s/it]\n"
     ]
    },
    {
     "name": "stdout",
     "output_type": "stream",
     "text": [
      "{'Reactants': ['7h'], 'Catalyst_Reagents': ['FeCl3'], 'Solvent': ['CHCl3'], 'Temperature': ['room'], 'Product': ['5h'], 'Yield': ['4 %']}\n",
      "第8条数据\n"
     ]
    },
    {
     "name": "stderr",
     "output_type": "stream",
     "text": [
      "Processed prompts: 100%|██████████| 1/1 [00:01<00:00,  1.01s/it, Generation Speed: 27.95 toks/s]\n",
      "100%|██████████| 1/1 [00:01<00:00,  1.01s/it]\n"
     ]
    },
    {
     "name": "stdout",
     "output_type": "stream",
     "text": [
      "{'Product': ['Cp-CH(CH3)Cyl2ZrCI2'], 'Yield': ['almost quantitative']}\n",
      "第9条数据\n"
     ]
    },
    {
     "name": "stderr",
     "output_type": "stream",
     "text": [
      "Processed prompts: 100%|██████████| 1/1 [00:02<00:00,  2.22s/it, Generation Speed: 32.53 toks/s]\n",
      "100%|██████████| 1/1 [00:02<00:00,  2.23s/it]\n"
     ]
    },
    {
     "name": "stdout",
     "output_type": "stream",
     "text": [
      "{'Reactants': ['benzofuran dioxetane', '2s', 'dimethyl', 'diphenyl sulfide'], 'Solvent': ['deutericchloroform'], 'Temperature': ['-30 O C'], 'Time': ['15 min'], 'Product': ['benzofuran epoxide']}\n"
     ]
    },
    {
     "name": "stderr",
     "output_type": "stream",
     "text": [
      "Processed prompts: 100%|██████████| 1/1 [00:02<00:00,  2.12s/it, Generation Speed: 32.10 toks/s]\n",
      "100%|██████████| 1/1 [00:02<00:00,  2.13s/it]\n"
     ]
    },
    {
     "name": "stdout",
     "output_type": "stream",
     "text": [
      "{'Reactants': ['benzofuran dioxetane', '2s', 'dimethyl', 'diphenyl sulfide'], 'Solvent': ['deutericchloroform'], 'Temperature': ['-30 O C'], 'Time': ['15 min'], 'Product': ['3a']}\n"
     ]
    },
    {
     "name": "stderr",
     "output_type": "stream",
     "text": [
      "Processed prompts: 100%|██████████| 1/1 [00:01<00:00,  1.91s/it, Generation Speed: 30.93 toks/s]\n",
      "100%|██████████| 1/1 [00:01<00:00,  1.92s/it]\n"
     ]
    },
    {
     "name": "stdout",
     "output_type": "stream",
     "text": [
      "{'Reactants': ['2s', 'diphenyl sulfide'], 'Solvent': ['deutericchloroform'], 'Temperature': ['-30 O C'], 'Time': ['15 min'], 'Product': ['diphenyl sulfoxide']}\n",
      "第10条数据\n"
     ]
    },
    {
     "name": "stderr",
     "output_type": "stream",
     "text": [
      "Processed prompts: 100%|██████████| 1/1 [00:01<00:00,  1.13s/it, Generation Speed: 24.00 toks/s]\n",
      "100%|██████████| 1/1 [00:01<00:00,  1.14s/it]\n"
     ]
    },
    {
     "name": "stdout",
     "output_type": "stream",
     "text": [
      "{'Reactants': ['Cyclooctatetraene', 'COT'], 'Product': ['benzene']}\n"
     ]
    },
    {
     "name": "stderr",
     "output_type": "stream",
     "text": [
      "Processed prompts: 100%|██████████| 1/1 [00:01<00:00,  1.14s/it, Generation Speed: 24.73 toks/s]\n",
      "100%|██████████| 1/1 [00:01<00:00,  1.14s/it]\n"
     ]
    },
    {
     "name": "stdout",
     "output_type": "stream",
     "text": [
      "{'Reactants': ['Cyclooctatetraene', 'COT'], 'Product': ['benzene.']}\n",
      "第11条数据\n"
     ]
    },
    {
     "name": "stderr",
     "output_type": "stream",
     "text": [
      "Processed prompts: 100%|██████████| 1/1 [00:01<00:00,  1.04s/it, Generation Speed: 25.05 toks/s]\n",
      "100%|██████████| 1/1 [00:01<00:00,  1.06s/it]\n"
     ]
    },
    {
     "name": "stdout",
     "output_type": "stream",
     "text": [
      "{'Catalyst_Reagents': ['4'], 'Reactants': ['1a'], 'Product': ['2a']}\n",
      "第12条数据\n"
     ]
    },
    {
     "name": "stderr",
     "output_type": "stream",
     "text": [
      "Processed prompts: 100%|██████████| 1/1 [00:01<00:00,  1.45s/it, Generation Speed: 24.23 toks/s]\n",
      "100%|██████████| 1/1 [00:01<00:00,  1.46s/it]\n"
     ]
    },
    {
     "name": "stdout",
     "output_type": "stream",
     "text": [
      "{'Reactants': ['thiophenol', 'phenylacetylene'], 'Product': ['phenylglyoxal hemithioacetal.']}\n",
      "第13条数据\n"
     ]
    },
    {
     "name": "stderr",
     "output_type": "stream",
     "text": [
      "Processed prompts: 100%|██████████| 1/1 [00:02<00:00,  2.29s/it, Generation Speed: 33.72 toks/s]\n",
      "100%|██████████| 1/1 [00:02<00:00,  2.30s/it]\n"
     ]
    },
    {
     "name": "stdout",
     "output_type": "stream",
     "text": [
      "{'Reactants': ['3,6-dinitrocarbazole', 'H2', 'Pd / C', 'EtOH', 'HOAc'], 'Product': ['N-((methyloxycarbony1)- methyl)-3,6-diaminocarbazole.'], 'Yield': ['99 %', '61 %']}\n",
      "第14条数据\n"
     ]
    },
    {
     "name": "stderr",
     "output_type": "stream",
     "text": [
      "Processed prompts: 100%|██████████| 1/1 [00:01<00:00,  1.19s/it, Generation Speed: 26.04 toks/s]\n",
      "100%|██████████| 1/1 [00:01<00:00,  1.20s/it]\n"
     ]
    },
    {
     "name": "stdout",
     "output_type": "stream",
     "text": [
      "{'Reactants': ['2-cy- clohexenone', '7a'], 'Product': ['2-cyclohexenol']}\n"
     ]
    },
    {
     "name": "stderr",
     "output_type": "stream",
     "text": [
      "Processed prompts: 100%|██████████| 1/1 [00:01<00:00,  1.17s/it, Generation Speed: 25.77 toks/s]\n",
      "100%|██████████| 1/1 [00:01<00:00,  1.18s/it]\n"
     ]
    },
    {
     "name": "stdout",
     "output_type": "stream",
     "text": [
      "{'Reactants': ['2-cy- clohexenone', '7a'], 'Product': ['cyclohexanol.']}\n",
      "第15条数据\n"
     ]
    },
    {
     "name": "stderr",
     "output_type": "stream",
     "text": [
      "Processed prompts: 100%|██████████| 1/1 [00:00<00:00,  1.06it/s, Generation Speed: 27.65 toks/s]\n",
      "100%|██████████| 1/1 [00:00<00:00,  1.05it/s]\n"
     ]
    },
    {
     "name": "stdout",
     "output_type": "stream",
     "text": [
      "{'Reactants': ['1a', '2a', 'CsF'], 'Product': ['benzylamine']}\n"
     ]
    },
    {
     "name": "stderr",
     "output_type": "stream",
     "text": [
      "Processed prompts: 100%|██████████| 1/1 [00:00<00:00,  1.15it/s, Generation Speed: 26.63 toks/s]\n",
      "100%|██████████| 1/1 [00:00<00:00,  1.14it/s]\n"
     ]
    },
    {
     "name": "stdout",
     "output_type": "stream",
     "text": [
      "{'Reactants': ['1a', '2a', 'CsF'], 'Product': ['5']}\n"
     ]
    },
    {
     "name": "stderr",
     "output_type": "stream",
     "text": [
      "Processed prompts: 100%|██████████| 1/1 [00:01<00:00,  1.10s/it, Generation Speed: 30.22 toks/s]\n",
      "100%|██████████| 1/1 [00:01<00:00,  1.10s/it]\n"
     ]
    },
    {
     "name": "stdout",
     "output_type": "stream",
     "text": [
      "{'Reactants': ['1a', '2a', 'CsF'], 'Product': ['3a'], 'Yield': ['24 %']}\n",
      "第16条数据\n"
     ]
    },
    {
     "name": "stderr",
     "output_type": "stream",
     "text": [
      "Processed prompts: 100%|██████████| 1/1 [00:01<00:00,  1.35s/it, Generation Speed: 31.91 toks/s]\n",
      "100%|██████████| 1/1 [00:01<00:00,  1.36s/it]\n"
     ]
    },
    {
     "name": "stdout",
     "output_type": "stream",
     "text": [
      "{'Catalyst_Reagents': ['dioxovanadium(V)'], 'Reactants': ['chloride', 'hydrogen peroxide'], 'Product': ['chlorotrimethoxybenzene']}\n",
      "第17条数据\n"
     ]
    },
    {
     "name": "stderr",
     "output_type": "stream",
     "text": [
      "Processed prompts: 100%|██████████| 1/1 [00:00<00:00,  1.03it/s, Generation Speed: 29.05 toks/s]\n",
      "100%|██████████| 1/1 [00:00<00:00,  1.03it/s]\n"
     ]
    },
    {
     "name": "stdout",
     "output_type": "stream",
     "text": [
      "{'Reactants': ['diphenylketene'], 'Product': ['2'], 'Yield': ['61 %']}\n",
      "第18条数据\n"
     ]
    },
    {
     "name": "stderr",
     "output_type": "stream",
     "text": [
      "Processed prompts: 100%|██████████| 1/1 [00:01<00:00,  1.49s/it, Generation Speed: 28.84 toks/s]\n",
      "100%|██████████| 1/1 [00:01<00:00,  1.50s/it]\n"
     ]
    },
    {
     "name": "stdout",
     "output_type": "stream",
     "text": [
      "{'Product': ['acenaphthacenone'], 'Catalyst_Reagents': ['AlCl3'], 'Reactants': ['naph- thacene', 'chloroacetyl chloride.']}\n"
     ]
    },
    {
     "name": "stderr",
     "output_type": "stream",
     "text": [
      "Processed prompts: 100%|██████████| 1/1 [00:01<00:00,  1.41s/it, Generation Speed: 27.70 toks/s]\n",
      "100%|██████████| 1/1 [00:01<00:00,  1.42s/it]\n"
     ]
    },
    {
     "name": "stdout",
     "output_type": "stream",
     "text": [
      "{'Product': ['6'], 'Catalyst_Reagents': ['AlCl3'], 'Reactants': ['naph- thacene', 'chloroacetyl chloride.']}\n",
      "第19条数据\n"
     ]
    },
    {
     "name": "stderr",
     "output_type": "stream",
     "text": [
      "Processed prompts: 100%|██████████| 1/1 [00:01<00:00,  1.30s/it, Generation Speed: 30.14 toks/s]\n",
      "100%|██████████| 1/1 [00:01<00:00,  1.31s/it]\n"
     ]
    },
    {
     "name": "stdout",
     "output_type": "stream",
     "text": [
      "{'Reactants': ['6'], 'Catalyst_Reagents': ['TiCl4'], 'Temperature': ['reﬂuxing'], 'Product': ['4']}\n",
      "第20条数据\n"
     ]
    },
    {
     "name": "stderr",
     "output_type": "stream",
     "text": [
      "Processed prompts: 100%|██████████| 1/1 [00:00<00:00,  1.46it/s, Generation Speed: 11.78 toks/s]\n",
      "100%|██████████| 1/1 [00:00<00:00,  1.44it/s]\n"
     ]
    },
    {
     "name": "stdout",
     "output_type": "stream",
     "text": [
      "{'Product': ['4aa']}\n",
      "第21条数据\n"
     ]
    },
    {
     "name": "stderr",
     "output_type": "stream",
     "text": [
      "Processed prompts: 100%|██████████| 1/1 [00:02<00:00,  2.85s/it, Generation Speed: 35.77 toks/s]\n",
      "100%|██████████| 1/1 [00:02<00:00,  2.86s/it]\n"
     ]
    },
    {
     "name": "stdout",
     "output_type": "stream",
     "text": [
      "{'Reactants': ['(Z)-1a'], 'Product': ['2aa'], 'Yield': ['almost quantitatively'], 'Time': ['1 h'], 'Catalyst_Reagents': ['−CHCl3', '0.5 mol % Pd', 'PPh3', '2 mol %', 'Pd2dba3'], 'Solvent': ['MeOH'], 'Temperature': ['25 ° C']}\n",
      "第22条数据\n"
     ]
    },
    {
     "name": "stderr",
     "output_type": "stream",
     "text": [
      "Processed prompts: 100%|██████████| 1/1 [00:01<00:00,  1.03s/it, Generation Speed: 26.18 toks/s]\n",
      "100%|██████████| 1/1 [00:01<00:00,  1.04s/it]\n"
     ]
    },
    {
     "name": "stdout",
     "output_type": "stream",
     "text": [
      "{'Reactants': ['NHC catalyst', 'cinnamaldehydes', '1'], 'Product': ['7']}\n"
     ]
    },
    {
     "name": "stderr",
     "output_type": "stream",
     "text": [
      "Processed prompts: 100%|██████████| 1/1 [00:00<00:00,  1.03it/s, Generation Speed: 24.68 toks/s]\n",
      "100%|██████████| 1/1 [00:00<00:00,  1.02it/s]\n"
     ]
    },
    {
     "name": "stdout",
     "output_type": "stream",
     "text": [
      "{'Reactants': ['7'], 'Catalyst_Reagents': ['4'], 'Product': ['8']}\n",
      "第23条数据\n"
     ]
    },
    {
     "name": "stderr",
     "output_type": "stream",
     "text": [
      "Processed prompts: 100%|██████████| 1/1 [00:01<00:00,  1.02s/it, Generation Speed: 18.66 toks/s]\n",
      "100%|██████████| 1/1 [00:01<00:00,  1.03s/it]\n"
     ]
    },
    {
     "name": "stdout",
     "output_type": "stream",
     "text": [
      "{'Reactants': ['2', '8'], 'Product': ['10.']}\n",
      "第24条数据\n"
     ]
    },
    {
     "name": "stderr",
     "output_type": "stream",
     "text": [
      "Processed prompts: 100%|██████████| 1/1 [00:00<00:00,  1.12it/s, Generation Speed: 19.10 toks/s]\n",
      "100%|██████████| 1/1 [00:00<00:00,  1.11it/s]\n"
     ]
    },
    {
     "name": "stdout",
     "output_type": "stream",
     "text": [
      "{'Reactants': ['10'], 'Product': ['11.']}\n",
      "第25条数据\n"
     ]
    },
    {
     "name": "stderr",
     "output_type": "stream",
     "text": [
      "Processed prompts: 100%|██████████| 1/1 [00:01<00:00,  1.12s/it, Generation Speed: 28.56 toks/s]\n",
      "100%|██████████| 1/1 [00:01<00:00,  1.13s/it]\n"
     ]
    },
    {
     "name": "stdout",
     "output_type": "stream",
     "text": [
      "{'Reactants': ['10', 'NBS'], 'Catalyst_Reagents': ['AgNO3'], 'Product': ['31']}\n",
      "第26条数据\n"
     ]
    },
    {
     "name": "stderr",
     "output_type": "stream",
     "text": [
      "Processed prompts: 100%|██████████| 1/1 [00:01<00:00,  1.25s/it, Generation Speed: 31.37 toks/s]\n",
      "100%|██████████| 1/1 [00:01<00:00,  1.25s/it]\n"
     ]
    },
    {
     "name": "stdout",
     "output_type": "stream",
     "text": [
      "{'Reactants': ['5', 'HBFdEt20'], 'Product': ['Zpropynyl-2- fenchyl)Coz(CO)6]+']}\n"
     ]
    },
    {
     "name": "stderr",
     "output_type": "stream",
     "text": [
      "Processed prompts: 100%|██████████| 1/1 [00:00<00:00,  1.20it/s, Generation Speed: 26.54 toks/s]\n",
      "100%|██████████| 1/1 [00:00<00:00,  1.19it/s]\n"
     ]
    },
    {
     "name": "stdout",
     "output_type": "stream",
     "text": [
      "{'Reactants': ['5', 'HBFdEt20'], 'Product': ['6']}\n",
      "第27条数据\n"
     ]
    },
    {
     "name": "stderr",
     "output_type": "stream",
     "text": [
      "Processed prompts: 100%|██████████| 1/1 [00:00<00:00,  1.11it/s, Generation Speed: 18.91 toks/s]\n",
      "100%|██████████| 1/1 [00:00<00:00,  1.10it/s]\n"
     ]
    },
    {
     "name": "stdout",
     "output_type": "stream",
     "text": [
      "{'Product': ['7a'], 'Yield': ['22 %']}\n"
     ]
    },
    {
     "name": "stderr",
     "output_type": "stream",
     "text": [
      "Processed prompts: 100%|██████████| 1/1 [00:00<00:00,  1.13it/s, Generation Speed: 18.10 toks/s]\n",
      "100%|██████████| 1/1 [00:00<00:00,  1.12it/s]\n"
     ]
    },
    {
     "name": "stdout",
     "output_type": "stream",
     "text": [
      "{'Product': ['7b'], 'Yield': ['8 %']}\n"
     ]
    },
    {
     "name": "stderr",
     "output_type": "stream",
     "text": [
      "Processed prompts: 100%|██████████| 1/1 [00:00<00:00,  1.42it/s, Generation Speed: 11.38 toks/s]\n",
      "100%|██████████| 1/1 [00:00<00:00,  1.40it/s]\n"
     ]
    },
    {
     "name": "stdout",
     "output_type": "stream",
     "text": [
      "{'Product': ['8a']}\n"
     ]
    },
    {
     "name": "stderr",
     "output_type": "stream",
     "text": [
      "Processed prompts: 100%|██████████| 1/1 [00:00<00:00,  1.42it/s, Generation Speed: 11.39 toks/s]\n",
      "100%|██████████| 1/1 [00:00<00:00,  1.40it/s]\n"
     ]
    },
    {
     "name": "stdout",
     "output_type": "stream",
     "text": [
      "{'Product': ['8b']}\n"
     ]
    },
    {
     "name": "stderr",
     "output_type": "stream",
     "text": [
      "Processed prompts: 100%|██████████| 1/1 [00:01<00:00,  1.20s/it, Generation Speed: 24.31 toks/s]\n",
      "100%|██████████| 1/1 [00:01<00:00,  1.20s/it]\n"
     ]
    },
    {
     "name": "stdout",
     "output_type": "stream",
     "text": [
      "{'Product': ['(propynylfenchol)Co2(C0)6'], 'Yield': ['23 %']}\n"
     ]
    },
    {
     "name": "stderr",
     "output_type": "stream",
     "text": [
      "Processed prompts: 100%|██████████| 1/1 [00:00<00:00,  1.10it/s, Generation Speed: 18.70 toks/s]\n",
      "100%|██████████| 1/1 [00:00<00:00,  1.09it/s]\n"
     ]
    },
    {
     "name": "stdout",
     "output_type": "stream",
     "text": [
      "{'Product': ['Sb'], 'Yield': ['23 %']}\n",
      "第28条数据\n"
     ]
    },
    {
     "name": "stderr",
     "output_type": "stream",
     "text": [
      "Processed prompts: 100%|██████████| 1/1 [00:01<00:00,  1.53s/it, Generation Speed: 26.84 toks/s]\n",
      "100%|██████████| 1/1 [00:01<00:00,  1.54s/it]\n"
     ]
    },
    {
     "name": "stdout",
     "output_type": "stream",
     "text": [
      "{'Product': ['l-propynyl- 2-methylene-7,7-dimethylbicyclo[2.2.1]heptane)Coz(C0)']}\n"
     ]
    },
    {
     "name": "stderr",
     "output_type": "stream",
     "text": [
      "Processed prompts: 100%|██████████| 1/1 [00:01<00:00,  1.73s/it, Generation Speed: 28.35 toks/s]\n",
      "100%|██████████| 1/1 [00:01<00:00,  1.74s/it]\n"
     ]
    },
    {
     "name": "stdout",
     "output_type": "stream",
     "text": [
      "{'Product': ['1 -propynyl-2,7,7-trimethylbicyclo[2.2.l]-2-heptene)Co2- (CO)6'], 'Reactants': ['7b']}\n",
      "第29条数据\n"
     ]
    },
    {
     "name": "stderr",
     "output_type": "stream",
     "text": [
      "Processed prompts: 100%|██████████| 1/1 [00:00<00:00,  1.34it/s, Generation Speed: 22.88 toks/s]\n",
      "100%|██████████| 1/1 [00:00<00:00,  1.33it/s]\n"
     ]
    },
    {
     "name": "stdout",
     "output_type": "stream",
     "text": [
      "{'Product': ['8a'], 'Yield': ['very minor quantities']}\n"
     ]
    },
    {
     "name": "stderr",
     "output_type": "stream",
     "text": [
      "Processed prompts: 100%|██████████| 1/1 [00:00<00:00,  1.37it/s, Generation Speed: 21.95 toks/s]\n",
      "100%|██████████| 1/1 [00:00<00:00,  1.35it/s]\n"
     ]
    },
    {
     "name": "stdout",
     "output_type": "stream",
     "text": [
      "{'Product': ['8b'], 'Yield': ['very minor']}\n",
      "第30条数据\n"
     ]
    },
    {
     "name": "stderr",
     "output_type": "stream",
     "text": [
      "Processed prompts: 100%|██████████| 1/1 [00:01<00:00,  1.40s/it, Generation Speed: 18.58 toks/s]\n",
      "100%|██████████| 1/1 [00:01<00:00,  1.41s/it]\n"
     ]
    },
    {
     "name": "stdout",
     "output_type": "stream",
     "text": [
      "{'Reactants': ['trifluoroacetic acid', 'pymrine'], 'Product': ['I b']}\n",
      "第31条数据\n"
     ]
    },
    {
     "name": "stderr",
     "output_type": "stream",
     "text": [
      "Processed prompts: 100%|██████████| 1/1 [00:00<00:00,  1.36it/s, Generation Speed: 24.66 toks/s]\n",
      "100%|██████████| 1/1 [00:00<00:00,  1.35it/s]\n"
     ]
    },
    {
     "name": "stdout",
     "output_type": "stream",
     "text": [
      "{'Product': ['3bCDCh'], 'Reactants': ['Ib']}\n"
     ]
    },
    {
     "name": "stderr",
     "output_type": "stream",
     "text": [
      "Processed prompts: 100%|██████████| 1/1 [00:00<00:00,  1.95it/s, Generation Speed: 17.65 toks/s]\n",
      "100%|██████████| 1/1 [00:00<00:00,  1.92it/s]\n"
     ]
    },
    {
     "name": "stdout",
     "output_type": "stream",
     "text": [
      "{'Product': ['Ib.']}\n",
      "第32条数据\n"
     ]
    },
    {
     "name": "stderr",
     "output_type": "stream",
     "text": [
      "Processed prompts: 100%|██████████| 1/1 [00:01<00:00,  1.54s/it, Generation Speed: 27.40 toks/s]\n",
      "100%|██████████| 1/1 [00:01<00:00,  1.54s/it]\n"
     ]
    },
    {
     "name": "stdout",
     "output_type": "stream",
     "text": [
      "{'Product': ['WBS'], 'Reactants': ['Ib', '(n-Bu),N+HO-', 'pyrazine'], 'Solvent': ['CHCIKHIOH.']}\n",
      "第33条数据\n"
     ]
    },
    {
     "name": "stderr",
     "output_type": "stream",
     "text": [
      "Processed prompts: 100%|██████████| 1/1 [00:01<00:00,  1.31s/it, Generation Speed: 32.15 toks/s]\n",
      "100%|██████████| 1/1 [00:01<00:00,  1.32s/it]\n"
     ]
    },
    {
     "name": "stdout",
     "output_type": "stream",
     "text": [
      "{'Temperature': ['80 \\xa0C'], 'Product': ['1-octanoic acid'], 'Yield': ['82 %'], 'Time': ['6 h']}\n",
      "第34条数据\n"
     ]
    },
    {
     "name": "stderr",
     "output_type": "stream",
     "text": [
      "Processed prompts: 100%|██████████| 1/1 [00:00<00:00,  1.04it/s, Generation Speed: 26.18 toks/s]\n",
      "100%|██████████| 1/1 [00:00<00:00,  1.04it/s]\n"
     ]
    },
    {
     "name": "stdout",
     "output_type": "stream",
     "text": [
      "{'Reactants': ['42b', 'thexylborane'], 'Product': ['43a']}\n",
      "第35条数据\n"
     ]
    },
    {
     "name": "stderr",
     "output_type": "stream",
     "text": [
      "Processed prompts: 100%|██████████| 1/1 [00:00<00:00,  1.08it/s, Generation Speed: 21.65 toks/s]\n",
      "100%|██████████| 1/1 [00:00<00:00,  1.07it/s]\n"
     ]
    },
    {
     "name": "stdout",
     "output_type": "stream",
     "text": [
      "{'Reactants': ['2', 'KMn04'], 'Product': ['3']}\n",
      "第36条数据\n"
     ]
    },
    {
     "name": "stderr",
     "output_type": "stream",
     "text": [
      "Processed prompts: 100%|██████████| 1/1 [00:02<00:00,  2.10s/it, Generation Speed: 33.84 toks/s]\n",
      "100%|██████████| 1/1 [00:02<00:00,  2.11s/it]\n"
     ]
    },
    {
     "name": "stdout",
     "output_type": "stream",
     "text": [
      "{'Product': ['1,2-bis(4-tert-buty1-2,6-dimethylphenyl)- 1 ,Zdimesitylethene'], 'Reactants': ['(4-tert-butyl-2,6-dimethylphenyl)mesitylketene', '5.']}\n"
     ]
    },
    {
     "name": "stderr",
     "output_type": "stream",
     "text": [
      "Processed prompts: 100%|██████████| 1/1 [00:01<00:00,  1.37s/it, Generation Speed: 28.53 toks/s]\n",
      "100%|██████████| 1/1 [00:01<00:00,  1.38s/it]\n"
     ]
    },
    {
     "name": "stdout",
     "output_type": "stream",
     "text": [
      "{'Product': ['4'], 'Reactants': ['(4-tert-butyl-2,6-dimethylphenyl)mesitylketene', '5.']}\n",
      "第37条数据\n"
     ]
    },
    {
     "name": "stderr",
     "output_type": "stream",
     "text": [
      "Processed prompts: 100%|██████████| 1/1 [00:02<00:00,  2.33s/it, Generation Speed: 29.59 toks/s]\n",
      "100%|██████████| 1/1 [00:02<00:00,  2.34s/it]\n"
     ]
    },
    {
     "name": "stdout",
     "output_type": "stream",
     "text": [
      "{'Reactants': ['2-methylfuran', '3-bromobenzyne', '1,3-dibromobenzene', 'lithium diisopropylamide', 'LDA'], 'Product': ['1,4-dihydro-1,4-epoxynaphthalenes']}\n"
     ]
    },
    {
     "name": "stderr",
     "output_type": "stream",
     "text": [
      "Processed prompts: 100%|██████████| 1/1 [00:01<00:00,  1.96s/it, Generation Speed: 27.00 toks/s]\n",
      "100%|██████████| 1/1 [00:01<00:00,  1.97s/it]\n"
     ]
    },
    {
     "name": "stdout",
     "output_type": "stream",
     "text": [
      "{'Reactants': ['2-methylfuran', '3-bromobenzyne', '1,3-dibromobenzene', 'lithium diisopropylamide', 'LDA'], 'Product': ['4']}\n"
     ]
    },
    {
     "name": "stderr",
     "output_type": "stream",
     "text": [
      "Processed prompts: 100%|██████████| 1/1 [00:02<00:00,  2.01s/it, Generation Speed: 26.96 toks/s]\n",
      "100%|██████████| 1/1 [00:02<00:00,  2.01s/it]\n"
     ]
    },
    {
     "name": "stdout",
     "output_type": "stream",
     "text": [
      "{'Reactants': ['2-methylfuran', '3-bromobenzyne', '1,3-dibromobenzene', 'lithium diisopropylamide', 'LDA'], 'Product': ['5.']}\n"
     ]
    },
    {
     "name": "stderr",
     "output_type": "stream",
     "text": [
      "Processed prompts: 100%|██████████| 1/1 [00:01<00:00,  1.74s/it, Generation Speed: 24.73 toks/s]\n",
      "100%|██████████| 1/1 [00:01<00:00,  1.75s/it]\n"
     ]
    },
    {
     "name": "stdout",
     "output_type": "stream",
     "text": [
      "{'Product': ['3-bromobenzyne'], 'Reactants': ['1,3-dibromobenzene', 'lithium diisopropylamide', 'LDA']}\n"
     ]
    },
    {
     "name": "stderr",
     "output_type": "stream",
     "text": [
      "Processed prompts: 100%|██████████| 1/1 [00:01<00:00,  1.60s/it, Generation Speed: 23.18 toks/s]\n",
      "100%|██████████| 1/1 [00:01<00:00,  1.61s/it]\n"
     ]
    },
    {
     "name": "stdout",
     "output_type": "stream",
     "text": [
      "{'Reactants': ['1,3-dibromobenzene', 'lithium diisopropylamide', 'LDA'], 'Product': ['3']}\n",
      "第38条数据\n"
     ]
    },
    {
     "name": "stderr",
     "output_type": "stream",
     "text": [
      "Processed prompts: 100%|██████████| 1/1 [00:00<00:00,  1.16it/s, Generation Speed: 21.02 toks/s]\n",
      "100%|██████████| 1/1 [00:00<00:00,  1.15it/s]\n"
     ]
    },
    {
     "name": "stdout",
     "output_type": "stream",
     "text": [
      "{'Catalyst_Reagents': ['I'], 'Product': ['3a']}\n",
      "第39条数据\n"
     ]
    },
    {
     "name": "stderr",
     "output_type": "stream",
     "text": [
      "Processed prompts: 100%|██████████| 1/1 [00:00<00:00,  1.35it/s, Generation Speed: 18.94 toks/s]\n",
      "100%|██████████| 1/1 [00:00<00:00,  1.33it/s]\n"
     ]
    },
    {
     "name": "stdout",
     "output_type": "stream",
     "text": [
      "{'Reactants': ['2'], 'Product': ['3']}\n",
      "第40条数据\n"
     ]
    },
    {
     "name": "stderr",
     "output_type": "stream",
     "text": [
      "Processed prompts: 100%|██████████| 1/1 [00:01<00:00,  1.31s/it, Generation Speed: 28.31 toks/s]\n",
      "100%|██████████| 1/1 [00:01<00:00,  1.32s/it]\n"
     ]
    },
    {
     "name": "stdout",
     "output_type": "stream",
     "text": [
      "{'Reactants': ['CpFe(CO)zSiMe3', 'l a'], 'Product': ['2a'], 'Yield': ['21 %']}\n"
     ]
    },
    {
     "name": "stderr",
     "output_type": "stream",
     "text": [
      "Processed prompts: 100%|██████████| 1/1 [00:01<00:00,  1.45s/it, Generation Speed: 29.75 toks/s]\n",
      "100%|██████████| 1/1 [00:01<00:00,  1.46s/it]\n"
     ]
    },
    {
     "name": "stdout",
     "output_type": "stream",
     "text": [
      "{'Reactants': ['CpFe(CO)zSiMe3', 'lb,c'], 'Yield': ['not give an isolable quantity of'], 'Product': ['2b,c.']}\n",
      "第41条数据\n"
     ]
    },
    {
     "name": "stderr",
     "output_type": "stream",
     "text": [
      "Processed prompts: 100%|██████████| 1/1 [00:00<00:00,  1.07it/s, Generation Speed: 19.27 toks/s]\n",
      "100%|██████████| 1/1 [00:00<00:00,  1.06it/s]\n"
     ]
    },
    {
     "name": "stdout",
     "output_type": "stream",
     "text": [
      "{'Product': ['3a'], 'Yield': ['3.9 %']}\n"
     ]
    },
    {
     "name": "stderr",
     "output_type": "stream",
     "text": [
      "Processed prompts: 100%|██████████| 1/1 [00:00<00:00,  1.12it/s, Generation Speed: 17.99 toks/s]\n",
      "100%|██████████| 1/1 [00:00<00:00,  1.11it/s]\n"
     ]
    },
    {
     "name": "stdout",
     "output_type": "stream",
     "text": [
      "{'Yield': ['substantial'], 'Product': ['3b']}\n",
      "第42条数据\n"
     ]
    },
    {
     "name": "stderr",
     "output_type": "stream",
     "text": [
      "Processed prompts: 100%|██████████| 1/1 [00:01<00:00,  1.29s/it, Generation Speed: 30.29 toks/s]\n",
      "100%|██████████| 1/1 [00:01<00:00,  1.30s/it]\n"
     ]
    },
    {
     "name": "stdout",
     "output_type": "stream",
     "text": [
      "{'Reactants': ['1'], 'Product': ['2-(2,4-dimethoxyphenyl)-p-benzoquinone'], 'Yield': ['8 %']}\n",
      "第43条数据\n"
     ]
    },
    {
     "name": "stderr",
     "output_type": "stream",
     "text": [
      "Processed prompts: 100%|██████████| 1/1 [00:02<00:00,  2.09s/it, Generation Speed: 26.39 toks/s]\n",
      "100%|██████████| 1/1 [00:02<00:00,  2.10s/it]\n"
     ]
    },
    {
     "name": "stdout",
     "output_type": "stream",
     "text": [
      "{'Reactants': ['styrene− yne', '30'], 'Solvent': ['DCE'], 'Temperature': ['180 ° C'], 'Product': ['dihydronaphthalene']}\n"
     ]
    },
    {
     "name": "stderr",
     "output_type": "stream",
     "text": [
      "Processed prompts: 100%|██████████| 1/1 [00:02<00:00,  2.00s/it, Generation Speed: 25.52 toks/s]\n",
      "100%|██████████| 1/1 [00:02<00:00,  2.01s/it]\n"
     ]
    },
    {
     "name": "stdout",
     "output_type": "stream",
     "text": [
      "{'Reactants': ['styrene− yne', '30'], 'Solvent': ['DCE'], 'Temperature': ['180 ° C'], 'Product': ['31b']}\n"
     ]
    },
    {
     "name": "stderr",
     "output_type": "stream",
     "text": [
      "Processed prompts: 100%|██████████| 1/1 [00:02<00:00,  2.01s/it, Generation Speed: 25.86 toks/s]\n",
      "100%|██████████| 1/1 [00:02<00:00,  2.02s/it]\n"
     ]
    },
    {
     "name": "stdout",
     "output_type": "stream",
     "text": [
      "{'Reactants': ['styrene− yne', '30'], 'Solvent': ['DCE'], 'Temperature': ['180 ° C'], 'Product': ['naphthalene']}\n"
     ]
    },
    {
     "name": "stderr",
     "output_type": "stream",
     "text": [
      "Processed prompts: 100%|██████████| 1/1 [00:02<00:00,  2.16s/it, Generation Speed: 26.94 toks/s]\n",
      "100%|██████████| 1/1 [00:02<00:00,  2.17s/it]\n"
     ]
    },
    {
     "name": "stdout",
     "output_type": "stream",
     "text": [
      "{'Reactants': ['styrene− yne', '30'], 'Solvent': ['DCE'], 'Temperature': ['180 ° C'], 'Product': ['31a'], 'Time': ['2 min']}\n",
      "第44条数据\n"
     ]
    },
    {
     "name": "stderr",
     "output_type": "stream",
     "text": [
      "Processed prompts: 100%|██████████| 1/1 [00:00<00:00,  1.40it/s, Generation Speed: 26.82 toks/s]\n",
      "100%|██████████| 1/1 [00:00<00:00,  1.39it/s]\n"
     ]
    },
    {
     "name": "stdout",
     "output_type": "stream",
     "text": [
      "{'Reactants': ['Deoxy-Mb'], 'Product': ['met-Mb']}\n",
      "第45条数据\n"
     ]
    },
    {
     "name": "stderr",
     "output_type": "stream",
     "text": [
      "Processed prompts: 100%|██████████| 1/1 [00:00<00:00,  1.53it/s, Generation Speed: 10.76 toks/s]\n",
      "100%|██████████| 1/1 [00:00<00:00,  1.51it/s]\n"
     ]
    },
    {
     "name": "stdout",
     "output_type": "stream",
     "text": [
      "{'Product': ['I']}\n",
      "第46条数据\n"
     ]
    },
    {
     "name": "stderr",
     "output_type": "stream",
     "text": [
      "Processed prompts: 100%|██████████| 1/1 [00:01<00:00,  1.31s/it, Generation Speed: 26.08 toks/s]\n",
      "100%|██████████| 1/1 [00:01<00:00,  1.31s/it]\n"
     ]
    },
    {
     "name": "stdout",
     "output_type": "stream",
     "text": [
      "{'Reactants': ['l-(diazomethyl)-8-methylnaphthalene', '2'], 'Product': ['acenaphthene']}\n"
     ]
    },
    {
     "name": "stderr",
     "output_type": "stream",
     "text": [
      "Processed prompts: 100%|██████████| 1/1 [00:01<00:00,  1.24s/it, Generation Speed: 25.15 toks/s]\n",
      "100%|██████████| 1/1 [00:01<00:00,  1.25s/it]\n"
     ]
    },
    {
     "name": "stdout",
     "output_type": "stream",
     "text": [
      "{'Reactants': ['l-(diazomethyl)-8-methylnaphthalene', '2'], 'Product': ['3']}\n",
      "第47条数据\n"
     ]
    },
    {
     "name": "stderr",
     "output_type": "stream",
     "text": [
      "Processed prompts: 100%|██████████| 1/1 [00:00<00:00,  1.43it/s, Generation Speed: 24.34 toks/s]\n",
      "100%|██████████| 1/1 [00:00<00:00,  1.41it/s]\n"
     ]
    },
    {
     "name": "stdout",
     "output_type": "stream",
     "text": [
      "{'Product': ['3'], 'Reactants': ['1', '2']}\n"
     ]
    },
    {
     "name": "stderr",
     "output_type": "stream",
     "text": [
      "Processed prompts: 100%|██████████| 1/1 [00:00<00:00,  1.44it/s, Generation Speed: 24.61 toks/s]\n",
      "100%|██████████| 1/1 [00:00<00:00,  1.42it/s]\n"
     ]
    },
    {
     "name": "stdout",
     "output_type": "stream",
     "text": [
      "{'Product': ['4'], 'Reactants': ['1', '2']}\n",
      "第48条数据\n"
     ]
    },
    {
     "name": "stderr",
     "output_type": "stream",
     "text": [
      "Processed prompts: 100%|██████████| 1/1 [00:00<00:00,  1.05it/s, Generation Speed: 29.41 toks/s]\n",
      "100%|██████████| 1/1 [00:00<00:00,  1.04it/s]\n"
     ]
    },
    {
     "name": "stdout",
     "output_type": "stream",
     "text": [
      "{'Reactants': ['4a', '5'], 'Product': ['3a'], 'Yield': ['25 %']}\n",
      "第49条数据\n"
     ]
    },
    {
     "name": "stderr",
     "output_type": "stream",
     "text": [
      "Processed prompts: 100%|██████████| 1/1 [00:01<00:00,  1.76s/it, Generation Speed: 23.92 toks/s]\n",
      "100%|██████████| 1/1 [00:01<00:00,  1.77s/it]\n"
     ]
    },
    {
     "name": "stdout",
     "output_type": "stream",
     "text": [
      "{'Reactants': ['3b-e.I0', '5'], 'Catalyst_Reagents': ['Rhz(OAc)4'], 'Product': ['4b-elo9l1']}\n",
      "第50条数据\n"
     ]
    },
    {
     "name": "stderr",
     "output_type": "stream",
     "text": [
      "Processed prompts: 100%|██████████| 1/1 [00:00<00:00,  1.45it/s, Generation Speed: 26.17 toks/s]\n",
      "100%|██████████| 1/1 [00:00<00:00,  1.43it/s]\n"
     ]
    },
    {
     "name": "stdout",
     "output_type": "stream",
     "text": [
      "{'Reactants': ['4a'], 'Product': ['4c-e.']}\n",
      "第51条数据\n"
     ]
    },
    {
     "name": "stderr",
     "output_type": "stream",
     "text": [
      "Processed prompts: 100%|██████████| 1/1 [00:00<00:00,  1.12it/s, Generation Speed: 28.08 toks/s]\n",
      "100%|██████████| 1/1 [00:00<00:00,  1.11it/s]\n"
     ]
    },
    {
     "name": "stdout",
     "output_type": "stream",
     "text": [
      "{'Reactants': ['5'], 'Solvent': ['MeOH'], 'Product': ['(R)-6']}\n",
      "第52条数据\n"
     ]
    },
    {
     "name": "stderr",
     "output_type": "stream",
     "text": [
      "Processed prompts: 100%|██████████| 1/1 [00:01<00:00,  1.10s/it, Generation Speed: 27.39 toks/s]\n",
      "100%|██████████| 1/1 [00:01<00:00,  1.11s/it]\n"
     ]
    },
    {
     "name": "stdout",
     "output_type": "stream",
     "text": [
      "{'Product': ['(R)-6'], 'Yield': ['84.7 % ee', '88.4 % ee']}\n",
      "第53条数据\n"
     ]
    },
    {
     "name": "stderr",
     "output_type": "stream",
     "text": [
      "Processed prompts: 100%|██████████| 1/1 [00:01<00:00,  1.04s/it, Generation Speed: 21.15 toks/s]\n",
      "100%|██████████| 1/1 [00:01<00:00,  1.05s/it]\n"
     ]
    },
    {
     "name": "stdout",
     "output_type": "stream",
     "text": [
      "{'Reactants': ['enamide', '7', 'l a'], 'Product': ['8']}\n",
      "第54条数据\n"
     ]
    },
    {
     "name": "stderr",
     "output_type": "stream",
     "text": [
      "Processed prompts: 100%|██████████| 1/1 [00:01<00:00,  1.20s/it, Generation Speed: 29.97 toks/s]\n",
      "100%|██████████| 1/1 [00:01<00:00,  1.21s/it]\n"
     ]
    },
    {
     "name": "stdout",
     "output_type": "stream",
     "text": [
      "{'Reactants': ['DPD diox- etane'], 'Time': ['2 h'], 'Temperature': ['60 OC'], 'Product': ['EGDB']}\n",
      "第55条数据\n"
     ]
    },
    {
     "name": "stderr",
     "output_type": "stream",
     "text": [
      "Processed prompts: 100%|██████████| 1/1 [00:00<00:00,  1.23it/s, Generation Speed: 24.56 toks/s]\n",
      "100%|██████████| 1/1 [00:00<00:00,  1.21it/s]\n"
     ]
    },
    {
     "name": "stdout",
     "output_type": "stream",
     "text": [
      "{'Product': ['2,3-diphenyl-l,4dioxene oxide']}\n",
      "第56条数据\n"
     ]
    },
    {
     "name": "stderr",
     "output_type": "stream",
     "text": [
      "Processed prompts: 100%|██████████| 1/1 [00:01<00:00,  1.27s/it, Generation Speed: 23.64 toks/s]\n",
      "100%|██████████| 1/1 [00:01<00:00,  1.28s/it]\n"
     ]
    },
    {
     "name": "stdout",
     "output_type": "stream",
     "text": [
      "{'Reactants': ['1', '2', 'Br2'], 'Product': ['3'], 'Temperature': ['25 O C']}\n"
     ]
    },
    {
     "name": "stderr",
     "output_type": "stream",
     "text": [
      "Processed prompts: 100%|██████████| 1/1 [00:01<00:00,  1.28s/it, Generation Speed: 23.46 toks/s]\n",
      "100%|██████████| 1/1 [00:01<00:00,  1.29s/it]"
     ]
    },
    {
     "name": "stdout",
     "output_type": "stream",
     "text": [
      "{'Reactants': ['1', '2', 'Br2'], 'Product': ['4'], 'Temperature': ['25 O C']}\n",
      "TP, FP, FN 313 45 70\n",
      "NER:  precision, recall 0.8743016759776536 0.8172323759791122\n",
      "NER:  f1_score 0.844804318488529\n"
     ]
    },
    {
     "name": "stderr",
     "output_type": "stream",
     "text": [
      "\n"
     ]
    }
   ],
   "source": [
    "import os\n",
    "\n",
    "from evaluate import *\n",
    "from llm_re import *\n",
    "\n",
    "def main():\n",
    "    train_data,test_data=get_data()\n",
    "    prev_data=chem_re(train_data,test_data)\n",
    "    NER_f1(test_data,prev_data)\n",
    "\n",
    "main()"
   ]
  },
  {
   "cell_type": "markdown",
   "metadata": {},
   "source": [
    "# 在预训练模型的基础上微调"
   ]
  },
  {
   "cell_type": "code",
   "execution_count": 1,
   "metadata": {},
   "outputs": [
    {
     "name": "stderr",
     "output_type": "stream",
     "text": [
      "/data/lizh/Conda/anaconda3/envs/vllm/lib/python3.9/site-packages/tqdm/auto.py:21: TqdmWarning: IProgress not found. Please update jupyter and ipywidgets. See https://ipywidgets.readthedocs.io/en/stable/user_install.html\n",
      "  from .autonotebook import tqdm as notebook_tqdm\n",
      "2024-12-04 15:55:20,948\tINFO util.py:154 -- Missing packages: ['ipywidgets']. Run `pip install -U ipywidgets`, then restart the notebook server for rich notebook output.\n",
      "2024-12-04 15:55:24,153\tINFO worker.py:1771 -- Started a local Ray instance.\n"
     ]
    },
    {
     "name": "stdout",
     "output_type": "stream",
     "text": [
      "INFO 12-04 15:55:25 llm_engine.py:161] Initializing an LLM engine (v0.4.3) with config: model='/data/lizh/LLaMA-Factory-main/models/qwen2.5_14b_ptsft', speculative_config=None, tokenizer='/data/lizh/LLaMA-Factory-main/models/qwen2.5_14b_ptsft', skip_tokenizer_init=False, tokenizer_mode=auto, revision=None, rope_scaling=None, tokenizer_revision=None, trust_remote_code=False, dtype=torch.bfloat16, max_seq_len=32768, download_dir=None, load_format=LoadFormat.AUTO, tensor_parallel_size=4, disable_custom_all_reduce=False, quantization=None, enforce_eager=False, kv_cache_dtype=auto, quantization_param_path=None, device_config=cuda, decoding_config=DecodingConfig(guided_decoding_backend='outlines'), seed=0, served_model_name=/data/lizh/LLaMA-Factory-main/models/qwen2.5_14b_ptsft)\n",
      "INFO 12-04 15:55:37 utils.py:618] Found nccl from library libnccl.so.2\n",
      "INFO 12-04 15:55:37 pynccl.py:65] vLLM is using nccl==2.20.5\n",
      "\u001b[36m(RayWorkerWrapper pid=2295077)\u001b[0m INFO 12-04 15:55:37 utils.py:618] Found nccl from library libnccl.so.2\n",
      "\u001b[36m(RayWorkerWrapper pid=2295077)\u001b[0m INFO 12-04 15:55:37 pynccl.py:65] vLLM is using nccl==2.20.5\n",
      "WARNING 12-04 15:55:37 custom_all_reduce.py:158] Custom allreduce is disabled because it's not supported on more than two PCIe-only GPUs. To silence this warning, specify disable_custom_all_reduce=True explicitly.\n",
      "\u001b[36m(RayWorkerWrapper pid=2295077)\u001b[0m WARNING 12-04 15:55:37 custom_all_reduce.py:158] Custom allreduce is disabled because it's not supported on more than two PCIe-only GPUs. To silence this warning, specify disable_custom_all_reduce=True explicitly.\n",
      "INFO 12-04 15:55:41 model_runner.py:146] Loading model weights took 6.9459 GB\n",
      "\u001b[36m(RayWorkerWrapper pid=2295077)\u001b[0m INFO 12-04 15:55:43 model_runner.py:146] Loading model weights took 6.9459 GB\n",
      "\u001b[36m(RayWorkerWrapper pid=2295300)\u001b[0m INFO 12-04 15:55:37 utils.py:618] Found nccl from library libnccl.so.2\u001b[32m [repeated 2x across cluster] (Ray deduplicates logs by default. Set RAY_DEDUP_LOGS=0 to disable log deduplication, or see https://docs.ray.io/en/master/ray-observability/user-guides/configure-logging.html#log-deduplication for more options.)\u001b[0m\n",
      "\u001b[36m(RayWorkerWrapper pid=2295300)\u001b[0m INFO 12-04 15:55:37 pynccl.py:65] vLLM is using nccl==2.20.5\u001b[32m [repeated 2x across cluster]\u001b[0m\n",
      "\u001b[36m(RayWorkerWrapper pid=2295300)\u001b[0m WARNING 12-04 15:55:37 custom_all_reduce.py:158] Custom allreduce is disabled because it's not supported on more than two PCIe-only GPUs. To silence this warning, specify disable_custom_all_reduce=True explicitly.\u001b[32m [repeated 2x across cluster]\u001b[0m\n",
      "INFO 12-04 15:55:57 distributed_gpu_executor.py:56] # GPU blocks: 40967, # CPU blocks: 5461\n",
      "INFO 12-04 15:56:01 model_runner.py:854] Capturing the model for CUDA graphs. This may lead to unexpected consequences if the model is not static. To run the model in eager mode, set 'enforce_eager=True' or use '--enforce-eager' in the CLI.\n",
      "INFO 12-04 15:56:01 model_runner.py:858] CUDA graphs can take additional 1~3 GiB memory per GPU. If you are running out of memory, consider decreasing `gpu_memory_utilization` or enforcing eager mode. You can also reduce the `max_num_seqs` as needed to decrease memory usage.\n",
      "\u001b[36m(RayWorkerWrapper pid=2295077)\u001b[0m INFO 12-04 15:56:02 model_runner.py:854] Capturing the model for CUDA graphs. This may lead to unexpected consequences if the model is not static. To run the model in eager mode, set 'enforce_eager=True' or use '--enforce-eager' in the CLI.\n",
      "\u001b[36m(RayWorkerWrapper pid=2295077)\u001b[0m INFO 12-04 15:56:02 model_runner.py:858] CUDA graphs can take additional 1~3 GiB memory per GPU. If you are running out of memory, consider decreasing `gpu_memory_utilization` or enforcing eager mode. You can also reduce the `max_num_seqs` as needed to decrease memory usage.\n",
      "\u001b[36m(RayWorkerWrapper pid=2295300)\u001b[0m INFO 12-04 15:55:43 model_runner.py:146] Loading model weights took 6.9459 GB\u001b[32m [repeated 2x across cluster]\u001b[0m\n",
      "\u001b[36m(RayWorkerWrapper pid=2295160)\u001b[0m INFO 12-04 15:56:18 model_runner.py:924] Graph capturing finished in 16 secs.\n",
      "\u001b[36m(RayWorkerWrapper pid=2295300)\u001b[0m INFO 12-04 15:56:02 model_runner.py:854] Capturing the model for CUDA graphs. This may lead to unexpected consequences if the model is not static. To run the model in eager mode, set 'enforce_eager=True' or use '--enforce-eager' in the CLI.\u001b[32m [repeated 2x across cluster]\u001b[0m\n",
      "\u001b[36m(RayWorkerWrapper pid=2295300)\u001b[0m INFO 12-04 15:56:02 model_runner.py:858] CUDA graphs can take additional 1~3 GiB memory per GPU. If you are running out of memory, consider decreasing `gpu_memory_utilization` or enforcing eager mode. You can also reduce the `max_num_seqs` as needed to decrease memory usage.\u001b[32m [repeated 2x across cluster]\u001b[0m\n",
      "INFO 12-04 15:56:18 model_runner.py:924] Graph capturing finished in 17 secs.\n",
      "第0条数据\n"
     ]
    },
    {
     "name": "stderr",
     "output_type": "stream",
     "text": [
      "Processed prompts: 100%|██████████| 1/1 [00:02<00:00,  2.78s/it, Generation Speed: 23.76 toks/s]\n",
      "100%|██████████| 1/1 [00:02<00:00,  2.82s/it]\n"
     ]
    },
    {
     "name": "stdout",
     "output_type": "stream",
     "text": [
      "{'Reactants': ['benzene-1,2-diamine', 'hexanebis(peroxoic acid )', 'dodecanebis(peroxoic acid )'], 'Product': ['2- nitroaniline'], 'Yield': ['90 %', '92 %']}\n",
      "第1条数据\n"
     ]
    },
    {
     "name": "stderr",
     "output_type": "stream",
     "text": [
      "Processed prompts: 100%|██████████| 1/1 [00:01<00:00,  1.18s/it, Generation Speed: 28.89 toks/s]\n",
      "100%|██████████| 1/1 [00:01<00:00,  1.19s/it]\n"
     ]
    },
    {
     "name": "stdout",
     "output_type": "stream",
     "text": [
      "{'Reactants': ['2'], 'Product': [\"[PyH]+[2'cu4 @ -C1)4 @ ~ -Cl)]-\"]}\n"
     ]
    },
    {
     "name": "stderr",
     "output_type": "stream",
     "text": [
      "Processed prompts: 100%|██████████| 1/1 [00:00<00:00,  1.40it/s, Generation Speed: 19.68 toks/s]\n",
      "100%|██████████| 1/1 [00:00<00:00,  1.39it/s]\n"
     ]
    },
    {
     "name": "stdout",
     "output_type": "stream",
     "text": [
      "{'Reactants': ['2'], 'Product': ['4']}\n"
     ]
    },
    {
     "name": "stderr",
     "output_type": "stream",
     "text": [
      "Processed prompts: 100%|██████████| 1/1 [00:01<00:00,  1.18s/it, Generation Speed: 28.99 toks/s]\n",
      "100%|██████████| 1/1 [00:01<00:00,  1.18s/it]\n"
     ]
    },
    {
     "name": "stdout",
     "output_type": "stream",
     "text": [
      "{'Reactants': ['2'], 'Product': ['[PyH]+[2.Ag4 @ -C1)4 @ 4- Cl)]-']}\n"
     ]
    },
    {
     "name": "stderr",
     "output_type": "stream",
     "text": [
      "Processed prompts: 100%|██████████| 1/1 [00:00<00:00,  1.42it/s, Generation Speed: 19.94 toks/s]\n",
      "100%|██████████| 1/1 [00:00<00:00,  1.40it/s]\n"
     ]
    },
    {
     "name": "stdout",
     "output_type": "stream",
     "text": [
      "{'Reactants': ['2'], 'Product': ['5']}\n",
      "第2条数据\n"
     ]
    },
    {
     "name": "stderr",
     "output_type": "stream",
     "text": [
      "Processed prompts: 100%|██████████| 1/1 [00:02<00:00,  2.41s/it, Generation Speed: 28.25 toks/s]\n",
      "100%|██████████| 1/1 [00:02<00:00,  2.42s/it]\n"
     ]
    },
    {
     "name": "stdout",
     "output_type": "stream",
     "text": [
      "{'Reactants': ['(3,5,5-trimethyl-2-oxomorpholin-3-yl)peroxyl radical', '1'], 'Product': ['3-hydroperoxy-3,5,5-trimethyl-2-0 ~ 0- morpholin-4-yl']}\n"
     ]
    },
    {
     "name": "stderr",
     "output_type": "stream",
     "text": [
      "Processed prompts: 100%|██████████| 1/1 [00:01<00:00,  1.76s/it, Generation Speed: 23.31 toks/s]\n",
      "100%|██████████| 1/1 [00:01<00:00,  1.78s/it]\n"
     ]
    },
    {
     "name": "stdout",
     "output_type": "stream",
     "text": [
      "{'Reactants': ['(3,5,5-trimethyl-2-oxomorpholin-3-yl)peroxyl radical', '1'], 'Product': ['3']}\n",
      "第3条数据\n"
     ]
    },
    {
     "name": "stderr",
     "output_type": "stream",
     "text": [
      "Processed prompts: 100%|██████████| 1/1 [00:02<00:00,  2.03s/it, Generation Speed: 32.02 toks/s]\n",
      "100%|██████████| 1/1 [00:02<00:00,  2.04s/it]\n"
     ]
    },
    {
     "name": "stdout",
     "output_type": "stream",
     "text": [
      "{'Reactants': ['3,4,5,5-tetramethyl-2-oxomorpholine', '6', 'di-tert-butyl peroxide'], 'Product': ['3-methylidene- 4,5,5-trimethyl-2-oxomorpholine']}\n"
     ]
    },
    {
     "name": "stderr",
     "output_type": "stream",
     "text": [
      "Processed prompts: 100%|██████████| 1/1 [00:01<00:00,  1.55s/it, Generation Speed: 28.48 toks/s]\n",
      "100%|██████████| 1/1 [00:01<00:00,  1.56s/it]\n"
     ]
    },
    {
     "name": "stdout",
     "output_type": "stream",
     "text": [
      "{'Reactants': ['3,4,5,5-tetramethyl-2-oxomorpholine', '6', 'di-tert-butyl peroxide'], 'Product': ['7']}\n",
      "第4条数据\n"
     ]
    },
    {
     "name": "stderr",
     "output_type": "stream",
     "text": [
      "Processed prompts: 100%|██████████| 1/1 [00:02<00:00,  2.87s/it, Generation Speed: 38.32 toks/s]\n",
      "100%|██████████| 1/1 [00:02<00:00,  2.88s/it]\n"
     ]
    },
    {
     "name": "stdout",
     "output_type": "stream",
     "text": [
      "{'Reactants': ['1-bromo-2- chlorobenzene', '1-chloro-2-iodobenzene', '1,2-dibromobenzene', '1-bromo-2-iodobenzene', '1,2-dichlorobenzene', 'N-(5-chloro-2-mercaptophenyl)acetamide'], 'Product': ['2-chloro-10H-phenothiazine'], 'Yield': ['92 %']}\n",
      "第5条数据\n"
     ]
    },
    {
     "name": "stderr",
     "output_type": "stream",
     "text": [
      "Processed prompts: 100%|██████████| 1/1 [00:01<00:00,  1.29s/it, Generation Speed: 24.77 toks/s]\n",
      "100%|██████████| 1/1 [00:01<00:00,  1.31s/it]\n"
     ]
    },
    {
     "name": "stdout",
     "output_type": "stream",
     "text": [
      "{'Reactants': ['C02'], 'Product': ['formate'], 'Catalyst_Reagents': ['formate dehydrogenase']}\n"
     ]
    },
    {
     "name": "stderr",
     "output_type": "stream",
     "text": [
      "Processed prompts: 100%|██████████| 1/1 [00:01<00:00,  1.34s/it, Generation Speed: 25.46 toks/s]\n",
      "100%|██████████| 1/1 [00:01<00:00,  1.35s/it]\n"
     ]
    },
    {
     "name": "stdout",
     "output_type": "stream",
     "text": [
      "{'Reactants': ['formate'], 'Catalyst_Reagents': ['THF - dependent enzymes.'], 'Product': ['CH3 - THF']}\n",
      "第6条数据\n"
     ]
    },
    {
     "name": "stderr",
     "output_type": "stream",
     "text": [
      "Processed prompts: 100%|██████████| 1/1 [00:02<00:00,  2.07s/it, Generation Speed: 34.36 toks/s]\n",
      "100%|██████████| 1/1 [00:02<00:00,  2.08s/it]\n"
     ]
    },
    {
     "name": "stdout",
     "output_type": "stream",
     "text": [
      "{'Product': ['5e'], 'Reactants': ['4a', '3e'], 'Catalyst_Reagents': ['BF3-methanol'], 'Solvent': ['dichloromethane'], 'Temperature': ['0 ° C'], 'Time': ['1 h', '45 min']}\n",
      "第7条数据\n"
     ]
    },
    {
     "name": "stderr",
     "output_type": "stream",
     "text": [
      "Processed prompts: 100%|██████████| 1/1 [00:01<00:00,  1.34s/it, Generation Speed: 26.84 toks/s]\n",
      "100%|██████████| 1/1 [00:01<00:00,  1.35s/it]\n"
     ]
    },
    {
     "name": "stdout",
     "output_type": "stream",
     "text": [
      "{'Reactants': ['7e'], 'Catalyst_Reagents': ['chloranil'], 'Product': ['5e'], 'Yield': ['6 %']}\n"
     ]
    },
    {
     "name": "stderr",
     "output_type": "stream",
     "text": [
      "Processed prompts: 100%|██████████| 1/1 [00:01<00:00,  1.83s/it, Generation Speed: 31.23 toks/s]\n",
      "100%|██████████| 1/1 [00:01<00:00,  1.84s/it]\n"
     ]
    },
    {
     "name": "stdout",
     "output_type": "stream",
     "text": [
      "{'Reactants': ['7f'], 'Catalyst_Reagents': ['0.1 % aqueous FeCl3'], 'Solvent': ['CHCl3'], 'Temperature': ['room'], 'Product': ['5f'], 'Yield': ['7 %']}\n"
     ]
    },
    {
     "name": "stderr",
     "output_type": "stream",
     "text": [
      "Processed prompts: 100%|██████████| 1/1 [00:01<00:00,  1.42s/it, Generation Speed: 27.51 toks/s]\n",
      "100%|██████████| 1/1 [00:01<00:00,  1.43s/it]\n"
     ]
    },
    {
     "name": "stdout",
     "output_type": "stream",
     "text": [
      "{'Reactants': ['7g'], 'Solvent': ['CHCl3'], 'Temperature': ['room'], 'Product': ['5g'], 'Yield': ['5 %']}\n"
     ]
    },
    {
     "name": "stderr",
     "output_type": "stream",
     "text": [
      "Processed prompts: 100%|██████████| 1/1 [00:01<00:00,  1.42s/it, Generation Speed: 27.52 toks/s]\n",
      "100%|██████████| 1/1 [00:01<00:00,  1.43s/it]\n"
     ]
    },
    {
     "name": "stdout",
     "output_type": "stream",
     "text": [
      "{'Reactants': ['7h'], 'Solvent': ['CHCl3'], 'Temperature': ['room'], 'Product': ['5h'], 'Yield': ['4 %']}\n",
      "第8条数据\n"
     ]
    },
    {
     "name": "stderr",
     "output_type": "stream",
     "text": [
      "Processed prompts: 100%|██████████| 1/1 [00:01<00:00,  1.02s/it, Generation Speed: 27.47 toks/s]\n",
      "100%|██████████| 1/1 [00:01<00:00,  1.03s/it]\n"
     ]
    },
    {
     "name": "stdout",
     "output_type": "stream",
     "text": [
      "{'Product': ['Cp-CH(CH3)Cyl2ZrCI2'], 'Yield': ['almost quantitative']}\n",
      "第9条数据\n"
     ]
    },
    {
     "name": "stderr",
     "output_type": "stream",
     "text": [
      "Processed prompts: 100%|██████████| 1/1 [00:02<00:00,  2.36s/it, Generation Speed: 32.69 toks/s]\n",
      "100%|██████████| 1/1 [00:02<00:00,  2.37s/it]\n"
     ]
    },
    {
     "name": "stdout",
     "output_type": "stream",
     "text": [
      "{'Reactants': ['2s'], 'Solvent': ['deutericchloroform'], 'Catalyst_Reagents': ['dimethyl', 'diphenyl sulfide'], 'Temperature': ['-30 O C'], 'Time': ['15 min'], 'Yield': ['quantitative'], 'Product': ['benzofuran epoxide']}\n"
     ]
    },
    {
     "name": "stderr",
     "output_type": "stream",
     "text": [
      "Processed prompts: 100%|██████████| 1/1 [00:02<00:00,  2.23s/it, Generation Speed: 32.75 toks/s]\n",
      "100%|██████████| 1/1 [00:02<00:00,  2.24s/it]\n"
     ]
    },
    {
     "name": "stdout",
     "output_type": "stream",
     "text": [
      "{'Reactants': ['2s'], 'Solvent': ['deutericchloroform'], 'Catalyst_Reagents': ['dimethyl', 'diphenyl sulfide'], 'Temperature': ['-30 O C'], 'Time': ['15 min'], 'Yield': ['quantitative'], 'Product': ['3a']}\n"
     ]
    },
    {
     "name": "stderr",
     "output_type": "stream",
     "text": [
      "Processed prompts: 100%|██████████| 1/1 [00:01<00:00,  1.96s/it, Generation Speed: 31.12 toks/s]\n",
      "100%|██████████| 1/1 [00:01<00:00,  1.97s/it]\n"
     ]
    },
    {
     "name": "stdout",
     "output_type": "stream",
     "text": [
      "{'Reactants': ['dioxetane', '2s', 'diphenyl sulfide'], 'Temperature': ['-30 O C'], 'Time': ['15 min'], 'Yield': ['quantitative'], 'Product': ['diphenyl sulfoxide']}\n",
      "第10条数据\n"
     ]
    },
    {
     "name": "stderr",
     "output_type": "stream",
     "text": [
      "Processed prompts: 100%|██████████| 1/1 [00:01<00:00,  1.11s/it, Generation Speed: 24.34 toks/s]\n",
      "100%|██████████| 1/1 [00:01<00:00,  1.12s/it]\n"
     ]
    },
    {
     "name": "stdout",
     "output_type": "stream",
     "text": [
      "{'Reactants': ['Cyclooctatetraene', 'COT'], 'Product': ['benzene']}\n"
     ]
    },
    {
     "name": "stderr",
     "output_type": "stream",
     "text": [
      "Processed prompts: 100%|██████████| 1/1 [00:01<00:00,  1.12s/it, Generation Speed: 25.04 toks/s]\n",
      "100%|██████████| 1/1 [00:01<00:00,  1.13s/it]\n"
     ]
    },
    {
     "name": "stdout",
     "output_type": "stream",
     "text": [
      "{'Reactants': ['Cyclooctatetraene', 'COT'], 'Product': ['benzene.']}\n",
      "第11条数据\n"
     ]
    },
    {
     "name": "stderr",
     "output_type": "stream",
     "text": [
      "Processed prompts: 100%|██████████| 1/1 [00:01<00:00,  1.04s/it, Generation Speed: 25.10 toks/s]\n",
      "100%|██████████| 1/1 [00:01<00:00,  1.05s/it]\n"
     ]
    },
    {
     "name": "stdout",
     "output_type": "stream",
     "text": [
      "{'Catalyst_Reagents': ['4'], 'Reactants': ['1a'], 'Product': ['2a']}\n",
      "第12条数据\n"
     ]
    },
    {
     "name": "stderr",
     "output_type": "stream",
     "text": [
      "Processed prompts: 100%|██████████| 1/1 [00:01<00:00,  1.43s/it, Generation Speed: 24.59 toks/s]\n",
      "100%|██████████| 1/1 [00:01<00:00,  1.44s/it]\n"
     ]
    },
    {
     "name": "stdout",
     "output_type": "stream",
     "text": [
      "{'Reactants': ['thiophenol', 'phenylacetylene'], 'Product': ['phenylglyoxal hemithioacetal.']}\n",
      "第13条数据\n"
     ]
    },
    {
     "name": "stderr",
     "output_type": "stream",
     "text": [
      "Processed prompts: 100%|██████████| 1/1 [00:02<00:00,  2.36s/it, Generation Speed: 34.01 toks/s]\n",
      "100%|██████████| 1/1 [00:02<00:00,  2.36s/it]\n"
     ]
    },
    {
     "name": "stdout",
     "output_type": "stream",
     "text": [
      "{'Reactants': ['3,6-dinitrocarbazole', 'BrCH2C02Me'], 'Catalyst_Reagents': ['KzCO3', 'DMF'], 'Product': ['N-((methyloxycarbony1)- methyl)-3,6-diaminocarbazole.'], 'Yield': ['99 %']}\n",
      "第14条数据\n"
     ]
    },
    {
     "name": "stderr",
     "output_type": "stream",
     "text": [
      "Processed prompts: 100%|██████████| 1/1 [00:01<00:00,  1.16s/it, Generation Speed: 26.72 toks/s]\n",
      "100%|██████████| 1/1 [00:01<00:00,  1.17s/it]\n"
     ]
    },
    {
     "name": "stdout",
     "output_type": "stream",
     "text": [
      "{'Reactants': ['2-cy- clohexenone', '7a'], 'Product': ['2-cyclohexenol']}\n"
     ]
    },
    {
     "name": "stderr",
     "output_type": "stream",
     "text": [
      "Processed prompts: 100%|██████████| 1/1 [00:01<00:00,  1.15s/it, Generation Speed: 26.27 toks/s]\n",
      "100%|██████████| 1/1 [00:01<00:00,  1.16s/it]\n"
     ]
    },
    {
     "name": "stdout",
     "output_type": "stream",
     "text": [
      "{'Reactants': ['2-cy- clohexenone', '7a'], 'Product': ['cyclohexanol.']}\n",
      "第15条数据\n"
     ]
    },
    {
     "name": "stderr",
     "output_type": "stream",
     "text": [
      "Processed prompts: 100%|██████████| 1/1 [00:01<00:00,  1.20s/it, Generation Speed: 30.85 toks/s]\n",
      "100%|██████████| 1/1 [00:01<00:00,  1.21s/it]\n"
     ]
    },
    {
     "name": "stdout",
     "output_type": "stream",
     "text": [
      "{'Reactants': ['1a', '2a', 'CsF'], 'Catalyst_Reagents': ['40'], 'Product': ['benzylamine']}\n"
     ]
    },
    {
     "name": "stderr",
     "output_type": "stream",
     "text": [
      "Processed prompts: 100%|██████████| 1/1 [00:01<00:00,  1.32s/it, Generation Speed: 32.56 toks/s]\n",
      "100%|██████████| 1/1 [00:01<00:00,  1.33s/it]\n"
     ]
    },
    {
     "name": "stdout",
     "output_type": "stream",
     "text": [
      "{'Reactants': ['1a', '2a', 'CsF'], 'Catalyst_Reagents': ['40'], 'Product': ['5'], 'Yield': ['24 %']}\n"
     ]
    },
    {
     "name": "stderr",
     "output_type": "stream",
     "text": [
      "Processed prompts: 100%|██████████| 1/1 [00:01<00:00,  1.35s/it, Generation Speed: 32.62 toks/s]\n",
      "100%|██████████| 1/1 [00:01<00:00,  1.36s/it]\n"
     ]
    },
    {
     "name": "stdout",
     "output_type": "stream",
     "text": [
      "{'Reactants': ['1a', '2a', 'CsF'], 'Catalyst_Reagents': ['40'], 'Product': ['3a'], 'Yield': ['24 %']}\n",
      "第16条数据\n"
     ]
    },
    {
     "name": "stderr",
     "output_type": "stream",
     "text": [
      "Processed prompts: 100%|██████████| 1/1 [00:01<00:00,  1.35s/it, Generation Speed: 31.89 toks/s]\n",
      "100%|██████████| 1/1 [00:01<00:00,  1.36s/it]\n"
     ]
    },
    {
     "name": "stdout",
     "output_type": "stream",
     "text": [
      "{'Catalyst_Reagents': ['dioxovanadium(V)'], 'Reactants': ['chloride', 'hydrogen peroxide'], 'Product': ['chlorotrimethoxybenzene']}\n",
      "第17条数据\n"
     ]
    },
    {
     "name": "stderr",
     "output_type": "stream",
     "text": [
      "Processed prompts: 100%|██████████| 1/1 [00:00<00:00,  1.03it/s, Generation Speed: 29.07 toks/s]\n",
      "100%|██████████| 1/1 [00:00<00:00,  1.03it/s]\n"
     ]
    },
    {
     "name": "stdout",
     "output_type": "stream",
     "text": [
      "{'Reactants': ['diphenylketene'], 'Product': ['2'], 'Yield': ['61 %']}\n",
      "第18条数据\n"
     ]
    },
    {
     "name": "stderr",
     "output_type": "stream",
     "text": [
      "Processed prompts: 100%|██████████| 1/1 [00:01<00:00,  1.49s/it, Generation Speed: 28.86 toks/s]\n",
      "100%|██████████| 1/1 [00:01<00:00,  1.50s/it]\n"
     ]
    },
    {
     "name": "stdout",
     "output_type": "stream",
     "text": [
      "{'Reactants': ['naph- thacene', 'chloroacetyl chloride.'], 'Catalyst_Reagents': ['AlCl3'], 'Product': ['acenaphthacenone']}\n"
     ]
    },
    {
     "name": "stderr",
     "output_type": "stream",
     "text": [
      "Processed prompts: 100%|██████████| 1/1 [00:01<00:00,  1.41s/it, Generation Speed: 27.74 toks/s]\n",
      "100%|██████████| 1/1 [00:01<00:00,  1.42s/it]\n"
     ]
    },
    {
     "name": "stdout",
     "output_type": "stream",
     "text": [
      "{'Catalyst_Reagents': ['AlCl3'], 'Reactants': ['naph- thacene', 'chloroacetyl chloride.'], 'Product': ['6']}\n",
      "第19条数据\n"
     ]
    },
    {
     "name": "stderr",
     "output_type": "stream",
     "text": [
      "Processed prompts: 100%|██████████| 1/1 [00:01<00:00,  1.19s/it, Generation Speed: 28.63 toks/s]\n",
      "100%|██████████| 1/1 [00:01<00:00,  1.20s/it]\n"
     ]
    },
    {
     "name": "stdout",
     "output_type": "stream",
     "text": [
      "{'Reactants': ['6'], 'Catalyst_Reagents': ['TiCl4'], 'Solvent': ['ODCB'], 'Product': ['4']}\n",
      "第20条数据\n"
     ]
    },
    {
     "name": "stderr",
     "output_type": "stream",
     "text": [
      "Processed prompts: 100%|██████████| 1/1 [00:01<00:00,  1.21s/it, Generation Speed: 24.97 toks/s]\n",
      "100%|██████████| 1/1 [00:01<00:00,  1.21s/it]\n"
     ]
    },
    {
     "name": "stdout",
     "output_type": "stream",
     "text": [
      "{'Catalyst_Reagents': ['EDCI', 'KHCO3', 'HOAt15'], 'Product': ['4aa']}\n",
      "第21条数据\n"
     ]
    },
    {
     "name": "stderr",
     "output_type": "stream",
     "text": [
      "Processed prompts: 100%|██████████| 1/1 [00:02<00:00,  2.61s/it, Generation Speed: 35.02 toks/s]\n",
      "100%|██████████| 1/1 [00:02<00:00,  2.61s/it]\n"
     ]
    },
    {
     "name": "stdout",
     "output_type": "stream",
     "text": [
      "{'Reactants': ['(Z)-1a'], 'Product': ['2aa'], 'Yield': ['quantitatively'], 'Time': ['1 h'], 'Solvent': ['MeOH'], 'Catalyst_Reagents': ['−CHCl3', 'Pd', 'PPh3', 'Pd2dba3'], 'Temperature': ['25 ° C']}\n",
      "第22条数据\n"
     ]
    },
    {
     "name": "stderr",
     "output_type": "stream",
     "text": [
      "Processed prompts: 100%|██████████| 1/1 [00:00<00:00,  1.09it/s, Generation Speed: 23.99 toks/s]\n",
      "100%|██████████| 1/1 [00:00<00:00,  1.08it/s]\n"
     ]
    },
    {
     "name": "stdout",
     "output_type": "stream",
     "text": [
      "{'Reactants': ['cinnamaldehydes', '1'], 'Product': ['7']}\n"
     ]
    },
    {
     "name": "stderr",
     "output_type": "stream",
     "text": [
      "Processed prompts: 100%|██████████| 1/1 [00:00<00:00,  1.03it/s, Generation Speed: 24.77 toks/s]\n",
      "100%|██████████| 1/1 [00:00<00:00,  1.02it/s]\n"
     ]
    },
    {
     "name": "stdout",
     "output_type": "stream",
     "text": [
      "{'Reactants': ['7'], 'Catalyst_Reagents': ['4'], 'Product': ['8']}\n",
      "第23条数据\n"
     ]
    },
    {
     "name": "stderr",
     "output_type": "stream",
     "text": [
      "Processed prompts: 100%|██████████| 1/1 [00:01<00:00,  1.02s/it, Generation Speed: 18.69 toks/s]\n",
      "100%|██████████| 1/1 [00:01<00:00,  1.03s/it]\n"
     ]
    },
    {
     "name": "stdout",
     "output_type": "stream",
     "text": [
      "{'Reactants': ['2', '8'], 'Product': ['10.']}\n",
      "第24条数据\n"
     ]
    },
    {
     "name": "stderr",
     "output_type": "stream",
     "text": [
      "Processed prompts: 100%|██████████| 1/1 [00:00<00:00,  1.14it/s, Generation Speed: 19.41 toks/s]\n",
      "100%|██████████| 1/1 [00:00<00:00,  1.13it/s]\n"
     ]
    },
    {
     "name": "stdout",
     "output_type": "stream",
     "text": [
      "{'Reactants': ['10'], 'Product': ['11.']}\n",
      "第25条数据\n"
     ]
    },
    {
     "name": "stderr",
     "output_type": "stream",
     "text": [
      "Processed prompts: 100%|██████████| 1/1 [00:01<00:00,  1.04s/it, Generation Speed: 27.13 toks/s]\n",
      "100%|██████████| 1/1 [00:01<00:00,  1.04s/it]\n"
     ]
    },
    {
     "name": "stdout",
     "output_type": "stream",
     "text": [
      "{'Product': ['31'], 'Reactants': ['30'], 'Catalyst_Reagents': ['AgNO3']}\n",
      "第26条数据\n"
     ]
    },
    {
     "name": "stderr",
     "output_type": "stream",
     "text": [
      "Processed prompts: 100%|██████████| 1/1 [00:01<00:00,  1.24s/it, Generation Speed: 31.49 toks/s]\n",
      "100%|██████████| 1/1 [00:01<00:00,  1.25s/it]\n",
      "Processed prompts: 100%|██████████| 1/1 [00:00<00:00,  1.19it/s, Generation Speed: 26.18 toks/s]\n",
      "100%|██████████| 1/1 [00:00<00:00,  1.18it/s]\n"
     ]
    },
    {
     "name": "stdout",
     "output_type": "stream",
     "text": [
      "{'Reactants': ['5', 'HBFdEt20'], 'Product': ['6']}\n",
      "第27条数据\n"
     ]
    },
    {
     "name": "stderr",
     "output_type": "stream",
     "text": [
      "Processed prompts: 100%|██████████| 1/1 [00:00<00:00,  1.10it/s, Generation Speed: 18.71 toks/s]\n",
      "100%|██████████| 1/1 [00:00<00:00,  1.09it/s]\n"
     ]
    },
    {
     "name": "stdout",
     "output_type": "stream",
     "text": [
      "{'Product': ['7a'], 'Yield': ['22 %']}\n"
     ]
    },
    {
     "name": "stderr",
     "output_type": "stream",
     "text": [
      "Processed prompts: 100%|██████████| 1/1 [00:00<00:00,  1.13it/s, Generation Speed: 18.14 toks/s]\n",
      "100%|██████████| 1/1 [00:00<00:00,  1.12it/s]\n"
     ]
    },
    {
     "name": "stdout",
     "output_type": "stream",
     "text": [
      "{'Product': ['7b'], 'Yield': ['8 %']}\n"
     ]
    },
    {
     "name": "stderr",
     "output_type": "stream",
     "text": [
      "Processed prompts: 100%|██████████| 1/1 [00:00<00:00,  1.44it/s, Generation Speed: 11.57 toks/s]\n",
      "100%|██████████| 1/1 [00:00<00:00,  1.42it/s]\n"
     ]
    },
    {
     "name": "stdout",
     "output_type": "stream",
     "text": [
      "{'Product': ['8a']}\n"
     ]
    },
    {
     "name": "stderr",
     "output_type": "stream",
     "text": [
      "Processed prompts: 100%|██████████| 1/1 [00:00<00:00,  1.44it/s, Generation Speed: 11.59 toks/s]\n",
      "100%|██████████| 1/1 [00:00<00:00,  1.43it/s]\n"
     ]
    },
    {
     "name": "stdout",
     "output_type": "stream",
     "text": [
      "{'Product': ['8b']}\n"
     ]
    },
    {
     "name": "stderr",
     "output_type": "stream",
     "text": [
      "Processed prompts: 100%|██████████| 1/1 [00:01<00:00,  1.19s/it, Generation Speed: 24.48 toks/s]\n",
      "100%|██████████| 1/1 [00:01<00:00,  1.20s/it]\n"
     ]
    },
    {
     "name": "stdout",
     "output_type": "stream",
     "text": [
      "{'Product': ['(propynylfenchol)Co2(C0)6'], 'Yield': ['23 %']}\n"
     ]
    },
    {
     "name": "stderr",
     "output_type": "stream",
     "text": [
      "Processed prompts: 100%|██████████| 1/1 [00:00<00:00,  1.11it/s, Generation Speed: 18.95 toks/s]\n",
      "100%|██████████| 1/1 [00:00<00:00,  1.10it/s]\n"
     ]
    },
    {
     "name": "stdout",
     "output_type": "stream",
     "text": [
      "{'Product': ['Sb'], 'Yield': ['23 %']}\n",
      "第28条数据\n"
     ]
    },
    {
     "name": "stderr",
     "output_type": "stream",
     "text": [
      "Processed prompts: 100%|██████████| 1/1 [00:01<00:00,  1.54s/it, Generation Speed: 26.74 toks/s]\n",
      "100%|██████████| 1/1 [00:01<00:00,  1.55s/it]\n"
     ]
    },
    {
     "name": "stdout",
     "output_type": "stream",
     "text": [
      "{'Product': ['l-propynyl- 2-methylene-7,7-dimethylbicyclo[2.2.1]heptane)Coz(C0)']}\n"
     ]
    },
    {
     "name": "stderr",
     "output_type": "stream",
     "text": [
      "Processed prompts: 100%|██████████| 1/1 [00:01<00:00,  1.55s/it, Generation Speed: 26.58 toks/s]\n",
      "100%|██████████| 1/1 [00:01<00:00,  1.56s/it]\n"
     ]
    },
    {
     "name": "stdout",
     "output_type": "stream",
     "text": [
      "{'Product': ['1 -propynyl-2,7,7-trimethylbicyclo[2.2.l]-2-heptene)Co2- (CO)6']}\n",
      "第29条数据\n"
     ]
    },
    {
     "name": "stderr",
     "output_type": "stream",
     "text": [
      "Processed prompts: 100%|██████████| 1/1 [00:00<00:00,  1.39it/s, Generation Speed: 22.33 toks/s]\n",
      "100%|██████████| 1/1 [00:00<00:00,  1.37it/s]\n"
     ]
    },
    {
     "name": "stdout",
     "output_type": "stream",
     "text": [
      "{'Yield': ['very minor'], 'Product': ['8a']}\n"
     ]
    },
    {
     "name": "stderr",
     "output_type": "stream",
     "text": [
      "Processed prompts: 100%|██████████| 1/1 [00:00<00:00,  1.38it/s, Generation Speed: 22.17 toks/s]\n",
      "100%|██████████| 1/1 [00:00<00:00,  1.36it/s]\n"
     ]
    },
    {
     "name": "stdout",
     "output_type": "stream",
     "text": [
      "{'Yield': ['very minor'], 'Product': ['8b']}\n",
      "第30条数据\n"
     ]
    },
    {
     "name": "stderr",
     "output_type": "stream",
     "text": [
      "Processed prompts: 100%|██████████| 1/1 [00:02<00:00,  2.20s/it, Generation Speed: 11.39 toks/s]\n",
      "100%|██████████| 1/1 [00:02<00:00,  2.21s/it]\n"
     ]
    },
    {
     "name": "stdout",
     "output_type": "stream",
     "text": [
      "{'Reactants': ['trifluoroacetic acid', 'I b'], 'Product': ['I b']}\n",
      "第31条数据\n"
     ]
    },
    {
     "name": "stderr",
     "output_type": "stream",
     "text": [
      "Processed prompts: 100%|██████████| 1/1 [00:00<00:00,  1.87it/s, Generation Speed: 18.92 toks/s]\n",
      "100%|██████████| 1/1 [00:00<00:00,  1.84it/s]\n"
     ]
    },
    {
     "name": "stdout",
     "output_type": "stream",
     "text": [
      "{'Product': ['3bCDCh']}\n"
     ]
    },
    {
     "name": "stderr",
     "output_type": "stream",
     "text": [
      "Processed prompts: 100%|██████████| 1/1 [00:00<00:00,  1.35it/s, Generation Speed: 25.84 toks/s]\n",
      "100%|██████████| 1/1 [00:00<00:00,  1.34it/s]\n"
     ]
    },
    {
     "name": "stdout",
     "output_type": "stream",
     "text": [
      "{'Reactants': ['3bCDCh'], 'Product': ['Ib.']}\n",
      "第32条数据\n"
     ]
    },
    {
     "name": "stderr",
     "output_type": "stream",
     "text": [
      "Processed prompts: 100%|██████████| 1/1 [00:01<00:00,  1.37s/it, Generation Speed: 25.64 toks/s]\n",
      "100%|██████████| 1/1 [00:01<00:00,  1.38s/it]\n"
     ]
    },
    {
     "name": "stdout",
     "output_type": "stream",
     "text": [
      "{'Product': ['WBS'], 'Reactants': ['Ib', 'pyrazine'], 'Solvent': ['9 : I CHCIKHIOH']}\n",
      "第33条数据\n"
     ]
    },
    {
     "name": "stderr",
     "output_type": "stream",
     "text": [
      "Processed prompts: 100%|██████████| 1/1 [00:01<00:00,  1.07s/it, Generation Speed: 29.14 toks/s]\n",
      "100%|██████████| 1/1 [00:01<00:00,  1.08s/it]\n"
     ]
    },
    {
     "name": "stdout",
     "output_type": "stream",
     "text": [
      "{'Temperature': ['80', 'C'], 'Product': ['1-octanoic acid'], 'Yield': ['82 %']}\n",
      "第34条数据\n"
     ]
    },
    {
     "name": "stderr",
     "output_type": "stream",
     "text": [
      "Processed prompts: 100%|██████████| 1/1 [00:01<00:00,  1.36s/it, Generation Speed: 31.01 toks/s]\n",
      "100%|██████████| 1/1 [00:01<00:00,  1.37s/it]\n"
     ]
    },
    {
     "name": "stdout",
     "output_type": "stream",
     "text": [
      "{'Reactants': ['42b'], 'Catalyst_Reagents': ['thexylborane'], 'Workup_reagents': ['oxidative'], 'Product': ['43a']}\n",
      "第35条数据\n"
     ]
    },
    {
     "name": "stderr",
     "output_type": "stream",
     "text": [
      "Processed prompts: 100%|██████████| 1/1 [00:00<00:00,  1.06it/s, Generation Speed: 21.38 toks/s]\n",
      "100%|██████████| 1/1 [00:00<00:00,  1.05it/s]\n"
     ]
    },
    {
     "name": "stdout",
     "output_type": "stream",
     "text": [
      "{'Reactants': ['2', 'KMn04'], 'Product': ['3']}\n",
      "第36条数据\n"
     ]
    },
    {
     "name": "stderr",
     "output_type": "stream",
     "text": [
      "Processed prompts: 100%|██████████| 1/1 [00:02<00:00,  2.11s/it, Generation Speed: 33.70 toks/s]\n",
      "100%|██████████| 1/1 [00:02<00:00,  2.12s/it]\n"
     ]
    },
    {
     "name": "stdout",
     "output_type": "stream",
     "text": [
      "{'Product': ['1,2-bis(4-tert-buty1-2,6-dimethylphenyl)- 1 ,Zdimesitylethene'], 'Reactants': ['(4-tert-butyl-2,6-dimethylphenyl)mesitylketene', '5.']}\n"
     ]
    },
    {
     "name": "stderr",
     "output_type": "stream",
     "text": [
      "Processed prompts: 100%|██████████| 1/1 [00:00<00:00,  1.26it/s, Generation Speed: 17.68 toks/s]\n",
      "100%|██████████| 1/1 [00:00<00:00,  1.24it/s]\n"
     ]
    },
    {
     "name": "stdout",
     "output_type": "stream",
     "text": [
      "{'Product': ['4'], 'Reactants': ['5']}\n",
      "第37条数据\n"
     ]
    },
    {
     "name": "stderr",
     "output_type": "stream",
     "text": [
      "Processed prompts: 100%|██████████| 1/1 [00:02<00:00,  2.58s/it, Generation Speed: 31.08 toks/s]\n",
      "100%|██████████| 1/1 [00:02<00:00,  2.59s/it]\n"
     ]
    },
    {
     "name": "stdout",
     "output_type": "stream",
     "text": [
      "{'Reactants': ['2-methylfuran', '3-bromobenzyne', '3', '1,3-dibromobenzene', 'lithium diisopropylamide', 'LDA'], 'Product': ['1,4-dihydro-1,4-epoxynaphthalenes'], 'Yield': ['mixture']}\n"
     ]
    },
    {
     "name": "stderr",
     "output_type": "stream",
     "text": [
      "Processed prompts: 100%|██████████| 1/1 [00:02<00:00,  2.03s/it, Generation Speed: 27.69 toks/s]\n",
      "100%|██████████| 1/1 [00:02<00:00,  2.04s/it]\n"
     ]
    },
    {
     "name": "stdout",
     "output_type": "stream",
     "text": [
      "{'Reactants': ['2-methylfuran', '3-bromobenzyne', '3', '1,3-dibromobenzene', 'lithium diisopropylamide', 'LDA'], 'Product': ['4']}\n"
     ]
    },
    {
     "name": "stderr",
     "output_type": "stream",
     "text": [
      "Processed prompts: 100%|██████████| 1/1 [00:02<00:00,  2.08s/it, Generation Speed: 27.50 toks/s]\n",
      "100%|██████████| 1/1 [00:02<00:00,  2.09s/it]\n"
     ]
    },
    {
     "name": "stdout",
     "output_type": "stream",
     "text": [
      "{'Reactants': ['2-methylfuran', '3-bromobenzyne', '3', '1,3-dibromobenzene', 'lithium diisopropylamide', 'LDA'], 'Product': ['5.']}\n"
     ]
    },
    {
     "name": "stderr",
     "output_type": "stream",
     "text": [
      "Processed prompts: 100%|██████████| 1/1 [00:01<00:00,  1.73s/it, Generation Speed: 24.84 toks/s]\n",
      "100%|██████████| 1/1 [00:01<00:00,  1.75s/it]\n"
     ]
    },
    {
     "name": "stdout",
     "output_type": "stream",
     "text": [
      "{'Reactants': ['1,3-dibromobenzene', 'lithium diisopropylamide', 'LDA'], 'Product': ['3-bromobenzyne']}\n"
     ]
    },
    {
     "name": "stderr",
     "output_type": "stream",
     "text": [
      "Processed prompts: 100%|██████████| 1/1 [00:01<00:00,  1.60s/it, Generation Speed: 23.19 toks/s]\n",
      "100%|██████████| 1/1 [00:01<00:00,  1.61s/it]\n"
     ]
    },
    {
     "name": "stdout",
     "output_type": "stream",
     "text": [
      "{'Reactants': ['1,3-dibromobenzene', 'lithium diisopropylamide', 'LDA'], 'Product': ['3']}\n",
      "第38条数据\n"
     ]
    },
    {
     "name": "stderr",
     "output_type": "stream",
     "text": [
      "Processed prompts: 100%|██████████| 1/1 [00:01<00:00,  1.26s/it, Generation Speed: 27.88 toks/s]\n",
      "100%|██████████| 1/1 [00:01<00:00,  1.27s/it]\n"
     ]
    },
    {
     "name": "stdout",
     "output_type": "stream",
     "text": [
      "{'Catalyst_Reagents': ['I'], 'Product': ['3a'], 'Yield': ['98 % ee', '5 : 1 dr']}\n",
      "第39条数据\n"
     ]
    },
    {
     "name": "stderr",
     "output_type": "stream",
     "text": [
      "Processed prompts: 100%|██████████| 1/1 [00:00<00:00,  1.35it/s, Generation Speed: 18.94 toks/s]\n",
      "100%|██████████| 1/1 [00:00<00:00,  1.33it/s]\n"
     ]
    },
    {
     "name": "stdout",
     "output_type": "stream",
     "text": [
      "{'Reactants': ['2'], 'Product': ['3']}\n",
      "第40条数据\n"
     ]
    },
    {
     "name": "stderr",
     "output_type": "stream",
     "text": [
      "Processed prompts: 100%|██████████| 1/1 [00:01<00:00,  1.31s/it, Generation Speed: 28.32 toks/s]\n",
      "100%|██████████| 1/1 [00:01<00:00,  1.32s/it]\n"
     ]
    },
    {
     "name": "stdout",
     "output_type": "stream",
     "text": [
      "{'Reactants': ['CpFe(CO)zSiMe3', 'l a'], 'Product': ['2a'], 'Yield': ['21 %']}\n"
     ]
    },
    {
     "name": "stderr",
     "output_type": "stream",
     "text": [
      "Processed prompts: 100%|██████████| 1/1 [00:01<00:00,  1.15s/it, Generation Speed: 26.21 toks/s]\n",
      "100%|██████████| 1/1 [00:01<00:00,  1.16s/it]\n"
     ]
    },
    {
     "name": "stdout",
     "output_type": "stream",
     "text": [
      "{'Reactants': ['CpFe(CO)zSiMe3', 'lb,c'], 'Product': ['2b,c.']}\n",
      "第41条数据\n"
     ]
    },
    {
     "name": "stderr",
     "output_type": "stream",
     "text": [
      "Processed prompts: 100%|██████████| 1/1 [00:00<00:00,  1.07it/s, Generation Speed: 19.35 toks/s]\n",
      "100%|██████████| 1/1 [00:00<00:00,  1.06it/s]\n"
     ]
    },
    {
     "name": "stdout",
     "output_type": "stream",
     "text": [
      "{'Product': ['3a'], 'Yield': ['3.9 %']}\n"
     ]
    },
    {
     "name": "stderr",
     "output_type": "stream",
     "text": [
      "Processed prompts: 100%|██████████| 1/1 [00:00<00:00,  1.11it/s, Generation Speed: 17.90 toks/s]\n",
      "100%|██████████| 1/1 [00:00<00:00,  1.10it/s]\n"
     ]
    },
    {
     "name": "stdout",
     "output_type": "stream",
     "text": [
      "{'Yield': ['substantial'], 'Product': ['3b']}\n",
      "第42条数据\n"
     ]
    },
    {
     "name": "stderr",
     "output_type": "stream",
     "text": [
      "Processed prompts: 100%|██████████| 1/1 [00:01<00:00,  1.29s/it, Generation Speed: 30.37 toks/s]\n",
      "100%|██████████| 1/1 [00:01<00:00,  1.29s/it]\n"
     ]
    },
    {
     "name": "stdout",
     "output_type": "stream",
     "text": [
      "{'Reactants': ['1'], 'Product': ['2-(2,4-dimethoxyphenyl)-p-benzoquinone'], 'Yield': ['8 %']}\n",
      "第43条数据\n"
     ]
    },
    {
     "name": "stderr",
     "output_type": "stream",
     "text": [
      "Processed prompts: 100%|██████████| 1/1 [00:02<00:00,  2.46s/it, Generation Speed: 22.41 toks/s]\n",
      "100%|██████████| 1/1 [00:02<00:00,  2.47s/it]\n"
     ]
    },
    {
     "name": "stdout",
     "output_type": "stream",
     "text": [
      "{'Reactants': ['styrene− yne', '30'], 'Temperature': ['180 ° C'], 'Solvent': ['DCE'], 'Product': ['dihydronaphthalene']}\n"
     ]
    },
    {
     "name": "stderr",
     "output_type": "stream",
     "text": [
      "Processed prompts: 100%|██████████| 1/1 [00:01<00:00,  1.99s/it, Generation Speed: 25.69 toks/s]\n",
      "100%|██████████| 1/1 [00:01<00:00,  2.00s/it]\n"
     ]
    },
    {
     "name": "stdout",
     "output_type": "stream",
     "text": [
      "{'Reactants': ['styrene− yne', '30'], 'Temperature': ['180 ° C'], 'Solvent': ['DCE'], 'Product': ['31b']}\n"
     ]
    },
    {
     "name": "stderr",
     "output_type": "stream",
     "text": [
      "Processed prompts: 100%|██████████| 1/1 [00:02<00:00,  2.01s/it, Generation Speed: 25.90 toks/s]\n",
      "100%|██████████| 1/1 [00:02<00:00,  2.02s/it]\n"
     ]
    },
    {
     "name": "stdout",
     "output_type": "stream",
     "text": [
      "{'Reactants': ['styrene− yne', '30'], 'Temperature': ['180 ° C'], 'Solvent': ['DCE'], 'Product': ['naphthalene']}\n"
     ]
    },
    {
     "name": "stderr",
     "output_type": "stream",
     "text": [
      "Processed prompts: 100%|██████████| 1/1 [00:01<00:00,  1.99s/it, Generation Speed: 25.71 toks/s]\n",
      "100%|██████████| 1/1 [00:01<00:00,  2.00s/it]\n"
     ]
    },
    {
     "name": "stdout",
     "output_type": "stream",
     "text": [
      "{'Reactants': ['styrene− yne', '30'], 'Temperature': ['180 ° C'], 'Solvent': ['DCE'], 'Product': ['31a']}\n",
      "第44条数据\n"
     ]
    },
    {
     "name": "stderr",
     "output_type": "stream",
     "text": [
      "Processed prompts: 100%|██████████| 1/1 [00:00<00:00,  1.04it/s, Generation Speed: 31.33 toks/s]\n",
      "100%|██████████| 1/1 [00:00<00:00,  1.03it/s]\n"
     ]
    },
    {
     "name": "stdout",
     "output_type": "stream",
     "text": [
      "{'Reactants': ['Deoxy-Mb'], 'Catalyst_Reagents': ['quinone'], 'Product': ['met-Mb']}\n",
      "第45条数据\n"
     ]
    },
    {
     "name": "stderr",
     "output_type": "stream",
     "text": [
      "Processed prompts: 100%|██████████| 1/1 [00:00<00:00,  1.51it/s, Generation Speed: 10.60 toks/s]\n",
      "100%|██████████| 1/1 [00:00<00:00,  1.48it/s]\n"
     ]
    },
    {
     "name": "stdout",
     "output_type": "stream",
     "text": [
      "{'Product': ['I']}\n",
      "第46条数据\n"
     ]
    },
    {
     "name": "stderr",
     "output_type": "stream",
     "text": [
      "Processed prompts: 100%|██████████| 1/1 [00:01<00:00,  1.36s/it, Generation Speed: 27.19 toks/s]\n",
      "100%|██████████| 1/1 [00:01<00:00,  1.37s/it]\n"
     ]
    },
    {
     "name": "stdout",
     "output_type": "stream",
     "text": [
      "{'Reactants': ['l-(diazomethyl)-8-methylnaphthalene', '2'], 'Product': ['acenaphthene', '3']}\n"
     ]
    },
    {
     "name": "stderr",
     "output_type": "stream",
     "text": [
      "Processed prompts: 100%|██████████| 1/1 [00:01<00:00,  1.22s/it, Generation Speed: 25.39 toks/s]\n",
      "100%|██████████| 1/1 [00:01<00:00,  1.23s/it]\n"
     ]
    },
    {
     "name": "stdout",
     "output_type": "stream",
     "text": [
      "{'Reactants': ['l-(diazomethyl)-8-methylnaphthalene', '2'], 'Product': ['3']}\n",
      "第47条数据\n"
     ]
    },
    {
     "name": "stderr",
     "output_type": "stream",
     "text": [
      "Processed prompts: 100%|██████████| 1/1 [00:00<00:00,  2.13it/s, Generation Speed: 14.98 toks/s]\n",
      "100%|██████████| 1/1 [00:00<00:00,  2.09it/s]\n"
     ]
    },
    {
     "name": "stdout",
     "output_type": "stream",
     "text": [
      "{'Product': ['3']}\n"
     ]
    },
    {
     "name": "stderr",
     "output_type": "stream",
     "text": [
      "Processed prompts: 100%|██████████| 1/1 [00:00<00:00,  1.42it/s, Generation Speed: 24.20 toks/s]\n",
      "100%|██████████| 1/1 [00:00<00:00,  1.40it/s]\n"
     ]
    },
    {
     "name": "stdout",
     "output_type": "stream",
     "text": [
      "{'Product': ['4'], 'Reactants': ['2,17']}\n",
      "第48条数据\n"
     ]
    },
    {
     "name": "stderr",
     "output_type": "stream",
     "text": [
      "Processed prompts: 100%|██████████| 1/1 [00:00<00:00,  1.05it/s, Generation Speed: 29.64 toks/s]\n",
      "100%|██████████| 1/1 [00:00<00:00,  1.04it/s]\n"
     ]
    },
    {
     "name": "stdout",
     "output_type": "stream",
     "text": [
      "{'Reactants': ['4a', '5'], 'Product': ['3a'], 'Yield': ['25 %']}\n",
      "第49条数据\n"
     ]
    },
    {
     "name": "stderr",
     "output_type": "stream",
     "text": [
      "Processed prompts: 100%|██████████| 1/1 [00:01<00:00,  1.75s/it, Generation Speed: 24.08 toks/s]\n",
      "100%|██████████| 1/1 [00:01<00:00,  1.76s/it]\n"
     ]
    },
    {
     "name": "stdout",
     "output_type": "stream",
     "text": [
      "{'Reactants': ['3b-e.I0', '5'], 'Catalyst_Reagents': ['Rhz(OAc)4'], 'Product': ['4b-elo9l1']}\n",
      "第50条数据\n"
     ]
    },
    {
     "name": "stderr",
     "output_type": "stream",
     "text": [
      "Processed prompts: 100%|██████████| 1/1 [00:00<00:00,  1.45it/s, Generation Speed: 26.22 toks/s]\n",
      "100%|██████████| 1/1 [00:00<00:00,  1.43it/s]\n"
     ]
    },
    {
     "name": "stdout",
     "output_type": "stream",
     "text": [
      "{'Reactants': ['4a'], 'Product': ['4c-e.']}\n",
      "第51条数据\n"
     ]
    },
    {
     "name": "stderr",
     "output_type": "stream",
     "text": [
      "Processed prompts: 100%|██████████| 1/1 [00:01<00:00,  1.10s/it, Generation Speed: 30.93 toks/s]\n",
      "100%|██████████| 1/1 [00:01<00:00,  1.11s/it]\n"
     ]
    },
    {
     "name": "stdout",
     "output_type": "stream",
     "text": [
      "{'Reactants': ['5'], 'Solvent': ['MeOH'], 'Temperature': ['40 \" C'], 'Product': ['(R)-6']}\n",
      "第52条数据\n"
     ]
    },
    {
     "name": "stderr",
     "output_type": "stream",
     "text": [
      "Processed prompts: 100%|██████████| 1/1 [00:01<00:00,  1.12s/it, Generation Speed: 26.99 toks/s]\n",
      "100%|██████████| 1/1 [00:01<00:00,  1.13s/it]\n"
     ]
    },
    {
     "name": "stdout",
     "output_type": "stream",
     "text": [
      "{'Product': ['(R)-6'], 'Yield': ['84.7 % ee', '88.4 % ee']}\n",
      "第53条数据\n"
     ]
    },
    {
     "name": "stderr",
     "output_type": "stream",
     "text": [
      "Processed prompts: 100%|██████████| 1/1 [00:01<00:00,  1.47s/it, Generation Speed: 27.88 toks/s]\n",
      "100%|██████████| 1/1 [00:01<00:00,  1.48s/it]\n"
     ]
    },
    {
     "name": "stdout",
     "output_type": "stream",
     "text": [
      "{'Reactants': ['enamide', '7'], 'Catalyst_Reagents': ['l a'], 'Solvent': ['supercritical C02'], 'Product': ['8']}\n",
      "第54条数据\n"
     ]
    },
    {
     "name": "stderr",
     "output_type": "stream",
     "text": [
      "Processed prompts: 100%|██████████| 1/1 [00:01<00:00,  1.20s/it, Generation Speed: 30.06 toks/s]\n",
      "100%|██████████| 1/1 [00:01<00:00,  1.21s/it]\n"
     ]
    },
    {
     "name": "stdout",
     "output_type": "stream",
     "text": [
      "{'Reactants': ['DPD diox- etane'], 'Time': ['2 h'], 'Temperature': ['60 OC'], 'Product': ['EGDB']}\n",
      "第55条数据\n"
     ]
    },
    {
     "name": "stderr",
     "output_type": "stream",
     "text": [
      "Processed prompts: 100%|██████████| 1/1 [00:00<00:00,  1.26it/s, Generation Speed: 25.33 toks/s]\n",
      "100%|██████████| 1/1 [00:00<00:00,  1.25it/s]\n"
     ]
    },
    {
     "name": "stdout",
     "output_type": "stream",
     "text": [
      "{'Product': ['2,3-diphenyl-l,4dioxene oxide']}\n",
      "第56条数据\n"
     ]
    },
    {
     "name": "stderr",
     "output_type": "stream",
     "text": [
      "Processed prompts: 100%|██████████| 1/1 [00:01<00:00,  1.60s/it, Generation Speed: 27.58 toks/s]\n",
      "100%|██████████| 1/1 [00:01<00:00,  1.61s/it]\n"
     ]
    },
    {
     "name": "stdout",
     "output_type": "stream",
     "text": [
      "{'Reactants': ['1', '2', 'Br2'], 'Solvent': ['1,Zdichlorcethane'], 'Temperature': ['25 O C'], 'Product': ['3']}\n"
     ]
    },
    {
     "name": "stderr",
     "output_type": "stream",
     "text": [
      "Processed prompts: 100%|██████████| 1/1 [00:01<00:00,  1.60s/it, Generation Speed: 27.53 toks/s]\n",
      "100%|██████████| 1/1 [00:01<00:00,  1.61s/it]"
     ]
    },
    {
     "name": "stdout",
     "output_type": "stream",
     "text": [
      "{'Reactants': ['1', '2', 'Br2'], 'Solvent': ['1,Zdichlorcethane'], 'Temperature': ['25 O C'], 'Product': ['4']}\n",
      "TP, FP, FN 318 46 65\n",
      "NER:  precision, recall 0.8736263736263736 0.8302872062663186\n",
      "NER:  f1_score 0.8514056224899599\n"
     ]
    },
    {
     "name": "stderr",
     "output_type": "stream",
     "text": [
      "\n"
     ]
    }
   ],
   "source": [
    "import os\n",
    "\n",
    "from evaluate import *\n",
    "from llm_re import *\n",
    "\n",
    "def main():\n",
    "    train_data,test_data=get_data()\n",
    "    prev_data=chem_re(train_data,test_data)\n",
    "    NER_f1(test_data,prev_data)\n",
    "\n",
    "main()"
   ]
  },
  {
   "cell_type": "markdown",
   "metadata": {},
   "source": [
    "# 更改f1评估方式后 使用pt+sft llm"
   ]
  },
  {
   "cell_type": "code",
   "execution_count": 1,
   "metadata": {},
   "outputs": [
    {
     "name": "stderr",
     "output_type": "stream",
     "text": [
      "/data/lizh/Conda/anaconda3/envs/vllm/lib/python3.9/site-packages/tqdm/auto.py:21: TqdmWarning: IProgress not found. Please update jupyter and ipywidgets. See https://ipywidgets.readthedocs.io/en/stable/user_install.html\n",
      "  from .autonotebook import tqdm as notebook_tqdm\n",
      "2024-12-04 17:32:53,703\tINFO util.py:154 -- Missing packages: ['ipywidgets']. Run `pip install -U ipywidgets`, then restart the notebook server for rich notebook output.\n",
      "2024-12-04 17:32:57,841\tINFO worker.py:1771 -- Started a local Ray instance.\n"
     ]
    },
    {
     "name": "stdout",
     "output_type": "stream",
     "text": [
      "INFO 12-04 17:32:58 llm_engine.py:161] Initializing an LLM engine (v0.4.3) with config: model='/data/lizh/LLaMA-Factory-main/models/qwen2.5_14b_ptsft', speculative_config=None, tokenizer='/data/lizh/LLaMA-Factory-main/models/qwen2.5_14b_ptsft', skip_tokenizer_init=False, tokenizer_mode=auto, revision=None, rope_scaling=None, tokenizer_revision=None, trust_remote_code=False, dtype=torch.bfloat16, max_seq_len=32768, download_dir=None, load_format=LoadFormat.AUTO, tensor_parallel_size=4, disable_custom_all_reduce=False, quantization=None, enforce_eager=False, kv_cache_dtype=auto, quantization_param_path=None, device_config=cuda, decoding_config=DecodingConfig(guided_decoding_backend='outlines'), seed=0, served_model_name=/data/lizh/LLaMA-Factory-main/models/qwen2.5_14b_ptsft)\n",
      "INFO 12-04 17:33:10 utils.py:618] Found nccl from library libnccl.so.2\n",
      "INFO 12-04 17:33:10 pynccl.py:65] vLLM is using nccl==2.20.5\n",
      "\u001b[36m(RayWorkerWrapper pid=2351900)\u001b[0m INFO 12-04 17:33:10 utils.py:618] Found nccl from library libnccl.so.2\n",
      "\u001b[36m(RayWorkerWrapper pid=2351900)\u001b[0m INFO 12-04 17:33:10 pynccl.py:65] vLLM is using nccl==2.20.5\n",
      "WARNING 12-04 17:33:10 custom_all_reduce.py:158] Custom allreduce is disabled because it's not supported on more than two PCIe-only GPUs. To silence this warning, specify disable_custom_all_reduce=True explicitly.\n",
      "\u001b[36m(RayWorkerWrapper pid=2351900)\u001b[0m WARNING 12-04 17:33:10 custom_all_reduce.py:158] Custom allreduce is disabled because it's not supported on more than two PCIe-only GPUs. To silence this warning, specify disable_custom_all_reduce=True explicitly.\n",
      "INFO 12-04 17:33:12 model_runner.py:146] Loading model weights took 6.9459 GB\n",
      "\u001b[36m(RayWorkerWrapper pid=2352127)\u001b[0m INFO 12-04 17:33:13 model_runner.py:146] Loading model weights took 6.9459 GB\n",
      "INFO 12-04 17:33:22 distributed_gpu_executor.py:56] # GPU blocks: 40967, # CPU blocks: 5461\n",
      "INFO 12-04 17:33:26 model_runner.py:854] Capturing the model for CUDA graphs. This may lead to unexpected consequences if the model is not static. To run the model in eager mode, set 'enforce_eager=True' or use '--enforce-eager' in the CLI.\n",
      "INFO 12-04 17:33:26 model_runner.py:858] CUDA graphs can take additional 1~3 GiB memory per GPU. If you are running out of memory, consider decreasing `gpu_memory_utilization` or enforcing eager mode. You can also reduce the `max_num_seqs` as needed to decrease memory usage.\n",
      "\u001b[36m(RayWorkerWrapper pid=2351900)\u001b[0m INFO 12-04 17:33:27 model_runner.py:854] Capturing the model for CUDA graphs. This may lead to unexpected consequences if the model is not static. To run the model in eager mode, set 'enforce_eager=True' or use '--enforce-eager' in the CLI.\n",
      "\u001b[36m(RayWorkerWrapper pid=2351900)\u001b[0m INFO 12-04 17:33:27 model_runner.py:858] CUDA graphs can take additional 1~3 GiB memory per GPU. If you are running out of memory, consider decreasing `gpu_memory_utilization` or enforcing eager mode. You can also reduce the `max_num_seqs` as needed to decrease memory usage.\n",
      "\u001b[36m(RayWorkerWrapper pid=2352127)\u001b[0m INFO 12-04 17:33:10 utils.py:618] Found nccl from library libnccl.so.2\u001b[32m [repeated 2x across cluster] (Ray deduplicates logs by default. Set RAY_DEDUP_LOGS=0 to disable log deduplication, or see https://docs.ray.io/en/master/ray-observability/user-guides/configure-logging.html#log-deduplication for more options.)\u001b[0m\n",
      "\u001b[36m(RayWorkerWrapper pid=2352127)\u001b[0m INFO 12-04 17:33:10 pynccl.py:65] vLLM is using nccl==2.20.5\u001b[32m [repeated 2x across cluster]\u001b[0m\n",
      "\u001b[36m(RayWorkerWrapper pid=2352127)\u001b[0m WARNING 12-04 17:33:10 custom_all_reduce.py:158] Custom allreduce is disabled because it's not supported on more than two PCIe-only GPUs. To silence this warning, specify disable_custom_all_reduce=True explicitly.\u001b[32m [repeated 2x across cluster]\u001b[0m\n",
      "\u001b[36m(RayWorkerWrapper pid=2351900)\u001b[0m INFO 12-04 17:33:13 model_runner.py:146] Loading model weights took 6.9459 GB\u001b[32m [repeated 2x across cluster]\u001b[0m\n",
      "INFO 12-04 17:33:37 model_runner.py:924] Graph capturing finished in 11 secs.\n",
      "\u001b[36m(RayWorkerWrapper pid=2351900)\u001b[0m INFO 12-04 17:33:37 model_runner.py:924] Graph capturing finished in 10 secs.\n",
      "\u001b[36m(RayWorkerWrapper pid=2352127)\u001b[0m INFO 12-04 17:33:27 model_runner.py:854] Capturing the model for CUDA graphs. This may lead to unexpected consequences if the model is not static. To run the model in eager mode, set 'enforce_eager=True' or use '--enforce-eager' in the CLI.\u001b[32m [repeated 2x across cluster]\u001b[0m\n",
      "\u001b[36m(RayWorkerWrapper pid=2352127)\u001b[0m INFO 12-04 17:33:27 model_runner.py:858] CUDA graphs can take additional 1~3 GiB memory per GPU. If you are running out of memory, consider decreasing `gpu_memory_utilization` or enforcing eager mode. You can also reduce the `max_num_seqs` as needed to decrease memory usage.\u001b[32m [repeated 2x across cluster]\u001b[0m\n",
      "第0条数据\n"
     ]
    },
    {
     "name": "stderr",
     "output_type": "stream",
     "text": [
      "Processed prompts: 100%|██████████| 1/1 [00:01<00:00,  1.78s/it, Generation Speed: 37.26 toks/s]\n",
      "100%|██████████| 1/1 [00:01<00:00,  1.85s/it]\n"
     ]
    },
    {
     "name": "stdout",
     "output_type": "stream",
     "text": [
      "{'Reactants': ['benzene-1,2-diamine', 'hexanebis(peroxoic acid )', 'dodecanebis(peroxoic acid )'], 'Product': ['2- nitroaniline'], 'Yield': ['90 %', '92 %']}\n",
      "第1条数据\n"
     ]
    },
    {
     "name": "stderr",
     "output_type": "stream",
     "text": [
      "Processed prompts: 100%|██████████| 1/1 [00:00<00:00,  1.63it/s, Generation Speed: 55.58 toks/s]\n",
      "100%|██████████| 1/1 [00:00<00:00,  1.60it/s]\n"
     ]
    },
    {
     "name": "stdout",
     "output_type": "stream",
     "text": [
      "{'Reactants': ['2'], 'Product': [\"[PyH]+[2'cu4 @ -C1)4 @ ~ -Cl)]-\"]}\n"
     ]
    },
    {
     "name": "stderr",
     "output_type": "stream",
     "text": [
      "Processed prompts: 100%|██████████| 1/1 [00:00<00:00,  2.59it/s, Generation Speed: 36.74 toks/s]\n",
      "100%|██████████| 1/1 [00:00<00:00,  2.54it/s]\n"
     ]
    },
    {
     "name": "stdout",
     "output_type": "stream",
     "text": [
      "{'Reactants': ['2'], 'Product': ['4']}\n"
     ]
    },
    {
     "name": "stderr",
     "output_type": "stream",
     "text": [
      "Processed prompts: 100%|██████████| 1/1 [00:00<00:00,  1.54it/s, Generation Speed: 52.80 toks/s]\n",
      "100%|██████████| 1/1 [00:00<00:00,  1.52it/s]\n"
     ]
    },
    {
     "name": "stdout",
     "output_type": "stream",
     "text": [
      "{'Reactants': ['2'], 'Product': ['[PyH]+[2.Ag4 @ -C1)4 @ 4- Cl)]-']}\n"
     ]
    },
    {
     "name": "stderr",
     "output_type": "stream",
     "text": [
      "Processed prompts: 100%|██████████| 1/1 [00:00<00:00,  2.67it/s, Generation Speed: 37.76 toks/s]\n",
      "100%|██████████| 1/1 [00:00<00:00,  2.62it/s]\n"
     ]
    },
    {
     "name": "stdout",
     "output_type": "stream",
     "text": [
      "{'Reactants': ['2'], 'Product': ['5']}\n",
      "第2条数据\n"
     ]
    },
    {
     "name": "stderr",
     "output_type": "stream",
     "text": [
      "Processed prompts: 100%|██████████| 1/1 [00:01<00:00,  1.51s/it, Generation Speed: 45.11 toks/s]\n",
      "100%|██████████| 1/1 [00:01<00:00,  1.52s/it]\n"
     ]
    },
    {
     "name": "stdout",
     "output_type": "stream",
     "text": [
      "{'Reactants': ['(3,5,5-trimethyl-2-oxomorpholin-3-yl)peroxyl radical', '1'], 'Product': ['3-hydroperoxy-3,5,5-trimethyl-2-0 ~ 0- morpholin-4-yl']}\n"
     ]
    },
    {
     "name": "stderr",
     "output_type": "stream",
     "text": [
      "Processed prompts: 100%|██████████| 1/1 [00:00<00:00,  1.16it/s, Generation Speed: 47.68 toks/s]\n",
      "100%|██████████| 1/1 [00:00<00:00,  1.15it/s]\n"
     ]
    },
    {
     "name": "stdout",
     "output_type": "stream",
     "text": [
      "{'Reactants': ['(3,5,5-trimethyl-2-oxomorpholin-3-yl)peroxyl radical', '1'], 'Product': ['3']}\n",
      "第3条数据\n"
     ]
    },
    {
     "name": "stderr",
     "output_type": "stream",
     "text": [
      "Processed prompts: 100%|██████████| 1/1 [00:01<00:00,  1.11s/it, Generation Speed: 58.62 toks/s]\n",
      "100%|██████████| 1/1 [00:01<00:00,  1.12s/it]\n"
     ]
    },
    {
     "name": "stdout",
     "output_type": "stream",
     "text": [
      "{'Reactants': ['3,4,5,5-tetramethyl-2-oxomorpholine', '6', 'di-tert-butyl peroxide'], 'Product': ['3-methylidene- 4,5,5-trimethyl-2-oxomorpholine']}\n"
     ]
    },
    {
     "name": "stderr",
     "output_type": "stream",
     "text": [
      "Processed prompts: 100%|██████████| 1/1 [00:00<00:00,  1.23it/s, Generation Speed: 54.37 toks/s]\n",
      "100%|██████████| 1/1 [00:00<00:00,  1.22it/s]\n"
     ]
    },
    {
     "name": "stdout",
     "output_type": "stream",
     "text": [
      "{'Reactants': ['3,4,5,5-tetramethyl-2-oxomorpholine', '6', 'di-tert-butyl peroxide'], 'Product': ['7']}\n",
      "第4条数据\n"
     ]
    },
    {
     "name": "stderr",
     "output_type": "stream",
     "text": [
      "Processed prompts: 100%|██████████| 1/1 [00:01<00:00,  1.54s/it, Generation Speed: 71.41 toks/s]\n",
      "100%|██████████| 1/1 [00:01<00:00,  1.55s/it]\n"
     ]
    },
    {
     "name": "stdout",
     "output_type": "stream",
     "text": [
      "{'Reactants': ['1-bromo-2- chlorobenzene', '1-chloro-2-iodobenzene', '1,2-dibromobenzene', '1-bromo-2-iodobenzene', '1,2-dichlorobenzene', 'N-(5-chloro-2-mercaptophenyl)acetamide'], 'Product': ['2-chloro-10H-phenothiazine'], 'Yield': ['92 %']}\n",
      "第5条数据\n"
     ]
    },
    {
     "name": "stderr",
     "output_type": "stream",
     "text": [
      "Processed prompts: 100%|██████████| 1/1 [00:00<00:00,  1.45it/s, Generation Speed: 46.76 toks/s]\n",
      "100%|██████████| 1/1 [00:00<00:00,  1.43it/s]\n"
     ]
    },
    {
     "name": "stdout",
     "output_type": "stream",
     "text": [
      "{'Reactants': ['C02'], 'Product': ['formate'], 'Catalyst_Reagents': ['formate dehydrogenase']}\n"
     ]
    },
    {
     "name": "stderr",
     "output_type": "stream",
     "text": [
      "Processed prompts: 100%|██████████| 1/1 [00:00<00:00,  1.17it/s, Generation Speed: 39.79 toks/s]\n",
      "100%|██████████| 1/1 [00:00<00:00,  1.15it/s]\n"
     ]
    },
    {
     "name": "stdout",
     "output_type": "stream",
     "text": [
      "{'Reactants': ['formate'], 'Catalyst_Reagents': ['THF - dependent enzymes.'], 'Product': ['CH3 - THF']}\n",
      "第6条数据\n"
     ]
    },
    {
     "name": "stderr",
     "output_type": "stream",
     "text": [
      "Processed prompts: 100%|██████████| 1/1 [00:01<00:00,  1.13s/it, Generation Speed: 63.08 toks/s]\n",
      "100%|██████████| 1/1 [00:01<00:00,  1.14s/it]\n"
     ]
    },
    {
     "name": "stdout",
     "output_type": "stream",
     "text": [
      "{'Product': ['5e'], 'Reactants': ['4a', '3e'], 'Catalyst_Reagents': ['BF3-methanol'], 'Solvent': ['dichloromethane'], 'Temperature': ['0 ° C'], 'Time': ['1 h', '45 min']}\n",
      "第7条数据\n"
     ]
    },
    {
     "name": "stderr",
     "output_type": "stream",
     "text": [
      "Processed prompts: 100%|██████████| 1/1 [00:00<00:00,  1.40it/s, Generation Speed: 50.54 toks/s]\n",
      "100%|██████████| 1/1 [00:00<00:00,  1.38it/s]\n"
     ]
    },
    {
     "name": "stdout",
     "output_type": "stream",
     "text": [
      "{'Reactants': ['7e'], 'Catalyst_Reagents': ['chloranil'], 'Product': ['5e'], 'Yield': ['6 %']}\n"
     ]
    },
    {
     "name": "stderr",
     "output_type": "stream",
     "text": [
      "Processed prompts: 100%|██████████| 1/1 [00:00<00:00,  1.04it/s, Generation Speed: 59.74 toks/s]\n",
      "100%|██████████| 1/1 [00:00<00:00,  1.04it/s]\n"
     ]
    },
    {
     "name": "stdout",
     "output_type": "stream",
     "text": [
      "{'Reactants': ['7f'], 'Catalyst_Reagents': ['0.1 % aqueous FeCl3'], 'Solvent': ['CHCl3'], 'Temperature': ['room'], 'Product': ['5f'], 'Yield': ['7 %']}\n"
     ]
    },
    {
     "name": "stderr",
     "output_type": "stream",
     "text": [
      "Processed prompts: 100%|██████████| 1/1 [00:00<00:00,  1.33it/s, Generation Speed: 51.95 toks/s]\n",
      "100%|██████████| 1/1 [00:00<00:00,  1.31it/s]\n"
     ]
    },
    {
     "name": "stdout",
     "output_type": "stream",
     "text": [
      "{'Reactants': ['7g'], 'Solvent': ['CHCl3'], 'Temperature': ['room'], 'Product': ['5g'], 'Yield': ['5 %']}\n"
     ]
    },
    {
     "name": "stderr",
     "output_type": "stream",
     "text": [
      "Processed prompts: 100%|██████████| 1/1 [00:00<00:00,  1.07it/s, Generation Speed: 41.70 toks/s]\n",
      "100%|██████████| 1/1 [00:00<00:00,  1.06it/s]\n"
     ]
    },
    {
     "name": "stdout",
     "output_type": "stream",
     "text": [
      "{'Reactants': ['7h'], 'Solvent': ['CHCl3'], 'Temperature': ['room'], 'Product': ['5h'], 'Yield': ['4 %']}\n",
      "第8条数据\n"
     ]
    },
    {
     "name": "stderr",
     "output_type": "stream",
     "text": [
      "Processed prompts: 100%|██████████| 1/1 [00:00<00:00,  1.77it/s, Generation Speed: 49.80 toks/s]\n",
      "100%|██████████| 1/1 [00:00<00:00,  1.74it/s]\n"
     ]
    },
    {
     "name": "stdout",
     "output_type": "stream",
     "text": [
      "{'Product': ['Cp-CH(CH3)Cyl2ZrCI2'], 'Yield': ['almost quantitative']}\n",
      "第9条数据\n"
     ]
    },
    {
     "name": "stderr",
     "output_type": "stream",
     "text": [
      "Processed prompts: 100%|██████████| 1/1 [00:01<00:00,  1.35s/it, Generation Speed: 57.41 toks/s]\n",
      "100%|██████████| 1/1 [00:01<00:00,  1.36s/it]\n"
     ]
    },
    {
     "name": "stdout",
     "output_type": "stream",
     "text": [
      "{'Reactants': ['2s'], 'Solvent': ['deutericchloroform'], 'Catalyst_Reagents': ['dimethyl', 'diphenyl sulfide'], 'Temperature': ['-30 O C'], 'Time': ['15 min'], 'Yield': ['quantitative'], 'Product': ['benzofuran epoxide']}\n"
     ]
    },
    {
     "name": "stderr",
     "output_type": "stream",
     "text": [
      "Processed prompts: 100%|██████████| 1/1 [00:01<00:00,  1.35s/it, Generation Speed: 54.15 toks/s]\n",
      "100%|██████████| 1/1 [00:01<00:00,  1.37s/it]\n"
     ]
    },
    {
     "name": "stdout",
     "output_type": "stream",
     "text": [
      "{'Reactants': ['2s'], 'Solvent': ['deutericchloroform'], 'Catalyst_Reagents': ['dimethyl', 'diphenyl sulfide'], 'Temperature': ['-30 O C'], 'Time': ['15 min'], 'Yield': ['quantitative'], 'Product': ['3a']}\n"
     ]
    },
    {
     "name": "stderr",
     "output_type": "stream",
     "text": [
      "Processed prompts: 100%|██████████| 1/1 [00:01<00:00,  1.07s/it, Generation Speed: 57.06 toks/s]\n",
      "100%|██████████| 1/1 [00:01<00:00,  1.08s/it]\n"
     ]
    },
    {
     "name": "stdout",
     "output_type": "stream",
     "text": [
      "{'Reactants': ['dioxetane', '2s', 'diphenyl sulfide'], 'Temperature': ['-30 O C'], 'Time': ['15 min'], 'Yield': ['quantitative'], 'Product': ['diphenyl sulfoxide']}\n",
      "第10条数据\n"
     ]
    },
    {
     "name": "stderr",
     "output_type": "stream",
     "text": [
      "Processed prompts: 100%|██████████| 1/1 [00:00<00:00,  1.54it/s, Generation Speed: 41.81 toks/s]\n",
      "100%|██████████| 1/1 [00:00<00:00,  1.51it/s]\n"
     ]
    },
    {
     "name": "stdout",
     "output_type": "stream",
     "text": [
      "{'Reactants': ['Cyclooctatetraene', 'COT'], 'Product': ['benzene']}\n"
     ]
    },
    {
     "name": "stderr",
     "output_type": "stream",
     "text": [
      "Processed prompts: 100%|██████████| 1/1 [00:00<00:00,  1.55it/s, Generation Speed: 43.60 toks/s]\n",
      "100%|██████████| 1/1 [00:00<00:00,  1.53it/s]\n"
     ]
    },
    {
     "name": "stdout",
     "output_type": "stream",
     "text": [
      "{'Reactants': ['Cyclooctatetraene', 'COT'], 'Product': ['benzene.']}\n",
      "第11条数据\n"
     ]
    },
    {
     "name": "stderr",
     "output_type": "stream",
     "text": [
      "Processed prompts: 100%|██████████| 1/1 [00:00<00:00,  1.72it/s, Generation Speed: 44.89 toks/s]\n",
      "100%|██████████| 1/1 [00:00<00:00,  1.69it/s]\n"
     ]
    },
    {
     "name": "stdout",
     "output_type": "stream",
     "text": [
      "{'Catalyst_Reagents': ['4'], 'Reactants': ['1a'], 'Product': ['2a']}\n",
      "第12条数据\n"
     ]
    },
    {
     "name": "stderr",
     "output_type": "stream",
     "text": [
      "Processed prompts: 100%|██████████| 1/1 [00:00<00:00,  1.16it/s, Generation Speed: 40.86 toks/s]\n",
      "100%|██████████| 1/1 [00:00<00:00,  1.15it/s]\n"
     ]
    },
    {
     "name": "stdout",
     "output_type": "stream",
     "text": [
      "{'Reactants': ['thiophenol', 'phenylacetylene'], 'Product': ['phenylglyoxal hemithioacetal.']}\n",
      "第13条数据\n"
     ]
    },
    {
     "name": "stderr",
     "output_type": "stream",
     "text": [
      "Processed prompts: 100%|██████████| 1/1 [00:01<00:00,  1.34s/it, Generation Speed: 60.01 toks/s]\n",
      "100%|██████████| 1/1 [00:01<00:00,  1.35s/it]\n"
     ]
    },
    {
     "name": "stdout",
     "output_type": "stream",
     "text": [
      "{'Reactants': ['3,6-dinitrocarbazole', 'BrCH2C02Me'], 'Catalyst_Reagents': ['KzCO3', 'DMF'], 'Product': ['N-((methyloxycarbony1)- methyl)-3,6-diaminocarbazole.'], 'Yield': ['99 %']}\n",
      "第14条数据\n"
     ]
    },
    {
     "name": "stderr",
     "output_type": "stream",
     "text": [
      "Processed prompts: 100%|██████████| 1/1 [00:00<00:00,  1.64it/s, Generation Speed: 51.05 toks/s]\n",
      "100%|██████████| 1/1 [00:00<00:00,  1.61it/s]\n"
     ]
    },
    {
     "name": "stdout",
     "output_type": "stream",
     "text": [
      "{'Reactants': ['2-cy- clohexenone', '7a'], 'Product': ['2-cyclohexenol']}\n"
     ]
    },
    {
     "name": "stderr",
     "output_type": "stream",
     "text": [
      "Processed prompts: 100%|██████████| 1/1 [00:00<00:00,  1.63it/s, Generation Speed: 49.20 toks/s]\n",
      "100%|██████████| 1/1 [00:00<00:00,  1.61it/s]\n"
     ]
    },
    {
     "name": "stdout",
     "output_type": "stream",
     "text": [
      "{'Reactants': ['2-cy- clohexenone', '7a'], 'Product': ['cyclohexanol.']}\n",
      "第15条数据\n"
     ]
    },
    {
     "name": "stderr",
     "output_type": "stream",
     "text": [
      "Processed prompts: 100%|██████████| 1/1 [00:00<00:00,  1.53it/s, Generation Speed: 56.78 toks/s]\n",
      "100%|██████████| 1/1 [00:00<00:00,  1.51it/s]\n"
     ]
    },
    {
     "name": "stdout",
     "output_type": "stream",
     "text": [
      "{'Reactants': ['1a', '2a', 'CsF'], 'Catalyst_Reagents': ['40'], 'Product': ['benzylamine']}\n"
     ]
    },
    {
     "name": "stderr",
     "output_type": "stream",
     "text": [
      "Processed prompts: 100%|██████████| 1/1 [00:00<00:00,  1.43it/s, Generation Speed: 61.61 toks/s]\n",
      "100%|██████████| 1/1 [00:00<00:00,  1.41it/s]\n"
     ]
    },
    {
     "name": "stdout",
     "output_type": "stream",
     "text": [
      "{'Reactants': ['1a', '2a', 'CsF'], 'Catalyst_Reagents': ['40'], 'Product': ['5'], 'Yield': ['24 %']}\n"
     ]
    },
    {
     "name": "stderr",
     "output_type": "stream",
     "text": [
      "Processed prompts: 100%|██████████| 1/1 [00:00<00:00,  1.39it/s, Generation Speed: 61.26 toks/s]\n",
      "100%|██████████| 1/1 [00:00<00:00,  1.37it/s]\n"
     ]
    },
    {
     "name": "stdout",
     "output_type": "stream",
     "text": [
      "{'Reactants': ['1a', '2a', 'CsF'], 'Catalyst_Reagents': ['40'], 'Product': ['3a'], 'Yield': ['24 %']}\n",
      "第16条数据\n"
     ]
    },
    {
     "name": "stderr",
     "output_type": "stream",
     "text": [
      "Processed prompts: 100%|██████████| 1/1 [00:00<00:00,  1.39it/s, Generation Speed: 60.24 toks/s]\n",
      "100%|██████████| 1/1 [00:00<00:00,  1.38it/s]\n"
     ]
    },
    {
     "name": "stdout",
     "output_type": "stream",
     "text": [
      "{'Catalyst_Reagents': ['dioxovanadium(V)'], 'Reactants': ['chloride', 'hydrogen peroxide'], 'Product': ['chlorotrimethoxybenzene']}\n",
      "第17条数据\n"
     ]
    },
    {
     "name": "stderr",
     "output_type": "stream",
     "text": [
      "Processed prompts: 100%|██████████| 1/1 [00:00<00:00,  1.96it/s, Generation Speed: 55.31 toks/s]\n",
      "100%|██████████| 1/1 [00:00<00:00,  1.93it/s]\n"
     ]
    },
    {
     "name": "stdout",
     "output_type": "stream",
     "text": [
      "{'Reactants': ['diphenylketene'], 'Product': ['2'], 'Yield': ['61 %']}\n",
      "第18条数据\n"
     ]
    },
    {
     "name": "stderr",
     "output_type": "stream",
     "text": [
      "Processed prompts: 100%|██████████| 1/1 [00:00<00:00,  1.23it/s, Generation Speed: 53.22 toks/s]\n",
      "100%|██████████| 1/1 [00:00<00:00,  1.22it/s]\n"
     ]
    },
    {
     "name": "stdout",
     "output_type": "stream",
     "text": [
      "{'Reactants': ['naph- thacene', 'chloroacetyl chloride.'], 'Catalyst_Reagents': ['AlCl3'], 'Product': ['acenaphthacenone']}\n"
     ]
    },
    {
     "name": "stderr",
     "output_type": "stream",
     "text": [
      "Processed prompts: 100%|██████████| 1/1 [00:00<00:00,  1.36it/s, Generation Speed: 53.38 toks/s]\n",
      "100%|██████████| 1/1 [00:00<00:00,  1.35it/s]\n"
     ]
    },
    {
     "name": "stdout",
     "output_type": "stream",
     "text": [
      "{'Catalyst_Reagents': ['AlCl3'], 'Reactants': ['naph- thacene', 'chloroacetyl chloride.'], 'Product': ['6']}\n",
      "第19条数据\n"
     ]
    },
    {
     "name": "stderr",
     "output_type": "stream",
     "text": [
      "Processed prompts: 100%|██████████| 1/1 [00:00<00:00,  1.62it/s, Generation Speed: 55.23 toks/s]\n",
      "100%|██████████| 1/1 [00:00<00:00,  1.59it/s]\n"
     ]
    },
    {
     "name": "stdout",
     "output_type": "stream",
     "text": [
      "{'Reactants': ['6'], 'Catalyst_Reagents': ['TiCl4'], 'Solvent': ['ODCB'], 'Product': ['4']}\n",
      "第20条数据\n"
     ]
    },
    {
     "name": "stderr",
     "output_type": "stream",
     "text": [
      "Processed prompts: 100%|██████████| 1/1 [00:00<00:00,  1.62it/s, Generation Speed: 48.86 toks/s]\n",
      "100%|██████████| 1/1 [00:00<00:00,  1.60it/s]\n"
     ]
    },
    {
     "name": "stdout",
     "output_type": "stream",
     "text": [
      "{'Catalyst_Reagents': ['EDCI', 'KHCO3', 'HOAt15'], 'Product': ['4aa']}\n",
      "第21条数据\n"
     ]
    },
    {
     "name": "stderr",
     "output_type": "stream",
     "text": [
      "Processed prompts: 100%|██████████| 1/1 [00:01<00:00,  1.48s/it, Generation Speed: 61.78 toks/s]\n",
      "100%|██████████| 1/1 [00:01<00:00,  1.49s/it]\n"
     ]
    },
    {
     "name": "stdout",
     "output_type": "stream",
     "text": [
      "{'Reactants': ['(Z)-1a'], 'Product': ['2aa'], 'Yield': ['quantitatively'], 'Time': ['1 h'], 'Solvent': ['MeOH'], 'Catalyst_Reagents': ['−CHCl3', 'Pd', 'PPh3', 'Pd2dba3'], 'Temperature': ['25 ° C']}\n",
      "第22条数据\n"
     ]
    },
    {
     "name": "stderr",
     "output_type": "stream",
     "text": [
      "Processed prompts: 100%|██████████| 1/1 [00:00<00:00,  1.98it/s, Generation Speed: 43.96 toks/s]\n",
      "100%|██████████| 1/1 [00:00<00:00,  1.95it/s]\n"
     ]
    },
    {
     "name": "stdout",
     "output_type": "stream",
     "text": [
      "{'Reactants': ['cinnamaldehydes', '1'], 'Product': ['7']}\n"
     ]
    },
    {
     "name": "stderr",
     "output_type": "stream",
     "text": [
      "Processed prompts: 100%|██████████| 1/1 [00:00<00:00,  1.87it/s, Generation Speed: 45.26 toks/s]\n",
      "100%|██████████| 1/1 [00:00<00:00,  1.85it/s]\n"
     ]
    },
    {
     "name": "stdout",
     "output_type": "stream",
     "text": [
      "{'Reactants': ['7'], 'Catalyst_Reagents': ['4'], 'Product': ['8']}\n",
      "第23条数据\n"
     ]
    },
    {
     "name": "stderr",
     "output_type": "stream",
     "text": [
      "Processed prompts: 100%|██████████| 1/1 [00:00<00:00,  1.83it/s, Generation Speed: 35.02 toks/s]\n",
      "100%|██████████| 1/1 [00:00<00:00,  1.80it/s]\n"
     ]
    },
    {
     "name": "stdout",
     "output_type": "stream",
     "text": [
      "{'Reactants': ['2', '8'], 'Product': ['10.']}\n",
      "第24条数据\n"
     ]
    },
    {
     "name": "stderr",
     "output_type": "stream",
     "text": [
      "Processed prompts: 100%|██████████| 1/1 [00:00<00:00,  2.20it/s, Generation Speed: 37.68 toks/s]\n",
      "100%|██████████| 1/1 [00:00<00:00,  2.16it/s]\n"
     ]
    },
    {
     "name": "stdout",
     "output_type": "stream",
     "text": [
      "{'Reactants': ['10'], 'Product': ['11.']}\n",
      "第25条数据\n"
     ]
    },
    {
     "name": "stderr",
     "output_type": "stream",
     "text": [
      "Processed prompts: 100%|██████████| 1/1 [00:00<00:00,  1.82it/s, Generation Speed: 51.28 toks/s]\n",
      "100%|██████████| 1/1 [00:00<00:00,  1.79it/s]\n"
     ]
    },
    {
     "name": "stdout",
     "output_type": "stream",
     "text": [
      "{'Product': ['31'], 'Reactants': ['30'], 'Catalyst_Reagents': ['AgNO3']}\n",
      "第26条数据\n"
     ]
    },
    {
     "name": "stderr",
     "output_type": "stream",
     "text": [
      "Processed prompts: 100%|██████████| 1/1 [00:00<00:00,  1.46it/s, Generation Speed: 57.23 toks/s]\n",
      "100%|██████████| 1/1 [00:00<00:00,  1.44it/s]\n",
      "Processed prompts: 100%|██████████| 1/1 [00:00<00:00,  2.14it/s, Generation Speed: 47.45 toks/s]\n",
      "100%|██████████| 1/1 [00:00<00:00,  2.11it/s]\n"
     ]
    },
    {
     "name": "stdout",
     "output_type": "stream",
     "text": [
      "{'Reactants': ['5', 'HBFdEt20'], 'Product': ['6']}\n",
      "第27条数据\n"
     ]
    },
    {
     "name": "stderr",
     "output_type": "stream",
     "text": [
      "Processed prompts: 100%|██████████| 1/1 [00:00<00:00,  2.06it/s, Generation Speed: 35.35 toks/s]\n",
      "100%|██████████| 1/1 [00:00<00:00,  2.02it/s]\n"
     ]
    },
    {
     "name": "stdout",
     "output_type": "stream",
     "text": [
      "{'Product': ['7a'], 'Yield': ['22 %']}\n"
     ]
    },
    {
     "name": "stderr",
     "output_type": "stream",
     "text": [
      "Processed prompts: 100%|██████████| 1/1 [00:00<00:00,  2.19it/s, Generation Speed: 35.11 toks/s]\n",
      "100%|██████████| 1/1 [00:00<00:00,  2.15it/s]\n"
     ]
    },
    {
     "name": "stdout",
     "output_type": "stream",
     "text": [
      "{'Product': ['7b'], 'Yield': ['8 %']}\n"
     ]
    },
    {
     "name": "stderr",
     "output_type": "stream",
     "text": [
      "Processed prompts: 100%|██████████| 1/1 [00:00<00:00,  2.87it/s, Generation Speed: 23.05 toks/s]\n",
      "100%|██████████| 1/1 [00:00<00:00,  2.80it/s]\n"
     ]
    },
    {
     "name": "stdout",
     "output_type": "stream",
     "text": [
      "{'Product': ['8a']}\n"
     ]
    },
    {
     "name": "stderr",
     "output_type": "stream",
     "text": [
      "Processed prompts: 100%|██████████| 1/1 [00:00<00:00,  2.75it/s, Generation Speed: 22.23 toks/s]\n",
      "100%|██████████| 1/1 [00:00<00:00,  2.70it/s]\n"
     ]
    },
    {
     "name": "stdout",
     "output_type": "stream",
     "text": [
      "{'Product': ['8b']}\n"
     ]
    },
    {
     "name": "stderr",
     "output_type": "stream",
     "text": [
      "Processed prompts: 100%|██████████| 1/1 [00:00<00:00,  1.58it/s, Generation Speed: 46.00 toks/s]\n",
      "100%|██████████| 1/1 [00:00<00:00,  1.56it/s]\n"
     ]
    },
    {
     "name": "stdout",
     "output_type": "stream",
     "text": [
      "{'Product': ['(propynylfenchol)Co2(C0)6'], 'Yield': ['23 %']}\n"
     ]
    },
    {
     "name": "stderr",
     "output_type": "stream",
     "text": [
      "Processed prompts: 100%|██████████| 1/1 [00:00<00:00,  2.06it/s, Generation Speed: 35.21 toks/s]\n",
      "100%|██████████| 1/1 [00:00<00:00,  2.02it/s]\n"
     ]
    },
    {
     "name": "stdout",
     "output_type": "stream",
     "text": [
      "{'Product': ['Sb'], 'Yield': ['23 %']}\n",
      "第28条数据\n"
     ]
    },
    {
     "name": "stderr",
     "output_type": "stream",
     "text": [
      "Processed prompts: 100%|██████████| 1/1 [00:00<00:00,  1.17it/s, Generation Speed: 48.28 toks/s]\n",
      "100%|██████████| 1/1 [00:00<00:00,  1.16it/s]\n"
     ]
    },
    {
     "name": "stdout",
     "output_type": "stream",
     "text": [
      "{'Product': ['l-propynyl- 2-methylene-7,7-dimethylbicyclo[2.2.1]heptane)Coz(C0)']}\n"
     ]
    },
    {
     "name": "stderr",
     "output_type": "stream",
     "text": [
      "Processed prompts: 100%|██████████| 1/1 [00:00<00:00,  1.17it/s, Generation Speed: 48.11 toks/s]\n",
      "100%|██████████| 1/1 [00:00<00:00,  1.16it/s]\n"
     ]
    },
    {
     "name": "stdout",
     "output_type": "stream",
     "text": [
      "{'Product': ['1 -propynyl-2,7,7-trimethylbicyclo[2.2.l]-2-heptene)Co2- (CO)6']}\n",
      "第29条数据\n"
     ]
    },
    {
     "name": "stderr",
     "output_type": "stream",
     "text": [
      "Processed prompts: 100%|██████████| 1/1 [00:00<00:00,  2.48it/s, Generation Speed: 40.08 toks/s]\n",
      "100%|██████████| 1/1 [00:00<00:00,  2.43it/s]\n"
     ]
    },
    {
     "name": "stdout",
     "output_type": "stream",
     "text": [
      "{'Yield': ['very minor'], 'Product': ['8a']}\n"
     ]
    },
    {
     "name": "stderr",
     "output_type": "stream",
     "text": [
      "Processed prompts: 100%|██████████| 1/1 [00:00<00:00,  2.54it/s, Generation Speed: 41.03 toks/s]\n",
      "100%|██████████| 1/1 [00:00<00:00,  2.48it/s]\n"
     ]
    },
    {
     "name": "stdout",
     "output_type": "stream",
     "text": [
      "{'Yield': ['very minor'], 'Product': ['8b']}\n",
      "第30条数据\n"
     ]
    },
    {
     "name": "stderr",
     "output_type": "stream",
     "text": [
      "Processed prompts: 100%|██████████| 1/1 [00:00<00:00,  1.43it/s, Generation Speed: 35.95 toks/s]\n",
      "100%|██████████| 1/1 [00:00<00:00,  1.41it/s]\n"
     ]
    },
    {
     "name": "stdout",
     "output_type": "stream",
     "text": [
      "{'Reactants': ['trifluoroacetic acid', 'I b'], 'Product': ['I b']}\n",
      "第31条数据\n"
     ]
    },
    {
     "name": "stderr",
     "output_type": "stream",
     "text": [
      "Processed prompts: 100%|██████████| 1/1 [00:00<00:00,  3.62it/s, Generation Speed: 36.57 toks/s]\n",
      "100%|██████████| 1/1 [00:00<00:00,  3.52it/s]\n"
     ]
    },
    {
     "name": "stdout",
     "output_type": "stream",
     "text": [
      "{'Product': ['3bCDCh']}\n"
     ]
    },
    {
     "name": "stderr",
     "output_type": "stream",
     "text": [
      "Processed prompts: 100%|██████████| 1/1 [00:00<00:00,  2.50it/s, Generation Speed: 47.85 toks/s]\n",
      "100%|██████████| 1/1 [00:00<00:00,  2.45it/s]\n"
     ]
    },
    {
     "name": "stdout",
     "output_type": "stream",
     "text": [
      "{'Reactants': ['3bCDCh'], 'Product': ['Ib.']}\n",
      "第32条数据\n"
     ]
    },
    {
     "name": "stderr",
     "output_type": "stream",
     "text": [
      "Processed prompts: 100%|██████████| 1/1 [00:00<00:00,  1.12it/s, Generation Speed: 39.33 toks/s]\n",
      "100%|██████████| 1/1 [00:00<00:00,  1.11it/s]\n"
     ]
    },
    {
     "name": "stdout",
     "output_type": "stream",
     "text": [
      "{'Product': ['WBS'], 'Reactants': ['Ib', 'pyrazine'], 'Solvent': ['9 : I CHCIKHIOH']}\n",
      "第33条数据\n"
     ]
    },
    {
     "name": "stderr",
     "output_type": "stream",
     "text": [
      "Processed prompts: 100%|██████████| 1/1 [00:00<00:00,  1.75it/s, Generation Speed: 54.59 toks/s]\n",
      "100%|██████████| 1/1 [00:00<00:00,  1.72it/s]\n"
     ]
    },
    {
     "name": "stdout",
     "output_type": "stream",
     "text": [
      "{'Temperature': ['80', 'C'], 'Product': ['1-octanoic acid'], 'Yield': ['82 %']}\n",
      "第34条数据\n"
     ]
    },
    {
     "name": "stderr",
     "output_type": "stream",
     "text": [
      "Processed prompts: 100%|██████████| 1/1 [00:00<00:00,  1.20it/s, Generation Speed: 50.42 toks/s]\n",
      "100%|██████████| 1/1 [00:00<00:00,  1.18it/s]\n"
     ]
    },
    {
     "name": "stdout",
     "output_type": "stream",
     "text": [
      "{'Reactants': ['42b'], 'Catalyst_Reagents': ['thexylborane'], 'Workup_reagents': ['oxidative'], 'Product': ['43a']}\n",
      "第35条数据\n"
     ]
    },
    {
     "name": "stderr",
     "output_type": "stream",
     "text": [
      "Processed prompts: 100%|██████████| 1/1 [00:00<00:00,  1.57it/s, Generation Speed: 31.54 toks/s]\n",
      "100%|██████████| 1/1 [00:00<00:00,  1.54it/s]\n"
     ]
    },
    {
     "name": "stdout",
     "output_type": "stream",
     "text": [
      "{'Reactants': ['2', 'KMn04'], 'Product': ['3']}\n",
      "第36条数据\n"
     ]
    },
    {
     "name": "stderr",
     "output_type": "stream",
     "text": [
      "Processed prompts: 100%|██████████| 1/1 [00:01<00:00,  1.26s/it, Generation Speed: 56.70 toks/s]\n",
      "100%|██████████| 1/1 [00:01<00:00,  1.27s/it]\n"
     ]
    },
    {
     "name": "stdout",
     "output_type": "stream",
     "text": [
      "{'Product': ['1,2-bis(4-tert-buty1-2,6-dimethylphenyl)- 1 ,Zdimesitylethene'], 'Reactants': ['(4-tert-butyl-2,6-dimethylphenyl)mesitylketene', '5.']}\n"
     ]
    },
    {
     "name": "stderr",
     "output_type": "stream",
     "text": [
      "Processed prompts: 100%|██████████| 1/1 [00:00<00:00,  2.33it/s, Generation Speed: 32.95 toks/s]\n",
      "100%|██████████| 1/1 [00:00<00:00,  2.29it/s]\n"
     ]
    },
    {
     "name": "stdout",
     "output_type": "stream",
     "text": [
      "{'Product': ['4'], 'Reactants': ['5']}\n",
      "第37条数据\n"
     ]
    },
    {
     "name": "stderr",
     "output_type": "stream",
     "text": [
      "Processed prompts: 100%|██████████| 1/1 [00:01<00:00,  1.52s/it, Generation Speed: 52.65 toks/s]\n",
      "100%|██████████| 1/1 [00:01<00:00,  1.53s/it]\n"
     ]
    },
    {
     "name": "stdout",
     "output_type": "stream",
     "text": [
      "{'Reactants': ['2-methylfuran', '3-bromobenzyne', '3', '1,3-dibromobenzene', 'lithium diisopropylamide', 'LDA'], 'Product': ['1,4-dihydro-1,4-epoxynaphthalenes'], 'Yield': ['mixture']}\n"
     ]
    },
    {
     "name": "stderr",
     "output_type": "stream",
     "text": [
      "Processed prompts: 100%|██████████| 1/1 [00:01<00:00,  1.14s/it, Generation Speed: 49.29 toks/s]\n",
      "100%|██████████| 1/1 [00:01<00:00,  1.15s/it]\n"
     ]
    },
    {
     "name": "stdout",
     "output_type": "stream",
     "text": [
      "{'Reactants': ['2-methylfuran', '3-bromobenzyne', '3', '1,3-dibromobenzene', 'lithium diisopropylamide', 'LDA'], 'Product': ['4']}\n"
     ]
    },
    {
     "name": "stderr",
     "output_type": "stream",
     "text": [
      "Processed prompts: 100%|██████████| 1/1 [00:01<00:00,  1.09s/it, Generation Speed: 52.37 toks/s]\n",
      "100%|██████████| 1/1 [00:01<00:00,  1.10s/it]\n"
     ]
    },
    {
     "name": "stdout",
     "output_type": "stream",
     "text": [
      "{'Reactants': ['2-methylfuran', '3-bromobenzyne', '3', '1,3-dibromobenzene', 'lithium diisopropylamide', 'LDA'], 'Product': ['5.']}\n"
     ]
    },
    {
     "name": "stderr",
     "output_type": "stream",
     "text": [
      "Processed prompts: 100%|██████████| 1/1 [00:00<00:00,  1.11it/s, Generation Speed: 47.76 toks/s]\n",
      "100%|██████████| 1/1 [00:00<00:00,  1.10it/s]\n"
     ]
    },
    {
     "name": "stdout",
     "output_type": "stream",
     "text": [
      "{'Reactants': ['1,3-dibromobenzene', 'lithium diisopropylamide', 'LDA'], 'Product': ['3-bromobenzyne']}\n"
     ]
    },
    {
     "name": "stderr",
     "output_type": "stream",
     "text": [
      "Processed prompts: 100%|██████████| 1/1 [00:00<00:00,  1.20it/s, Generation Speed: 44.72 toks/s]\n",
      "100%|██████████| 1/1 [00:00<00:00,  1.19it/s]\n"
     ]
    },
    {
     "name": "stdout",
     "output_type": "stream",
     "text": [
      "{'Reactants': ['1,3-dibromobenzene', 'lithium diisopropylamide', 'LDA'], 'Product': ['3']}\n",
      "第38条数据\n"
     ]
    },
    {
     "name": "stderr",
     "output_type": "stream",
     "text": [
      "Processed prompts: 100%|██████████| 1/1 [00:00<00:00,  1.51it/s, Generation Speed: 53.15 toks/s]\n",
      "100%|██████████| 1/1 [00:00<00:00,  1.49it/s]\n"
     ]
    },
    {
     "name": "stdout",
     "output_type": "stream",
     "text": [
      "{'Catalyst_Reagents': ['I'], 'Product': ['3a'], 'Yield': ['98 % ee', '5 : 1 dr']}\n",
      "第39条数据\n"
     ]
    },
    {
     "name": "stderr",
     "output_type": "stream",
     "text": [
      "Processed prompts: 100%|██████████| 1/1 [00:00<00:00,  2.61it/s, Generation Speed: 36.87 toks/s]\n",
      "100%|██████████| 1/1 [00:00<00:00,  2.55it/s]\n"
     ]
    },
    {
     "name": "stdout",
     "output_type": "stream",
     "text": [
      "{'Reactants': ['2'], 'Product': ['3']}\n",
      "第40条数据\n"
     ]
    },
    {
     "name": "stderr",
     "output_type": "stream",
     "text": [
      "Processed prompts: 100%|██████████| 1/1 [00:00<00:00,  1.45it/s, Generation Speed: 54.05 toks/s]\n",
      "100%|██████████| 1/1 [00:00<00:00,  1.43it/s]\n"
     ]
    },
    {
     "name": "stdout",
     "output_type": "stream",
     "text": [
      "{'Reactants': ['CpFe(CO)zSiMe3', 'l a'], 'Product': ['2a'], 'Yield': ['21 %']}\n"
     ]
    },
    {
     "name": "stderr",
     "output_type": "stream",
     "text": [
      "Processed prompts: 100%|██████████| 1/1 [00:00<00:00,  1.57it/s, Generation Speed: 47.34 toks/s]\n",
      "100%|██████████| 1/1 [00:00<00:00,  1.55it/s]\n"
     ]
    },
    {
     "name": "stdout",
     "output_type": "stream",
     "text": [
      "{'Reactants': ['CpFe(CO)zSiMe3', 'lb,c'], 'Product': ['2b,c.']}\n",
      "第41条数据\n"
     ]
    },
    {
     "name": "stderr",
     "output_type": "stream",
     "text": [
      "Processed prompts: 100%|██████████| 1/1 [00:00<00:00,  2.08it/s, Generation Speed: 37.65 toks/s]\n",
      "100%|██████████| 1/1 [00:00<00:00,  2.04it/s]\n"
     ]
    },
    {
     "name": "stdout",
     "output_type": "stream",
     "text": [
      "{'Product': ['3a'], 'Yield': ['3.9 %']}\n"
     ]
    },
    {
     "name": "stderr",
     "output_type": "stream",
     "text": [
      "Processed prompts: 100%|██████████| 1/1 [00:00<00:00,  2.00it/s, Generation Speed: 32.21 toks/s]\n",
      "100%|██████████| 1/1 [00:00<00:00,  1.96it/s]\n"
     ]
    },
    {
     "name": "stdout",
     "output_type": "stream",
     "text": [
      "{'Yield': ['substantial'], 'Product': ['3b']}\n",
      "第42条数据\n"
     ]
    },
    {
     "name": "stderr",
     "output_type": "stream",
     "text": [
      "Processed prompts: 100%|██████████| 1/1 [00:00<00:00,  1.47it/s, Generation Speed: 57.51 toks/s]\n",
      "100%|██████████| 1/1 [00:00<00:00,  1.45it/s]\n"
     ]
    },
    {
     "name": "stdout",
     "output_type": "stream",
     "text": [
      "{'Reactants': ['1'], 'Product': ['2-(2,4-dimethoxyphenyl)-p-benzoquinone'], 'Yield': ['8 %']}\n",
      "第43条数据\n"
     ]
    },
    {
     "name": "stderr",
     "output_type": "stream",
     "text": [
      "Processed prompts: 100%|██████████| 1/1 [00:01<00:00,  1.09s/it, Generation Speed: 50.58 toks/s]\n",
      "100%|██████████| 1/1 [00:01<00:00,  1.10s/it]\n"
     ]
    },
    {
     "name": "stdout",
     "output_type": "stream",
     "text": [
      "{'Reactants': ['styrene− yne', '30'], 'Temperature': ['180 ° C'], 'Solvent': ['DCE'], 'Product': ['dihydronaphthalene']}\n"
     ]
    },
    {
     "name": "stderr",
     "output_type": "stream",
     "text": [
      "Processed prompts: 100%|██████████| 1/1 [00:01<00:00,  1.04s/it, Generation Speed: 49.32 toks/s]\n",
      "100%|██████████| 1/1 [00:01<00:00,  1.05s/it]\n"
     ]
    },
    {
     "name": "stdout",
     "output_type": "stream",
     "text": [
      "{'Reactants': ['styrene− yne', '30'], 'Temperature': ['180 ° C'], 'Solvent': ['DCE'], 'Product': ['31b']}\n"
     ]
    },
    {
     "name": "stderr",
     "output_type": "stream",
     "text": [
      "Processed prompts: 100%|██████████| 1/1 [00:01<00:00,  1.05s/it, Generation Speed: 49.86 toks/s]\n",
      "100%|██████████| 1/1 [00:01<00:00,  1.06s/it]\n"
     ]
    },
    {
     "name": "stdout",
     "output_type": "stream",
     "text": [
      "{'Reactants': ['styrene− yne', '30'], 'Temperature': ['180 ° C'], 'Solvent': ['DCE'], 'Product': ['naphthalene']}\n"
     ]
    },
    {
     "name": "stderr",
     "output_type": "stream",
     "text": [
      "Processed prompts: 100%|██████████| 1/1 [00:01<00:00,  1.04s/it, Generation Speed: 49.27 toks/s]\n",
      "100%|██████████| 1/1 [00:01<00:00,  1.05s/it]\n"
     ]
    },
    {
     "name": "stdout",
     "output_type": "stream",
     "text": [
      "{'Reactants': ['styrene− yne', '30'], 'Temperature': ['180 ° C'], 'Solvent': ['DCE'], 'Product': ['31a']}\n",
      "第44条数据\n"
     ]
    },
    {
     "name": "stderr",
     "output_type": "stream",
     "text": [
      "Processed prompts: 100%|██████████| 1/1 [00:00<00:00,  1.95it/s, Generation Speed: 58.78 toks/s]\n",
      "100%|██████████| 1/1 [00:00<00:00,  1.92it/s]\n"
     ]
    },
    {
     "name": "stdout",
     "output_type": "stream",
     "text": [
      "{'Reactants': ['Deoxy-Mb'], 'Catalyst_Reagents': ['quinone'], 'Product': ['met-Mb']}\n",
      "第45条数据\n"
     ]
    },
    {
     "name": "stderr",
     "output_type": "stream",
     "text": [
      "Processed prompts: 100%|██████████| 1/1 [00:00<00:00,  3.01it/s, Generation Speed: 21.28 toks/s]\n",
      "100%|██████████| 1/1 [00:00<00:00,  2.94it/s]\n"
     ]
    },
    {
     "name": "stdout",
     "output_type": "stream",
     "text": [
      "{'Product': ['I']}\n",
      "第46条数据\n"
     ]
    },
    {
     "name": "stderr",
     "output_type": "stream",
     "text": [
      "Processed prompts: 100%|██████████| 1/1 [00:00<00:00,  1.41it/s, Generation Speed: 52.29 toks/s]\n",
      "100%|██████████| 1/1 [00:00<00:00,  1.39it/s]\n"
     ]
    },
    {
     "name": "stdout",
     "output_type": "stream",
     "text": [
      "{'Reactants': ['l-(diazomethyl)-8-methylnaphthalene', '2'], 'Product': ['acenaphthene', '3']}\n"
     ]
    },
    {
     "name": "stderr",
     "output_type": "stream",
     "text": [
      "Processed prompts: 100%|██████████| 1/1 [00:00<00:00,  1.57it/s, Generation Speed: 48.83 toks/s]\n",
      "100%|██████████| 1/1 [00:00<00:00,  1.55it/s]\n"
     ]
    },
    {
     "name": "stdout",
     "output_type": "stream",
     "text": [
      "{'Reactants': ['l-(diazomethyl)-8-methylnaphthalene', '2'], 'Product': ['3']}\n",
      "第47条数据\n"
     ]
    },
    {
     "name": "stderr",
     "output_type": "stream",
     "text": [
      "Processed prompts: 100%|██████████| 1/1 [00:00<00:00,  4.20it/s, Generation Speed: 29.81 toks/s]\n",
      "100%|██████████| 1/1 [00:00<00:00,  4.07it/s]\n"
     ]
    },
    {
     "name": "stdout",
     "output_type": "stream",
     "text": [
      "{'Product': ['3']}\n"
     ]
    },
    {
     "name": "stderr",
     "output_type": "stream",
     "text": [
      "Processed prompts: 100%|██████████| 1/1 [00:00<00:00,  2.76it/s, Generation Speed: 47.36 toks/s]\n",
      "100%|██████████| 1/1 [00:00<00:00,  2.71it/s]\n"
     ]
    },
    {
     "name": "stdout",
     "output_type": "stream",
     "text": [
      "{'Product': ['4'], 'Reactants': ['2,17']}\n",
      "第48条数据\n"
     ]
    },
    {
     "name": "stderr",
     "output_type": "stream",
     "text": [
      "Processed prompts: 100%|██████████| 1/1 [00:00<00:00,  2.00it/s, Generation Speed: 56.37 toks/s]\n",
      "100%|██████████| 1/1 [00:00<00:00,  1.97it/s]\n"
     ]
    },
    {
     "name": "stdout",
     "output_type": "stream",
     "text": [
      "{'Reactants': ['4a', '5'], 'Product': ['3a'], 'Yield': ['25 %']}\n",
      "第49条数据\n"
     ]
    },
    {
     "name": "stderr",
     "output_type": "stream",
     "text": [
      "Processed prompts: 100%|██████████| 1/1 [00:00<00:00,  1.02it/s, Generation Speed: 43.20 toks/s]\n",
      "100%|██████████| 1/1 [00:00<00:00,  1.01it/s]\n"
     ]
    },
    {
     "name": "stdout",
     "output_type": "stream",
     "text": [
      "{'Reactants': ['3b-e.I0', '5'], 'Catalyst_Reagents': ['Rhz(OAc)4'], 'Product': ['4b-elo9l1']}\n",
      "第50条数据\n"
     ]
    },
    {
     "name": "stderr",
     "output_type": "stream",
     "text": [
      "Processed prompts: 100%|██████████| 1/1 [00:00<00:00,  2.62it/s, Generation Speed: 47.57 toks/s]\n",
      "100%|██████████| 1/1 [00:00<00:00,  2.57it/s]\n"
     ]
    },
    {
     "name": "stdout",
     "output_type": "stream",
     "text": [
      "{'Reactants': ['4a'], 'Product': ['4c-e.']}\n",
      "第51条数据\n"
     ]
    },
    {
     "name": "stderr",
     "output_type": "stream",
     "text": [
      "Processed prompts: 100%|██████████| 1/1 [00:00<00:00,  1.63it/s, Generation Speed: 55.73 toks/s]\n",
      "100%|██████████| 1/1 [00:00<00:00,  1.61it/s]\n"
     ]
    },
    {
     "name": "stdout",
     "output_type": "stream",
     "text": [
      "{'Reactants': ['5'], 'Solvent': ['MeOH'], 'Temperature': ['40 \" C'], 'Product': ['(R)-6']}\n",
      "第52条数据\n"
     ]
    },
    {
     "name": "stderr",
     "output_type": "stream",
     "text": [
      "Processed prompts: 100%|██████████| 1/1 [00:00<00:00,  1.59it/s, Generation Speed: 47.96 toks/s]\n",
      "100%|██████████| 1/1 [00:00<00:00,  1.57it/s]\n"
     ]
    },
    {
     "name": "stdout",
     "output_type": "stream",
     "text": [
      "{'Product': ['(R)-6'], 'Yield': ['84.7 % ee', '88.4 % ee']}\n",
      "第53条数据\n"
     ]
    },
    {
     "name": "stderr",
     "output_type": "stream",
     "text": [
      "Processed prompts: 100%|██████████| 1/1 [00:00<00:00,  1.25it/s, Generation Speed: 51.61 toks/s]\n",
      "100%|██████████| 1/1 [00:00<00:00,  1.24it/s]\n"
     ]
    },
    {
     "name": "stdout",
     "output_type": "stream",
     "text": [
      "{'Reactants': ['enamide', '7'], 'Catalyst_Reagents': ['l a'], 'Solvent': ['supercritical C02'], 'Product': ['8']}\n",
      "第54条数据\n"
     ]
    },
    {
     "name": "stderr",
     "output_type": "stream",
     "text": [
      "Processed prompts: 100%|██████████| 1/1 [00:00<00:00,  1.50it/s, Generation Speed: 54.12 toks/s]\n",
      "100%|██████████| 1/1 [00:00<00:00,  1.46it/s]\n"
     ]
    },
    {
     "name": "stdout",
     "output_type": "stream",
     "text": [
      "{'Reactants': ['DPD diox- etane'], 'Time': ['2 h'], 'Temperature': ['60 OC'], 'Product': ['EGDB']}\n",
      "第55条数据\n"
     ]
    },
    {
     "name": "stderr",
     "output_type": "stream",
     "text": [
      "Processed prompts: 100%|██████████| 1/1 [00:00<00:00,  2.24it/s, Generation Speed: 45.18 toks/s]\n",
      "100%|██████████| 1/1 [00:00<00:00,  2.19it/s]\n"
     ]
    },
    {
     "name": "stdout",
     "output_type": "stream",
     "text": [
      "{'Product': ['2,3-diphenyl-l,4dioxene oxide']}\n",
      "第56条数据\n"
     ]
    },
    {
     "name": "stderr",
     "output_type": "stream",
     "text": [
      "Processed prompts: 100%|██████████| 1/1 [00:00<00:00,  1.14it/s, Generation Speed: 50.39 toks/s]\n",
      "100%|██████████| 1/1 [00:00<00:00,  1.13it/s]\n"
     ]
    },
    {
     "name": "stdout",
     "output_type": "stream",
     "text": [
      "{'Reactants': ['1', '2', 'Br2'], 'Solvent': ['1,Zdichlorcethane'], 'Temperature': ['25 O C'], 'Product': ['3']}\n"
     ]
    },
    {
     "name": "stderr",
     "output_type": "stream",
     "text": [
      "Processed prompts: 100%|██████████| 1/1 [00:00<00:00,  1.13it/s, Generation Speed: 49.95 toks/s]\n",
      "100%|██████████| 1/1 [00:00<00:00,  1.12it/s]"
     ]
    },
    {
     "name": "stdout",
     "output_type": "stream",
     "text": [
      "{'Reactants': ['1', '2', 'Br2'], 'Solvent': ['1,Zdichlorcethane'], 'Temperature': ['25 O C'], 'Product': ['4']}\n",
      "TP, FP, FN 291 60 92\n",
      "NER:  precision, recall 0.8290598290598291 0.7597911227154047\n",
      "NER:  f1_score 0.7929155313351498\n"
     ]
    },
    {
     "name": "stderr",
     "output_type": "stream",
     "text": [
      "\n"
     ]
    }
   ],
   "source": [
    "import os\n",
    "\n",
    "from evaluate import *\n",
    "from llm_re import *\n",
    "\n",
    "def main():\n",
    "    train_data,test_data=get_data()\n",
    "    prev_data=chem_re(train_data,test_data)\n",
    "    Reaction_f1(test_data,prev_data)\n",
    "\n",
    "main()"
   ]
  },
  {
   "cell_type": "markdown",
   "metadata": {},
   "source": [
    "# 改成test.json测一下  统一标准"
   ]
  },
  {
   "cell_type": "markdown",
   "metadata": {},
   "source": [
    "微调前的llm\n",
    "TP, FP, FN 275 139 124\n",
    "NER:  precision, recall 0.6642512077294686 0.6892230576441103\n",
    "NER:  f1_score 0.6765067650676506"
   ]
  },
  {
   "cell_type": "code",
   "execution_count": 1,
   "metadata": {},
   "outputs": [
    {
     "name": "stderr",
     "output_type": "stream",
     "text": [
      "/data/lizh/Conda/anaconda3/envs/vllm/lib/python3.9/site-packages/tqdm/auto.py:21: TqdmWarning: IProgress not found. Please update jupyter and ipywidgets. See https://ipywidgets.readthedocs.io/en/stable/user_install.html\n",
      "  from .autonotebook import tqdm as notebook_tqdm\n",
      "2024-12-06 16:59:00,807\tINFO util.py:154 -- Missing packages: ['ipywidgets']. Run `pip install -U ipywidgets`, then restart the notebook server for rich notebook output.\n",
      "2024-12-06 16:59:05,138\tINFO worker.py:1771 -- Started a local Ray instance.\n"
     ]
    },
    {
     "name": "stdout",
     "output_type": "stream",
     "text": [
      "INFO 12-06 16:59:06 llm_engine.py:161] Initializing an LLM engine (v0.4.3) with config: model='/data/models/qwen2.5/qwen2.5-14B-Instruct', speculative_config=None, tokenizer='/data/models/qwen2.5/qwen2.5-14B-Instruct', skip_tokenizer_init=False, tokenizer_mode=auto, revision=None, rope_scaling=None, tokenizer_revision=None, trust_remote_code=False, dtype=torch.bfloat16, max_seq_len=32768, download_dir=None, load_format=LoadFormat.AUTO, tensor_parallel_size=4, disable_custom_all_reduce=False, quantization=None, enforce_eager=False, kv_cache_dtype=auto, quantization_param_path=None, device_config=cuda, decoding_config=DecodingConfig(guided_decoding_backend='outlines'), seed=0, served_model_name=/data/models/qwen2.5/qwen2.5-14B-Instruct)\n",
      "INFO 12-06 16:59:25 utils.py:618] Found nccl from library libnccl.so.2\n",
      "INFO 12-06 16:59:25 pynccl.py:65] vLLM is using nccl==2.20.5\n",
      "\u001b[36m(RayWorkerWrapper pid=3554989)\u001b[0m INFO 12-06 16:59:25 utils.py:618] Found nccl from library libnccl.so.2\n",
      "\u001b[36m(RayWorkerWrapper pid=3554989)\u001b[0m INFO 12-06 16:59:25 pynccl.py:65] vLLM is using nccl==2.20.5\n",
      "WARNING 12-06 16:59:25 custom_all_reduce.py:158] Custom allreduce is disabled because it's not supported on more than two PCIe-only GPUs. To silence this warning, specify disable_custom_all_reduce=True explicitly.\n",
      "\u001b[36m(RayWorkerWrapper pid=3554989)\u001b[0m WARNING 12-06 16:59:25 custom_all_reduce.py:158] Custom allreduce is disabled because it's not supported on more than two PCIe-only GPUs. To silence this warning, specify disable_custom_all_reduce=True explicitly.\n",
      "INFO 12-06 16:59:38 model_runner.py:146] Loading model weights took 6.9459 GB\n",
      "\u001b[36m(RayWorkerWrapper pid=3554989)\u001b[0m INFO 12-06 16:59:38 model_runner.py:146] Loading model weights took 6.9459 GB\n",
      "\u001b[36m(RayWorkerWrapper pid=3555223)\u001b[0m INFO 12-06 16:59:25 utils.py:618] Found nccl from library libnccl.so.2\u001b[32m [repeated 2x across cluster] (Ray deduplicates logs by default. Set RAY_DEDUP_LOGS=0 to disable log deduplication, or see https://docs.ray.io/en/master/ray-observability/user-guides/configure-logging.html#log-deduplication for more options.)\u001b[0m\n",
      "\u001b[36m(RayWorkerWrapper pid=3555223)\u001b[0m INFO 12-06 16:59:25 pynccl.py:65] vLLM is using nccl==2.20.5\u001b[32m [repeated 2x across cluster]\u001b[0m\n",
      "\u001b[36m(RayWorkerWrapper pid=3555223)\u001b[0m WARNING 12-06 16:59:25 custom_all_reduce.py:158] Custom allreduce is disabled because it's not supported on more than two PCIe-only GPUs. To silence this warning, specify disable_custom_all_reduce=True explicitly.\u001b[32m [repeated 2x across cluster]\u001b[0m\n",
      "INFO 12-06 16:59:53 distributed_gpu_executor.py:56] # GPU blocks: 40967, # CPU blocks: 5461\n",
      "INFO 12-06 17:00:03 model_runner.py:854] Capturing the model for CUDA graphs. This may lead to unexpected consequences if the model is not static. To run the model in eager mode, set 'enforce_eager=True' or use '--enforce-eager' in the CLI.\n",
      "INFO 12-06 17:00:03 model_runner.py:858] CUDA graphs can take additional 1~3 GiB memory per GPU. If you are running out of memory, consider decreasing `gpu_memory_utilization` or enforcing eager mode. You can also reduce the `max_num_seqs` as needed to decrease memory usage.\n",
      "\u001b[36m(RayWorkerWrapper pid=3555223)\u001b[0m INFO 12-06 17:00:04 model_runner.py:854] Capturing the model for CUDA graphs. This may lead to unexpected consequences if the model is not static. To run the model in eager mode, set 'enforce_eager=True' or use '--enforce-eager' in the CLI.\n",
      "\u001b[36m(RayWorkerWrapper pid=3555223)\u001b[0m INFO 12-06 17:00:04 model_runner.py:858] CUDA graphs can take additional 1~3 GiB memory per GPU. If you are running out of memory, consider decreasing `gpu_memory_utilization` or enforcing eager mode. You can also reduce the `max_num_seqs` as needed to decrease memory usage.\n",
      "\u001b[36m(RayWorkerWrapper pid=3555223)\u001b[0m INFO 12-06 16:59:38 model_runner.py:146] Loading model weights took 6.9459 GB\u001b[32m [repeated 2x across cluster]\u001b[0m\n",
      "INFO 12-06 17:00:35 model_runner.py:924] Graph capturing finished in 32 secs.\n",
      "\u001b[36m(RayWorkerWrapper pid=3554989)\u001b[0m INFO 12-06 17:00:35 model_runner.py:924] Graph capturing finished in 29 secs.\n",
      "\u001b[36m(RayWorkerWrapper pid=3554989)\u001b[0m INFO 12-06 17:00:06 model_runner.py:854] Capturing the model for CUDA graphs. This may lead to unexpected consequences if the model is not static. To run the model in eager mode, set 'enforce_eager=True' or use '--enforce-eager' in the CLI.\u001b[32m [repeated 2x across cluster]\u001b[0m\n",
      "\u001b[36m(RayWorkerWrapper pid=3554989)\u001b[0m INFO 12-06 17:00:06 model_runner.py:858] CUDA graphs can take additional 1~3 GiB memory per GPU. If you are running out of memory, consider decreasing `gpu_memory_utilization` or enforcing eager mode. You can also reduce the `max_num_seqs` as needed to decrease memory usage.\u001b[32m [repeated 2x across cluster]\u001b[0m\n",
      "第0条数据\n"
     ]
    },
    {
     "name": "stderr",
     "output_type": "stream",
     "text": [
      "Processed prompts: 100%|██████████| 1/1 [00:03<00:00,  3.16s/it, Generation Speed: 23.76 toks/s]\n",
      "100%|██████████| 1/1 [00:03<00:00,  3.20s/it]\n"
     ]
    },
    {
     "name": "stdout",
     "output_type": "stream",
     "text": [
      "{'Product': ['cycloheptadienone'], 'Yield': ['53 %'], 'Reactants': ['(phenylcyclopropyl)-carbene complex 19B', 'diphenylacetylene'], 'Catalyst_Reagents': ['complex 19A']}\n"
     ]
    },
    {
     "name": "stderr",
     "output_type": "stream",
     "text": [
      "Processed prompts: 100%|██████████| 1/1 [00:01<00:00,  1.18s/it, Generation Speed: 30.60 toks/s]\n",
      "100%|██████████| 1/1 [00:01<00:00,  1.18s/it]\n"
     ]
    },
    {
     "name": "stdout",
     "output_type": "stream",
     "text": [
      "{'Product': ['23A'], 'Reactants': ['diphenylacetylene', '19A'], 'Yield': ['30 %']}\n"
     ]
    },
    {
     "name": "stderr",
     "output_type": "stream",
     "text": [
      "Processed prompts: 100%|██████████| 1/1 [00:01<00:00,  1.49s/it, Generation Speed: 33.61 toks/s]\n",
      "100%|██████████| 1/1 [00:01<00:00,  1.50s/it]\n"
     ]
    },
    {
     "name": "stdout",
     "output_type": "stream",
     "text": [
      "{'Product': ['25'], 'Yield': ['53 %'], 'Reactants': ['(phenylcyclopropy1)-carbene complex 19B', 'diphenylacetylene']}\n",
      "第1条数据\n"
     ]
    },
    {
     "name": "stderr",
     "output_type": "stream",
     "text": [
      "Processed prompts: 100%|██████████| 1/1 [00:02<00:00,  2.03s/it, Generation Speed: 37.09 toks/s]\n",
      "100%|██████████| 1/1 [00:02<00:00,  2.04s/it]\n"
     ]
    },
    {
     "name": "stdout",
     "output_type": "stream",
     "text": [
      "{'Reactants': ['2.0 equiv of copper acetate'], 'Product': ['2-(3-(methylthio)naphthalen-2-yl)pyridine'], 'Yield': ['89 %'], 'Solvent': ['DMSO'], 'Temperature': ['125 ° C']}\n"
     ]
    },
    {
     "name": "stderr",
     "output_type": "stream",
     "text": [
      "Processed prompts: 100%|██████████| 1/1 [00:01<00:00,  1.97s/it, Generation Speed: 36.59 toks/s]\n",
      "100%|██████████| 1/1 [00:01<00:00,  1.98s/it]\n"
     ]
    },
    {
     "name": "stdout",
     "output_type": "stream",
     "text": [
      "{'Reactants': ['2.0 equiv of copper acetate'], 'Product': ['2-(3-(methylthio)naphthalen-2-yl)pyridine', '2b'], 'Yield': ['89 %'], 'Solvent': ['DMSO'], 'Temperature': ['125 ° C']}\n",
      "第2条数据\n"
     ]
    },
    {
     "name": "stderr",
     "output_type": "stream",
     "text": [
      "Processed prompts: 100%|██████████| 1/1 [00:01<00:00,  1.12s/it, Generation Speed: 31.39 toks/s]\n",
      "100%|██████████| 1/1 [00:01<00:00,  1.13s/it]\n"
     ]
    },
    {
     "name": "stdout",
     "output_type": "stream",
     "text": [
      "{'Reactants': ['Me3SiCH2MgCl'], 'Catalyst_Reagents': ['02'], 'Product': ['Me3SiOH']}\n"
     ]
    },
    {
     "name": "stderr",
     "output_type": "stream",
     "text": [
      "Processed prompts: 100%|██████████| 1/1 [00:01<00:00,  1.16s/it, Generation Speed: 32.97 toks/s]\n",
      "100%|██████████| 1/1 [00:01<00:00,  1.16s/it]\n"
     ]
    },
    {
     "name": "stdout",
     "output_type": "stream",
     "text": [
      "{'Reactants': ['Me3SiCH2MgCl'], 'Catalyst_Reagents': ['02'], 'Product': ['(Me3Si)20']}\n"
     ]
    },
    {
     "name": "stderr",
     "output_type": "stream",
     "text": [
      "Processed prompts: 100%|██████████| 1/1 [00:01<00:00,  1.16s/it, Generation Speed: 32.10 toks/s]\n",
      "100%|██████████| 1/1 [00:01<00:00,  1.16s/it]\n"
     ]
    },
    {
     "name": "stdout",
     "output_type": "stream",
     "text": [
      "{'Reactants': ['Me3SiCH2MgCl'], 'Catalyst_Reagents': ['02'], 'Product': ['CH20.22']}\n",
      "第3条数据\n"
     ]
    },
    {
     "name": "stderr",
     "output_type": "stream",
     "text": [
      "Processed prompts: 100%|██████████| 1/1 [00:01<00:00,  1.32s/it, Generation Speed: 35.03 toks/s]\n",
      "100%|██████████| 1/1 [00:01<00:00,  1.33s/it]\n"
     ]
    },
    {
     "name": "stdout",
     "output_type": "stream",
     "text": [
      "{'Reactants': ['8', 'acetone'], 'Catalyst_Reagents': ['trifluoroacetic acid-tri- fluoroacetic anhydride'], 'Product': ['9.']}\n",
      "第4条数据\n"
     ]
    },
    {
     "name": "stderr",
     "output_type": "stream",
     "text": [
      "Processed prompts: 100%|██████████| 1/1 [00:01<00:00,  1.38s/it, Generation Speed: 28.29 toks/s]\n",
      "100%|██████████| 1/1 [00:01<00:00,  1.39s/it]\n"
     ]
    },
    {
     "name": "stdout",
     "output_type": "stream",
     "text": [
      "{'Reactants': ['10', 'triflic anhydride', 'pyridine'], 'Product': ['11'], 'Yield': ['92 %']}\n"
     ]
    },
    {
     "name": "stderr",
     "output_type": "stream",
     "text": [
      "Processed prompts: 100%|██████████| 1/1 [00:01<00:00,  1.96s/it, Generation Speed: 34.27 toks/s]\n",
      "100%|██████████| 1/1 [00:01<00:00,  1.96s/it]\n"
     ]
    },
    {
     "name": "stdout",
     "output_type": "stream",
     "text": [
      "{'Reactants': ['11', '1-heptyne'], 'Catalyst_Reagents': ['bis(triphenylphosphine)palladium(II) chloride'], 'Workup_reagents': ['triethylamine'], 'Solvent': ['DMF'], 'Yield': ['68 %']}\n",
      "第5条数据\n"
     ]
    },
    {
     "name": "stderr",
     "output_type": "stream",
     "text": [
      "Processed prompts: 100%|██████████| 1/1 [00:01<00:00,  1.28s/it, Generation Speed: 33.66 toks/s]\n",
      "100%|██████████| 1/1 [00:01<00:00,  1.29s/it]\n"
     ]
    },
    {
     "name": "stdout",
     "output_type": "stream",
     "text": [
      "{'Reactants': ['its triple bond'], 'Catalyst_Reagents': [], 'Solvent': [], 'Temperature': [], 'Product': ['13'], 'Yield': ['-loo %']}\n"
     ]
    },
    {
     "name": "stderr",
     "output_type": "stream",
     "text": [
      "Processed prompts: 100%|██████████| 1/1 [00:01<00:00,  1.90s/it, Generation Speed: 38.52 toks/s]\n",
      "100%|██████████| 1/1 [00:01<00:00,  1.90s/it]\n"
     ]
    },
    {
     "name": "stdout",
     "output_type": "stream",
     "text": [
      "{'Reactants': ['13', 'KOH', 'DMSO'], 'Workup_reagents': [], 'Solvent': ['DMSO'], 'Temperature': ['120 OC'], 'Product': ['5-heptylresorcinolg'], 'Yield': ['90 %']}\n"
     ]
    },
    {
     "name": "stderr",
     "output_type": "stream",
     "text": [
      "Processed prompts: 100%|██████████| 1/1 [00:01<00:00,  1.98s/it, Generation Speed: 37.49 toks/s]\n",
      "100%|██████████| 1/1 [00:01<00:00,  1.99s/it]\n"
     ]
    },
    {
     "name": "stdout",
     "output_type": "stream",
     "text": [
      "{'Reactants': ['5-heptylresorcinol', 'KOH', 'DMSO'], 'Catalyst_Reagents': [], 'Solvent': ['DMSO'], 'Temperature': ['120 OC'], 'Product': ['14'], 'Yield': ['90 %']}\n",
      "第6条数据\n"
     ]
    },
    {
     "name": "stderr",
     "output_type": "stream",
     "text": [
      "Processed prompts: 100%|██████████| 1/1 [00:01<00:00,  1.03s/it, Generation Speed: 32.08 toks/s]\n",
      "100%|██████████| 1/1 [00:01<00:00,  1.04s/it]\n"
     ]
    },
    {
     "name": "stdout",
     "output_type": "stream",
     "text": [
      "{'Reactants': ['13', 'lithium benzyl oxide'], 'Solvent': ['THF'], 'Product': ['15.']}\n",
      "第7条数据\n"
     ]
    },
    {
     "name": "stderr",
     "output_type": "stream",
     "text": [
      "Processed prompts: 100%|██████████| 1/1 [00:01<00:00,  1.10s/it, Generation Speed: 34.80 toks/s]\n",
      "100%|██████████| 1/1 [00:01<00:00,  1.10s/it]\n"
     ]
    },
    {
     "name": "stdout",
     "output_type": "stream",
     "text": [
      "{'Reactants': ['16', 'j3-(trimethylsilyl)ethanol'], 'Product': ['17'], 'Yield': ['80 %']}\n",
      "第8条数据\n"
     ]
    },
    {
     "name": "stderr",
     "output_type": "stream",
     "text": [
      "Processed prompts: 100%|██████████| 1/1 [00:01<00:00,  1.78s/it, Generation Speed: 33.69 toks/s]\n",
      "100%|██████████| 1/1 [00:01<00:00,  1.79s/it]\n"
     ]
    },
    {
     "name": "stdout",
     "output_type": "stream",
     "text": [
      "{'Reactants': ['17', '18'], 'Catalyst_Reagents': ['K2C03', '18-crown-6'], 'Solvent': ['acetone'], 'Yield': ['81 %'], 'Product': ['19.']}\n",
      "第9条数据\n"
     ]
    },
    {
     "name": "stderr",
     "output_type": "stream",
     "text": [
      "Processed prompts: 100%|██████████| 1/1 [00:01<00:00,  1.30s/it, Generation Speed: 33.12 toks/s]\n",
      "100%|██████████| 1/1 [00:01<00:00,  1.31s/it]\n"
     ]
    },
    {
     "name": "stdout",
     "output_type": "stream",
     "text": [
      "{'Product': ['11.'], 'Reactants': ['10'], 'Catalyst_Reagents': ['bromotrimethylsilane (TMSBr)', 'phosphorylation']}\n",
      "第10条数据\n"
     ]
    },
    {
     "name": "stderr",
     "output_type": "stream",
     "text": [
      "Processed prompts: 100%|██████████| 1/1 [00:01<00:00,  1.09s/it, Generation Speed: 28.41 toks/s]\n",
      "100%|██████████| 1/1 [00:01<00:00,  1.10s/it]\n"
     ]
    },
    {
     "name": "stdout",
     "output_type": "stream",
     "text": [
      "{'Product': ['3.'], 'Reactants': ['2', 'pyridinium bromide perbromide', 'acetic acid']}\n",
      "第11条数据\n"
     ]
    },
    {
     "name": "stderr",
     "output_type": "stream",
     "text": [
      "Processed prompts: 100%|██████████| 1/1 [00:01<00:00,  1.19s/it, Generation Speed: 35.50 toks/s]\n",
      "100%|██████████| 1/1 [00:01<00:00,  1.20s/it]\n"
     ]
    },
    {
     "name": "stdout",
     "output_type": "stream",
     "text": [
      "{'Reactants': ['ethyl 3,3-diamino-2-propenoatelg', '4', '2'], 'Product': ['1'], 'Yield': ['58 %']}\n",
      "第12条数据\n"
     ]
    },
    {
     "name": "stderr",
     "output_type": "stream",
     "text": [
      "Processed prompts: 100%|██████████| 1/1 [00:01<00:00,  1.83s/it, Generation Speed: 32.85 toks/s]\n",
      "100%|██████████| 1/1 [00:01<00:00,  1.84s/it]\n"
     ]
    },
    {
     "name": "stdout",
     "output_type": "stream",
     "text": [
      "{'Reactants': ['6', 'n-BuLi'], 'Product': ['4'], 'Solvent': ['Et2O', 't-BuOMe', 'hexane', 'cyclopentane'], 'Catalyst_Reagents': ['n-BuLi']}\n",
      "第13条数据\n"
     ]
    },
    {
     "name": "stderr",
     "output_type": "stream",
     "text": [
      "Processed prompts: 100%|██████████| 1/1 [00:01<00:00,  1.21s/it, Generation Speed: 32.42 toks/s]\n",
      "100%|██████████| 1/1 [00:01<00:00,  1.22s/it]\n"
     ]
    },
    {
     "name": "stdout",
     "output_type": "stream",
     "text": [
      "{'Product': ['2.'], 'Reactants': ['1'], 'Catalyst_Reagents': ['a 165 nucleotide ( nt ) RNA ( AA6 )']}\n",
      "第14条数据\n"
     ]
    },
    {
     "name": "stderr",
     "output_type": "stream",
     "text": [
      "Processed prompts: 100%|██████████| 1/1 [00:01<00:00,  1.37s/it, Generation Speed: 30.72 toks/s]\n",
      "100%|██████████| 1/1 [00:01<00:00,  1.38s/it]\n"
     ]
    },
    {
     "name": "stdout",
     "output_type": "stream",
     "text": [
      "{'Product': ['1'], 'Reactants': [\"5'-aminoadenosine derivative 2s\", 'biphenyl ester 3'], 'Solvent': ['CHCI,']}\n",
      "第15条数据\n"
     ]
    },
    {
     "name": "stderr",
     "output_type": "stream",
     "text": [
      "Processed prompts: 100%|██████████| 1/1 [00:01<00:00,  1.05s/it, Generation Speed: 31.56 toks/s]\n",
      "100%|██████████| 1/1 [00:01<00:00,  1.06s/it]\n"
     ]
    },
    {
     "name": "stdout",
     "output_type": "stream",
     "text": [
      "{'Reactants': ['imide acid chloride 46', 'biphenyl carboxylic acid 5'], 'Product': ['3']}\n",
      "第16条数据\n"
     ]
    },
    {
     "name": "stderr",
     "output_type": "stream",
     "text": [
      "Processed prompts: 100%|██████████| 1/1 [00:01<00:00,  1.12s/it, Generation Speed: 29.50 toks/s]\n",
      "100%|██████████| 1/1 [00:01<00:00,  1.13s/it]\n"
     ]
    },
    {
     "name": "stdout",
     "output_type": "stream",
     "text": [
      "{'Product': ['3-ﬂuoropentadecane'], 'Yield': ['22 %'], 'Solvent': ['acetone']}\n",
      "第17条数据\n"
     ]
    },
    {
     "name": "stderr",
     "output_type": "stream",
     "text": [
      "Processed prompts: 100%|██████████| 1/1 [00:01<00:00,  1.55s/it, Generation Speed: 30.96 toks/s]\n",
      "100%|██████████| 1/1 [00:01<00:00,  1.56s/it]\n"
     ]
    },
    {
     "name": "stdout",
     "output_type": "stream",
     "text": [
      "{'Reactants': ['N-acetyl+ galactosamine'], 'Product': ['7'], 'Yield': ['55 %'], 'Temperature': ['mp 165-166.5 “ C']}\n",
      "第18条数据\n"
     ]
    },
    {
     "name": "stderr",
     "output_type": "stream",
     "text": [
      "Processed prompts: 100%|██████████| 1/1 [00:01<00:00,  1.50s/it, Generation Speed: 29.34 toks/s]\n",
      "100%|██████████| 1/1 [00:01<00:00,  1.52s/it]\n"
     ]
    },
    {
     "name": "stdout",
     "output_type": "stream",
     "text": [
      "{'Reactants': ['allylic ether 5', 'MeMgBr'], 'Catalyst_Reagents': ['1'], 'Yield': ['70 %'], 'Product': ['10']}\n",
      "第19条数据\n"
     ]
    },
    {
     "name": "stderr",
     "output_type": "stream",
     "text": [
      "Processed prompts: 100%|██████████| 1/1 [00:00<00:00,  1.20it/s, Generation Speed: 24.06 toks/s]\n",
      "100%|██████████| 1/1 [00:00<00:00,  1.18it/s]\n"
     ]
    },
    {
     "name": "stdout",
     "output_type": "stream",
     "text": [
      "{'Reactants': ['35', 'alcohol'], 'Product': ['36']}\n",
      "第20条数据\n"
     ]
    },
    {
     "name": "stderr",
     "output_type": "stream",
     "text": [
      "Processed prompts: 100%|██████████| 1/1 [00:01<00:00,  1.54s/it, Generation Speed: 29.94 toks/s]\n",
      "100%|██████████| 1/1 [00:01<00:00,  1.55s/it]\n"
     ]
    },
    {
     "name": "stdout",
     "output_type": "stream",
     "text": [
      "{'Reactants': ['pivalonitrile', 'titanacyclobutane 1', \"Tebbe's reagent\"], 'Product': ['diazati- tanacyclohexadiene']}\n"
     ]
    },
    {
     "name": "stderr",
     "output_type": "stream",
     "text": [
      "Processed prompts: 100%|██████████| 1/1 [00:01<00:00,  1.34s/it, Generation Speed: 27.62 toks/s]\n",
      "100%|██████████| 1/1 [00:01<00:00,  1.35s/it]\n"
     ]
    },
    {
     "name": "stdout",
     "output_type": "stream",
     "text": [
      "{'Reactants': ['pivalonitrile', 'titanacyclobutane 1', \"Tebbe's reagent\"], 'Product': ['3']}\n",
      "第21条数据\n"
     ]
    },
    {
     "name": "stderr",
     "output_type": "stream",
     "text": [
      "Processed prompts: 100%|██████████| 1/1 [00:00<00:00,  2.18it/s, Generation Speed: 19.74 toks/s]\n",
      "100%|██████████| 1/1 [00:00<00:00,  2.14it/s]\n"
     ]
    },
    {
     "name": "stdout",
     "output_type": "stream",
     "text": [
      "{'Product': ['glycine']}\n",
      "第22条数据\n"
     ]
    },
    {
     "name": "stderr",
     "output_type": "stream",
     "text": [
      "Processed prompts: 100%|██████████| 1/1 [00:01<00:00,  1.12s/it, Generation Speed: 33.23 toks/s]\n",
      "100%|██████████| 1/1 [00:01<00:00,  1.13s/it]\n"
     ]
    },
    {
     "name": "stdout",
     "output_type": "stream",
     "text": [
      "{'Reactants': ['Gly - Gly'], 'Catalyst_Reagents': ['NaHCO3', 'HEPES'], 'Product': ['glycine']}\n",
      "第23条数据\n"
     ]
    },
    {
     "name": "stderr",
     "output_type": "stream",
     "text": [
      "Processed prompts: 100%|██████████| 1/1 [00:01<00:00,  1.27s/it, Generation Speed: 34.65 toks/s]\n",
      "100%|██████████| 1/1 [00:01<00:00,  1.28s/it]\n"
     ]
    },
    {
     "name": "stdout",
     "output_type": "stream",
     "text": [
      "{'Reactants': ['10'], 'Catalyst_Reagents': ['zirconium', 'methylalumination'], 'Product': ['11'], 'Yield': ['60 %']}\n",
      "第24条数据\n"
     ]
    },
    {
     "name": "stderr",
     "output_type": "stream",
     "text": [
      "Processed prompts: 100%|██████████| 1/1 [00:00<00:00,  1.25it/s, Generation Speed: 27.66 toks/s]\n",
      "100%|██████████| 1/1 [00:00<00:00,  1.24it/s]\n"
     ]
    },
    {
     "name": "stdout",
     "output_type": "stream",
     "text": [
      "{'Reactants': ['13', 'catecholborane'], 'Product': ['8']}\n",
      "第25条数据\n"
     ]
    },
    {
     "name": "stderr",
     "output_type": "stream",
     "text": [
      "Processed prompts: 100%|██████████| 1/1 [00:01<00:00,  1.78s/it, Generation Speed: 11.82 toks/s]\n",
      "100%|██████████| 1/1 [00:01<00:00,  1.79s/it]\n"
     ]
    },
    {
     "name": "stdout",
     "output_type": "stream",
     "text": [
      "{'Reactants': ['5-cyclononynone'], 'Product': ['11']}\n"
     ]
    },
    {
     "name": "stderr",
     "output_type": "stream",
     "text": [
      "Processed prompts: 100%|██████████| 1/1 [00:01<00:00,  1.34s/it, Generation Speed: 15.68 toks/s]\n",
      "100%|██████████| 1/1 [00:01<00:00,  1.35s/it]\n"
     ]
    },
    {
     "name": "stdout",
     "output_type": "stream",
     "text": [
      "{'Product': ['12'], 'Reactants': ['5-cyclononynone']}\n",
      "第26条数据\n"
     ]
    },
    {
     "name": "stderr",
     "output_type": "stream",
     "text": [
      "Processed prompts: 100%|██████████| 1/1 [00:00<00:00,  1.25it/s, Generation Speed: 26.28 toks/s]\n",
      "100%|██████████| 1/1 [00:00<00:00,  1.23it/s]\n"
     ]
    },
    {
     "name": "stdout",
     "output_type": "stream",
     "text": [
      "{'Reactants': ['the latter'], 'Temperature': ['room'], 'Product': ['3']}\n",
      "第27条数据\n"
     ]
    },
    {
     "name": "stderr",
     "output_type": "stream",
     "text": [
      "Processed prompts: 100%|██████████| 1/1 [00:00<00:00,  1.21it/s, Generation Speed: 19.47 toks/s]\n",
      "100%|██████████| 1/1 [00:00<00:00,  1.20it/s]\n"
     ]
    },
    {
     "name": "stdout",
     "output_type": "stream",
     "text": [
      "{'Reactants': ['13'], 'Product': ['14']}\n"
     ]
    },
    {
     "name": "stderr",
     "output_type": "stream",
     "text": [
      "Processed prompts: 100%|██████████| 1/1 [00:00<00:00,  1.17it/s, Generation Speed: 19.91 toks/s]\n",
      "100%|██████████| 1/1 [00:00<00:00,  1.16it/s]\n"
     ]
    },
    {
     "name": "stdout",
     "output_type": "stream",
     "text": [
      "{'Product': ['16.'], 'Reactants': ['13']}\n",
      "第28条数据\n"
     ]
    },
    {
     "name": "stderr",
     "output_type": "stream",
     "text": [
      "Processed prompts: 100%|██████████| 1/1 [00:00<00:00,  1.19it/s, Generation Speed: 22.72 toks/s]\n",
      "100%|██████████| 1/1 [00:00<00:00,  1.18it/s]\n"
     ]
    },
    {
     "name": "stdout",
     "output_type": "stream",
     "text": [
      "{'Product': ['1 la'], 'Reactants': ['9', 'lOd']}\n",
      "第29条数据\n"
     ]
    },
    {
     "name": "stderr",
     "output_type": "stream",
     "text": [
      "Processed prompts: 100%|██████████| 1/1 [00:01<00:00,  1.13s/it, Generation Speed: 32.85 toks/s]\n",
      "100%|██████████| 1/1 [00:01<00:00,  1.14s/it]\n"
     ]
    },
    {
     "name": "stdout",
     "output_type": "stream",
     "text": [
      "{'Reactants': ['23'], 'Catalyst_Reagents': ['NaBH4'], 'Yield': ['98 %'], 'Product': ['24']}\n",
      "第30条数据\n"
     ]
    },
    {
     "name": "stderr",
     "output_type": "stream",
     "text": [
      "Processed prompts: 100%|██████████| 1/1 [00:01<00:00,  1.01s/it, Generation Speed: 22.90 toks/s]\n",
      "100%|██████████| 1/1 [00:01<00:00,  1.02s/it]\n"
     ]
    },
    {
     "name": "stdout",
     "output_type": "stream",
     "text": [
      "{'Product': ['2,5-Dihydrofuran'], 'Temperature': ['465 K']}\n"
     ]
    },
    {
     "name": "stderr",
     "output_type": "stream",
     "text": [
      "Processed prompts: 100%|██████████| 1/1 [00:01<00:00,  1.19s/it, Generation Speed: 26.12 toks/s]\n",
      "100%|██████████| 1/1 [00:01<00:00,  1.20s/it]\n"
     ]
    },
    {
     "name": "stdout",
     "output_type": "stream",
     "text": [
      "{'Product': ['furan'], 'Reactants': ['2,5-Dihydrofuran'], 'Temperature': ['465 K']}\n",
      "第31条数据\n"
     ]
    },
    {
     "name": "stderr",
     "output_type": "stream",
     "text": [
      "Processed prompts: 100%|██████████| 1/1 [00:00<00:00,  2.11it/s, Generation Speed: 14.93 toks/s]\n",
      "100%|██████████| 1/1 [00:00<00:00,  2.07it/s]\n"
     ]
    },
    {
     "name": "stdout",
     "output_type": "stream",
     "text": [
      "{'Product': ['water']}\n"
     ]
    },
    {
     "name": "stderr",
     "output_type": "stream",
     "text": [
      "Processed prompts: 100%|██████████| 1/1 [00:00<00:00,  2.03it/s, Generation Speed: 16.26 toks/s]\n",
      "100%|██████████| 1/1 [00:00<00:00,  1.99it/s]\n"
     ]
    },
    {
     "name": "stdout",
     "output_type": "stream",
     "text": [
      "{'Product': ['carbon dioxide']}\n"
     ]
    },
    {
     "name": "stderr",
     "output_type": "stream",
     "text": [
      "Processed prompts: 100%|██████████| 1/1 [00:00<00:00,  1.61it/s, Generation Speed: 22.61 toks/s]\n",
      "100%|██████████| 1/1 [00:00<00:00,  1.59it/s]\n"
     ]
    },
    {
     "name": "stdout",
     "output_type": "stream",
     "text": [
      "{'Product': ['2(5H)-furanone']}\n"
     ]
    },
    {
     "name": "stderr",
     "output_type": "stream",
     "text": [
      "Processed prompts: 100%|██████████| 1/1 [00:00<00:00,  1.74it/s, Generation Speed: 20.97 toks/s]\n",
      "100%|██████████| 1/1 [00:00<00:00,  1.72it/s]\n"
     ]
    },
    {
     "name": "stdout",
     "output_type": "stream",
     "text": [
      "{'Product': ['maleic anhydride']}\n"
     ]
    },
    {
     "name": "stderr",
     "output_type": "stream",
     "text": [
      "Processed prompts: 100%|██████████| 1/1 [00:00<00:00,  1.56it/s, Generation Speed: 23.50 toks/s]\n",
      "100%|██████████| 1/1 [00:00<00:00,  1.53it/s]\n"
     ]
    },
    {
     "name": "stdout",
     "output_type": "stream",
     "text": [
      "{'Product': ['4-vinylcyclohexene']}\n"
     ]
    },
    {
     "name": "stderr",
     "output_type": "stream",
     "text": [
      "Processed prompts: 100%|██████████| 1/1 [00:00<00:00,  1.94it/s, Generation Speed: 17.60 toks/s]\n",
      "100%|██████████| 1/1 [00:00<00:00,  1.91it/s]\n"
     ]
    },
    {
     "name": "stdout",
     "output_type": "stream",
     "text": [
      "{'Product': ['styrene.']}\n",
      "第32条数据\n"
     ]
    },
    {
     "name": "stderr",
     "output_type": "stream",
     "text": [
      "Processed prompts: 100%|██████████| 1/1 [00:01<00:00,  1.07s/it, Generation Speed: 34.76 toks/s]\n",
      "100%|██████████| 1/1 [00:01<00:00,  1.07s/it]\n"
     ]
    },
    {
     "name": "stdout",
     "output_type": "stream",
     "text": [
      "{'Reactants': ['p proline'], 'Catalyst_Reagents': ['formic acid', 'acetic anhydride'], 'Product': ['25']}\n",
      "第33条数据\n"
     ]
    },
    {
     "name": "stderr",
     "output_type": "stream",
     "text": [
      "Processed prompts: 100%|██████████| 1/1 [00:01<00:00,  1.73s/it, Generation Speed: 38.16 toks/s]\n",
      "100%|██████████| 1/1 [00:01<00:00,  1.74s/it]\n"
     ]
    },
    {
     "name": "stdout",
     "output_type": "stream",
     "text": [
      "{'Reactants': ['(S)-2-(hydroxymethy1)-1 methylpyrrolidine'], 'Catalyst_Reagents': ['lithium aluminum hydride'], 'Product': ['(S)-2-(hy- droxymethy1)-1 methylpyrrolidine']}\n"
     ]
    },
    {
     "name": "stderr",
     "output_type": "stream",
     "text": [
      "Processed prompts: 100%|██████████| 1/1 [00:01<00:00,  1.39s/it, Generation Speed: 33.90 toks/s]\n",
      "100%|██████████| 1/1 [00:01<00:00,  1.40s/it]\n"
     ]
    },
    {
     "name": "stdout",
     "output_type": "stream",
     "text": [
      "{'Reactants': ['(S)-2-(hydroxymethyl)-1-methylpyrrolidine'], 'Catalyst_Reagents': ['lithium aluminum hydride'], 'Product': ['26']}\n",
      "第34条数据\n"
     ]
    },
    {
     "name": "stderr",
     "output_type": "stream",
     "text": [
      "Processed prompts: 100%|██████████| 1/1 [00:01<00:00,  1.94s/it, Generation Speed: 32.09 toks/s]\n",
      "100%|██████████| 1/1 [00:01<00:00,  1.95s/it]\n"
     ]
    },
    {
     "name": "stdout",
     "output_type": "stream",
     "text": [
      "{'Reactants': ['2-(chloromethyl)-l methylpyrrolidine', 'thionyl chloride'], 'Solvent': ['chloroform'], 'Product': ['hydrochloride salt of 2-(chloromethyl)-l methylpyrrolidine']}\n"
     ]
    },
    {
     "name": "stderr",
     "output_type": "stream",
     "text": [
      "Processed prompts: 100%|██████████| 1/1 [00:01<00:00,  1.40s/it, Generation Speed: 29.42 toks/s]\n",
      "100%|██████████| 1/1 [00:01<00:00,  1.41s/it]\n"
     ]
    },
    {
     "name": "stdout",
     "output_type": "stream",
     "text": [
      "{'Reactants': ['2-(chloromethyl)-1 methylpyrrolidine', 'thionyl chloride'], 'Solvent': ['chloroform'], 'Product': ['27']}\n",
      "第35条数据\n"
     ]
    },
    {
     "name": "stderr",
     "output_type": "stream",
     "text": [
      "Processed prompts: 100%|██████████| 1/1 [00:00<00:00,  1.13it/s, Generation Speed: 31.70 toks/s]\n",
      "100%|██████████| 1/1 [00:00<00:00,  1.12it/s]\n"
     ]
    },
    {
     "name": "stdout",
     "output_type": "stream",
     "text": [
      "{'Reactants': ['sodium cyanide'], 'Solvent': ['80 % ethanol'], 'Product': ['30']}\n",
      "第36条数据\n"
     ]
    },
    {
     "name": "stderr",
     "output_type": "stream",
     "text": [
      "Processed prompts: 100%|██████████| 1/1 [00:01<00:00,  1.51s/it, Generation Speed: 37.78 toks/s]\n",
      "100%|██████████| 1/1 [00:01<00:00,  1.52s/it]\n"
     ]
    },
    {
     "name": "stdout",
     "output_type": "stream",
     "text": [
      "{'Reactants': [], 'Catalyst_Reagents': ['concentrated HCI'], 'Product': ['1 -methylpyrrolidine-2-acetic acid'], 'Solvent': [], 'Temperature': ['refluxing']}\n"
     ]
    },
    {
     "name": "stderr",
     "output_type": "stream",
     "text": [
      "Processed prompts: 100%|██████████| 1/1 [00:00<00:00,  1.46it/s, Generation Speed: 26.30 toks/s]\n",
      "100%|██████████| 1/1 [00:00<00:00,  1.44it/s]\n"
     ]
    },
    {
     "name": "stdout",
     "output_type": "stream",
     "text": [
      "{'Reactants': ['concentrated HCI'], 'Product': ['33']}\n",
      "第37条数据\n"
     ]
    },
    {
     "name": "stderr",
     "output_type": "stream",
     "text": [
      "Processed prompts: 100%|██████████| 1/1 [00:01<00:00,  1.99s/it, Generation Speed: 32.19 toks/s]\n",
      "100%|██████████| 1/1 [00:01<00:00,  2.00s/it]\n"
     ]
    },
    {
     "name": "stdout",
     "output_type": "stream",
     "text": [
      "{'Reactants': ['sodium [1,2-13C2]acetate', 'sodium [IJ4C]acetate', 'trimethyl phosphate'], 'Product': [\"methyl [ 1,2- ' 3C2,1-14C]acetate\"]}\n"
     ]
    },
    {
     "name": "stderr",
     "output_type": "stream",
     "text": [
      "Processed prompts: 100%|██████████| 1/1 [00:01<00:00,  1.47s/it, Generation Speed: 29.34 toks/s]\n",
      "100%|██████████| 1/1 [00:01<00:00,  1.48s/it]\n"
     ]
    },
    {
     "name": "stdout",
     "output_type": "stream",
     "text": [
      "{'Reactants': ['sodium [1,2-13C2]acetate', 'sodium [IJ4C]acetate', 'trimethyl phosphate'], 'Product': ['B']}\n"
     ]
    },
    {
     "name": "stderr",
     "output_type": "stream",
     "text": [
      "Processed prompts: 100%|██████████| 1/1 [00:01<00:00,  1.33s/it, Generation Speed: 29.45 toks/s]\n",
      "100%|██████████| 1/1 [00:01<00:00,  1.34s/it]\n"
     ]
    },
    {
     "name": "stdout",
     "output_type": "stream",
     "text": [
      "{'Reactants': [\"methyl [ 1,2- ' 3C2,1-14C]acetate ( B )\"], 'Product': ['29']}\n",
      "第38条数据\n"
     ]
    },
    {
     "name": "stderr",
     "output_type": "stream",
     "text": [
      "Processed prompts: 100%|██████████| 1/1 [00:01<00:00,  1.68s/it, Generation Speed: 31.68 toks/s]\n",
      "100%|██████████| 1/1 [00:01<00:00,  1.69s/it]\n"
     ]
    },
    {
     "name": "stdout",
     "output_type": "stream",
     "text": [
      "{'Product': ['methyl (RS)-[ 1,2- 13C2 , 1 -14C]-4-( 1 -methyl-2-pyrrolidinyl)-3-oxobutanoate']}\n"
     ]
    },
    {
     "name": "stderr",
     "output_type": "stream",
     "text": [
      "Processed prompts: 100%|██████████| 1/1 [00:00<00:00,  1.54it/s, Generation Speed: 12.41 toks/s]\n",
      "100%|██████████| 1/1 [00:00<00:00,  1.52it/s]\n"
     ]
    },
    {
     "name": "stdout",
     "output_type": "stream",
     "text": [
      "{'Product': ['31']}\n",
      "第39条数据\n"
     ]
    },
    {
     "name": "stderr",
     "output_type": "stream",
     "text": [
      "Processed prompts: 100%|██████████| 1/1 [00:00<00:00,  1.04it/s, Generation Speed: 31.19 toks/s]\n",
      "100%|██████████| 1/1 [00:00<00:00,  1.03it/s]\n"
     ]
    },
    {
     "name": "stdout",
     "output_type": "stream",
     "text": [
      "{'Reactants': ['3a'], 'Product': ['4a'], 'Yield': ['high'], 'Solvent': ['water']}\n",
      "第40条数据\n"
     ]
    },
    {
     "name": "stderr",
     "output_type": "stream",
     "text": [
      "Processed prompts: 100%|██████████| 1/1 [00:02<00:00,  2.06s/it, Generation Speed: 38.91 toks/s]\n",
      "100%|██████████| 1/1 [00:02<00:00,  2.07s/it]\n"
     ]
    },
    {
     "name": "stdout",
     "output_type": "stream",
     "text": [
      "{'Reactants': ['allyl iodoacetate 3a', 'triethylborane'], 'Solvent': ['water'], 'Catalyst_Reagents': ['triethylborane'], 'Yield': ['67 %'], 'Temperature': ['25 (cid:176) C'], 'Time': ['3 h'], 'Product': ['4a']}\n",
      "第41条数据\n"
     ]
    },
    {
     "name": "stderr",
     "output_type": "stream",
     "text": [
      "Processed prompts: 100%|██████████| 1/1 [00:03<00:00,  3.29s/it, Generation Speed: 33.52 toks/s]\n",
      "100%|██████████| 1/1 [00:03<00:00,  3.30s/it]\n"
     ]
    },
    {
     "name": "stdout",
     "output_type": "stream",
     "text": [
      "{'Reactants': ['3-iodo- 1-methylquinolin-4(1H)-one', '4', 'phenylboronic acid', '8a'], 'Product': ['3-phenylquinolin-4(1H)-one'], 'Catalyst_Reagents': ['Pd(OAc)2', 'PPh3', 'Na2CO3'], 'Solvent': ['DME / EtOH'], 'Temperature': ['70 ° C'], 'Time': ['5 min']}\n"
     ]
    },
    {
     "name": "stderr",
     "output_type": "stream",
     "text": [
      "Processed prompts: 100%|██████████| 1/1 [00:02<00:00,  2.88s/it, Generation Speed: 34.43 toks/s]\n",
      "100%|██████████| 1/1 [00:02<00:00,  2.89s/it]\n"
     ]
    },
    {
     "name": "stdout",
     "output_type": "stream",
     "text": [
      "{'Reactants': ['3-iodo- 1-methylquinolin-4(1H)-one', '4', 'phenylboronic acid', '8a'], 'Product': ['9a'], 'Catalyst_Reagents': ['Pd(OAc)2', 'PPh3', 'Na2CO3'], 'Solvent': ['DME / EtOH'], 'Temperature': ['70 ° C'], 'Time': ['5 min']}\n",
      "第42条数据\n"
     ]
    },
    {
     "name": "stderr",
     "output_type": "stream",
     "text": [
      "Processed prompts: 100%|██████████| 1/1 [00:02<00:00,  2.33s/it, Generation Speed: 35.32 toks/s]\n",
      "100%|██████████| 1/1 [00:02<00:00,  2.33s/it]\n"
     ]
    },
    {
     "name": "stdout",
     "output_type": "stream",
     "text": [
      "{'Reactants': ['1- substituted-3-iodoquinolin-4(1H)-ones 4 and 6', '3-phenylquinolin-4(1H)-one 9a'], 'Product': ['3-phenylquinolin-4(1H)-one'], 'Yield': ['75 %'], 'Time': ['30 min']}\n"
     ]
    },
    {
     "name": "stderr",
     "output_type": "stream",
     "text": [
      "Processed prompts: 100%|██████████| 1/1 [00:01<00:00,  1.49s/it, Generation Speed: 29.59 toks/s]\n",
      "100%|██████████| 1/1 [00:01<00:00,  1.50s/it]\n"
     ]
    },
    {
     "name": "stdout",
     "output_type": "stream",
     "text": [
      "{'Reactants': ['3-phenylquinolin-4(1H)-one'], 'Product': ['9a'], 'Yield': ['75 %'], 'Time': ['30 min']}\n",
      "第43条数据\n"
     ]
    },
    {
     "name": "stderr",
     "output_type": "stream",
     "text": [
      "Processed prompts: 100%|██████████| 1/1 [00:00<00:00,  1.44it/s, Generation Speed: 20.20 toks/s]\n",
      "100%|██████████| 1/1 [00:00<00:00,  1.43it/s]\n"
     ]
    },
    {
     "name": "stdout",
     "output_type": "stream",
     "text": [
      "{'Reactants': ['B'], 'Product': ['C']}\n",
      "第44条数据\n"
     ]
    },
    {
     "name": "stderr",
     "output_type": "stream",
     "text": [
      "Processed prompts: 100%|██████████| 1/1 [00:00<00:00,  1.07it/s, Generation Speed: 29.01 toks/s]\n",
      "100%|██████████| 1/1 [00:00<00:00,  1.06it/s]\n"
     ]
    },
    {
     "name": "stdout",
     "output_type": "stream",
     "text": [
      "{'Reactants': ['3a', '(MeCN)3Cr(CO)3'], 'Product': ['4a']}\n"
     ]
    },
    {
     "name": "stderr",
     "output_type": "stream",
     "text": [
      "Processed prompts: 100%|██████████| 1/1 [00:00<00:00,  1.02it/s, Generation Speed: 29.80 toks/s]\n",
      "100%|██████████| 1/1 [00:00<00:00,  1.02it/s]\n"
     ]
    },
    {
     "name": "stdout",
     "output_type": "stream",
     "text": [
      "{'Reactants': ['3a', '(MeCN)3Cr(CO)3'], 'Product': [\"5a1'\"]}\n"
     ]
    },
    {
     "name": "stderr",
     "output_type": "stream",
     "text": [
      "Processed prompts: 100%|██████████| 1/1 [00:01<00:00,  1.18s/it, Generation Speed: 24.56 toks/s]\n",
      "100%|██████████| 1/1 [00:01<00:00,  1.19s/it]\n"
     ]
    },
    {
     "name": "stdout",
     "output_type": "stream",
     "text": [
      "{'Reactants': ['3b', '(MeCN)3Cr(CO)3'], 'Product': [\"4b1'\"]}\n"
     ]
    },
    {
     "name": "stderr",
     "output_type": "stream",
     "text": [
      "Processed prompts: 100%|██████████| 1/1 [00:00<00:00,  1.03it/s, Generation Speed: 28.75 toks/s]\n",
      "100%|██████████| 1/1 [00:00<00:00,  1.02it/s]\n"
     ]
    },
    {
     "name": "stdout",
     "output_type": "stream",
     "text": [
      "{'Reactants': ['3b', '(MeCN)3Cr(CO)3'], 'Product': [\"5b,''\"]}\n",
      "第45条数据\n"
     ]
    },
    {
     "name": "stderr",
     "output_type": "stream",
     "text": [
      "Processed prompts: 100%|██████████| 1/1 [00:00<00:00,  1.01it/s, Generation Speed: 31.36 toks/s]\n",
      "100%|██████████| 1/1 [00:00<00:00,  1.00it/s]\n"
     ]
    },
    {
     "name": "stdout",
     "output_type": "stream",
     "text": [
      "{'Reactants': ['4a', 'ethyl acrylate'], 'Product': ['6a'], 'Yield': ['86 %']}\n",
      "第46条数据\n"
     ]
    },
    {
     "name": "stderr",
     "output_type": "stream",
     "text": [
      "Processed prompts: 100%|██████████| 1/1 [00:01<00:00,  1.46s/it, Generation Speed: 34.26 toks/s]\n",
      "100%|██████████| 1/1 [00:01<00:00,  1.47s/it]\n"
     ]
    },
    {
     "name": "stdout",
     "output_type": "stream",
     "text": [
      "{'Reactants': ['tryptophan methyl ester', '9'], 'Product': ['12'], 'Yield': ['35 %'], 'Temperature': [\"140 'C\"], 'Time': ['3 h']}\n",
      "第47条数据\n"
     ]
    },
    {
     "name": "stderr",
     "output_type": "stream",
     "text": [
      "Processed prompts: 100%|██████████| 1/1 [00:00<00:00,  1.01it/s, Generation Speed: 30.29 toks/s]\n",
      "100%|██████████| 1/1 [00:00<00:00,  1.00it/s]\n"
     ]
    },
    {
     "name": "stdout",
     "output_type": "stream",
     "text": [
      "{'Reactants': ['6a', '7a'], 'Yield': ['23', '%'], 'Product': ['8a']}\n",
      "第48条数据\n"
     ]
    },
    {
     "name": "stderr",
     "output_type": "stream",
     "text": [
      "Processed prompts: 100%|██████████| 1/1 [00:01<00:00,  1.21s/it, Generation Speed: 37.29 toks/s]\n",
      "100%|██████████| 1/1 [00:01<00:00,  1.22s/it]\n"
     ]
    },
    {
     "name": "stdout",
     "output_type": "stream",
     "text": [
      "{'Product': ['2'], 'Reactants': ['1'], 'Catalyst_Reagents': ['electrochemical oxidation'], 'Product_Core': ['[Mu03(ri-MeC02)]']}\n",
      "第49条数据\n"
     ]
    },
    {
     "name": "stderr",
     "output_type": "stream",
     "text": [
      "Processed prompts: 100%|██████████| 1/1 [00:01<00:00,  1.66s/it, Generation Speed: 24.05 toks/s]\n",
      "100%|██████████| 1/1 [00:01<00:00,  1.67s/it]\n"
     ]
    },
    {
     "name": "stdout",
     "output_type": "stream",
     "text": [
      "{'Reactants': ['1a', '2a'], 'Product': ['spiro[4,5]trienone'], 'Catalyst_Reagents': ['18O']}\n"
     ]
    },
    {
     "name": "stderr",
     "output_type": "stream",
     "text": [
      "Processed prompts: 100%|██████████| 1/1 [00:01<00:00,  1.26s/it, Generation Speed: 15.85 toks/s]\n",
      "100%|██████████| 1/1 [00:01<00:00,  1.27s/it]\n"
     ]
    },
    {
     "name": "stdout",
     "output_type": "stream",
     "text": [
      "{'Reactants': ['1a', '2a'], 'Product': ['3a']}\n",
      "第50条数据\n"
     ]
    },
    {
     "name": "stderr",
     "output_type": "stream",
     "text": [
      "Processed prompts: 100%|██████████| 1/1 [00:01<00:00,  1.08s/it, Generation Speed: 26.98 toks/s]\n",
      "100%|██████████| 1/1 [00:01<00:00,  1.08s/it]\n"
     ]
    },
    {
     "name": "stdout",
     "output_type": "stream",
     "text": [
      "{'Reactants': ['sulfonylhydrazide 2', 'I2O5'], 'Product': ['4']}\n"
     ]
    },
    {
     "name": "stderr",
     "output_type": "stream",
     "text": [
      "Processed prompts: 100%|██████████| 1/1 [00:01<00:00,  1.11s/it, Generation Speed: 26.98 toks/s]\n",
      "100%|██████████| 1/1 [00:01<00:00,  1.12s/it]\n"
     ]
    },
    {
     "name": "stdout",
     "output_type": "stream",
     "text": [
      "{'Reactants': ['sulfonylhydrazide 2', 'I2O5'], 'Product': ['I2']}\n",
      "第51条数据\n"
     ]
    },
    {
     "name": "stderr",
     "output_type": "stream",
     "text": [
      "Processed prompts: 100%|██████████| 1/1 [00:01<00:00,  1.04s/it, Generation Speed: 29.94 toks/s]\n",
      "100%|██████████| 1/1 [00:01<00:00,  1.05s/it]\n"
     ]
    },
    {
     "name": "stdout",
     "output_type": "stream",
     "text": [
      "{'Reactants': ['sulfonyl radical 4', 'arylpropiolamide 1'], 'Product': ['vinyl radical']}\n"
     ]
    },
    {
     "name": "stderr",
     "output_type": "stream",
     "text": [
      "Processed prompts: 100%|██████████| 1/1 [00:01<00:00,  1.00s/it, Generation Speed: 29.97 toks/s]\n",
      "100%|██████████| 1/1 [00:01<00:00,  1.01s/it]\n"
     ]
    },
    {
     "name": "stdout",
     "output_type": "stream",
     "text": [
      "{'Reactants': ['sulfonyl radical 4', 'arylpropiolamide 1'], 'Product': ['5.']}\n",
      "第52条数据\n"
     ]
    },
    {
     "name": "stderr",
     "output_type": "stream",
     "text": [
      "Processed prompts: 100%|██████████| 1/1 [00:01<00:00,  1.08s/it, Generation Speed: 20.40 toks/s]\n",
      "100%|██████████| 1/1 [00:01<00:00,  1.09s/it]\n"
     ]
    },
    {
     "name": "stdout",
     "output_type": "stream",
     "text": [
      "{'Reactants': ['vinyl radical 5', 'aryl ring'], 'Product': ['6']}\n"
     ]
    },
    {
     "name": "stderr",
     "output_type": "stream",
     "text": [
      "Processed prompts: 100%|██████████| 1/1 [00:01<00:00,  1.02s/it, Generation Speed: 17.77 toks/s]\n",
      "100%|██████████| 1/1 [00:01<00:00,  1.03s/it]\n"
     ]
    },
    {
     "name": "stdout",
     "output_type": "stream",
     "text": [
      "{'Reactants': ['radical intermediate 6'], 'Product': ['7']}\n"
     ]
    },
    {
     "name": "stderr",
     "output_type": "stream",
     "text": [
      "Processed prompts: 100%|██████████| 1/1 [00:01<00:00,  1.26s/it, Generation Speed: 23.05 toks/s]\n",
      "100%|██████████| 1/1 [00:01<00:00,  1.27s/it]\n"
     ]
    },
    {
     "name": "stdout",
     "output_type": "stream",
     "text": [
      "{'Reactants': ['cyclohexadienyl cation 7', 'H2O'], 'Product': ['8']}\n",
      "第53条数据\n"
     ]
    },
    {
     "name": "stderr",
     "output_type": "stream",
     "text": [
      "Processed prompts: 100%|██████████| 1/1 [00:00<00:00,  1.24it/s, Generation Speed: 26.11 toks/s]\n",
      "100%|██████████| 1/1 [00:00<00:00,  1.23it/s]\n"
     ]
    },
    {
     "name": "stdout",
     "output_type": "stream",
     "text": [
      "{'Reactants': ['intermediate 8', 'TBHP'], 'Product': ['3']}\n",
      "第54条数据\n"
     ]
    },
    {
     "name": "stderr",
     "output_type": "stream",
     "text": [
      "Processed prompts: 100%|██████████| 1/1 [00:00<00:00,  1.20it/s, Generation Speed: 28.90 toks/s]\n",
      "100%|██████████| 1/1 [00:00<00:00,  1.19it/s]\n"
     ]
    },
    {
     "name": "stdout",
     "output_type": "stream",
     "text": [
      "{'Product': ['5'], 'Yield': [], 'Time': ['18 h', '2 h']}\n",
      "第55条数据\n"
     ]
    },
    {
     "name": "stderr",
     "output_type": "stream",
     "text": [
      "Processed prompts: 100%|██████████| 1/1 [00:00<00:00,  1.13it/s, Generation Speed: 31.86 toks/s]\n",
      "100%|██████████| 1/1 [00:00<00:00,  1.12it/s]\n"
     ]
    },
    {
     "name": "stdout",
     "output_type": "stream",
     "text": [
      "{'Product': ['5'], 'Yield': ['28 %', '67 %'], 'Time': ['2 h']}\n",
      "第56条数据\n"
     ]
    },
    {
     "name": "stderr",
     "output_type": "stream",
     "text": [
      "Processed prompts: 100%|██████████| 1/1 [00:00<00:00,  1.33it/s, Generation Speed: 22.72 toks/s]\n",
      "100%|██████████| 1/1 [00:00<00:00,  1.31it/s]\n"
     ]
    },
    {
     "name": "stdout",
     "output_type": "stream",
     "text": [
      "{'Reactants': ['l a'], 'Product': ['4a.']}\n",
      "第57条数据\n"
     ]
    },
    {
     "name": "stderr",
     "output_type": "stream",
     "text": [
      "Processed prompts: 100%|██████████| 1/1 [00:01<00:00,  1.90s/it, Generation Speed: 36.96 toks/s]\n",
      "100%|██████████| 1/1 [00:01<00:00,  1.91s/it]\n"
     ]
    },
    {
     "name": "stdout",
     "output_type": "stream",
     "text": [
      "{'Reactants': ['the two reactants'], 'Catalyst_Reagents': ['2 mol % palladium acetate', '2 mol % tris(2,6-dimethoxyphenyl)phosphine'], 'Solvent': ['THF'], 'Product': ['4a9']}\n"
     ]
    },
    {
     "name": "stderr",
     "output_type": "stream",
     "text": [
      "Processed prompts: 100%|██████████| 1/1 [00:01<00:00,  1.76s/it, Generation Speed: 36.50 toks/s]\n",
      "100%|██████████| 1/1 [00:01<00:00,  1.76s/it]\n"
     ]
    },
    {
     "name": "stdout",
     "output_type": "stream",
     "text": [
      "{'Reactants': ['the two reactants'], 'Catalyst_Reagents': ['2 mol % palladium acetate', '2 mol % tris(2,6-dimethoxyphenyl)phosphine'], 'Solvent': ['THF'], 'Product': ['5a9']}\n",
      "第58条数据\n"
     ]
    },
    {
     "name": "stderr",
     "output_type": "stream",
     "text": [
      "Processed prompts: 100%|██████████| 1/1 [00:00<00:00,  1.48it/s, Generation Speed: 23.80 toks/s]\n",
      "100%|██████████| 1/1 [00:00<00:00,  1.47it/s]\n"
     ]
    },
    {
     "name": "stdout",
     "output_type": "stream",
     "text": [
      "{'Reactants': ['2b'], 'Product': ['4b']}\n"
     ]
    },
    {
     "name": "stderr",
     "output_type": "stream",
     "text": [
      "Processed prompts: 100%|██████████| 1/1 [00:00<00:00,  1.25it/s, Generation Speed: 27.63 toks/s]\n",
      "100%|██████████| 1/1 [00:00<00:00,  1.24it/s]\n"
     ]
    },
    {
     "name": "stdout",
     "output_type": "stream",
     "text": [
      "{'Reactants': ['initial adduct', '2b'], 'Product': ['5b.']}\n",
      "第59条数据\n"
     ]
    },
    {
     "name": "stderr",
     "output_type": "stream",
     "text": [
      "Processed prompts: 100%|██████████| 1/1 [00:01<00:00,  1.30s/it, Generation Speed: 23.79 toks/s]\n",
      "100%|██████████| 1/1 [00:01<00:00,  1.31s/it]\n"
     ]
    },
    {
     "name": "stdout",
     "output_type": "stream",
     "text": [
      "{'Reactants': ['initial adduct 2b'], 'Product': ['3bI0'], 'Solvent': ['benzene']}\n"
     ]
    },
    {
     "name": "stderr",
     "output_type": "stream",
     "text": [
      "Processed prompts: 100%|██████████| 1/1 [00:01<00:00,  1.29s/it, Generation Speed: 23.26 toks/s]\n",
      "100%|██████████| 1/1 [00:01<00:00,  1.30s/it]\n"
     ]
    },
    {
     "name": "stdout",
     "output_type": "stream",
     "text": [
      "{'Reactants': ['initial adduct 2b'], 'Product': ['5b.'], 'Solvent': ['benzene']}\n",
      "第60条数据\n"
     ]
    },
    {
     "name": "stderr",
     "output_type": "stream",
     "text": [
      "Processed prompts: 100%|██████████| 1/1 [00:01<00:00,  1.00s/it, Generation Speed: 29.04 toks/s]\n",
      "100%|██████████| 1/1 [00:01<00:00,  1.01s/it]\n"
     ]
    },
    {
     "name": "stdout",
     "output_type": "stream",
     "text": [
      "{'Reactants': ['TDMPP', 'Pd(OAc)2', '5b'], 'Product': ['3b']}\n"
     ]
    },
    {
     "name": "stderr",
     "output_type": "stream",
     "text": [
      "Processed prompts: 100%|██████████| 1/1 [00:01<00:00,  1.03s/it, Generation Speed: 29.16 toks/s]\n",
      "100%|██████████| 1/1 [00:01<00:00,  1.04s/it]\n"
     ]
    },
    {
     "name": "stdout",
     "output_type": "stream",
     "text": [
      "{'Reactants': ['TDMPP', 'Pd(OAc)2', '3b'], 'Product': ['5b.']}\n",
      "第61条数据\n"
     ]
    },
    {
     "name": "stderr",
     "output_type": "stream",
     "text": [
      "Processed prompts: 100%|██████████| 1/1 [00:02<00:00,  2.76s/it, Generation Speed: 32.63 toks/s]\n",
      "100%|██████████| 1/1 [00:02<00:00,  2.77s/it]\n"
     ]
    },
    {
     "name": "stdout",
     "output_type": "stream",
     "text": [
      "{'Reactants': ['1a', '3a'], 'Product': ['3-benzazepine'], 'Catalyst_Reagents': ['Pd(PPh3)4', 'K3PO4'], 'Solvent': ['DMF'], 'Temperature': ['110 ° C'], 'Time': ['15 min'], 'Yield': ['13 %']}\n"
     ]
    },
    {
     "name": "stderr",
     "output_type": "stream",
     "text": [
      "Processed prompts: 100%|██████████| 1/1 [00:02<00:00,  2.33s/it, Generation Speed: 33.03 toks/s]\n",
      "100%|██████████| 1/1 [00:02<00:00,  2.34s/it]\n"
     ]
    },
    {
     "name": "stdout",
     "output_type": "stream",
     "text": [
      "{'Reactants': ['1a', '3a'], 'Product': ['4a'], 'Catalyst_Reagents': ['Pd(PPh3)4', 'K3PO4'], 'Solvent': ['DMF'], 'Temperature': ['110 ° C'], 'Time': ['15 min'], 'Yield': ['13 %']}\n",
      "第62条数据\n"
     ]
    },
    {
     "name": "stderr",
     "output_type": "stream",
     "text": [
      "Processed prompts: 100%|██████████| 1/1 [00:01<00:00,  1.04s/it, Generation Speed: 31.83 toks/s]\n",
      "100%|██████████| 1/1 [00:01<00:00,  1.05s/it]\n"
     ]
    },
    {
     "name": "stdout",
     "output_type": "stream",
     "text": [
      "{'Reactants': ['methanol'], 'Catalyst_Reagents': ['rhodium', 'iodide'], 'Product': ['acetic acid.']}\n",
      "第63条数据\n"
     ]
    },
    {
     "name": "stderr",
     "output_type": "stream",
     "text": [
      "Processed prompts: 100%|██████████| 1/1 [00:00<00:00,  1.26it/s, Generation Speed: 25.21 toks/s]\n",
      "100%|██████████| 1/1 [00:00<00:00,  1.24it/s]\n"
     ]
    },
    {
     "name": "stdout",
     "output_type": "stream",
     "text": [
      "{'Reactants': ['11', '21'], 'Product': ['22']}\n",
      "第64条数据\n"
     ]
    },
    {
     "name": "stderr",
     "output_type": "stream",
     "text": [
      "Processed prompts: 100%|██████████| 1/1 [00:01<00:00,  1.37s/it, Generation Speed: 34.40 toks/s]\n",
      "100%|██████████| 1/1 [00:01<00:00,  1.38s/it]\n"
     ]
    },
    {
     "name": "stdout",
     "output_type": "stream",
     "text": [
      "{'Reactants': ['2a', 'Ge-Si bonds'], 'Solvent': ['toluene'], 'Temperature': [\"100 'C\"], 'Product': ['tri-tert-butylsilane']}\n"
     ]
    },
    {
     "name": "stderr",
     "output_type": "stream",
     "text": [
      "Processed prompts: 100%|██████████| 1/1 [00:01<00:00,  1.31s/it, Generation Speed: 33.57 toks/s]\n",
      "100%|██████████| 1/1 [00:01<00:00,  1.32s/it]\n"
     ]
    },
    {
     "name": "stdout",
     "output_type": "stream",
     "text": [
      "{'Reactants': ['2a'], 'Solvent': ['toluene'], 'Temperature': [\"100 'C\"], 'Product': ['hexa-tert-butyldisilane']}\n"
     ]
    },
    {
     "name": "stderr",
     "output_type": "stream",
     "text": [
      "Processed prompts: 100%|██████████| 1/1 [00:01<00:00,  1.26s/it, Generation Speed: 33.52 toks/s]\n",
      "100%|██████████| 1/1 [00:01<00:00,  1.26s/it]\n"
     ]
    },
    {
     "name": "stdout",
     "output_type": "stream",
     "text": [
      "{'Reactants': ['2b'], 'Solvent': ['toluene'], 'Temperature': [\"100 'C\"], 'Product': ['tri-tert-butylgermane']}\n"
     ]
    },
    {
     "name": "stderr",
     "output_type": "stream",
     "text": [
      "Processed prompts: 100%|██████████| 1/1 [00:01<00:00,  1.31s/it, Generation Speed: 32.90 toks/s]\n",
      "100%|██████████| 1/1 [00:01<00:00,  1.32s/it]\n"
     ]
    },
    {
     "name": "stdout",
     "output_type": "stream",
     "text": [
      "{'Reactants': ['2b'], 'Solvent': ['toluene'], 'Temperature': [\"100 'C\"], 'Product': ['hexa-terr-butyldigermane']}\n",
      "第65条数据\n"
     ]
    },
    {
     "name": "stderr",
     "output_type": "stream",
     "text": [
      "Processed prompts: 100%|██████████| 1/1 [00:01<00:00,  1.72s/it, Generation Speed: 32.06 toks/s]\n",
      "100%|██████████| 1/1 [00:01<00:00,  1.73s/it]\n"
     ]
    },
    {
     "name": "stdout",
     "output_type": "stream",
     "text": [
      "{'Product': ['2,1'], 'Reactants': ['1r(CR = CRCR3.CR)(PPh3)2C1 ( 1-Cl , R = C02CH3)', '3-butyn-1-01']}\n"
     ]
    },
    {
     "name": "stderr",
     "output_type": "stream",
     "text": [
      "Processed prompts: 100%|██████████| 1/1 [00:00<00:00,  1.00it/s, Generation Speed: 22.09 toks/s]\n",
      "100%|██████████| 1/1 [00:01<00:00,  1.01s/it]\n"
     ]
    },
    {
     "name": "stdout",
     "output_type": "stream",
     "text": [
      "{'Product': ['3'], 'Reactants': ['1-C1', 'propargyl alcohol']}\n",
      "第66条数据\n"
     ]
    },
    {
     "name": "stderr",
     "output_type": "stream",
     "text": [
      "Processed prompts: 100%|██████████| 1/1 [00:02<00:00,  2.06s/it, Generation Speed: 36.93 toks/s]\n",
      "100%|██████████| 1/1 [00:02<00:00,  2.07s/it]\n"
     ]
    },
    {
     "name": "stdout",
     "output_type": "stream",
     "text": [
      "{'Reactants': ['2b', 'Me2-SiC12I7'], 'Solvent': ['Et20'], 'Temperature': ['-20 C'], 'Product': ['C2-sy etric bis(phosphine- borane )'], 'Yield': ['> 99 % ee']}\n"
     ]
    },
    {
     "name": "stderr",
     "output_type": "stream",
     "text": [
      "Processed prompts: 100%|██████████| 1/1 [00:01<00:00,  1.66s/it, Generation Speed: 33.72 toks/s]\n",
      "100%|██████████| 1/1 [00:01<00:00,  1.67s/it]\n"
     ]
    },
    {
     "name": "stdout",
     "output_type": "stream",
     "text": [
      "{'Reactants': ['2b', 'Me2-SiC12I7'], 'Solvent': ['Et20'], 'Temperature': ['-20 C'], 'Product': ['8'], 'Yield': ['> 99 % ee']}\n"
     ]
    },
    {
     "name": "stderr",
     "output_type": "stream",
     "text": [
      "Processed prompts: 100%|██████████| 1/1 [00:01<00:00,  1.45s/it, Generation Speed: 30.45 toks/s]\n",
      "100%|██████████| 1/1 [00:01<00:00,  1.46s/it]"
     ]
    },
    {
     "name": "stdout",
     "output_type": "stream",
     "text": [
      "{'Reactants': ['2b', 'Me2-SiC12I7'], 'Solvent': ['Et20'], 'Temperature': ['-20 C'], 'Product': ['9']}\n",
      "TP, FP, FN 275 139 124\n",
      "NER:  precision, recall 0.6642512077294686 0.6892230576441103\n",
      "NER:  f1_score 0.6765067650676506\n"
     ]
    },
    {
     "name": "stderr",
     "output_type": "stream",
     "text": [
      "\n"
     ]
    }
   ],
   "source": [
    "import os\n",
    "\n",
    "from evaluate import *\n",
    "from llm_re import *\n",
    "\n",
    "def main():\n",
    "    train_data,test_data=get_data()\n",
    "    prev_data=chem_re(train_data,test_data)\n",
    "    Reaction_f1(test_data,prev_data)\n",
    "\n",
    "main()"
   ]
  },
  {
   "cell_type": "markdown",
   "metadata": {},
   "source": [
    "使用微调后的llm\n",
    "TP, FP, FN 310 90 89\n",
    "NER:  precision, recall 0.775 0.7769423558897243\n",
    "NER:  f1_score 0.7759699624530663"
   ]
  },
  {
   "cell_type": "code",
   "execution_count": null,
   "metadata": {},
   "outputs": [
    {
     "name": "stderr",
     "output_type": "stream",
     "text": [
      "/data/lizh/Conda/anaconda3/envs/vllm/lib/python3.9/site-packages/tqdm/auto.py:21: TqdmWarning: IProgress not found. Please update jupyter and ipywidgets. See https://ipywidgets.readthedocs.io/en/stable/user_install.html\n",
      "  from .autonotebook import tqdm as notebook_tqdm\n",
      "2024-12-06 17:29:59,312\tINFO util.py:154 -- Missing packages: ['ipywidgets']. Run `pip install -U ipywidgets`, then restart the notebook server for rich notebook output.\n",
      "2024-12-06 17:30:03,685\tINFO worker.py:1771 -- Started a local Ray instance.\n"
     ]
    },
    {
     "name": "stdout",
     "output_type": "stream",
     "text": [
      "INFO 12-06 17:30:04 llm_engine.py:161] Initializing an LLM engine (v0.4.3) with config: model='/data/lizh/LLaMA-Factory-main/models/qwen2.5_14b_ptsft', speculative_config=None, tokenizer='/data/lizh/LLaMA-Factory-main/models/qwen2.5_14b_ptsft', skip_tokenizer_init=False, tokenizer_mode=auto, revision=None, rope_scaling=None, tokenizer_revision=None, trust_remote_code=False, dtype=torch.bfloat16, max_seq_len=32768, download_dir=None, load_format=LoadFormat.AUTO, tensor_parallel_size=4, disable_custom_all_reduce=False, quantization=None, enforce_eager=False, kv_cache_dtype=auto, quantization_param_path=None, device_config=cuda, decoding_config=DecodingConfig(guided_decoding_backend='outlines'), seed=0, served_model_name=/data/lizh/LLaMA-Factory-main/models/qwen2.5_14b_ptsft)\n",
      "INFO 12-06 17:30:23 utils.py:618] Found nccl from library libnccl.so.2\n",
      "INFO 12-06 17:30:23 pynccl.py:65] vLLM is using nccl==2.20.5\n",
      "\u001b[36m(RayWorkerWrapper pid=3588554)\u001b[0m INFO 12-06 17:30:23 utils.py:618] Found nccl from library libnccl.so.2\n",
      "\u001b[36m(RayWorkerWrapper pid=3588554)\u001b[0m INFO 12-06 17:30:23 pynccl.py:65] vLLM is using nccl==2.20.5\n",
      "WARNING 12-06 17:30:26 custom_all_reduce.py:158] Custom allreduce is disabled because it's not supported on more than two PCIe-only GPUs. To silence this warning, specify disable_custom_all_reduce=True explicitly.\n",
      "\u001b[36m(RayWorkerWrapper pid=3588554)\u001b[0m WARNING 12-06 17:30:26 custom_all_reduce.py:158] Custom allreduce is disabled because it's not supported on more than two PCIe-only GPUs. To silence this warning, specify disable_custom_all_reduce=True explicitly.\n",
      "INFO 12-06 17:30:31 model_runner.py:146] Loading model weights took 6.9459 GB\n",
      "\u001b[36m(RayWorkerWrapper pid=3588725)\u001b[0m INFO 12-06 17:30:31 model_runner.py:146] Loading model weights took 6.9459 GB\n",
      "\u001b[36m(RayWorkerWrapper pid=3588814)\u001b[0m INFO 12-06 17:30:23 utils.py:618] Found nccl from library libnccl.so.2\u001b[32m [repeated 2x across cluster] (Ray deduplicates logs by default. Set RAY_DEDUP_LOGS=0 to disable log deduplication, or see https://docs.ray.io/en/master/ray-observability/user-guides/configure-logging.html#log-deduplication for more options.)\u001b[0m\n",
      "\u001b[36m(RayWorkerWrapper pid=3588814)\u001b[0m INFO 12-06 17:30:23 pynccl.py:65] vLLM is using nccl==2.20.5\u001b[32m [repeated 2x across cluster]\u001b[0m\n",
      "\u001b[36m(RayWorkerWrapper pid=3588814)\u001b[0m WARNING 12-06 17:30:26 custom_all_reduce.py:158] Custom allreduce is disabled because it's not supported on more than two PCIe-only GPUs. To silence this warning, specify disable_custom_all_reduce=True explicitly.\u001b[32m [repeated 2x across cluster]\u001b[0m\n",
      "INFO 12-06 17:30:49 distributed_gpu_executor.py:56] # GPU blocks: 62580, # CPU blocks: 5461\n",
      "INFO 12-06 17:31:00 model_runner.py:854] Capturing the model for CUDA graphs. This may lead to unexpected consequences if the model is not static. To run the model in eager mode, set 'enforce_eager=True' or use '--enforce-eager' in the CLI.\n",
      "INFO 12-06 17:31:00 model_runner.py:858] CUDA graphs can take additional 1~3 GiB memory per GPU. If you are running out of memory, consider decreasing `gpu_memory_utilization` or enforcing eager mode. You can also reduce the `max_num_seqs` as needed to decrease memory usage.\n",
      "\u001b[36m(RayWorkerWrapper pid=3588725)\u001b[0m INFO 12-06 17:31:02 model_runner.py:854] Capturing the model for CUDA graphs. This may lead to unexpected consequences if the model is not static. To run the model in eager mode, set 'enforce_eager=True' or use '--enforce-eager' in the CLI.\n",
      "\u001b[36m(RayWorkerWrapper pid=3588725)\u001b[0m INFO 12-06 17:31:02 model_runner.py:858] CUDA graphs can take additional 1~3 GiB memory per GPU. If you are running out of memory, consider decreasing `gpu_memory_utilization` or enforcing eager mode. You can also reduce the `max_num_seqs` as needed to decrease memory usage.\n",
      "\u001b[36m(RayWorkerWrapper pid=3588814)\u001b[0m INFO 12-06 17:30:32 model_runner.py:146] Loading model weights took 6.9459 GB\u001b[32m [repeated 2x across cluster]\u001b[0m\n",
      "INFO 12-06 17:31:37 model_runner.py:924] Graph capturing finished in 37 secs.\n",
      "\u001b[36m(RayWorkerWrapper pid=3588554)\u001b[0m INFO 12-06 17:31:37 model_runner.py:924] Graph capturing finished in 35 secs.\n",
      "\u001b[36m(RayWorkerWrapper pid=3588554)\u001b[0m INFO 12-06 17:31:02 model_runner.py:854] Capturing the model for CUDA graphs. This may lead to unexpected consequences if the model is not static. To run the model in eager mode, set 'enforce_eager=True' or use '--enforce-eager' in the CLI.\u001b[32m [repeated 2x across cluster]\u001b[0m\n",
      "\u001b[36m(RayWorkerWrapper pid=3588554)\u001b[0m INFO 12-06 17:31:02 model_runner.py:858] CUDA graphs can take additional 1~3 GiB memory per GPU. If you are running out of memory, consider decreasing `gpu_memory_utilization` or enforcing eager mode. You can also reduce the `max_num_seqs` as needed to decrease memory usage.\u001b[32m [repeated 2x across cluster]\u001b[0m\n",
      "第0条数据\n"
     ]
    },
    {
     "name": "stderr",
     "output_type": "stream",
     "text": [
      "Processed prompts: 100%|██████████| 1/1 [00:01<00:00,  1.66s/it, Generation Speed: 24.71 toks/s]\n",
      "100%|██████████| 1/1 [00:01<00:00,  1.70s/it]\n"
     ]
    },
    {
     "name": "stdout",
     "output_type": "stream",
     "text": [
      "{'Reactants': ['diphenylacetylene', '19A'], 'Product': ['cycloheptadienone'], 'Yield': ['30 %']}\n"
     ]
    },
    {
     "name": "stderr",
     "output_type": "stream",
     "text": [
      "Processed prompts: 100%|██████████| 1/1 [00:01<00:00,  1.62s/it, Generation Speed: 22.22 toks/s]\n",
      "100%|██████████| 1/1 [00:01<00:00,  1.63s/it]\n"
     ]
    },
    {
     "name": "stdout",
     "output_type": "stream",
     "text": [
      "{'Reactants': ['diphenylacetylene', '19A'], 'Product': ['23A'], 'Yield': ['30 %']}\n"
     ]
    },
    {
     "name": "stderr",
     "output_type": "stream",
     "text": [
      "Processed prompts: 100%|██████████| 1/1 [00:01<00:00,  1.52s/it, Generation Speed: 27.09 toks/s]\n",
      "100%|██████████| 1/1 [00:01<00:00,  1.53s/it]\n"
     ]
    },
    {
     "name": "stdout",
     "output_type": "stream",
     "text": [
      "{'Reactants': ['(phenylcyclopropy1)- carbene complex', '19B'], 'Product': ['25'], 'Yield': ['53 %']}\n",
      "第1条数据\n"
     ]
    },
    {
     "name": "stderr",
     "output_type": "stream",
     "text": [
      "Processed prompts: 100%|██████████| 1/1 [00:02<00:00,  2.24s/it, Generation Speed: 32.62 toks/s]\n",
      "100%|██████████| 1/1 [00:02<00:00,  2.25s/it]\n"
     ]
    },
    {
     "name": "stdout",
     "output_type": "stream",
     "text": [
      "{'Reactants': ['2.0 equiv of copper acetate'], 'Solvent': ['DMSO'], 'Product': ['2-(3-(methylthio)naphthalen-2-yl)pyridine'], 'Yield': ['89 %'], 'Temperature': ['125 ° C']}\n"
     ]
    },
    {
     "name": "stderr",
     "output_type": "stream",
     "text": [
      "Processed prompts: 100%|██████████| 1/1 [00:01<00:00,  1.70s/it, Generation Speed: 31.86 toks/s]\n",
      "100%|██████████| 1/1 [00:01<00:00,  1.71s/it]\n"
     ]
    },
    {
     "name": "stdout",
     "output_type": "stream",
     "text": [
      "{'Catalyst_Reagents': ['copper acetate'], 'Solvent': ['DMSO'], 'Product': ['2b'], 'Yield': ['89 %'], 'Temperature': ['125 ° C']}\n",
      "第2条数据\n"
     ]
    },
    {
     "name": "stderr",
     "output_type": "stream",
     "text": [
      "Processed prompts: 100%|██████████| 1/1 [00:01<00:00,  1.06s/it, Generation Speed: 27.49 toks/s]\n",
      "100%|██████████| 1/1 [00:01<00:00,  1.06s/it]\n"
     ]
    },
    {
     "name": "stdout",
     "output_type": "stream",
     "text": [
      "{'Reactants': ['Me3SiCH2MgC1', '02'], 'Product': ['Me3SiOH']}\n"
     ]
    },
    {
     "name": "stderr",
     "output_type": "stream",
     "text": [
      "Processed prompts: 100%|██████████| 1/1 [00:01<00:00,  1.14s/it, Generation Speed: 28.00 toks/s]\n",
      "100%|██████████| 1/1 [00:01<00:00,  1.15s/it]\n"
     ]
    },
    {
     "name": "stdout",
     "output_type": "stream",
     "text": [
      "{'Reactants': ['Me3SiCH2MgC1', '02'], 'Product': ['(Me3Si)20']}\n"
     ]
    },
    {
     "name": "stderr",
     "output_type": "stream",
     "text": [
      "Processed prompts: 100%|██████████| 1/1 [00:01<00:00,  1.24s/it, Generation Speed: 25.04 toks/s]\n",
      "100%|██████████| 1/1 [00:01<00:00,  1.25s/it]\n"
     ]
    },
    {
     "name": "stdout",
     "output_type": "stream",
     "text": [
      "{'Reactants': ['Me3SiCH2MgC1', '02'], 'Product': ['CH20.22']}\n",
      "第3条数据\n"
     ]
    },
    {
     "name": "stderr",
     "output_type": "stream",
     "text": [
      "Processed prompts: 100%|██████████| 1/1 [00:01<00:00,  1.59s/it, Generation Speed: 28.96 toks/s]\n",
      "100%|██████████| 1/1 [00:01<00:00,  1.60s/it]\n"
     ]
    },
    {
     "name": "stdout",
     "output_type": "stream",
     "text": [
      "{'Reactants': ['8', 'acetone'], 'Catalyst_Reagents': ['trifluoroacetic acid-tri- fluoroacetic anhydride'], 'Product': ['9.']}\n",
      "第4条数据\n"
     ]
    },
    {
     "name": "stderr",
     "output_type": "stream",
     "text": [
      "Processed prompts: 100%|██████████| 1/1 [00:01<00:00,  1.23s/it, Generation Speed: 20.45 toks/s]\n",
      "100%|██████████| 1/1 [00:01<00:00,  1.23s/it]\n"
     ]
    },
    {
     "name": "stdout",
     "output_type": "stream",
     "text": [
      "{'Reactants': ['10'], 'Product': ['11'], 'Yield': ['92 %']}\n"
     ]
    },
    {
     "name": "stderr",
     "output_type": "stream",
     "text": [
      "Processed prompts: 100%|██████████| 1/1 [00:02<00:00,  2.31s/it, Generation Speed: 27.73 toks/s]\n",
      "100%|██████████| 1/1 [00:02<00:00,  2.32s/it]\n"
     ]
    },
    {
     "name": "stdout",
     "output_type": "stream",
     "text": [
      "{'Reactants': ['11', '1-heptyne'], 'Catalyst_Reagents': ['bis(triphenylphosphine)palladium(II) chloride', 'triethylamine- DMF'], 'Product': ['12.'], 'Yield': ['68 %']}\n",
      "第5条数据\n"
     ]
    },
    {
     "name": "stderr",
     "output_type": "stream",
     "text": [
      "Processed prompts: 100%|██████████| 1/1 [00:00<00:00,  1.02it/s, Generation Speed: 25.54 toks/s]\n",
      "100%|██████████| 1/1 [00:00<00:00,  1.01it/s]\n"
     ]
    },
    {
     "name": "stdout",
     "output_type": "stream",
     "text": [
      "{'Reactants': ['12'], 'Product': ['13'], 'Yield': ['-loo %']}\n"
     ]
    },
    {
     "name": "stderr",
     "output_type": "stream",
     "text": [
      "Processed prompts: 100%|██████████| 1/1 [00:02<00:00,  2.25s/it, Generation Speed: 24.05 toks/s]\n",
      "100%|██████████| 1/1 [00:02<00:00,  2.26s/it]\n"
     ]
    },
    {
     "name": "stdout",
     "output_type": "stream",
     "text": [
      "{'Reactants': ['13', 'KOH - DMSO'], 'Temperature': ['120 OC'], 'Product': ['5-heptylresorcinolg'], 'Yield': ['90 %', 'from 12']}\n"
     ]
    },
    {
     "name": "stderr",
     "output_type": "stream",
     "text": [
      "Processed prompts: 100%|██████████| 1/1 [00:01<00:00,  1.46s/it, Generation Speed: 31.49 toks/s]\n",
      "100%|██████████| 1/1 [00:01<00:00,  1.47s/it]\n"
     ]
    },
    {
     "name": "stdout",
     "output_type": "stream",
     "text": [
      "第6条数据\n"
     ]
    },
    {
     "name": "stderr",
     "output_type": "stream",
     "text": [
      "Processed prompts: 100%|██████████| 1/1 [00:01<00:00,  1.20s/it, Generation Speed: 27.54 toks/s]\n",
      "100%|██████████| 1/1 [00:01<00:00,  1.21s/it]\n"
     ]
    },
    {
     "name": "stdout",
     "output_type": "stream",
     "text": [
      "{'Reactants': ['13', 'lithium benzyl oxide'], 'Solvent': ['THF'], 'Product': ['15.']}\n",
      "第7条数据\n"
     ]
    },
    {
     "name": "stderr",
     "output_type": "stream",
     "text": [
      "Processed prompts: 100%|██████████| 1/1 [00:01<00:00,  1.30s/it, Generation Speed: 29.32 toks/s]\n",
      "100%|██████████| 1/1 [00:01<00:00,  1.31s/it]\n"
     ]
    },
    {
     "name": "stdout",
     "output_type": "stream",
     "text": [
      "{'Reactants': ['16', 'j3-(trimethylsilyl)ethanol'], 'Product': ['17'], 'Yield': ['80 %']}\n",
      "第8条数据\n"
     ]
    },
    {
     "name": "stderr",
     "output_type": "stream",
     "text": [
      "Processed prompts: 100%|██████████| 1/1 [00:02<00:00,  2.14s/it, Generation Speed: 28.03 toks/s]\n",
      "100%|██████████| 1/1 [00:02<00:00,  2.15s/it]\n"
     ]
    },
    {
     "name": "stdout",
     "output_type": "stream",
     "text": [
      "{'Reactants': ['17', '18'], 'Catalyst_Reagents': ['K2C03', '18-crown-6'], 'Solvent': ['acetone'], 'Yield': ['81 %'], 'Product': ['19.']}\n",
      "第9条数据\n"
     ]
    },
    {
     "name": "stderr",
     "output_type": "stream",
     "text": [
      "Processed prompts: 100%|██████████| 1/1 [00:01<00:00,  1.36s/it, Generation Speed: 27.93 toks/s]\n",
      "100%|██████████| 1/1 [00:01<00:00,  1.37s/it]\n"
     ]
    },
    {
     "name": "stdout",
     "output_type": "stream",
     "text": [
      "{'Reactants': ['10'], 'Catalyst_Reagents': ['bromotrimethylsilane', 'TMSBr'], 'Product': ['11.']}\n",
      "第10条数据\n"
     ]
    },
    {
     "name": "stderr",
     "output_type": "stream",
     "text": [
      "Processed prompts: 100%|██████████| 1/1 [00:01<00:00,  1.39s/it, Generation Speed: 23.06 toks/s]\n",
      "100%|██████████| 1/1 [00:01<00:00,  1.40s/it]\n"
     ]
    },
    {
     "name": "stdout",
     "output_type": "stream",
     "text": [
      "{'Reactants': ['2', 'pyridinium bromide perbromidel8', 'acetic acid'], 'Product': ['3.']}\n",
      "第11条数据\n"
     ]
    },
    {
     "name": "stderr",
     "output_type": "stream",
     "text": [
      "Processed prompts: 100%|██████████| 1/1 [00:01<00:00,  1.40s/it, Generation Speed: 28.04 toks/s]\n",
      "100%|██████████| 1/1 [00:01<00:00,  1.41s/it]\n"
     ]
    },
    {
     "name": "stdout",
     "output_type": "stream",
     "text": [
      "{'Reactants': ['ethyl 3,3-diamino-2-propenoatelg', '4'], 'Product': ['1'], 'Yield': ['58 %']}\n",
      "第12条数据\n"
     ]
    },
    {
     "name": "stderr",
     "output_type": "stream",
     "text": [
      "Processed prompts: 100%|██████████| 1/1 [00:01<00:00,  1.90s/it, Generation Speed: 29.03 toks/s]\n",
      "100%|██████████| 1/1 [00:01<00:00,  1.91s/it]\n"
     ]
    },
    {
     "name": "stdout",
     "output_type": "stream",
     "text": [
      "{'Product': ['4'], 'Reactants': ['6', 'n- butyllithium', 'n-BuLi'], 'Solvent': ['Et2O', 't-BuOMe', 'hexane', 'cyclopentane']}\n",
      "第13条数据\n"
     ]
    },
    {
     "name": "stderr",
     "output_type": "stream",
     "text": [
      "Processed prompts: 100%|██████████| 1/1 [00:01<00:00,  1.34s/it, Generation Speed: 19.39 toks/s]\n",
      "100%|██████████| 1/1 [00:01<00:00,  1.35s/it]\n"
     ]
    },
    {
     "name": "stdout",
     "output_type": "stream",
     "text": [
      "{'Catalyst_Reagents': ['AA6'], 'Reactants': ['1'], 'Product': ['2.']}\n",
      "第14条数据\n"
     ]
    },
    {
     "name": "stderr",
     "output_type": "stream",
     "text": [
      "Processed prompts: 100%|██████████| 1/1 [00:01<00:00,  1.49s/it, Generation Speed: 18.13 toks/s]\n",
      "100%|██████████| 1/1 [00:01<00:00,  1.50s/it]\n"
     ]
    },
    {
     "name": "stdout",
     "output_type": "stream",
     "text": [
      "{'Product': ['1'], 'Reactants': ['2s', '3'], 'Solvent': ['CHCI,']}\n",
      "第15条数据\n"
     ]
    },
    {
     "name": "stderr",
     "output_type": "stream",
     "text": [
      "Processed prompts: 100%|██████████| 1/1 [00:00<00:00,  1.15it/s, Generation Speed: 20.68 toks/s]\n",
      "100%|██████████| 1/1 [00:00<00:00,  1.14it/s]\n"
     ]
    },
    {
     "name": "stdout",
     "output_type": "stream",
     "text": [
      "{'Reactants': ['46', '5'], 'Product': ['3']}\n",
      "第16条数据\n"
     ]
    },
    {
     "name": "stderr",
     "output_type": "stream",
     "text": [
      "Processed prompts: 100%|██████████| 1/1 [00:01<00:00,  1.45s/it, Generation Speed: 24.77 toks/s]\n",
      "100%|██████████| 1/1 [00:01<00:00,  1.46s/it]\n"
     ]
    },
    {
     "name": "stdout",
     "output_type": "stream",
     "text": [
      "{'Solvent': ['acetone'], 'Yield': ['22 %'], 'Product': ['3-ŏluoropentadecane']}\n",
      "第17条数据\n"
     ]
    },
    {
     "name": "stderr",
     "output_type": "stream",
     "text": [
      "Processed prompts: 100%|██████████| 1/1 [00:01<00:00,  1.45s/it, Generation Speed: 20.76 toks/s]\n",
      "100%|██████████| 1/1 [00:01<00:00,  1.45s/it]\n"
     ]
    },
    {
     "name": "stdout",
     "output_type": "stream",
     "text": [
      "{'Product': ['7'], 'Yield': ['55 %'], 'Reactants': ['N-acetyl+ galactosamine']}\n",
      "第18条数据\n"
     ]
    },
    {
     "name": "stderr",
     "output_type": "stream",
     "text": [
      "Processed prompts: 100%|██████████| 1/1 [00:01<00:00,  1.73s/it, Generation Speed: 23.11 toks/s]\n",
      "100%|██████████| 1/1 [00:01<00:00,  1.74s/it]\n"
     ]
    },
    {
     "name": "stdout",
     "output_type": "stream",
     "text": [
      "{'Reactants': ['5'], 'Catalyst_Reagents': ['MeMgBr', '1'], 'Product': ['10'], 'Yield': ['70 %']}\n",
      "第19条数据\n"
     ]
    },
    {
     "name": "stderr",
     "output_type": "stream",
     "text": [
      "Processed prompts: 100%|██████████| 1/1 [00:00<00:00,  1.29it/s, Generation Speed: 20.68 toks/s]\n",
      "100%|██████████| 1/1 [00:00<00:00,  1.27it/s]\n"
     ]
    },
    {
     "name": "stdout",
     "output_type": "stream",
     "text": [
      "{'Reactants': ['35'], 'Product': ['36']}\n",
      "第20条数据\n"
     ]
    },
    {
     "name": "stderr",
     "output_type": "stream",
     "text": [
      "Processed prompts: 100%|██████████| 1/1 [00:01<00:00,  1.87s/it, Generation Speed: 16.08 toks/s]\n",
      "100%|██████████| 1/1 [00:01<00:00,  1.88s/it]\n"
     ]
    },
    {
     "name": "stdout",
     "output_type": "stream",
     "text": [
      "{'Reactants': ['pivalonitrile', '1'], 'Product': ['diazati- tanacyclohexadiene']}\n"
     ]
    },
    {
     "name": "stderr",
     "output_type": "stream",
     "text": [
      "Processed prompts: 100%|██████████| 1/1 [00:01<00:00,  1.30s/it, Generation Speed: 16.22 toks/s]\n",
      "100%|██████████| 1/1 [00:01<00:00,  1.31s/it]\n"
     ]
    },
    {
     "name": "stdout",
     "output_type": "stream",
     "text": [
      "{'Reactants': ['pivalonitrile', '1'], 'Product': ['3']}\n",
      "第21条数据\n"
     ]
    },
    {
     "name": "stderr",
     "output_type": "stream",
     "text": [
      "Processed prompts: 100%|██████████| 1/1 [00:00<00:00,  1.89it/s, Generation Speed: 17.13 toks/s]\n",
      "100%|██████████| 1/1 [00:00<00:00,  1.85it/s]\n"
     ]
    },
    {
     "name": "stdout",
     "output_type": "stream",
     "text": [
      "{'Product': ['glycine']}\n",
      "第22条数据\n"
     ]
    },
    {
     "name": "stderr",
     "output_type": "stream",
     "text": [
      "Processed prompts: 100%|██████████| 1/1 [00:00<00:00,  1.34it/s, Generation Speed: 26.86 toks/s]\n",
      "100%|██████████| 1/1 [00:00<00:00,  1.32it/s]\n"
     ]
    },
    {
     "name": "stdout",
     "output_type": "stream",
     "text": [
      "{'Yield': ['greater than stoichiometric'], 'Product': ['glycine']}\n",
      "第23条数据\n"
     ]
    },
    {
     "name": "stderr",
     "output_type": "stream",
     "text": [
      "Processed prompts: 100%|██████████| 1/1 [00:01<00:00,  1.27s/it, Generation Speed: 29.88 toks/s]\n",
      "100%|██████████| 1/1 [00:01<00:00,  1.28s/it]\n"
     ]
    },
    {
     "name": "stdout",
     "output_type": "stream",
     "text": [
      "{'Reactants': ['10'], 'Catalyst_Reagents': ['zirconium-'], 'Product': ['11'], 'Yield': ['60 %']}\n",
      "第24条数据\n"
     ]
    },
    {
     "name": "stderr",
     "output_type": "stream",
     "text": [
      "Processed prompts: 100%|██████████| 1/1 [00:01<00:00,  1.26s/it, Generation Speed: 27.93 toks/s]\n",
      "100%|██████████| 1/1 [00:01<00:00,  1.27s/it]\n"
     ]
    },
    {
     "name": "stdout",
     "output_type": "stream",
     "text": [
      "{'Reactants': ['13'], 'Catalyst_Reagents': ['catecholborane'], 'Temperature': ['room'], 'Product': ['8']}\n",
      "第25条数据\n"
     ]
    },
    {
     "name": "stderr",
     "output_type": "stream",
     "text": [
      "Processed prompts: 100%|██████████| 1/1 [00:03<00:00,  3.17s/it, Generation Speed: 8.52 toks/s]\n",
      "100%|██████████| 1/1 [00:03<00:00,  3.18s/it]\n"
     ]
    },
    {
     "name": "stdout",
     "output_type": "stream",
     "text": [
      "{'Reactants': ['5-cyclononynone', \"lO,'l\"], 'Product': ['11']}\n"
     ]
    },
    {
     "name": "stderr",
     "output_type": "stream",
     "text": [
      "Processed prompts: 100%|██████████| 1/1 [00:01<00:00,  1.66s/it, Generation Speed: 16.34 toks/s]\n",
      "100%|██████████| 1/1 [00:01<00:00,  1.67s/it]\n"
     ]
    },
    {
     "name": "stdout",
     "output_type": "stream",
     "text": [
      "{'Reactants': ['5-cyclononynone', \"lO,'l\"], 'Product': ['12']}\n",
      "第26条数据\n"
     ]
    },
    {
     "name": "stderr",
     "output_type": "stream",
     "text": [
      "Processed prompts: 100%|██████████| 1/1 [00:00<00:00,  1.45it/s, Generation Speed: 21.85 toks/s]\n",
      "100%|██████████| 1/1 [00:00<00:00,  1.43it/s]\n"
     ]
    },
    {
     "name": "stdout",
     "output_type": "stream",
     "text": [
      "{'Reactants': ['latter'], 'Product': ['3']}\n",
      "第27条数据\n"
     ]
    },
    {
     "name": "stderr",
     "output_type": "stream",
     "text": [
      "Processed prompts: 100%|██████████| 1/1 [00:01<00:00,  1.35s/it, Generation Speed: 18.53 toks/s]\n",
      "100%|██████████| 1/1 [00:01<00:00,  1.36s/it]\n"
     ]
    },
    {
     "name": "stdout",
     "output_type": "stream",
     "text": [
      "{'Reactants': ['5-cyclodecynone', '13'], 'Product': ['14']}\n"
     ]
    },
    {
     "name": "stderr",
     "output_type": "stream",
     "text": [
      "Processed prompts: 100%|██████████| 1/1 [00:01<00:00,  1.40s/it, Generation Speed: 23.56 toks/s]\n",
      "100%|██████████| 1/1 [00:01<00:00,  1.41s/it]\n"
     ]
    },
    {
     "name": "stdout",
     "output_type": "stream",
     "text": [
      "第28条数据\n"
     ]
    },
    {
     "name": "stderr",
     "output_type": "stream",
     "text": [
      "Processed prompts: 100%|██████████| 1/1 [00:00<00:00,  1.19it/s, Generation Speed: 22.73 toks/s]\n",
      "100%|██████████| 1/1 [00:00<00:00,  1.18it/s]\n"
     ]
    },
    {
     "name": "stdout",
     "output_type": "stream",
     "text": [
      "{'Product': ['1 la'], 'Reactants': ['9', 'lOd']}\n",
      "第29条数据\n"
     ]
    },
    {
     "name": "stderr",
     "output_type": "stream",
     "text": [
      "Processed prompts: 100%|██████████| 1/1 [00:01<00:00,  1.32s/it, Generation Speed: 22.71 toks/s]\n",
      "100%|██████████| 1/1 [00:01<00:00,  1.33s/it]\n"
     ]
    },
    {
     "name": "stdout",
     "output_type": "stream",
     "text": [
      "{'Reactants': ['23', 'NaBH4'], 'Product': ['24'], 'Yield': ['98 %']}\n",
      "第30条数据\n"
     ]
    },
    {
     "name": "stderr",
     "output_type": "stream",
     "text": [
      "Processed prompts: 100%|██████████| 1/1 [00:01<00:00,  1.26s/it, Generation Speed: 18.26 toks/s]\n",
      "100%|██████████| 1/1 [00:01<00:00,  1.27s/it]\n"
     ]
    },
    {
     "name": "stdout",
     "output_type": "stream",
     "text": [
      "{'Product': ['2,5-Dihydrofuran'], 'Temperature': ['465 K']}\n"
     ]
    },
    {
     "name": "stderr",
     "output_type": "stream",
     "text": [
      "Processed prompts: 100%|██████████| 1/1 [00:01<00:00,  1.17s/it, Generation Speed: 14.56 toks/s]\n",
      "100%|██████████| 1/1 [00:01<00:00,  1.18s/it]\n"
     ]
    },
    {
     "name": "stdout",
     "output_type": "stream",
     "text": [
      "{'Product': ['furan'], 'Temperature': ['465 K']}\n",
      "第31条数据\n"
     ]
    },
    {
     "name": "stderr",
     "output_type": "stream",
     "text": [
      "Processed prompts: 100%|██████████| 1/1 [00:00<00:00,  1.57it/s, Generation Speed: 11.02 toks/s]\n",
      "100%|██████████| 1/1 [00:00<00:00,  1.55it/s]\n"
     ]
    },
    {
     "name": "stdout",
     "output_type": "stream",
     "text": [
      "{'Product': ['water']}\n"
     ]
    },
    {
     "name": "stderr",
     "output_type": "stream",
     "text": [
      "Processed prompts: 100%|██████████| 1/1 [00:00<00:00,  1.92it/s, Generation Speed: 15.49 toks/s]\n",
      "100%|██████████| 1/1 [00:00<00:00,  1.90it/s]\n"
     ]
    },
    {
     "name": "stdout",
     "output_type": "stream",
     "text": [
      "{'Product': ['carbon dioxide']}\n"
     ]
    },
    {
     "name": "stderr",
     "output_type": "stream",
     "text": [
      "Processed prompts: 100%|██████████| 1/1 [00:00<00:00,  1.41it/s, Generation Speed: 19.80 toks/s]\n",
      "100%|██████████| 1/1 [00:00<00:00,  1.39it/s]\n"
     ]
    },
    {
     "name": "stdout",
     "output_type": "stream",
     "text": [
      "{'Product': ['2(5H)-furanone']}\n"
     ]
    },
    {
     "name": "stderr",
     "output_type": "stream",
     "text": [
      "Processed prompts: 100%|██████████| 1/1 [00:00<00:00,  1.43it/s, Generation Speed: 17.28 toks/s]\n",
      "100%|██████████| 1/1 [00:00<00:00,  1.42it/s]\n"
     ]
    },
    {
     "name": "stdout",
     "output_type": "stream",
     "text": [
      "{'Product': ['maleic anhydride']}\n"
     ]
    },
    {
     "name": "stderr",
     "output_type": "stream",
     "text": [
      "Processed prompts: 100%|██████████| 1/1 [00:00<00:00,  1.40it/s, Generation Speed: 21.14 toks/s]\n",
      "100%|██████████| 1/1 [00:00<00:00,  1.39it/s]\n"
     ]
    },
    {
     "name": "stdout",
     "output_type": "stream",
     "text": [
      "{'Product': ['4-vinylcyclohexene']}\n"
     ]
    },
    {
     "name": "stderr",
     "output_type": "stream",
     "text": [
      "Processed prompts: 100%|██████████| 1/1 [00:00<00:00,  1.68it/s, Generation Speed: 15.26 toks/s]\n",
      "100%|██████████| 1/1 [00:00<00:00,  1.66it/s]\n"
     ]
    },
    {
     "name": "stdout",
     "output_type": "stream",
     "text": [
      "{'Product': ['styrene.']}\n",
      "第32条数据\n"
     ]
    },
    {
     "name": "stderr",
     "output_type": "stream",
     "text": [
      "Processed prompts: 100%|██████████| 1/1 [00:01<00:00,  1.23s/it, Generation Speed: 30.28 toks/s]\n",
      "100%|██████████| 1/1 [00:01<00:00,  1.23s/it]\n"
     ]
    },
    {
     "name": "stdout",
     "output_type": "stream",
     "text": [
      "{'Reactants': ['p proline'], 'Catalyst_Reagents': ['formic acid', 'acetic anhydride'], 'Product': ['25']}\n",
      "第33条数据\n"
     ]
    },
    {
     "name": "stderr",
     "output_type": "stream",
     "text": [
      "Processed prompts: 100%|██████████| 1/1 [00:01<00:00,  1.59s/it, Generation Speed: 26.55 toks/s]\n",
      "100%|██████████| 1/1 [00:01<00:00,  1.59s/it]\n"
     ]
    },
    {
     "name": "stdout",
     "output_type": "stream",
     "text": [
      "{'Catalyst_Reagents': ['lithium aluminum hydride'], 'Product': ['(S)-2-(hy- droxymethy1)-1 methylpyrrolidine']}\n"
     ]
    },
    {
     "name": "stderr",
     "output_type": "stream",
     "text": [
      "Processed prompts: 100%|██████████| 1/1 [00:00<00:00,  1.05it/s, Generation Speed: 25.27 toks/s]\n",
      "100%|██████████| 1/1 [00:00<00:00,  1.04it/s]\n"
     ]
    },
    {
     "name": "stdout",
     "output_type": "stream",
     "text": [
      "{'Catalyst_Reagents': ['lithium aluminum hydride'], 'Product': ['26']}\n",
      "第34条数据\n"
     ]
    },
    {
     "name": "stderr",
     "output_type": "stream",
     "text": [
      "Processed prompts: 100%|██████████| 1/1 [00:02<00:00,  2.21s/it, Generation Speed: 32.68 toks/s]\n",
      "100%|██████████| 1/1 [00:02<00:00,  2.22s/it]\n"
     ]
    },
    {
     "name": "stdout",
     "output_type": "stream",
     "text": [
      "{'Product': ['hydrochloride salt of 2-(chloromethyl)-l methylpyrrolidine'], 'Reactants': ['2-(chloromethyl)-l methylpyrrolidine', '27', 'alcohol'], 'Catalyst_Reagents': ['thionyl chloride'], 'Solvent': ['chloroform']}\n"
     ]
    },
    {
     "name": "stderr",
     "output_type": "stream",
     "text": [
      "Processed prompts: 100%|██████████| 1/1 [00:02<00:00,  2.42s/it, Generation Speed: 20.31 toks/s]\n",
      "100%|██████████| 1/1 [00:02<00:00,  2.43s/it]\n"
     ]
    },
    {
     "name": "stdout",
     "output_type": "stream",
     "text": [
      "{'Product': ['27'], 'Reactants': ['2-(chloromethyl)-l methylpyrrolidine'], 'Catalyst_Reagents': ['thionyl chloride'], 'Solvent': ['chloroform.']}\n",
      "第35条数据\n"
     ]
    },
    {
     "name": "stderr",
     "output_type": "stream",
     "text": [
      "Processed prompts: 100%|██████████| 1/1 [00:01<00:00,  1.10s/it, Generation Speed: 25.59 toks/s]\n",
      "100%|██████████| 1/1 [00:01<00:00,  1.10s/it]\n"
     ]
    },
    {
     "name": "stdout",
     "output_type": "stream",
     "text": [
      "{'Product': ['30'], 'Reactants': ['sodium cyanide'], 'Solvent': ['80 % ethanol']}\n",
      "第36条数据\n"
     ]
    },
    {
     "name": "stderr",
     "output_type": "stream",
     "text": [
      "Processed prompts: 100%|██████████| 1/1 [00:01<00:00,  1.25s/it, Generation Speed: 29.61 toks/s]\n",
      "100%|██████████| 1/1 [00:01<00:00,  1.26s/it]\n"
     ]
    },
    {
     "name": "stdout",
     "output_type": "stream",
     "text": [
      "{'Reactants': ['33'], 'Catalyst_Reagents': ['HCI'], 'Product': ['1 -methylpyrrolidine-2-acetic acid']}\n"
     ]
    },
    {
     "name": "stderr",
     "output_type": "stream",
     "text": [
      "Processed prompts: 100%|██████████| 1/1 [00:01<00:00,  1.30s/it, Generation Speed: 28.60 toks/s]\n",
      "100%|██████████| 1/1 [00:01<00:00,  1.30s/it]\n"
     ]
    },
    {
     "name": "stdout",
     "output_type": "stream",
     "text": [
      "{'Reactants': ['1 -methylpyrrolidine-2-acetic acid'], 'Solvent': ['concentrated HCI'], 'Product': ['33']}\n",
      "第37条数据\n"
     ]
    },
    {
     "name": "stderr",
     "output_type": "stream",
     "text": [
      "Processed prompts: 100%|██████████| 1/1 [00:02<00:00,  2.19s/it, Generation Speed: 29.30 toks/s]\n",
      "100%|██████████| 1/1 [00:02<00:00,  2.20s/it]\n"
     ]
    },
    {
     "name": "stdout",
     "output_type": "stream",
     "text": [
      "{'Reactants': ['sodium [1,2-13C2]acetate', 'sodium [IJ4C]acetate', 'trimethyl phosphate'], 'Product': [\"methyl [ 1,2- ' 3C2,1-14C]acetate\"]}\n"
     ]
    },
    {
     "name": "stderr",
     "output_type": "stream",
     "text": [
      "Processed prompts: 100%|██████████| 1/1 [00:02<00:00,  2.03s/it, Generation Speed: 21.23 toks/s]\n",
      "100%|██████████| 1/1 [00:02<00:00,  2.04s/it]\n"
     ]
    },
    {
     "name": "stdout",
     "output_type": "stream",
     "text": [
      "{'Reactants': ['sodium [1,2-13C2]acetate', 'sodium [IJ4C]acetate', 'trimethyl phosphate'], 'Product': ['B']}\n"
     ]
    },
    {
     "name": "stderr",
     "output_type": "stream",
     "text": [
      "Processed prompts: 100%|██████████| 1/1 [00:02<00:00,  2.15s/it, Generation Speed: 33.11 toks/s]\n",
      "100%|██████████| 1/1 [00:02<00:00,  2.15s/it]\n"
     ]
    },
    {
     "name": "stdout",
     "output_type": "stream",
     "text": [
      "{'Reactants': ['sodium [1,2-13C2]acetate', 'sodium [IJ4C]acetate', 'trimethyl phosphate', \"methyl [ 1,2- ' 3C2,1-14C]acetate\", 'B'], 'Product': ['29']}\n",
      "第38条数据\n"
     ]
    },
    {
     "name": "stderr",
     "output_type": "stream",
     "text": [
      "Processed prompts: 100%|██████████| 1/1 [00:02<00:00,  2.12s/it, Generation Speed: 24.97 toks/s]\n",
      "100%|██████████| 1/1 [00:02<00:00,  2.13s/it]\n"
     ]
    },
    {
     "name": "stdout",
     "output_type": "stream",
     "text": [
      "{'Product': ['methyl (RS)-[ 1,2- 13C2 , 1 -14C]-4-( 1 -methyl-2-pyrrolidinyl)-3-oxobutanoate']}\n"
     ]
    },
    {
     "name": "stderr",
     "output_type": "stream",
     "text": [
      "Processed prompts: 100%|██████████| 1/1 [00:00<00:00,  1.41it/s, Generation Speed: 11.29 toks/s]\n",
      "100%|██████████| 1/1 [00:00<00:00,  1.39it/s]\n"
     ]
    },
    {
     "name": "stdout",
     "output_type": "stream",
     "text": [
      "{'Product': ['31']}\n",
      "第39条数据\n"
     ]
    },
    {
     "name": "stderr",
     "output_type": "stream",
     "text": [
      "Processed prompts: 100%|██████████| 1/1 [00:01<00:00,  1.09s/it, Generation Speed: 27.52 toks/s]\n",
      "100%|██████████| 1/1 [00:01<00:00,  1.10s/it]\n"
     ]
    },
    {
     "name": "stdout",
     "output_type": "stream",
     "text": [
      "{'Reactants': ['3a'], 'Solvent': ['water'], 'Product': ['4a'], 'Yield': ['high']}\n",
      "第40条数据\n"
     ]
    },
    {
     "name": "stderr",
     "output_type": "stream",
     "text": [
      "Processed prompts: 100%|██████████| 1/1 [00:02<00:00,  2.28s/it, Generation Speed: 33.87 toks/s]\n",
      "100%|██████████| 1/1 [00:02<00:00,  2.29s/it]\n"
     ]
    },
    {
     "name": "stdout",
     "output_type": "stream",
     "text": [
      "{'Reactants': ['allyl iodoacetate', '3a'], 'Solvent': ['water'], 'Catalyst_Reagents': ['triethylborane'], 'Temperature': ['25', '( cid : 176 ) C'], 'Time': ['3 h'], 'Product': ['4a'], 'Yield': ['67 %']}\n",
      "第41条数据\n"
     ]
    },
    {
     "name": "stderr",
     "output_type": "stream",
     "text": [
      "Processed prompts: 100%|██████████| 1/1 [00:04<00:00,  4.25s/it, Generation Speed: 27.33 toks/s]\n",
      "100%|██████████| 1/1 [00:04<00:00,  4.26s/it]\n"
     ]
    },
    {
     "name": "stdout",
     "output_type": "stream",
     "text": [
      "{'Reactants': ['3-iodo- 1-methylquinolin-4(1H)-one', '4', 'phenylboronic acid', '8a'], 'Product': ['3-phenylquinolin-4(1H)-one'], 'Catalyst_Reagents': ['Pd(OAc)2', 'PPh3', 'Na2CO3'], 'Solvent': ['DME', 'EtOH'], 'Temperature': ['70 ° C'], 'Time': ['5 min']}\n"
     ]
    },
    {
     "name": "stderr",
     "output_type": "stream",
     "text": [
      "Processed prompts: 100%|██████████| 1/1 [00:03<00:00,  3.30s/it, Generation Speed: 31.84 toks/s]\n",
      "100%|██████████| 1/1 [00:03<00:00,  3.31s/it]\n"
     ]
    },
    {
     "name": "stdout",
     "output_type": "stream",
     "text": [
      "{'Reactants': ['3-iodo- 1-methylquinolin-4(1H)-one', '4', 'phenylboronic acid', '8a'], 'Product': ['9a'], 'Catalyst_Reagents': ['Pd(OAc)2', 'PPh3', 'Na2CO3'], 'Solvent': ['DME', 'EtOH'], 'Temperature': ['70 ° C'], 'Time': ['5 min']}\n",
      "第42条数据\n"
     ]
    },
    {
     "name": "stderr",
     "output_type": "stream",
     "text": [
      "Processed prompts: 100%|██████████| 1/1 [00:01<00:00,  1.86s/it, Generation Speed: 19.43 toks/s]\n",
      "100%|██████████| 1/1 [00:01<00:00,  1.87s/it]\n"
     ]
    },
    {
     "name": "stdout",
     "output_type": "stream",
     "text": [
      "{'Product': ['3-phenylquinolin-4(1H)-one'], 'Yield': ['75 %'], 'Time': ['30 min']}\n"
     ]
    },
    {
     "name": "stderr",
     "output_type": "stream",
     "text": [
      "Processed prompts: 100%|██████████| 1/1 [00:01<00:00,  1.98s/it, Generation Speed: 28.89 toks/s]\n",
      "100%|██████████| 1/1 [00:01<00:00,  1.99s/it]\n"
     ]
    },
    {
     "name": "stdout",
     "output_type": "stream",
     "text": [
      "{'Reactants': ['1- substituted-3-iodoquinolin-4(1H)-ones', '4', '6.18'], 'Product': ['9a'], 'Yield': ['75 %'], 'Time': ['30 min']}\n",
      "第43条数据\n"
     ]
    },
    {
     "name": "stderr",
     "output_type": "stream",
     "text": [
      "Processed prompts: 100%|██████████| 1/1 [00:00<00:00,  1.44it/s, Generation Speed: 20.22 toks/s]\n",
      "100%|██████████| 1/1 [00:00<00:00,  1.42it/s]\n"
     ]
    },
    {
     "name": "stdout",
     "output_type": "stream",
     "text": [
      "{'Reactants': ['B'], 'Product': ['C']}\n",
      "第44条数据\n"
     ]
    },
    {
     "name": "stderr",
     "output_type": "stream",
     "text": [
      "Processed prompts: 100%|██████████| 1/1 [00:01<00:00,  1.22s/it, Generation Speed: 22.25 toks/s]\n",
      "100%|██████████| 1/1 [00:01<00:00,  1.23s/it]\n"
     ]
    },
    {
     "name": "stdout",
     "output_type": "stream",
     "text": [
      "{'Reactants': ['3a', '(MeCN)3Cr(C0)3'], 'Product': ['4a']}\n"
     ]
    },
    {
     "name": "stderr",
     "output_type": "stream",
     "text": [
      "Processed prompts: 100%|██████████| 1/1 [00:01<00:00,  1.07s/it, Generation Speed: 27.23 toks/s]\n",
      "100%|██████████| 1/1 [00:01<00:00,  1.08s/it]\n"
     ]
    },
    {
     "name": "stdout",
     "output_type": "stream",
     "text": [
      "{'Reactants': ['3a', '(MeCN)3Cr(C0)3'], 'Product': [\"5a1'\"]}\n"
     ]
    },
    {
     "name": "stderr",
     "output_type": "stream",
     "text": [
      "Processed prompts: 100%|██████████| 1/1 [00:01<00:00,  1.31s/it, Generation Speed: 28.32 toks/s]\n",
      "100%|██████████| 1/1 [00:01<00:00,  1.32s/it]\n"
     ]
    },
    {
     "name": "stdout",
     "output_type": "stream",
     "text": [
      "{'Reactants': ['3b'], 'Catalyst_Reagents': ['(MeCN)3Cr(C0)3'], 'Product': [\"4b1'\"]}\n"
     ]
    },
    {
     "name": "stderr",
     "output_type": "stream",
     "text": [
      "Processed prompts: 100%|██████████| 1/1 [00:01<00:00,  1.31s/it, Generation Speed: 21.49 toks/s]\n",
      "100%|██████████| 1/1 [00:01<00:00,  1.32s/it]\n"
     ]
    },
    {
     "name": "stdout",
     "output_type": "stream",
     "text": [
      "{'Reactants': ['3b', '(MeCN)3Cr(C0)3'], 'Product': [\"5b,''\"]}\n",
      "第45条数据\n"
     ]
    },
    {
     "name": "stderr",
     "output_type": "stream",
     "text": [
      "Processed prompts: 100%|██████████| 1/1 [00:01<00:00,  1.01s/it, Generation Speed: 30.61 toks/s]\n",
      "100%|██████████| 1/1 [00:01<00:00,  1.02s/it]\n"
     ]
    },
    {
     "name": "stdout",
     "output_type": "stream",
     "text": [
      "{'Reactants': ['4a', 'ethyl acrylate'], 'Product': ['6a'], 'Yield': ['86 %']}\n",
      "第46条数据\n"
     ]
    },
    {
     "name": "stderr",
     "output_type": "stream",
     "text": [
      "Processed prompts: 100%|██████████| 1/1 [00:02<00:00,  2.22s/it, Generation Speed: 22.59 toks/s]\n",
      "100%|██████████| 1/1 [00:02<00:00,  2.23s/it]\n"
     ]
    },
    {
     "name": "stdout",
     "output_type": "stream",
     "text": [
      "{'Reactants': ['tryptophan methyl ester', '9'], 'Product': ['12'], 'Yield': ['35 %'], 'Temperature': [\"140 'C\"], 'Time': ['3 h']}\n",
      "第47条数据\n"
     ]
    },
    {
     "name": "stderr",
     "output_type": "stream",
     "text": [
      "Processed prompts: 100%|██████████| 1/1 [00:01<00:00,  1.37s/it, Generation Speed: 22.02 toks/s]\n",
      "100%|██████████| 1/1 [00:01<00:00,  1.38s/it]\n"
     ]
    },
    {
     "name": "stdout",
     "output_type": "stream",
     "text": [
      "{'Reactants': ['6a', '7a'], 'Product': ['8a'], 'Yield': ['23', '%']}\n",
      "第48条数据\n"
     ]
    },
    {
     "name": "stderr",
     "output_type": "stream",
     "text": [
      "Processed prompts: 100%|██████████| 1/1 [00:00<00:00,  1.74it/s, Generation Speed: 24.56 toks/s]\n",
      "100%|██████████| 1/1 [00:00<00:00,  1.72it/s]\n"
     ]
    },
    {
     "name": "stdout",
     "output_type": "stream",
     "text": [
      "{'Reactants': ['1'], 'Product': ['2']}\n",
      "第49条数据\n"
     ]
    },
    {
     "name": "stderr",
     "output_type": "stream",
     "text": [
      "Processed prompts: 100%|██████████| 1/1 [00:02<00:00,  2.01s/it, Generation Speed: 19.92 toks/s]\n",
      "100%|██████████| 1/1 [00:02<00:00,  2.02s/it]\n"
     ]
    },
    {
     "name": "stdout",
     "output_type": "stream",
     "text": [
      "{'Reactants': ['1a', '2a'], 'Catalyst_Reagents': ['18O'], 'Product': ['spiro[4,5]trienone']}\n"
     ]
    },
    {
     "name": "stderr",
     "output_type": "stream",
     "text": [
      "Processed prompts: 100%|██████████| 1/1 [00:01<00:00,  1.41s/it, Generation Speed: 14.21 toks/s]\n",
      "100%|██████████| 1/1 [00:01<00:00,  1.42s/it]\n"
     ]
    },
    {
     "name": "stdout",
     "output_type": "stream",
     "text": [
      "{'Reactants': ['1a', '2a'], 'Product': ['3a']}\n",
      "第50条数据\n"
     ]
    },
    {
     "name": "stderr",
     "output_type": "stream",
     "text": [
      "Processed prompts: 100%|██████████| 1/1 [00:00<00:00,  1.08it/s, Generation Speed: 21.70 toks/s]\n",
      "100%|██████████| 1/1 [00:00<00:00,  1.07it/s]\n"
     ]
    },
    {
     "name": "stdout",
     "output_type": "stream",
     "text": [
      "{'Reactants': ['2', 'I2O5'], 'Product': ['4']}\n"
     ]
    },
    {
     "name": "stderr",
     "output_type": "stream",
     "text": [
      "Processed prompts: 100%|██████████| 1/1 [00:01<00:00,  1.37s/it, Generation Speed: 23.48 toks/s]\n",
      "100%|██████████| 1/1 [00:01<00:00,  1.38s/it]\n"
     ]
    },
    {
     "name": "stdout",
     "output_type": "stream",
     "text": [
      "{'Reactants': ['sulfonylhydrazide', '2', 'I2O5'], 'Product': ['I2.']}\n",
      "第51条数据\n"
     ]
    },
    {
     "name": "stderr",
     "output_type": "stream",
     "text": [
      "Processed prompts: 100%|██████████| 1/1 [00:01<00:00,  1.42s/it, Generation Speed: 23.25 toks/s]\n",
      "100%|██████████| 1/1 [00:01<00:00,  1.44s/it]\n"
     ]
    },
    {
     "name": "stdout",
     "output_type": "stream",
     "text": [
      "{'Reactants': ['sulfonyl radical', '4', 'arylpropiolamide', '1'], 'Product': ['vinyl radical']}\n"
     ]
    },
    {
     "name": "stderr",
     "output_type": "stream",
     "text": [
      "Processed prompts: 100%|██████████| 1/1 [00:00<00:00,  1.16it/s, Generation Speed: 21.03 toks/s]\n",
      "100%|██████████| 1/1 [00:00<00:00,  1.15it/s]\n"
     ]
    },
    {
     "name": "stdout",
     "output_type": "stream",
     "text": [
      "{'Reactants': ['4', '1'], 'Product': ['5.']}\n",
      "第52条数据\n"
     ]
    },
    {
     "name": "stderr",
     "output_type": "stream",
     "text": [
      "Processed prompts: 100%|██████████| 1/1 [00:01<00:00,  1.17s/it, Generation Speed: 11.98 toks/s]\n",
      "100%|██████████| 1/1 [00:01<00:00,  1.18s/it]\n"
     ]
    },
    {
     "name": "stdout",
     "output_type": "stream",
     "text": [
      "{'Reactants': ['5'], 'Product': ['6']}\n"
     ]
    },
    {
     "name": "stderr",
     "output_type": "stream",
     "text": [
      "Processed prompts: 100%|██████████| 1/1 [00:01<00:00,  1.07s/it, Generation Speed: 13.14 toks/s]\n",
      "100%|██████████| 1/1 [00:01<00:00,  1.08s/it]\n"
     ]
    },
    {
     "name": "stdout",
     "output_type": "stream",
     "text": [
      "{'Reactants': ['6'], 'Product': ['7']}\n"
     ]
    },
    {
     "name": "stderr",
     "output_type": "stream",
     "text": [
      "Processed prompts: 100%|██████████| 1/1 [00:01<00:00,  1.28s/it, Generation Speed: 16.46 toks/s]\n",
      "100%|██████████| 1/1 [00:01<00:00,  1.29s/it]\n"
     ]
    },
    {
     "name": "stdout",
     "output_type": "stream",
     "text": [
      "{'Reactants': ['cation 7', 'H2O'], 'Product': ['8']}\n",
      "第53条数据\n"
     ]
    },
    {
     "name": "stderr",
     "output_type": "stream",
     "text": [
      "Processed prompts: 100%|██████████| 1/1 [00:00<00:00,  1.04it/s, Generation Speed: 18.82 toks/s]\n",
      "100%|██████████| 1/1 [00:00<00:00,  1.03it/s]\n"
     ]
    },
    {
     "name": "stdout",
     "output_type": "stream",
     "text": [
      "{'Reactants': ['8', 'TBHP'], 'Product': ['3']}\n",
      "第54条数据\n"
     ]
    },
    {
     "name": "stderr",
     "output_type": "stream",
     "text": [
      "Processed prompts: 100%|██████████| 1/1 [00:00<00:00,  1.30it/s, Generation Speed: 24.81 toks/s]\n",
      "100%|██████████| 1/1 [00:00<00:00,  1.29it/s]\n"
     ]
    },
    {
     "name": "stdout",
     "output_type": "stream",
     "text": [
      "{'Product': ['5'], 'Time': ['18 h', '2 h']}\n",
      "第55条数据\n"
     ]
    },
    {
     "name": "stderr",
     "output_type": "stream",
     "text": [
      "Processed prompts: 100%|██████████| 1/1 [00:00<00:00,  1.14it/s, Generation Speed: 26.32 toks/s]\n",
      "100%|██████████| 1/1 [00:00<00:00,  1.13it/s]\n"
     ]
    },
    {
     "name": "stdout",
     "output_type": "stream",
     "text": [
      "{'Product': ['5'], 'Yield': ['28 %'], 'Time': ['2 h']}\n",
      "第56条数据\n"
     ]
    },
    {
     "name": "stderr",
     "output_type": "stream",
     "text": [
      "Processed prompts: 100%|██████████| 1/1 [00:00<00:00,  1.18it/s, Generation Speed: 20.10 toks/s]\n",
      "100%|██████████| 1/1 [00:00<00:00,  1.16it/s]\n"
     ]
    },
    {
     "name": "stdout",
     "output_type": "stream",
     "text": [
      "{'Reactants': ['l a'], 'Product': ['4a.']}\n",
      "第57条数据\n"
     ]
    },
    {
     "name": "stderr",
     "output_type": "stream",
     "text": [
      "Processed prompts: 100%|██████████| 1/1 [00:02<00:00,  2.12s/it, Generation Speed: 24.61 toks/s]\n",
      "100%|██████████| 1/1 [00:02<00:00,  2.13s/it]\n"
     ]
    },
    {
     "name": "stdout",
     "output_type": "stream",
     "text": [
      "{'Reactants': ['2 mol % palladium acetate', '2 mol % tris(2,6-dimeth- oxyphenyl)phosphineE(TDMPP)', 'THF'], 'Product': ['4a9']}\n"
     ]
    },
    {
     "name": "stderr",
     "output_type": "stream",
     "text": [
      "Processed prompts: 100%|██████████| 1/1 [00:02<00:00,  2.06s/it, Generation Speed: 25.29 toks/s]\n",
      "100%|██████████| 1/1 [00:02<00:00,  2.07s/it]\n"
     ]
    },
    {
     "name": "stdout",
     "output_type": "stream",
     "text": [
      "{'Reactants': ['2 mol % palladium acetate', '2 mol % tris(2,6-dimeth- oxyphenyl)phosphineE(TDMPP)', 'THF'], 'Product': ['5a9']}\n",
      "第58条数据\n"
     ]
    },
    {
     "name": "stderr",
     "output_type": "stream",
     "text": [
      "Processed prompts: 100%|██████████| 1/1 [00:00<00:00,  1.43it/s, Generation Speed: 22.93 toks/s]\n",
      "100%|██████████| 1/1 [00:00<00:00,  1.41it/s]\n"
     ]
    },
    {
     "name": "stdout",
     "output_type": "stream",
     "text": [
      "{'Reactants': ['2b'], 'Product': ['4b']}\n"
     ]
    },
    {
     "name": "stderr",
     "output_type": "stream",
     "text": [
      "Processed prompts: 100%|██████████| 1/1 [00:00<00:00,  1.23it/s, Generation Speed: 21.01 toks/s]\n",
      "100%|██████████| 1/1 [00:00<00:00,  1.22it/s]\n"
     ]
    },
    {
     "name": "stdout",
     "output_type": "stream",
     "text": [
      "{'Reactants': ['2b'], 'Product': ['5b.']}\n",
      "第59条数据\n"
     ]
    },
    {
     "name": "stderr",
     "output_type": "stream",
     "text": [
      "Processed prompts: 100%|██████████| 1/1 [00:01<00:00,  1.27s/it, Generation Speed: 21.21 toks/s]\n",
      "100%|██████████| 1/1 [00:01<00:00,  1.28s/it]\n"
     ]
    },
    {
     "name": "stdout",
     "output_type": "stream",
     "text": [
      "{'Reactants': ['2b'], 'Solvent': ['benzene'], 'Product': ['3bI0']}\n"
     ]
    },
    {
     "name": "stderr",
     "output_type": "stream",
     "text": [
      "Processed prompts: 100%|██████████| 1/1 [00:01<00:00,  1.45s/it, Generation Speed: 11.76 toks/s]\n",
      "100%|██████████| 1/1 [00:01<00:00,  1.46s/it]\n"
     ]
    },
    {
     "name": "stdout",
     "output_type": "stream",
     "text": [
      "{'Reactants': ['2b'], 'Product': ['5b.']}\n",
      "第60条数据\n"
     ]
    },
    {
     "name": "stderr",
     "output_type": "stream",
     "text": [
      "Processed prompts: 100%|██████████| 1/1 [00:01<00:00,  1.45s/it, Generation Speed: 17.26 toks/s]\n",
      "100%|██████████| 1/1 [00:01<00:00,  1.46s/it]\n"
     ]
    },
    {
     "name": "stdout",
     "output_type": "stream",
     "text": [
      "{'Reactants': ['TDMPP', 'Pd(OAc)z'], 'Product': ['3b']}\n"
     ]
    },
    {
     "name": "stderr",
     "output_type": "stream",
     "text": [
      "Processed prompts: 100%|██████████| 1/1 [00:01<00:00,  1.13s/it, Generation Speed: 26.70 toks/s]\n",
      "100%|██████████| 1/1 [00:01<00:00,  1.14s/it]\n"
     ]
    },
    {
     "name": "stdout",
     "output_type": "stream",
     "text": [
      "{'Reactants': ['TDMPP', 'Pd(OAc)z', '3b'], 'Product': ['5b.']}\n",
      "第61条数据\n"
     ]
    },
    {
     "name": "stderr",
     "output_type": "stream",
     "text": [
      "Processed prompts: 100%|██████████| 1/1 [00:02<00:00,  2.97s/it, Generation Speed: 23.62 toks/s]\n",
      "100%|██████████| 1/1 [00:02<00:00,  2.98s/it]\n"
     ]
    },
    {
     "name": "stdout",
     "output_type": "stream",
     "text": [
      "{'Reactants': ['1a', '3a', 'K3PO4'], 'Solvent': ['DMF'], 'Temperature': ['110 ° C'], 'Time': ['15 min'], 'Yield': ['13 %'], 'Product': ['3-benzazepine']}\n"
     ]
    },
    {
     "name": "stderr",
     "output_type": "stream",
     "text": [
      "Processed prompts: 100%|██████████| 1/1 [00:02<00:00,  2.60s/it, Generation Speed: 25.44 toks/s]\n",
      "100%|██████████| 1/1 [00:02<00:00,  2.61s/it]\n"
     ]
    },
    {
     "name": "stdout",
     "output_type": "stream",
     "text": [
      "{'Reactants': ['1a', '3a', 'K3PO4'], 'Solvent': ['DMF'], 'Temperature': ['110 ° C'], 'Time': ['15 min'], 'Yield': ['13 %'], 'Product': ['4a']}\n",
      "第62条数据\n"
     ]
    },
    {
     "name": "stderr",
     "output_type": "stream",
     "text": [
      "Processed prompts: 100%|██████████| 1/1 [00:01<00:00,  1.50s/it, Generation Speed: 22.11 toks/s]\n",
      "100%|██████████| 1/1 [00:01<00:00,  1.51s/it]\n"
     ]
    },
    {
     "name": "stdout",
     "output_type": "stream",
     "text": [
      "{'Reactants': ['methanol'], 'Catalyst_Reagents': ['rhodium', 'iodide'], 'Product': ['acetic acid.']}\n",
      "第63条数据\n"
     ]
    },
    {
     "name": "stderr",
     "output_type": "stream",
     "text": [
      "Processed prompts: 100%|██████████| 1/1 [00:00<00:00,  1.11it/s, Generation Speed: 22.26 toks/s]\n",
      "100%|██████████| 1/1 [00:00<00:00,  1.10it/s]\n"
     ]
    },
    {
     "name": "stdout",
     "output_type": "stream",
     "text": [
      "{'Reactants': ['11', '21'], 'Product': ['22']}\n",
      "第64条数据\n"
     ]
    },
    {
     "name": "stderr",
     "output_type": "stream",
     "text": [
      "Processed prompts: 100%|██████████| 1/1 [00:01<00:00,  1.51s/it, Generation Speed: 27.17 toks/s]\n",
      "100%|██████████| 1/1 [00:01<00:00,  1.52s/it]\n"
     ]
    },
    {
     "name": "stdout",
     "output_type": "stream",
     "text": [
      "{'Reactants': ['2a'], 'Solvent': ['toluene'], 'Temperature': [\"100 'C\"], 'Product': ['tri-tert-butylsilane']}\n"
     ]
    },
    {
     "name": "stderr",
     "output_type": "stream",
     "text": [
      "Processed prompts: 100%|██████████| 1/1 [00:01<00:00,  1.42s/it, Generation Speed: 31.01 toks/s]\n",
      "100%|██████████| 1/1 [00:01<00:00,  1.43s/it]\n"
     ]
    },
    {
     "name": "stdout",
     "output_type": "stream",
     "text": [
      "{'Reactants': ['2a'], 'Solvent': ['toluene'], 'Temperature': [\"100 'C\"], 'Product': ['hexa-tert-butyldisilane']}\n"
     ]
    },
    {
     "name": "stderr",
     "output_type": "stream",
     "text": [
      "Processed prompts: 100%|██████████| 1/1 [00:01<00:00,  1.41s/it, Generation Speed: 29.76 toks/s]\n",
      "100%|██████████| 1/1 [00:01<00:00,  1.42s/it]\n"
     ]
    },
    {
     "name": "stdout",
     "output_type": "stream",
     "text": [
      "{'Reactants': ['2b'], 'Solvent': ['toluene'], 'Temperature': [\"100 'C\"], 'Product': ['tri-tert-butylgermane']}\n"
     ]
    },
    {
     "name": "stderr",
     "output_type": "stream",
     "text": [
      "Processed prompts: 100%|██████████| 1/1 [00:01<00:00,  1.50s/it, Generation Speed: 28.70 toks/s]\n",
      "100%|██████████| 1/1 [00:01<00:00,  1.51s/it]\n"
     ]
    },
    {
     "name": "stdout",
     "output_type": "stream",
     "text": [
      "{'Reactants': ['2b'], 'Solvent': ['toluene'], 'Temperature': [\"100 'C\"], 'Product': ['hexa-terr-butyldigermane']}\n",
      "第65条数据\n"
     ]
    },
    {
     "name": "stderr",
     "output_type": "stream",
     "text": [
      "Processed prompts: 100%|██████████| 1/1 [00:02<00:00,  2.02s/it, Generation Speed: 30.28 toks/s]\n",
      "100%|██████████| 1/1 [00:02<00:00,  2.03s/it]\n"
     ]
    },
    {
     "name": "stdout",
     "output_type": "stream",
     "text": [
      "{'Reactants': ['1r(CR = CRCR3.CR)(PPh3)2C1 ( 1-Cl , R = C02CH3)', '3-butyn-1-01'], 'Product': ['2,1 °']}\n"
     ]
    },
    {
     "name": "stderr",
     "output_type": "stream",
     "text": [
      "Processed prompts: 100%|██████████| 1/1 [00:01<00:00,  1.28s/it, Generation Speed: 17.22 toks/s]\n",
      "100%|██████████| 1/1 [00:01<00:00,  1.29s/it]\n"
     ]
    },
    {
     "name": "stdout",
     "output_type": "stream",
     "text": [
      "{'Reactants': ['1-C1', 'propargyl alcohol'], 'Product': ['3']}\n",
      "第66条数据\n"
     ]
    },
    {
     "name": "stderr",
     "output_type": "stream",
     "text": [
      "Processed prompts: 100%|██████████| 1/1 [00:01<00:00,  1.95s/it, Generation Speed: 28.19 toks/s]\n",
      "100%|██████████| 1/1 [00:01<00:00,  1.96s/it]\n"
     ]
    },
    {
     "name": "stdout",
     "output_type": "stream",
     "text": [
      "{'Reactants': ['2b', 'Me2- SiC12I7', 'Et20'], 'Temperature': ['-20 \" C'], 'Product': ['C2-sy \" etric bis(phosphine- borane )']}\n"
     ]
    },
    {
     "name": "stderr",
     "output_type": "stream",
     "text": [
      "Processed prompts: 100%|██████████| 1/1 [00:01<00:00,  1.91s/it, Generation Speed: 21.52 toks/s]\n",
      "100%|██████████| 1/1 [00:01<00:00,  1.92s/it]\n"
     ]
    },
    {
     "name": "stdout",
     "output_type": "stream",
     "text": [
      "{'Reactants': ['2b', 'Me2- SiC12I7', 'Et20'], 'Temperature': ['-20 \" C'], 'Product': ['8']}\n"
     ]
    },
    {
     "name": "stderr",
     "output_type": "stream",
     "text": [
      "Processed prompts: 100%|██████████| 1/1 [00:01<00:00,  1.66s/it, Generation Speed: 24.80 toks/s]\n",
      "100%|██████████| 1/1 [00:01<00:00,  1.67s/it]"
     ]
    },
    {
     "name": "stdout",
     "output_type": "stream",
     "text": [
      "{'Reactants': ['2b', 'Me2- SiC12I7', 'Et20'], 'Temperature': ['-20 \" C'], 'Product': ['9']}\n",
      "TP, FP, FN 310 90 89\n",
      "NER:  precision, recall 0.775 0.7769423558897243\n",
      "NER:  f1_score 0.7759699624530663\n"
     ]
    },
    {
     "name": "stderr",
     "output_type": "stream",
     "text": [
      "\n"
     ]
    },
    {
     "name": "stdout",
     "output_type": "stream",
     "text": [
      "\u001b[36m(RayWorkerWrapper pid=3588554)\u001b[0m ERROR 12-06 18:04:21 worker_base.py:148] Error executing method start_worker_execution_loop. This might cause deadlock in distributed execution.\n",
      "\u001b[36m(RayWorkerWrapper pid=3588554)\u001b[0m ERROR 12-06 18:04:21 worker_base.py:148] Traceback (most recent call last):\n",
      "\u001b[36m(RayWorkerWrapper pid=3588554)\u001b[0m ERROR 12-06 18:04:21 worker_base.py:148]   File \"/data/lizh/Conda/anaconda3/envs/vllm/lib/python3.9/site-packages/vllm/worker/worker_base.py\", line 140, in execute_method\n",
      "\u001b[36m(RayWorkerWrapper pid=3588554)\u001b[0m ERROR 12-06 18:04:21 worker_base.py:148]     return executor(*args, **kwargs)\n",
      "\u001b[36m(RayWorkerWrapper pid=3588554)\u001b[0m ERROR 12-06 18:04:21 worker_base.py:148]   File \"/data/lizh/Conda/anaconda3/envs/vllm/lib/python3.9/site-packages/torch/utils/_contextlib.py\", line 115, in decorate_context\n",
      "\u001b[36m(RayWorkerWrapper pid=3588554)\u001b[0m ERROR 12-06 18:04:21 worker_base.py:148]     return func(*args, **kwargs)\n",
      "\u001b[36m(RayWorkerWrapper pid=3588554)\u001b[0m ERROR 12-06 18:04:21 worker_base.py:148]   File \"/data/lizh/Conda/anaconda3/envs/vllm/lib/python3.9/site-packages/vllm/worker/worker.py\", line 286, in start_worker_execution_loop\n",
      "\u001b[36m(RayWorkerWrapper pid=3588554)\u001b[0m ERROR 12-06 18:04:21 worker_base.py:148]     while self._execute_model_non_driver():\n",
      "\u001b[36m(RayWorkerWrapper pid=3588554)\u001b[0m ERROR 12-06 18:04:21 worker_base.py:148]   File \"/data/lizh/Conda/anaconda3/envs/vllm/lib/python3.9/site-packages/vllm/worker/worker.py\", line 295, in _execute_model_non_driver\n",
      "\u001b[36m(RayWorkerWrapper pid=3588554)\u001b[0m ERROR 12-06 18:04:21 worker_base.py:148]     data = broadcast_tensor_dict(src=0)\n",
      "\u001b[36m(RayWorkerWrapper pid=3588554)\u001b[0m ERROR 12-06 18:04:21 worker_base.py:148]   File \"/data/lizh/Conda/anaconda3/envs/vllm/lib/python3.9/site-packages/vllm/distributed/communication_op.py\", line 284, in broadcast_tensor_dict\n",
      "\u001b[36m(RayWorkerWrapper pid=3588554)\u001b[0m ERROR 12-06 18:04:21 worker_base.py:148]     torch.distributed.broadcast_object_list(recv_metadata_list,\n",
      "\u001b[36m(RayWorkerWrapper pid=3588554)\u001b[0m ERROR 12-06 18:04:21 worker_base.py:148]   File \"/data/lizh/Conda/anaconda3/envs/vllm/lib/python3.9/site-packages/torch/distributed/c10d_logger.py\", line 75, in wrapper\n",
      "\u001b[36m(RayWorkerWrapper pid=3588554)\u001b[0m ERROR 12-06 18:04:21 worker_base.py:148]     return func(*args, **kwargs)\n",
      "\u001b[36m(RayWorkerWrapper pid=3588554)\u001b[0m ERROR 12-06 18:04:21 worker_base.py:148]   File \"/data/lizh/Conda/anaconda3/envs/vllm/lib/python3.9/site-packages/torch/distributed/distributed_c10d.py\", line 2649, in broadcast_object_list\n",
      "\u001b[36m(RayWorkerWrapper pid=3588554)\u001b[0m ERROR 12-06 18:04:21 worker_base.py:148]     broadcast(object_sizes_tensor, src=src, group=group)\n",
      "\u001b[36m(RayWorkerWrapper pid=3588554)\u001b[0m ERROR 12-06 18:04:21 worker_base.py:148]   File \"/data/lizh/Conda/anaconda3/envs/vllm/lib/python3.9/site-packages/torch/distributed/c10d_logger.py\", line 75, in wrapper\n",
      "\u001b[36m(RayWorkerWrapper pid=3588554)\u001b[0m ERROR 12-06 18:04:21 worker_base.py:148]     return func(*args, **kwargs)\n",
      "\u001b[36m(RayWorkerWrapper pid=3588554)\u001b[0m ERROR 12-06 18:04:21 worker_base.py:148]   File \"/data/lizh/Conda/anaconda3/envs/vllm/lib/python3.9/site-packages/torch/distributed/distributed_c10d.py\", line 2144, in broadcast\n",
      "\u001b[36m(RayWorkerWrapper pid=3588554)\u001b[0m ERROR 12-06 18:04:21 worker_base.py:148]     work.wait()\n",
      "\u001b[36m(RayWorkerWrapper pid=3588554)\u001b[0m ERROR 12-06 18:04:21 worker_base.py:148] RuntimeError: [../third_party/gloo/gloo/transport/tcp/unbound_buffer.cc:81] Timed out waiting 1800000ms for recv operation to complete\n"
     ]
    },
    {
     "name": "stderr",
     "output_type": "stream",
     "text": [
      "2024-12-06 18:04:26,204\tERROR worker.py:409 -- Unhandled error (suppress with 'RAY_IGNORE_UNHANDLED_ERRORS=1'): \u001b[36mray::RayWorkerWrapper.execute_method()\u001b[39m (pid=3588554, ip=211.86.155.202, actor_id=a6c557f983f564cad295c51c01000000, repr=<vllm.executor.ray_utils.RayWorkerWrapper object at 0x7fd6526d1df0>)\n",
      "  File \"/data/lizh/Conda/anaconda3/envs/vllm/lib/python3.9/site-packages/vllm/worker/worker_base.py\", line 149, in execute_method\n",
      "    raise e\n",
      "  File \"/data/lizh/Conda/anaconda3/envs/vllm/lib/python3.9/site-packages/vllm/worker/worker_base.py\", line 140, in execute_method\n",
      "    return executor(*args, **kwargs)\n",
      "  File \"/data/lizh/Conda/anaconda3/envs/vllm/lib/python3.9/site-packages/torch/utils/_contextlib.py\", line 115, in decorate_context\n",
      "    return func(*args, **kwargs)\n",
      "  File \"/data/lizh/Conda/anaconda3/envs/vllm/lib/python3.9/site-packages/vllm/worker/worker.py\", line 286, in start_worker_execution_loop\n",
      "    while self._execute_model_non_driver():\n",
      "  File \"/data/lizh/Conda/anaconda3/envs/vllm/lib/python3.9/site-packages/vllm/worker/worker.py\", line 295, in _execute_model_non_driver\n",
      "    data = broadcast_tensor_dict(src=0)\n",
      "  File \"/data/lizh/Conda/anaconda3/envs/vllm/lib/python3.9/site-packages/vllm/distributed/communication_op.py\", line 284, in broadcast_tensor_dict\n",
      "    torch.distributed.broadcast_object_list(recv_metadata_list,\n",
      "  File \"/data/lizh/Conda/anaconda3/envs/vllm/lib/python3.9/site-packages/torch/distributed/c10d_logger.py\", line 75, in wrapper\n",
      "    return func(*args, **kwargs)\n",
      "  File \"/data/lizh/Conda/anaconda3/envs/vllm/lib/python3.9/site-packages/torch/distributed/distributed_c10d.py\", line 2649, in broadcast_object_list\n",
      "    broadcast(object_sizes_tensor, src=src, group=group)\n",
      "  File \"/data/lizh/Conda/anaconda3/envs/vllm/lib/python3.9/site-packages/torch/distributed/c10d_logger.py\", line 75, in wrapper\n",
      "    return func(*args, **kwargs)\n",
      "  File \"/data/lizh/Conda/anaconda3/envs/vllm/lib/python3.9/site-packages/torch/distributed/distributed_c10d.py\", line 2144, in broadcast\n",
      "    work.wait()\n",
      "RuntimeError: [../third_party/gloo/gloo/transport/tcp/unbound_buffer.cc:81] Timed out waiting 1800000ms for recv operation to complete\n",
      "2024-12-06 18:04:27,202\tERROR worker.py:409 -- Unhandled error (suppress with 'RAY_IGNORE_UNHANDLED_ERRORS=1'): \u001b[36mray::RayWorkerWrapper.execute_method()\u001b[39m (pid=3588814, ip=211.86.155.202, actor_id=acf268cb844c5b907f1e410101000000, repr=<vllm.executor.ray_utils.RayWorkerWrapper object at 0x7efaaf2b8e80>)\n",
      "  File \"/data/lizh/Conda/anaconda3/envs/vllm/lib/python3.9/site-packages/vllm/worker/worker_base.py\", line 149, in execute_method\n",
      "    raise e\n",
      "  File \"/data/lizh/Conda/anaconda3/envs/vllm/lib/python3.9/site-packages/vllm/worker/worker_base.py\", line 140, in execute_method\n",
      "    return executor(*args, **kwargs)\n",
      "  File \"/data/lizh/Conda/anaconda3/envs/vllm/lib/python3.9/site-packages/torch/utils/_contextlib.py\", line 115, in decorate_context\n",
      "    return func(*args, **kwargs)\n",
      "  File \"/data/lizh/Conda/anaconda3/envs/vllm/lib/python3.9/site-packages/vllm/worker/worker.py\", line 286, in start_worker_execution_loop\n",
      "    while self._execute_model_non_driver():\n",
      "  File \"/data/lizh/Conda/anaconda3/envs/vllm/lib/python3.9/site-packages/vllm/worker/worker.py\", line 295, in _execute_model_non_driver\n",
      "    data = broadcast_tensor_dict(src=0)\n",
      "  File \"/data/lizh/Conda/anaconda3/envs/vllm/lib/python3.9/site-packages/vllm/distributed/communication_op.py\", line 284, in broadcast_tensor_dict\n",
      "    torch.distributed.broadcast_object_list(recv_metadata_list,\n",
      "  File \"/data/lizh/Conda/anaconda3/envs/vllm/lib/python3.9/site-packages/torch/distributed/c10d_logger.py\", line 75, in wrapper\n",
      "    return func(*args, **kwargs)\n",
      "  File \"/data/lizh/Conda/anaconda3/envs/vllm/lib/python3.9/site-packages/torch/distributed/distributed_c10d.py\", line 2649, in broadcast_object_list\n",
      "    broadcast(object_sizes_tensor, src=src, group=group)\n",
      "  File \"/data/lizh/Conda/anaconda3/envs/vllm/lib/python3.9/site-packages/torch/distributed/c10d_logger.py\", line 75, in wrapper\n",
      "    return func(*args, **kwargs)\n",
      "  File \"/data/lizh/Conda/anaconda3/envs/vllm/lib/python3.9/site-packages/torch/distributed/distributed_c10d.py\", line 2144, in broadcast\n",
      "    work.wait()\n",
      "RuntimeError: [../third_party/gloo/gloo/transport/tcp/unbound_buffer.cc:81] Timed out waiting 1800000ms for recv operation to complete\n",
      "2024-12-06 18:04:27,205\tERROR worker.py:409 -- Unhandled error (suppress with 'RAY_IGNORE_UNHANDLED_ERRORS=1'): \u001b[36mray::RayWorkerWrapper.execute_method()\u001b[39m (pid=3588725, ip=211.86.155.202, actor_id=6b02152adf66e9053f72ff2e01000000, repr=<vllm.executor.ray_utils.RayWorkerWrapper object at 0x7f61aea50eb0>)\n",
      "  File \"/data/lizh/Conda/anaconda3/envs/vllm/lib/python3.9/site-packages/vllm/worker/worker_base.py\", line 149, in execute_method\n",
      "    raise e\n",
      "  File \"/data/lizh/Conda/anaconda3/envs/vllm/lib/python3.9/site-packages/vllm/worker/worker_base.py\", line 140, in execute_method\n",
      "    return executor(*args, **kwargs)\n",
      "  File \"/data/lizh/Conda/anaconda3/envs/vllm/lib/python3.9/site-packages/torch/utils/_contextlib.py\", line 115, in decorate_context\n",
      "    return func(*args, **kwargs)\n",
      "  File \"/data/lizh/Conda/anaconda3/envs/vllm/lib/python3.9/site-packages/vllm/worker/worker.py\", line 286, in start_worker_execution_loop\n",
      "    while self._execute_model_non_driver():\n",
      "  File \"/data/lizh/Conda/anaconda3/envs/vllm/lib/python3.9/site-packages/vllm/worker/worker.py\", line 295, in _execute_model_non_driver\n",
      "    data = broadcast_tensor_dict(src=0)\n",
      "  File \"/data/lizh/Conda/anaconda3/envs/vllm/lib/python3.9/site-packages/vllm/distributed/communication_op.py\", line 284, in broadcast_tensor_dict\n",
      "    torch.distributed.broadcast_object_list(recv_metadata_list,\n",
      "  File \"/data/lizh/Conda/anaconda3/envs/vllm/lib/python3.9/site-packages/torch/distributed/c10d_logger.py\", line 75, in wrapper\n",
      "    return func(*args, **kwargs)\n",
      "  File \"/data/lizh/Conda/anaconda3/envs/vllm/lib/python3.9/site-packages/torch/distributed/distributed_c10d.py\", line 2649, in broadcast_object_list\n",
      "    broadcast(object_sizes_tensor, src=src, group=group)\n",
      "  File \"/data/lizh/Conda/anaconda3/envs/vllm/lib/python3.9/site-packages/torch/distributed/c10d_logger.py\", line 75, in wrapper\n",
      "    return func(*args, **kwargs)\n",
      "  File \"/data/lizh/Conda/anaconda3/envs/vllm/lib/python3.9/site-packages/torch/distributed/distributed_c10d.py\", line 2144, in broadcast\n",
      "    work.wait()\n",
      "RuntimeError: [../third_party/gloo/gloo/transport/tcp/unbound_buffer.cc:81] Timed out waiting 1800000ms for recv operation to complete\n"
     ]
    }
   ],
   "source": [
    "import os\n",
    "\n",
    "from evaluate import *\n",
    "from llm_re import *\n",
    "\n",
    "def main():\n",
    "    train_data,test_data=get_data()\n",
    "    prev_data=chem_re(train_data,test_data)\n",
    "    Reaction_f1(test_data,prev_data)\n",
    "\n",
    "main()"
   ]
  },
  {
   "cell_type": "markdown",
   "metadata": {},
   "source": [
    "使用基座qwen2.5 72b\n",
    "TP, FP, FN 275 156 124\n",
    "NER:  precision, recall 0.6380510440835266 0.6892230576441103\n",
    "NER:  f1_score 0.6626506024096385"
   ]
  },
  {
   "cell_type": "code",
   "execution_count": 1,
   "metadata": {},
   "outputs": [
    {
     "name": "stderr",
     "output_type": "stream",
     "text": [
      "/data/lizh/Conda/anaconda3/envs/vllm/lib/python3.9/site-packages/tqdm/auto.py:21: TqdmWarning: IProgress not found. Please update jupyter and ipywidgets. See https://ipywidgets.readthedocs.io/en/stable/user_install.html\n",
      "  from .autonotebook import tqdm as notebook_tqdm\n",
      "2024-12-12 21:10:04,195\tINFO util.py:154 -- Missing packages: ['ipywidgets']. Run `pip install -U ipywidgets`, then restart the notebook server for rich notebook output.\n",
      "2024-12-12 21:10:08,313\tINFO worker.py:1771 -- Started a local Ray instance.\n"
     ]
    },
    {
     "name": "stdout",
     "output_type": "stream",
     "text": [
      "INFO 12-12 21:10:09 llm_engine.py:161] Initializing an LLM engine (v0.4.3) with config: model='/data/models/qwen2.5/Qwen2.5-72B-Instruct', speculative_config=None, tokenizer='/data/models/qwen2.5/Qwen2.5-72B-Instruct', skip_tokenizer_init=False, tokenizer_mode=auto, revision=None, rope_scaling=None, tokenizer_revision=None, trust_remote_code=False, dtype=torch.bfloat16, max_seq_len=32768, download_dir=None, load_format=LoadFormat.AUTO, tensor_parallel_size=4, disable_custom_all_reduce=False, quantization=None, enforce_eager=False, kv_cache_dtype=auto, quantization_param_path=None, device_config=cuda, decoding_config=DecodingConfig(guided_decoding_backend='outlines'), seed=0, served_model_name=/data/models/qwen2.5/Qwen2.5-72B-Instruct)\n",
      "INFO 12-12 21:10:25 utils.py:618] Found nccl from library libnccl.so.2\n",
      "INFO 12-12 21:10:25 pynccl.py:65] vLLM is using nccl==2.20.5\n",
      "\u001b[36m(RayWorkerWrapper pid=1612530)\u001b[0m INFO 12-12 21:10:25 utils.py:618] Found nccl from library libnccl.so.2\n",
      "\u001b[36m(RayWorkerWrapper pid=1612530)\u001b[0m INFO 12-12 21:10:25 pynccl.py:65] vLLM is using nccl==2.20.5\n",
      "\u001b[36m(RayWorkerWrapper pid=1612772)\u001b[0m WARNING 12-12 21:10:26 custom_all_reduce.py:158] Custom allreduce is disabled because it's not supported on more than two PCIe-only GPUs. To silence this warning, specify disable_custom_all_reduce=True explicitly.\n",
      "WARNING 12-12 21:10:26 custom_all_reduce.py:158] Custom allreduce is disabled because it's not supported on more than two PCIe-only GPUs. To silence this warning, specify disable_custom_all_reduce=True explicitly.\n",
      "INFO 12-12 21:10:39 model_runner.py:146] Loading model weights took 33.9833 GB\n",
      "\u001b[36m(RayWorkerWrapper pid=1612772)\u001b[0m INFO 12-12 21:10:42 model_runner.py:146] Loading model weights took 33.9833 GB\n",
      "\u001b[36m(RayWorkerWrapper pid=1612772)\u001b[0m INFO 12-12 21:10:25 utils.py:618] Found nccl from library libnccl.so.2\u001b[32m [repeated 2x across cluster] (Ray deduplicates logs by default. Set RAY_DEDUP_LOGS=0 to disable log deduplication, or see https://docs.ray.io/en/master/ray-observability/user-guides/configure-logging.html#log-deduplication for more options.)\u001b[0m\n",
      "\u001b[36m(RayWorkerWrapper pid=1612772)\u001b[0m INFO 12-12 21:10:25 pynccl.py:65] vLLM is using nccl==2.20.5\u001b[32m [repeated 2x across cluster]\u001b[0m\n",
      "\u001b[36m(RayWorkerWrapper pid=1612530)\u001b[0m WARNING 12-12 21:10:26 custom_all_reduce.py:158] Custom allreduce is disabled because it's not supported on more than two PCIe-only GPUs. To silence this warning, specify disable_custom_all_reduce=True explicitly.\u001b[32m [repeated 2x across cluster]\u001b[0m\n",
      "INFO 12-12 21:11:32 distributed_gpu_executor.py:56] # GPU blocks: 7699, # CPU blocks: 3276\n",
      "INFO 12-12 21:11:36 model_runner.py:854] Capturing the model for CUDA graphs. This may lead to unexpected consequences if the model is not static. To run the model in eager mode, set 'enforce_eager=True' or use '--enforce-eager' in the CLI.\n",
      "INFO 12-12 21:11:36 model_runner.py:858] CUDA graphs can take additional 1~3 GiB memory per GPU. If you are running out of memory, consider decreasing `gpu_memory_utilization` or enforcing eager mode. You can also reduce the `max_num_seqs` as needed to decrease memory usage.\n",
      "\u001b[36m(RayWorkerWrapper pid=1612772)\u001b[0m INFO 12-12 21:11:37 model_runner.py:854] Capturing the model for CUDA graphs. This may lead to unexpected consequences if the model is not static. To run the model in eager mode, set 'enforce_eager=True' or use '--enforce-eager' in the CLI.\n",
      "\u001b[36m(RayWorkerWrapper pid=1612772)\u001b[0m INFO 12-12 21:11:37 model_runner.py:858] CUDA graphs can take additional 1~3 GiB memory per GPU. If you are running out of memory, consider decreasing `gpu_memory_utilization` or enforcing eager mode. You can also reduce the `max_num_seqs` as needed to decrease memory usage.\n",
      "\u001b[36m(RayWorkerWrapper pid=1612530)\u001b[0m INFO 12-12 21:10:42 model_runner.py:146] Loading model weights took 33.9833 GB\u001b[32m [repeated 2x across cluster]\u001b[0m\n",
      "\u001b[36m(RayWorkerWrapper pid=1612530)\u001b[0m INFO 12-12 21:12:15 model_runner.py:924] Graph capturing finished in 38 secs.\n",
      "\u001b[36m(RayWorkerWrapper pid=1612680)\u001b[0m INFO 12-12 21:11:37 model_runner.py:854] Capturing the model for CUDA graphs. This may lead to unexpected consequences if the model is not static. To run the model in eager mode, set 'enforce_eager=True' or use '--enforce-eager' in the CLI.\u001b[32m [repeated 2x across cluster]\u001b[0m\n",
      "\u001b[36m(RayWorkerWrapper pid=1612680)\u001b[0m INFO 12-12 21:11:37 model_runner.py:858] CUDA graphs can take additional 1~3 GiB memory per GPU. If you are running out of memory, consider decreasing `gpu_memory_utilization` or enforcing eager mode. You can also reduce the `max_num_seqs` as needed to decrease memory usage.\u001b[32m [repeated 2x across cluster]\u001b[0m\n",
      "INFO 12-12 21:12:15 model_runner.py:924] Graph capturing finished in 39 secs.\n",
      "第0条数据\n"
     ]
    },
    {
     "name": "stderr",
     "output_type": "stream",
     "text": [
      "Processed prompts: 100%|██████████| 1/1 [00:12<00:00, 12.96s/it, Generation Speed: 6.33 toks/s]\n",
      "100%|██████████| 1/1 [00:13<00:00, 13.10s/it]\n"
     ]
    },
    {
     "name": "stdout",
     "output_type": "stream",
     "text": [
      "{'Reactants': ['diphenylacetylene', '19A', '(phenylcyclopropy1)-carbene complex 19B'], 'Product': ['cycloheptadienone 23A', 'cycloheptadienone 25'], 'Yield': ['30 %', '53 %']}\n"
     ]
    },
    {
     "name": "stderr",
     "output_type": "stream",
     "text": [
      "Processed prompts: 100%|██████████| 1/1 [00:06<00:00,  6.53s/it, Generation Speed: 5.52 toks/s]\n",
      "100%|██████████| 1/1 [00:06<00:00,  6.55s/it]\n"
     ]
    },
    {
     "name": "stdout",
     "output_type": "stream",
     "text": [
      "{'Reactants': ['diphenylacetylene', '19A'], 'Product': ['23A'], 'Yield': ['30 %']}\n"
     ]
    },
    {
     "name": "stderr",
     "output_type": "stream",
     "text": [
      "Processed prompts: 100%|██████████| 1/1 [00:08<00:00,  8.29s/it, Generation Speed: 5.92 toks/s]\n",
      "100%|██████████| 1/1 [00:08<00:00,  8.31s/it]\n"
     ]
    },
    {
     "name": "stdout",
     "output_type": "stream",
     "text": [
      "{'Reactants': ['diphenylacetylene', '(phenylcyclopropy1)-carbene complex 19B'], 'Product': ['25'], 'Yield': ['53 %']}\n",
      "第1条数据\n"
     ]
    },
    {
     "name": "stderr",
     "output_type": "stream",
     "text": [
      "Processed prompts: 100%|██████████| 1/1 [00:13<00:00, 13.19s/it, Generation Speed: 6.30 toks/s]\n",
      "100%|██████████| 1/1 [00:13<00:00, 13.20s/it]\n"
     ]
    },
    {
     "name": "stdout",
     "output_type": "stream",
     "text": [
      "{'Reactants': ['2b'], 'Product': ['2-(3-(methylthio)naphthalen-2-yl)pyridine'], 'Catalyst_Reagents': ['copper acetate'], 'Solvent': ['DMSO'], 'Yield': ['89 %'], 'Temperature': ['125 °C']}\n"
     ]
    },
    {
     "name": "stderr",
     "output_type": "stream",
     "text": [
      "Processed prompts: 100%|██████████| 1/1 [00:10<00:00, 10.09s/it, Generation Speed: 6.15 toks/s]\n",
      "100%|██████████| 1/1 [00:10<00:00, 10.12s/it]\n"
     ]
    },
    {
     "name": "stdout",
     "output_type": "stream",
     "text": [
      "{'Reactants': [], 'Product': ['2b'], 'Catalyst_Reagents': ['copper acetate'], 'Solvent': ['DMSO'], 'Yield': ['89 %'], 'Temperature': ['125 °C']}\n",
      "第2条数据\n"
     ]
    },
    {
     "name": "stderr",
     "output_type": "stream",
     "text": [
      "Processed prompts: 100%|██████████| 1/1 [00:06<00:00,  6.62s/it, Generation Speed: 5.90 toks/s]\n",
      "100%|██████████| 1/1 [00:06<00:00,  6.64s/it]\n"
     ]
    },
    {
     "name": "stdout",
     "output_type": "stream",
     "text": [
      "{'Reactants': ['Me3SiCH2MgCl', 'O2'], 'Product': ['Me3SiOH'], 'Workup_reagents': ['H2O']}\n"
     ]
    },
    {
     "name": "stderr",
     "output_type": "stream",
     "text": [
      "Processed prompts: 100%|██████████| 1/1 [00:07<00:00,  7.16s/it, Generation Speed: 6.02 toks/s]\n",
      "100%|██████████| 1/1 [00:07<00:00,  7.17s/it]\n"
     ]
    },
    {
     "name": "stdout",
     "output_type": "stream",
     "text": [
      "{'Reactants': ['Me3SiCH2MgC1', '02'], 'Product': ['(Me3Si)20'], 'Workup_reagents': ['hydrolysis']}\n"
     ]
    },
    {
     "name": "stderr",
     "output_type": "stream",
     "text": [
      "Processed prompts: 100%|██████████| 1/1 [00:06<00:00,  6.98s/it, Generation Speed: 6.02 toks/s]\n",
      "100%|██████████| 1/1 [00:06<00:00,  6.99s/it]\n"
     ]
    },
    {
     "name": "stdout",
     "output_type": "stream",
     "text": [
      "{'Reactants': ['Me3SiCH2MgC1', '02'], 'Product': ['CH20.22'], 'Workup_reagents': ['hydrolysis']}\n",
      "第3条数据\n"
     ]
    },
    {
     "name": "stderr",
     "output_type": "stream",
     "text": [
      "Processed prompts: 100%|██████████| 1/1 [00:07<00:00,  7.34s/it, Generation Speed: 6.27 toks/s]\n",
      "100%|██████████| 1/1 [00:07<00:00,  7.35s/it]\n"
     ]
    },
    {
     "name": "stdout",
     "output_type": "stream",
     "text": [
      "{'Reactants': ['8', 'acetone'], 'Catalyst_Reagents': ['trifluoroacetic acid-tri- fluoroacetic anhydride'], 'Product': ['9.']}\n",
      "第4条数据\n"
     ]
    },
    {
     "name": "stderr",
     "output_type": "stream",
     "text": [
      "Processed prompts: 100%|██████████| 1/1 [00:07<00:00,  7.36s/it, Generation Speed: 5.30 toks/s]\n",
      "100%|██████████| 1/1 [00:07<00:00,  7.37s/it]\n"
     ]
    },
    {
     "name": "stdout",
     "output_type": "stream",
     "text": [
      "{'Reactants': ['10', 'triflic anhydride', 'pyridine'], 'Product': ['11'], 'Yield': ['92 %']}\n"
     ]
    },
    {
     "name": "stderr",
     "output_type": "stream",
     "text": [
      "Processed prompts: 100%|██████████| 1/1 [00:12<00:00, 12.24s/it, Generation Speed: 6.13 toks/s]\n",
      "100%|██████████| 1/1 [00:12<00:00, 12.26s/it]\n"
     ]
    },
    {
     "name": "stdout",
     "output_type": "stream",
     "text": [
      "{'Reactants': ['11', '1-heptyne'], 'Product': ['12'], 'Catalyst_Reagents': ['bis(triphenylphosphine)palladium(II) chloride', 'triethylamine'], 'Solvent': ['DMF'], 'Yield': ['68 %']}\n",
      "第5条数据\n"
     ]
    },
    {
     "name": "stderr",
     "output_type": "stream",
     "text": [
      "Processed prompts: 100%|██████████| 1/1 [00:04<00:00,  4.81s/it, Generation Speed: 5.42 toks/s]\n",
      "100%|██████████| 1/1 [00:04<00:00,  4.82s/it]\n"
     ]
    },
    {
     "name": "stdout",
     "output_type": "stream",
     "text": [
      "{'Reactants': ['its triple bond'], 'Product': ['13'], 'Yield': ['-loo %']}\n"
     ]
    },
    {
     "name": "stderr",
     "output_type": "stream",
     "text": [
      "Processed prompts: 100%|██████████| 1/1 [00:09<00:00,  9.02s/it, Generation Speed: 6.22 toks/s]\n",
      "100%|██████████| 1/1 [00:09<00:00,  9.03s/it]\n"
     ]
    },
    {
     "name": "stdout",
     "output_type": "stream",
     "text": [
      "{'Reactants': ['13'], 'Catalyst_Reagents': ['KOH', 'DMSO'], 'Temperature': ['120 OC'], 'Product': ['5-heptylresorcinolg'], 'Yield': ['90 %']}\n"
     ]
    },
    {
     "name": "stderr",
     "output_type": "stream",
     "text": [
      "Processed prompts: 100%|██████████| 1/1 [00:08<00:00,  8.23s/it, Generation Speed: 6.08 toks/s]\n",
      "100%|██████████| 1/1 [00:08<00:00,  8.24s/it]\n"
     ]
    },
    {
     "name": "stdout",
     "output_type": "stream",
     "text": [
      "{'Reactants': ['13'], 'Catalyst_Reagents': ['KOH', 'DMSO'], 'Temperature': ['120 OC'], 'Product': ['14'], 'Yield': ['90 %']}\n",
      "第6条数据\n"
     ]
    },
    {
     "name": "stderr",
     "output_type": "stream",
     "text": [
      "Processed prompts: 100%|██████████| 1/1 [00:05<00:00,  5.62s/it, Generation Speed: 5.87 toks/s]\n",
      "100%|██████████| 1/1 [00:05<00:00,  5.63s/it]\n"
     ]
    },
    {
     "name": "stdout",
     "output_type": "stream",
     "text": [
      "{'Reactants': ['13', 'lithium benzyl oxide'], 'Solvent': ['THF'], 'Product': ['15.']}\n",
      "第7条数据\n"
     ]
    },
    {
     "name": "stderr",
     "output_type": "stream",
     "text": [
      "Processed prompts: 100%|██████████| 1/1 [00:06<00:00,  6.38s/it, Generation Speed: 5.97 toks/s]\n",
      "100%|██████████| 1/1 [00:06<00:00,  6.39s/it]\n"
     ]
    },
    {
     "name": "stdout",
     "output_type": "stream",
     "text": [
      "{'Reactants': ['16', 'j3-(trimethylsilyl)ethanol'], 'Product': ['17'], 'Yield': ['80 %']}\n",
      "第8条数据\n"
     ]
    },
    {
     "name": "stderr",
     "output_type": "stream",
     "text": [
      "Processed prompts: 100%|██████████| 1/1 [00:09<00:00,  9.98s/it, Generation Speed: 6.32 toks/s]\n",
      "100%|██████████| 1/1 [00:09<00:00,  9.99s/it]\n"
     ]
    },
    {
     "name": "stdout",
     "output_type": "stream",
     "text": [
      "{'Reactants': ['17', 'epoxide 18'], 'Catalyst_Reagents': ['K2C03', '18-crown-6'], 'Solvent': ['acetone'], 'Product': ['19.'], 'Yield': ['81 %']}\n",
      "第9条数据\n"
     ]
    },
    {
     "name": "stderr",
     "output_type": "stream",
     "text": [
      "Processed prompts: 100%|██████████| 1/1 [00:07<00:00,  7.05s/it, Generation Speed: 5.82 toks/s]\n",
      "100%|██████████| 1/1 [00:07<00:00,  7.07s/it]\n"
     ]
    },
    {
     "name": "stdout",
     "output_type": "stream",
     "text": [
      "{'Product': ['11.'], 'Reactants': ['10'], 'Catalyst_Reagents': ['TMSBr'], 'Workup_reagents': ['phosphorylation']}\n",
      "第10条数据\n"
     ]
    },
    {
     "name": "stderr",
     "output_type": "stream",
     "text": [
      "Processed prompts: 100%|██████████| 1/1 [00:07<00:00,  7.45s/it, Generation Speed: 5.78 toks/s]\n",
      "100%|██████████| 1/1 [00:07<00:00,  7.46s/it]\n"
     ]
    },
    {
     "name": "stdout",
     "output_type": "stream",
     "text": [
      "{'Reactants': ['2', 'pyridinium bromide perbromide'], 'Solvent': ['acetic acid'], 'Product': ['3']}\n",
      "第11条数据\n"
     ]
    },
    {
     "name": "stderr",
     "output_type": "stream",
     "text": [
      "Processed prompts: 100%|██████████| 1/1 [00:06<00:00,  6.77s/it, Generation Speed: 6.21 toks/s]\n",
      "100%|██████████| 1/1 [00:06<00:00,  6.79s/it]\n"
     ]
    },
    {
     "name": "stdout",
     "output_type": "stream",
     "text": [
      "{'Reactants': ['ethyl 3,3-diamino-2-propenoatelg', '4', '2'], 'Product': ['1'], 'Yield': ['58 %']}\n",
      "第12条数据\n"
     ]
    },
    {
     "name": "stderr",
     "output_type": "stream",
     "text": [
      "Processed prompts: 100%|██████████| 1/1 [00:16<00:00, 16.88s/it, Generation Speed: 6.46 toks/s]\n",
      "100%|██████████| 1/1 [00:16<00:00, 16.90s/it]\n"
     ]
    },
    {
     "name": "stdout",
     "output_type": "stream",
     "text": [
      "{'Reactants': ['α-bromoalkene 6', 'n- butyllithium', 'n-BuLi'], 'Product': ['4'], 'Solvent': ['Et2O', 't-BuOMe', 'hexane', 'cyclopentane'], 'Workup_reagents': ['THF'], 'Coproduct': ['1- bromobutane', 'n-BuBr'], 'Byproducts': ['8', 'LiBr']}\n",
      "第13条数据\n"
     ]
    },
    {
     "name": "stderr",
     "output_type": "stream",
     "text": [
      "Processed prompts: 100%|██████████| 1/1 [00:04<00:00,  4.84s/it, Generation Speed: 5.38 toks/s]\n",
      "100%|██████████| 1/1 [00:04<00:00,  4.86s/it]\n"
     ]
    },
    {
     "name": "stdout",
     "output_type": "stream",
     "text": [
      "{'Product': ['2.'], 'Reactants': ['1'], 'Catalyst_Reagents': ['AA6']}\n",
      "第14条数据\n"
     ]
    },
    {
     "name": "stderr",
     "output_type": "stream",
     "text": [
      "Processed prompts: 100%|██████████| 1/1 [00:08<00:00,  8.55s/it, Generation Speed: 5.97 toks/s]\n",
      "100%|██████████| 1/1 [00:08<00:00,  8.56s/it]\n"
     ]
    },
    {
     "name": "stdout",
     "output_type": "stream",
     "text": [
      "{'Product': ['1'], 'Reactants': [\"5'-aminoadenosine derivative 2s\", 'biphenyl ester 3'], 'Solvent': ['CHCI3']}\n",
      "第15条数据\n"
     ]
    },
    {
     "name": "stderr",
     "output_type": "stream",
     "text": [
      "Processed prompts: 100%|██████████| 1/1 [00:04<00:00,  4.13s/it, Generation Speed: 5.33 toks/s]\n",
      "100%|██████████| 1/1 [00:04<00:00,  4.14s/it]\n"
     ]
    },
    {
     "name": "stdout",
     "output_type": "stream",
     "text": [
      "{'Reactants': ['46', '5.7-8'], 'Product': ['3']}\n",
      "第16条数据\n"
     ]
    },
    {
     "name": "stderr",
     "output_type": "stream",
     "text": [
      "Processed prompts: 100%|██████████| 1/1 [00:08<00:00,  8.91s/it, Generation Speed: 6.07 toks/s]\n",
      "100%|██████████| 1/1 [00:08<00:00,  8.92s/it]\n"
     ]
    },
    {
     "name": "stdout",
     "output_type": "stream",
     "text": [
      "{'Solvent': ['acetone', '50 : 50 acetone / water'], 'Product': ['3-ﬂuoropentadecane'], 'Yield': ['22 %', '4 %']}\n",
      "第17条数据\n"
     ]
    },
    {
     "name": "stderr",
     "output_type": "stream",
     "text": [
      "Processed prompts: 100%|██████████| 1/1 [00:09<00:00,  9.58s/it, Generation Speed: 5.86 toks/s]\n",
      "100%|██████████| 1/1 [00:09<00:00,  9.60s/it]\n"
     ]
    },
    {
     "name": "stdout",
     "output_type": "stream",
     "text": [
      "{'Reactants': ['N-acetyl+ galactosamine'], 'Product': ['7'], 'Yield': ['55 %'], 'Temperature': ['165-166.5 °C']}\n",
      "第18条数据\n"
     ]
    },
    {
     "name": "stderr",
     "output_type": "stream",
     "text": [
      "Processed prompts: 100%|██████████| 1/1 [00:07<00:00,  7.06s/it, Generation Speed: 6.81 toks/s]\n",
      "100%|██████████| 1/1 [00:07<00:00,  7.08s/it]\n"
     ]
    },
    {
     "name": "stdout",
     "output_type": "stream",
     "text": [
      "{'Reactants': ['allylic ether 5'], 'Product': ['10'], 'Catalyst_Reagents': ['MeMgBr', '5 mol % 1'], 'Yield': ['70 %']}\n",
      "第19条数据\n"
     ]
    },
    {
     "name": "stderr",
     "output_type": "stream",
     "text": [
      "Processed prompts: 100%|██████████| 1/1 [00:06<00:00,  6.67s/it, Generation Speed: 5.85 toks/s]\n",
      "100%|██████████| 1/1 [00:06<00:00,  6.68s/it]\n"
     ]
    },
    {
     "name": "stdout",
     "output_type": "stream",
     "text": [
      "{'Reactants': ['35', 'alcohol'], 'Product': ['36'], 'Catalyst_Reagents': ['[4]paracyclophane 3']}\n",
      "第20条数据\n"
     ]
    },
    {
     "name": "stderr",
     "output_type": "stream",
     "text": [
      "Processed prompts: 100%|██████████| 1/1 [00:08<00:00,  8.10s/it, Generation Speed: 5.68 toks/s]\n",
      "100%|██████████| 1/1 [00:08<00:00,  8.11s/it]\n"
     ]
    },
    {
     "name": "stdout",
     "output_type": "stream",
     "text": [
      "{'Reactants': ['pivalonitrile', 'titanacyclobutane 1', 'Tebbe’s reagent'], 'Product': ['diazati- tanacyclohexadiene']}\n"
     ]
    },
    {
     "name": "stderr",
     "output_type": "stream",
     "text": [
      "Processed prompts: 100%|██████████| 1/1 [00:07<00:00,  7.16s/it, Generation Speed: 5.17 toks/s]\n",
      "100%|██████████| 1/1 [00:07<00:00,  7.17s/it]\n"
     ]
    },
    {
     "name": "stdout",
     "output_type": "stream",
     "text": [
      "{'Reactants': ['pivalonitrile', 'titanacyclobutane 1', 'Tebbe’s reagent'], 'Product': ['3']}\n",
      "第21条数据\n"
     ]
    },
    {
     "name": "stderr",
     "output_type": "stream",
     "text": [
      "Processed prompts: 100%|██████████| 1/1 [00:04<00:00,  4.16s/it, Generation Speed: 5.29 toks/s]\n",
      "100%|██████████| 1/1 [00:04<00:00,  4.17s/it]\n"
     ]
    },
    {
     "name": "stdout",
     "output_type": "stream",
     "text": [
      "{'Product': ['glycine'], 'Reactants': ['1', 'Gly - Gly']}\n",
      "第22条数据\n"
     ]
    },
    {
     "name": "stderr",
     "output_type": "stream",
     "text": [
      "Processed prompts: 100%|██████████| 1/1 [00:04<00:00,  4.73s/it, Generation Speed: 5.72 toks/s]\n",
      "100%|██████████| 1/1 [00:04<00:00,  4.74s/it]\n"
     ]
    },
    {
     "name": "stdout",
     "output_type": "stream",
     "text": [
      "{'Product': ['glycine'], 'Catalyst_Reagents': ['NaHCO3', 'HEPES']}\n",
      "第23条数据\n"
     ]
    },
    {
     "name": "stderr",
     "output_type": "stream",
     "text": [
      "Processed prompts: 100%|██████████| 1/1 [00:06<00:00,  6.16s/it, Generation Speed: 6.01 toks/s]\n",
      "100%|██████████| 1/1 [00:06<00:00,  6.18s/it]\n"
     ]
    },
    {
     "name": "stdout",
     "output_type": "stream",
     "text": [
      "{'Reactants': ['10'], 'Catalyst_Reagents': ['zirconium'], 'Product': ['11'], 'Yield': ['60 %']}\n",
      "第24条数据\n"
     ]
    },
    {
     "name": "stderr",
     "output_type": "stream",
     "text": [
      "Processed prompts: 100%|██████████| 1/1 [00:06<00:00,  6.60s/it, Generation Speed: 6.07 toks/s]\n",
      "100%|██████████| 1/1 [00:06<00:00,  6.61s/it]\n"
     ]
    },
    {
     "name": "stdout",
     "output_type": "stream",
     "text": [
      "{'Reactants': ['13', 'catecholborane'], 'Product': ['8'], 'Temperature': ['room temperature'], 'Workup_reagents': ['hydrolysis']}\n",
      "第25条数据\n"
     ]
    },
    {
     "name": "stderr",
     "output_type": "stream",
     "text": [
      "Processed prompts: 100%|██████████| 1/1 [00:07<00:00,  7.82s/it, Generation Speed: 3.20 toks/s]\n",
      "100%|██████████| 1/1 [00:07<00:00,  7.84s/it]\n"
     ]
    },
    {
     "name": "stdout",
     "output_type": "stream",
     "text": [
      "{'Reactants': ['5-cyclononynone (lO)'], 'Product': ['11']}\n"
     ]
    },
    {
     "name": "stderr",
     "output_type": "stream",
     "text": [
      "Processed prompts: 100%|██████████| 1/1 [00:06<00:00,  6.72s/it, Generation Speed: 3.72 toks/s]\n",
      "100%|██████████| 1/1 [00:06<00:00,  6.74s/it]\n"
     ]
    },
    {
     "name": "stdout",
     "output_type": "stream",
     "text": [
      "{'Reactants': ['5-cyclononynone (lO)'], 'Product': ['12']}\n",
      "第26条数据\n"
     ]
    },
    {
     "name": "stderr",
     "output_type": "stream",
     "text": [
      "Processed prompts: 100%|██████████| 1/1 [00:02<00:00,  2.92s/it, Generation Speed: 4.46 toks/s]\n",
      "100%|██████████| 1/1 [00:02<00:00,  2.93s/it]\n"
     ]
    },
    {
     "name": "stdout",
     "output_type": "stream",
     "text": [
      "{'Product': ['3'], 'Temperature': ['room']}\n",
      "第27条数据\n"
     ]
    },
    {
     "name": "stderr",
     "output_type": "stream",
     "text": [
      "Processed prompts: 100%|██████████| 1/1 [00:03<00:00,  3.94s/it, Generation Speed: 4.06 toks/s]\n",
      "100%|██████████| 1/1 [00:03<00:00,  3.95s/it]\n"
     ]
    },
    {
     "name": "stdout",
     "output_type": "stream",
     "text": [
      "{'Reactants': ['13'], 'Product': ['14']}\n"
     ]
    },
    {
     "name": "stderr",
     "output_type": "stream",
     "text": [
      "Processed prompts: 100%|██████████| 1/1 [00:04<00:00,  4.21s/it, Generation Speed: 4.05 toks/s]\n",
      "100%|██████████| 1/1 [00:04<00:00,  4.21s/it]\n"
     ]
    },
    {
     "name": "stdout",
     "output_type": "stream",
     "text": [
      "{'Reactants': ['13'], 'Product': ['16.']}\n",
      "第28条数据\n"
     ]
    },
    {
     "name": "stderr",
     "output_type": "stream",
     "text": [
      "Processed prompts: 100%|██████████| 1/1 [00:05<00:00,  5.69s/it, Generation Speed: 5.28 toks/s]\n",
      "100%|██████████| 1/1 [00:05<00:00,  5.70s/it]\n"
     ]
    },
    {
     "name": "stdout",
     "output_type": "stream",
     "text": [
      "{'Product': ['1 la'], 'Reactants': ['9', 'lOd'], 'Catalyst_Reagents': ['1 la']}\n",
      "第29条数据\n"
     ]
    },
    {
     "name": "stderr",
     "output_type": "stream",
     "text": [
      "Processed prompts: 100%|██████████| 1/1 [00:06<00:00,  6.29s/it, Generation Speed: 5.89 toks/s]\n",
      "100%|██████████| 1/1 [00:06<00:00,  6.31s/it]\n"
     ]
    },
    {
     "name": "stdout",
     "output_type": "stream",
     "text": [
      "{'Reactants': ['23'], 'Catalyst_Reagents': ['NaBH4'], 'Product': ['24'], 'Yield': ['98 %']}\n",
      "第30条数据\n"
     ]
    },
    {
     "name": "stderr",
     "output_type": "stream",
     "text": [
      "Processed prompts: 100%|██████████| 1/1 [00:05<00:00,  5.11s/it, Generation Speed: 4.51 toks/s]\n",
      "100%|██████████| 1/1 [00:05<00:00,  5.13s/it]\n"
     ]
    },
    {
     "name": "stdout",
     "output_type": "stream",
     "text": [
      "{'Product': ['2,5-Dihydrofuran'], 'Temperature': ['465 K']}\n"
     ]
    },
    {
     "name": "stderr",
     "output_type": "stream",
     "text": [
      "Processed prompts: 100%|██████████| 1/1 [00:04<00:00,  4.27s/it, Generation Speed: 3.99 toks/s]\n",
      "100%|██████████| 1/1 [00:04<00:00,  4.28s/it]\n"
     ]
    },
    {
     "name": "stdout",
     "output_type": "stream",
     "text": [
      "{'Product': ['furan'], 'Temperature': ['465 K']}\n",
      "第31条数据\n"
     ]
    },
    {
     "name": "stderr",
     "output_type": "stream",
     "text": [
      "Processed prompts: 100%|██████████| 1/1 [00:02<00:00,  2.09s/it, Generation Speed: 3.37 toks/s]\n",
      "100%|██████████| 1/1 [00:02<00:00,  2.10s/it]\n"
     ]
    },
    {
     "name": "stdout",
     "output_type": "stream",
     "text": [
      "{'Product': ['water']}\n"
     ]
    },
    {
     "name": "stderr",
     "output_type": "stream",
     "text": [
      "Processed prompts: 100%|██████████| 1/1 [00:02<00:00,  2.26s/it, Generation Speed: 3.55 toks/s]\n",
      "100%|██████████| 1/1 [00:02<00:00,  2.27s/it]\n"
     ]
    },
    {
     "name": "stdout",
     "output_type": "stream",
     "text": [
      "{'Product': ['carbon dioxide']}\n"
     ]
    },
    {
     "name": "stderr",
     "output_type": "stream",
     "text": [
      "Processed prompts: 100%|██████████| 1/1 [00:03<00:00,  3.28s/it, Generation Speed: 4.28 toks/s]\n",
      "100%|██████████| 1/1 [00:03<00:00,  3.29s/it]\n"
     ]
    },
    {
     "name": "stdout",
     "output_type": "stream",
     "text": [
      "{'Product': ['2(5H)-furanone']}\n"
     ]
    },
    {
     "name": "stderr",
     "output_type": "stream",
     "text": [
      "Processed prompts: 100%|██████████| 1/1 [00:02<00:00,  2.76s/it, Generation Speed: 4.36 toks/s]\n",
      "100%|██████████| 1/1 [00:02<00:00,  2.79s/it]\n"
     ]
    },
    {
     "name": "stdout",
     "output_type": "stream",
     "text": [
      "{'Product': ['maleic anhydride']}\n"
     ]
    },
    {
     "name": "stderr",
     "output_type": "stream",
     "text": [
      "Processed prompts: 100%|██████████| 1/1 [00:03<00:00,  3.27s/it, Generation Speed: 4.60 toks/s]\n",
      "100%|██████████| 1/1 [00:03<00:00,  3.28s/it]\n"
     ]
    },
    {
     "name": "stdout",
     "output_type": "stream",
     "text": [
      "{'Product': ['4-vinylcyclohexene']}\n"
     ]
    },
    {
     "name": "stderr",
     "output_type": "stream",
     "text": [
      "Processed prompts: 100%|██████████| 1/1 [00:02<00:00,  2.34s/it, Generation Speed: 3.86 toks/s]\n",
      "100%|██████████| 1/1 [00:02<00:00,  2.35s/it]\n"
     ]
    },
    {
     "name": "stdout",
     "output_type": "stream",
     "text": [
      "{'Product': ['styrene.']}\n",
      "第32条数据\n"
     ]
    },
    {
     "name": "stderr",
     "output_type": "stream",
     "text": [
      "Processed prompts: 100%|██████████| 1/1 [00:06<00:00,  6.02s/it, Generation Speed: 6.15 toks/s]\n",
      "100%|██████████| 1/1 [00:06<00:00,  6.02s/it]\n"
     ]
    },
    {
     "name": "stdout",
     "output_type": "stream",
     "text": [
      "{'Reactants': ['p proline'], 'Catalyst_Reagents': ['formic acid', 'acetic anhydride'], 'Product': ['25']}\n",
      "第33条数据\n"
     ]
    },
    {
     "name": "stderr",
     "output_type": "stream",
     "text": [
      "Processed prompts: 100%|██████████| 1/1 [00:07<00:00,  7.66s/it, Generation Speed: 6.14 toks/s]\n",
      "100%|██████████| 1/1 [00:07<00:00,  7.67s/it]\n"
     ]
    },
    {
     "name": "stdout",
     "output_type": "stream",
     "text": [
      "{'Reactants': [], 'Catalyst_Reagents': ['lithium aluminum hydride'], 'Product': ['(S)-2-(hy- droxymethy1)-1 methylpyrrolidine']}\n"
     ]
    },
    {
     "name": "stderr",
     "output_type": "stream",
     "text": [
      "Processed prompts: 100%|██████████| 1/1 [00:03<00:00,  3.96s/it, Generation Speed: 5.31 toks/s]\n",
      "100%|██████████| 1/1 [00:03<00:00,  3.97s/it]\n"
     ]
    },
    {
     "name": "stdout",
     "output_type": "stream",
     "text": [
      "{'Reactants': ['lithium aluminum hydride'], 'Product': ['26']}\n",
      "第34条数据\n"
     ]
    },
    {
     "name": "stderr",
     "output_type": "stream",
     "text": [
      "Processed prompts: 100%|██████████| 1/1 [00:10<00:00, 10.53s/it, Generation Speed: 6.08 toks/s]\n",
      "100%|██████████| 1/1 [00:10<00:00, 10.54s/it]\n"
     ]
    },
    {
     "name": "stdout",
     "output_type": "stream",
     "text": [
      "{'Reactants': ['2-(chloromethyl)-1-methylpyrrolidine', 'thionyl chloride'], 'Solvent': ['chloroform'], 'Product': ['hydrochloride salt of 2-(chloromethyl)-1-methylpyrrolidine']}\n"
     ]
    },
    {
     "name": "stderr",
     "output_type": "stream",
     "text": [
      "Processed prompts: 100%|██████████| 1/1 [00:08<00:00,  8.90s/it, Generation Speed: 5.62 toks/s]\n",
      "100%|██████████| 1/1 [00:08<00:00,  8.92s/it]\n"
     ]
    },
    {
     "name": "stdout",
     "output_type": "stream",
     "text": [
      "{'Reactants': ['2-(chloromethyl)-1-methylpyrrolidine alcohol'], 'Catalyst_Reagents': ['thionyl chloride'], 'Solvent': ['chloroform'], 'Product': ['27']}\n",
      "第35条数据\n"
     ]
    },
    {
     "name": "stderr",
     "output_type": "stream",
     "text": [
      "Processed prompts: 100%|██████████| 1/1 [00:04<00:00,  4.78s/it, Generation Speed: 5.87 toks/s]\n",
      "100%|██████████| 1/1 [00:04<00:00,  4.79s/it]\n"
     ]
    },
    {
     "name": "stdout",
     "output_type": "stream",
     "text": [
      "{'Reactants': ['sodium cyanide'], 'Solvent': ['80 % ethanol'], 'Product': ['30']}\n",
      "第36条数据\n"
     ]
    },
    {
     "name": "stderr",
     "output_type": "stream",
     "text": [
      "Processed prompts: 100%|██████████| 1/1 [00:04<00:00,  4.98s/it, Generation Speed: 5.84 toks/s]\n",
      "100%|██████████| 1/1 [00:04<00:00,  4.99s/it]\n"
     ]
    },
    {
     "name": "stdout",
     "output_type": "stream",
     "text": [
      "{'Reactants': ['concentrated HCI'], 'Product': ['1 -methylpyrrolidine-2-acetic acid']}\n"
     ]
    },
    {
     "name": "stderr",
     "output_type": "stream",
     "text": [
      "Processed prompts: 100%|██████████| 1/1 [00:03<00:00,  3.46s/it, Generation Speed: 5.22 toks/s]\n",
      "100%|██████████| 1/1 [00:03<00:00,  3.48s/it]\n"
     ]
    },
    {
     "name": "stdout",
     "output_type": "stream",
     "text": [
      "{'Reactants': ['concentrated HCI'], 'Product': ['33']}\n",
      "第37条数据\n"
     ]
    },
    {
     "name": "stderr",
     "output_type": "stream",
     "text": [
      "Processed prompts: 100%|██████████| 1/1 [00:10<00:00, 10.43s/it, Generation Speed: 6.14 toks/s]\n",
      "100%|██████████| 1/1 [00:10<00:00, 10.44s/it]\n"
     ]
    },
    {
     "name": "stdout",
     "output_type": "stream",
     "text": [
      "{'Reactants': ['sodium [1,2-13C2]acetate', 'sodium [IJ4C]acetate', 'trimethyl phosphate'], 'Product': [\"methyl [ 1,2- ' 3C2,1-14C]acetate\"]}\n"
     ]
    },
    {
     "name": "stderr",
     "output_type": "stream",
     "text": [
      "Processed prompts: 100%|██████████| 1/1 [00:09<00:00,  9.00s/it, Generation Speed: 4.78 toks/s]\n",
      "100%|██████████| 1/1 [00:09<00:00,  9.01s/it]\n"
     ]
    },
    {
     "name": "stdout",
     "output_type": "stream",
     "text": [
      "{'Reactants': ['sodium [1,2-13C2]acetate', 'sodium [IJ4C]acetate', 'trimethyl phosphate'], 'Product': ['B']}\n"
     ]
    },
    {
     "name": "stderr",
     "output_type": "stream",
     "text": [
      "Processed prompts: 100%|██████████| 1/1 [00:10<00:00, 10.26s/it, Generation Speed: 4.97 toks/s]\n",
      "100%|██████████| 1/1 [00:10<00:00, 10.27s/it]\n"
     ]
    },
    {
     "name": "stdout",
     "output_type": "stream",
     "text": [
      "{'Reactants': [\"methyl [ 1,2- ' 3C2,1-14C]acetate ( B )\"], 'Product': ['29'], 'Catalyst_Reagents': ['lithium']}\n",
      "第38条数据\n"
     ]
    },
    {
     "name": "stderr",
     "output_type": "stream",
     "text": [
      "Processed prompts: 100%|██████████| 1/1 [00:11<00:00, 11.82s/it, Generation Speed: 5.17 toks/s]\n",
      "100%|██████████| 1/1 [00:11<00:00, 11.83s/it]\n"
     ]
    },
    {
     "name": "stdout",
     "output_type": "stream",
     "text": [
      "{'Product': ['methyl (RS)-[ 1,2- 13C2 , 1 -14C]-4-( 1 -methyl-2-pyrrolidinyl)-3-oxobutanoate'], 'Reactants': ['31']}\n"
     ]
    },
    {
     "name": "stderr",
     "output_type": "stream",
     "text": [
      "Processed prompts: 100%|██████████| 1/1 [00:03<00:00,  3.20s/it, Generation Speed: 2.51 toks/s]\n",
      "100%|██████████| 1/1 [00:03<00:00,  3.21s/it]\n"
     ]
    },
    {
     "name": "stdout",
     "output_type": "stream",
     "text": [
      "{'Product': ['31']}\n",
      "第39条数据\n"
     ]
    },
    {
     "name": "stderr",
     "output_type": "stream",
     "text": [
      "Processed prompts: 100%|██████████| 1/1 [00:06<00:00,  6.06s/it, Generation Speed: 4.95 toks/s]\n",
      "100%|██████████| 1/1 [00:06<00:00,  6.08s/it]\n"
     ]
    },
    {
     "name": "stdout",
     "output_type": "stream",
     "text": [
      "{'Reactants': ['3a'], 'Product': ['4a'], 'Solvent': ['water'], 'Yield': ['high']}\n",
      "第40条数据\n"
     ]
    },
    {
     "name": "stderr",
     "output_type": "stream",
     "text": [
      "Processed prompts: 100%|██████████| 1/1 [00:14<00:00, 14.83s/it, Generation Speed: 5.67 toks/s]\n",
      "100%|██████████| 1/1 [00:14<00:00, 14.85s/it]\n"
     ]
    },
    {
     "name": "stdout",
     "output_type": "stream",
     "text": [
      "{'Reactants': ['allyl iodoacetate 3a'], 'Solvent': ['water'], 'Catalyst_Reagents': ['triethylborane'], 'Temperature': ['25 ( cid : 176 ) C'], 'Time': ['3 h'], 'Yield': ['67 %'], 'Product': ['4a']}\n",
      "第41条数据\n"
     ]
    },
    {
     "name": "stderr",
     "output_type": "stream",
     "text": [
      "Processed prompts: 100%|██████████| 1/1 [00:21<00:00, 21.85s/it, Generation Speed: 5.63 toks/s]\n",
      "100%|██████████| 1/1 [00:21<00:00, 21.87s/it]\n"
     ]
    },
    {
     "name": "stdout",
     "output_type": "stream",
     "text": [
      "{'Reactants': ['3-iodo-1-methylquinolin-4(1H)-one 4', 'phenylboronic acid 8a'], 'Product': ['3-phenylquinolin-4(1H)-one'], 'Catalyst_Reagents': ['Pd(OAc)2', 'PPh3', 'Na2CO3'], 'Solvent': ['DME / EtOH (1.5 : 1)'], 'Temperature': ['70 ° C'], 'Time': ['5 min']}\n"
     ]
    },
    {
     "name": "stderr",
     "output_type": "stream",
     "text": [
      "Processed prompts: 100%|██████████| 1/1 [00:20<00:00, 20.70s/it, Generation Speed: 5.41 toks/s]\n",
      "100%|██████████| 1/1 [00:20<00:00, 20.71s/it]\n"
     ]
    },
    {
     "name": "stdout",
     "output_type": "stream",
     "text": [
      "{'Reactants': ['3-iodo-1-methylquinolin-4(1H)-one 4', 'phenylboronic acid 8a'], 'Product': ['9a'], 'Catalyst_Reagents': ['Pd(OAc)2', 'PPh3', 'Na2CO3'], 'Solvent': ['DME / EtOH (1.5 : 1)'], 'Temperature': ['70 ° C'], 'Time': ['5 min']}\n",
      "第42条数据\n"
     ]
    },
    {
     "name": "stderr",
     "output_type": "stream",
     "text": [
      "Processed prompts: 100%|██████████| 1/1 [00:14<00:00, 14.40s/it, Generation Speed: 5.21 toks/s]\n",
      "100%|██████████| 1/1 [00:14<00:00, 14.42s/it]\n"
     ]
    },
    {
     "name": "stdout",
     "output_type": "stream",
     "text": [
      "{'Reactants': ['1- substituted-3-iodoquinolin-4(1H)-ones', '4', '6'], 'Product': ['3-phenylquinolin-4(1H)-one'], 'Yield': ['75 %'], 'Time': ['30 min']}\n"
     ]
    },
    {
     "name": "stderr",
     "output_type": "stream",
     "text": [
      "Processed prompts: 100%|██████████| 1/1 [00:12<00:00, 12.55s/it, Generation Speed: 5.10 toks/s]\n",
      "100%|██████████| 1/1 [00:12<00:00, 12.56s/it]\n"
     ]
    },
    {
     "name": "stdout",
     "output_type": "stream",
     "text": [
      "{'Reactants': ['1- substituted-3-iodoquinolin-4(1H)-ones', '4', '6'], 'Product': ['9a'], 'Yield': ['75 %'], 'Time': ['30 min']}\n",
      "第43条数据\n"
     ]
    },
    {
     "name": "stderr",
     "output_type": "stream",
     "text": [
      "Processed prompts: 100%|██████████| 1/1 [00:03<00:00,  3.83s/it, Generation Speed: 3.66 toks/s]\n",
      "100%|██████████| 1/1 [00:03<00:00,  3.84s/it]\n"
     ]
    },
    {
     "name": "stdout",
     "output_type": "stream",
     "text": [
      "{'Reactants': ['B'], 'Product': ['C']}\n",
      "第44条数据\n"
     ]
    },
    {
     "name": "stderr",
     "output_type": "stream",
     "text": [
      "Processed prompts: 100%|██████████| 1/1 [00:05<00:00,  5.53s/it, Generation Speed: 4.89 toks/s]\n",
      "100%|██████████| 1/1 [00:05<00:00,  5.54s/it]\n"
     ]
    },
    {
     "name": "stdout",
     "output_type": "stream",
     "text": [
      "{'Reactants': ['3a', '(MeCN)3Cr(C0)3'], 'Product': ['4a']}\n"
     ]
    },
    {
     "name": "stderr",
     "output_type": "stream",
     "text": [
      "Processed prompts: 100%|██████████| 1/1 [00:05<00:00,  5.85s/it, Generation Speed: 4.96 toks/s]\n",
      "100%|██████████| 1/1 [00:05<00:00,  5.86s/it]\n"
     ]
    },
    {
     "name": "stdout",
     "output_type": "stream",
     "text": [
      "{'Reactants': ['3a', '(MeCN)3Cr(C0)3'], 'Product': [\"5a1'\"]}\n"
     ]
    },
    {
     "name": "stderr",
     "output_type": "stream",
     "text": [
      "Processed prompts: 100%|██████████| 1/1 [00:07<00:00,  7.33s/it, Generation Speed: 5.05 toks/s]\n",
      "100%|██████████| 1/1 [00:07<00:00,  7.34s/it]\n"
     ]
    },
    {
     "name": "stdout",
     "output_type": "stream",
     "text": [
      "{'Reactants': ['3b'], 'Catalyst_Reagents': ['(MeCN)3Cr(C0)3'], 'Product': [\"4b1'\"]}\n"
     ]
    },
    {
     "name": "stderr",
     "output_type": "stream",
     "text": [
      "Processed prompts: 100%|██████████| 1/1 [00:07<00:00,  7.09s/it, Generation Speed: 5.08 toks/s]\n",
      "100%|██████████| 1/1 [00:07<00:00,  7.10s/it]\n"
     ]
    },
    {
     "name": "stdout",
     "output_type": "stream",
     "text": [
      "{'Reactants': ['3b'], 'Catalyst_Reagents': ['(MeCN)3Cr(C0)3'], 'Product': [\"5b,''\"]}\n",
      "第45条数据\n"
     ]
    },
    {
     "name": "stderr",
     "output_type": "stream",
     "text": [
      "Processed prompts: 100%|██████████| 1/1 [00:07<00:00,  7.62s/it, Generation Speed: 5.26 toks/s]\n",
      "100%|██████████| 1/1 [00:07<00:00,  7.63s/it]\n"
     ]
    },
    {
     "name": "stdout",
     "output_type": "stream",
     "text": [
      "{'Reactants': ['4a', 'ethyl acrylate'], 'Product': ['6a'], 'Yield': ['86 %'], 'Temperature': ['photochemically initiated']}\n",
      "第46条数据\n"
     ]
    },
    {
     "name": "stderr",
     "output_type": "stream",
     "text": [
      "Processed prompts: 100%|██████████| 1/1 [00:09<00:00,  9.91s/it, Generation Speed: 5.05 toks/s]\n",
      "100%|██████████| 1/1 [00:09<00:00,  9.92s/it]\n"
     ]
    },
    {
     "name": "stdout",
     "output_type": "stream",
     "text": [
      "{'Reactants': ['tryptophan methyl ester', '9'], 'Product': ['12'], 'Yield': ['35 %'], 'Temperature': [\"140 'C\"], 'Time': ['3 h']}\n",
      "第47条数据\n"
     ]
    },
    {
     "name": "stderr",
     "output_type": "stream",
     "text": [
      "Processed prompts: 100%|██████████| 1/1 [00:06<00:00,  6.25s/it, Generation Speed: 4.81 toks/s]\n",
      "100%|██████████| 1/1 [00:06<00:00,  6.26s/it]\n"
     ]
    },
    {
     "name": "stdout",
     "output_type": "stream",
     "text": [
      "{'Reactants': ['6a', '7a'], 'Product': ['8a'], 'Yield': ['23', '%']}\n",
      "第48条数据\n"
     ]
    },
    {
     "name": "stderr",
     "output_type": "stream",
     "text": [
      "Processed prompts: 100%|██████████| 1/1 [00:06<00:00,  6.95s/it, Generation Speed: 5.33 toks/s]\n",
      "100%|██████████| 1/1 [00:06<00:00,  6.96s/it]\n"
     ]
    },
    {
     "name": "stdout",
     "output_type": "stream",
     "text": [
      "{'Product': ['2'], 'Reactants': ['1'], 'Catalyst_Reagents': ['third oxide'], 'Workup_reagents': ['electrochemical oxidation']}\n",
      "第49条数据\n"
     ]
    },
    {
     "name": "stderr",
     "output_type": "stream",
     "text": [
      "Processed prompts: 100%|██████████| 1/1 [00:09<00:00,  9.40s/it, Generation Speed: 4.26 toks/s]\n",
      "100%|██████████| 1/1 [00:09<00:00,  9.42s/it]\n"
     ]
    },
    {
     "name": "stdout",
     "output_type": "stream",
     "text": [
      "{'Reactants': ['1a', '2a'], 'Product': ['spiro[4,5]trienone'], 'Catalyst_Reagents': ['18O']}\n"
     ]
    },
    {
     "name": "stderr",
     "output_type": "stream",
     "text": [
      "Processed prompts: 100%|██████████| 1/1 [00:08<00:00,  8.47s/it, Generation Speed: 3.78 toks/s]\n",
      "100%|██████████| 1/1 [00:08<00:00,  8.48s/it]\n"
     ]
    },
    {
     "name": "stdout",
     "output_type": "stream",
     "text": [
      "{'Reactants': ['1a', '2a'], 'Product': ['3a'], 'Catalyst_Reagents': ['18O']}\n",
      "第50条数据\n"
     ]
    },
    {
     "name": "stderr",
     "output_type": "stream",
     "text": [
      "Processed prompts: 100%|██████████| 1/1 [00:08<00:00,  8.63s/it, Generation Speed: 4.87 toks/s]\n",
      "100%|██████████| 1/1 [00:08<00:00,  8.64s/it]\n"
     ]
    },
    {
     "name": "stdout",
     "output_type": "stream",
     "text": [
      "{'Reactants': ['sulfonylhydrazide 2', 'I2O5'], 'Product': ['4'], 'Catalyst_Reagents': ['I2O5']}\n"
     ]
    },
    {
     "name": "stderr",
     "output_type": "stream",
     "text": [
      "Processed prompts: 100%|██████████| 1/1 [00:06<00:00,  6.93s/it, Generation Speed: 4.48 toks/s]\n",
      "100%|██████████| 1/1 [00:06<00:00,  6.95s/it]\n"
     ]
    },
    {
     "name": "stdout",
     "output_type": "stream",
     "text": [
      "{'Reactants': ['sulfonylhydrazide 2', 'I2O5'], 'Product': ['I2.']}\n",
      "第51条数据\n"
     ]
    },
    {
     "name": "stderr",
     "output_type": "stream",
     "text": [
      "Processed prompts: 100%|██████████| 1/1 [00:06<00:00,  6.66s/it, Generation Speed: 4.96 toks/s]\n",
      "100%|██████████| 1/1 [00:06<00:00,  6.67s/it]\n"
     ]
    },
    {
     "name": "stdout",
     "output_type": "stream",
     "text": [
      "{'Reactants': ['sulfonyl radical 4', 'arylpropiolamide 1'], 'Product': ['vinyl radical 5']}\n"
     ]
    },
    {
     "name": "stderr",
     "output_type": "stream",
     "text": [
      "Processed prompts: 100%|██████████| 1/1 [00:06<00:00,  6.23s/it, Generation Speed: 4.82 toks/s]\n",
      "100%|██████████| 1/1 [00:06<00:00,  6.25s/it]\n"
     ]
    },
    {
     "name": "stdout",
     "output_type": "stream",
     "text": [
      "{'Reactants': ['sulfonyl radical 4', 'arylpropiolamide 1'], 'Product': ['5.']}\n",
      "第52条数据\n"
     ]
    },
    {
     "name": "stderr",
     "output_type": "stream",
     "text": [
      "Processed prompts: 100%|██████████| 1/1 [00:05<00:00,  5.40s/it, Generation Speed: 3.34 toks/s]\n",
      "100%|██████████| 1/1 [00:05<00:00,  5.41s/it]\n"
     ]
    },
    {
     "name": "stdout",
     "output_type": "stream",
     "text": [
      "{'Reactants': ['vinyl radical 5'], 'Product': ['6']}\n"
     ]
    },
    {
     "name": "stderr",
     "output_type": "stream",
     "text": [
      "Processed prompts: 100%|██████████| 1/1 [00:06<00:00,  6.93s/it, Generation Speed: 4.19 toks/s]\n",
      "100%|██████████| 1/1 [00:06<00:00,  6.94s/it]\n"
     ]
    },
    {
     "name": "stdout",
     "output_type": "stream",
     "text": [
      "{'Reactants': ['vinyl radical 5'], 'Product': ['7'], 'Catalyst_Reagents': ['aryl ring']}\n"
     ]
    },
    {
     "name": "stderr",
     "output_type": "stream",
     "text": [
      "Processed prompts: 100%|██████████| 1/1 [00:08<00:00,  8.23s/it, Generation Speed: 4.38 toks/s]\n",
      "100%|██████████| 1/1 [00:08<00:00,  8.24s/it]\n"
     ]
    },
    {
     "name": "stdout",
     "output_type": "stream",
     "text": [
      "{'Reactants': ['cyclohexadienyl cation 7'], 'Catalyst_Reagents': ['H2O'], 'Product': ['8']}\n",
      "第53条数据\n"
     ]
    },
    {
     "name": "stderr",
     "output_type": "stream",
     "text": [
      "Processed prompts: 100%|██████████| 1/1 [00:05<00:00,  5.39s/it, Generation Speed: 4.64 toks/s]\n",
      "100%|██████████| 1/1 [00:05<00:00,  5.40s/it]\n"
     ]
    },
    {
     "name": "stdout",
     "output_type": "stream",
     "text": [
      "{'Reactants': ['8'], 'Catalyst_Reagents': ['TBHP'], 'Product': ['3']}\n",
      "第54条数据\n"
     ]
    },
    {
     "name": "stderr",
     "output_type": "stream",
     "text": [
      "Processed prompts: 100%|██████████| 1/1 [00:05<00:00,  5.36s/it, Generation Speed: 5.23 toks/s]\n",
      "100%|██████████| 1/1 [00:05<00:00,  5.37s/it]\n"
     ]
    },
    {
     "name": "stdout",
     "output_type": "stream",
     "text": [
      "{'Product': ['5'], 'Time': ['18 h', '2 h'], 'Yield': ['nearly identical']}\n",
      "第55条数据\n"
     ]
    },
    {
     "name": "stderr",
     "output_type": "stream",
     "text": [
      "Processed prompts: 100%|██████████| 1/1 [00:05<00:00,  5.51s/it, Generation Speed: 5.09 toks/s]\n",
      "100%|██████████| 1/1 [00:05<00:00,  5.52s/it]\n"
     ]
    },
    {
     "name": "stdout",
     "output_type": "stream",
     "text": [
      "{'Product': ['5'], 'Yield': ['28 %', '67 %'], 'Time': ['2 h']}\n",
      "第56条数据\n"
     ]
    },
    {
     "name": "stderr",
     "output_type": "stream",
     "text": [
      "Processed prompts: 100%|██████████| 1/1 [00:04<00:00,  4.29s/it, Generation Speed: 3.97 toks/s]\n",
      "100%|██████████| 1/1 [00:04<00:00,  4.31s/it]\n"
     ]
    },
    {
     "name": "stdout",
     "output_type": "stream",
     "text": [
      "{'Reactants': ['1a'], 'Product': ['4a.']}\n",
      "第57条数据\n"
     ]
    },
    {
     "name": "stderr",
     "output_type": "stream",
     "text": [
      "Processed prompts: 100%|██████████| 1/1 [00:13<00:00, 13.17s/it, Generation Speed: 5.55 toks/s]\n",
      "100%|██████████| 1/1 [00:13<00:00, 13.18s/it]\n"
     ]
    },
    {
     "name": "stdout",
     "output_type": "stream",
     "text": [
      "{'Reactants': ['two reactants'], 'Catalyst_Reagents': ['palladium acetate', 'tris(2,6-dimethoxyphenyl)phosphineE(TDMPP)'], 'Solvent': ['THF'], 'Product': ['4a9']}\n"
     ]
    },
    {
     "name": "stderr",
     "output_type": "stream",
     "text": [
      "Processed prompts: 100%|██████████| 1/1 [00:13<00:00, 13.24s/it, Generation Speed: 5.52 toks/s]\n",
      "100%|██████████| 1/1 [00:13<00:00, 13.25s/it]\n"
     ]
    },
    {
     "name": "stdout",
     "output_type": "stream",
     "text": [
      "{'Reactants': ['two reactants'], 'Catalyst_Reagents': ['palladium acetate', 'tris(2,6-dimethoxyphenyl)phosphineE(TDMPP)'], 'Solvent': ['THF'], 'Product': ['5a9']}\n",
      "第58条数据\n"
     ]
    },
    {
     "name": "stderr",
     "output_type": "stream",
     "text": [
      "Processed prompts: 100%|██████████| 1/1 [00:03<00:00,  3.74s/it, Generation Speed: 4.29 toks/s]\n",
      "100%|██████████| 1/1 [00:03<00:00,  3.75s/it]\n"
     ]
    },
    {
     "name": "stdout",
     "output_type": "stream",
     "text": [
      "{'Reactants': ['2b'], 'Product': ['4b']}\n"
     ]
    },
    {
     "name": "stderr",
     "output_type": "stream",
     "text": [
      "Processed prompts: 100%|██████████| 1/1 [00:03<00:00,  3.98s/it, Generation Speed: 4.28 toks/s]\n",
      "100%|██████████| 1/1 [00:03<00:00,  3.99s/it]\n"
     ]
    },
    {
     "name": "stdout",
     "output_type": "stream",
     "text": [
      "{'Reactants': ['2b'], 'Product': ['5b.']}\n",
      "第59条数据\n"
     ]
    },
    {
     "name": "stderr",
     "output_type": "stream",
     "text": [
      "Processed prompts: 100%|██████████| 1/1 [00:06<00:00,  6.88s/it, Generation Speed: 3.93 toks/s]\n",
      "100%|██████████| 1/1 [00:06<00:00,  6.89s/it]\n"
     ]
    },
    {
     "name": "stdout",
     "output_type": "stream",
     "text": [
      "{'Reactants': ['2b'], 'Product': ['3bI0'], 'Solvent': ['benzene']}\n"
     ]
    },
    {
     "name": "stderr",
     "output_type": "stream",
     "text": [
      "Processed prompts: 100%|██████████| 1/1 [00:06<00:00,  6.79s/it, Generation Speed: 3.83 toks/s]\n",
      "100%|██████████| 1/1 [00:06<00:00,  6.80s/it]\n"
     ]
    },
    {
     "name": "stdout",
     "output_type": "stream",
     "text": [
      "{'Reactants': ['2b'], 'Product': ['5b.'], 'Solvent': ['benzene']}\n",
      "第60条数据\n"
     ]
    },
    {
     "name": "stderr",
     "output_type": "stream",
     "text": [
      "Processed prompts: 100%|██████████| 1/1 [00:05<00:00,  5.65s/it, Generation Speed: 4.44 toks/s]\n",
      "100%|██████████| 1/1 [00:05<00:00,  5.66s/it]\n"
     ]
    },
    {
     "name": "stdout",
     "output_type": "stream",
     "text": [
      "{'Reactants': ['TDMPP', 'Pd(OAc)2'], 'Product': ['3b']}\n"
     ]
    },
    {
     "name": "stderr",
     "output_type": "stream",
     "text": [
      "Processed prompts: 100%|██████████| 1/1 [00:06<00:00,  6.39s/it, Generation Speed: 4.71 toks/s]\n",
      "100%|██████████| 1/1 [00:06<00:00,  6.40s/it]\n"
     ]
    },
    {
     "name": "stdout",
     "output_type": "stream",
     "text": [
      "{'Reactants': ['TDMPP', 'Pd(OAc)2', '3b'], 'Product': ['5b.']}\n",
      "第61条数据\n"
     ]
    },
    {
     "name": "stderr",
     "output_type": "stream",
     "text": [
      "Processed prompts: 100%|██████████| 1/1 [00:18<00:00, 18.32s/it, Generation Speed: 5.52 toks/s]\n",
      "100%|██████████| 1/1 [00:18<00:00, 18.34s/it]\n"
     ]
    },
    {
     "name": "stdout",
     "output_type": "stream",
     "text": [
      "{'Reactants': ['1a', '3a'], 'Product': ['3-benzazepine'], 'Catalyst_Reagents': ['Pd(PPh3)4'], 'Workup_reagents': ['K3PO4'], 'Solvent': ['DMF'], 'Temperature': ['110 ° C'], 'Time': ['15 min'], 'Yield': ['13 %']}\n"
     ]
    },
    {
     "name": "stderr",
     "output_type": "stream",
     "text": [
      "Processed prompts: 100%|██████████| 1/1 [00:17<00:00, 17.56s/it, Generation Speed: 5.30 toks/s]\n",
      "100%|██████████| 1/1 [00:17<00:00, 17.57s/it]\n"
     ]
    },
    {
     "name": "stdout",
     "output_type": "stream",
     "text": [
      "{'Reactants': ['1a', '3a'], 'Product': ['4a'], 'Catalyst_Reagents': ['Pd(PPh3)4'], 'Workup_reagents': ['K3PO4'], 'Solvent': ['DMF'], 'Temperature': ['110 ° C'], 'Time': ['15 min'], 'Yield': ['13 %']}\n",
      "第62条数据\n"
     ]
    },
    {
     "name": "stderr",
     "output_type": "stream",
     "text": [
      "Processed prompts: 100%|██████████| 1/1 [00:06<00:00,  6.58s/it, Generation Speed: 5.02 toks/s]\n",
      "100%|██████████| 1/1 [00:06<00:00,  6.59s/it]\n"
     ]
    },
    {
     "name": "stdout",
     "output_type": "stream",
     "text": [
      "{'Reactants': ['methanol'], 'Catalyst_Reagents': ['rhodium', 'iodide'], 'Product': ['acetic acid.']}\n",
      "第63条数据\n"
     ]
    },
    {
     "name": "stderr",
     "output_type": "stream",
     "text": [
      "Processed prompts: 100%|██████████| 1/1 [00:04<00:00,  4.63s/it, Generation Speed: 4.32 toks/s]\n",
      "100%|██████████| 1/1 [00:04<00:00,  4.64s/it]\n"
     ]
    },
    {
     "name": "stdout",
     "output_type": "stream",
     "text": [
      "{'Reactants': ['11', '21'], 'Product': ['22']}\n",
      "第64条数据\n"
     ]
    },
    {
     "name": "stderr",
     "output_type": "stream",
     "text": [
      "Processed prompts: 100%|██████████| 1/1 [00:08<00:00,  8.07s/it, Generation Speed: 5.09 toks/s]\n",
      "100%|██████████| 1/1 [00:08<00:00,  8.08s/it]\n"
     ]
    },
    {
     "name": "stdout",
     "output_type": "stream",
     "text": [
      "{'Reactants': ['2a'], 'Solvent': ['toluene'], 'Temperature': [\"100 'C\"], 'Product': ['tri-tert-butylsilane']}\n"
     ]
    },
    {
     "name": "stderr",
     "output_type": "stream",
     "text": [
      "Processed prompts: 100%|██████████| 1/1 [00:08<00:00,  8.52s/it, Generation Speed: 5.17 toks/s]\n",
      "100%|██████████| 1/1 [00:08<00:00,  8.53s/it]\n"
     ]
    },
    {
     "name": "stdout",
     "output_type": "stream",
     "text": [
      "{'Reactants': ['2a'], 'Solvent': ['toluene'], 'Temperature': [\"100 'C\"], 'Product': ['hexa-tert-butyldisilane']}\n"
     ]
    },
    {
     "name": "stderr",
     "output_type": "stream",
     "text": [
      "Processed prompts: 100%|██████████| 1/1 [00:08<00:00,  8.08s/it, Generation Speed: 5.20 toks/s]\n",
      "100%|██████████| 1/1 [00:08<00:00,  8.09s/it]\n"
     ]
    },
    {
     "name": "stdout",
     "output_type": "stream",
     "text": [
      "{'Reactants': ['2b'], 'Solvent': ['toluene'], 'Temperature': [\"100 'C\"], 'Product': ['tri-tert-butylgermane']}\n"
     ]
    },
    {
     "name": "stderr",
     "output_type": "stream",
     "text": [
      "Processed prompts: 100%|██████████| 1/1 [00:08<00:00,  8.35s/it, Generation Speed: 5.15 toks/s]\n",
      "100%|██████████| 1/1 [00:08<00:00,  8.35s/it]\n"
     ]
    },
    {
     "name": "stdout",
     "output_type": "stream",
     "text": [
      "{'Reactants': ['2b'], 'Solvent': ['toluene'], 'Temperature': [\"100 'C\"], 'Product': ['hexa-terr-butyldigermane']}\n",
      "第65条数据\n"
     ]
    },
    {
     "name": "stderr",
     "output_type": "stream",
     "text": [
      "Processed prompts: 100%|██████████| 1/1 [00:11<00:00, 11.01s/it, Generation Speed: 4.99 toks/s]\n",
      "100%|██████████| 1/1 [00:11<00:00, 11.03s/it]\n"
     ]
    },
    {
     "name": "stdout",
     "output_type": "stream",
     "text": [
      "{'Reactants': ['1r(CR = CRCR3.CR)(PPh3)2C1 ( 1-Cl , R = C02CH3)', '3-butyn-1-01'], 'Product': ['2,1']}\n"
     ]
    },
    {
     "name": "stderr",
     "output_type": "stream",
     "text": [
      "Processed prompts: 100%|██████████| 1/1 [00:05<00:00,  5.70s/it, Generation Speed: 3.86 toks/s]\n",
      "100%|██████████| 1/1 [00:05<00:00,  5.71s/it]\n"
     ]
    },
    {
     "name": "stdout",
     "output_type": "stream",
     "text": [
      "{'Reactants': ['1-C1', 'propargyl alcohol'], 'Product': ['3']}\n",
      "第66条数据\n"
     ]
    },
    {
     "name": "stderr",
     "output_type": "stream",
     "text": [
      "Processed prompts: 100%|██████████| 1/1 [00:13<00:00, 13.77s/it, Generation Speed: 5.38 toks/s]\n",
      "100%|██████████| 1/1 [00:13<00:00, 13.79s/it]\n"
     ]
    },
    {
     "name": "stdout",
     "output_type": "stream",
     "text": [
      "{'Reactants': ['2b', 'Me2SiCl2I7'], 'Solvent': ['Et2O'], 'Temperature': ['-20 °C'], 'Product': ['C2-symmetric bis(phosphine-borane)'], 'Yield': ['89 : 11 ratio']}\n"
     ]
    },
    {
     "name": "stderr",
     "output_type": "stream",
     "text": [
      "Processed prompts: 100%|██████████| 1/1 [00:14<00:00, 14.63s/it, Generation Speed: 5.47 toks/s]\n",
      "100%|██████████| 1/1 [00:14<00:00, 14.64s/it]\n"
     ]
    },
    {
     "name": "stdout",
     "output_type": "stream",
     "text": [
      "{'Reactants': ['2b', 'Me2SiCl2I7'], 'Solvent': ['Et2O'], 'Temperature': ['-20 °C'], 'Product': ['8'], 'Yield': ['89 : 11 ratio'], 'Catalyst_Reagents': ['Me2SiCl2I7']}\n"
     ]
    },
    {
     "name": "stderr",
     "output_type": "stream",
     "text": [
      "Processed prompts: 100%|██████████| 1/1 [00:10<00:00, 10.11s/it, Generation Speed: 5.14 toks/s]\n",
      "100%|██████████| 1/1 [00:10<00:00, 10.12s/it]"
     ]
    },
    {
     "name": "stdout",
     "output_type": "stream",
     "text": [
      "TP, FP, FN 275 156 124\n",
      "NER:  precision, recall 0.6380510440835266 0.6892230576441103\n",
      "NER:  f1_score 0.6626506024096385\n"
     ]
    },
    {
     "name": "stderr",
     "output_type": "stream",
     "text": [
      "\n"
     ]
    }
   ],
   "source": [
    "import os\n",
    "\n",
    "from evaluate import *\n",
    "from llm_re import *\n",
    "\n",
    "def main():\n",
    "    train_data,test_data=get_data()\n",
    "    prev_data=chem_re(train_data,test_data)\n",
    "    Reaction_f1(test_data,prev_data)\n",
    "\n",
    "main()"
   ]
  },
  {
   "cell_type": "markdown",
   "metadata": {},
   "source": [
    "使用微调后的qwen2.5 72b\n",
    "TP, FP, FN 338 55 61\n",
    "NER:  precision, recall 0.8600508905852418 0.8471177944862155\n",
    "NER:  f1_score 0.8535353535353536"
   ]
  },
  {
   "cell_type": "code",
   "execution_count": 1,
   "metadata": {},
   "outputs": [
    {
     "name": "stderr",
     "output_type": "stream",
     "text": [
      "/data/lizh/Conda/anaconda3/envs/vllm/lib/python3.9/site-packages/tqdm/auto.py:21: TqdmWarning: IProgress not found. Please update jupyter and ipywidgets. See https://ipywidgets.readthedocs.io/en/stable/user_install.html\n",
      "  from .autonotebook import tqdm as notebook_tqdm\n",
      "2024-12-12 20:04:03,152\tINFO util.py:154 -- Missing packages: ['ipywidgets']. Run `pip install -U ipywidgets`, then restart the notebook server for rich notebook output.\n",
      "2024-12-12 20:04:05,473\tINFO worker.py:1771 -- Started a local Ray instance.\n"
     ]
    },
    {
     "name": "stdout",
     "output_type": "stream",
     "text": [
      "INFO 12-12 20:04:06 llm_engine.py:161] Initializing an LLM engine (v0.4.3) with config: model='/data/lizh/LLaMA-Factory-main/models/qwen2.5_72b_reaction_sft', speculative_config=None, tokenizer='/data/lizh/LLaMA-Factory-main/models/qwen2.5_72b_reaction_sft', skip_tokenizer_init=False, tokenizer_mode=auto, revision=None, rope_scaling=None, tokenizer_revision=None, trust_remote_code=False, dtype=torch.bfloat16, max_seq_len=32768, download_dir=None, load_format=LoadFormat.AUTO, tensor_parallel_size=4, disable_custom_all_reduce=False, quantization=None, enforce_eager=False, kv_cache_dtype=auto, quantization_param_path=None, device_config=cuda, decoding_config=DecodingConfig(guided_decoding_backend='outlines'), seed=0, served_model_name=/data/lizh/LLaMA-Factory-main/models/qwen2.5_72b_reaction_sft)\n",
      "INFO 12-12 20:04:18 utils.py:618] Found nccl from library libnccl.so.2\n",
      "INFO 12-12 20:04:18 pynccl.py:65] vLLM is using nccl==2.20.5\n",
      "\u001b[36m(RayWorkerWrapper pid=1573084)\u001b[0m INFO 12-12 20:04:18 utils.py:618] Found nccl from library libnccl.so.2\n",
      "\u001b[36m(RayWorkerWrapper pid=1573084)\u001b[0m INFO 12-12 20:04:18 pynccl.py:65] vLLM is using nccl==2.20.5\n",
      "WARNING 12-12 20:04:18 custom_all_reduce.py:158] Custom allreduce is disabled because it's not supported on more than two PCIe-only GPUs. To silence this warning, specify disable_custom_all_reduce=True explicitly.\n",
      "\u001b[36m(RayWorkerWrapper pid=1572993)\u001b[0m WARNING 12-12 20:04:18 custom_all_reduce.py:158] Custom allreduce is disabled because it's not supported on more than two PCIe-only GPUs. To silence this warning, specify disable_custom_all_reduce=True explicitly.\n",
      "INFO 12-12 20:04:51 model_runner.py:146] Loading model weights took 33.9833 GB\n",
      "\u001b[36m(RayWorkerWrapper pid=1572993)\u001b[0m INFO 12-12 20:04:51 model_runner.py:146] Loading model weights took 33.9833 GB\n",
      "\u001b[36m(RayWorkerWrapper pid=1573234)\u001b[0m INFO 12-12 20:04:18 utils.py:618] Found nccl from library libnccl.so.2\u001b[32m [repeated 2x across cluster] (Ray deduplicates logs by default. Set RAY_DEDUP_LOGS=0 to disable log deduplication, or see https://docs.ray.io/en/master/ray-observability/user-guides/configure-logging.html#log-deduplication for more options.)\u001b[0m\n",
      "\u001b[36m(RayWorkerWrapper pid=1573234)\u001b[0m INFO 12-12 20:04:18 pynccl.py:65] vLLM is using nccl==2.20.5\u001b[32m [repeated 2x across cluster]\u001b[0m\n",
      "\u001b[36m(RayWorkerWrapper pid=1573234)\u001b[0m WARNING 12-12 20:04:18 custom_all_reduce.py:158] Custom allreduce is disabled because it's not supported on more than two PCIe-only GPUs. To silence this warning, specify disable_custom_all_reduce=True explicitly.\u001b[32m [repeated 2x across cluster]\u001b[0m\n",
      "INFO 12-12 20:05:41 distributed_gpu_executor.py:56] # GPU blocks: 19424, # CPU blocks: 3276\n",
      "INFO 12-12 20:05:45 model_runner.py:854] Capturing the model for CUDA graphs. This may lead to unexpected consequences if the model is not static. To run the model in eager mode, set 'enforce_eager=True' or use '--enforce-eager' in the CLI.\n",
      "INFO 12-12 20:05:45 model_runner.py:858] CUDA graphs can take additional 1~3 GiB memory per GPU. If you are running out of memory, consider decreasing `gpu_memory_utilization` or enforcing eager mode. You can also reduce the `max_num_seqs` as needed to decrease memory usage.\n",
      "\u001b[36m(RayWorkerWrapper pid=1573084)\u001b[0m INFO 12-12 20:05:46 model_runner.py:854] Capturing the model for CUDA graphs. This may lead to unexpected consequences if the model is not static. To run the model in eager mode, set 'enforce_eager=True' or use '--enforce-eager' in the CLI.\n",
      "\u001b[36m(RayWorkerWrapper pid=1573084)\u001b[0m INFO 12-12 20:05:46 model_runner.py:858] CUDA graphs can take additional 1~3 GiB memory per GPU. If you are running out of memory, consider decreasing `gpu_memory_utilization` or enforcing eager mode. You can also reduce the `max_num_seqs` as needed to decrease memory usage.\n",
      "\u001b[36m(RayWorkerWrapper pid=1573234)\u001b[0m INFO 12-12 20:04:51 model_runner.py:146] Loading model weights took 33.9833 GB\u001b[32m [repeated 2x across cluster]\u001b[0m\n",
      "\u001b[36m(RayWorkerWrapper pid=1572993)\u001b[0m INFO 12-12 20:06:33 model_runner.py:924] Graph capturing finished in 48 secs.\n",
      "\u001b[36m(RayWorkerWrapper pid=1573234)\u001b[0m INFO 12-12 20:05:46 model_runner.py:854] Capturing the model for CUDA graphs. This may lead to unexpected consequences if the model is not static. To run the model in eager mode, set 'enforce_eager=True' or use '--enforce-eager' in the CLI.\u001b[32m [repeated 2x across cluster]\u001b[0m\n",
      "\u001b[36m(RayWorkerWrapper pid=1573234)\u001b[0m INFO 12-12 20:05:46 model_runner.py:858] CUDA graphs can take additional 1~3 GiB memory per GPU. If you are running out of memory, consider decreasing `gpu_memory_utilization` or enforcing eager mode. You can also reduce the `max_num_seqs` as needed to decrease memory usage.\u001b[32m [repeated 2x across cluster]\u001b[0m\n",
      "INFO 12-12 20:06:34 model_runner.py:924] Graph capturing finished in 49 secs.\n",
      "第0条数据\n"
     ]
    },
    {
     "name": "stderr",
     "output_type": "stream",
     "text": [
      "Processed prompts: 100%|██████████| 1/1 [00:08<00:00,  8.29s/it, Generation Speed: 4.95 toks/s]\n",
      "100%|██████████| 1/1 [00:08<00:00,  8.34s/it]\n"
     ]
    },
    {
     "name": "stdout",
     "output_type": "stream",
     "text": [
      "{'Reactants': ['diphenylacetylene', '19A'], 'Product': ['cycloheptadienone'], 'Yield': ['30 %']}\n"
     ]
    },
    {
     "name": "stderr",
     "output_type": "stream",
     "text": [
      "Processed prompts: 100%|██████████| 1/1 [00:07<00:00,  7.44s/it, Generation Speed: 4.84 toks/s]\n",
      "100%|██████████| 1/1 [00:07<00:00,  7.45s/it]\n"
     ]
    },
    {
     "name": "stdout",
     "output_type": "stream",
     "text": [
      "{'Reactants': ['diphenylacetylene', '19A'], 'Product': ['23A'], 'Yield': ['30 %']}\n"
     ]
    },
    {
     "name": "stderr",
     "output_type": "stream",
     "text": [
      "Processed prompts: 100%|██████████| 1/1 [00:07<00:00,  7.33s/it, Generation Speed: 4.79 toks/s]\n",
      "100%|██████████| 1/1 [00:07<00:00,  7.34s/it]\n"
     ]
    },
    {
     "name": "stdout",
     "output_type": "stream",
     "text": [
      "{'Reactants': ['diphenylacetylene', '19B'], 'Product': ['25'], 'Yield': ['53 %']}\n",
      "第1条数据\n"
     ]
    },
    {
     "name": "stderr",
     "output_type": "stream",
     "text": [
      "Processed prompts: 100%|██████████| 1/1 [00:13<00:00, 13.05s/it, Generation Speed: 5.52 toks/s]\n",
      "100%|██████████| 1/1 [00:13<00:00, 13.07s/it]\n"
     ]
    },
    {
     "name": "stdout",
     "output_type": "stream",
     "text": [
      "{'Catalyst_Reagents': ['copper acetate'], 'Solvent': ['DMSO'], 'Product': ['2-(3-(methylthio)naphthalen-2-yl)pyridine'], 'Yield': ['89 %'], 'Temperature': ['125 ° C']}\n"
     ]
    },
    {
     "name": "stderr",
     "output_type": "stream",
     "text": [
      "Processed prompts: 100%|██████████| 1/1 [00:10<00:00, 10.20s/it, Generation Speed: 5.30 toks/s]\n",
      "100%|██████████| 1/1 [00:10<00:00, 10.21s/it]\n"
     ]
    },
    {
     "name": "stdout",
     "output_type": "stream",
     "text": [
      "{'Catalyst_Reagents': ['copper acetate'], 'Solvent': ['DMSO'], 'Product': ['2b'], 'Yield': ['89 %'], 'Temperature': ['125 ° C']}\n",
      "第2条数据\n"
     ]
    },
    {
     "name": "stderr",
     "output_type": "stream",
     "text": [
      "Processed prompts: 100%|██████████| 1/1 [00:05<00:00,  5.86s/it, Generation Speed: 4.95 toks/s]\n",
      "100%|██████████| 1/1 [00:05<00:00,  5.88s/it]\n"
     ]
    },
    {
     "name": "stdout",
     "output_type": "stream",
     "text": [
      "{'Reactants': ['Me3SiCH2MgC1', '02'], 'Product': ['Me3SiOH']}\n"
     ]
    },
    {
     "name": "stderr",
     "output_type": "stream",
     "text": [
      "Processed prompts: 100%|██████████| 1/1 [00:06<00:00,  6.38s/it, Generation Speed: 5.02 toks/s]\n",
      "100%|██████████| 1/1 [00:06<00:00,  6.39s/it]\n"
     ]
    },
    {
     "name": "stdout",
     "output_type": "stream",
     "text": [
      "{'Reactants': ['Me3SiCH2MgC1', '02'], 'Product': ['(Me3Si)20']}\n"
     ]
    },
    {
     "name": "stderr",
     "output_type": "stream",
     "text": [
      "Processed prompts: 100%|██████████| 1/1 [00:06<00:00,  6.29s/it, Generation Speed: 4.93 toks/s]\n",
      "100%|██████████| 1/1 [00:06<00:00,  6.30s/it]\n"
     ]
    },
    {
     "name": "stdout",
     "output_type": "stream",
     "text": [
      "{'Reactants': ['Me3SiCH2MgC1', '02'], 'Product': ['CH20.22']}\n",
      "第3条数据\n"
     ]
    },
    {
     "name": "stderr",
     "output_type": "stream",
     "text": [
      "Processed prompts: 100%|██████████| 1/1 [00:08<00:00,  8.31s/it, Generation Speed: 5.54 toks/s]\n",
      "100%|██████████| 1/1 [00:08<00:00,  8.32s/it]\n"
     ]
    },
    {
     "name": "stdout",
     "output_type": "stream",
     "text": [
      "{'Reactants': ['8', 'acetone'], 'Catalyst_Reagents': ['trifluoroacetic acid-tri- fluoroacetic anhydride'], 'Product': ['9.']}\n",
      "第4条数据\n"
     ]
    },
    {
     "name": "stderr",
     "output_type": "stream",
     "text": [
      "Processed prompts: 100%|██████████| 1/1 [00:07<00:00,  7.49s/it, Generation Speed: 4.01 toks/s]\n",
      "100%|██████████| 1/1 [00:07<00:00,  7.50s/it]\n"
     ]
    },
    {
     "name": "stdout",
     "output_type": "stream",
     "text": [
      "{'Reactants': ['10', 'triflic anhydride-pyridine.'], 'Product': ['11']}\n"
     ]
    },
    {
     "name": "stderr",
     "output_type": "stream",
     "text": [
      "Processed prompts: 100%|██████████| 1/1 [00:12<00:00, 12.80s/it, Generation Speed: 5.16 toks/s]\n",
      "100%|██████████| 1/1 [00:12<00:00, 12.81s/it]\n"
     ]
    },
    {
     "name": "stdout",
     "output_type": "stream",
     "text": [
      "{'Reactants': ['11', '1-heptyne'], 'Catalyst_Reagents': ['bis(triphenylphosphine)palladium(II) chloride', 'triethylamine- DMF)8'], 'Yield': ['68 %'], 'Product': ['12.']}\n",
      "第5条数据\n"
     ]
    },
    {
     "name": "stderr",
     "output_type": "stream",
     "text": [
      "Processed prompts: 100%|██████████| 1/1 [00:05<00:00,  5.36s/it, Generation Speed: 4.67 toks/s]\n",
      "100%|██████████| 1/1 [00:05<00:00,  5.37s/it]\n"
     ]
    },
    {
     "name": "stdout",
     "output_type": "stream",
     "text": [
      "{'Reactants': ['12'], 'Product': ['13'], 'Yield': ['-loo %']}\n"
     ]
    },
    {
     "name": "stderr",
     "output_type": "stream",
     "text": [
      "Processed prompts: 100%|██████████| 1/1 [00:07<00:00,  7.71s/it, Generation Speed: 5.07 toks/s]\n",
      "100%|██████████| 1/1 [00:07<00:00,  7.72s/it]\n"
     ]
    },
    {
     "name": "stdout",
     "output_type": "stream",
     "text": [
      "{'Reactants': ['13', 'KOH - DMSO'], 'Temperature': ['120 OC'], 'Product': ['5-heptylresorcinolg']}\n"
     ]
    },
    {
     "name": "stderr",
     "output_type": "stream",
     "text": [
      "Processed prompts: 100%|██████████| 1/1 [00:08<00:00,  8.06s/it, Generation Speed: 5.21 toks/s]\n",
      "100%|██████████| 1/1 [00:08<00:00,  8.07s/it]\n"
     ]
    },
    {
     "name": "stdout",
     "output_type": "stream",
     "text": [
      "{'Reactants': ['13', 'KOH - DMSO'], 'Temperature': ['120 OC'], 'Product': ['14'], 'Yield': ['90 %']}\n",
      "第6条数据\n"
     ]
    },
    {
     "name": "stderr",
     "output_type": "stream",
     "text": [
      "Processed prompts: 100%|██████████| 1/1 [00:06<00:00,  6.43s/it, Generation Speed: 5.13 toks/s]\n",
      "100%|██████████| 1/1 [00:06<00:00,  6.44s/it]\n"
     ]
    },
    {
     "name": "stdout",
     "output_type": "stream",
     "text": [
      "{'Reactants': ['13', 'lithium benzyl oxide'], 'Solvent': ['THF'], 'Product': ['15.']}\n",
      "第7条数据\n"
     ]
    },
    {
     "name": "stderr",
     "output_type": "stream",
     "text": [
      "Processed prompts: 100%|██████████| 1/1 [00:07<00:00,  7.18s/it, Generation Speed: 5.30 toks/s]\n",
      "100%|██████████| 1/1 [00:07<00:00,  7.18s/it]\n"
     ]
    },
    {
     "name": "stdout",
     "output_type": "stream",
     "text": [
      "{'Reactants': ['16', 'j3-(trimethylsilyl)ethanol'], 'Product': ['17'], 'Yield': ['80 %']}\n",
      "第8条数据\n"
     ]
    },
    {
     "name": "stderr",
     "output_type": "stream",
     "text": [
      "Processed prompts: 100%|██████████| 1/1 [00:10<00:00, 10.97s/it, Generation Speed: 5.47 toks/s]\n",
      "100%|██████████| 1/1 [00:10<00:00, 10.98s/it]\n"
     ]
    },
    {
     "name": "stdout",
     "output_type": "stream",
     "text": [
      "{'Reactants': ['17', '18'], 'Catalyst_Reagents': ['K2C03', '18-crown-6'], 'Solvent': ['acetone'], 'Yield': ['81 %'], 'Product': ['19.']}\n",
      "第9条数据\n"
     ]
    },
    {
     "name": "stderr",
     "output_type": "stream",
     "text": [
      "Processed prompts: 100%|██████████| 1/1 [00:08<00:00,  8.40s/it, Generation Speed: 5.24 toks/s]\n",
      "100%|██████████| 1/1 [00:08<00:00,  8.41s/it]\n"
     ]
    },
    {
     "name": "stdout",
     "output_type": "stream",
     "text": [
      "{'Reactants': ['10', 'bromotrimethylsilane', 'TMSBr'], 'Catalyst_Reagents': ['phosphorylation'], 'Product': ['11.']}\n",
      "第10条数据\n"
     ]
    },
    {
     "name": "stderr",
     "output_type": "stream",
     "text": [
      "Processed prompts: 100%|██████████| 1/1 [00:06<00:00,  6.84s/it, Generation Speed: 4.68 toks/s]\n",
      "100%|██████████| 1/1 [00:06<00:00,  6.85s/it]\n"
     ]
    },
    {
     "name": "stdout",
     "output_type": "stream",
     "text": [
      "{'Reactants': ['2', 'pyridinium bromide perbromidel8', 'acetic acid'], 'Product': ['3.']}\n",
      "第11条数据\n"
     ]
    },
    {
     "name": "stderr",
     "output_type": "stream",
     "text": [
      "Processed prompts: 100%|██████████| 1/1 [00:07<00:00,  7.90s/it, Generation Speed: 5.45 toks/s]\n",
      "100%|██████████| 1/1 [00:07<00:00,  7.91s/it]\n"
     ]
    },
    {
     "name": "stdout",
     "output_type": "stream",
     "text": [
      "{'Reactants': ['ethyl 3,3-diamino-2-propenoatelg', '4', '2.'], 'Product': ['1'], 'Yield': ['58 %']}\n",
      "第12条数据\n"
     ]
    },
    {
     "name": "stderr",
     "output_type": "stream",
     "text": [
      "Processed prompts: 100%|██████████| 1/1 [00:09<00:00,  9.10s/it, Generation Speed: 4.73 toks/s]\n",
      "100%|██████████| 1/1 [00:09<00:00,  9.11s/it]\n"
     ]
    },
    {
     "name": "stdout",
     "output_type": "stream",
     "text": [
      "{'Reactants': ['6', 'n- butyllithium', 'n-BuLi'], 'Solvent': ['hexane', 'cyclopentane'], 'Product': ['4']}\n",
      "第13条数据\n"
     ]
    },
    {
     "name": "stderr",
     "output_type": "stream",
     "text": [
      "Processed prompts: 100%|██████████| 1/1 [00:03<00:00,  3.34s/it, Generation Speed: 4.50 toks/s]\n",
      "100%|██████████| 1/1 [00:03<00:00,  3.35s/it]\n"
     ]
    },
    {
     "name": "stdout",
     "output_type": "stream",
     "text": [
      "{'Reactants': ['1'], 'Product': ['2.']}\n",
      "第14条数据\n"
     ]
    },
    {
     "name": "stderr",
     "output_type": "stream",
     "text": [
      "Processed prompts: 100%|██████████| 1/1 [00:06<00:00,  6.19s/it, Generation Speed: 4.36 toks/s]\n",
      "100%|██████████| 1/1 [00:06<00:00,  6.20s/it]\n"
     ]
    },
    {
     "name": "stdout",
     "output_type": "stream",
     "text": [
      "{'Product': ['1'], 'Reactants': ['2s', '3'], 'Solvent': ['CHCI,']}\n",
      "第15条数据\n"
     ]
    },
    {
     "name": "stderr",
     "output_type": "stream",
     "text": [
      "Processed prompts: 100%|██████████| 1/1 [00:04<00:00,  4.76s/it, Generation Speed: 4.62 toks/s]\n",
      "100%|██████████| 1/1 [00:04<00:00,  4.77s/it]\n"
     ]
    },
    {
     "name": "stdout",
     "output_type": "stream",
     "text": [
      "{'Product': ['3'], 'Reactants': ['46', '5.7-8']}\n",
      "第16条数据\n"
     ]
    },
    {
     "name": "stderr",
     "output_type": "stream",
     "text": [
      "Processed prompts: 100%|██████████| 1/1 [00:07<00:00,  7.48s/it, Generation Speed: 4.82 toks/s]\n",
      "100%|██████████| 1/1 [00:07<00:00,  7.49s/it]\n"
     ]
    },
    {
     "name": "stdout",
     "output_type": "stream",
     "text": [
      "{'Solvent': ['acetone'], 'Yield': ['22 %'], 'Product': ['3-ﬂuoropentadecane']}\n",
      "第17条数据\n"
     ]
    },
    {
     "name": "stderr",
     "output_type": "stream",
     "text": [
      "Processed prompts: 100%|██████████| 1/1 [00:06<00:00,  6.93s/it, Generation Speed: 4.33 toks/s]\n",
      "100%|██████████| 1/1 [00:06<00:00,  6.94s/it]\n"
     ]
    },
    {
     "name": "stdout",
     "output_type": "stream",
     "text": [
      "{'Product': ['7'], 'Yield': ['55 %'], 'Reactants': ['N-acetyl+ galactosamine']}\n",
      "第18条数据\n"
     ]
    },
    {
     "name": "stderr",
     "output_type": "stream",
     "text": [
      "Processed prompts: 100%|██████████| 1/1 [00:08<00:00,  8.63s/it, Generation Speed: 4.64 toks/s]\n",
      "100%|██████████| 1/1 [00:08<00:00,  8.64s/it]\n"
     ]
    },
    {
     "name": "stdout",
     "output_type": "stream",
     "text": [
      "{'Reactants': ['5'], 'Catalyst_Reagents': ['MeMgBr', '1'], 'Product': ['10'], 'Yield': ['70 %']}\n",
      "第19条数据\n"
     ]
    },
    {
     "name": "stderr",
     "output_type": "stream",
     "text": [
      "Processed prompts: 100%|██████████| 1/1 [00:04<00:00,  4.07s/it, Generation Speed: 3.93 toks/s]\n",
      "100%|██████████| 1/1 [00:04<00:00,  4.08s/it]\n"
     ]
    },
    {
     "name": "stdout",
     "output_type": "stream",
     "text": [
      "{'Reactants': ['35'], 'Product': ['36']}\n",
      "第20条数据\n"
     ]
    },
    {
     "name": "stderr",
     "output_type": "stream",
     "text": [
      "Processed prompts: 100%|██████████| 1/1 [00:06<00:00,  6.91s/it, Generation Speed: 4.34 toks/s]\n",
      "100%|██████████| 1/1 [00:06<00:00,  6.93s/it]\n"
     ]
    },
    {
     "name": "stdout",
     "output_type": "stream",
     "text": [
      "{'Reactants': ['pivalonitrile', '1'], 'Product': ['diazati- tanacyclohexadiene']}\n"
     ]
    },
    {
     "name": "stderr",
     "output_type": "stream",
     "text": [
      "Processed prompts: 100%|██████████| 1/1 [00:09<00:00,  9.18s/it, Generation Speed: 4.79 toks/s]\n",
      "100%|██████████| 1/1 [00:09<00:00,  9.19s/it]\n"
     ]
    },
    {
     "name": "stdout",
     "output_type": "stream",
     "text": [
      "{'Reactants': ['pivalonitrile', 'titanacyclobutane', '1', 'Tebbe ’s reagent'], 'Product': ['3']}\n",
      "第21条数据\n"
     ]
    },
    {
     "name": "stderr",
     "output_type": "stream",
     "text": [
      "Processed prompts: 100%|██████████| 1/1 [00:03<00:00,  3.64s/it, Generation Speed: 4.39 toks/s]\n",
      "100%|██████████| 1/1 [00:03<00:00,  3.65s/it]\n"
     ]
    },
    {
     "name": "stdout",
     "output_type": "stream",
     "text": [
      "{'Product': ['glycine'], 'Reactants': ['1']}\n",
      "第22条数据\n"
     ]
    },
    {
     "name": "stderr",
     "output_type": "stream",
     "text": [
      "Processed prompts: 100%|██████████| 1/1 [00:02<00:00,  2.67s/it, Generation Speed: 3.38 toks/s]\n",
      "100%|██████████| 1/1 [00:02<00:00,  2.68s/it]\n"
     ]
    },
    {
     "name": "stdout",
     "output_type": "stream",
     "text": [
      "{'Product': ['glycine']}\n",
      "第23条数据\n"
     ]
    },
    {
     "name": "stderr",
     "output_type": "stream",
     "text": [
      "Processed prompts: 100%|██████████| 1/1 [00:07<00:00,  7.52s/it, Generation Speed: 5.06 toks/s]\n",
      "100%|██████████| 1/1 [00:07<00:00,  7.53s/it]\n"
     ]
    },
    {
     "name": "stdout",
     "output_type": "stream",
     "text": [
      "{'Catalyst_Reagents': ['zirconium-'], 'Reactants': ['10'], 'Product': ['11'], 'Yield': ['60 %']}\n",
      "第24条数据\n"
     ]
    },
    {
     "name": "stderr",
     "output_type": "stream",
     "text": [
      "Processed prompts: 100%|██████████| 1/1 [00:05<00:00,  5.77s/it, Generation Speed: 4.85 toks/s]\n",
      "100%|██████████| 1/1 [00:05<00:00,  5.78s/it]\n"
     ]
    },
    {
     "name": "stdout",
     "output_type": "stream",
     "text": [
      "{'Reactants': ['13', 'catecholborane'], 'Product': ['8'], 'Temperature': ['room']}\n",
      "第25条数据\n"
     ]
    },
    {
     "name": "stderr",
     "output_type": "stream",
     "text": [
      "Processed prompts: 100%|██████████| 1/1 [00:08<00:00,  8.09s/it, Generation Speed: 3.46 toks/s]\n",
      "100%|██████████| 1/1 [00:08<00:00,  8.10s/it]\n"
     ]
    },
    {
     "name": "stdout",
     "output_type": "stream",
     "text": [
      "{'Reactants': ['5-cyclononynone', \"lO),'l\"], 'Product': ['11']}\n"
     ]
    },
    {
     "name": "stderr",
     "output_type": "stream",
     "text": [
      "Processed prompts: 100%|██████████| 1/1 [00:07<00:00,  7.94s/it, Generation Speed: 3.40 toks/s]\n",
      "100%|██████████| 1/1 [00:07<00:00,  7.95s/it]\n"
     ]
    },
    {
     "name": "stdout",
     "output_type": "stream",
     "text": [
      "{'Reactants': ['5-cyclononynone', \"lO)'l\"], 'Product': ['12']}\n",
      "第26条数据\n"
     ]
    },
    {
     "name": "stderr",
     "output_type": "stream",
     "text": [
      "Processed prompts: 100%|██████████| 1/1 [00:02<00:00,  2.50s/it, Generation Speed: 2.81 toks/s]\n",
      "100%|██████████| 1/1 [00:02<00:00,  2.51s/it]\n"
     ]
    },
    {
     "name": "stdout",
     "output_type": "stream",
     "text": [
      "{'Product': ['3']}\n",
      "第27条数据\n"
     ]
    },
    {
     "name": "stderr",
     "output_type": "stream",
     "text": [
      "Processed prompts: 100%|██████████| 1/1 [00:06<00:00,  6.07s/it, Generation Speed: 4.12 toks/s]\n",
      "100%|██████████| 1/1 [00:06<00:00,  6.08s/it]\n"
     ]
    },
    {
     "name": "stdout",
     "output_type": "stream",
     "text": [
      "{'Reactants': ['5-cyclodecynone', '13'], 'Product': ['14']}\n"
     ]
    },
    {
     "name": "stderr",
     "output_type": "stream",
     "text": [
      "Processed prompts: 100%|██████████| 1/1 [00:05<00:00,  5.95s/it, Generation Speed: 4.37 toks/s]\n",
      "100%|██████████| 1/1 [00:05<00:00,  5.96s/it]\n"
     ]
    },
    {
     "name": "stdout",
     "output_type": "stream",
     "text": [
      "{'Reactants': ['5-cyclodecynone', '13'], 'Product': ['16.']}\n",
      "第28条数据\n"
     ]
    },
    {
     "name": "stderr",
     "output_type": "stream",
     "text": [
      "Processed prompts: 100%|██████████| 1/1 [00:04<00:00,  4.80s/it, Generation Speed: 3.96 toks/s]\n",
      "100%|██████████| 1/1 [00:04<00:00,  4.82s/it]\n"
     ]
    },
    {
     "name": "stdout",
     "output_type": "stream",
     "text": [
      "{'Product': ['1 la'], 'Reactants': ['9', 'lOd']}\n",
      "第29条数据\n"
     ]
    },
    {
     "name": "stderr",
     "output_type": "stream",
     "text": [
      "Processed prompts: 100%|██████████| 1/1 [00:07<00:00,  7.07s/it, Generation Speed: 5.24 toks/s]\n",
      "100%|██████████| 1/1 [00:07<00:00,  7.08s/it]\n"
     ]
    },
    {
     "name": "stdout",
     "output_type": "stream",
     "text": [
      "{'Reactants': ['23'], 'Catalyst_Reagents': ['NaBH4'], 'Product': ['24'], 'Yield': ['98 %']}\n",
      "第30条数据\n"
     ]
    },
    {
     "name": "stderr",
     "output_type": "stream",
     "text": [
      "Processed prompts: 100%|██████████| 1/1 [00:05<00:00,  5.78s/it, Generation Speed: 4.15 toks/s]\n",
      "100%|██████████| 1/1 [00:05<00:00,  5.79s/it]\n"
     ]
    },
    {
     "name": "stdout",
     "output_type": "stream",
     "text": [
      "{'Product': ['2,5-Dihydrofuran'], 'Temperature': ['465 K.']}\n"
     ]
    },
    {
     "name": "stderr",
     "output_type": "stream",
     "text": [
      "Processed prompts: 100%|██████████| 1/1 [00:04<00:00,  4.99s/it, Generation Speed: 3.61 toks/s]\n",
      "100%|██████████| 1/1 [00:04<00:00,  5.00s/it]\n"
     ]
    },
    {
     "name": "stdout",
     "output_type": "stream",
     "text": [
      "{'Product': ['furan'], 'Temperature': ['465 K.']}\n",
      "第31条数据\n"
     ]
    },
    {
     "name": "stderr",
     "output_type": "stream",
     "text": [
      "Processed prompts: 100%|██████████| 1/1 [00:02<00:00,  2.43s/it, Generation Speed: 2.89 toks/s]\n",
      "100%|██████████| 1/1 [00:02<00:00,  2.44s/it]\n"
     ]
    },
    {
     "name": "stdout",
     "output_type": "stream",
     "text": [
      "{'Product': ['water']}\n"
     ]
    },
    {
     "name": "stderr",
     "output_type": "stream",
     "text": [
      "Processed prompts: 100%|██████████| 1/1 [00:02<00:00,  2.54s/it, Generation Speed: 3.15 toks/s]\n",
      "100%|██████████| 1/1 [00:02<00:00,  2.55s/it]\n"
     ]
    },
    {
     "name": "stdout",
     "output_type": "stream",
     "text": [
      "{'Product': ['carbon dioxide']}\n"
     ]
    },
    {
     "name": "stderr",
     "output_type": "stream",
     "text": [
      "Processed prompts: 100%|██████████| 1/1 [00:03<00:00,  3.45s/it, Generation Speed: 4.06 toks/s]\n",
      "100%|██████████| 1/1 [00:03<00:00,  3.46s/it]\n"
     ]
    },
    {
     "name": "stdout",
     "output_type": "stream",
     "text": [
      "{'Product': ['2(5H)-furanone']}\n"
     ]
    },
    {
     "name": "stderr",
     "output_type": "stream",
     "text": [
      "Processed prompts: 100%|██████████| 1/1 [00:03<00:00,  3.16s/it, Generation Speed: 3.80 toks/s]\n",
      "100%|██████████| 1/1 [00:03<00:00,  3.16s/it]\n"
     ]
    },
    {
     "name": "stdout",
     "output_type": "stream",
     "text": [
      "{'Product': ['maleic anhydride']}\n"
     ]
    },
    {
     "name": "stderr",
     "output_type": "stream",
     "text": [
      "Processed prompts: 100%|██████████| 1/1 [00:03<00:00,  3.61s/it, Generation Speed: 4.15 toks/s]\n",
      "100%|██████████| 1/1 [00:03<00:00,  3.62s/it]\n"
     ]
    },
    {
     "name": "stdout",
     "output_type": "stream",
     "text": [
      "{'Product': ['4-vinylcyclohexene']}\n"
     ]
    },
    {
     "name": "stderr",
     "output_type": "stream",
     "text": [
      "Processed prompts: 100%|██████████| 1/1 [00:02<00:00,  2.68s/it, Generation Speed: 3.37 toks/s]\n",
      "100%|██████████| 1/1 [00:02<00:00,  2.68s/it]\n"
     ]
    },
    {
     "name": "stdout",
     "output_type": "stream",
     "text": [
      "{'Product': ['styrene.']}\n",
      "第32条数据\n"
     ]
    },
    {
     "name": "stderr",
     "output_type": "stream",
     "text": [
      "Processed prompts: 100%|██████████| 1/1 [00:06<00:00,  6.05s/it, Generation Speed: 5.13 toks/s]\n",
      "100%|██████████| 1/1 [00:06<00:00,  6.05s/it]\n"
     ]
    },
    {
     "name": "stdout",
     "output_type": "stream",
     "text": [
      "{'Reactants': ['p proline', 'formic acid', 'acetic anhydride.'], 'Product': ['25']}\n",
      "第33条数据\n"
     ]
    },
    {
     "name": "stderr",
     "output_type": "stream",
     "text": [
      "Processed prompts: 100%|██████████| 1/1 [00:07<00:00,  7.80s/it, Generation Speed: 5.39 toks/s]\n",
      "100%|██████████| 1/1 [00:07<00:00,  7.81s/it]\n"
     ]
    },
    {
     "name": "stdout",
     "output_type": "stream",
     "text": [
      "{'Catalyst_Reagents': ['lithium aluminum hydride'], 'Product': ['(S)-2-(hy- droxymethy1)-1 methylpyrrolidine']}\n"
     ]
    },
    {
     "name": "stderr",
     "output_type": "stream",
     "text": [
      "Processed prompts: 100%|██████████| 1/1 [00:05<00:00,  5.07s/it, Generation Speed: 4.73 toks/s]\n",
      "100%|██████████| 1/1 [00:05<00:00,  5.08s/it]\n"
     ]
    },
    {
     "name": "stdout",
     "output_type": "stream",
     "text": [
      "{'Catalyst_Reagents': ['lithium aluminum hydride'], 'Product': ['26']}\n",
      "第34条数据\n"
     ]
    },
    {
     "name": "stderr",
     "output_type": "stream",
     "text": [
      "Processed prompts: 100%|██████████| 1/1 [00:09<00:00,  9.75s/it, Generation Speed: 4.93 toks/s]\n",
      "100%|██████████| 1/1 [00:09<00:00,  9.76s/it]\n"
     ]
    },
    {
     "name": "stdout",
     "output_type": "stream",
     "text": [
      "{'Product': ['hydrochloride salt of 2-(chloromethyl)-l methylpyrrolidine'], 'Reactants': ['27', 'thionyl chloride'], 'Solvent': ['chloroform.']}\n"
     ]
    },
    {
     "name": "stderr",
     "output_type": "stream",
     "text": [
      "Processed prompts: 100%|██████████| 1/1 [00:08<00:00,  8.58s/it, Generation Speed: 4.78 toks/s]\n",
      "100%|██████████| 1/1 [00:08<00:00,  8.59s/it]\n"
     ]
    },
    {
     "name": "stdout",
     "output_type": "stream",
     "text": [
      "{'Product': ['27'], 'Reactants': ['2-(chloromethyl)-l methylpyrrolidine', 'thionyl chloride'], 'Solvent': ['chloroform']}\n",
      "第35条数据\n"
     ]
    },
    {
     "name": "stderr",
     "output_type": "stream",
     "text": [
      "Processed prompts: 100%|██████████| 1/1 [00:06<00:00,  6.24s/it, Generation Speed: 5.13 toks/s]\n",
      "100%|██████████| 1/1 [00:06<00:00,  6.24s/it]\n"
     ]
    },
    {
     "name": "stdout",
     "output_type": "stream",
     "text": [
      "{'Product': ['30'], 'Catalyst_Reagents': ['sodium cyanide'], 'Solvent': ['80 % ethanol.']}\n",
      "第36条数据\n"
     ]
    },
    {
     "name": "stderr",
     "output_type": "stream",
     "text": [
      "Processed prompts: 100%|██████████| 1/1 [00:05<00:00,  5.70s/it, Generation Speed: 5.09 toks/s]\n",
      "100%|██████████| 1/1 [00:05<00:00,  5.71s/it]\n"
     ]
    },
    {
     "name": "stdout",
     "output_type": "stream",
     "text": [
      "{'Catalyst_Reagents': ['HCI'], 'Product': ['1 -methylpyrrolidine-2-acetic acid']}\n"
     ]
    },
    {
     "name": "stderr",
     "output_type": "stream",
     "text": [
      "Processed prompts: 100%|██████████| 1/1 [00:04<00:00,  4.00s/it, Generation Speed: 4.50 toks/s]\n",
      "100%|██████████| 1/1 [00:04<00:00,  4.01s/it]\n"
     ]
    },
    {
     "name": "stdout",
     "output_type": "stream",
     "text": [
      "{'Catalyst_Reagents': ['HCI'], 'Product': ['33']}\n",
      "第37条数据\n"
     ]
    },
    {
     "name": "stderr",
     "output_type": "stream",
     "text": [
      "Processed prompts: 100%|██████████| 1/1 [00:12<00:00, 12.21s/it, Generation Speed: 5.24 toks/s]\n",
      "100%|██████████| 1/1 [00:12<00:00, 12.22s/it]\n"
     ]
    },
    {
     "name": "stdout",
     "output_type": "stream",
     "text": [
      "{'Reactants': ['sodium [1,2-13C2]acetate', 'sodium [IJ4C]acetate', 'trimethyl phosphate'], 'Product': [\"methyl [ 1,2- ' 3C2,1-14C]acetate\"]}\n"
     ]
    },
    {
     "name": "stderr",
     "output_type": "stream",
     "text": [
      "Processed prompts: 100%|██████████| 1/1 [00:09<00:00,  9.05s/it, Generation Speed: 4.76 toks/s]\n",
      "100%|██████████| 1/1 [00:09<00:00,  9.06s/it]\n"
     ]
    },
    {
     "name": "stdout",
     "output_type": "stream",
     "text": [
      "{'Reactants': ['sodium [1,2-13C2]acetate', 'sodium [IJ4C]acetate', 'trimethyl phosphate'], 'Product': ['B']}\n"
     ]
    },
    {
     "name": "stderr",
     "output_type": "stream",
     "text": [
      "Processed prompts: 100%|██████████| 1/1 [00:08<00:00,  8.28s/it, Generation Speed: 4.71 toks/s]\n",
      "100%|██████████| 1/1 [00:08<00:00,  8.29s/it]\n"
     ]
    },
    {
     "name": "stdout",
     "output_type": "stream",
     "text": [
      "{'Reactants': [\"methyl [ 1,2- ' 3C2,1-14C]acetate\", 'B'], 'Product': ['29']}\n",
      "第38条数据\n"
     ]
    },
    {
     "name": "stderr",
     "output_type": "stream",
     "text": [
      "Processed prompts: 100%|██████████| 1/1 [00:11<00:00, 11.06s/it, Generation Speed: 5.16 toks/s]\n",
      "100%|██████████| 1/1 [00:11<00:00, 11.07s/it]\n"
     ]
    },
    {
     "name": "stdout",
     "output_type": "stream",
     "text": [
      "{'Product': ['methyl (RS)-[ 1,2- 13C2 , 1 -14C]-4-( 1 -methyl-2-pyrrolidinyl)-3-oxobutanoate', '31']}\n"
     ]
    },
    {
     "name": "stderr",
     "output_type": "stream",
     "text": [
      "Processed prompts: 100%|██████████| 1/1 [00:03<00:00,  3.47s/it, Generation Speed: 2.31 toks/s]\n",
      "100%|██████████| 1/1 [00:03<00:00,  3.48s/it]\n"
     ]
    },
    {
     "name": "stdout",
     "output_type": "stream",
     "text": [
      "{'Product': ['31']}\n",
      "第39条数据\n"
     ]
    },
    {
     "name": "stderr",
     "output_type": "stream",
     "text": [
      "Processed prompts: 100%|██████████| 1/1 [00:05<00:00,  5.95s/it, Generation Speed: 5.04 toks/s]\n",
      "100%|██████████| 1/1 [00:05<00:00,  5.96s/it]\n"
     ]
    },
    {
     "name": "stdout",
     "output_type": "stream",
     "text": [
      "{'Reactants': ['3a'], 'Solvent': ['water'], 'Product': ['4a'], 'Yield': ['high']}\n",
      "第40条数据\n"
     ]
    },
    {
     "name": "stderr",
     "output_type": "stream",
     "text": [
      "Processed prompts: 100%|██████████| 1/1 [00:12<00:00, 12.03s/it, Generation Speed: 5.65 toks/s]\n",
      "100%|██████████| 1/1 [00:12<00:00, 12.04s/it]\n"
     ]
    },
    {
     "name": "stdout",
     "output_type": "stream",
     "text": [
      "{'Reactants': ['3a'], 'Solvent': ['water'], 'Catalyst_Reagents': ['triethylborane'], 'Temperature': ['25 ( cid : 176 ) C'], 'Time': ['3 h'], 'Product': ['4a'], 'Yield': ['67 %']}\n",
      "第41条数据\n"
     ]
    },
    {
     "name": "stderr",
     "output_type": "stream",
     "text": [
      "Processed prompts: 100%|██████████| 1/1 [00:21<00:00, 21.02s/it, Generation Speed: 5.57 toks/s]\n",
      "100%|██████████| 1/1 [00:21<00:00, 21.03s/it]\n"
     ]
    },
    {
     "name": "stdout",
     "output_type": "stream",
     "text": [
      "{'Product': ['3-phenylquinolin-4(1H)-one'], 'Reactants': ['3-iodo- 1-methylquinolin-4(1H)-one', '4', 'phenylboronic acid', '8a'], 'Catalyst_Reagents': ['Pd(OAc)2', 'PPh3', 'Na2CO3'], 'Solvent': ['DME', 'EtOH'], 'Temperature': ['70 ° C'], 'Time': ['5 min.']}\n"
     ]
    },
    {
     "name": "stderr",
     "output_type": "stream",
     "text": [
      "Processed prompts: 100%|██████████| 1/1 [00:19<00:00, 19.64s/it, Generation Speed: 5.40 toks/s]\n",
      "100%|██████████| 1/1 [00:19<00:00, 19.65s/it]\n"
     ]
    },
    {
     "name": "stdout",
     "output_type": "stream",
     "text": [
      "{'Product': ['9a'], 'Reactants': ['3-iodo- 1-methylquinolin-4(1H)-one', '4', 'phenylboronic acid', '8a'], 'Catalyst_Reagents': ['Pd(OAc)2', 'PPh3', 'Na2CO3'], 'Solvent': ['DME', 'EtOH'], 'Temperature': ['70 ° C'], 'Time': ['5 min.']}\n",
      "第42条数据\n"
     ]
    },
    {
     "name": "stderr",
     "output_type": "stream",
     "text": [
      "Processed prompts: 100%|██████████| 1/1 [00:07<00:00,  7.73s/it, Generation Speed: 4.66 toks/s]\n",
      "100%|██████████| 1/1 [00:07<00:00,  7.74s/it]\n"
     ]
    },
    {
     "name": "stdout",
     "output_type": "stream",
     "text": [
      "{'Product': ['3-phenylquinolin-4(1H)-one'], 'Yield': ['75 %'], 'Time': ['30 min']}\n"
     ]
    },
    {
     "name": "stderr",
     "output_type": "stream",
     "text": [
      "Processed prompts: 100%|██████████| 1/1 [00:06<00:00,  6.33s/it, Generation Speed: 3.95 toks/s]\n",
      "100%|██████████| 1/1 [00:06<00:00,  6.34s/it]\n"
     ]
    },
    {
     "name": "stdout",
     "output_type": "stream",
     "text": [
      "{'Product': ['9a'], 'Yield': ['75 %'], 'Time': ['30 min']}\n",
      "第43条数据\n"
     ]
    },
    {
     "name": "stderr",
     "output_type": "stream",
     "text": [
      "Processed prompts: 100%|██████████| 1/1 [00:03<00:00,  3.77s/it, Generation Speed: 3.72 toks/s]\n",
      "100%|██████████| 1/1 [00:03<00:00,  3.77s/it]\n"
     ]
    },
    {
     "name": "stdout",
     "output_type": "stream",
     "text": [
      "{'Reactants': ['B'], 'Product': ['C']}\n",
      "第44条数据\n"
     ]
    },
    {
     "name": "stderr",
     "output_type": "stream",
     "text": [
      "Processed prompts: 100%|██████████| 1/1 [00:06<00:00,  6.22s/it, Generation Speed: 4.99 toks/s]\n",
      "100%|██████████| 1/1 [00:06<00:00,  6.23s/it]\n"
     ]
    },
    {
     "name": "stdout",
     "output_type": "stream",
     "text": [
      "{'Reactants': ['3a', '3b', '(MeCN)3Cr(C0)3'], 'Product': ['4a']}\n"
     ]
    },
    {
     "name": "stderr",
     "output_type": "stream",
     "text": [
      "Processed prompts: 100%|██████████| 1/1 [00:07<00:00,  7.69s/it, Generation Speed: 5.20 toks/s]\n",
      "100%|██████████| 1/1 [00:07<00:00,  7.70s/it]\n"
     ]
    },
    {
     "name": "stdout",
     "output_type": "stream",
     "text": [
      "{'Reactants': ['3a', '(+)-iso- pinocampheol', '(MeCN)3Cr(C0)3'], 'Product': [\"5a1'\"]}\n"
     ]
    },
    {
     "name": "stderr",
     "output_type": "stream",
     "text": [
      "Processed prompts: 100%|██████████| 1/1 [00:06<00:00,  6.13s/it, Generation Speed: 4.73 toks/s]\n",
      "100%|██████████| 1/1 [00:06<00:00,  6.14s/it]\n"
     ]
    },
    {
     "name": "stdout",
     "output_type": "stream",
     "text": [
      "{'Reactants': ['3b', '(MeCN)3Cr(C0)3'], 'Product': [\"4b1'\"]}\n"
     ]
    },
    {
     "name": "stderr",
     "output_type": "stream",
     "text": [
      "Processed prompts: 100%|██████████| 1/1 [00:07<00:00,  7.03s/it, Generation Speed: 5.12 toks/s]\n",
      "100%|██████████| 1/1 [00:07<00:00,  7.04s/it]\n"
     ]
    },
    {
     "name": "stdout",
     "output_type": "stream",
     "text": [
      "{'Reactants': ['3b'], 'Catalyst_Reagents': ['(MeCN)3Cr(C0)3'], 'Product': [\"5b,''\"]}\n",
      "第45条数据\n"
     ]
    },
    {
     "name": "stderr",
     "output_type": "stream",
     "text": [
      "Processed prompts: 100%|██████████| 1/1 [00:06<00:00,  6.20s/it, Generation Speed: 5.00 toks/s]\n",
      "100%|██████████| 1/1 [00:06<00:00,  6.21s/it]\n"
     ]
    },
    {
     "name": "stdout",
     "output_type": "stream",
     "text": [
      "{'Reactants': ['4a', 'ethyl acrylate'], 'Product': ['6a'], 'Yield': ['86 %']}\n",
      "第46条数据\n"
     ]
    },
    {
     "name": "stderr",
     "output_type": "stream",
     "text": [
      "Processed prompts: 100%|██████████| 1/1 [00:09<00:00,  9.56s/it, Generation Speed: 5.23 toks/s]\n",
      "100%|██████████| 1/1 [00:09<00:00,  9.57s/it]\n"
     ]
    },
    {
     "name": "stdout",
     "output_type": "stream",
     "text": [
      "{'Product': ['12'], 'Yield': ['35 %'], 'Reactants': ['tryptophan methyl ester', '9'], 'Temperature': [\"140 'C\"], 'Time': ['3 h']}\n",
      "第47条数据\n"
     ]
    },
    {
     "name": "stderr",
     "output_type": "stream",
     "text": [
      "Processed prompts: 100%|██████████| 1/1 [00:06<00:00,  6.05s/it, Generation Speed: 4.80 toks/s]\n",
      "100%|██████████| 1/1 [00:06<00:00,  6.06s/it]\n"
     ]
    },
    {
     "name": "stdout",
     "output_type": "stream",
     "text": [
      "{'Reactants': ['6a', '7a'], 'Product': ['8a'], 'Yield': ['23 %']}\n",
      "第48条数据\n"
     ]
    },
    {
     "name": "stderr",
     "output_type": "stream",
     "text": [
      "Processed prompts: 100%|██████████| 1/1 [00:03<00:00,  3.25s/it, Generation Speed: 4.31 toks/s]\n",
      "100%|██████████| 1/1 [00:03<00:00,  3.26s/it]\n"
     ]
    },
    {
     "name": "stdout",
     "output_type": "stream",
     "text": [
      "{'Reactants': ['1'], 'Product': ['2']}\n",
      "第49条数据\n"
     ]
    },
    {
     "name": "stderr",
     "output_type": "stream",
     "text": [
      "Processed prompts: 100%|██████████| 1/1 [00:07<00:00,  7.89s/it, Generation Speed: 3.55 toks/s]\n",
      "100%|██████████| 1/1 [00:07<00:00,  7.90s/it]\n"
     ]
    },
    {
     "name": "stdout",
     "output_type": "stream",
     "text": [
      "{'Reactants': ['1a', '2a'], 'Product': ['spiro[4,5]trienone']}\n"
     ]
    },
    {
     "name": "stderr",
     "output_type": "stream",
     "text": [
      "Processed prompts: 100%|██████████| 1/1 [00:06<00:00,  6.66s/it, Generation Speed: 3.00 toks/s]\n",
      "100%|██████████| 1/1 [00:06<00:00,  6.67s/it]\n"
     ]
    },
    {
     "name": "stdout",
     "output_type": "stream",
     "text": [
      "{'Reactants': ['1a', '2a'], 'Product': ['3a']}\n",
      "第50条数据\n"
     ]
    },
    {
     "name": "stderr",
     "output_type": "stream",
     "text": [
      "Processed prompts: 100%|██████████| 1/1 [00:05<00:00,  5.11s/it, Generation Speed: 3.92 toks/s]\n",
      "100%|██████████| 1/1 [00:05<00:00,  5.12s/it]\n"
     ]
    },
    {
     "name": "stdout",
     "output_type": "stream",
     "text": [
      "{'Reactants': ['2', 'I2O5'], 'Product': ['4']}\n"
     ]
    },
    {
     "name": "stderr",
     "output_type": "stream",
     "text": [
      "Processed prompts: 100%|██████████| 1/1 [00:05<00:00,  5.48s/it, Generation Speed: 4.02 toks/s]\n",
      "100%|██████████| 1/1 [00:05<00:00,  5.49s/it]\n"
     ]
    },
    {
     "name": "stdout",
     "output_type": "stream",
     "text": [
      "{'Reactants': ['2', 'I2O5'], 'Product': ['I2.']}\n",
      "第51条数据\n"
     ]
    },
    {
     "name": "stderr",
     "output_type": "stream",
     "text": [
      "Processed prompts: 100%|██████████| 1/1 [00:04<00:00,  4.43s/it, Generation Speed: 4.29 toks/s]\n",
      "100%|██████████| 1/1 [00:04<00:00,  4.44s/it]\n"
     ]
    },
    {
     "name": "stdout",
     "output_type": "stream",
     "text": [
      "{'Reactants': ['4', '1'], 'Product': ['vinyl radical']}\n"
     ]
    },
    {
     "name": "stderr",
     "output_type": "stream",
     "text": [
      "Processed prompts: 100%|██████████| 1/1 [00:04<00:00,  4.38s/it, Generation Speed: 4.11 toks/s]\n",
      "100%|██████████| 1/1 [00:04<00:00,  4.39s/it]\n"
     ]
    },
    {
     "name": "stdout",
     "output_type": "stream",
     "text": [
      "{'Reactants': ['4', '1'], 'Product': ['5.']}\n",
      "第52条数据\n"
     ]
    },
    {
     "name": "stderr",
     "output_type": "stream",
     "text": [
      "Processed prompts: 100%|██████████| 1/1 [00:05<00:00,  5.21s/it, Generation Speed: 2.69 toks/s]\n",
      "100%|██████████| 1/1 [00:05<00:00,  5.22s/it]\n"
     ]
    },
    {
     "name": "stdout",
     "output_type": "stream",
     "text": [
      "{'Reactants': ['5'], 'Product': ['6']}\n"
     ]
    },
    {
     "name": "stderr",
     "output_type": "stream",
     "text": [
      "Processed prompts: 100%|██████████| 1/1 [00:05<00:00,  5.22s/it, Generation Speed: 2.68 toks/s]\n",
      "100%|██████████| 1/1 [00:05<00:00,  5.23s/it]\n"
     ]
    },
    {
     "name": "stdout",
     "output_type": "stream",
     "text": [
      "{'Reactants': ['5'], 'Product': ['7']}\n"
     ]
    },
    {
     "name": "stderr",
     "output_type": "stream",
     "text": [
      "Processed prompts: 100%|██████████| 1/1 [00:05<00:00,  5.81s/it, Generation Speed: 3.27 toks/s]\n",
      "100%|██████████| 1/1 [00:05<00:00,  5.82s/it]\n"
     ]
    },
    {
     "name": "stdout",
     "output_type": "stream",
     "text": [
      "{'Reactants': ['H2O', '7'], 'Product': ['8']}\n",
      "第53条数据\n"
     ]
    },
    {
     "name": "stderr",
     "output_type": "stream",
     "text": [
      "Processed prompts: 100%|██████████| 1/1 [00:04<00:00,  4.82s/it, Generation Speed: 3.74 toks/s]\n",
      "100%|██████████| 1/1 [00:04<00:00,  4.83s/it]\n"
     ]
    },
    {
     "name": "stdout",
     "output_type": "stream",
     "text": [
      "{'Reactants': ['8', 'TBHP'], 'Product': ['3']}\n",
      "第54条数据\n"
     ]
    },
    {
     "name": "stderr",
     "output_type": "stream",
     "text": [
      "Processed prompts: 100%|██████████| 1/1 [00:04<00:00,  4.79s/it, Generation Speed: 3.97 toks/s]\n",
      "100%|██████████| 1/1 [00:04<00:00,  4.80s/it]\n"
     ]
    },
    {
     "name": "stdout",
     "output_type": "stream",
     "text": [
      "{'Product': ['5'], 'Time': ['18 h', '2 h']}\n",
      "第55条数据\n"
     ]
    },
    {
     "name": "stderr",
     "output_type": "stream",
     "text": [
      "Processed prompts: 100%|██████████| 1/1 [00:05<00:00,  5.85s/it, Generation Speed: 4.79 toks/s]\n",
      "100%|██████████| 1/1 [00:05<00:00,  5.86s/it]\n"
     ]
    },
    {
     "name": "stdout",
     "output_type": "stream",
     "text": [
      "{'Product': ['5'], 'Yield': ['28 %', '67 %'], 'Time': ['2 h']}\n",
      "第56条数据\n"
     ]
    },
    {
     "name": "stderr",
     "output_type": "stream",
     "text": [
      "Processed prompts: 100%|██████████| 1/1 [00:04<00:00,  4.02s/it, Generation Speed: 4.23 toks/s]\n",
      "100%|██████████| 1/1 [00:04<00:00,  4.03s/it]\n"
     ]
    },
    {
     "name": "stdout",
     "output_type": "stream",
     "text": [
      "{'Reactants': ['l a'], 'Product': ['4a.']}\n",
      "第57条数据\n"
     ]
    },
    {
     "name": "stderr",
     "output_type": "stream",
     "text": [
      "Processed prompts: 100%|██████████| 1/1 [00:10<00:00, 10.20s/it, Generation Speed: 5.39 toks/s]\n",
      "100%|██████████| 1/1 [00:10<00:00, 10.21s/it]\n"
     ]
    },
    {
     "name": "stdout",
     "output_type": "stream",
     "text": [
      "{'Catalyst_Reagents': ['palladium acetate', 'tris(2,6-dimeth- oxyphenyl)phosphineE(TDMPP)'], 'Solvent': ['THF'], 'Product': ['4a9']}\n"
     ]
    },
    {
     "name": "stderr",
     "output_type": "stream",
     "text": [
      "Processed prompts: 100%|██████████| 1/1 [00:10<00:00, 10.18s/it, Generation Speed: 5.40 toks/s]\n",
      "100%|██████████| 1/1 [00:10<00:00, 10.19s/it]\n"
     ]
    },
    {
     "name": "stdout",
     "output_type": "stream",
     "text": [
      "{'Catalyst_Reagents': ['palladium acetate', 'tris(2,6-dimeth- oxyphenyl)phosphineE(TDMPP)'], 'Solvent': ['THF'], 'Product': ['5a9']}\n",
      "第58条数据\n"
     ]
    },
    {
     "name": "stderr",
     "output_type": "stream",
     "text": [
      "Processed prompts: 100%|██████████| 1/1 [00:03<00:00,  3.77s/it, Generation Speed: 4.25 toks/s]\n",
      "100%|██████████| 1/1 [00:03<00:00,  3.77s/it]\n"
     ]
    },
    {
     "name": "stdout",
     "output_type": "stream",
     "text": [
      "{'Reactants': ['2b'], 'Product': ['4b']}\n"
     ]
    },
    {
     "name": "stderr",
     "output_type": "stream",
     "text": [
      "Processed prompts: 100%|██████████| 1/1 [00:04<00:00,  4.05s/it, Generation Speed: 4.20 toks/s]\n",
      "100%|██████████| 1/1 [00:04<00:00,  4.06s/it]\n"
     ]
    },
    {
     "name": "stdout",
     "output_type": "stream",
     "text": [
      "{'Reactants': ['2b'], 'Product': ['5b.']}\n",
      "第59条数据\n"
     ]
    },
    {
     "name": "stderr",
     "output_type": "stream",
     "text": [
      "Processed prompts: 100%|██████████| 1/1 [00:06<00:00,  6.97s/it, Generation Speed: 3.88 toks/s]\n",
      "100%|██████████| 1/1 [00:06<00:00,  6.98s/it]\n"
     ]
    },
    {
     "name": "stdout",
     "output_type": "stream",
     "text": [
      "{'Solvent': ['benzene'], 'Reactants': ['2b'], 'Product': ['3bI0']}\n"
     ]
    },
    {
     "name": "stderr",
     "output_type": "stream",
     "text": [
      "Processed prompts: 100%|██████████| 1/1 [00:06<00:00,  6.68s/it, Generation Speed: 3.90 toks/s]\n",
      "100%|██████████| 1/1 [00:06<00:00,  6.69s/it]\n"
     ]
    },
    {
     "name": "stdout",
     "output_type": "stream",
     "text": [
      "{'Solvent': ['benzene'], 'Reactants': ['2b'], 'Product': ['5b.']}\n",
      "第60条数据\n"
     ]
    },
    {
     "name": "stderr",
     "output_type": "stream",
     "text": [
      "Processed prompts: 100%|██████████| 1/1 [00:04<00:00,  4.96s/it, Generation Speed: 5.05 toks/s]\n",
      "100%|██████████| 1/1 [00:04<00:00,  4.97s/it]\n"
     ]
    },
    {
     "name": "stdout",
     "output_type": "stream",
     "text": [
      "{'Reactants': ['TDMPP', 'Pd(OAc)z'], 'Product': ['3b']}\n"
     ]
    },
    {
     "name": "stderr",
     "output_type": "stream",
     "text": [
      "Processed prompts: 100%|██████████| 1/1 [00:05<00:00,  5.41s/it, Generation Speed: 4.81 toks/s]\n",
      "100%|██████████| 1/1 [00:05<00:00,  5.42s/it]\n"
     ]
    },
    {
     "name": "stdout",
     "output_type": "stream",
     "text": [
      "{'Reactants': ['TDMPP', 'Pd(OAc)z'], 'Product': ['5b.']}\n",
      "第61条数据\n"
     ]
    },
    {
     "name": "stderr",
     "output_type": "stream",
     "text": [
      "Processed prompts: 100%|██████████| 1/1 [00:18<00:00, 18.27s/it, Generation Speed: 5.09 toks/s]\n",
      "100%|██████████| 1/1 [00:18<00:00, 18.28s/it]\n"
     ]
    },
    {
     "name": "stdout",
     "output_type": "stream",
     "text": [
      "{'Catalyst_Reagents': ['K3PO4'], 'Reactants': ['1a', '3a'], 'Temperature': ['110 ° C'], 'Time': ['15 min'], 'Solvent': ['DMF'], 'Yield': ['13 %'], 'Product': ['3-benzazepine']}\n"
     ]
    },
    {
     "name": "stderr",
     "output_type": "stream",
     "text": [
      "Processed prompts: 100%|██████████| 1/1 [00:19<00:00, 19.15s/it, Generation Speed: 4.65 toks/s]\n",
      "100%|██████████| 1/1 [00:19<00:00, 19.17s/it]\n"
     ]
    },
    {
     "name": "stdout",
     "output_type": "stream",
     "text": [
      "{'Catalyst_Reagents': ['K3PO4'], 'Reactants': ['1a', '3a'], 'Temperature': ['110 ° C'], 'Time': ['15 min'], 'Solvent': ['DMF'], 'Yield': ['13 %'], 'Product': ['4a']}\n",
      "第62条数据\n"
     ]
    },
    {
     "name": "stderr",
     "output_type": "stream",
     "text": [
      "Processed prompts: 100%|██████████| 1/1 [00:06<00:00,  6.93s/it, Generation Speed: 4.77 toks/s]\n",
      "100%|██████████| 1/1 [00:06<00:00,  6.93s/it]\n"
     ]
    },
    {
     "name": "stdout",
     "output_type": "stream",
     "text": [
      "{'Reactants': ['methanol'], 'Catalyst_Reagents': ['rhodium', 'iodide'], 'Product': ['acetic acid.']}\n",
      "第63条数据\n"
     ]
    },
    {
     "name": "stderr",
     "output_type": "stream",
     "text": [
      "Processed prompts: 100%|██████████| 1/1 [00:04<00:00,  4.57s/it, Generation Speed: 4.37 toks/s]\n",
      "100%|██████████| 1/1 [00:04<00:00,  4.58s/it]\n"
     ]
    },
    {
     "name": "stdout",
     "output_type": "stream",
     "text": [
      "{'Reactants': ['11', '21'], 'Product': ['22']}\n",
      "第64条数据\n"
     ]
    },
    {
     "name": "stderr",
     "output_type": "stream",
     "text": [
      "Processed prompts: 100%|██████████| 1/1 [00:06<00:00,  6.82s/it, Generation Speed: 4.84 toks/s]\n",
      "100%|██████████| 1/1 [00:06<00:00,  6.82s/it]\n"
     ]
    },
    {
     "name": "stdout",
     "output_type": "stream",
     "text": [
      "{'Temperature': [\"100 'C\"], 'Solvent': ['toluene'], 'Product': ['tri-tert-butylsilane']}\n"
     ]
    },
    {
     "name": "stderr",
     "output_type": "stream",
     "text": [
      "Processed prompts: 100%|██████████| 1/1 [00:08<00:00,  8.39s/it, Generation Speed: 5.25 toks/s]\n",
      "100%|██████████| 1/1 [00:08<00:00,  8.39s/it]\n"
     ]
    },
    {
     "name": "stdout",
     "output_type": "stream",
     "text": [
      "{'Temperature': [\"100 'C\"], 'Solvent': ['toluene'], 'Product': ['hexa-tert-butyldisilane'], 'Reactants': ['2a']}\n"
     ]
    },
    {
     "name": "stderr",
     "output_type": "stream",
     "text": [
      "Processed prompts: 100%|██████████| 1/1 [00:06<00:00,  6.88s/it, Generation Speed: 4.95 toks/s]\n",
      "100%|██████████| 1/1 [00:06<00:00,  6.89s/it]\n"
     ]
    },
    {
     "name": "stdout",
     "output_type": "stream",
     "text": [
      "{'Temperature': [\"100 'C\"], 'Solvent': ['toluene'], 'Product': ['tri-tert-butylgermane']}\n"
     ]
    },
    {
     "name": "stderr",
     "output_type": "stream",
     "text": [
      "Processed prompts: 100%|██████████| 1/1 [00:08<00:00,  8.27s/it, Generation Speed: 5.20 toks/s]\n",
      "100%|██████████| 1/1 [00:08<00:00,  8.28s/it]\n"
     ]
    },
    {
     "name": "stdout",
     "output_type": "stream",
     "text": [
      "{'Temperature': [\"100 'C\"], 'Solvent': ['toluene'], 'Product': ['hexa-terr-butyldigermane'], 'Reactants': ['2b']}\n",
      "第65条数据\n"
     ]
    },
    {
     "name": "stderr",
     "output_type": "stream",
     "text": [
      "Processed prompts: 100%|██████████| 1/1 [00:11<00:00, 11.27s/it, Generation Speed: 5.06 toks/s]\n",
      "100%|██████████| 1/1 [00:11<00:00, 11.28s/it]\n"
     ]
    },
    {
     "name": "stdout",
     "output_type": "stream",
     "text": [
      "{'Reactants': ['1r(CR = CRCR3.CR)(PPh3)2C1 ( 1-Cl , R = C02CH3)9', '3-butyn-1-01'], 'Product': ['2,1']}\n"
     ]
    },
    {
     "name": "stderr",
     "output_type": "stream",
     "text": [
      "Processed prompts: 100%|██████████| 1/1 [00:05<00:00,  5.81s/it, Generation Speed: 3.79 toks/s]\n",
      "100%|██████████| 1/1 [00:05<00:00,  5.82s/it]\n"
     ]
    },
    {
     "name": "stdout",
     "output_type": "stream",
     "text": [
      "{'Reactants': ['1-C1', 'propargyl alcohol'], 'Product': ['3']}\n",
      "第66条数据\n"
     ]
    },
    {
     "name": "stderr",
     "output_type": "stream",
     "text": [
      "Processed prompts: 100%|██████████| 1/1 [00:11<00:00, 11.12s/it, Generation Speed: 5.31 toks/s]\n",
      "100%|██████████| 1/1 [00:11<00:00, 11.13s/it]\n"
     ]
    },
    {
     "name": "stdout",
     "output_type": "stream",
     "text": [
      "{'Reactants': ['2b', 'Me2- SiC12I7'], 'Solvent': ['Et20'], 'Temperature': ['-20 \" C'], 'Product': ['C2-sy \" etric bis(phosphine- borane )']}\n"
     ]
    },
    {
     "name": "stderr",
     "output_type": "stream",
     "text": [
      "Processed prompts: 100%|██████████| 1/1 [00:08<00:00,  9.00s/it, Generation Speed: 5.00 toks/s]\n",
      "100%|██████████| 1/1 [00:09<00:00,  9.01s/it]\n"
     ]
    },
    {
     "name": "stdout",
     "output_type": "stream",
     "text": [
      "{'Reactants': ['2b', 'Me2- SiC12I7'], 'Solvent': ['Et20'], 'Temperature': ['-20 \" C'], 'Product': ['8']}\n"
     ]
    },
    {
     "name": "stderr",
     "output_type": "stream",
     "text": [
      "Processed prompts: 100%|██████████| 1/1 [00:12<00:00, 12.31s/it, Generation Speed: 4.63 toks/s]\n",
      "100%|██████████| 1/1 [00:12<00:00, 12.32s/it]"
     ]
    },
    {
     "name": "stdout",
     "output_type": "stream",
     "text": [
      "{'Reactants': ['2b', 'Me2- SiC12I7'], 'Solvent': ['Et20'], 'Temperature': ['-20 \" C'], 'Product': ['9'], 'Yield': ['89 : 11']}\n",
      "TP, FP, FN 338 55 61\n",
      "NER:  precision, recall 0.8600508905852418 0.8471177944862155\n",
      "NER:  f1_score 0.8535353535353536\n"
     ]
    },
    {
     "name": "stderr",
     "output_type": "stream",
     "text": [
      "\n"
     ]
    }
   ],
   "source": [
    "import os\n",
    "\n",
    "from evaluate import *\n",
    "from llm_re import *\n",
    "\n",
    "def main():\n",
    "    train_data,test_data=get_data()\n",
    "    prev_data=chem_re(train_data,test_data)\n",
    "    Reaction_f1(test_data,prev_data)\n",
    "\n",
    "main()"
   ]
  },
  {
   "cell_type": "markdown",
   "metadata": {},
   "source": [
    "# 统一评估标准 看一下chemrxn的提取结果"
   ]
  },
  {
   "cell_type": "code",
   "execution_count": 1,
   "metadata": {},
   "outputs": [
    {
     "name": "stdout",
     "output_type": "stream",
     "text": [
      "TP, FP, FN 151 115 232\n",
      "NER:  precision, recall 0.5676691729323309 0.39425587467362927\n",
      "NER:  f1_score 0.46533127889060094\n"
     ]
    },
    {
     "data": {
      "text/plain": [
       "<evaluate.Reaction_f1 at 0x7f2f2835abe0>"
      ]
     },
     "execution_count": 1,
     "metadata": {},
     "output_type": "execute_result"
    }
   ],
   "source": [
    "import os\n",
    "import json\n",
    "from data_process import *\n",
    "from evaluate import *\n",
    "\n",
    "train_data,test_data=get_data()\n",
    "\n",
    "prev_dir='/data/lizh/ChemRxnExtractor-main/dev_prev.json'\n",
    "prev_data=read_json_file(prev_dir)\n",
    "Reaction_f1(test_data,prev_data)\n"
   ]
  },
  {
   "cell_type": "markdown",
   "metadata": {},
   "source": [
    "测一下test.json"
   ]
  },
  {
   "cell_type": "code",
   "execution_count": 1,
   "metadata": {},
   "outputs": [
    {
     "name": "stdout",
     "output_type": "stream",
     "text": [
      "TP, FP, FN 261 81 138\n",
      "NER:  precision, recall 0.7631578947368421 0.6541353383458647\n",
      "NER:  f1_score 0.7044534412955465\n"
     ]
    },
    {
     "data": {
      "text/plain": [
       "<evaluate.Reaction_f1 at 0x7fd67515dd90>"
      ]
     },
     "execution_count": 1,
     "metadata": {},
     "output_type": "execute_result"
    }
   ],
   "source": [
    "import os\n",
    "import json\n",
    "from data_process import *\n",
    "from evaluate import *\n",
    "\n",
    "train_data,test_data=get_data()\n",
    "\n",
    "prev_dir='/data/lizh/ChemRxnExtractor-main/test_prev.json'\n",
    "prev_data=read_json_file(prev_dir)\n",
    "Reaction_f1(test_data,prev_data)"
   ]
  },
  {
   "cell_type": "markdown",
   "metadata": {},
   "source": [
    "微调后的qwen 72b 在dev数据集上的表现：\n",
    "TP, FP, FN 161 65 222\n",
    "NER:  precision, recall 0.7123893805309734 0.42036553524804177\n",
    "NER:  f1_score 0.528735632183908"
   ]
  },
  {
   "cell_type": "code",
   "execution_count": 1,
   "metadata": {},
   "outputs": [
    {
     "name": "stderr",
     "output_type": "stream",
     "text": [
      "/data/lizh/Conda/anaconda3/envs/vllm/lib/python3.9/site-packages/tqdm/auto.py:21: TqdmWarning: IProgress not found. Please update jupyter and ipywidgets. See https://ipywidgets.readthedocs.io/en/stable/user_install.html\n",
      "  from .autonotebook import tqdm as notebook_tqdm\n",
      "2024-12-12 21:41:33,773\tINFO util.py:154 -- Missing packages: ['ipywidgets']. Run `pip install -U ipywidgets`, then restart the notebook server for rich notebook output.\n",
      "2024-12-12 21:41:36,037\tINFO worker.py:1771 -- Started a local Ray instance.\n"
     ]
    },
    {
     "name": "stdout",
     "output_type": "stream",
     "text": [
      "INFO 12-12 21:41:37 llm_engine.py:161] Initializing an LLM engine (v0.4.3) with config: model='/data/lizh/LLaMA-Factory-main/models/qwen2.5_72b_reaction_sft', speculative_config=None, tokenizer='/data/lizh/LLaMA-Factory-main/models/qwen2.5_72b_reaction_sft', skip_tokenizer_init=False, tokenizer_mode=auto, revision=None, rope_scaling=None, tokenizer_revision=None, trust_remote_code=False, dtype=torch.bfloat16, max_seq_len=32768, download_dir=None, load_format=LoadFormat.AUTO, tensor_parallel_size=4, disable_custom_all_reduce=False, quantization=None, enforce_eager=False, kv_cache_dtype=auto, quantization_param_path=None, device_config=cuda, decoding_config=DecodingConfig(guided_decoding_backend='outlines'), seed=0, served_model_name=/data/lizh/LLaMA-Factory-main/models/qwen2.5_72b_reaction_sft)\n",
      "INFO 12-12 21:41:51 utils.py:618] Found nccl from library libnccl.so.2\n",
      "INFO 12-12 21:41:51 pynccl.py:65] vLLM is using nccl==2.20.5\n",
      "\u001b[36m(RayWorkerWrapper pid=1634378)\u001b[0m INFO 12-12 21:41:51 utils.py:618] Found nccl from library libnccl.so.2\n",
      "\u001b[36m(RayWorkerWrapper pid=1634378)\u001b[0m INFO 12-12 21:41:51 pynccl.py:65] vLLM is using nccl==2.20.5\n",
      "WARNING 12-12 21:41:51 custom_all_reduce.py:158] Custom allreduce is disabled because it's not supported on more than two PCIe-only GPUs. To silence this warning, specify disable_custom_all_reduce=True explicitly.\n",
      "\u001b[36m(RayWorkerWrapper pid=1634378)\u001b[0m WARNING 12-12 21:41:51 custom_all_reduce.py:158] Custom allreduce is disabled because it's not supported on more than two PCIe-only GPUs. To silence this warning, specify disable_custom_all_reduce=True explicitly.\n",
      "INFO 12-12 21:42:06 model_runner.py:146] Loading model weights took 33.9833 GB\n",
      "\u001b[36m(RayWorkerWrapper pid=1634544)\u001b[0m INFO 12-12 21:42:10 model_runner.py:146] Loading model weights took 33.9833 GB\n",
      "\u001b[36m(RayWorkerWrapper pid=1634627)\u001b[0m INFO 12-12 21:41:51 utils.py:618] Found nccl from library libnccl.so.2\u001b[32m [repeated 2x across cluster] (Ray deduplicates logs by default. Set RAY_DEDUP_LOGS=0 to disable log deduplication, or see https://docs.ray.io/en/master/ray-observability/user-guides/configure-logging.html#log-deduplication for more options.)\u001b[0m\n",
      "\u001b[36m(RayWorkerWrapper pid=1634627)\u001b[0m INFO 12-12 21:41:51 pynccl.py:65] vLLM is using nccl==2.20.5\u001b[32m [repeated 2x across cluster]\u001b[0m\n",
      "\u001b[36m(RayWorkerWrapper pid=1634627)\u001b[0m WARNING 12-12 21:41:51 custom_all_reduce.py:158] Custom allreduce is disabled because it's not supported on more than two PCIe-only GPUs. To silence this warning, specify disable_custom_all_reduce=True explicitly.\u001b[32m [repeated 2x across cluster]\u001b[0m\n",
      "INFO 12-12 21:43:03 distributed_gpu_executor.py:56] # GPU blocks: 7699, # CPU blocks: 3276\n",
      "INFO 12-12 21:43:07 model_runner.py:854] Capturing the model for CUDA graphs. This may lead to unexpected consequences if the model is not static. To run the model in eager mode, set 'enforce_eager=True' or use '--enforce-eager' in the CLI.\n",
      "INFO 12-12 21:43:07 model_runner.py:858] CUDA graphs can take additional 1~3 GiB memory per GPU. If you are running out of memory, consider decreasing `gpu_memory_utilization` or enforcing eager mode. You can also reduce the `max_num_seqs` as needed to decrease memory usage.\n",
      "\u001b[36m(RayWorkerWrapper pid=1634378)\u001b[0m INFO 12-12 21:43:07 model_runner.py:854] Capturing the model for CUDA graphs. This may lead to unexpected consequences if the model is not static. To run the model in eager mode, set 'enforce_eager=True' or use '--enforce-eager' in the CLI.\n",
      "\u001b[36m(RayWorkerWrapper pid=1634378)\u001b[0m INFO 12-12 21:43:07 model_runner.py:858] CUDA graphs can take additional 1~3 GiB memory per GPU. If you are running out of memory, consider decreasing `gpu_memory_utilization` or enforcing eager mode. You can also reduce the `max_num_seqs` as needed to decrease memory usage.\n",
      "\u001b[36m(RayWorkerWrapper pid=1634378)\u001b[0m INFO 12-12 21:42:10 model_runner.py:146] Loading model weights took 33.9833 GB\u001b[32m [repeated 2x across cluster]\u001b[0m\n",
      "\u001b[36m(RayWorkerWrapper pid=1634378)\u001b[0m INFO 12-12 21:43:56 model_runner.py:924] Graph capturing finished in 48 secs.\n",
      "\u001b[36m(RayWorkerWrapper pid=1634627)\u001b[0m INFO 12-12 21:43:07 model_runner.py:854] Capturing the model for CUDA graphs. This may lead to unexpected consequences if the model is not static. To run the model in eager mode, set 'enforce_eager=True' or use '--enforce-eager' in the CLI.\u001b[32m [repeated 2x across cluster]\u001b[0m\n",
      "\u001b[36m(RayWorkerWrapper pid=1634627)\u001b[0m INFO 12-12 21:43:07 model_runner.py:858] CUDA graphs can take additional 1~3 GiB memory per GPU. If you are running out of memory, consider decreasing `gpu_memory_utilization` or enforcing eager mode. You can also reduce the `max_num_seqs` as needed to decrease memory usage.\u001b[32m [repeated 2x across cluster]\u001b[0m\n",
      "INFO 12-12 21:43:56 model_runner.py:924] Graph capturing finished in 49 secs.\n",
      "第0条数据\n"
     ]
    },
    {
     "name": "stderr",
     "output_type": "stream",
     "text": [
      "Processed prompts: 100%|██████████| 1/1 [00:12<00:00, 12.24s/it, Generation Speed: 5.39 toks/s]\n",
      "100%|██████████| 1/1 [00:12<00:00, 12.29s/it]\n"
     ]
    },
    {
     "name": "stdout",
     "output_type": "stream",
     "text": [
      "{'Reactants': ['benzene-1,2-diamine', 'hexanebis(peroxoic acid )', 'dodecanebis(peroxoic acid )'], 'Product': ['2- nitroaniline'], 'Yield': ['90 %', '92 %']}\n",
      "第1条数据\n",
      "第2条数据\n"
     ]
    },
    {
     "name": "stderr",
     "output_type": "stream",
     "text": [
      "Processed prompts: 100%|██████████| 1/1 [00:10<00:00, 10.31s/it, Generation Speed: 4.37 toks/s]\n",
      "100%|██████████| 1/1 [00:10<00:00, 10.33s/it]\n"
     ]
    },
    {
     "name": "stdout",
     "output_type": "stream",
     "text": [
      "{'Reactants': ['TM-3', 'molecular oxygen'], 'Product': ['(3,5,5-trimethyl-2-oxomorpholin-3-yl)peroxyl radical']}\n"
     ]
    },
    {
     "name": "stderr",
     "output_type": "stream",
     "text": [
      "Processed prompts: 100%|██████████| 1/1 [00:06<00:00,  6.02s/it, Generation Speed: 3.49 toks/s]\n",
      "100%|██████████| 1/1 [00:06<00:00,  6.03s/it]\n"
     ]
    },
    {
     "name": "stdout",
     "output_type": "stream",
     "text": [
      "{'Reactants': ['TM-3', 'molecular oxygen'], 'Product': ['l']}\n"
     ]
    },
    {
     "name": "stderr",
     "output_type": "stream",
     "text": [
      "Processed prompts: 100%|██████████| 1/1 [00:14<00:00, 14.41s/it, Generation Speed: 5.07 toks/s]\n",
      "100%|██████████| 1/1 [00:14<00:00, 14.41s/it]\n"
     ]
    },
    {
     "name": "stdout",
     "output_type": "stream",
     "text": [
      "{'Reactants': ['(3,5,5-trimethyl-2-oxomorpholin-3-yl)peroxyl radical', 'l', 'TM-3'], 'Product': ['bis- ( 3,5,5-trimethy1-2-oxomorpholin-3-y1 ) peroxide']}\n"
     ]
    },
    {
     "name": "stderr",
     "output_type": "stream",
     "text": [
      "Processed prompts: 100%|██████████| 1/1 [00:09<00:00,  9.81s/it, Generation Speed: 4.59 toks/s]\n",
      "100%|██████████| 1/1 [00:09<00:00,  9.82s/it]\n"
     ]
    },
    {
     "name": "stdout",
     "output_type": "stream",
     "text": [
      "{'Reactants': ['(3,5,5-trimethyl-2-oxomorpholin-3-yl)peroxyl', 'l', 'TM-3'], 'Product': ['2']}\n"
     ]
    },
    {
     "name": "stderr",
     "output_type": "stream",
     "text": [
      "Processed prompts: 100%|██████████| 1/1 [00:10<00:00, 10.28s/it, Generation Speed: 4.67 toks/s]\n",
      "100%|██████████| 1/1 [00:10<00:00, 10.29s/it]\n"
     ]
    },
    {
     "name": "stdout",
     "output_type": "stream",
     "text": [
      "{'Reactants': ['(3,5,5-trimethyl-2-oxomorpholin-3-yl)peroxyl radical', 'l'], 'Product': ['0- morpholin-4-yl']}\n"
     ]
    },
    {
     "name": "stderr",
     "output_type": "stream",
     "text": [
      "Processed prompts: 100%|██████████| 1/1 [00:04<00:00,  4.87s/it, Generation Speed: 2.88 toks/s]\n",
      "100%|██████████| 1/1 [00:04<00:00,  4.88s/it]\n"
     ]
    },
    {
     "name": "stdout",
     "output_type": "stream",
     "text": [
      "{'Reactants': ['l'], 'Product': ['3']}\n",
      "第3条数据\n"
     ]
    },
    {
     "name": "stderr",
     "output_type": "stream",
     "text": [
      "Processed prompts: 100%|██████████| 1/1 [00:12<00:00, 12.29s/it, Generation Speed: 5.29 toks/s]\n",
      "100%|██████████| 1/1 [00:12<00:00, 12.30s/it]\n"
     ]
    },
    {
     "name": "stdout",
     "output_type": "stream",
     "text": [
      "{'Reactants': ['3,4,5,5-tetramethyl-2-oxomorpholine', '6', 'di-tert-butyl peroxide'], 'Product': ['3-methylidene- 4,5,5-trimethyl-2-oxomorpholine']}\n"
     ]
    },
    {
     "name": "stderr",
     "output_type": "stream",
     "text": [
      "Processed prompts: 100%|██████████| 1/1 [00:08<00:00,  8.93s/it, Generation Speed: 4.93 toks/s]\n",
      "100%|██████████| 1/1 [00:08<00:00,  8.94s/it]\n"
     ]
    },
    {
     "name": "stdout",
     "output_type": "stream",
     "text": [
      "{'Reactants': ['3,4,5,5-tetramethyl-2-oxomorpholine', '6', 'di-tert-butyl peroxide'], 'Product': ['7']}\n",
      "第4条数据\n"
     ]
    },
    {
     "name": "stderr",
     "output_type": "stream",
     "text": [
      "Processed prompts: 100%|██████████| 1/1 [00:18<00:00, 18.78s/it, Generation Speed: 5.86 toks/s]\n",
      "100%|██████████| 1/1 [00:18<00:00, 18.79s/it]\n"
     ]
    },
    {
     "name": "stdout",
     "output_type": "stream",
     "text": [
      "{'Reactants': ['1-bromo-2- chlorobenzene', '1-chloro-2-iodobenzene', '1,2-dibromobenzene', '1-bromo-2-iodobenzene', '1,2-dichlorobenzene', 'N-(5-chloro-2-mercaptophenyl)acetamide'], 'Product': ['2-chloro-10H-phenothiazine'], 'Yield': ['92 %']}\n",
      "第5条数据\n"
     ]
    },
    {
     "name": "stderr",
     "output_type": "stream",
     "text": [
      "Processed prompts: 100%|██████████| 1/1 [00:09<00:00,  9.33s/it, Generation Speed: 4.82 toks/s]\n",
      "100%|██████████| 1/1 [00:09<00:00,  9.34s/it]\n"
     ]
    },
    {
     "name": "stdout",
     "output_type": "stream",
     "text": [
      "{'Product': ['Methyl tetrahydrofolate'], 'Reactants': ['C02'], 'Catalyst_Reagents': ['formate dehydrogenase', 'THF - dependent enzymes.']}\n",
      "第6条数据\n",
      "第7条数据\n"
     ]
    },
    {
     "name": "stderr",
     "output_type": "stream",
     "text": [
      "Processed prompts: 100%|██████████| 1/1 [00:07<00:00,  7.79s/it, Generation Speed: 4.62 toks/s]\n",
      "100%|██████████| 1/1 [00:07<00:00,  7.81s/it]\n"
     ]
    },
    {
     "name": "stdout",
     "output_type": "stream",
     "text": [
      "{'Reactants': ['7e'], 'Catalyst_Reagents': ['chloranil'], 'Product': ['5e'], 'Yield': ['6 %']}\n"
     ]
    },
    {
     "name": "stderr",
     "output_type": "stream",
     "text": [
      "Processed prompts: 100%|██████████| 1/1 [00:10<00:00, 10.40s/it, Generation Speed: 5.10 toks/s]\n",
      "100%|██████████| 1/1 [00:10<00:00, 10.41s/it]\n"
     ]
    },
    {
     "name": "stdout",
     "output_type": "stream",
     "text": [
      "{'Reactants': ['7f'], 'Catalyst_Reagents': ['0.1 % aqueous FeCl3', 'CHCl3'], 'Temperature': ['room'], 'Product': ['5f'], 'Yield': ['7 %']}\n"
     ]
    },
    {
     "name": "stderr",
     "output_type": "stream",
     "text": [
      "Processed prompts: 100%|██████████| 1/1 [00:08<00:00,  8.94s/it, Generation Speed: 4.92 toks/s]\n",
      "100%|██████████| 1/1 [00:08<00:00,  8.95s/it]\n"
     ]
    },
    {
     "name": "stdout",
     "output_type": "stream",
     "text": [
      "{'Reactants': ['7g', 'FeCl3'], 'Solvent': ['CHCl3'], 'Temperature': ['room'], 'Product': ['5g'], 'Yield': ['5 %']}\n"
     ]
    },
    {
     "name": "stderr",
     "output_type": "stream",
     "text": [
      "Processed prompts: 100%|██████████| 1/1 [00:09<00:00,  9.87s/it, Generation Speed: 5.17 toks/s]\n",
      "100%|██████████| 1/1 [00:09<00:00,  9.88s/it]\n"
     ]
    },
    {
     "name": "stdout",
     "output_type": "stream",
     "text": [
      "{'Reactants': ['7h'], 'Catalyst_Reagents': ['FeCl3'], 'Solvent': ['CHCl3'], 'Temperature': ['room'], 'Product': ['5h'], 'Yield': ['4 %']}\n",
      "第8条数据\n"
     ]
    },
    {
     "name": "stderr",
     "output_type": "stream",
     "text": [
      "Processed prompts: 100%|██████████| 1/1 [00:06<00:00,  6.51s/it, Generation Speed: 4.92 toks/s]\n",
      "100%|██████████| 1/1 [00:06<00:00,  6.52s/it]\n"
     ]
    },
    {
     "name": "stdout",
     "output_type": "stream",
     "text": [
      "{'Product': ['[ Cp-CH(CH3)Cyl2ZrCI2'], 'Yield': ['almost quan- titative']}\n"
     ]
    },
    {
     "name": "stderr",
     "output_type": "stream",
     "text": [
      "Processed prompts: 100%|██████████| 1/1 [00:02<00:00,  2.94s/it, Generation Speed: 3.41 toks/s]\n",
      "100%|██████████| 1/1 [00:02<00:00,  2.94s/it]\n"
     ]
    },
    {
     "name": "stdout",
     "output_type": "stream",
     "text": [
      "{'Product': ['meso-1']}\n"
     ]
    },
    {
     "name": "stderr",
     "output_type": "stream",
     "text": [
      "Processed prompts: 100%|██████████| 1/1 [00:02<00:00,  2.76s/it, Generation Speed: 3.27 toks/s]\n",
      "100%|██████████| 1/1 [00:02<00:00,  2.77s/it]\n"
     ]
    },
    {
     "name": "stdout",
     "output_type": "stream",
     "text": [
      "{'Product': ['rac-1']}\n",
      "第9条数据\n"
     ]
    },
    {
     "name": "stderr",
     "output_type": "stream",
     "text": [
      "Processed prompts: 100%|██████████| 1/1 [00:10<00:00, 10.92s/it, Generation Speed: 5.32 toks/s]\n",
      "100%|██████████| 1/1 [00:10<00:00, 10.93s/it]\n"
     ]
    },
    {
     "name": "stdout",
     "output_type": "stream",
     "text": [
      "{'Reactants': ['2s', 'dimethyl', 'diphenyl sulfide'], 'Solvent': ['deutericchloroform'], 'Temperature': ['-30 O C'], 'Time': ['15 min'], 'Product': ['3a']}\n",
      "第10条数据\n",
      "第11条数据\n"
     ]
    },
    {
     "name": "stderr",
     "output_type": "stream",
     "text": [
      "Processed prompts: 100%|██████████| 1/1 [00:05<00:00,  5.76s/it, Generation Speed: 4.52 toks/s]\n",
      "100%|██████████| 1/1 [00:05<00:00,  5.77s/it]\n"
     ]
    },
    {
     "name": "stdout",
     "output_type": "stream",
     "text": [
      "{'Catalyst_Reagents': ['4'], 'Reactants': ['1a'], 'Product': ['2a']}\n",
      "第12条数据\n",
      "第13条数据\n"
     ]
    },
    {
     "name": "stderr",
     "output_type": "stream",
     "text": [
      "Processed prompts: 100%|██████████| 1/1 [00:13<00:00, 13.39s/it, Generation Speed: 5.38 toks/s]\n",
      "100%|██████████| 1/1 [00:13<00:00, 13.40s/it]\n"
     ]
    },
    {
     "name": "stdout",
     "output_type": "stream",
     "text": [
      "{'Reactants': ['3,6-dinitrocarbazole', 'H2', 'Pd / C', 'EtOH', 'HOAc'], 'Product': ['N-((methyloxycarbony1)- methyl)-3,6-diaminocarbazole.'], 'Yield': ['61 %']}\n",
      "第14条数据\n"
     ]
    },
    {
     "name": "stderr",
     "output_type": "stream",
     "text": [
      "Processed prompts: 100%|██████████| 1/1 [00:06<00:00,  6.62s/it, Generation Speed: 4.68 toks/s]\n",
      "100%|██████████| 1/1 [00:06<00:00,  6.63s/it]\n"
     ]
    },
    {
     "name": "stdout",
     "output_type": "stream",
     "text": [
      "{'Reactants': ['2-cy- clohexenone', '7a'], 'Product': ['2-cyclohexenol']}\n"
     ]
    },
    {
     "name": "stderr",
     "output_type": "stream",
     "text": [
      "Processed prompts: 100%|██████████| 1/1 [00:04<00:00,  4.97s/it, Generation Speed: 4.02 toks/s]\n",
      "100%|██████████| 1/1 [00:04<00:00,  4.98s/it]\n"
     ]
    },
    {
     "name": "stdout",
     "output_type": "stream",
     "text": [
      "{'Reactants': ['7a'], 'Product': ['cyclohexanol.']}\n",
      "第15条数据\n"
     ]
    },
    {
     "name": "stderr",
     "output_type": "stream",
     "text": [
      "Processed prompts: 100%|██████████| 1/1 [00:06<00:00,  6.00s/it, Generation Speed: 5.00 toks/s]\n",
      "100%|██████████| 1/1 [00:06<00:00,  6.01s/it]\n"
     ]
    },
    {
     "name": "stdout",
     "output_type": "stream",
     "text": [
      "{'Reactants': ['1a', '2a'], 'Catalyst_Reagents': ['CsF'], 'Product': ['5']}\n"
     ]
    },
    {
     "name": "stderr",
     "output_type": "stream",
     "text": [
      "Processed prompts: 100%|██████████| 1/1 [00:07<00:00,  7.22s/it, Generation Speed: 5.54 toks/s]\n",
      "100%|██████████| 1/1 [00:07<00:00,  7.23s/it]\n"
     ]
    },
    {
     "name": "stdout",
     "output_type": "stream",
     "text": [
      "{'Reactants': ['1a', '2a'], 'Catalyst_Reagents': ['CsF'], 'Product': ['3a'], 'Yield': ['24 %']}\n",
      "第16条数据\n",
      "第17条数据\n"
     ]
    },
    {
     "name": "stderr",
     "output_type": "stream",
     "text": [
      "Processed prompts: 100%|██████████| 1/1 [00:05<00:00,  5.65s/it, Generation Speed: 4.96 toks/s]\n",
      "100%|██████████| 1/1 [00:05<00:00,  5.66s/it]\n"
     ]
    },
    {
     "name": "stdout",
     "output_type": "stream",
     "text": [
      "{'Reactants': ['diphenylketene'], 'Product': ['2'], 'Yield': ['61 %']}\n",
      "第18条数据\n"
     ]
    },
    {
     "name": "stderr",
     "output_type": "stream",
     "text": [
      "Processed prompts: 100%|██████████| 1/1 [00:08<00:00,  8.17s/it, Generation Speed: 4.77 toks/s]\n",
      "100%|██████████| 1/1 [00:08<00:00,  8.20s/it]\n"
     ]
    },
    {
     "name": "stdout",
     "output_type": "stream",
     "text": [
      "{'Product': ['6'], 'Catalyst_Reagents': ['AlCl3'], 'Reactants': ['naph- thacene', 'chloroacetyl chloride.']}\n",
      "第19条数据\n"
     ]
    },
    {
     "name": "stderr",
     "output_type": "stream",
     "text": [
      "Processed prompts: 100%|██████████| 1/1 [00:07<00:00,  7.76s/it, Generation Speed: 5.16 toks/s]\n",
      "100%|██████████| 1/1 [00:07<00:00,  7.76s/it]\n"
     ]
    },
    {
     "name": "stdout",
     "output_type": "stream",
     "text": [
      "{'Reactants': ['6', 'TiCl4'], 'Temperature': ['reﬂuxing'], 'Solvent': ['ODCB'], 'Product': ['4']}\n",
      "第20条数据\n",
      "第21条数据\n"
     ]
    },
    {
     "name": "stderr",
     "output_type": "stream",
     "text": [
      "Processed prompts: 100%|██████████| 1/1 [00:14<00:00, 14.95s/it, Generation Speed: 5.49 toks/s]\n",
      "100%|██████████| 1/1 [00:14<00:00, 14.96s/it]\n"
     ]
    },
    {
     "name": "stdout",
     "output_type": "stream",
     "text": [
      "{'Reactants': ['(Z)-1a'], 'Product': ['2aa'], 'Catalyst_Reagents': ['−CHCl3', 'Pd', 'PPh3', 'Pd2dba3'], 'Solvent': ['MeOH'], 'Temperature': ['25 ° C'], 'Time': ['1 h']}\n",
      "第22条数据\n",
      "第23条数据\n",
      "第24条数据\n"
     ]
    },
    {
     "name": "stderr",
     "output_type": "stream",
     "text": [
      "Processed prompts: 100%|██████████| 1/1 [00:04<00:00,  4.72s/it, Generation Speed: 3.61 toks/s]\n",
      "100%|██████████| 1/1 [00:04<00:00,  4.73s/it]\n"
     ]
    },
    {
     "name": "stdout",
     "output_type": "stream",
     "text": [
      "{'Reactants': ['10'], 'Product': ['11.']}\n",
      "第25条数据\n",
      "第26条数据\n"
     ]
    },
    {
     "name": "stderr",
     "output_type": "stream",
     "text": [
      "Processed prompts: 100%|██████████| 1/1 [00:07<00:00,  7.48s/it, Generation Speed: 5.35 toks/s]\n",
      "100%|██████████| 1/1 [00:07<00:00,  7.49s/it]\n"
     ]
    },
    {
     "name": "stdout",
     "output_type": "stream",
     "text": [
      "{'Reactants': ['5', 'HBFdEt20'], 'Product': ['( Zpropynyl-2- fenchyl)Coz(CO)6]+']}\n"
     ]
    },
    {
     "name": "stderr",
     "output_type": "stream",
     "text": [
      "Processed prompts: 100%|██████████| 1/1 [00:04<00:00,  4.68s/it, Generation Speed: 4.71 toks/s]\n",
      "100%|██████████| 1/1 [00:04<00:00,  4.68s/it]\n"
     ]
    },
    {
     "name": "stdout",
     "output_type": "stream",
     "text": [
      "{'Reactants': ['5', 'HBFdEt20'], 'Product': ['6']}\n",
      "第27条数据\n"
     ]
    },
    {
     "name": "stderr",
     "output_type": "stream",
     "text": [
      "Processed prompts: 100%|██████████| 1/1 [00:04<00:00,  4.84s/it, Generation Speed: 3.51 toks/s]\n",
      "100%|██████████| 1/1 [00:04<00:00,  4.85s/it]\n"
     ]
    },
    {
     "name": "stdout",
     "output_type": "stream",
     "text": [
      "{'Product': ['7a'], 'Yield': ['22 %']}\n"
     ]
    },
    {
     "name": "stderr",
     "output_type": "stream",
     "text": [
      "Processed prompts: 100%|██████████| 1/1 [00:03<00:00,  3.30s/it, Generation Speed: 2.43 toks/s]\n",
      "100%|██████████| 1/1 [00:03<00:00,  3.30s/it]\n"
     ]
    },
    {
     "name": "stdout",
     "output_type": "stream",
     "text": [
      "{'Product': ['8a']}\n"
     ]
    },
    {
     "name": "stderr",
     "output_type": "stream",
     "text": [
      "Processed prompts: 100%|██████████| 1/1 [00:03<00:00,  3.36s/it, Generation Speed: 2.39 toks/s]\n",
      "100%|██████████| 1/1 [00:03<00:00,  3.37s/it]\n"
     ]
    },
    {
     "name": "stdout",
     "output_type": "stream",
     "text": [
      "{'Product': ['8b']}\n"
     ]
    },
    {
     "name": "stderr",
     "output_type": "stream",
     "text": [
      "Processed prompts: 100%|██████████| 1/1 [00:04<00:00,  4.67s/it, Generation Speed: 3.64 toks/s]\n",
      "100%|██████████| 1/1 [00:04<00:00,  4.68s/it]\n"
     ]
    },
    {
     "name": "stdout",
     "output_type": "stream",
     "text": [
      "{'Product': ['Sb'], 'Yield': ['23 %']}\n",
      "第28条数据\n",
      "第29条数据\n",
      "第30条数据\n",
      "第31条数据\n",
      "第32条数据\n"
     ]
    },
    {
     "name": "stderr",
     "output_type": "stream",
     "text": [
      "Processed prompts: 100%|██████████| 1/1 [00:09<00:00,  9.68s/it, Generation Speed: 4.86 toks/s]\n",
      "100%|██████████| 1/1 [00:09<00:00,  9.69s/it]\n"
     ]
    },
    {
     "name": "stdout",
     "output_type": "stream",
     "text": [
      "{'Product': ['3b.pyrarine'], 'Reactants': ['tetrol Ib', '(n-Bu),N+HO-'], 'Solvent': ['pyrazine', 'CHCIKHIOH.']}\n",
      "第33条数据\n",
      "第34条数据\n"
     ]
    },
    {
     "name": "stderr",
     "output_type": "stream",
     "text": [
      "Processed prompts: 100%|██████████| 1/1 [00:05<00:00,  5.13s/it, Generation Speed: 4.88 toks/s]\n",
      "100%|██████████| 1/1 [00:05<00:00,  5.14s/it]\n"
     ]
    },
    {
     "name": "stdout",
     "output_type": "stream",
     "text": [
      "{'Reactants': ['42b', 'thexylborane'], 'Product': ['43a']}\n"
     ]
    },
    {
     "name": "stderr",
     "output_type": "stream",
     "text": [
      "Processed prompts: 100%|██████████| 1/1 [00:05<00:00,  5.17s/it, Generation Speed: 4.65 toks/s]\n",
      "100%|██████████| 1/1 [00:05<00:00,  5.18s/it]\n"
     ]
    },
    {
     "name": "stdout",
     "output_type": "stream",
     "text": [
      "{'Reactants': ['42b', 'thexylborane'], 'Product': ['epimer']}\n",
      "第35条数据\n"
     ]
    },
    {
     "name": "stderr",
     "output_type": "stream",
     "text": [
      "Processed prompts: 100%|██████████| 1/1 [00:04<00:00,  4.97s/it, Generation Speed: 4.02 toks/s]\n",
      "100%|██████████| 1/1 [00:04<00:00,  4.98s/it]\n"
     ]
    },
    {
     "name": "stdout",
     "output_type": "stream",
     "text": [
      "{'Reactants': ['2', 'KMn04'], 'Product': ['3']}\n",
      "第36条数据\n"
     ]
    },
    {
     "name": "stderr",
     "output_type": "stream",
     "text": [
      "Processed prompts: 100%|██████████| 1/1 [00:12<00:00, 12.92s/it, Generation Speed: 5.49 toks/s]\n",
      "100%|██████████| 1/1 [00:12<00:00, 12.94s/it]\n"
     ]
    },
    {
     "name": "stdout",
     "output_type": "stream",
     "text": [
      "{'Product': ['1,2-bis(4-tert-buty1-2,6-dimethylphenyl)- 1 ,Zdimesitylethene'], 'Reactants': ['(4-tert-butyl-2,6-dimethylphenyl)mesitylketene', '5.']}\n"
     ]
    },
    {
     "name": "stderr",
     "output_type": "stream",
     "text": [
      "Processed prompts: 100%|██████████| 1/1 [00:07<00:00,  7.97s/it, Generation Speed: 4.90 toks/s]\n",
      "100%|██████████| 1/1 [00:07<00:00,  7.97s/it]\n"
     ]
    },
    {
     "name": "stdout",
     "output_type": "stream",
     "text": [
      "{'Product': ['4'], 'Reactants': ['(4-tert-butyl-2,6-dimethylphenyl)mesitylketene', '5.']}\n",
      "第37条数据\n"
     ]
    },
    {
     "name": "stderr",
     "output_type": "stream",
     "text": [
      "Processed prompts: 100%|██████████| 1/1 [00:07<00:00,  7.72s/it, Generation Speed: 3.89 toks/s]\n",
      "100%|██████████| 1/1 [00:07<00:00,  7.73s/it]\n"
     ]
    },
    {
     "name": "stdout",
     "output_type": "stream",
     "text": [
      "{'Reactants': ['2-methylfuran', '3-bromobenzyne', '3'], 'Product': ['4']}\n"
     ]
    },
    {
     "name": "stderr",
     "output_type": "stream",
     "text": [
      "Processed prompts: 100%|██████████| 1/1 [00:07<00:00,  7.63s/it, Generation Speed: 4.07 toks/s]\n",
      "100%|██████████| 1/1 [00:07<00:00,  7.64s/it]\n"
     ]
    },
    {
     "name": "stdout",
     "output_type": "stream",
     "text": [
      "{'Reactants': ['2-methylfuran', '3-bromobenzyne', '3'], 'Product': ['5.']}\n",
      "第38条数据\n"
     ]
    },
    {
     "name": "stderr",
     "output_type": "stream",
     "text": [
      "Processed prompts: 100%|██████████| 1/1 [00:04<00:00,  4.58s/it, Generation Speed: 3.93 toks/s]\n",
      "100%|██████████| 1/1 [00:04<00:00,  4.59s/it]\n"
     ]
    },
    {
     "name": "stdout",
     "output_type": "stream",
     "text": [
      "{'Catalyst_Reagents': ['I'], 'Product': ['3a']}\n",
      "第39条数据\n"
     ]
    },
    {
     "name": "stderr",
     "output_type": "stream",
     "text": [
      "Processed prompts: 100%|██████████| 1/1 [00:03<00:00,  3.80s/it, Generation Speed: 3.68 toks/s]\n",
      "100%|██████████| 1/1 [00:03<00:00,  3.81s/it]\n"
     ]
    },
    {
     "name": "stdout",
     "output_type": "stream",
     "text": [
      "{'Reactants': ['2'], 'Product': ['3']}\n",
      "第40条数据\n"
     ]
    },
    {
     "name": "stderr",
     "output_type": "stream",
     "text": [
      "Processed prompts: 100%|██████████| 1/1 [00:07<00:00,  7.57s/it, Generation Speed: 4.89 toks/s]\n",
      "100%|██████████| 1/1 [00:07<00:00,  7.58s/it]\n"
     ]
    },
    {
     "name": "stdout",
     "output_type": "stream",
     "text": [
      "{'Reactants': ['CpFe(CO)zSiMe3', 'l a'], 'Product': ['2a'], 'Yield': ['21 %']}\n"
     ]
    },
    {
     "name": "stderr",
     "output_type": "stream",
     "text": [
      "Processed prompts: 100%|██████████| 1/1 [00:06<00:00,  6.56s/it, Generation Speed: 4.58 toks/s]\n",
      "100%|██████████| 1/1 [00:06<00:00,  6.57s/it]\n"
     ]
    },
    {
     "name": "stdout",
     "output_type": "stream",
     "text": [
      "{'Reactants': ['CpFe(CO)zSiMe3', 'lb,c'], 'Product': ['2b,c.']}\n",
      "第41条数据\n"
     ]
    },
    {
     "name": "stderr",
     "output_type": "stream",
     "text": [
      "Processed prompts: 100%|██████████| 1/1 [00:03<00:00,  3.67s/it, Generation Speed: 2.72 toks/s]\n",
      "100%|██████████| 1/1 [00:03<00:00,  3.68s/it]\n"
     ]
    },
    {
     "name": "stdout",
     "output_type": "stream",
     "text": [
      "{'Product': ['CpFe-']}\n"
     ]
    },
    {
     "name": "stderr",
     "output_type": "stream",
     "text": [
      "Processed prompts: 100%|██████████| 1/1 [00:04<00:00,  4.89s/it, Generation Speed: 3.68 toks/s]\n",
      "100%|██████████| 1/1 [00:04<00:00,  4.90s/it]\n"
     ]
    },
    {
     "name": "stdout",
     "output_type": "stream",
     "text": [
      "{'Product': ['3a'], 'Yield': ['3.9 %']}\n",
      "第42条数据\n"
     ]
    },
    {
     "name": "stderr",
     "output_type": "stream",
     "text": [
      "Processed prompts: 100%|██████████| 1/1 [00:07<00:00,  7.64s/it, Generation Speed: 5.11 toks/s]\n",
      "100%|██████████| 1/1 [00:07<00:00,  7.65s/it]\n"
     ]
    },
    {
     "name": "stdout",
     "output_type": "stream",
     "text": [
      "{'Reactants': ['1'], 'Product': ['2-(2,4-dimethoxyphenyl)-p-benzoquinone'], 'Yield': ['8 %']}\n",
      "第43条数据\n"
     ]
    },
    {
     "name": "stderr",
     "output_type": "stream",
     "text": [
      "Processed prompts: 100%|██████████| 1/1 [00:09<00:00,  9.45s/it, Generation Speed: 4.24 toks/s]\n",
      "100%|██████████| 1/1 [00:09<00:00,  9.47s/it]\n"
     ]
    },
    {
     "name": "stdout",
     "output_type": "stream",
     "text": [
      "{'Reactants': ['30'], 'Temperature': ['180 ° C'], 'Solvent': ['DCE'], 'Product': ['31a']}\n",
      "第44条数据\n"
     ]
    },
    {
     "name": "stderr",
     "output_type": "stream",
     "text": [
      "Processed prompts: 100%|██████████| 1/1 [00:05<00:00,  5.07s/it, Generation Speed: 4.74 toks/s]\n",
      "100%|██████████| 1/1 [00:05<00:00,  5.08s/it]\n"
     ]
    },
    {
     "name": "stdout",
     "output_type": "stream",
     "text": [
      "{'Reactants': ['Deoxy-Mb', 'quinone.'], 'Product': ['met-Mb']}\n",
      "第45条数据\n",
      "第46条数据\n"
     ]
    },
    {
     "name": "stderr",
     "output_type": "stream",
     "text": [
      "Processed prompts: 100%|██████████| 1/1 [00:06<00:00,  6.96s/it, Generation Speed: 4.89 toks/s]\n",
      "100%|██████████| 1/1 [00:06<00:00,  6.97s/it]\n"
     ]
    },
    {
     "name": "stdout",
     "output_type": "stream",
     "text": [
      "{'Reactants': ['l-(diazomethyl)-8-methylnaphthalene', '2'], 'Product': ['acenaphthene']}\n"
     ]
    },
    {
     "name": "stderr",
     "output_type": "stream",
     "text": [
      "Processed prompts: 100%|██████████| 1/1 [00:06<00:00,  6.92s/it, Generation Speed: 4.48 toks/s]\n",
      "100%|██████████| 1/1 [00:06<00:00,  6.93s/it]\n"
     ]
    },
    {
     "name": "stdout",
     "output_type": "stream",
     "text": [
      "{'Reactants': ['l-(diazomethyl)-8-methylnaphthalene', '2'], 'Product': ['3']}\n"
     ]
    },
    {
     "name": "stderr",
     "output_type": "stream",
     "text": [
      "Processed prompts: 100%|██████████| 1/1 [00:08<00:00,  8.91s/it, Generation Speed: 4.83 toks/s]\n",
      "100%|██████████| 1/1 [00:08<00:00,  8.91s/it]\n"
     ]
    },
    {
     "name": "stdout",
     "output_type": "stream",
     "text": [
      "{'Reactants': ['l-(diazomethyl)-8-methylnaphthalene', '2'], 'Product': ['(8-methyl-I-naphthy1)carbene']}\n"
     ]
    },
    {
     "name": "stderr",
     "output_type": "stream",
     "text": [
      "Processed prompts: 100%|██████████| 1/1 [00:06<00:00,  6.91s/it, Generation Speed: 4.49 toks/s]\n",
      "100%|██████████| 1/1 [00:06<00:00,  6.92s/it]\n"
     ]
    },
    {
     "name": "stdout",
     "output_type": "stream",
     "text": [
      "{'Reactants': ['l-(diazomethyl)-8-methylnaphthalene', '2'], 'Product': ['a']}\n"
     ]
    },
    {
     "name": "stderr",
     "output_type": "stream",
     "text": [
      "Processed prompts: 100%|██████████| 1/1 [00:08<00:00,  8.51s/it, Generation Speed: 4.94 toks/s]\n",
      "100%|██████████| 1/1 [00:08<00:00,  8.52s/it]\n"
     ]
    },
    {
     "name": "stdout",
     "output_type": "stream",
     "text": [
      "{'Reactants': ['l-(diazomethyl)-8-methylnaphthalene', '2'], 'Product': ['1,8-naphthoquinodimethane']}\n"
     ]
    },
    {
     "name": "stderr",
     "output_type": "stream",
     "text": [
      "Processed prompts: 100%|██████████| 1/1 [00:06<00:00,  6.89s/it, Generation Speed: 4.50 toks/s]\n",
      "100%|██████████| 1/1 [00:06<00:00,  6.89s/it]\n"
     ]
    },
    {
     "name": "stdout",
     "output_type": "stream",
     "text": [
      "{'Reactants': ['l-(diazomethyl)-8-methylnaphthalene', '2'], 'Product': ['b']}\n",
      "第47条数据\n",
      "第48条数据\n"
     ]
    },
    {
     "name": "stderr",
     "output_type": "stream",
     "text": [
      "Processed prompts: 100%|██████████| 1/1 [00:05<00:00,  5.56s/it, Generation Speed: 5.04 toks/s]\n",
      "100%|██████████| 1/1 [00:05<00:00,  5.57s/it]\n"
     ]
    },
    {
     "name": "stdout",
     "output_type": "stream",
     "text": [
      "{'Reactants': ['4a', '5'], 'Product': ['3a'], 'Yield': ['25 %']}\n",
      "第49条数据\n",
      "第50条数据\n"
     ]
    },
    {
     "name": "stderr",
     "output_type": "stream",
     "text": [
      "Processed prompts: 100%|██████████| 1/1 [00:03<00:00,  3.79s/it, Generation Speed: 4.75 toks/s]\n",
      "100%|██████████| 1/1 [00:03<00:00,  3.80s/it]\n"
     ]
    },
    {
     "name": "stdout",
     "output_type": "stream",
     "text": [
      "{'Reactants': ['4a'], 'Product': ['4c-e.']}\n",
      "第51条数据\n"
     ]
    },
    {
     "name": "stderr",
     "output_type": "stream",
     "text": [
      "Processed prompts: 100%|██████████| 1/1 [00:06<00:00,  6.96s/it, Generation Speed: 5.46 toks/s]\n",
      "100%|██████████| 1/1 [00:06<00:00,  6.97s/it]\n"
     ]
    },
    {
     "name": "stdout",
     "output_type": "stream",
     "text": [
      "{'Reactants': ['5', 'H2'], 'Solvent': ['MeOH'], 'Temperature': ['40 \" C'], 'Product': ['(R)-6']}\n",
      "第52条数据\n",
      "第53条数据\n"
     ]
    },
    {
     "name": "stderr",
     "output_type": "stream",
     "text": [
      "Processed prompts: 100%|██████████| 1/1 [00:06<00:00,  6.47s/it, Generation Speed: 4.17 toks/s]\n",
      "100%|██████████| 1/1 [00:06<00:00,  6.48s/it]\n"
     ]
    },
    {
     "name": "stdout",
     "output_type": "stream",
     "text": [
      "{'Reactants': ['7', 'l a'], 'Solvent': ['C02'], 'Product': ['8']}\n",
      "第54条数据\n"
     ]
    },
    {
     "name": "stderr",
     "output_type": "stream",
     "text": [
      "Processed prompts: 100%|██████████| 1/1 [00:07<00:00,  7.24s/it, Generation Speed: 5.11 toks/s]\n",
      "100%|██████████| 1/1 [00:07<00:00,  7.25s/it]"
     ]
    },
    {
     "name": "stdout",
     "output_type": "stream",
     "text": [
      "{'Reactants': ['DPD diox- etane'], 'Product': ['EGDB'], 'Time': ['2 h'], 'Temperature': ['60 OC.']}\n",
      "第55条数据\n",
      "第56条数据\n",
      "TP, FP, FN 161 65 222\n",
      "NER:  precision, recall 0.7123893805309734 0.42036553524804177\n",
      "NER:  f1_score 0.5287356321839081\n"
     ]
    },
    {
     "name": "stderr",
     "output_type": "stream",
     "text": [
      "\n"
     ]
    }
   ],
   "source": [
    "import os\n",
    "\n",
    "from evaluate import *\n",
    "from llm_re import *\n",
    "\n",
    "def main():\n",
    "    train_data,dev_data=get_devdata()\n",
    "    \n",
    "    prev_dir='/data/lizh/ChemRxnExtractor-main/dev_prev.json'\n",
    "    prev_data=read_json_file(prev_dir)\n",
    "    \n",
    "    prev_data2=chem_re(train_data,prev_data)\n",
    "    Reaction_f1(dev_data,prev_data2)\n",
    "\n",
    "main()"
   ]
  },
  {
   "cell_type": "markdown",
   "metadata": {},
   "source": [
    "# 测llm方法完整两段pipeline的结果"
   ]
  },
  {
   "cell_type": "markdown",
   "metadata": {},
   "source": [
    "微调前的llama3 70b"
   ]
  },
  {
   "cell_type": "code",
   "execution_count": null,
   "metadata": {},
   "outputs": [
    {
     "name": "stderr",
     "output_type": "stream",
     "text": [
      "/data/lizh/Conda/anaconda3/envs/vllm/lib/python3.9/site-packages/tqdm/auto.py:21: TqdmWarning: IProgress not found. Please update jupyter and ipywidgets. See https://ipywidgets.readthedocs.io/en/stable/user_install.html\n",
      "  from .autonotebook import tqdm as notebook_tqdm\n",
      "2024-12-16 17:22:46,780\tINFO util.py:154 -- Missing packages: ['ipywidgets']. Run `pip install -U ipywidgets`, then restart the notebook server for rich notebook output.\n",
      "2024-12-16 17:22:50,505\tINFO worker.py:1771 -- Started a local Ray instance.\n"
     ]
    },
    {
     "name": "stdout",
     "output_type": "stream",
     "text": [
      "INFO 12-16 17:22:51 llm_engine.py:161] Initializing an LLM engine (v0.4.3) with config: model='/data/models/llama3/Meta-Llama-3-70B-Instruct', speculative_config=None, tokenizer='/data/models/llama3/Meta-Llama-3-70B-Instruct', skip_tokenizer_init=False, tokenizer_mode=auto, revision=None, rope_scaling=None, tokenizer_revision=None, trust_remote_code=False, dtype=torch.bfloat16, max_seq_len=8192, download_dir=None, load_format=LoadFormat.AUTO, tensor_parallel_size=4, disable_custom_all_reduce=False, quantization=None, enforce_eager=False, kv_cache_dtype=auto, quantization_param_path=None, device_config=cuda, decoding_config=DecodingConfig(guided_decoding_backend='outlines'), seed=0, served_model_name=/data/models/llama3/Meta-Llama-3-70B-Instruct)\n",
      "INFO 12-16 17:23:08 utils.py:618] Found nccl from library libnccl.so.2\n",
      "INFO 12-16 17:23:08 pynccl.py:65] vLLM is using nccl==2.20.5\n",
      "\u001b[36m(RayWorkerWrapper pid=3626818)\u001b[0m INFO 12-16 17:23:08 utils.py:618] Found nccl from library libnccl.so.2\n",
      "\u001b[36m(RayWorkerWrapper pid=3626818)\u001b[0m INFO 12-16 17:23:08 pynccl.py:65] vLLM is using nccl==2.20.5\n",
      "WARNING 12-16 17:23:11 custom_all_reduce.py:158] Custom allreduce is disabled because it's not supported on more than two PCIe-only GPUs. To silence this warning, specify disable_custom_all_reduce=True explicitly.\n",
      "\u001b[36m(RayWorkerWrapper pid=3626818)\u001b[0m WARNING 12-16 17:23:11 custom_all_reduce.py:158] Custom allreduce is disabled because it's not supported on more than two PCIe-only GPUs. To silence this warning, specify disable_custom_all_reduce=True explicitly.\n",
      "INFO 12-16 17:23:51 model_runner.py:146] Loading model weights took 32.8599 GB\n",
      "\u001b[36m(RayWorkerWrapper pid=3626818)\u001b[0m INFO 12-16 17:23:52 model_runner.py:146] Loading model weights took 32.8599 GB\n",
      "\u001b[36m(RayWorkerWrapper pid=3627111)\u001b[0m INFO 12-16 17:23:08 utils.py:618] Found nccl from library libnccl.so.2\u001b[32m [repeated 2x across cluster] (Ray deduplicates logs by default. Set RAY_DEDUP_LOGS=0 to disable log deduplication, or see https://docs.ray.io/en/master/ray-observability/user-guides/configure-logging.html#log-deduplication for more options.)\u001b[0m\n",
      "\u001b[36m(RayWorkerWrapper pid=3627111)\u001b[0m INFO 12-16 17:23:08 pynccl.py:65] vLLM is using nccl==2.20.5\u001b[32m [repeated 2x across cluster]\u001b[0m\n",
      "\u001b[36m(RayWorkerWrapper pid=3627111)\u001b[0m WARNING 12-16 17:23:11 custom_all_reduce.py:158] Custom allreduce is disabled because it's not supported on more than two PCIe-only GPUs. To silence this warning, specify disable_custom_all_reduce=True explicitly.\u001b[32m [repeated 2x across cluster]\u001b[0m\n",
      "INFO 12-16 17:24:04 distributed_gpu_executor.py:56] # GPU blocks: 10961, # CPU blocks: 3276\n",
      "INFO 12-16 17:24:15 model_runner.py:854] Capturing the model for CUDA graphs. This may lead to unexpected consequences if the model is not static. To run the model in eager mode, set 'enforce_eager=True' or use '--enforce-eager' in the CLI.\n",
      "INFO 12-16 17:24:15 model_runner.py:858] CUDA graphs can take additional 1~3 GiB memory per GPU. If you are running out of memory, consider decreasing `gpu_memory_utilization` or enforcing eager mode. You can also reduce the `max_num_seqs` as needed to decrease memory usage.\n",
      "\u001b[36m(RayWorkerWrapper pid=3626818)\u001b[0m INFO 12-16 17:24:17 model_runner.py:854] Capturing the model for CUDA graphs. This may lead to unexpected consequences if the model is not static. To run the model in eager mode, set 'enforce_eager=True' or use '--enforce-eager' in the CLI.\n",
      "\u001b[36m(RayWorkerWrapper pid=3626818)\u001b[0m INFO 12-16 17:24:17 model_runner.py:858] CUDA graphs can take additional 1~3 GiB memory per GPU. If you are running out of memory, consider decreasing `gpu_memory_utilization` or enforcing eager mode. You can also reduce the `max_num_seqs` as needed to decrease memory usage.\n",
      "\u001b[36m(RayWorkerWrapper pid=3627111)\u001b[0m INFO 12-16 17:23:55 model_runner.py:146] Loading model weights took 32.8599 GB\u001b[32m [repeated 2x across cluster]\u001b[0m\n",
      "INFO 12-16 17:24:51 model_runner.py:924] Graph capturing finished in 36 secs.\n",
      "\u001b[36m(RayWorkerWrapper pid=3626818)\u001b[0m INFO 12-16 17:24:51 model_runner.py:924] Graph capturing finished in 34 secs.\n",
      "\u001b[36m(RayWorkerWrapper pid=3626993)\u001b[0m INFO 12-16 17:24:18 model_runner.py:854] Capturing the model for CUDA graphs. This may lead to unexpected consequences if the model is not static. To run the model in eager mode, set 'enforce_eager=True' or use '--enforce-eager' in the CLI.\u001b[32m [repeated 2x across cluster]\u001b[0m\n",
      "\u001b[36m(RayWorkerWrapper pid=3626993)\u001b[0m INFO 12-16 17:24:18 model_runner.py:858] CUDA graphs can take additional 1~3 GiB memory per GPU. If you are running out of memory, consider decreasing `gpu_memory_utilization` or enforcing eager mode. You can also reduce the `max_num_seqs` as needed to decrease memory usage.\u001b[32m [repeated 2x across cluster]\u001b[0m\n",
      "第0条数据\n"
     ]
    },
    {
     "name": "stderr",
     "output_type": "stream",
     "text": [
      "Processed prompts: 100%|██████████| 1/1 [00:04<00:00,  4.27s/it, Generation Speed: 7.75 toks/s]\n",
      "100%|██████████| 1/1 [00:04<00:00,  4.33s/it]\n"
     ]
    },
    {
     "name": "stdout",
     "output_type": "stream",
     "text": [
      "{'Product': ['23A'], 'Yield': ['30 %'], 'Reactants': ['diphenylacetylene', '19A']}\n"
     ]
    },
    {
     "name": "stderr",
     "output_type": "stream",
     "text": [
      "Processed prompts: 100%|██████████| 1/1 [00:03<00:00,  3.31s/it, Generation Speed: 13.91 toks/s]\n",
      "100%|██████████| 1/1 [00:03<00:00,  3.34s/it]\n"
     ]
    },
    {
     "name": "stdout",
     "output_type": "stream",
     "text": [
      "{'Product': ['25'], 'Reactants': ['(phenylcyclopropy1)- carbene complex 19B', 'diphenylacetylene'], 'Yield': ['53 %']}\n",
      "第1条数据\n"
     ]
    },
    {
     "name": "stderr",
     "output_type": "stream",
     "text": [
      "Processed prompts: 100%|██████████| 1/1 [00:03<00:00,  3.77s/it, Generation Speed: 16.19 toks/s]\n",
      "100%|██████████| 1/1 [00:03<00:00,  3.79s/it]\n"
     ]
    },
    {
     "name": "stdout",
     "output_type": "stream",
     "text": [
      "{'Reactants': ['copper acetate'], 'Product': ['2-(3-(methylthio)naphthalen-2-yl)pyridine'], 'Solvent': ['DMSO'], 'Yield': ['89 %'], 'Temperature': ['125 ° C']}\n"
     ]
    },
    {
     "name": "stderr",
     "output_type": "stream",
     "text": [
      "Processed prompts: 100%|██████████| 1/1 [00:02<00:00,  2.19s/it, Generation Speed: 19.70 toks/s]\n",
      "100%|██████████| 1/1 [00:02<00:00,  2.20s/it]\n"
     ]
    },
    {
     "name": "stdout",
     "output_type": "stream",
     "text": [
      "{'Reactants': ['copper acetate'], 'Solvent': ['DMSO'], 'Product': ['2b'], 'Yield': ['89 %'], 'Temperature': ['125 ° C']}\n",
      "第2条数据\n"
     ]
    },
    {
     "name": "stderr",
     "output_type": "stream",
     "text": [
      "Processed prompts: 100%|██████████| 1/1 [00:01<00:00,  1.79s/it, Generation Speed: 20.18 toks/s]\n",
      "100%|██████████| 1/1 [00:01<00:00,  1.80s/it]\n"
     ]
    },
    {
     "name": "stdout",
     "output_type": "stream",
     "text": [
      "{'Reactants': ['Me3SiCH2MgC1'], 'Product': ['Me3SiOH', '(Me3Si)20', 'CH20']}\n"
     ]
    },
    {
     "name": "stderr",
     "output_type": "stream",
     "text": [
      "Processed prompts: 100%|██████████| 1/1 [00:01<00:00,  1.88s/it, Generation Speed: 19.83 toks/s]\n",
      "100%|██████████| 1/1 [00:01<00:00,  1.88s/it]\n"
     ]
    },
    {
     "name": "stdout",
     "output_type": "stream",
     "text": [
      "{'Reactants': ['Me3SiCH2MgC1'], 'Product': ['(Me3Si)20', 'Me3SiOH', 'CH20']}\n"
     ]
    },
    {
     "name": "stderr",
     "output_type": "stream",
     "text": [
      "Processed prompts: 100%|██████████| 1/1 [00:04<00:00,  4.95s/it, Generation Speed: 7.69 toks/s]\n",
      "100%|██████████| 1/1 [00:04<00:00,  4.97s/it]\n"
     ]
    },
    {
     "name": "stdout",
     "output_type": "stream",
     "text": [
      "{'Reactants': ['Me3SiCH2MgC1'], 'Product': ['CH20.22', 'Me3SiOH', '(Me3Si)20']}\n",
      "第3条数据\n"
     ]
    },
    {
     "name": "stderr",
     "output_type": "stream",
     "text": [
      "Processed prompts: 100%|██████████| 1/1 [00:04<00:00,  4.34s/it, Generation Speed: 10.61 toks/s]\n",
      "100%|██████████| 1/1 [00:04<00:00,  4.36s/it]\n"
     ]
    },
    {
     "name": "stdout",
     "output_type": "stream",
     "text": [
      "{'Reactants': ['8', 'acetone'], 'Catalyst_Reagents': ['trifluoroacetic acid-tri-fluoroacetic anhydride'], 'Product': ['9.']}\n",
      "第4条数据\n"
     ]
    },
    {
     "name": "stderr",
     "output_type": "stream",
     "text": [
      "Processed prompts: 100%|██████████| 1/1 [00:02<00:00,  2.89s/it, Generation Speed: 12.46 toks/s]\n",
      "100%|██████████| 1/1 [00:02<00:00,  2.91s/it]\n"
     ]
    },
    {
     "name": "stdout",
     "output_type": "stream",
     "text": [
      "{'Reactants': ['10', 'triflic anhydride', 'pyridine'], 'Product': ['11'], 'Yield': ['92 %']}\n"
     ]
    },
    {
     "name": "stderr",
     "output_type": "stream",
     "text": [
      "Processed prompts: 100%|██████████| 1/1 [00:03<00:00,  3.16s/it, Generation Speed: 20.27 toks/s]\n",
      "100%|██████████| 1/1 [00:03<00:00,  3.18s/it]\n"
     ]
    },
    {
     "name": "stdout",
     "output_type": "stream",
     "text": [
      "{'Reactants': ['11', '1-heptyne'], 'Catalyst_Reagents': ['bis(triphenylphosphine)palladium(II) chloride'], 'Solvent': ['triethylamine-DMF'], 'Product': ['12'], 'Yield': ['68 %']}\n",
      "第5条数据\n"
     ]
    },
    {
     "name": "stderr",
     "output_type": "stream",
     "text": [
      "Processed prompts: 100%|██████████| 1/1 [00:01<00:00,  1.34s/it, Generation Speed: 16.58 toks/s]\n",
      "100%|██████████| 1/1 [00:01<00:00,  1.35s/it]\n"
     ]
    },
    {
     "name": "stdout",
     "output_type": "stream",
     "text": [
      "{'Reactants': ['its'], 'Product': ['13'], 'Yield': ['-loo %']}\n"
     ]
    },
    {
     "name": "stderr",
     "output_type": "stream",
     "text": [
      "Processed prompts: 100%|██████████| 1/1 [00:02<00:00,  2.58s/it, Generation Speed: 21.77 toks/s]\n",
      "100%|██████████| 1/1 [00:02<00:00,  2.59s/it]\n"
     ]
    },
    {
     "name": "stdout",
     "output_type": "stream",
     "text": [
      "{'Reactants': ['13'], 'Catalyst_Reagents': ['KOH'], 'Solvent': ['DMSO'], 'Temperature': ['120 OC'], 'Product': ['5-heptylresorcinolg'], 'Yield': ['90 %']}\n"
     ]
    },
    {
     "name": "stderr",
     "output_type": "stream",
     "text": [
      "Processed prompts: 100%|██████████| 1/1 [00:02<00:00,  2.12s/it, Generation Speed: 19.88 toks/s]\n",
      "100%|██████████| 1/1 [00:02<00:00,  2.14s/it]\n"
     ]
    },
    {
     "name": "stdout",
     "output_type": "stream",
     "text": [
      "{'Reactants': ['13', 'KOH'], 'Solvent': ['DMSO'], 'Temperature': ['120 OC'], 'Product': ['14'], 'Yield': ['90 %']}\n",
      "第6条数据\n"
     ]
    },
    {
     "name": "stderr",
     "output_type": "stream",
     "text": [
      "Processed prompts: 100%|██████████| 1/1 [00:01<00:00,  1.70s/it, Generation Speed: 18.38 toks/s]\n",
      "100%|██████████| 1/1 [00:01<00:00,  1.72s/it]\n"
     ]
    },
    {
     "name": "stdout",
     "output_type": "stream",
     "text": [
      "{'Reactants': ['13', 'lithium benzyl oxide'], 'Solvent': ['THF'], 'Product': ['15.']}\n",
      "第7条数据\n"
     ]
    },
    {
     "name": "stderr",
     "output_type": "stream",
     "text": [
      "Processed prompts: 100%|██████████| 1/1 [00:01<00:00,  1.72s/it, Generation Speed: 20.45 toks/s]\n",
      "100%|██████████| 1/1 [00:01<00:00,  1.74s/it]\n"
     ]
    },
    {
     "name": "stdout",
     "output_type": "stream",
     "text": [
      "{'Reactants': ['16', 'j3-(trimethylsilyl)ethanol'], 'Product': ['17'], 'Yield': ['80 %']}\n",
      "第8条数据\n"
     ]
    },
    {
     "name": "stderr",
     "output_type": "stream",
     "text": [
      "Processed prompts: 100%|██████████| 1/1 [00:02<00:00,  2.54s/it, Generation Speed: 20.94 toks/s]\n",
      "100%|██████████| 1/1 [00:02<00:00,  2.57s/it]\n"
     ]
    },
    {
     "name": "stdout",
     "output_type": "stream",
     "text": [
      "{'Reactants': ['17', '18'], 'Catalyst_Reagents': ['K2C03', '18-crown-6'], 'Solvent': ['acetone'], 'Product': ['19'], 'Yield': ['81 %']}\n",
      "第9条数据\n"
     ]
    },
    {
     "name": "stderr",
     "output_type": "stream",
     "text": [
      "Processed prompts: 100%|██████████| 1/1 [00:01<00:00,  1.86s/it, Generation Speed: 18.88 toks/s]\n",
      "100%|██████████| 1/1 [00:01<00:00,  1.88s/it]\n"
     ]
    },
    {
     "name": "stdout",
     "output_type": "stream",
     "text": [
      "{'Reactants': ['10'], 'Catalyst_Reagents': ['bromotrimethylsilane (TMSBr)'], 'Product': ['11']}\n",
      "第10条数据\n"
     ]
    },
    {
     "name": "stderr",
     "output_type": "stream",
     "text": [
      "Processed prompts: 100%|██████████| 1/1 [00:01<00:00,  1.77s/it, Generation Speed: 17.62 toks/s]\n",
      "100%|██████████| 1/1 [00:01<00:00,  1.78s/it]\n"
     ]
    },
    {
     "name": "stdout",
     "output_type": "stream",
     "text": [
      "{'Reactants': ['2', 'pyridinium bromide perbromidel8', 'acetic acid'], 'Product': ['3']}\n",
      "第11条数据\n"
     ]
    },
    {
     "name": "stderr",
     "output_type": "stream",
     "text": [
      "Processed prompts: 100%|██████████| 1/1 [00:01<00:00,  1.98s/it, Generation Speed: 19.25 toks/s]\n",
      "100%|██████████| 1/1 [00:01<00:00,  1.99s/it]\n"
     ]
    },
    {
     "name": "stdout",
     "output_type": "stream",
     "text": [
      "{'Reactants': ['ethyl 3,3-diamino-2-propenoatelg', '2'], 'Product': ['1'], 'Yield': ['58 %']}\n",
      "第12条数据\n"
     ]
    },
    {
     "name": "stderr",
     "output_type": "stream",
     "text": [
      "Processed prompts: 100%|██████████| 1/1 [00:03<00:00,  3.56s/it, Generation Speed: 18.25 toks/s]\n",
      "100%|██████████| 1/1 [00:03<00:00,  3.57s/it]\n"
     ]
    },
    {
     "name": "stdout",
     "output_type": "stream",
     "text": [
      "{'Reactants': ['α-bromoalkene 6', 'n- butyllithium', 'n-BuBr'], 'Product': ['4'], 'Solvent': ['Et2O', 't-BuOMe', 'hexane', 'cyclopentane', 'THF']}\n",
      "第13条数据\n"
     ]
    },
    {
     "name": "stderr",
     "output_type": "stream",
     "text": [
      "Processed prompts: 100%|██████████| 1/1 [00:01<00:00,  1.04s/it, Generation Speed: 13.47 toks/s]\n",
      "100%|██████████| 1/1 [00:01<00:00,  1.05s/it]\n"
     ]
    },
    {
     "name": "stdout",
     "output_type": "stream",
     "text": [
      "{'Reactants': ['1'], 'Product': ['2']}\n",
      "第14条数据\n"
     ]
    },
    {
     "name": "stderr",
     "output_type": "stream",
     "text": [
      "Processed prompts: 100%|██████████| 1/1 [00:01<00:00,  1.91s/it, Generation Speed: 18.39 toks/s]\n",
      "100%|██████████| 1/1 [00:01<00:00,  1.92s/it]\n"
     ]
    },
    {
     "name": "stdout",
     "output_type": "stream",
     "text": [
      "{'Product': ['1'], 'Reactants': ['2s', 'the bi-phenyl ester 3'], 'Solvent': ['CHCI,']}\n",
      "第15条数据\n"
     ]
    },
    {
     "name": "stderr",
     "output_type": "stream",
     "text": [
      "Processed prompts: 100%|██████████| 1/1 [00:01<00:00,  1.24s/it, Generation Speed: 16.97 toks/s]\n",
      "100%|██████████| 1/1 [00:01<00:00,  1.25s/it]\n"
     ]
    },
    {
     "name": "stdout",
     "output_type": "stream",
     "text": [
      "{'Reactants': ['46', '5.7-8'], 'Product': ['3']}\n",
      "第16条数据\n"
     ]
    },
    {
     "name": "stderr",
     "output_type": "stream",
     "text": [
      "Processed prompts: 100%|██████████| 1/1 [00:02<00:00,  2.25s/it, Generation Speed: 20.48 toks/s]\n",
      "100%|██████████| 1/1 [00:02<00:00,  2.26s/it]\n"
     ]
    },
    {
     "name": "stdout",
     "output_type": "stream",
     "text": [
      "{'Solvent': ['acetone', '50:50 acetone/water'], 'Product': ['3-ﬂuoropentadecane'], 'Yield': ['22 %', '4 %']}\n",
      "第17条数据\n"
     ]
    },
    {
     "name": "stderr",
     "output_type": "stream",
     "text": [
      "Processed prompts: 100%|██████████| 1/1 [00:02<00:00,  2.25s/it, Generation Speed: 18.25 toks/s]\n",
      "100%|██████████| 1/1 [00:02<00:00,  2.26s/it]\n"
     ]
    },
    {
     "name": "stdout",
     "output_type": "stream",
     "text": [
      "{'Reactants': ['N-acetyl+ galactosamine'], 'Yield': ['55 %'], 'Temperature': ['165-166.5 “ C'], 'Product': ['7']}\n",
      "第18条数据\n"
     ]
    },
    {
     "name": "stderr",
     "output_type": "stream",
     "text": [
      "Processed prompts: 100%|██████████| 1/1 [00:01<00:00,  1.79s/it, Generation Speed: 15.72 toks/s]\n",
      "100%|██████████| 1/1 [00:01<00:00,  1.79s/it]\n"
     ]
    },
    {
     "name": "stdout",
     "output_type": "stream",
     "text": [
      "{'Reactants': ['5', 'MeMgBr'], 'Product': ['10'], 'Yield': ['70 %']}\n",
      "第19条数据\n",
      "第20条数据\n"
     ]
    },
    {
     "name": "stderr",
     "output_type": "stream",
     "text": [
      "Processed prompts: 100%|██████████| 1/1 [00:01<00:00,  1.85s/it, Generation Speed: 15.76 toks/s]\n",
      "100%|██████████| 1/1 [00:01<00:00,  1.86s/it]\n"
     ]
    },
    {
     "name": "stdout",
     "output_type": "stream",
     "text": [
      "{'Reactants': ['pivalonitrile', '1', \"Tebbe's reagent\"], 'Product': ['3']}\n",
      "第21条数据\n",
      "第22条数据\n",
      "第23条数据\n"
     ]
    },
    {
     "name": "stderr",
     "output_type": "stream",
     "text": [
      "Processed prompts: 100%|██████████| 1/1 [00:02<00:00,  2.01s/it, Generation Speed: 18.94 toks/s]\n",
      "100%|██████████| 1/1 [00:02<00:00,  2.02s/it]\n"
     ]
    },
    {
     "name": "stdout",
     "output_type": "stream",
     "text": [
      "{'Reactants': ['10'], 'Catalyst_Reagents': ['zirconium'], 'Product': ['7', '4b'], 'Yield': ['60 %']}\n"
     ]
    },
    {
     "name": "stderr",
     "output_type": "stream",
     "text": [
      "Processed prompts: 100%|██████████| 1/1 [00:01<00:00,  1.71s/it, Generation Speed: 20.00 toks/s]\n",
      "100%|██████████| 1/1 [00:01<00:00,  1.71s/it]\n"
     ]
    },
    {
     "name": "stdout",
     "output_type": "stream",
     "text": [
      "{'Reactants': ['10'], 'Catalyst_Reagents': ['zirconium'], 'Product': ['11'], 'Yield': ['60 %']}\n",
      "第24条数据\n"
     ]
    },
    {
     "name": "stderr",
     "output_type": "stream",
     "text": [
      "Processed prompts: 100%|██████████| 1/1 [00:01<00:00,  1.48s/it, Generation Speed: 18.99 toks/s]\n",
      "100%|██████████| 1/1 [00:01<00:00,  1.49s/it]\n"
     ]
    },
    {
     "name": "stdout",
     "output_type": "stream",
     "text": [
      "{'Reactants': ['13', 'catecholborane'], 'Product': ['8'], 'Temperature': ['room temperature']}\n",
      "第25条数据\n"
     ]
    },
    {
     "name": "stderr",
     "output_type": "stream",
     "text": [
      "Processed prompts: 100%|██████████| 1/1 [00:02<00:00,  2.79s/it, Generation Speed: 7.18 toks/s]\n",
      "100%|██████████| 1/1 [00:02<00:00,  2.81s/it]\n"
     ]
    },
    {
     "name": "stdout",
     "output_type": "stream",
     "text": [
      "{'Reactants': ['5-cyclononynone'], 'Product': ['11']}\n"
     ]
    },
    {
     "name": "stderr",
     "output_type": "stream",
     "text": [
      "Processed prompts: 100%|██████████| 1/1 [00:02<00:00,  2.06s/it, Generation Speed: 9.71 toks/s]\n",
      "100%|██████████| 1/1 [00:02<00:00,  2.08s/it]\n"
     ]
    },
    {
     "name": "stdout",
     "output_type": "stream",
     "text": [
      "{'Reactants': ['5-cyclononynone'], 'Product': ['12']}\n",
      "第26条数据\n"
     ]
    },
    {
     "name": "stderr",
     "output_type": "stream",
     "text": [
      "Processed prompts: 100%|██████████| 1/1 [00:00<00:00,  1.03it/s, Generation Speed: 13.45 toks/s]\n",
      "100%|██████████| 1/1 [00:00<00:00,  1.02it/s]\n"
     ]
    },
    {
     "name": "stdout",
     "output_type": "stream",
     "text": [
      "{'Product': ['3'], 'Temperature': ['room']}\n",
      "第27条数据\n"
     ]
    },
    {
     "name": "stderr",
     "output_type": "stream",
     "text": [
      "Processed prompts: 100%|██████████| 1/1 [00:01<00:00,  1.21s/it, Generation Speed: 11.62 toks/s]\n",
      "100%|██████████| 1/1 [00:01<00:00,  1.22s/it]\n"
     ]
    },
    {
     "name": "stdout",
     "output_type": "stream",
     "text": [
      "{'Reactants': ['13'], 'Product': ['14']}\n"
     ]
    },
    {
     "name": "stderr",
     "output_type": "stream",
     "text": [
      "Processed prompts: 100%|██████████| 1/1 [00:01<00:00,  1.24s/it, Generation Speed: 12.15 toks/s]\n",
      "100%|██████████| 1/1 [00:01<00:00,  1.25s/it]\n"
     ]
    },
    {
     "name": "stdout",
     "output_type": "stream",
     "text": [
      "{'Reactants': ['13'], 'Product': ['16.']}\n",
      "第28条数据\n",
      "第29条数据\n"
     ]
    },
    {
     "name": "stderr",
     "output_type": "stream",
     "text": [
      "Processed prompts: 100%|██████████| 1/1 [00:01<00:00,  1.59s/it, Generation Speed: 20.20 toks/s]\n",
      "100%|██████████| 1/1 [00:01<00:00,  1.60s/it]\n"
     ]
    },
    {
     "name": "stdout",
     "output_type": "stream",
     "text": [
      "{'Reactants': ['23'], 'Product': ['24'], 'Yield': ['98 %'], 'Reductant': ['NaBH4']}\n",
      "第30条数据\n",
      "第31条数据\n",
      "第32条数据\n"
     ]
    },
    {
     "name": "stderr",
     "output_type": "stream",
     "text": [
      "Processed prompts: 100%|██████████| 1/1 [00:01<00:00,  1.46s/it, Generation Speed: 19.99 toks/s]\n",
      "100%|██████████| 1/1 [00:01<00:00,  1.47s/it]\n"
     ]
    },
    {
     "name": "stdout",
     "output_type": "stream",
     "text": [
      "{'Reactants': ['p proline', 'formic acid', 'acetic anhydride'], 'Product': ['25']}\n",
      "第33条数据\n"
     ]
    },
    {
     "name": "stderr",
     "output_type": "stream",
     "text": [
      "Processed prompts: 100%|██████████| 1/1 [00:02<00:00,  2.26s/it, Generation Speed: 20.89 toks/s]\n",
      "100%|██████████| 1/1 [00:02<00:00,  2.29s/it]\n"
     ]
    },
    {
     "name": "stdout",
     "output_type": "stream",
     "text": [
      "{'Reactants': [], 'Catalyst_Reagents': ['lithium aluminum hydride'], 'Product': ['(S)-2-(hy- droxymethy1)-1 methylpyrrolidine']}\n"
     ]
    },
    {
     "name": "stderr",
     "output_type": "stream",
     "text": [
      "Processed prompts: 100%|██████████| 1/1 [00:01<00:00,  1.52s/it, Generation Speed: 18.55 toks/s]\n",
      "100%|██████████| 1/1 [00:01<00:00,  1.53s/it]\n"
     ]
    },
    {
     "name": "stdout",
     "output_type": "stream",
     "text": [
      "{'Reactants': [], 'Catalyst_Reagents': ['lithium aluminum hydride'], 'Product': ['26']}\n",
      "第34条数据\n"
     ]
    },
    {
     "name": "stderr",
     "output_type": "stream",
     "text": [
      "Processed prompts: 100%|██████████| 1/1 [00:02<00:00,  2.56s/it, Generation Speed: 18.85 toks/s]\n",
      "100%|██████████| 1/1 [00:02<00:00,  2.57s/it]\n"
     ]
    },
    {
     "name": "stdout",
     "output_type": "stream",
     "text": [
      "{'Reactants': ['alcohol'], 'Catalyst_Reagents': ['thionyl chloride'], 'Solvent': ['chloroform'], 'Product': ['2-(chloromethyl)-l methylpyrrolidine']}\n"
     ]
    },
    {
     "name": "stderr",
     "output_type": "stream",
     "text": [
      "Processed prompts: 100%|██████████| 1/1 [00:02<00:00,  2.26s/it, Generation Speed: 17.78 toks/s]\n",
      "100%|██████████| 1/1 [00:02<00:00,  2.27s/it]\n"
     ]
    },
    {
     "name": "stdout",
     "output_type": "stream",
     "text": [
      "{'Reactants': ['2-(chloromethyl)-l methylpyrrolidine', 'thionyl chloride'], 'Solvent': ['chloroform'], 'Product': ['27']}\n",
      "第35条数据\n"
     ]
    },
    {
     "name": "stderr",
     "output_type": "stream",
     "text": [
      "Processed prompts: 100%|██████████| 1/1 [00:01<00:00,  1.32s/it, Generation Speed: 19.70 toks/s]\n",
      "100%|██████████| 1/1 [00:01<00:00,  1.34s/it]\n"
     ]
    },
    {
     "name": "stdout",
     "output_type": "stream",
     "text": [
      "{'Reactants': ['sodium cyanide'], 'Solvent': ['80 % ethanol'], 'Product': ['30']}\n",
      "第36条数据\n"
     ]
    },
    {
     "name": "stderr",
     "output_type": "stream",
     "text": [
      "Processed prompts: 100%|██████████| 1/1 [00:02<00:00,  2.66s/it, Generation Speed: 24.10 toks/s]\n",
      "100%|██████████| 1/1 [00:02<00:00,  2.67s/it]\n"
     ]
    },
    {
     "name": "stdout",
     "output_type": "stream",
     "text": [
      "{'Reactants': [], 'Catalyst_Reagents': ['HCI'], 'Product': ['1 -methylpyrrolidine-2-acetic acid'], 'Solvent': [], 'Workup_reagents': [], 'Yield': [], 'Temperature': ['refluxing'], 'Time': []}\n"
     ]
    },
    {
     "name": "stderr",
     "output_type": "stream",
     "text": [
      "Processed prompts: 100%|██████████| 1/1 [00:02<00:00,  2.22s/it, Generation Speed: 23.44 toks/s]\n",
      "100%|██████████| 1/1 [00:02<00:00,  2.23s/it]\n"
     ]
    },
    {
     "name": "stdout",
     "output_type": "stream",
     "text": [
      "{'Reactants': [], 'Catalyst_Reagents': ['HCI'], 'Product': ['33'], 'Solvent': [], 'Workup_reagents': [], 'Yield': [], 'Temperature': ['refluxing'], 'Time': []}\n",
      "第37条数据\n"
     ]
    },
    {
     "name": "stderr",
     "output_type": "stream",
     "text": [
      "Processed prompts: 100%|██████████| 1/1 [00:02<00:00,  2.96s/it, Generation Speed: 21.00 toks/s]\n",
      "100%|██████████| 1/1 [00:02<00:00,  2.97s/it]\n"
     ]
    },
    {
     "name": "stdout",
     "output_type": "stream",
     "text": [
      "{'Reactants': ['sodium [1,2-13C2]acetate', 'sodium [IJ4C]acetate', 'trimethyl phosphate'], 'Product': [\"methyl [ 1,2- ' 3C2,1-14C]acetate\"]}\n"
     ]
    },
    {
     "name": "stderr",
     "output_type": "stream",
     "text": [
      "Processed prompts: 100%|██████████| 1/1 [00:03<00:00,  3.05s/it, Generation Speed: 21.34 toks/s]\n",
      "100%|██████████| 1/1 [00:03<00:00,  3.06s/it]\n"
     ]
    },
    {
     "name": "stdout",
     "output_type": "stream",
     "text": [
      "{'Reactants': ['sodium [1,2-13C2]acetate', 'sodium [IJ4C]acetate', 'trimethyl phosphate', 'imidazole derivative of I-methyl- pyrrolidine-2-acetic acid ( 32 )'], 'Product': ['B']}\n"
     ]
    },
    {
     "name": "stderr",
     "output_type": "stream",
     "text": [
      "Processed prompts: 100%|██████████| 1/1 [00:02<00:00,  2.63s/it, Generation Speed: 19.79 toks/s]\n",
      "100%|██████████| 1/1 [00:02<00:00,  2.64s/it]\n"
     ]
    },
    {
     "name": "stdout",
     "output_type": "stream",
     "text": [
      "{'Reactants': ['methyl [1,2-13C2,1-14C]acetate', 'imidazole derivative of I-methyl-pyrrolidine-2-acetic acid (32)'], 'Product': ['29']}\n",
      "第38条数据\n"
     ]
    },
    {
     "name": "stderr",
     "output_type": "stream",
     "text": [
      "Processed prompts: 100%|██████████| 1/1 [00:02<00:00,  2.51s/it, Generation Speed: 20.36 toks/s]\n",
      "100%|██████████| 1/1 [00:02<00:00,  2.53s/it]\n"
     ]
    },
    {
     "name": "stdout",
     "output_type": "stream",
     "text": [
      "{'Product': ['methyl (RS)-[ 1,2- 13C2 , 1 -14C]-4-( 1 -methyl-2-pyrrolidinyl)-3-oxobutanoate']}\n"
     ]
    },
    {
     "name": "stderr",
     "output_type": "stream",
     "text": [
      "Processed prompts: 100%|██████████| 1/1 [00:00<00:00,  1.03it/s, Generation Speed: 7.28 toks/s]\n",
      "100%|██████████| 1/1 [00:00<00:00,  1.02it/s]\n"
     ]
    },
    {
     "name": "stdout",
     "output_type": "stream",
     "text": [
      "{'Product': ['31']}\n",
      "第39条数据\n"
     ]
    },
    {
     "name": "stderr",
     "output_type": "stream",
     "text": [
      "Processed prompts: 100%|██████████| 1/1 [00:01<00:00,  1.52s/it, Generation Speed: 19.78 toks/s]\n",
      "100%|██████████| 1/1 [00:01<00:00,  1.53s/it]\n"
     ]
    },
    {
     "name": "stdout",
     "output_type": "stream",
     "text": [
      "{'Reactants': ['3a'], 'Product': ['4a'], 'Solvent': ['water'], 'Yield': ['high']}\n",
      "第40条数据\n"
     ]
    },
    {
     "name": "stderr",
     "output_type": "stream",
     "text": [
      "Processed prompts: 100%|██████████| 1/1 [00:02<00:00,  2.93s/it, Generation Speed: 23.57 toks/s]\n",
      "100%|██████████| 1/1 [00:02<00:00,  2.94s/it]\n"
     ]
    },
    {
     "name": "stdout",
     "output_type": "stream",
     "text": [
      "{'Reactants': ['allyl iodoacetate 3a'], 'Catalyst_Reagents': ['triethylborane'], 'Solvent': ['water', 'methanol'], 'Product': ['4a'], 'Yield': ['67 %'], 'Temperature': ['25 C'], 'Time': ['3 h']}\n",
      "第41条数据\n"
     ]
    },
    {
     "name": "stderr",
     "output_type": "stream",
     "text": [
      "Processed prompts: 100%|██████████| 1/1 [00:04<00:00,  4.52s/it, Generation Speed: 21.24 toks/s]\n",
      "100%|██████████| 1/1 [00:04<00:00,  4.53s/it]\n"
     ]
    },
    {
     "name": "stdout",
     "output_type": "stream",
     "text": [
      "{'Reactants': ['3-iodo-1-methylquinolin-4(1H)-one', 'phenylboronic acid'], 'Product': ['3-phenylquinolin-4(1H)-one'], 'Catalyst_Reagents': ['Pd(OAc)2', 'PPh3'], 'Solvent': ['DME', 'EtOH'], 'Temperature': ['70 ° C'], 'Time': ['5 min']}\n"
     ]
    },
    {
     "name": "stderr",
     "output_type": "stream",
     "text": [
      "Processed prompts: 100%|██████████| 1/1 [00:04<00:00,  4.65s/it, Generation Speed: 21.51 toks/s]\n",
      "100%|██████████| 1/1 [00:04<00:00,  4.66s/it]\n"
     ]
    },
    {
     "name": "stdout",
     "output_type": "stream",
     "text": [
      "{'Reactants': ['3-iodo-1-methylquinolin-4(1H)-one', 'phenylboronic acid 8a'], 'Product': ['9a'], 'Catalyst_Reagents': ['Pd(OAc)2', 'PPh3'], 'Solvent': ['DME', 'EtOH'], 'Temperature': ['70 ° C'], 'Time': ['5 min'], 'Workup_reagents': ['Na2CO3']}\n",
      "第42条数据\n"
     ]
    },
    {
     "name": "stderr",
     "output_type": "stream",
     "text": [
      "Processed prompts: 100%|██████████| 1/1 [00:02<00:00,  2.53s/it, Generation Speed: 18.22 toks/s]\n",
      "100%|██████████| 1/1 [00:02<00:00,  2.54s/it]\n"
     ]
    },
    {
     "name": "stdout",
     "output_type": "stream",
     "text": [
      "{'Reactants': ['1- substituted-3-iodoquinolin-4(1H)-ones'], 'Product': ['9a'], 'Yield': ['75 %'], 'Time': ['30 min']}\n",
      "第43条数据\n"
     ]
    },
    {
     "name": "stderr",
     "output_type": "stream",
     "text": [
      "Processed prompts: 100%|██████████| 1/1 [00:01<00:00,  1.11s/it, Generation Speed: 12.76 toks/s]\n",
      "100%|██████████| 1/1 [00:01<00:00,  1.12s/it]\n"
     ]
    },
    {
     "name": "stdout",
     "output_type": "stream",
     "text": [
      "{'Reactants': ['B'], 'Product': ['C']}\n",
      "第44条数据\n"
     ]
    },
    {
     "name": "stderr",
     "output_type": "stream",
     "text": [
      "Processed prompts: 100%|██████████| 1/1 [00:01<00:00,  1.53s/it, Generation Speed: 17.76 toks/s]\n",
      "100%|██████████| 1/1 [00:01<00:00,  1.54s/it]\n"
     ]
    },
    {
     "name": "stdout",
     "output_type": "stream",
     "text": [
      "{'Reactants': ['3a', '(MeCN)3Cr(C0)3'], 'Product': ['4a']}\n"
     ]
    },
    {
     "name": "stderr",
     "output_type": "stream",
     "text": [
      "Processed prompts: 100%|██████████| 1/1 [00:01<00:00,  1.60s/it, Generation Speed: 18.19 toks/s]\n",
      "100%|██████████| 1/1 [00:01<00:00,  1.61s/it]\n"
     ]
    },
    {
     "name": "stdout",
     "output_type": "stream",
     "text": [
      "{'Reactants': ['3a', '(MeCN)3Cr(C0)3'], 'Product': [\"5a1'\"]}\n"
     ]
    },
    {
     "name": "stderr",
     "output_type": "stream",
     "text": [
      "Processed prompts: 100%|██████████| 1/1 [00:02<00:00,  2.14s/it, Generation Speed: 15.51 toks/s]\n",
      "100%|██████████| 1/1 [00:02<00:00,  2.15s/it]\n",
      "Processed prompts: 100%|██████████| 1/1 [00:03<00:00,  3.09s/it, Generation Speed: 11.34 toks/s]\n",
      "100%|██████████| 1/1 [00:03<00:00,  3.10s/it]\n"
     ]
    },
    {
     "name": "stdout",
     "output_type": "stream",
     "text": [
      "{'Reactants': ['3b', '(MeCN)3Cr(C0)3'], 'Product': [\"4b1'\", \"5b,'\"]}\n",
      "第45条数据\n"
     ]
    },
    {
     "name": "stderr",
     "output_type": "stream",
     "text": [
      "Processed prompts: 100%|██████████| 1/1 [00:03<00:00,  3.03s/it, Generation Speed: 9.92 toks/s]\n",
      "100%|██████████| 1/1 [00:03<00:00,  3.04s/it]\n"
     ]
    },
    {
     "name": "stdout",
     "output_type": "stream",
     "text": [
      "{'Reactants': ['4a', 'ethyl acrylate'], 'Product': ['6a'], 'Yield': ['86 %']}\n",
      "第46条数据\n"
     ]
    },
    {
     "name": "stderr",
     "output_type": "stream",
     "text": [
      "Processed prompts: 100%|██████████| 1/1 [00:02<00:00,  2.31s/it, Generation Speed: 19.94 toks/s]\n",
      "100%|██████████| 1/1 [00:02<00:00,  2.32s/it]\n"
     ]
    },
    {
     "name": "stdout",
     "output_type": "stream",
     "text": [
      "第47条数据\n",
      "第48条数据\n"
     ]
    },
    {
     "name": "stderr",
     "output_type": "stream",
     "text": [
      "Processed prompts: 100%|██████████| 1/1 [00:00<00:00,  1.07it/s, Generation Speed: 15.06 toks/s]\n",
      "100%|██████████| 1/1 [00:00<00:00,  1.05it/s]\n"
     ]
    },
    {
     "name": "stdout",
     "output_type": "stream",
     "text": [
      "{'Product': ['2'], 'Reactants': ['1']}\n",
      "第49条数据\n"
     ]
    },
    {
     "name": "stderr",
     "output_type": "stream",
     "text": [
      "Processed prompts: 100%|██████████| 1/1 [00:02<00:00,  2.00s/it, Generation Speed: 10.05 toks/s]\n",
      "100%|██████████| 1/1 [00:02<00:00,  2.03s/it]\n"
     ]
    },
    {
     "name": "stdout",
     "output_type": "stream",
     "text": [
      "{'Reactants': ['1a', '2a'], 'Product': ['3a']}\n",
      "第50条数据\n"
     ]
    },
    {
     "name": "stderr",
     "output_type": "stream",
     "text": [
      "Processed prompts: 100%|██████████| 1/1 [00:02<00:00,  2.12s/it, Generation Speed: 17.08 toks/s]\n",
      "100%|██████████| 1/1 [00:02<00:00,  2.15s/it]\n"
     ]
    },
    {
     "name": "stdout",
     "output_type": "stream",
     "text": [
      "{'Reactants': ['sulfonylhydrazide 2'], 'Catalyst_Reagents': ['I2O5'], 'Product': ['4']}\n",
      "第51条数据\n"
     ]
    },
    {
     "name": "stderr",
     "output_type": "stream",
     "text": [
      "Processed prompts: 100%|██████████| 1/1 [00:01<00:00,  1.60s/it, Generation Speed: 18.24 toks/s]\n",
      "100%|██████████| 1/1 [00:01<00:00,  1.61s/it]\n"
     ]
    },
    {
     "name": "stdout",
     "output_type": "stream",
     "text": [
      "{'Reactants': ['sulfonyl radical 4', 'arylpropiolamide 1'], 'Product': ['5']}\n",
      "第52条数据\n"
     ]
    },
    {
     "name": "stderr",
     "output_type": "stream",
     "text": [
      "Processed prompts: 100%|██████████| 1/1 [00:01<00:00,  1.56s/it, Generation Speed: 11.57 toks/s]\n",
      "100%|██████████| 1/1 [00:01<00:00,  1.58s/it]\n"
     ]
    },
    {
     "name": "stdout",
     "output_type": "stream",
     "text": [
      "{'Reactants': ['vinyl radical 5'], 'Product': ['7']}\n"
     ]
    },
    {
     "name": "stderr",
     "output_type": "stream",
     "text": [
      "Processed prompts: 100%|██████████| 1/1 [00:02<00:00,  2.01s/it, Generation Speed: 15.00 toks/s]\n",
      "100%|██████████| 1/1 [00:02<00:00,  2.02s/it]\n"
     ]
    },
    {
     "name": "stdout",
     "output_type": "stream",
     "text": [
      "{'Reactants': ['vinyl radical 5'], 'Product': ['8'], 'Catalyst_Reagents': ['H2O']}\n",
      "第53条数据\n"
     ]
    },
    {
     "name": "stderr",
     "output_type": "stream",
     "text": [
      "Processed prompts: 100%|██████████| 1/1 [00:01<00:00,  1.47s/it, Generation Speed: 17.02 toks/s]\n",
      "100%|██████████| 1/1 [00:01<00:00,  1.49s/it]\n"
     ]
    },
    {
     "name": "stdout",
     "output_type": "stream",
     "text": [
      "{'Reactants': ['8'], 'Catalyst_Reagents': ['TBHP'], 'Product': ['3']}\n",
      "第54条数据\n",
      "第55条数据\n"
     ]
    },
    {
     "name": "stderr",
     "output_type": "stream",
     "text": [
      "Processed prompts: 100%|██████████| 1/1 [00:01<00:00,  1.39s/it, Generation Speed: 18.81 toks/s]\n",
      "100%|██████████| 1/1 [00:01<00:00,  1.41s/it]\n"
     ]
    },
    {
     "name": "stdout",
     "output_type": "stream",
     "text": [
      "{'Product': ['5'], 'Yield': ['28 %', '67 %'], 'Time': ['2 h']}\n",
      "第56条数据\n",
      "第57条数据\n"
     ]
    },
    {
     "name": "stderr",
     "output_type": "stream",
     "text": [
      "Processed prompts: 100%|██████████| 1/1 [00:02<00:00,  2.93s/it, Generation Speed: 21.95 toks/s]\n",
      "100%|██████████| 1/1 [00:02<00:00,  2.94s/it]\n"
     ]
    },
    {
     "name": "stdout",
     "output_type": "stream",
     "text": [
      "{'Reactants': ['two reactants'], 'Catalyst_Reagents': ['palladium acetate', 'tris(2,6-dimeth-oxyphenyl)phosphineE(TDMPP)'], 'Solvent': ['THF'], 'Product': ['4a9']}\n",
      "第58条数据\n",
      "第59条数据\n"
     ]
    },
    {
     "name": "stderr",
     "output_type": "stream",
     "text": [
      "Processed prompts: 100%|██████████| 1/1 [00:01<00:00,  1.97s/it, Generation Speed: 13.76 toks/s]\n",
      "100%|██████████| 1/1 [00:01<00:00,  1.98s/it]\n"
     ]
    },
    {
     "name": "stdout",
     "output_type": "stream",
     "text": [
      "{'Reactants': ['2b'], 'Product': ['3bI0'], 'Solvent': ['benzene']}\n"
     ]
    },
    {
     "name": "stderr",
     "output_type": "stream",
     "text": [
      "Processed prompts: 100%|██████████| 1/1 [00:01<00:00,  1.86s/it, Generation Speed: 13.97 toks/s]\n",
      "100%|██████████| 1/1 [00:01<00:00,  1.87s/it]\n"
     ]
    },
    {
     "name": "stdout",
     "output_type": "stream",
     "text": [
      "{'Reactants': ['2b'], 'Product': ['5b.'], 'Solvent': ['benzene']}\n",
      "第60条数据\n",
      "第61条数据\n"
     ]
    },
    {
     "name": "stderr",
     "output_type": "stream",
     "text": [
      "Processed prompts: 100%|██████████| 1/1 [00:03<00:00,  3.73s/it, Generation Speed: 20.65 toks/s]\n",
      "100%|██████████| 1/1 [00:03<00:00,  3.74s/it]\n"
     ]
    },
    {
     "name": "stdout",
     "output_type": "stream",
     "text": [
      "{'Reactants': ['1a', '3a'], 'Product': ['3-benzazepine'], 'Catalyst_Reagents': ['Pd(PPh3)4', 'K3PO4'], 'Solvent': ['DMF'], 'Temperature': ['110 ° C'], 'Time': ['15 min'], 'Yield': ['13 %']}\n"
     ]
    },
    {
     "name": "stderr",
     "output_type": "stream",
     "text": [
      "Processed prompts: 100%|██████████| 1/1 [00:03<00:00,  3.77s/it, Generation Speed: 19.36 toks/s]\n",
      "100%|██████████| 1/1 [00:03<00:00,  3.78s/it]\n"
     ]
    },
    {
     "name": "stdout",
     "output_type": "stream",
     "text": [
      "{'Reactants': ['1a', '3a'], 'Product': ['4a'], 'Catalyst_Reagents': ['Pd(PPh3)4', 'K3PO4'], 'Solvent': ['DMF'], 'Temperature': ['110 ° C'], 'Time': ['15 min'], 'Yield': ['13 %']}\n",
      "第62条数据\n",
      "第63条数据\n"
     ]
    },
    {
     "name": "stderr",
     "output_type": "stream",
     "text": [
      "Processed prompts: 100%|██████████| 1/1 [00:01<00:00,  1.16s/it, Generation Speed: 14.74 toks/s]\n",
      "100%|██████████| 1/1 [00:01<00:00,  1.16s/it]\n"
     ]
    },
    {
     "name": "stdout",
     "output_type": "stream",
     "text": [
      "{'Reactants': ['11', '21'], 'Product': ['22']}\n",
      "第64条数据\n"
     ]
    },
    {
     "name": "stderr",
     "output_type": "stream",
     "text": [
      "Processed prompts: 100%|██████████| 1/1 [00:02<00:00,  2.38s/it, Generation Speed: 21.88 toks/s]\n",
      "100%|██████████| 1/1 [00:02<00:00,  2.38s/it]\n"
     ]
    },
    {
     "name": "stdout",
     "output_type": "stream",
     "text": [
      "{'Reactants': ['2a'], 'Solvent': ['toluene'], 'Temperature': [\"100 'C\"], 'Product': ['tri-tert-butylsilane', 'hexa-tert-butyldisilane']}\n",
      "第65条数据\n"
     ]
    },
    {
     "name": "stderr",
     "output_type": "stream",
     "text": [
      "Processed prompts: 100%|██████████| 1/1 [00:02<00:00,  2.27s/it, Generation Speed: 18.52 toks/s]\n",
      "100%|██████████| 1/1 [00:02<00:00,  2.28s/it]\n"
     ]
    },
    {
     "name": "stdout",
     "output_type": "stream",
     "text": [
      "{'Reactants': ['1r(CR = CRCR3.CR)(PPh3)2C1', '3-butyn-1-01'], 'Product': ['2,1 °']}\n"
     ]
    },
    {
     "name": "stderr",
     "output_type": "stream",
     "text": [
      "Processed prompts: 100%|██████████| 1/1 [00:01<00:00,  1.57s/it, Generation Speed: 14.03 toks/s]\n",
      "100%|██████████| 1/1 [00:01<00:00,  1.58s/it]\n"
     ]
    },
    {
     "name": "stdout",
     "output_type": "stream",
     "text": [
      "{'Product': ['3'], 'Reactants': ['1-C1', 'propargyl alcohol']}\n",
      "第66条数据\n"
     ]
    },
    {
     "name": "stderr",
     "output_type": "stream",
     "text": [
      "Processed prompts: 100%|██████████| 1/1 [00:02<00:00,  2.42s/it, Generation Speed: 21.12 toks/s]\n",
      "100%|██████████| 1/1 [00:02<00:00,  2.43s/it]\n"
     ]
    },
    {
     "name": "stdout",
     "output_type": "stream",
     "text": [
      "{'Reactants': ['2b', 'Me2-SiC12I7'], 'Solvent': ['Et20'], 'Temperature': ['-20 \" C'], 'Product': ['8'], 'Yield': ['> 99 %']}\n"
     ]
    },
    {
     "name": "stderr",
     "output_type": "stream",
     "text": [
      "Processed prompts: 100%|██████████| 1/1 [00:02<00:00,  2.12s/it, Generation Speed: 19.38 toks/s]\n",
      "100%|██████████| 1/1 [00:02<00:00,  2.13s/it]"
     ]
    },
    {
     "name": "stdout",
     "output_type": "stream",
     "text": [
      "{'Reactants': ['2b', 'Me2-SiC12I7'], 'Solvent': ['Et20'], 'Temperature': ['-20 \" C'], 'Product': ['9']}\n",
      "TP, FP, FN 198 118 201\n",
      "NER:  precision, recall 0.6265822784810127 0.49624060150375937\n",
      "NER:  f1_score 0.5538461538461539\n"
     ]
    },
    {
     "name": "stderr",
     "output_type": "stream",
     "text": [
      "\n"
     ]
    },
    {
     "name": "stdout",
     "output_type": "stream",
     "text": [
      "\u001b[36m(RayWorkerWrapper pid=3626818)\u001b[0m ERROR 12-16 17:57:53 worker_base.py:148] Error executing method start_worker_execution_loop. This might cause deadlock in distributed execution.\n",
      "\u001b[36m(RayWorkerWrapper pid=3626818)\u001b[0m ERROR 12-16 17:57:53 worker_base.py:148] Traceback (most recent call last):\n",
      "\u001b[36m(RayWorkerWrapper pid=3626818)\u001b[0m ERROR 12-16 17:57:53 worker_base.py:148]   File \"/data/lizh/Conda/anaconda3/envs/vllm/lib/python3.9/site-packages/vllm/worker/worker_base.py\", line 140, in execute_method\n",
      "\u001b[36m(RayWorkerWrapper pid=3626818)\u001b[0m ERROR 12-16 17:57:53 worker_base.py:148]     return executor(*args, **kwargs)\n",
      "\u001b[36m(RayWorkerWrapper pid=3626818)\u001b[0m ERROR 12-16 17:57:53 worker_base.py:148]   File \"/data/lizh/Conda/anaconda3/envs/vllm/lib/python3.9/site-packages/torch/utils/_contextlib.py\", line 115, in decorate_context\n",
      "\u001b[36m(RayWorkerWrapper pid=3626818)\u001b[0m ERROR 12-16 17:57:53 worker_base.py:148]     return func(*args, **kwargs)\n",
      "\u001b[36m(RayWorkerWrapper pid=3626818)\u001b[0m ERROR 12-16 17:57:53 worker_base.py:148]   File \"/data/lizh/Conda/anaconda3/envs/vllm/lib/python3.9/site-packages/vllm/worker/worker.py\", line 286, in start_worker_execution_loop\n",
      "\u001b[36m(RayWorkerWrapper pid=3626818)\u001b[0m ERROR 12-16 17:57:53 worker_base.py:148]     while self._execute_model_non_driver():\n",
      "\u001b[36m(RayWorkerWrapper pid=3626818)\u001b[0m ERROR 12-16 17:57:53 worker_base.py:148]   File \"/data/lizh/Conda/anaconda3/envs/vllm/lib/python3.9/site-packages/vllm/worker/worker.py\", line 295, in _execute_model_non_driver\n",
      "\u001b[36m(RayWorkerWrapper pid=3626818)\u001b[0m ERROR 12-16 17:57:53 worker_base.py:148]     data = broadcast_tensor_dict(src=0)\n",
      "\u001b[36m(RayWorkerWrapper pid=3626818)\u001b[0m ERROR 12-16 17:57:53 worker_base.py:148]   File \"/data/lizh/Conda/anaconda3/envs/vllm/lib/python3.9/site-packages/vllm/distributed/communication_op.py\", line 284, in broadcast_tensor_dict\n",
      "\u001b[36m(RayWorkerWrapper pid=3626818)\u001b[0m ERROR 12-16 17:57:53 worker_base.py:148]     torch.distributed.broadcast_object_list(recv_metadata_list,\n",
      "\u001b[36m(RayWorkerWrapper pid=3626818)\u001b[0m ERROR 12-16 17:57:53 worker_base.py:148]   File \"/data/lizh/Conda/anaconda3/envs/vllm/lib/python3.9/site-packages/torch/distributed/c10d_logger.py\", line 75, in wrapper\n",
      "\u001b[36m(RayWorkerWrapper pid=3626818)\u001b[0m ERROR 12-16 17:57:53 worker_base.py:148]     return func(*args, **kwargs)\n",
      "\u001b[36m(RayWorkerWrapper pid=3626818)\u001b[0m ERROR 12-16 17:57:53 worker_base.py:148]   File \"/data/lizh/Conda/anaconda3/envs/vllm/lib/python3.9/site-packages/torch/distributed/distributed_c10d.py\", line 2649, in broadcast_object_list\n",
      "\u001b[36m(RayWorkerWrapper pid=3626818)\u001b[0m ERROR 12-16 17:57:53 worker_base.py:148]     broadcast(object_sizes_tensor, src=src, group=group)\n",
      "\u001b[36m(RayWorkerWrapper pid=3626818)\u001b[0m ERROR 12-16 17:57:53 worker_base.py:148]   File \"/data/lizh/Conda/anaconda3/envs/vllm/lib/python3.9/site-packages/torch/distributed/c10d_logger.py\", line 75, in wrapper\n",
      "\u001b[36m(RayWorkerWrapper pid=3626818)\u001b[0m ERROR 12-16 17:57:53 worker_base.py:148]     return func(*args, **kwargs)\n",
      "\u001b[36m(RayWorkerWrapper pid=3626818)\u001b[0m ERROR 12-16 17:57:53 worker_base.py:148]   File \"/data/lizh/Conda/anaconda3/envs/vllm/lib/python3.9/site-packages/torch/distributed/distributed_c10d.py\", line 2144, in broadcast\n",
      "\u001b[36m(RayWorkerWrapper pid=3626818)\u001b[0m ERROR 12-16 17:57:53 worker_base.py:148]     work.wait()\n",
      "\u001b[36m(RayWorkerWrapper pid=3626818)\u001b[0m ERROR 12-16 17:57:53 worker_base.py:148] RuntimeError: [../third_party/gloo/gloo/transport/tcp/unbound_buffer.cc:81] Timed out waiting 1800000ms for recv operation to complete\n"
     ]
    },
    {
     "name": "stderr",
     "output_type": "stream",
     "text": [
      "2024-12-16 17:57:59,548\tERROR worker.py:409 -- Unhandled error (suppress with 'RAY_IGNORE_UNHANDLED_ERRORS=1'): \u001b[36mray::RayWorkerWrapper.execute_method()\u001b[39m (pid=3626993, ip=211.86.155.202, actor_id=038fbbe73a89678104b8104801000000, repr=<vllm.executor.ray_utils.RayWorkerWrapper object at 0x7ef659ffeeb0>)\n",
      "  File \"/data/lizh/Conda/anaconda3/envs/vllm/lib/python3.9/site-packages/vllm/worker/worker_base.py\", line 149, in execute_method\n",
      "    raise e\n",
      "  File \"/data/lizh/Conda/anaconda3/envs/vllm/lib/python3.9/site-packages/vllm/worker/worker_base.py\", line 140, in execute_method\n",
      "    return executor(*args, **kwargs)\n",
      "  File \"/data/lizh/Conda/anaconda3/envs/vllm/lib/python3.9/site-packages/torch/utils/_contextlib.py\", line 115, in decorate_context\n",
      "    return func(*args, **kwargs)\n",
      "  File \"/data/lizh/Conda/anaconda3/envs/vllm/lib/python3.9/site-packages/vllm/worker/worker.py\", line 286, in start_worker_execution_loop\n",
      "    while self._execute_model_non_driver():\n",
      "  File \"/data/lizh/Conda/anaconda3/envs/vllm/lib/python3.9/site-packages/vllm/worker/worker.py\", line 295, in _execute_model_non_driver\n",
      "    data = broadcast_tensor_dict(src=0)\n",
      "  File \"/data/lizh/Conda/anaconda3/envs/vllm/lib/python3.9/site-packages/vllm/distributed/communication_op.py\", line 284, in broadcast_tensor_dict\n",
      "    torch.distributed.broadcast_object_list(recv_metadata_list,\n",
      "  File \"/data/lizh/Conda/anaconda3/envs/vllm/lib/python3.9/site-packages/torch/distributed/c10d_logger.py\", line 75, in wrapper\n",
      "    return func(*args, **kwargs)\n",
      "  File \"/data/lizh/Conda/anaconda3/envs/vllm/lib/python3.9/site-packages/torch/distributed/distributed_c10d.py\", line 2649, in broadcast_object_list\n",
      "    broadcast(object_sizes_tensor, src=src, group=group)\n",
      "  File \"/data/lizh/Conda/anaconda3/envs/vllm/lib/python3.9/site-packages/torch/distributed/c10d_logger.py\", line 75, in wrapper\n",
      "    return func(*args, **kwargs)\n",
      "  File \"/data/lizh/Conda/anaconda3/envs/vllm/lib/python3.9/site-packages/torch/distributed/distributed_c10d.py\", line 2144, in broadcast\n",
      "    work.wait()\n",
      "RuntimeError: [../third_party/gloo/gloo/transport/tcp/unbound_buffer.cc:81] Timed out waiting 1800000ms for recv operation to complete\n",
      "2024-12-16 17:57:59,553\tERROR worker.py:409 -- Unhandled error (suppress with 'RAY_IGNORE_UNHANDLED_ERRORS=1'): \u001b[36mray::RayWorkerWrapper.execute_method()\u001b[39m (pid=3626818, ip=211.86.155.202, actor_id=a89121eb6574cb30018bfca001000000, repr=<vllm.executor.ray_utils.RayWorkerWrapper object at 0x7fd5065e7f10>)\n",
      "  File \"/data/lizh/Conda/anaconda3/envs/vllm/lib/python3.9/site-packages/vllm/worker/worker_base.py\", line 149, in execute_method\n",
      "    raise e\n",
      "  File \"/data/lizh/Conda/anaconda3/envs/vllm/lib/python3.9/site-packages/vllm/worker/worker_base.py\", line 140, in execute_method\n",
      "    return executor(*args, **kwargs)\n",
      "  File \"/data/lizh/Conda/anaconda3/envs/vllm/lib/python3.9/site-packages/torch/utils/_contextlib.py\", line 115, in decorate_context\n",
      "    return func(*args, **kwargs)\n",
      "  File \"/data/lizh/Conda/anaconda3/envs/vllm/lib/python3.9/site-packages/vllm/worker/worker.py\", line 286, in start_worker_execution_loop\n",
      "    while self._execute_model_non_driver():\n",
      "  File \"/data/lizh/Conda/anaconda3/envs/vllm/lib/python3.9/site-packages/vllm/worker/worker.py\", line 295, in _execute_model_non_driver\n",
      "    data = broadcast_tensor_dict(src=0)\n",
      "  File \"/data/lizh/Conda/anaconda3/envs/vllm/lib/python3.9/site-packages/vllm/distributed/communication_op.py\", line 284, in broadcast_tensor_dict\n",
      "    torch.distributed.broadcast_object_list(recv_metadata_list,\n",
      "  File \"/data/lizh/Conda/anaconda3/envs/vllm/lib/python3.9/site-packages/torch/distributed/c10d_logger.py\", line 75, in wrapper\n",
      "    return func(*args, **kwargs)\n",
      "  File \"/data/lizh/Conda/anaconda3/envs/vllm/lib/python3.9/site-packages/torch/distributed/distributed_c10d.py\", line 2649, in broadcast_object_list\n",
      "    broadcast(object_sizes_tensor, src=src, group=group)\n",
      "  File \"/data/lizh/Conda/anaconda3/envs/vllm/lib/python3.9/site-packages/torch/distributed/c10d_logger.py\", line 75, in wrapper\n",
      "    return func(*args, **kwargs)\n",
      "  File \"/data/lizh/Conda/anaconda3/envs/vllm/lib/python3.9/site-packages/torch/distributed/distributed_c10d.py\", line 2144, in broadcast\n",
      "    work.wait()\n",
      "RuntimeError: [../third_party/gloo/gloo/transport/tcp/unbound_buffer.cc:81] Timed out waiting 1800000ms for recv operation to complete\n",
      "2024-12-16 17:57:59,556\tERROR worker.py:409 -- Unhandled error (suppress with 'RAY_IGNORE_UNHANDLED_ERRORS=1'): \u001b[36mray::RayWorkerWrapper.execute_method()\u001b[39m (pid=3627111, ip=211.86.155.202, actor_id=909bd64df745eaec6cd690c401000000, repr=<vllm.executor.ray_utils.RayWorkerWrapper object at 0x7f66131cbdc0>)\n",
      "  File \"/data/lizh/Conda/anaconda3/envs/vllm/lib/python3.9/site-packages/vllm/worker/worker_base.py\", line 149, in execute_method\n",
      "    raise e\n",
      "  File \"/data/lizh/Conda/anaconda3/envs/vllm/lib/python3.9/site-packages/vllm/worker/worker_base.py\", line 140, in execute_method\n",
      "    return executor(*args, **kwargs)\n",
      "  File \"/data/lizh/Conda/anaconda3/envs/vllm/lib/python3.9/site-packages/torch/utils/_contextlib.py\", line 115, in decorate_context\n",
      "    return func(*args, **kwargs)\n",
      "  File \"/data/lizh/Conda/anaconda3/envs/vllm/lib/python3.9/site-packages/vllm/worker/worker.py\", line 286, in start_worker_execution_loop\n",
      "    while self._execute_model_non_driver():\n",
      "  File \"/data/lizh/Conda/anaconda3/envs/vllm/lib/python3.9/site-packages/vllm/worker/worker.py\", line 295, in _execute_model_non_driver\n",
      "    data = broadcast_tensor_dict(src=0)\n",
      "  File \"/data/lizh/Conda/anaconda3/envs/vllm/lib/python3.9/site-packages/vllm/distributed/communication_op.py\", line 284, in broadcast_tensor_dict\n",
      "    torch.distributed.broadcast_object_list(recv_metadata_list,\n",
      "  File \"/data/lizh/Conda/anaconda3/envs/vllm/lib/python3.9/site-packages/torch/distributed/c10d_logger.py\", line 75, in wrapper\n",
      "    return func(*args, **kwargs)\n",
      "  File \"/data/lizh/Conda/anaconda3/envs/vllm/lib/python3.9/site-packages/torch/distributed/distributed_c10d.py\", line 2649, in broadcast_object_list\n",
      "    broadcast(object_sizes_tensor, src=src, group=group)\n",
      "  File \"/data/lizh/Conda/anaconda3/envs/vllm/lib/python3.9/site-packages/torch/distributed/c10d_logger.py\", line 75, in wrapper\n",
      "    return func(*args, **kwargs)\n",
      "  File \"/data/lizh/Conda/anaconda3/envs/vllm/lib/python3.9/site-packages/torch/distributed/distributed_c10d.py\", line 2144, in broadcast\n",
      "    work.wait()\n",
      "RuntimeError: [../third_party/gloo/gloo/transport/tcp/unbound_buffer.cc:81] Timed out waiting 1800000ms for recv operation to complete\n"
     ]
    }
   ],
   "source": [
    "import os\n",
    "\n",
    "from evaluate import *\n",
    "from llm_re import *\n",
    "\n",
    "def main():\n",
    "    train_data,test_data=get_data()\n",
    "    \n",
    "    prev_dir='/data/lizh/ChemRxnExtractor-main/test_prev.json'\n",
    "    prev_data=read_json_file(prev_dir)\n",
    "    \n",
    "    prev_data2=chem_re(train_data,prev_data)\n",
    "    Reaction_f1(test_data,prev_data2)\n",
    "\n",
    "main()"
   ]
  },
  {
   "cell_type": "markdown",
   "metadata": {},
   "source": [
    "微调后的qwen2.5 14b\n",
    "TP, FP, FN 238 76 161\n",
    "NER:  precision, recall 0.7579617834394905 0.5964912280701754\n",
    "NER:  f1_score 0.667601683029453"
   ]
  },
  {
   "cell_type": "code",
   "execution_count": 1,
   "metadata": {},
   "outputs": [
    {
     "name": "stderr",
     "output_type": "stream",
     "text": [
      "/data/lizh/Conda/anaconda3/envs/vllm/lib/python3.9/site-packages/tqdm/auto.py:21: TqdmWarning: IProgress not found. Please update jupyter and ipywidgets. See https://ipywidgets.readthedocs.io/en/stable/user_install.html\n",
      "  from .autonotebook import tqdm as notebook_tqdm\n",
      "2024-12-06 19:41:43,731\tINFO util.py:154 -- Missing packages: ['ipywidgets']. Run `pip install -U ipywidgets`, then restart the notebook server for rich notebook output.\n",
      "2024-12-06 19:41:46,897\tINFO worker.py:1771 -- Started a local Ray instance.\n"
     ]
    },
    {
     "name": "stdout",
     "output_type": "stream",
     "text": [
      "INFO 12-06 19:41:47 llm_engine.py:161] Initializing an LLM engine (v0.4.3) with config: model='/data/lizh/LLaMA-Factory-main/models/qwen2.5_14b_ptsft', speculative_config=None, tokenizer='/data/lizh/LLaMA-Factory-main/models/qwen2.5_14b_ptsft', skip_tokenizer_init=False, tokenizer_mode=auto, revision=None, rope_scaling=None, tokenizer_revision=None, trust_remote_code=False, dtype=torch.bfloat16, max_seq_len=32768, download_dir=None, load_format=LoadFormat.AUTO, tensor_parallel_size=4, disable_custom_all_reduce=False, quantization=None, enforce_eager=False, kv_cache_dtype=auto, quantization_param_path=None, device_config=cuda, decoding_config=DecodingConfig(guided_decoding_backend='outlines'), seed=0, served_model_name=/data/lizh/LLaMA-Factory-main/models/qwen2.5_14b_ptsft)\n",
      "INFO 12-06 19:42:05 utils.py:618] Found nccl from library libnccl.so.2\n",
      "INFO 12-06 19:42:05 pynccl.py:65] vLLM is using nccl==2.20.5\n",
      "\u001b[36m(RayWorkerWrapper pid=3696047)\u001b[0m INFO 12-06 19:42:05 utils.py:618] Found nccl from library libnccl.so.2\n",
      "\u001b[36m(RayWorkerWrapper pid=3696047)\u001b[0m INFO 12-06 19:42:05 pynccl.py:65] vLLM is using nccl==2.20.5\n",
      "WARNING 12-06 19:42:05 custom_all_reduce.py:158] Custom allreduce is disabled because it's not supported on more than two PCIe-only GPUs. To silence this warning, specify disable_custom_all_reduce=True explicitly.\n",
      "\u001b[36m(RayWorkerWrapper pid=3696047)\u001b[0m WARNING 12-06 19:42:05 custom_all_reduce.py:158] Custom allreduce is disabled because it's not supported on more than two PCIe-only GPUs. To silence this warning, specify disable_custom_all_reduce=True explicitly.\n",
      "INFO 12-06 19:42:11 model_runner.py:146] Loading model weights took 6.9459 GB\n",
      "\u001b[36m(RayWorkerWrapper pid=3696161)\u001b[0m INFO 12-06 19:42:11 model_runner.py:146] Loading model weights took 6.9459 GB\n",
      "\u001b[36m(RayWorkerWrapper pid=3696310)\u001b[0m INFO 12-06 19:42:05 utils.py:618] Found nccl from library libnccl.so.2\u001b[32m [repeated 2x across cluster] (Ray deduplicates logs by default. Set RAY_DEDUP_LOGS=0 to disable log deduplication, or see https://docs.ray.io/en/master/ray-observability/user-guides/configure-logging.html#log-deduplication for more options.)\u001b[0m\n",
      "\u001b[36m(RayWorkerWrapper pid=3696310)\u001b[0m INFO 12-06 19:42:05 pynccl.py:65] vLLM is using nccl==2.20.5\u001b[32m [repeated 2x across cluster]\u001b[0m\n",
      "\u001b[36m(RayWorkerWrapper pid=3696310)\u001b[0m WARNING 12-06 19:42:05 custom_all_reduce.py:158] Custom allreduce is disabled because it's not supported on more than two PCIe-only GPUs. To silence this warning, specify disable_custom_all_reduce=True explicitly.\u001b[32m [repeated 2x across cluster]\u001b[0m\n",
      "INFO 12-06 19:42:35 distributed_gpu_executor.py:56] # GPU blocks: 51773, # CPU blocks: 5461\n",
      "INFO 12-06 19:42:47 model_runner.py:854] Capturing the model for CUDA graphs. This may lead to unexpected consequences if the model is not static. To run the model in eager mode, set 'enforce_eager=True' or use '--enforce-eager' in the CLI.\n",
      "INFO 12-06 19:42:47 model_runner.py:858] CUDA graphs can take additional 1~3 GiB memory per GPU. If you are running out of memory, consider decreasing `gpu_memory_utilization` or enforcing eager mode. You can also reduce the `max_num_seqs` as needed to decrease memory usage.\n",
      "\u001b[36m(RayWorkerWrapper pid=3696310)\u001b[0m INFO 12-06 19:42:49 model_runner.py:854] Capturing the model for CUDA graphs. This may lead to unexpected consequences if the model is not static. To run the model in eager mode, set 'enforce_eager=True' or use '--enforce-eager' in the CLI.\n",
      "\u001b[36m(RayWorkerWrapper pid=3696310)\u001b[0m INFO 12-06 19:42:49 model_runner.py:858] CUDA graphs can take additional 1~3 GiB memory per GPU. If you are running out of memory, consider decreasing `gpu_memory_utilization` or enforcing eager mode. You can also reduce the `max_num_seqs` as needed to decrease memory usage.\n",
      "\u001b[36m(RayWorkerWrapper pid=3696047)\u001b[0m INFO 12-06 19:42:12 model_runner.py:146] Loading model weights took 6.9459 GB\u001b[32m [repeated 2x across cluster]\u001b[0m\n",
      "INFO 12-06 19:43:33 model_runner.py:924] Graph capturing finished in 46 secs.\n",
      "\u001b[36m(RayWorkerWrapper pid=3696047)\u001b[0m INFO 12-06 19:43:33 model_runner.py:924] Graph capturing finished in 44 secs.\n",
      "\u001b[36m(RayWorkerWrapper pid=3696161)\u001b[0m INFO 12-06 19:42:49 model_runner.py:854] Capturing the model for CUDA graphs. This may lead to unexpected consequences if the model is not static. To run the model in eager mode, set 'enforce_eager=True' or use '--enforce-eager' in the CLI.\u001b[32m [repeated 2x across cluster]\u001b[0m\n",
      "\u001b[36m(RayWorkerWrapper pid=3696161)\u001b[0m INFO 12-06 19:42:49 model_runner.py:858] CUDA graphs can take additional 1~3 GiB memory per GPU. If you are running out of memory, consider decreasing `gpu_memory_utilization` or enforcing eager mode. You can also reduce the `max_num_seqs` as needed to decrease memory usage.\u001b[32m [repeated 2x across cluster]\u001b[0m\n",
      "第0条数据\n"
     ]
    },
    {
     "name": "stderr",
     "output_type": "stream",
     "text": [
      "Processed prompts: 100%|██████████| 1/1 [00:03<00:00,  3.88s/it, Generation Speed: 9.30 toks/s]\n",
      "100%|██████████| 1/1 [00:03<00:00,  3.92s/it]\n"
     ]
    },
    {
     "name": "stdout",
     "output_type": "stream",
     "text": [
      "{'Reactants': ['diphenylacetylene', '19A'], 'Product': ['23A'], 'Yield': ['30 %']}\n"
     ]
    },
    {
     "name": "stderr",
     "output_type": "stream",
     "text": [
      "Processed prompts: 100%|██████████| 1/1 [00:03<00:00,  3.45s/it, Generation Speed: 11.94 toks/s]\n",
      "100%|██████████| 1/1 [00:03<00:00,  3.46s/it]\n"
     ]
    },
    {
     "name": "stdout",
     "output_type": "stream",
     "text": [
      "{'Reactants': ['(phenylcyclopropy1)- carbene complex', '19B'], 'Product': ['25'], 'Yield': ['53 %']}\n",
      "第1条数据\n"
     ]
    },
    {
     "name": "stderr",
     "output_type": "stream",
     "text": [
      "Processed prompts: 100%|██████████| 1/1 [00:05<00:00,  5.16s/it, Generation Speed: 14.18 toks/s]\n",
      "100%|██████████| 1/1 [00:05<00:00,  5.18s/it]\n"
     ]
    },
    {
     "name": "stdout",
     "output_type": "stream",
     "text": [
      "{'Reactants': ['2.0 equiv of copper acetate'], 'Solvent': ['DMSO'], 'Product': ['2-(3-(methylthio)naphthalen-2-yl)pyridine'], 'Yield': ['89 %'], 'Temperature': ['125 ° C']}\n"
     ]
    },
    {
     "name": "stderr",
     "output_type": "stream",
     "text": [
      "Processed prompts: 100%|██████████| 1/1 [00:04<00:00,  4.34s/it, Generation Speed: 12.47 toks/s]\n",
      "100%|██████████| 1/1 [00:04<00:00,  4.35s/it]\n"
     ]
    },
    {
     "name": "stdout",
     "output_type": "stream",
     "text": [
      "{'Catalyst_Reagents': ['copper acetate'], 'Solvent': ['DMSO'], 'Product': ['2b'], 'Yield': ['89 %'], 'Temperature': ['125 ° C']}\n",
      "第2条数据\n"
     ]
    },
    {
     "name": "stderr",
     "output_type": "stream",
     "text": [
      "Processed prompts: 100%|██████████| 1/1 [00:02<00:00,  2.50s/it, Generation Speed: 11.62 toks/s]\n",
      "100%|██████████| 1/1 [00:02<00:00,  2.51s/it]\n"
     ]
    },
    {
     "name": "stdout",
     "output_type": "stream",
     "text": [
      "{'Reactants': ['Me3SiCH2MgC1', '02'], 'Product': ['Me3SiOH']}\n"
     ]
    },
    {
     "name": "stderr",
     "output_type": "stream",
     "text": [
      "Processed prompts: 100%|██████████| 1/1 [00:02<00:00,  2.77s/it, Generation Speed: 11.56 toks/s]\n",
      "100%|██████████| 1/1 [00:02<00:00,  2.78s/it]\n"
     ]
    },
    {
     "name": "stdout",
     "output_type": "stream",
     "text": [
      "{'Reactants': ['Me3SiCH2MgC1', '02'], 'Product': ['(Me3Si)20']}\n"
     ]
    },
    {
     "name": "stderr",
     "output_type": "stream",
     "text": [
      "Processed prompts: 100%|██████████| 1/1 [00:02<00:00,  2.69s/it, Generation Speed: 11.53 toks/s]\n",
      "100%|██████████| 1/1 [00:02<00:00,  2.70s/it]\n"
     ]
    },
    {
     "name": "stdout",
     "output_type": "stream",
     "text": [
      "{'Reactants': ['Me3SiCH2MgC1', '02'], 'Product': ['CH20.22']}\n",
      "第3条数据\n"
     ]
    },
    {
     "name": "stderr",
     "output_type": "stream",
     "text": [
      "Processed prompts: 100%|██████████| 1/1 [00:03<00:00,  3.84s/it, Generation Speed: 12.00 toks/s]\n",
      "100%|██████████| 1/1 [00:03<00:00,  3.85s/it]\n"
     ]
    },
    {
     "name": "stdout",
     "output_type": "stream",
     "text": [
      "{'Reactants': ['8', 'acetone'], 'Catalyst_Reagents': ['trifluoroacetic acid-tri- fluoroacetic anhydride'], 'Product': ['9.']}\n",
      "第4条数据\n"
     ]
    },
    {
     "name": "stderr",
     "output_type": "stream",
     "text": [
      "Processed prompts: 100%|██████████| 1/1 [00:02<00:00,  2.94s/it, Generation Speed: 8.52 toks/s]\n",
      "100%|██████████| 1/1 [00:02<00:00,  2.95s/it]\n"
     ]
    },
    {
     "name": "stdout",
     "output_type": "stream",
     "text": [
      "{'Reactants': ['10'], 'Product': ['11'], 'Yield': ['92 %']}\n"
     ]
    },
    {
     "name": "stderr",
     "output_type": "stream",
     "text": [
      "Processed prompts: 100%|██████████| 1/1 [00:05<00:00,  5.26s/it, Generation Speed: 12.17 toks/s]\n",
      "100%|██████████| 1/1 [00:05<00:00,  5.27s/it]\n"
     ]
    },
    {
     "name": "stdout",
     "output_type": "stream",
     "text": [
      "{'Reactants': ['11', '1-heptyne'], 'Catalyst_Reagents': ['bis(triphenylphosphine)palladium(II) chloride', 'triethylamine- DMF'], 'Product': ['12.'], 'Yield': ['68 %']}\n",
      "第5条数据\n"
     ]
    },
    {
     "name": "stderr",
     "output_type": "stream",
     "text": [
      "Processed prompts: 100%|██████████| 1/1 [00:01<00:00,  1.93s/it, Generation Speed: 12.99 toks/s]\n",
      "100%|██████████| 1/1 [00:01<00:00,  1.94s/it]\n"
     ]
    },
    {
     "name": "stdout",
     "output_type": "stream",
     "text": [
      "{'Reactants': ['12'], 'Product': ['13'], 'Yield': ['-loo %']}\n"
     ]
    },
    {
     "name": "stderr",
     "output_type": "stream",
     "text": [
      "Processed prompts: 100%|██████████| 1/1 [00:04<00:00,  4.47s/it, Generation Speed: 12.10 toks/s]\n",
      "100%|██████████| 1/1 [00:04<00:00,  4.47s/it]\n"
     ]
    },
    {
     "name": "stdout",
     "output_type": "stream",
     "text": [
      "{'Reactants': ['13', 'KOH - DMSO'], 'Temperature': ['120 OC'], 'Product': ['5-heptylresorcinolg'], 'Yield': ['90 %', 'from 12']}\n"
     ]
    },
    {
     "name": "stderr",
     "output_type": "stream",
     "text": [
      "Processed prompts: 100%|██████████| 1/1 [00:03<00:00,  3.90s/it, Generation Speed: 11.80 toks/s]\n",
      "100%|██████████| 1/1 [00:03<00:00,  3.91s/it]\n"
     ]
    },
    {
     "name": "stdout",
     "output_type": "stream",
     "text": [
      "第6条数据\n"
     ]
    },
    {
     "name": "stderr",
     "output_type": "stream",
     "text": [
      "Processed prompts: 100%|██████████| 1/1 [00:02<00:00,  2.84s/it, Generation Speed: 11.66 toks/s]\n",
      "100%|██████████| 1/1 [00:02<00:00,  2.85s/it]\n"
     ]
    },
    {
     "name": "stdout",
     "output_type": "stream",
     "text": [
      "{'Reactants': ['13', 'lithium benzyl oxide'], 'Solvent': ['THF'], 'Product': ['15.']}\n",
      "第7条数据\n"
     ]
    },
    {
     "name": "stderr",
     "output_type": "stream",
     "text": [
      "Processed prompts: 100%|██████████| 1/1 [00:03<00:00,  3.61s/it, Generation Speed: 10.53 toks/s]\n",
      "100%|██████████| 1/1 [00:03<00:00,  3.62s/it]\n"
     ]
    },
    {
     "name": "stdout",
     "output_type": "stream",
     "text": [
      "{'Reactants': ['16', 'j3-(trimethylsilyl)ethanol'], 'Product': ['17'], 'Yield': ['80 %']}\n",
      "第8条数据\n"
     ]
    },
    {
     "name": "stderr",
     "output_type": "stream",
     "text": [
      "Processed prompts: 100%|██████████| 1/1 [00:04<00:00,  4.45s/it, Generation Speed: 13.50 toks/s]\n",
      "100%|██████████| 1/1 [00:04<00:00,  4.46s/it]\n"
     ]
    },
    {
     "name": "stdout",
     "output_type": "stream",
     "text": [
      "{'Reactants': ['17', '18'], 'Catalyst_Reagents': ['K2C03', '18-crown-6'], 'Solvent': ['acetone'], 'Yield': ['81 %'], 'Product': ['19.']}\n",
      "第9条数据\n"
     ]
    },
    {
     "name": "stderr",
     "output_type": "stream",
     "text": [
      "Processed prompts: 100%|██████████| 1/1 [00:03<00:00,  3.00s/it, Generation Speed: 12.68 toks/s]\n",
      "100%|██████████| 1/1 [00:03<00:00,  3.01s/it]\n"
     ]
    },
    {
     "name": "stdout",
     "output_type": "stream",
     "text": [
      "{'Reactants': ['10'], 'Catalyst_Reagents': ['bromotrimethylsilane', 'TMSBr'], 'Product': ['11.']}\n",
      "第10条数据\n"
     ]
    },
    {
     "name": "stderr",
     "output_type": "stream",
     "text": [
      "Processed prompts: 100%|██████████| 1/1 [00:02<00:00,  2.99s/it, Generation Speed: 10.69 toks/s]\n",
      "100%|██████████| 1/1 [00:03<00:00,  3.00s/it]\n"
     ]
    },
    {
     "name": "stdout",
     "output_type": "stream",
     "text": [
      "{'Reactants': ['2', 'pyridinium bromide perbromidel8', 'acetic acid'], 'Product': ['3.']}\n",
      "第11条数据\n"
     ]
    },
    {
     "name": "stderr",
     "output_type": "stream",
     "text": [
      "Processed prompts: 100%|██████████| 1/1 [00:03<00:00,  3.33s/it, Generation Speed: 11.74 toks/s]\n",
      "100%|██████████| 1/1 [00:03<00:00,  3.34s/it]\n"
     ]
    },
    {
     "name": "stdout",
     "output_type": "stream",
     "text": [
      "{'Reactants': ['ethyl 3,3-diamino-2-propenoatelg', '4'], 'Product': ['1'], 'Yield': ['58 %']}\n",
      "第12条数据\n"
     ]
    },
    {
     "name": "stderr",
     "output_type": "stream",
     "text": [
      "Processed prompts: 100%|██████████| 1/1 [00:04<00:00,  4.82s/it, Generation Speed: 11.42 toks/s]\n",
      "100%|██████████| 1/1 [00:04<00:00,  4.83s/it]\n"
     ]
    },
    {
     "name": "stdout",
     "output_type": "stream",
     "text": [
      "{'Product': ['4'], 'Reactants': ['6', 'n- butyllithium', 'n-BuLi'], 'Solvent': ['Et2O', 't-BuOMe', 'hexane', 'cyclopentane']}\n",
      "第13条数据\n"
     ]
    },
    {
     "name": "stderr",
     "output_type": "stream",
     "text": [
      "Processed prompts: 100%|██████████| 1/1 [00:02<00:00,  2.52s/it, Generation Speed: 10.32 toks/s]\n",
      "100%|██████████| 1/1 [00:02<00:00,  2.53s/it]\n"
     ]
    },
    {
     "name": "stdout",
     "output_type": "stream",
     "text": [
      "{'Catalyst_Reagents': ['AA6'], 'Reactants': ['1'], 'Product': ['2.']}\n",
      "第14条数据\n"
     ]
    },
    {
     "name": "stderr",
     "output_type": "stream",
     "text": [
      "Processed prompts: 100%|██████████| 1/1 [00:02<00:00,  2.74s/it, Generation Speed: 9.87 toks/s]\n",
      "100%|██████████| 1/1 [00:02<00:00,  2.75s/it]\n"
     ]
    },
    {
     "name": "stdout",
     "output_type": "stream",
     "text": [
      "{'Product': ['1'], 'Reactants': ['2s', '3'], 'Solvent': ['CHCI,']}\n",
      "第15条数据\n"
     ]
    },
    {
     "name": "stderr",
     "output_type": "stream",
     "text": [
      "Processed prompts: 100%|██████████| 1/1 [00:01<00:00,  1.89s/it, Generation Speed: 9.54 toks/s]\n",
      "100%|██████████| 1/1 [00:01<00:00,  1.90s/it]\n"
     ]
    },
    {
     "name": "stdout",
     "output_type": "stream",
     "text": [
      "{'Reactants': ['46', '5'], 'Product': ['3']}\n",
      "第16条数据\n"
     ]
    },
    {
     "name": "stderr",
     "output_type": "stream",
     "text": [
      "Processed prompts: 100%|██████████| 1/1 [00:03<00:00,  3.30s/it, Generation Speed: 10.92 toks/s]\n",
      "100%|██████████| 1/1 [00:03<00:00,  3.31s/it]\n"
     ]
    },
    {
     "name": "stdout",
     "output_type": "stream",
     "text": [
      "{'Solvent': ['acetone'], 'Yield': ['22 %'], 'Product': ['3-ŏluoropentadecane']}\n",
      "第17条数据\n"
     ]
    },
    {
     "name": "stderr",
     "output_type": "stream",
     "text": [
      "Processed prompts: 100%|██████████| 1/1 [00:03<00:00,  3.02s/it, Generation Speed: 9.96 toks/s]\n",
      "100%|██████████| 1/1 [00:03<00:00,  3.03s/it]\n"
     ]
    },
    {
     "name": "stdout",
     "output_type": "stream",
     "text": [
      "{'Product': ['7'], 'Yield': ['55 %'], 'Reactants': ['N-acetyl+ galactosamine']}\n",
      "第18条数据\n"
     ]
    },
    {
     "name": "stderr",
     "output_type": "stream",
     "text": [
      "Processed prompts: 100%|██████████| 1/1 [00:03<00:00,  3.71s/it, Generation Speed: 10.79 toks/s]\n",
      "100%|██████████| 1/1 [00:03<00:00,  3.72s/it]\n"
     ]
    },
    {
     "name": "stdout",
     "output_type": "stream",
     "text": [
      "{'Reactants': ['5'], 'Catalyst_Reagents': ['MeMgBr', '1'], 'Product': ['10'], 'Yield': ['70 %']}\n",
      "第19条数据\n",
      "第20条数据\n"
     ]
    },
    {
     "name": "stderr",
     "output_type": "stream",
     "text": [
      "Processed prompts: 100%|██████████| 1/1 [00:02<00:00,  2.33s/it, Generation Speed: 9.04 toks/s]\n",
      "100%|██████████| 1/1 [00:02<00:00,  2.34s/it]\n"
     ]
    },
    {
     "name": "stdout",
     "output_type": "stream",
     "text": [
      "{'Reactants': ['pivalonitrile', '1'], 'Product': ['3']}\n",
      "第21条数据\n",
      "第22条数据\n",
      "第23条数据\n"
     ]
    },
    {
     "name": "stderr",
     "output_type": "stream",
     "text": [
      "Processed prompts: 100%|██████████| 1/1 [00:03<00:00,  3.57s/it, Generation Speed: 11.21 toks/s]\n",
      "100%|██████████| 1/1 [00:03<00:00,  3.58s/it]\n"
     ]
    },
    {
     "name": "stdout",
     "output_type": "stream",
     "text": [
      "{'Catalyst_Reagents': ['zirconium-'], 'Reactants': ['10'], 'Product': [\"7,'4b\"], 'Yield': ['60 %']}\n"
     ]
    },
    {
     "name": "stderr",
     "output_type": "stream",
     "text": [
      "Processed prompts: 100%|██████████| 1/1 [00:03<00:00,  3.40s/it, Generation Speed: 11.20 toks/s]\n",
      "100%|██████████| 1/1 [00:03<00:00,  3.41s/it]\n"
     ]
    },
    {
     "name": "stdout",
     "output_type": "stream",
     "text": [
      "{'Reactants': ['10'], 'Catalyst_Reagents': ['zirconium-'], 'Product': ['11'], 'Yield': ['60 %']}\n",
      "第24条数据\n"
     ]
    },
    {
     "name": "stderr",
     "output_type": "stream",
     "text": [
      "Processed prompts: 100%|██████████| 1/1 [00:03<00:00,  3.10s/it, Generation Speed: 11.29 toks/s]\n",
      "100%|██████████| 1/1 [00:03<00:00,  3.11s/it]\n"
     ]
    },
    {
     "name": "stdout",
     "output_type": "stream",
     "text": [
      "{'Reactants': ['13'], 'Catalyst_Reagents': ['catecholborane'], 'Temperature': ['room'], 'Product': ['8']}\n",
      "第25条数据\n"
     ]
    },
    {
     "name": "stderr",
     "output_type": "stream",
     "text": [
      "Processed prompts: 100%|██████████| 1/1 [00:03<00:00,  3.26s/it, Generation Speed: 8.28 toks/s]\n",
      "100%|██████████| 1/1 [00:03<00:00,  3.27s/it]\n"
     ]
    },
    {
     "name": "stdout",
     "output_type": "stream",
     "text": [
      "{'Reactants': ['5-cyclononynone', \"lO,'l\"], 'Product': ['11']}\n"
     ]
    },
    {
     "name": "stderr",
     "output_type": "stream",
     "text": [
      "Processed prompts: 100%|██████████| 1/1 [00:03<00:00,  3.36s/it, Generation Speed: 8.03 toks/s]\n",
      "100%|██████████| 1/1 [00:03<00:00,  3.37s/it]\n"
     ]
    },
    {
     "name": "stdout",
     "output_type": "stream",
     "text": [
      "{'Reactants': ['5-cyclononynone', \"lO,'l\"], 'Product': ['12']}\n",
      "第26条数据\n"
     ]
    },
    {
     "name": "stderr",
     "output_type": "stream",
     "text": [
      "Processed prompts: 100%|██████████| 1/1 [00:01<00:00,  1.70s/it, Generation Speed: 8.84 toks/s]\n",
      "100%|██████████| 1/1 [00:01<00:00,  1.71s/it]\n"
     ]
    },
    {
     "name": "stdout",
     "output_type": "stream",
     "text": [
      "{'Reactants': ['latter'], 'Product': ['3']}\n",
      "第27条数据\n"
     ]
    },
    {
     "name": "stderr",
     "output_type": "stream",
     "text": [
      "Processed prompts: 100%|██████████| 1/1 [00:02<00:00,  2.62s/it, Generation Speed: 9.54 toks/s]\n",
      "100%|██████████| 1/1 [00:02<00:00,  2.63s/it]\n"
     ]
    },
    {
     "name": "stdout",
     "output_type": "stream",
     "text": [
      "{'Reactants': ['5-cyclodecynone', '13'], 'Product': ['14']}\n"
     ]
    },
    {
     "name": "stderr",
     "output_type": "stream",
     "text": [
      "Processed prompts: 100%|██████████| 1/1 [00:03<00:00,  3.27s/it, Generation Speed: 10.12 toks/s]\n",
      "100%|██████████| 1/1 [00:03<00:00,  3.28s/it]\n"
     ]
    },
    {
     "name": "stdout",
     "output_type": "stream",
     "text": [
      "第28条数据\n",
      "第29条数据\n"
     ]
    },
    {
     "name": "stderr",
     "output_type": "stream",
     "text": [
      "Processed prompts: 100%|██████████| 1/1 [00:02<00:00,  2.79s/it, Generation Speed: 10.79 toks/s]\n",
      "100%|██████████| 1/1 [00:02<00:00,  2.80s/it]\n"
     ]
    },
    {
     "name": "stdout",
     "output_type": "stream",
     "text": [
      "{'Reactants': ['23', 'NaBH4'], 'Product': ['24'], 'Yield': ['98 %']}\n",
      "第30条数据\n",
      "第31条数据\n",
      "第32条数据\n"
     ]
    },
    {
     "name": "stderr",
     "output_type": "stream",
     "text": [
      "Processed prompts: 100%|██████████| 1/1 [00:03<00:00,  3.18s/it, Generation Speed: 11.65 toks/s]\n",
      "100%|██████████| 1/1 [00:03<00:00,  3.19s/it]\n"
     ]
    },
    {
     "name": "stdout",
     "output_type": "stream",
     "text": [
      "{'Reactants': ['p proline'], 'Catalyst_Reagents': ['formic acid', 'acetic anhydride'], 'Product': ['25']}\n",
      "第33条数据\n"
     ]
    },
    {
     "name": "stderr",
     "output_type": "stream",
     "text": [
      "Processed prompts: 100%|██████████| 1/1 [00:03<00:00,  3.58s/it, Generation Speed: 11.74 toks/s]\n",
      "100%|██████████| 1/1 [00:03<00:00,  3.59s/it]\n"
     ]
    },
    {
     "name": "stdout",
     "output_type": "stream",
     "text": [
      "{'Catalyst_Reagents': ['lithium aluminum hydride'], 'Product': ['(S)-2-(hy- droxymethy1)-1 methylpyrrolidine']}\n"
     ]
    },
    {
     "name": "stderr",
     "output_type": "stream",
     "text": [
      "Processed prompts: 100%|██████████| 1/1 [00:02<00:00,  2.29s/it, Generation Speed: 10.49 toks/s]\n",
      "100%|██████████| 1/1 [00:02<00:00,  2.30s/it]\n"
     ]
    },
    {
     "name": "stdout",
     "output_type": "stream",
     "text": [
      "{'Catalyst_Reagents': ['lithium aluminum hydride'], 'Product': ['26']}\n",
      "第34条数据\n"
     ]
    },
    {
     "name": "stderr",
     "output_type": "stream",
     "text": [
      "Processed prompts: 100%|██████████| 1/1 [00:03<00:00,  3.32s/it, Generation Speed: 10.85 toks/s]\n",
      "100%|██████████| 1/1 [00:03<00:00,  3.33s/it]\n"
     ]
    },
    {
     "name": "stdout",
     "output_type": "stream",
     "text": [
      "{'Product': ['2-(chloromethyl)-l'], 'Reactants': ['27', 'thionyl chloride'], 'Solvent': ['chloroform']}\n"
     ]
    },
    {
     "name": "stderr",
     "output_type": "stream",
     "text": [
      "Processed prompts: 100%|██████████| 1/1 [00:04<00:00,  4.33s/it, Generation Speed: 11.34 toks/s]\n",
      "100%|██████████| 1/1 [00:04<00:00,  4.34s/it]\n"
     ]
    },
    {
     "name": "stdout",
     "output_type": "stream",
     "text": [
      "{'Product': ['27'], 'Reactants': ['2-(chloromethyl)-l methylpyrrolidine'], 'Catalyst_Reagents': ['thionyl chloride'], 'Solvent': ['chloroform.']}\n",
      "第35条数据\n"
     ]
    },
    {
     "name": "stderr",
     "output_type": "stream",
     "text": [
      "Processed prompts: 100%|██████████| 1/1 [00:02<00:00,  2.48s/it, Generation Speed: 11.31 toks/s]\n",
      "100%|██████████| 1/1 [00:02<00:00,  2.49s/it]\n"
     ]
    },
    {
     "name": "stdout",
     "output_type": "stream",
     "text": [
      "{'Product': ['30'], 'Reactants': ['sodium cyanide'], 'Solvent': ['80 % ethanol']}\n",
      "第36条数据\n"
     ]
    },
    {
     "name": "stderr",
     "output_type": "stream",
     "text": [
      "Processed prompts: 100%|██████████| 1/1 [00:03<00:00,  3.20s/it, Generation Speed: 11.57 toks/s]\n",
      "100%|██████████| 1/1 [00:03<00:00,  3.21s/it]\n"
     ]
    },
    {
     "name": "stdout",
     "output_type": "stream",
     "text": [
      "{'Reactants': ['33'], 'Catalyst_Reagents': ['HCI'], 'Product': ['1 -methylpyrrolidine-2-acetic acid']}\n"
     ]
    },
    {
     "name": "stderr",
     "output_type": "stream",
     "text": [
      "Processed prompts: 100%|██████████| 1/1 [00:03<00:00,  3.19s/it, Generation Speed: 11.60 toks/s]\n",
      "100%|██████████| 1/1 [00:03<00:00,  3.20s/it]\n"
     ]
    },
    {
     "name": "stdout",
     "output_type": "stream",
     "text": [
      "{'Reactants': ['1 -methylpyrrolidine-2-acetic acid'], 'Solvent': ['concentrated HCI'], 'Product': ['33']}\n",
      "第37条数据\n"
     ]
    },
    {
     "name": "stderr",
     "output_type": "stream",
     "text": [
      "Processed prompts: 100%|██████████| 1/1 [00:05<00:00,  5.51s/it, Generation Speed: 11.61 toks/s]\n",
      "100%|██████████| 1/1 [00:05<00:00,  5.52s/it]\n"
     ]
    },
    {
     "name": "stdout",
     "output_type": "stream",
     "text": [
      "{'Reactants': ['sodium [1,2-13C2]acetate', 'sodium [IJ4C]acetate', 'trimethyl phosphate'], 'Product': [\"methyl [ 1,2- ' 3C2,1-14C]acetate\"]}\n"
     ]
    },
    {
     "name": "stderr",
     "output_type": "stream",
     "text": [
      "Processed prompts: 100%|██████████| 1/1 [00:03<00:00,  3.98s/it, Generation Speed: 10.82 toks/s]\n",
      "100%|██████████| 1/1 [00:03<00:00,  3.99s/it]\n"
     ]
    },
    {
     "name": "stdout",
     "output_type": "stream",
     "text": [
      "{'Reactants': ['sodium [1,2-13C2]acetate', 'sodium [IJ4C]acetate', 'trimethyl phosphate'], 'Product': ['B']}\n"
     ]
    },
    {
     "name": "stderr",
     "output_type": "stream",
     "text": [
      "Processed prompts: 100%|██████████| 1/1 [00:06<00:00,  6.03s/it, Generation Speed: 11.78 toks/s]\n",
      "100%|██████████| 1/1 [00:06<00:00,  6.04s/it]\n"
     ]
    },
    {
     "name": "stdout",
     "output_type": "stream",
     "text": [
      "{'Reactants': ['sodium [1,2-13C2]acetate', 'sodium [IJ4C]acetate', 'trimethyl phosphate', \"methyl [ 1,2- ' 3C2,1-14C]acetate\", 'B'], 'Product': ['29']}\n",
      "第38条数据\n"
     ]
    },
    {
     "name": "stderr",
     "output_type": "stream",
     "text": [
      "Processed prompts: 100%|██████████| 1/1 [00:02<00:00,  2.60s/it, Generation Speed: 10.01 toks/s]\n",
      "100%|██████████| 1/1 [00:02<00:00,  2.62s/it]\n"
     ]
    },
    {
     "name": "stdout",
     "output_type": "stream",
     "text": [
      "{'Product': ['1 -methyl-2-pyrrolidinyl)-3-oxobutanoate']}\n"
     ]
    },
    {
     "name": "stderr",
     "output_type": "stream",
     "text": [
      "Processed prompts: 100%|██████████| 1/1 [00:01<00:00,  1.27s/it, Generation Speed: 6.32 toks/s]\n",
      "100%|██████████| 1/1 [00:01<00:00,  1.28s/it]\n"
     ]
    },
    {
     "name": "stdout",
     "output_type": "stream",
     "text": [
      "{'Product': ['31']}\n",
      "第39条数据\n"
     ]
    },
    {
     "name": "stderr",
     "output_type": "stream",
     "text": [
      "Processed prompts: 100%|██████████| 1/1 [00:02<00:00,  2.76s/it, Generation Speed: 10.89 toks/s]\n",
      "100%|██████████| 1/1 [00:02<00:00,  2.77s/it]\n"
     ]
    },
    {
     "name": "stdout",
     "output_type": "stream",
     "text": [
      "{'Reactants': ['3a'], 'Solvent': ['water'], 'Product': ['4a'], 'Yield': ['high']}\n",
      "第40条数据\n"
     ]
    },
    {
     "name": "stderr",
     "output_type": "stream",
     "text": [
      "Processed prompts: 100%|██████████| 1/1 [00:06<00:00,  6.29s/it, Generation Speed: 12.26 toks/s]\n",
      "100%|██████████| 1/1 [00:06<00:00,  6.30s/it]\n"
     ]
    },
    {
     "name": "stdout",
     "output_type": "stream",
     "text": [
      "{'Reactants': ['allyl iodoacetate', '3a'], 'Solvent': ['water'], 'Catalyst_Reagents': ['triethylborane'], 'Temperature': ['25', '( cid : 176 ) C'], 'Time': ['3 h'], 'Product': ['4a'], 'Yield': ['67 %']}\n",
      "第41条数据\n"
     ]
    },
    {
     "name": "stderr",
     "output_type": "stream",
     "text": [
      "Processed prompts: 100%|██████████| 1/1 [00:09<00:00,  9.65s/it, Generation Speed: 12.02 toks/s]\n",
      "100%|██████████| 1/1 [00:09<00:00,  9.66s/it]\n"
     ]
    },
    {
     "name": "stdout",
     "output_type": "stream",
     "text": [
      "{'Reactants': ['3-iodo- 1-methylquinolin-4(1H)-one', '4', 'phenylboronic acid', '8a'], 'Product': ['3-phenylquinolin-4(1H)-one'], 'Catalyst_Reagents': ['Pd(OAc)2', 'PPh3', 'Na2CO3'], 'Solvent': ['DME', 'EtOH'], 'Temperature': ['70 ° C'], 'Time': ['5 min']}\n"
     ]
    },
    {
     "name": "stderr",
     "output_type": "stream",
     "text": [
      "Processed prompts: 100%|██████████| 1/1 [00:08<00:00,  8.78s/it, Generation Speed: 11.96 toks/s]\n",
      "100%|██████████| 1/1 [00:08<00:00,  8.79s/it]\n"
     ]
    },
    {
     "name": "stdout",
     "output_type": "stream",
     "text": [
      "{'Reactants': ['3-iodo- 1-methylquinolin-4(1H)-one', '4', 'phenylboronic acid', '8a'], 'Product': ['9a'], 'Catalyst_Reagents': ['Pd(OAc)2', 'PPh3', 'Na2CO3'], 'Solvent': ['DME', 'EtOH'], 'Temperature': ['70 ° C'], 'Time': ['5 min']}\n",
      "第42条数据\n"
     ]
    },
    {
     "name": "stderr",
     "output_type": "stream",
     "text": [
      "Processed prompts: 100%|██████████| 1/1 [00:05<00:00,  5.10s/it, Generation Speed: 11.19 toks/s]\n",
      "100%|██████████| 1/1 [00:05<00:00,  5.11s/it]\n"
     ]
    },
    {
     "name": "stdout",
     "output_type": "stream",
     "text": [
      "{'Reactants': ['1- substituted-3-iodoquinolin-4(1H)-ones', '4', '6.18'], 'Product': ['9a'], 'Yield': ['75 %'], 'Time': ['30 min']}\n",
      "第43条数据\n"
     ]
    },
    {
     "name": "stderr",
     "output_type": "stream",
     "text": [
      "Processed prompts: 100%|██████████| 1/1 [00:01<00:00,  1.63s/it, Generation Speed: 8.62 toks/s]\n",
      "100%|██████████| 1/1 [00:01<00:00,  1.63s/it]\n"
     ]
    },
    {
     "name": "stdout",
     "output_type": "stream",
     "text": [
      "{'Reactants': ['B'], 'Product': ['C']}\n",
      "第44条数据\n"
     ]
    },
    {
     "name": "stderr",
     "output_type": "stream",
     "text": [
      "Processed prompts: 100%|██████████| 1/1 [00:02<00:00,  2.57s/it, Generation Speed: 10.50 toks/s]\n",
      "100%|██████████| 1/1 [00:02<00:00,  2.58s/it]\n"
     ]
    },
    {
     "name": "stdout",
     "output_type": "stream",
     "text": [
      "{'Reactants': ['3a', '(MeCN)3Cr(C0)3'], 'Product': ['4a']}\n"
     ]
    },
    {
     "name": "stderr",
     "output_type": "stream",
     "text": [
      "Processed prompts: 100%|██████████| 1/1 [00:02<00:00,  2.70s/it, Generation Speed: 10.77 toks/s]\n",
      "100%|██████████| 1/1 [00:02<00:00,  2.71s/it]\n"
     ]
    },
    {
     "name": "stdout",
     "output_type": "stream",
     "text": [
      "{'Reactants': ['3a', '(MeCN)3Cr(C0)3'], 'Product': [\"5a1'\"]}\n"
     ]
    },
    {
     "name": "stderr",
     "output_type": "stream",
     "text": [
      "Processed prompts: 100%|██████████| 1/1 [00:03<00:00,  3.30s/it, Generation Speed: 11.22 toks/s]\n",
      "100%|██████████| 1/1 [00:03<00:00,  3.31s/it]\n"
     ]
    },
    {
     "name": "stdout",
     "output_type": "stream",
     "text": [
      "{'Reactants': ['3b'], 'Catalyst_Reagents': ['(MeCN)3Cr(C0)3'], 'Product': [\"4b1'\"]}\n"
     ]
    },
    {
     "name": "stderr",
     "output_type": "stream",
     "text": [
      "Processed prompts: 100%|██████████| 1/1 [00:02<00:00,  2.58s/it, Generation Speed: 10.86 toks/s]\n",
      "100%|██████████| 1/1 [00:02<00:00,  2.59s/it]\n"
     ]
    },
    {
     "name": "stdout",
     "output_type": "stream",
     "text": [
      "{'Reactants': ['3b', '(MeCN)3Cr(C0)3'], 'Product': [\"5b,''\"]}\n",
      "第45条数据\n"
     ]
    },
    {
     "name": "stderr",
     "output_type": "stream",
     "text": [
      "Processed prompts: 100%|██████████| 1/1 [00:03<00:00,  3.77s/it, Generation Speed: 11.42 toks/s]\n",
      "100%|██████████| 1/1 [00:03<00:00,  3.78s/it]\n"
     ]
    },
    {
     "name": "stdout",
     "output_type": "stream",
     "text": [
      "{'Reactants': ['4a', 'ethyl acrylate'], 'Product': ['6a'], 'Yield': ['86 %', \"'98 % de ( 'H NMR )\"]}\n",
      "第46条数据\n"
     ]
    },
    {
     "name": "stderr",
     "output_type": "stream",
     "text": [
      "Processed prompts: 100%|██████████| 1/1 [00:04<00:00,  4.35s/it, Generation Speed: 11.50 toks/s]\n",
      "100%|██████████| 1/1 [00:04<00:00,  4.36s/it]\n"
     ]
    },
    {
     "name": "stdout",
     "output_type": "stream",
     "text": [
      "{'Reactants': ['tryptophan methyl ester', '9'], 'Product': ['12'], 'Yield': ['35 %'], 'Temperature': [\"140 'C\"], 'Time': ['3 h']}\n",
      "第47条数据\n",
      "第48条数据\n"
     ]
    },
    {
     "name": "stderr",
     "output_type": "stream",
     "text": [
      "Processed prompts: 100%|██████████| 1/1 [00:01<00:00,  1.50s/it, Generation Speed: 9.36 toks/s]\n",
      "100%|██████████| 1/1 [00:01<00:00,  1.51s/it]\n"
     ]
    },
    {
     "name": "stdout",
     "output_type": "stream",
     "text": [
      "{'Reactants': ['1'], 'Product': ['2']}\n",
      "第49条数据\n"
     ]
    },
    {
     "name": "stderr",
     "output_type": "stream",
     "text": [
      "Processed prompts: 100%|██████████| 1/1 [00:02<00:00,  2.71s/it, Generation Speed: 7.39 toks/s]\n",
      "100%|██████████| 1/1 [00:02<00:00,  2.72s/it]\n"
     ]
    },
    {
     "name": "stdout",
     "output_type": "stream",
     "text": [
      "{'Reactants': ['1a', '2a'], 'Product': ['3a']}\n",
      "第50条数据\n"
     ]
    },
    {
     "name": "stderr",
     "output_type": "stream",
     "text": [
      "Processed prompts: 100%|██████████| 1/1 [00:02<00:00,  2.18s/it, Generation Speed: 9.18 toks/s]\n",
      "100%|██████████| 1/1 [00:02<00:00,  2.19s/it]\n"
     ]
    },
    {
     "name": "stdout",
     "output_type": "stream",
     "text": [
      "{'Reactants': ['2', 'I2O5'], 'Product': ['4']}\n",
      "第51条数据\n"
     ]
    },
    {
     "name": "stderr",
     "output_type": "stream",
     "text": [
      "Processed prompts: 100%|██████████| 1/1 [00:01<00:00,  1.85s/it, Generation Speed: 9.73 toks/s]\n",
      "100%|██████████| 1/1 [00:01<00:00,  1.86s/it]\n"
     ]
    },
    {
     "name": "stdout",
     "output_type": "stream",
     "text": [
      "{'Reactants': ['4', '1'], 'Product': ['5.']}\n",
      "第52条数据\n"
     ]
    },
    {
     "name": "stderr",
     "output_type": "stream",
     "text": [
      "Processed prompts: 100%|██████████| 1/1 [00:01<00:00,  1.87s/it, Generation Speed: 7.49 toks/s]\n",
      "100%|██████████| 1/1 [00:01<00:00,  1.88s/it]\n"
     ]
    },
    {
     "name": "stdout",
     "output_type": "stream",
     "text": [
      "{'Reactants': ['6'], 'Product': ['7']}\n"
     ]
    },
    {
     "name": "stderr",
     "output_type": "stream",
     "text": [
      "Processed prompts: 100%|██████████| 1/1 [00:02<00:00,  2.38s/it, Generation Speed: 8.85 toks/s]\n",
      "100%|██████████| 1/1 [00:02<00:00,  2.39s/it]\n"
     ]
    },
    {
     "name": "stdout",
     "output_type": "stream",
     "text": [
      "{'Reactants': ['cation 7', 'H2O'], 'Product': ['8']}\n",
      "第53条数据\n"
     ]
    },
    {
     "name": "stderr",
     "output_type": "stream",
     "text": [
      "Processed prompts: 100%|██████████| 1/1 [00:01<00:00,  1.87s/it, Generation Speed: 9.65 toks/s]\n",
      "100%|██████████| 1/1 [00:01<00:00,  1.88s/it]\n"
     ]
    },
    {
     "name": "stdout",
     "output_type": "stream",
     "text": [
      "{'Reactants': ['8', 'TBHP'], 'Product': ['3']}\n",
      "第54条数据\n",
      "第55条数据\n"
     ]
    },
    {
     "name": "stderr",
     "output_type": "stream",
     "text": [
      "Processed prompts: 100%|██████████| 1/1 [00:02<00:00,  2.25s/it, Generation Speed: 10.26 toks/s]\n",
      "100%|██████████| 1/1 [00:02<00:00,  2.25s/it]\n"
     ]
    },
    {
     "name": "stdout",
     "output_type": "stream",
     "text": [
      "{'Product': ['5'], 'Yield': ['28 %'], 'Time': ['2 h']}\n",
      "第56条数据\n",
      "第57条数据\n"
     ]
    },
    {
     "name": "stderr",
     "output_type": "stream",
     "text": [
      "Processed prompts: 100%|██████████| 1/1 [00:04<00:00,  4.43s/it, Generation Speed: 11.74 toks/s]\n",
      "100%|██████████| 1/1 [00:04<00:00,  4.44s/it]\n"
     ]
    },
    {
     "name": "stdout",
     "output_type": "stream",
     "text": [
      "{'Reactants': ['2 mol % palladium acetate', '2 mol % tris(2,6-dimeth- oxyphenyl)phosphineE(TDMPP)', 'THF'], 'Product': ['4a9']}\n",
      "第58条数据\n",
      "第59条数据\n"
     ]
    },
    {
     "name": "stderr",
     "output_type": "stream",
     "text": [
      "Processed prompts: 100%|██████████| 1/1 [00:03<00:00,  3.03s/it, Generation Speed: 8.93 toks/s]\n",
      "100%|██████████| 1/1 [00:03<00:00,  3.04s/it]\n"
     ]
    },
    {
     "name": "stdout",
     "output_type": "stream",
     "text": [
      "{'Reactants': ['2b'], 'Solvent': ['benzene'], 'Product': ['3bI0']}\n"
     ]
    },
    {
     "name": "stderr",
     "output_type": "stream",
     "text": [
      "Processed prompts: 100%|██████████| 1/1 [00:02<00:00,  2.27s/it, Generation Speed: 7.51 toks/s]\n",
      "100%|██████████| 1/1 [00:02<00:00,  2.28s/it]\n"
     ]
    },
    {
     "name": "stdout",
     "output_type": "stream",
     "text": [
      "{'Reactants': ['2b'], 'Product': ['5b.']}\n",
      "第60条数据\n",
      "第61条数据\n"
     ]
    },
    {
     "name": "stderr",
     "output_type": "stream",
     "text": [
      "Processed prompts: 100%|██████████| 1/1 [00:06<00:00,  6.18s/it, Generation Speed: 11.32 toks/s]\n",
      "100%|██████████| 1/1 [00:06<00:00,  6.19s/it]\n"
     ]
    },
    {
     "name": "stdout",
     "output_type": "stream",
     "text": [
      "{'Reactants': ['1a', '3a', 'K3PO4'], 'Solvent': ['DMF'], 'Temperature': ['110 ° C'], 'Time': ['15 min'], 'Yield': ['13 %'], 'Product': ['3-benzazepine']}\n"
     ]
    },
    {
     "name": "stderr",
     "output_type": "stream",
     "text": [
      "Processed prompts: 100%|██████████| 1/1 [00:06<00:00,  6.07s/it, Generation Speed: 10.88 toks/s]\n",
      "100%|██████████| 1/1 [00:06<00:00,  6.08s/it]\n"
     ]
    },
    {
     "name": "stdout",
     "output_type": "stream",
     "text": [
      "{'Reactants': ['1a', '3a', 'K3PO4'], 'Solvent': ['DMF'], 'Temperature': ['110 ° C'], 'Time': ['15 min'], 'Yield': ['13 %'], 'Product': ['4a']}\n",
      "第62条数据\n",
      "第63条数据\n"
     ]
    },
    {
     "name": "stderr",
     "output_type": "stream",
     "text": [
      "Processed prompts: 100%|██████████| 1/1 [00:02<00:00,  2.07s/it, Generation Speed: 9.67 toks/s]\n",
      "100%|██████████| 1/1 [00:02<00:00,  2.08s/it]\n"
     ]
    },
    {
     "name": "stdout",
     "output_type": "stream",
     "text": [
      "{'Reactants': ['11', '21'], 'Product': ['22']}\n",
      "第64条数据\n"
     ]
    },
    {
     "name": "stderr",
     "output_type": "stream",
     "text": [
      "Processed prompts: 100%|██████████| 1/1 [00:03<00:00,  3.65s/it, Generation Speed: 11.24 toks/s]\n",
      "100%|██████████| 1/1 [00:03<00:00,  3.66s/it]\n"
     ]
    },
    {
     "name": "stdout",
     "output_type": "stream",
     "text": [
      "{'Reactants': ['2a'], 'Solvent': ['toluene'], 'Temperature': [\"100 'C\"], 'Product': ['tri-tert-butylsilane']}\n",
      "第65条数据\n"
     ]
    },
    {
     "name": "stderr",
     "output_type": "stream",
     "text": [
      "Processed prompts: 100%|██████████| 1/1 [00:05<00:00,  5.27s/it, Generation Speed: 11.58 toks/s]\n",
      "100%|██████████| 1/1 [00:05<00:00,  5.28s/it]\n"
     ]
    },
    {
     "name": "stdout",
     "output_type": "stream",
     "text": [
      "{'Reactants': ['1r(CR = CRCR3.CR)(PPh3)2C1 ( 1-Cl , R = C02CH3)', '3-butyn-1-01'], 'Product': ['2,1 °']}\n"
     ]
    },
    {
     "name": "stderr",
     "output_type": "stream",
     "text": [
      "Processed prompts: 100%|██████████| 1/1 [00:02<00:00,  2.37s/it, Generation Speed: 9.30 toks/s]\n",
      "100%|██████████| 1/1 [00:02<00:00,  2.38s/it]\n"
     ]
    },
    {
     "name": "stdout",
     "output_type": "stream",
     "text": [
      "{'Reactants': ['1-C1', 'propargyl alcohol'], 'Product': ['3']}\n",
      "第66条数据\n"
     ]
    },
    {
     "name": "stderr",
     "output_type": "stream",
     "text": [
      "Processed prompts: 100%|██████████| 1/1 [00:03<00:00,  3.64s/it, Generation Speed: 11.27 toks/s]\n",
      "100%|██████████| 1/1 [00:03<00:00,  3.65s/it]\n"
     ]
    },
    {
     "name": "stdout",
     "output_type": "stream",
     "text": [
      "{'Reactants': ['2b', 'Me2- SiC12I7', 'Et20'], 'Temperature': ['-20 \" C'], 'Product': ['8']}\n"
     ]
    },
    {
     "name": "stderr",
     "output_type": "stream",
     "text": [
      "Processed prompts: 100%|██████████| 1/1 [00:03<00:00,  3.64s/it, Generation Speed: 11.26 toks/s]\n",
      "100%|██████████| 1/1 [00:03<00:00,  3.65s/it]"
     ]
    },
    {
     "name": "stdout",
     "output_type": "stream",
     "text": [
      "{'Reactants': ['2b', 'Me2- SiC12I7', 'Et20'], 'Temperature': ['-20 \" C'], 'Product': ['9']}\n",
      "TP, FP, FN 238 76 161\n",
      "NER:  precision, recall 0.7579617834394905 0.5964912280701754\n",
      "NER:  f1_score 0.667601683029453\n"
     ]
    },
    {
     "name": "stderr",
     "output_type": "stream",
     "text": [
      "\n"
     ]
    }
   ],
   "source": [
    "import os\n",
    "\n",
    "from evaluate import *\n",
    "from llm_re import *\n",
    "\n",
    "def main():\n",
    "    train_data,test_data=get_data()\n",
    "    \n",
    "    prev_dir='/data/lizh/ChemRxnExtractor-main/test_prev.json'\n",
    "    prev_data=read_json_file(prev_dir)\n",
    "    \n",
    "    prev_data2=chem_re(train_data,prev_data)\n",
    "    Reaction_f1(test_data,prev_data2)\n",
    "\n",
    "main()"
   ]
  },
  {
   "cell_type": "markdown",
   "metadata": {},
   "source": [
    "微调后的qwen2.5 72b\n",
    "TP, FP, FN 261 52 138\n",
    "NER:  precision, recall 0.8338658146964856 0.6541353383458647\n",
    "NER:  f1_score 0.7331460674157303"
   ]
  },
  {
   "cell_type": "code",
   "execution_count": 1,
   "metadata": {},
   "outputs": [
    {
     "name": "stderr",
     "output_type": "stream",
     "text": [
      "/data/lizh/Conda/anaconda3/envs/vllm/lib/python3.9/site-packages/tqdm/auto.py:21: TqdmWarning: IProgress not found. Please update jupyter and ipywidgets. See https://ipywidgets.readthedocs.io/en/stable/user_install.html\n",
      "  from .autonotebook import tqdm as notebook_tqdm\n",
      "2024-12-11 20:08:31,033\tINFO util.py:154 -- Missing packages: ['ipywidgets']. Run `pip install -U ipywidgets`, then restart the notebook server for rich notebook output.\n",
      "2024-12-11 20:08:34,153\tINFO worker.py:1771 -- Started a local Ray instance.\n"
     ]
    },
    {
     "name": "stdout",
     "output_type": "stream",
     "text": [
      "INFO 12-11 20:08:35 llm_engine.py:161] Initializing an LLM engine (v0.4.3) with config: model='/data/lizh/LLaMA-Factory-main/models/qwen2.5_72b_reaction_sft', speculative_config=None, tokenizer='/data/lizh/LLaMA-Factory-main/models/qwen2.5_72b_reaction_sft', skip_tokenizer_init=False, tokenizer_mode=auto, revision=None, rope_scaling=None, tokenizer_revision=None, trust_remote_code=False, dtype=torch.bfloat16, max_seq_len=32768, download_dir=None, load_format=LoadFormat.AUTO, tensor_parallel_size=4, disable_custom_all_reduce=False, quantization=None, enforce_eager=False, kv_cache_dtype=auto, quantization_param_path=None, device_config=cuda, decoding_config=DecodingConfig(guided_decoding_backend='outlines'), seed=0, served_model_name=/data/lizh/LLaMA-Factory-main/models/qwen2.5_72b_reaction_sft)\n",
      "INFO 12-11 20:08:51 utils.py:618] Found nccl from library libnccl.so.2\n",
      "INFO 12-11 20:08:51 pynccl.py:65] vLLM is using nccl==2.20.5\n",
      "\u001b[36m(RayWorkerWrapper pid=1136144)\u001b[0m INFO 12-11 20:08:51 utils.py:618] Found nccl from library libnccl.so.2\n",
      "\u001b[36m(RayWorkerWrapper pid=1136144)\u001b[0m INFO 12-11 20:08:51 pynccl.py:65] vLLM is using nccl==2.20.5\n",
      "WARNING 12-11 20:08:52 custom_all_reduce.py:158] Custom allreduce is disabled because it's not supported on more than two PCIe-only GPUs. To silence this warning, specify disable_custom_all_reduce=True explicitly.\n",
      "\u001b[36m(RayWorkerWrapper pid=1136144)\u001b[0m WARNING 12-11 20:08:52 custom_all_reduce.py:158] Custom allreduce is disabled because it's not supported on more than two PCIe-only GPUs. To silence this warning, specify disable_custom_all_reduce=True explicitly.\n",
      "INFO 12-11 20:09:09 model_runner.py:146] Loading model weights took 33.9833 GB\n",
      "\u001b[36m(RayWorkerWrapper pid=1136376)\u001b[0m INFO 12-11 20:09:12 model_runner.py:146] Loading model weights took 33.9833 GB\n",
      "\u001b[36m(RayWorkerWrapper pid=1136376)\u001b[0m INFO 12-11 20:08:51 utils.py:618] Found nccl from library libnccl.so.2\u001b[32m [repeated 2x across cluster] (Ray deduplicates logs by default. Set RAY_DEDUP_LOGS=0 to disable log deduplication, or see https://docs.ray.io/en/master/ray-observability/user-guides/configure-logging.html#log-deduplication for more options.)\u001b[0m\n",
      "\u001b[36m(RayWorkerWrapper pid=1136376)\u001b[0m INFO 12-11 20:08:51 pynccl.py:65] vLLM is using nccl==2.20.5\u001b[32m [repeated 2x across cluster]\u001b[0m\n",
      "\u001b[36m(RayWorkerWrapper pid=1136376)\u001b[0m WARNING 12-11 20:08:52 custom_all_reduce.py:158] Custom allreduce is disabled because it's not supported on more than two PCIe-only GPUs. To silence this warning, specify disable_custom_all_reduce=True explicitly.\u001b[32m [repeated 2x across cluster]\u001b[0m\n",
      "\u001b[36m(RayWorkerWrapper pid=1136144)\u001b[0m INFO 12-11 20:09:17 model_runner.py:146] Loading model weights took 33.9833 GB\u001b[32m [repeated 2x across cluster]\u001b[0m\n",
      "INFO 12-11 20:10:09 distributed_gpu_executor.py:56] # GPU blocks: 20667, # CPU blocks: 3276\n",
      "\u001b[36m(RayWorkerWrapper pid=1136294)\u001b[0m INFO 12-11 20:10:14 model_runner.py:854] Capturing the model for CUDA graphs. This may lead to unexpected consequences if the model is not static. To run the model in eager mode, set 'enforce_eager=True' or use '--enforce-eager' in the CLI.\n",
      "\u001b[36m(RayWorkerWrapper pid=1136294)\u001b[0m INFO 12-11 20:10:14 model_runner.py:858] CUDA graphs can take additional 1~3 GiB memory per GPU. If you are running out of memory, consider decreasing `gpu_memory_utilization` or enforcing eager mode. You can also reduce the `max_num_seqs` as needed to decrease memory usage.\n",
      "INFO 12-11 20:10:16 model_runner.py:854] Capturing the model for CUDA graphs. This may lead to unexpected consequences if the model is not static. To run the model in eager mode, set 'enforce_eager=True' or use '--enforce-eager' in the CLI.\n",
      "INFO 12-11 20:10:16 model_runner.py:858] CUDA graphs can take additional 1~3 GiB memory per GPU. If you are running out of memory, consider decreasing `gpu_memory_utilization` or enforcing eager mode. You can also reduce the `max_num_seqs` as needed to decrease memory usage.\n",
      "\u001b[36m(RayWorkerWrapper pid=1136294)\u001b[0m INFO 12-11 20:10:48 model_runner.py:924] Graph capturing finished in 34 secs.\n",
      "\u001b[36m(RayWorkerWrapper pid=1136144)\u001b[0m INFO 12-11 20:10:15 model_runner.py:854] Capturing the model for CUDA graphs. This may lead to unexpected consequences if the model is not static. To run the model in eager mode, set 'enforce_eager=True' or use '--enforce-eager' in the CLI.\u001b[32m [repeated 2x across cluster]\u001b[0m\n",
      "\u001b[36m(RayWorkerWrapper pid=1136144)\u001b[0m INFO 12-11 20:10:15 model_runner.py:858] CUDA graphs can take additional 1~3 GiB memory per GPU. If you are running out of memory, consider decreasing `gpu_memory_utilization` or enforcing eager mode. You can also reduce the `max_num_seqs` as needed to decrease memory usage.\u001b[32m [repeated 2x across cluster]\u001b[0m\n",
      "INFO 12-11 20:10:48 model_runner.py:924] Graph capturing finished in 32 secs.\n",
      "第0条数据\n"
     ]
    },
    {
     "name": "stderr",
     "output_type": "stream",
     "text": [
      "Processed prompts: 100%|██████████| 1/1 [00:04<00:00,  4.83s/it, Generation Speed: 7.45 toks/s]\n",
      "100%|██████████| 1/1 [00:04<00:00,  4.91s/it]\n"
     ]
    },
    {
     "name": "stdout",
     "output_type": "stream",
     "text": [
      "{'Reactants': ['diphenylacetylene', '19A'], 'Product': ['23A'], 'Yield': ['30 %']}\n"
     ]
    },
    {
     "name": "stderr",
     "output_type": "stream",
     "text": [
      "Processed prompts: 100%|██████████| 1/1 [00:04<00:00,  4.49s/it, Generation Speed: 7.79 toks/s]\n",
      "100%|██████████| 1/1 [00:04<00:00,  4.51s/it]\n"
     ]
    },
    {
     "name": "stdout",
     "output_type": "stream",
     "text": [
      "{'Reactants': ['diphenylacetylene', '19B'], 'Product': ['25'], 'Yield': ['53 %']}\n",
      "第1条数据\n"
     ]
    },
    {
     "name": "stderr",
     "output_type": "stream",
     "text": [
      "Processed prompts: 100%|██████████| 1/1 [00:07<00:00,  7.49s/it, Generation Speed: 9.62 toks/s]\n",
      "100%|██████████| 1/1 [00:07<00:00,  7.50s/it]\n"
     ]
    },
    {
     "name": "stdout",
     "output_type": "stream",
     "text": [
      "{'Catalyst_Reagents': ['copper acetate'], 'Solvent': ['DMSO'], 'Product': ['2-(3-(methylthio)naphthalen-2-yl)pyridine'], 'Yield': ['89 %'], 'Temperature': ['125 ° C']}\n"
     ]
    },
    {
     "name": "stderr",
     "output_type": "stream",
     "text": [
      "Processed prompts: 100%|██████████| 1/1 [00:06<00:00,  6.17s/it, Generation Speed: 8.77 toks/s]\n",
      "100%|██████████| 1/1 [00:06<00:00,  6.18s/it]\n"
     ]
    },
    {
     "name": "stdout",
     "output_type": "stream",
     "text": [
      "{'Catalyst_Reagents': ['copper acetate'], 'Solvent': ['DMSO'], 'Product': ['2b'], 'Yield': ['89 %'], 'Temperature': ['125 ° C']}\n",
      "第2条数据\n"
     ]
    },
    {
     "name": "stderr",
     "output_type": "stream",
     "text": [
      "Processed prompts: 100%|██████████| 1/1 [00:03<00:00,  3.71s/it, Generation Speed: 7.82 toks/s]\n",
      "100%|██████████| 1/1 [00:03<00:00,  3.73s/it]\n"
     ]
    },
    {
     "name": "stdout",
     "output_type": "stream",
     "text": [
      "{'Reactants': ['Me3SiCH2MgC1', '02'], 'Product': ['Me3SiOH']}\n"
     ]
    },
    {
     "name": "stderr",
     "output_type": "stream",
     "text": [
      "Processed prompts: 100%|██████████| 1/1 [00:03<00:00,  3.98s/it, Generation Speed: 8.04 toks/s]\n",
      "100%|██████████| 1/1 [00:03<00:00,  4.00s/it]\n"
     ]
    },
    {
     "name": "stdout",
     "output_type": "stream",
     "text": [
      "{'Reactants': ['Me3SiCH2MgC1', '02'], 'Product': ['(Me3Si)20']}\n"
     ]
    },
    {
     "name": "stderr",
     "output_type": "stream",
     "text": [
      "Processed prompts: 100%|██████████| 1/1 [00:04<00:00,  4.12s/it, Generation Speed: 7.52 toks/s]\n",
      "100%|██████████| 1/1 [00:04<00:00,  4.14s/it]\n"
     ]
    },
    {
     "name": "stdout",
     "output_type": "stream",
     "text": [
      "{'Reactants': ['Me3SiCH2MgC1', '02'], 'Product': ['CH20.22']}\n",
      "第3条数据\n"
     ]
    },
    {
     "name": "stderr",
     "output_type": "stream",
     "text": [
      "Processed prompts: 100%|██████████| 1/1 [00:05<00:00,  5.27s/it, Generation Speed: 8.73 toks/s]\n",
      "100%|██████████| 1/1 [00:05<00:00,  5.29s/it]\n"
     ]
    },
    {
     "name": "stdout",
     "output_type": "stream",
     "text": [
      "{'Reactants': ['8', 'acetone'], 'Catalyst_Reagents': ['trifluoroacetic acid-tri- fluoroacetic anhydride'], 'Product': ['9.']}\n",
      "第4条数据\n"
     ]
    },
    {
     "name": "stderr",
     "output_type": "stream",
     "text": [
      "Processed prompts: 100%|██████████| 1/1 [00:05<00:00,  5.02s/it, Generation Speed: 5.98 toks/s]\n",
      "100%|██████████| 1/1 [00:05<00:00,  5.04s/it]\n"
     ]
    },
    {
     "name": "stdout",
     "output_type": "stream",
     "text": [
      "{'Reactants': ['10', 'triflic anhydride-pyridine.'], 'Product': ['11']}\n"
     ]
    },
    {
     "name": "stderr",
     "output_type": "stream",
     "text": [
      "Processed prompts: 100%|██████████| 1/1 [00:07<00:00,  7.87s/it, Generation Speed: 8.39 toks/s]\n",
      "100%|██████████| 1/1 [00:07<00:00,  7.89s/it]\n"
     ]
    },
    {
     "name": "stdout",
     "output_type": "stream",
     "text": [
      "{'Reactants': ['11', '1-heptyne'], 'Catalyst_Reagents': ['bis(triphenylphosphine)palladium(II) chloride', 'triethylamine- DMF)8'], 'Yield': ['68 %'], 'Product': ['12.']}\n",
      "第5条数据\n"
     ]
    },
    {
     "name": "stderr",
     "output_type": "stream",
     "text": [
      "Processed prompts: 100%|██████████| 1/1 [00:03<00:00,  3.62s/it, Generation Speed: 6.92 toks/s]\n",
      "100%|██████████| 1/1 [00:03<00:00,  3.63s/it]\n"
     ]
    },
    {
     "name": "stdout",
     "output_type": "stream",
     "text": [
      "{'Reactants': ['12'], 'Product': ['13'], 'Yield': ['-loo %']}\n"
     ]
    },
    {
     "name": "stderr",
     "output_type": "stream",
     "text": [
      "Processed prompts: 100%|██████████| 1/1 [00:04<00:00,  4.80s/it, Generation Speed: 8.13 toks/s]\n",
      "100%|██████████| 1/1 [00:04<00:00,  4.81s/it]\n"
     ]
    },
    {
     "name": "stdout",
     "output_type": "stream",
     "text": [
      "{'Reactants': ['13', 'KOH - DMSO'], 'Temperature': ['120 OC'], 'Product': ['5-heptylresorcinolg']}\n"
     ]
    },
    {
     "name": "stderr",
     "output_type": "stream",
     "text": [
      "Processed prompts: 100%|██████████| 1/1 [00:05<00:00,  5.16s/it, Generation Speed: 8.15 toks/s]\n",
      "100%|██████████| 1/1 [00:05<00:00,  5.18s/it]\n"
     ]
    },
    {
     "name": "stdout",
     "output_type": "stream",
     "text": [
      "{'Reactants': ['13', 'KOH - DMSO'], 'Temperature': ['120 OC'], 'Product': ['14'], 'Yield': ['90 %']}\n",
      "第6条数据\n"
     ]
    },
    {
     "name": "stderr",
     "output_type": "stream",
     "text": [
      "Processed prompts: 100%|██████████| 1/1 [00:04<00:00,  4.17s/it, Generation Speed: 7.93 toks/s]\n",
      "100%|██████████| 1/1 [00:04<00:00,  4.18s/it]\n"
     ]
    },
    {
     "name": "stdout",
     "output_type": "stream",
     "text": [
      "{'Reactants': ['13', 'lithium benzyl oxide'], 'Solvent': ['THF'], 'Product': ['15.']}\n",
      "第7条数据\n"
     ]
    },
    {
     "name": "stderr",
     "output_type": "stream",
     "text": [
      "Processed prompts: 100%|██████████| 1/1 [00:04<00:00,  4.39s/it, Generation Speed: 8.66 toks/s]\n",
      "100%|██████████| 1/1 [00:04<00:00,  4.40s/it]\n"
     ]
    },
    {
     "name": "stdout",
     "output_type": "stream",
     "text": [
      "{'Reactants': ['16', 'j3-(trimethylsilyl)ethanol'], 'Product': ['17'], 'Yield': ['80 %']}\n",
      "第8条数据\n"
     ]
    },
    {
     "name": "stderr",
     "output_type": "stream",
     "text": [
      "Processed prompts: 100%|██████████| 1/1 [00:06<00:00,  6.58s/it, Generation Speed: 9.13 toks/s]\n",
      "100%|██████████| 1/1 [00:06<00:00,  6.59s/it]\n"
     ]
    },
    {
     "name": "stdout",
     "output_type": "stream",
     "text": [
      "{'Reactants': ['17', '18'], 'Catalyst_Reagents': ['K2C03', '18-crown-6'], 'Solvent': ['acetone'], 'Yield': ['81 %'], 'Product': ['19.']}\n",
      "第9条数据\n"
     ]
    },
    {
     "name": "stderr",
     "output_type": "stream",
     "text": [
      "Processed prompts: 100%|██████████| 1/1 [00:05<00:00,  5.17s/it, Generation Speed: 8.52 toks/s]\n",
      "100%|██████████| 1/1 [00:05<00:00,  5.18s/it]\n"
     ]
    },
    {
     "name": "stdout",
     "output_type": "stream",
     "text": [
      "{'Reactants': ['10', 'bromotrimethylsilane', 'TMSBr'], 'Catalyst_Reagents': ['phosphorylation'], 'Product': ['11.']}\n",
      "第10条数据\n"
     ]
    },
    {
     "name": "stderr",
     "output_type": "stream",
     "text": [
      "Processed prompts: 100%|██████████| 1/1 [00:04<00:00,  4.32s/it, Generation Speed: 7.41 toks/s]\n",
      "100%|██████████| 1/1 [00:04<00:00,  4.34s/it]\n"
     ]
    },
    {
     "name": "stdout",
     "output_type": "stream",
     "text": [
      "{'Reactants': ['2', 'pyridinium bromide perbromidel8', 'acetic acid'], 'Product': ['3.']}\n",
      "第11条数据\n"
     ]
    },
    {
     "name": "stderr",
     "output_type": "stream",
     "text": [
      "Processed prompts: 100%|██████████| 1/1 [00:04<00:00,  4.90s/it, Generation Speed: 8.78 toks/s]\n",
      "100%|██████████| 1/1 [00:04<00:00,  4.92s/it]\n"
     ]
    },
    {
     "name": "stdout",
     "output_type": "stream",
     "text": [
      "{'Reactants': ['ethyl 3,3-diamino-2-propenoatelg', '4', '2.'], 'Product': ['1'], 'Yield': ['58 %']}\n",
      "第12条数据\n"
     ]
    },
    {
     "name": "stderr",
     "output_type": "stream",
     "text": [
      "Processed prompts: 100%|██████████| 1/1 [00:06<00:00,  6.05s/it, Generation Speed: 7.11 toks/s]\n",
      "100%|██████████| 1/1 [00:06<00:00,  6.07s/it]\n"
     ]
    },
    {
     "name": "stdout",
     "output_type": "stream",
     "text": [
      "{'Reactants': ['6', 'n- butyllithium', 'n-BuLi'], 'Solvent': ['hexane', 'cyclopentane'], 'Product': ['4']}\n",
      "第13条数据\n"
     ]
    },
    {
     "name": "stderr",
     "output_type": "stream",
     "text": [
      "Processed prompts: 100%|██████████| 1/1 [00:02<00:00,  2.81s/it, Generation Speed: 5.35 toks/s]\n",
      "100%|██████████| 1/1 [00:02<00:00,  2.82s/it]\n"
     ]
    },
    {
     "name": "stdout",
     "output_type": "stream",
     "text": [
      "{'Reactants': ['1'], 'Product': ['2.']}\n",
      "第14条数据\n"
     ]
    },
    {
     "name": "stderr",
     "output_type": "stream",
     "text": [
      "Processed prompts: 100%|██████████| 1/1 [00:04<00:00,  4.16s/it, Generation Speed: 6.50 toks/s]\n",
      "100%|██████████| 1/1 [00:04<00:00,  4.17s/it]\n"
     ]
    },
    {
     "name": "stdout",
     "output_type": "stream",
     "text": [
      "{'Product': ['1'], 'Reactants': ['2s', '3'], 'Solvent': ['CHCI,']}\n",
      "第15条数据\n"
     ]
    },
    {
     "name": "stderr",
     "output_type": "stream",
     "text": [
      "Processed prompts: 100%|██████████| 1/1 [00:03<00:00,  3.31s/it, Generation Speed: 6.66 toks/s]\n",
      "100%|██████████| 1/1 [00:03<00:00,  3.32s/it]\n"
     ]
    },
    {
     "name": "stdout",
     "output_type": "stream",
     "text": [
      "{'Product': ['3'], 'Reactants': ['46', '5.7-8']}\n",
      "第16条数据\n"
     ]
    },
    {
     "name": "stderr",
     "output_type": "stream",
     "text": [
      "Processed prompts: 100%|██████████| 1/1 [00:04<00:00,  4.86s/it, Generation Speed: 7.41 toks/s]\n",
      "100%|██████████| 1/1 [00:04<00:00,  4.87s/it]\n"
     ]
    },
    {
     "name": "stdout",
     "output_type": "stream",
     "text": [
      "{'Solvent': ['acetone'], 'Yield': ['22 %'], 'Product': ['3-ﬂuoropentadecane']}\n",
      "第17条数据\n"
     ]
    },
    {
     "name": "stderr",
     "output_type": "stream",
     "text": [
      "Processed prompts: 100%|██████████| 1/1 [00:05<00:00,  5.02s/it, Generation Speed: 5.98 toks/s]\n",
      "100%|██████████| 1/1 [00:05<00:00,  5.03s/it]\n"
     ]
    },
    {
     "name": "stdout",
     "output_type": "stream",
     "text": [
      "{'Product': ['7'], 'Yield': ['55 %'], 'Reactants': ['N-acetyl+ galactosamine']}\n",
      "第18条数据\n"
     ]
    },
    {
     "name": "stderr",
     "output_type": "stream",
     "text": [
      "Processed prompts: 100%|██████████| 1/1 [00:05<00:00,  5.99s/it, Generation Speed: 6.68 toks/s]\n",
      "100%|██████████| 1/1 [00:06<00:00,  6.01s/it]\n"
     ]
    },
    {
     "name": "stdout",
     "output_type": "stream",
     "text": [
      "{'Reactants': ['5'], 'Catalyst_Reagents': ['MeMgBr', '1'], 'Product': ['10'], 'Yield': ['70 %']}\n",
      "第19条数据\n",
      "第20条数据\n"
     ]
    },
    {
     "name": "stderr",
     "output_type": "stream",
     "text": [
      "Processed prompts: 100%|██████████| 1/1 [00:06<00:00,  6.02s/it, Generation Speed: 7.32 toks/s]\n",
      "100%|██████████| 1/1 [00:06<00:00,  6.04s/it]\n"
     ]
    },
    {
     "name": "stdout",
     "output_type": "stream",
     "text": [
      "{'Reactants': ['pivalonitrile', 'titanacyclobutane', '1', 'Tebbe ’s reagent'], 'Product': ['3']}\n",
      "第21条数据\n",
      "第22条数据\n",
      "第23条数据\n"
     ]
    },
    {
     "name": "stderr",
     "output_type": "stream",
     "text": [
      "Processed prompts: 100%|██████████| 1/1 [00:02<00:00,  2.33s/it, Generation Speed: 4.29 toks/s]\n",
      "100%|██████████| 1/1 [00:02<00:00,  2.35s/it]\n"
     ]
    },
    {
     "name": "stdout",
     "output_type": "stream",
     "text": [
      "{'Product': [\"7,'4b\"]}\n"
     ]
    },
    {
     "name": "stderr",
     "output_type": "stream",
     "text": [
      "Processed prompts: 100%|██████████| 1/1 [00:04<00:00,  4.76s/it, Generation Speed: 7.99 toks/s]\n",
      "100%|██████████| 1/1 [00:04<00:00,  4.77s/it]\n"
     ]
    },
    {
     "name": "stdout",
     "output_type": "stream",
     "text": [
      "{'Catalyst_Reagents': ['zirconium-'], 'Reactants': ['10'], 'Product': ['11'], 'Yield': ['60 %']}\n",
      "第24条数据\n"
     ]
    },
    {
     "name": "stderr",
     "output_type": "stream",
     "text": [
      "Processed prompts: 100%|██████████| 1/1 [00:03<00:00,  3.72s/it, Generation Speed: 7.54 toks/s]\n",
      "100%|██████████| 1/1 [00:03<00:00,  3.73s/it]\n"
     ]
    },
    {
     "name": "stdout",
     "output_type": "stream",
     "text": [
      "{'Reactants': ['13', 'catecholborane'], 'Product': ['8'], 'Temperature': ['room']}\n",
      "第25条数据\n"
     ]
    },
    {
     "name": "stderr",
     "output_type": "stream",
     "text": [
      "Processed prompts: 100%|██████████| 1/1 [00:06<00:00,  6.84s/it, Generation Speed: 4.10 toks/s]\n",
      "100%|██████████| 1/1 [00:06<00:00,  6.86s/it]\n"
     ]
    },
    {
     "name": "stdout",
     "output_type": "stream",
     "text": [
      "{'Reactants': ['5-cyclononynone', \"lO),'l\"], 'Product': ['11']}\n"
     ]
    },
    {
     "name": "stderr",
     "output_type": "stream",
     "text": [
      "Processed prompts: 100%|██████████| 1/1 [00:05<00:00,  5.79s/it, Generation Speed: 4.84 toks/s]\n",
      "100%|██████████| 1/1 [00:05<00:00,  5.81s/it]\n"
     ]
    },
    {
     "name": "stdout",
     "output_type": "stream",
     "text": [
      "{'Reactants': ['5-cyclononynone', \"lO)'l\"], 'Product': ['12']}\n",
      "第26条数据\n"
     ]
    },
    {
     "name": "stderr",
     "output_type": "stream",
     "text": [
      "Processed prompts: 100%|██████████| 1/1 [00:01<00:00,  1.82s/it, Generation Speed: 3.86 toks/s]\n",
      "100%|██████████| 1/1 [00:01<00:00,  1.83s/it]\n"
     ]
    },
    {
     "name": "stdout",
     "output_type": "stream",
     "text": [
      "{'Product': ['3']}\n",
      "第27条数据\n"
     ]
    },
    {
     "name": "stderr",
     "output_type": "stream",
     "text": [
      "Processed prompts: 100%|██████████| 1/1 [00:03<00:00,  3.84s/it, Generation Speed: 6.52 toks/s]\n",
      "100%|██████████| 1/1 [00:03<00:00,  3.85s/it]\n"
     ]
    },
    {
     "name": "stdout",
     "output_type": "stream",
     "text": [
      "{'Reactants': ['5-cyclodecynone', '13'], 'Product': ['14']}\n"
     ]
    },
    {
     "name": "stderr",
     "output_type": "stream",
     "text": [
      "Processed prompts: 100%|██████████| 1/1 [00:03<00:00,  3.94s/it, Generation Speed: 6.61 toks/s]\n",
      "100%|██████████| 1/1 [00:03<00:00,  3.95s/it]\n"
     ]
    },
    {
     "name": "stdout",
     "output_type": "stream",
     "text": [
      "{'Reactants': ['5-cyclodecynone', '13'], 'Product': ['16.']}\n",
      "第28条数据\n",
      "第29条数据\n"
     ]
    },
    {
     "name": "stderr",
     "output_type": "stream",
     "text": [
      "Processed prompts: 100%|██████████| 1/1 [00:04<00:00,  4.31s/it, Generation Speed: 8.58 toks/s]\n",
      "100%|██████████| 1/1 [00:04<00:00,  4.33s/it]\n"
     ]
    },
    {
     "name": "stdout",
     "output_type": "stream",
     "text": [
      "{'Reactants': ['23'], 'Catalyst_Reagents': ['NaBH4'], 'Product': ['24'], 'Yield': ['98 %']}\n",
      "第30条数据\n",
      "第31条数据\n",
      "第32条数据\n"
     ]
    },
    {
     "name": "stderr",
     "output_type": "stream",
     "text": [
      "Processed prompts: 100%|██████████| 1/1 [00:03<00:00,  3.64s/it, Generation Speed: 8.53 toks/s]\n",
      "100%|██████████| 1/1 [00:03<00:00,  3.65s/it]\n"
     ]
    },
    {
     "name": "stdout",
     "output_type": "stream",
     "text": [
      "{'Reactants': ['p proline', 'formic acid', 'acetic anhydride.'], 'Product': ['25']}\n",
      "第33条数据\n"
     ]
    },
    {
     "name": "stderr",
     "output_type": "stream",
     "text": [
      "Processed prompts: 100%|██████████| 1/1 [00:04<00:00,  4.81s/it, Generation Speed: 8.73 toks/s]\n",
      "100%|██████████| 1/1 [00:04<00:00,  4.83s/it]\n"
     ]
    },
    {
     "name": "stdout",
     "output_type": "stream",
     "text": [
      "{'Catalyst_Reagents': ['lithium aluminum hydride'], 'Product': ['(S)-2-(hy- droxymethy1)-1 methylpyrrolidine']}\n"
     ]
    },
    {
     "name": "stderr",
     "output_type": "stream",
     "text": [
      "Processed prompts: 100%|██████████| 1/1 [00:03<00:00,  3.27s/it, Generation Speed: 7.34 toks/s]\n",
      "100%|██████████| 1/1 [00:03<00:00,  3.29s/it]\n"
     ]
    },
    {
     "name": "stdout",
     "output_type": "stream",
     "text": [
      "{'Catalyst_Reagents': ['lithium aluminum hydride'], 'Product': ['26']}\n",
      "第34条数据\n"
     ]
    },
    {
     "name": "stderr",
     "output_type": "stream",
     "text": [
      "Processed prompts: 100%|██████████| 1/1 [00:05<00:00,  5.19s/it, Generation Speed: 7.13 toks/s]\n",
      "100%|██████████| 1/1 [00:05<00:00,  5.20s/it]\n"
     ]
    },
    {
     "name": "stdout",
     "output_type": "stream",
     "text": [
      "{'Product': ['2-(chloromethyl)-l'], 'Reactants': ['27', 'thionyl chloride'], 'Solvent': ['chloroform.']}\n"
     ]
    },
    {
     "name": "stderr",
     "output_type": "stream",
     "text": [
      "Processed prompts: 100%|██████████| 1/1 [00:05<00:00,  5.68s/it, Generation Speed: 7.39 toks/s]\n",
      "100%|██████████| 1/1 [00:05<00:00,  5.70s/it]\n"
     ]
    },
    {
     "name": "stdout",
     "output_type": "stream",
     "text": [
      "{'Product': ['27'], 'Reactants': ['2-(chloromethyl)-l methylpyrrolidine', 'thionyl chloride'], 'Solvent': ['chloroform.']}\n",
      "第35条数据\n"
     ]
    },
    {
     "name": "stderr",
     "output_type": "stream",
     "text": [
      "Processed prompts: 100%|██████████| 1/1 [00:03<00:00,  3.72s/it, Generation Speed: 8.62 toks/s]\n",
      "100%|██████████| 1/1 [00:03<00:00,  3.73s/it]\n"
     ]
    },
    {
     "name": "stdout",
     "output_type": "stream",
     "text": [
      "{'Product': ['30'], 'Catalyst_Reagents': ['sodium cyanide'], 'Solvent': ['80 % ethanol.']}\n",
      "第36条数据\n"
     ]
    },
    {
     "name": "stderr",
     "output_type": "stream",
     "text": [
      "Processed prompts: 100%|██████████| 1/1 [00:03<00:00,  3.49s/it, Generation Speed: 8.33 toks/s]\n",
      "100%|██████████| 1/1 [00:03<00:00,  3.50s/it]\n"
     ]
    },
    {
     "name": "stdout",
     "output_type": "stream",
     "text": [
      "{'Catalyst_Reagents': ['HCI'], 'Product': ['1 -methylpyrrolidine-2-acetic acid']}\n"
     ]
    },
    {
     "name": "stderr",
     "output_type": "stream",
     "text": [
      "Processed prompts: 100%|██████████| 1/1 [00:02<00:00,  2.69s/it, Generation Speed: 6.70 toks/s]\n",
      "100%|██████████| 1/1 [00:02<00:00,  2.70s/it]\n"
     ]
    },
    {
     "name": "stdout",
     "output_type": "stream",
     "text": [
      "{'Catalyst_Reagents': ['HCI'], 'Product': ['33']}\n",
      "第37条数据\n"
     ]
    },
    {
     "name": "stderr",
     "output_type": "stream",
     "text": [
      "Processed prompts: 100%|██████████| 1/1 [00:07<00:00,  7.42s/it, Generation Speed: 8.63 toks/s]\n",
      "100%|██████████| 1/1 [00:07<00:00,  7.43s/it]\n"
     ]
    },
    {
     "name": "stdout",
     "output_type": "stream",
     "text": [
      "{'Reactants': ['sodium [1,2-13C2]acetate', 'sodium [IJ4C]acetate', 'trimethyl phosphate'], 'Product': [\"methyl [ 1,2- ' 3C2,1-14C]acetate\"]}\n"
     ]
    },
    {
     "name": "stderr",
     "output_type": "stream",
     "text": [
      "Processed prompts: 100%|██████████| 1/1 [00:05<00:00,  5.66s/it, Generation Speed: 7.60 toks/s]\n",
      "100%|██████████| 1/1 [00:05<00:00,  5.67s/it]\n"
     ]
    },
    {
     "name": "stdout",
     "output_type": "stream",
     "text": [
      "{'Reactants': ['sodium [1,2-13C2]acetate', 'sodium [IJ4C]acetate', 'trimethyl phosphate'], 'Product': ['B']}\n"
     ]
    },
    {
     "name": "stderr",
     "output_type": "stream",
     "text": [
      "Processed prompts: 100%|██████████| 1/1 [00:05<00:00,  5.25s/it, Generation Speed: 7.44 toks/s]\n",
      "100%|██████████| 1/1 [00:05<00:00,  5.26s/it]\n"
     ]
    },
    {
     "name": "stdout",
     "output_type": "stream",
     "text": [
      "{'Reactants': [\"methyl [ 1,2- ' 3C2,1-14C]acetate\", 'B'], 'Product': ['29']}\n",
      "第38条数据\n"
     ]
    },
    {
     "name": "stderr",
     "output_type": "stream",
     "text": [
      "Processed prompts: 100%|██████████| 1/1 [00:03<00:00,  3.97s/it, Generation Speed: 6.55 toks/s]\n",
      "100%|██████████| 1/1 [00:03<00:00,  3.99s/it]\n"
     ]
    },
    {
     "name": "stdout",
     "output_type": "stream",
     "text": [
      "{'Product': ['1 -methyl-2-pyrrolidinyl)-3-oxobutanoate']}\n"
     ]
    },
    {
     "name": "stderr",
     "output_type": "stream",
     "text": [
      "Processed prompts: 100%|██████████| 1/1 [00:02<00:00,  2.43s/it, Generation Speed: 3.30 toks/s]\n",
      "100%|██████████| 1/1 [00:02<00:00,  2.44s/it]\n"
     ]
    },
    {
     "name": "stdout",
     "output_type": "stream",
     "text": [
      "{'Product': ['31']}\n",
      "第39条数据\n"
     ]
    },
    {
     "name": "stderr",
     "output_type": "stream",
     "text": [
      "Processed prompts: 100%|██████████| 1/1 [00:03<00:00,  3.62s/it, Generation Speed: 8.29 toks/s]\n",
      "100%|██████████| 1/1 [00:03<00:00,  3.63s/it]\n"
     ]
    },
    {
     "name": "stdout",
     "output_type": "stream",
     "text": [
      "{'Reactants': ['3a'], 'Solvent': ['water'], 'Product': ['4a'], 'Yield': ['high']}\n",
      "第40条数据\n"
     ]
    },
    {
     "name": "stderr",
     "output_type": "stream",
     "text": [
      "Processed prompts: 100%|██████████| 1/1 [00:07<00:00,  7.14s/it, Generation Speed: 9.52 toks/s]\n",
      "100%|██████████| 1/1 [00:07<00:00,  7.16s/it]\n"
     ]
    },
    {
     "name": "stdout",
     "output_type": "stream",
     "text": [
      "{'Reactants': ['3a'], 'Solvent': ['water'], 'Catalyst_Reagents': ['triethylborane'], 'Temperature': ['25 ( cid : 176 ) C'], 'Time': ['3 h'], 'Product': ['4a'], 'Yield': ['67 %']}\n",
      "第41条数据\n"
     ]
    },
    {
     "name": "stderr",
     "output_type": "stream",
     "text": [
      "Processed prompts: 100%|██████████| 1/1 [00:12<00:00, 13.00s/it, Generation Speed: 9.00 toks/s]\n",
      "100%|██████████| 1/1 [00:13<00:00, 13.02s/it]\n"
     ]
    },
    {
     "name": "stdout",
     "output_type": "stream",
     "text": [
      "{'Product': ['3-phenylquinolin-4(1H)-one'], 'Reactants': ['3-iodo- 1-methylquinolin-4(1H)-one', '4', 'phenylboronic acid', '8a'], 'Catalyst_Reagents': ['Pd(OAc)2', 'PPh3', 'Na2CO3'], 'Solvent': ['DME', 'EtOH'], 'Temperature': ['70 ° C'], 'Time': ['5 min.']}\n"
     ]
    },
    {
     "name": "stderr",
     "output_type": "stream",
     "text": [
      "Processed prompts: 100%|██████████| 1/1 [00:11<00:00, 11.87s/it, Generation Speed: 8.93 toks/s]\n",
      "100%|██████████| 1/1 [00:11<00:00, 11.89s/it]\n"
     ]
    },
    {
     "name": "stdout",
     "output_type": "stream",
     "text": [
      "{'Product': ['9a'], 'Reactants': ['3-iodo- 1-methylquinolin-4(1H)-one', '4', 'phenylboronic acid', '8a'], 'Catalyst_Reagents': ['Pd(OAc)2', 'PPh3', 'Na2CO3'], 'Solvent': ['DME', 'EtOH'], 'Temperature': ['70 ° C'], 'Time': ['5 min.']}\n",
      "第42条数据\n"
     ]
    },
    {
     "name": "stderr",
     "output_type": "stream",
     "text": [
      "Processed prompts: 100%|██████████| 1/1 [00:04<00:00,  4.23s/it, Generation Speed: 5.91 toks/s]\n",
      "100%|██████████| 1/1 [00:04<00:00,  4.25s/it]\n"
     ]
    },
    {
     "name": "stdout",
     "output_type": "stream",
     "text": [
      "{'Product': ['9a'], 'Yield': ['75 %'], 'Time': ['30 min']}\n",
      "第43条数据\n"
     ]
    },
    {
     "name": "stderr",
     "output_type": "stream",
     "text": [
      "Processed prompts: 100%|██████████| 1/1 [00:02<00:00,  2.58s/it, Generation Speed: 5.43 toks/s]\n",
      "100%|██████████| 1/1 [00:02<00:00,  2.60s/it]\n"
     ]
    },
    {
     "name": "stdout",
     "output_type": "stream",
     "text": [
      "{'Reactants': ['B'], 'Product': ['C']}\n",
      "第44条数据\n"
     ]
    },
    {
     "name": "stderr",
     "output_type": "stream",
     "text": [
      "Processed prompts: 100%|██████████| 1/1 [00:03<00:00,  3.95s/it, Generation Speed: 7.85 toks/s]\n",
      "100%|██████████| 1/1 [00:03<00:00,  3.97s/it]\n"
     ]
    },
    {
     "name": "stdout",
     "output_type": "stream",
     "text": [
      "{'Reactants': ['3a', '3b', '(MeCN)3Cr(C0)3'], 'Product': ['4a']}\n"
     ]
    },
    {
     "name": "stderr",
     "output_type": "stream",
     "text": [
      "Processed prompts: 100%|██████████| 1/1 [00:04<00:00,  4.64s/it, Generation Speed: 8.63 toks/s]\n",
      "100%|██████████| 1/1 [00:04<00:00,  4.65s/it]\n"
     ]
    },
    {
     "name": "stdout",
     "output_type": "stream",
     "text": [
      "{'Reactants': ['3a', '(+)-iso- pinocampheol', '(MeCN)3Cr(C0)3'], 'Product': [\"5a1'\"]}\n"
     ]
    },
    {
     "name": "stderr",
     "output_type": "stream",
     "text": [
      "Processed prompts: 100%|██████████| 1/1 [00:03<00:00,  3.75s/it, Generation Speed: 7.75 toks/s]\n",
      "100%|██████████| 1/1 [00:03<00:00,  3.76s/it]\n"
     ]
    },
    {
     "name": "stdout",
     "output_type": "stream",
     "text": [
      "{'Reactants': ['3b', '(MeCN)3Cr(C0)3'], 'Product': [\"4b1'\"]}\n"
     ]
    },
    {
     "name": "stderr",
     "output_type": "stream",
     "text": [
      "Processed prompts: 100%|██████████| 1/1 [00:04<00:00,  4.33s/it, Generation Speed: 8.32 toks/s]\n",
      "100%|██████████| 1/1 [00:04<00:00,  4.34s/it]\n"
     ]
    },
    {
     "name": "stdout",
     "output_type": "stream",
     "text": [
      "{'Reactants': ['3b'], 'Catalyst_Reagents': ['(MeCN)3Cr(C0)3'], 'Product': [\"5b,''\"]}\n",
      "第45条数据\n"
     ]
    },
    {
     "name": "stderr",
     "output_type": "stream",
     "text": [
      "Processed prompts: 100%|██████████| 1/1 [00:03<00:00,  3.82s/it, Generation Speed: 8.11 toks/s]\n",
      "100%|██████████| 1/1 [00:03<00:00,  3.84s/it]\n"
     ]
    },
    {
     "name": "stdout",
     "output_type": "stream",
     "text": [
      "{'Reactants': ['4a', 'ethyl acrylate'], 'Product': ['6a'], 'Yield': ['86 %']}\n",
      "第46条数据\n"
     ]
    },
    {
     "name": "stderr",
     "output_type": "stream",
     "text": [
      "Processed prompts: 100%|██████████| 1/1 [00:05<00:00,  5.85s/it, Generation Speed: 8.55 toks/s]\n",
      "100%|██████████| 1/1 [00:05<00:00,  5.86s/it]\n"
     ]
    },
    {
     "name": "stdout",
     "output_type": "stream",
     "text": [
      "{'Product': ['12'], 'Yield': ['35 %'], 'Reactants': ['tryptophan methyl ester', '9'], 'Temperature': [\"140 'C\"], 'Time': ['3 h']}\n",
      "第47条数据\n",
      "第48条数据\n"
     ]
    },
    {
     "name": "stderr",
     "output_type": "stream",
     "text": [
      "Processed prompts: 100%|██████████| 1/1 [00:02<00:00,  2.47s/it, Generation Speed: 5.68 toks/s]\n",
      "100%|██████████| 1/1 [00:02<00:00,  2.48s/it]\n"
     ]
    },
    {
     "name": "stdout",
     "output_type": "stream",
     "text": [
      "{'Reactants': ['1'], 'Product': ['2']}\n",
      "第49条数据\n"
     ]
    },
    {
     "name": "stderr",
     "output_type": "stream",
     "text": [
      "Processed prompts: 100%|██████████| 1/1 [00:05<00:00,  5.03s/it, Generation Speed: 3.98 toks/s]\n",
      "100%|██████████| 1/1 [00:05<00:00,  5.05s/it]\n"
     ]
    },
    {
     "name": "stdout",
     "output_type": "stream",
     "text": [
      "{'Reactants': ['1a', '2a'], 'Product': ['3a']}\n",
      "第50条数据\n"
     ]
    },
    {
     "name": "stderr",
     "output_type": "stream",
     "text": [
      "Processed prompts: 100%|██████████| 1/1 [00:03<00:00,  3.60s/it, Generation Speed: 5.55 toks/s]\n",
      "100%|██████████| 1/1 [00:03<00:00,  3.62s/it]\n"
     ]
    },
    {
     "name": "stdout",
     "output_type": "stream",
     "text": [
      "{'Reactants': ['2', 'I2O5'], 'Product': ['4']}\n",
      "第51条数据\n"
     ]
    },
    {
     "name": "stderr",
     "output_type": "stream",
     "text": [
      "Processed prompts: 100%|██████████| 1/1 [00:03<00:00,  3.03s/it, Generation Speed: 5.95 toks/s]\n",
      "100%|██████████| 1/1 [00:03<00:00,  3.04s/it]\n"
     ]
    },
    {
     "name": "stdout",
     "output_type": "stream",
     "text": [
      "{'Reactants': ['4', '1'], 'Product': ['5.']}\n",
      "第52条数据\n"
     ]
    },
    {
     "name": "stderr",
     "output_type": "stream",
     "text": [
      "Processed prompts: 100%|██████████| 1/1 [00:03<00:00,  3.49s/it, Generation Speed: 4.02 toks/s]\n",
      "100%|██████████| 1/1 [00:03<00:00,  3.50s/it]\n"
     ]
    },
    {
     "name": "stdout",
     "output_type": "stream",
     "text": [
      "{'Reactants': ['5'], 'Product': ['7']}\n"
     ]
    },
    {
     "name": "stderr",
     "output_type": "stream",
     "text": [
      "Processed prompts: 100%|██████████| 1/1 [00:03<00:00,  3.87s/it, Generation Speed: 4.92 toks/s]\n",
      "100%|██████████| 1/1 [00:03<00:00,  3.88s/it]\n"
     ]
    },
    {
     "name": "stdout",
     "output_type": "stream",
     "text": [
      "{'Reactants': ['H2O', '7'], 'Product': ['8']}\n",
      "第53条数据\n"
     ]
    },
    {
     "name": "stderr",
     "output_type": "stream",
     "text": [
      "Processed prompts: 100%|██████████| 1/1 [00:02<00:00,  2.93s/it, Generation Speed: 6.16 toks/s]\n",
      "100%|██████████| 1/1 [00:02<00:00,  2.94s/it]\n"
     ]
    },
    {
     "name": "stdout",
     "output_type": "stream",
     "text": [
      "{'Reactants': ['8', 'TBHP'], 'Product': ['3']}\n",
      "第54条数据\n",
      "第55条数据\n"
     ]
    },
    {
     "name": "stderr",
     "output_type": "stream",
     "text": [
      "Processed prompts: 100%|██████████| 1/1 [00:03<00:00,  3.44s/it, Generation Speed: 8.15 toks/s]\n",
      "100%|██████████| 1/1 [00:03<00:00,  3.45s/it]\n"
     ]
    },
    {
     "name": "stdout",
     "output_type": "stream",
     "text": [
      "{'Product': ['5'], 'Yield': ['28 %', '67 %'], 'Time': ['2 h']}\n",
      "第56条数据\n",
      "第57条数据\n"
     ]
    },
    {
     "name": "stderr",
     "output_type": "stream",
     "text": [
      "Processed prompts: 100%|██████████| 1/1 [00:06<00:00,  6.16s/it, Generation Speed: 8.93 toks/s]\n",
      "100%|██████████| 1/1 [00:06<00:00,  6.18s/it]\n"
     ]
    },
    {
     "name": "stdout",
     "output_type": "stream",
     "text": [
      "{'Catalyst_Reagents': ['palladium acetate', 'tris(2,6-dimeth- oxyphenyl)phosphineE(TDMPP)'], 'Solvent': ['THF'], 'Product': ['4a9']}\n",
      "第58条数据\n",
      "第59条数据\n"
     ]
    },
    {
     "name": "stderr",
     "output_type": "stream",
     "text": [
      "Processed prompts: 100%|██████████| 1/1 [00:04<00:00,  4.78s/it, Generation Speed: 5.66 toks/s]\n",
      "100%|██████████| 1/1 [00:04<00:00,  4.80s/it]\n"
     ]
    },
    {
     "name": "stdout",
     "output_type": "stream",
     "text": [
      "{'Solvent': ['benzene'], 'Reactants': ['2b'], 'Product': ['3bI0']}\n"
     ]
    },
    {
     "name": "stderr",
     "output_type": "stream",
     "text": [
      "Processed prompts: 100%|██████████| 1/1 [00:04<00:00,  4.75s/it, Generation Speed: 5.48 toks/s]\n",
      "100%|██████████| 1/1 [00:04<00:00,  4.76s/it]\n"
     ]
    },
    {
     "name": "stdout",
     "output_type": "stream",
     "text": [
      "{'Solvent': ['benzene'], 'Reactants': ['2b'], 'Product': ['5b.']}\n",
      "第60条数据\n",
      "第61条数据\n"
     ]
    },
    {
     "name": "stderr",
     "output_type": "stream",
     "text": [
      "Processed prompts: 100%|██████████| 1/1 [00:10<00:00, 10.03s/it, Generation Speed: 8.58 toks/s]\n",
      "100%|██████████| 1/1 [00:10<00:00, 10.05s/it]\n"
     ]
    },
    {
     "name": "stdout",
     "output_type": "stream",
     "text": [
      "{'Catalyst_Reagents': ['Pd(PPh3)4'], 'Reactants': ['1a', '3a', 'K3PO4'], 'Temperature': ['110 ° C'], 'Time': ['15 min'], 'Solvent': ['DMF'], 'Yield': ['13 %'], 'Product': ['3-benzazepine']}\n"
     ]
    },
    {
     "name": "stderr",
     "output_type": "stream",
     "text": [
      "Processed prompts: 100%|██████████| 1/1 [00:10<00:00, 10.36s/it, Generation Speed: 8.59 toks/s]\n",
      "100%|██████████| 1/1 [00:10<00:00, 10.38s/it]\n"
     ]
    },
    {
     "name": "stdout",
     "output_type": "stream",
     "text": [
      "{'Catalyst_Reagents': ['K3PO4'], 'Reactants': ['1a', '3a'], 'Temperature': ['110 ° C'], 'Time': ['15 min'], 'Solvent': ['DMF'], 'Yield': ['13 %'], 'Product': ['4a']}\n",
      "第62条数据\n",
      "第63条数据\n"
     ]
    },
    {
     "name": "stderr",
     "output_type": "stream",
     "text": [
      "Processed prompts: 100%|██████████| 1/1 [00:03<00:00,  3.23s/it, Generation Speed: 6.20 toks/s]\n",
      "100%|██████████| 1/1 [00:03<00:00,  3.25s/it]\n"
     ]
    },
    {
     "name": "stdout",
     "output_type": "stream",
     "text": [
      "{'Reactants': ['11', '21'], 'Product': ['22']}\n",
      "第64条数据\n"
     ]
    },
    {
     "name": "stderr",
     "output_type": "stream",
     "text": [
      "Processed prompts: 100%|██████████| 1/1 [00:04<00:00,  4.28s/it, Generation Speed: 7.71 toks/s]\n",
      "100%|██████████| 1/1 [00:04<00:00,  4.30s/it]\n"
     ]
    },
    {
     "name": "stdout",
     "output_type": "stream",
     "text": [
      "{'Temperature': [\"100 'C\"], 'Solvent': ['toluene'], 'Product': ['tri-tert-butylsilane']}\n",
      "第65条数据\n"
     ]
    },
    {
     "name": "stderr",
     "output_type": "stream",
     "text": [
      "Processed prompts: 100%|██████████| 1/1 [00:06<00:00,  6.86s/it, Generation Speed: 8.32 toks/s]\n",
      "100%|██████████| 1/1 [00:06<00:00,  6.87s/it]\n"
     ]
    },
    {
     "name": "stdout",
     "output_type": "stream",
     "text": [
      "{'Reactants': ['1r(CR = CRCR3.CR)(PPh3)2C1 ( 1-Cl , R = C02CH3)9', '3-butyn-1-01'], 'Product': ['2,1']}\n"
     ]
    },
    {
     "name": "stderr",
     "output_type": "stream",
     "text": [
      "Processed prompts: 100%|██████████| 1/1 [00:04<00:00,  4.02s/it, Generation Speed: 5.48 toks/s]\n",
      "100%|██████████| 1/1 [00:04<00:00,  4.03s/it]\n"
     ]
    },
    {
     "name": "stdout",
     "output_type": "stream",
     "text": [
      "{'Reactants': ['1-C1', 'propargyl alcohol'], 'Product': ['3']}\n",
      "第66条数据\n"
     ]
    },
    {
     "name": "stderr",
     "output_type": "stream",
     "text": [
      "Processed prompts: 100%|██████████| 1/1 [00:06<00:00,  6.39s/it, Generation Speed: 8.77 toks/s]\n",
      "100%|██████████| 1/1 [00:06<00:00,  6.41s/it]\n"
     ]
    },
    {
     "name": "stdout",
     "output_type": "stream",
     "text": [
      "{'Reactants': ['2b', 'Me2- SiC12I7'], 'Solvent': ['Et20'], 'Temperature': ['-20 \" C'], 'Product': ['8'], 'Yield': ['> 99 %']}\n"
     ]
    },
    {
     "name": "stderr",
     "output_type": "stream",
     "text": [
      "Processed prompts: 100%|██████████| 1/1 [00:06<00:00,  6.49s/it, Generation Speed: 8.79 toks/s]\n",
      "100%|██████████| 1/1 [00:06<00:00,  6.50s/it]"
     ]
    },
    {
     "name": "stdout",
     "output_type": "stream",
     "text": [
      "{'Reactants': ['2b', 'Me2- SiC12I7'], 'Solvent': ['Et20'], 'Temperature': ['-20 \" C'], 'Product': ['9'], 'Yield': ['89 : 11']}\n",
      "TP, FP, FN 261 52 138\n",
      "NER:  precision, recall 0.8338658146964856 0.6541353383458647\n",
      "NER:  f1_score 0.7331460674157303\n"
     ]
    },
    {
     "name": "stderr",
     "output_type": "stream",
     "text": [
      "\n"
     ]
    }
   ],
   "source": [
    "import os\n",
    "\n",
    "from evaluate import *\n",
    "from llm_re import *\n",
    "\n",
    "def main():\n",
    "    train_data,test_data=get_data()\n",
    "    \n",
    "    prev_dir='/data/lizh/ChemRxnExtractor-main/test_prev.json'\n",
    "    prev_data=read_json_file(prev_dir)\n",
    "    \n",
    "    prev_data2=chem_re(train_data,prev_data)\n",
    "    Reaction_f1(test_data,prev_data2)\n",
    "\n",
    "main()"
   ]
  },
  {
   "cell_type": "markdown",
   "metadata": {},
   "source": [
    "微调后的llama3 70b TP, FP, FN 250 59 149\n",
    "NER:  precision, recall 0.8090614886731392 0.6265664160401002\n",
    "NER:  f1_score 0.7062146892655367"
   ]
  },
  {
   "cell_type": "code",
   "execution_count": 1,
   "metadata": {},
   "outputs": [
    {
     "name": "stderr",
     "output_type": "stream",
     "text": [
      "/data/lizh/Conda/anaconda3/envs/vllm/lib/python3.9/site-packages/tqdm/auto.py:21: TqdmWarning: IProgress not found. Please update jupyter and ipywidgets. See https://ipywidgets.readthedocs.io/en/stable/user_install.html\n",
      "  from .autonotebook import tqdm as notebook_tqdm\n",
      "2024-12-16 20:17:43,474\tINFO util.py:154 -- Missing packages: ['ipywidgets']. Run `pip install -U ipywidgets`, then restart the notebook server for rich notebook output.\n",
      "2024-12-16 20:17:45,901\tINFO worker.py:1771 -- Started a local Ray instance.\n"
     ]
    },
    {
     "name": "stdout",
     "output_type": "stream",
     "text": [
      "INFO 12-16 20:17:47 llm_engine.py:161] Initializing an LLM engine (v0.4.3) with config: model='/data/lizh/LLaMA-Factory-main/models/llama3_70b_reaction_sft', speculative_config=None, tokenizer='/data/lizh/LLaMA-Factory-main/models/llama3_70b_reaction_sft', skip_tokenizer_init=False, tokenizer_mode=auto, revision=None, rope_scaling=None, tokenizer_revision=None, trust_remote_code=False, dtype=torch.bfloat16, max_seq_len=8192, download_dir=None, load_format=LoadFormat.AUTO, tensor_parallel_size=4, disable_custom_all_reduce=False, quantization=None, enforce_eager=False, kv_cache_dtype=auto, quantization_param_path=None, device_config=cuda, decoding_config=DecodingConfig(guided_decoding_backend='outlines'), seed=0, served_model_name=/data/lizh/LLaMA-Factory-main/models/llama3_70b_reaction_sft)\n",
      "INFO 12-16 20:17:58 utils.py:618] Found nccl from library libnccl.so.2\n",
      "INFO 12-16 20:17:58 pynccl.py:65] vLLM is using nccl==2.20.5\n",
      "\u001b[36m(RayWorkerWrapper pid=3806337)\u001b[0m INFO 12-16 20:17:58 utils.py:618] Found nccl from library libnccl.so.2\n",
      "\u001b[36m(RayWorkerWrapper pid=3806337)\u001b[0m INFO 12-16 20:17:58 pynccl.py:65] vLLM is using nccl==2.20.5\n",
      "WARNING 12-16 20:17:59 custom_all_reduce.py:158] Custom allreduce is disabled because it's not supported on more than two PCIe-only GPUs. To silence this warning, specify disable_custom_all_reduce=True explicitly.\n",
      "\u001b[36m(RayWorkerWrapper pid=3806337)\u001b[0m WARNING 12-16 20:17:59 custom_all_reduce.py:158] Custom allreduce is disabled because it's not supported on more than two PCIe-only GPUs. To silence this warning, specify disable_custom_all_reduce=True explicitly.\n",
      "INFO 12-16 20:19:11 model_runner.py:146] Loading model weights took 32.8599 GB\n",
      "\u001b[36m(RayWorkerWrapper pid=3806337)\u001b[0m INFO 12-16 20:19:11 model_runner.py:146] Loading model weights took 32.8599 GB\n",
      "\u001b[36m(RayWorkerWrapper pid=3806627)\u001b[0m INFO 12-16 20:17:58 utils.py:618] Found nccl from library libnccl.so.2\u001b[32m [repeated 2x across cluster] (Ray deduplicates logs by default. Set RAY_DEDUP_LOGS=0 to disable log deduplication, or see https://docs.ray.io/en/master/ray-observability/user-guides/configure-logging.html#log-deduplication for more options.)\u001b[0m\n",
      "\u001b[36m(RayWorkerWrapper pid=3806627)\u001b[0m INFO 12-16 20:17:58 pynccl.py:65] vLLM is using nccl==2.20.5\u001b[32m [repeated 2x across cluster]\u001b[0m\n",
      "\u001b[36m(RayWorkerWrapper pid=3806627)\u001b[0m WARNING 12-16 20:17:59 custom_all_reduce.py:158] Custom allreduce is disabled because it's not supported on more than two PCIe-only GPUs. To silence this warning, specify disable_custom_all_reduce=True explicitly.\u001b[32m [repeated 2x across cluster]\u001b[0m\n",
      "INFO 12-16 20:19:23 distributed_gpu_executor.py:56] # GPU blocks: 10443, # CPU blocks: 3276\n",
      "INFO 12-16 20:19:27 model_runner.py:854] Capturing the model for CUDA graphs. This may lead to unexpected consequences if the model is not static. To run the model in eager mode, set 'enforce_eager=True' or use '--enforce-eager' in the CLI.\n",
      "INFO 12-16 20:19:27 model_runner.py:858] CUDA graphs can take additional 1~3 GiB memory per GPU. If you are running out of memory, consider decreasing `gpu_memory_utilization` or enforcing eager mode. You can also reduce the `max_num_seqs` as needed to decrease memory usage.\n",
      "\u001b[36m(RayWorkerWrapper pid=3806516)\u001b[0m INFO 12-16 20:19:28 model_runner.py:854] Capturing the model for CUDA graphs. This may lead to unexpected consequences if the model is not static. To run the model in eager mode, set 'enforce_eager=True' or use '--enforce-eager' in the CLI.\n",
      "\u001b[36m(RayWorkerWrapper pid=3806516)\u001b[0m INFO 12-16 20:19:28 model_runner.py:858] CUDA graphs can take additional 1~3 GiB memory per GPU. If you are running out of memory, consider decreasing `gpu_memory_utilization` or enforcing eager mode. You can also reduce the `max_num_seqs` as needed to decrease memory usage.\n",
      "\u001b[36m(RayWorkerWrapper pid=3806627)\u001b[0m INFO 12-16 20:19:11 model_runner.py:146] Loading model weights took 32.8599 GB\u001b[32m [repeated 2x across cluster]\u001b[0m\n",
      "\u001b[36m(RayWorkerWrapper pid=3806627)\u001b[0m INFO 12-16 20:19:55 model_runner.py:924] Graph capturing finished in 27 secs.\n",
      "\u001b[36m(RayWorkerWrapper pid=3806627)\u001b[0m INFO 12-16 20:19:28 model_runner.py:854] Capturing the model for CUDA graphs. This may lead to unexpected consequences if the model is not static. To run the model in eager mode, set 'enforce_eager=True' or use '--enforce-eager' in the CLI.\u001b[32m [repeated 2x across cluster]\u001b[0m\n",
      "\u001b[36m(RayWorkerWrapper pid=3806627)\u001b[0m INFO 12-16 20:19:28 model_runner.py:858] CUDA graphs can take additional 1~3 GiB memory per GPU. If you are running out of memory, consider decreasing `gpu_memory_utilization` or enforcing eager mode. You can also reduce the `max_num_seqs` as needed to decrease memory usage.\u001b[32m [repeated 2x across cluster]\u001b[0m\n",
      "INFO 12-16 20:19:55 model_runner.py:924] Graph capturing finished in 28 secs.\n",
      "第0条数据\n"
     ]
    },
    {
     "name": "stderr",
     "output_type": "stream",
     "text": [
      "Processed prompts: 100%|██████████| 1/1 [00:04<00:00,  4.08s/it, Generation Speed: 8.10 toks/s]\n",
      "100%|██████████| 1/1 [00:04<00:00,  4.16s/it]\n"
     ]
    },
    {
     "name": "stdout",
     "output_type": "stream",
     "text": [
      "{'Reactants': ['diphenylacetylene', '19A'], 'Product': ['23A'], 'Yield': ['30 %']}\n"
     ]
    },
    {
     "name": "stderr",
     "output_type": "stream",
     "text": [
      "Processed prompts: 100%|██████████| 1/1 [00:04<00:00,  4.32s/it, Generation Speed: 8.81 toks/s]\n",
      "100%|██████████| 1/1 [00:04<00:00,  4.33s/it]\n"
     ]
    },
    {
     "name": "stdout",
     "output_type": "stream",
     "text": [
      "{'Reactants': ['(phenylcyclopropy1)- carbene complex', '19B'], 'Product': ['25'], 'Yield': ['53 %']}\n",
      "第1条数据\n"
     ]
    },
    {
     "name": "stderr",
     "output_type": "stream",
     "text": [
      "Processed prompts: 100%|██████████| 1/1 [00:04<00:00,  4.40s/it, Generation Speed: 10.47 toks/s]\n",
      "100%|██████████| 1/1 [00:04<00:00,  4.41s/it]\n"
     ]
    },
    {
     "name": "stdout",
     "output_type": "stream",
     "text": [
      "{'Product': ['2-(3-(methylthio)naphthalen-2-yl)pyridine'], 'Yield': ['89 %'], 'Temperature': ['125 ° C']}\n"
     ]
    },
    {
     "name": "stderr",
     "output_type": "stream",
     "text": [
      "Processed prompts: 100%|██████████| 1/1 [00:05<00:00,  5.77s/it, Generation Speed: 8.67 toks/s]\n",
      "100%|██████████| 1/1 [00:05<00:00,  5.78s/it]\n"
     ]
    },
    {
     "name": "stdout",
     "output_type": "stream",
     "text": [
      "{'Catalyst_Reagents': ['copper acetate'], 'Solvent': ['DMSO'], 'Product': ['2b'], 'Yield': ['89 %'], 'Temperature': ['125 ° C']}\n",
      "第2条数据\n"
     ]
    },
    {
     "name": "stderr",
     "output_type": "stream",
     "text": [
      "Processed prompts: 100%|██████████| 1/1 [00:03<00:00,  3.35s/it, Generation Speed: 8.38 toks/s]\n",
      "100%|██████████| 1/1 [00:03<00:00,  3.35s/it]\n"
     ]
    },
    {
     "name": "stdout",
     "output_type": "stream",
     "text": [
      "{'Reactants': ['Me3SiCH2MgC1', '02'], 'Product': ['Me3SiOH']}\n"
     ]
    },
    {
     "name": "stderr",
     "output_type": "stream",
     "text": [
      "Processed prompts: 100%|██████████| 1/1 [00:03<00:00,  3.68s/it, Generation Speed: 8.17 toks/s]\n",
      "100%|██████████| 1/1 [00:03<00:00,  3.68s/it]\n"
     ]
    },
    {
     "name": "stdout",
     "output_type": "stream",
     "text": [
      "{'Reactants': ['Me3SiCH2MgC1', '02'], 'Product': ['(Me3Si)20']}\n"
     ]
    },
    {
     "name": "stderr",
     "output_type": "stream",
     "text": [
      "Processed prompts: 100%|██████████| 1/1 [00:03<00:00,  3.42s/it, Generation Speed: 8.20 toks/s]\n",
      "100%|██████████| 1/1 [00:03<00:00,  3.43s/it]\n"
     ]
    },
    {
     "name": "stdout",
     "output_type": "stream",
     "text": [
      "{'Reactants': ['Me3SiCH2MgC1', '02'], 'Product': ['CH20.22']}\n",
      "第3条数据\n"
     ]
    },
    {
     "name": "stderr",
     "output_type": "stream",
     "text": [
      "Processed prompts: 100%|██████████| 1/1 [00:05<00:00,  5.37s/it, Generation Speed: 8.57 toks/s]\n",
      "100%|██████████| 1/1 [00:05<00:00,  5.38s/it]\n"
     ]
    },
    {
     "name": "stdout",
     "output_type": "stream",
     "text": [
      "{'Reactants': ['8', 'acetone'], 'Catalyst_Reagents': ['trifluoroacetic acid-tri- fluoroacetic anhydride'], 'Product': ['9.']}\n",
      "第4条数据\n"
     ]
    },
    {
     "name": "stderr",
     "output_type": "stream",
     "text": [
      "Processed prompts: 100%|██████████| 1/1 [00:06<00:00,  6.88s/it, Generation Speed: 5.23 toks/s]\n",
      "100%|██████████| 1/1 [00:06<00:00,  6.89s/it]\n"
     ]
    },
    {
     "name": "stdout",
     "output_type": "stream",
     "text": [
      "{'Reactants': ['10', 'triflic anhydride-pyridine.'], 'Product': ['11'], 'Yield': ['92 %']}\n"
     ]
    },
    {
     "name": "stderr",
     "output_type": "stream",
     "text": [
      "Processed prompts: 100%|██████████| 1/1 [00:09<00:00,  9.52s/it, Generation Speed: 5.88 toks/s]\n",
      "100%|██████████| 1/1 [00:09<00:00,  9.53s/it]\n"
     ]
    },
    {
     "name": "stdout",
     "output_type": "stream",
     "text": [
      "{'Reactants': ['11', '1-heptyne', 'bis(triphenylphosphine)palladium(II) chloride', 'triethylamine- DMF)8'], 'Product': ['12.'], 'Yield': ['68 %']}\n",
      "第5条数据\n"
     ]
    },
    {
     "name": "stderr",
     "output_type": "stream",
     "text": [
      "Processed prompts: 100%|██████████| 1/1 [00:03<00:00,  3.39s/it, Generation Speed: 4.72 toks/s]\n",
      "100%|██████████| 1/1 [00:03<00:00,  3.40s/it]\n"
     ]
    },
    {
     "name": "stdout",
     "output_type": "stream",
     "text": [
      "{'Product': ['13'], 'Yield': ['-loo %']}\n"
     ]
    },
    {
     "name": "stderr",
     "output_type": "stream",
     "text": [
      "Processed prompts: 100%|██████████| 1/1 [00:06<00:00,  6.30s/it, Generation Speed: 8.90 toks/s]\n",
      "100%|██████████| 1/1 [00:06<00:00,  6.31s/it]\n"
     ]
    },
    {
     "name": "stdout",
     "output_type": "stream",
     "text": [
      "{'Reactants': ['13'], 'Catalyst_Reagents': ['KOH'], 'Solvent': ['DMSO'], 'Temperature': ['120 OC'], 'Product': ['5-heptylresorcinolg'], 'Yield': ['90 %']}\n"
     ]
    },
    {
     "name": "stderr",
     "output_type": "stream",
     "text": [
      "Processed prompts: 100%|██████████| 1/1 [00:04<00:00,  4.09s/it, Generation Speed: 9.05 toks/s]\n",
      "100%|██████████| 1/1 [00:04<00:00,  4.10s/it]\n"
     ]
    },
    {
     "name": "stdout",
     "output_type": "stream",
     "text": [
      "{'Reactants': ['13', 'KOH - DMSO'], 'Temperature': ['120 OC'], 'Product': ['14'], 'Yield': ['90 %']}\n",
      "第6条数据\n"
     ]
    },
    {
     "name": "stderr",
     "output_type": "stream",
     "text": [
      "Processed prompts: 100%|██████████| 1/1 [00:03<00:00,  3.19s/it, Generation Speed: 9.72 toks/s]\n",
      "100%|██████████| 1/1 [00:03<00:00,  3.20s/it]\n"
     ]
    },
    {
     "name": "stdout",
     "output_type": "stream",
     "text": [
      "{'Reactants': ['13', 'lithium benzyl oxide'], 'Solvent': ['THF'], 'Product': ['15.']}\n",
      "第7条数据\n"
     ]
    },
    {
     "name": "stderr",
     "output_type": "stream",
     "text": [
      "Processed prompts: 100%|██████████| 1/1 [00:03<00:00,  3.75s/it, Generation Speed: 9.35 toks/s]\n",
      "100%|██████████| 1/1 [00:03<00:00,  3.76s/it]\n"
     ]
    },
    {
     "name": "stdout",
     "output_type": "stream",
     "text": [
      "{'Reactants': ['16', 'j3-(trimethylsilyl)ethanol'], 'Product': ['17'], 'Yield': ['80 %']}\n",
      "第8条数据\n"
     ]
    },
    {
     "name": "stderr",
     "output_type": "stream",
     "text": [
      "Processed prompts: 100%|██████████| 1/1 [00:05<00:00,  5.85s/it, Generation Speed: 9.23 toks/s]\n",
      "100%|██████████| 1/1 [00:05<00:00,  5.86s/it]\n"
     ]
    },
    {
     "name": "stdout",
     "output_type": "stream",
     "text": [
      "{'Reactants': ['17', '18'], 'Catalyst_Reagents': ['K2C03', '18-crown-6'], 'Solvent': ['acetone'], 'Yield': ['81 %'], 'Product': ['19.']}\n",
      "第9条数据\n"
     ]
    },
    {
     "name": "stderr",
     "output_type": "stream",
     "text": [
      "Processed prompts: 100%|██████████| 1/1 [00:03<00:00,  3.97s/it, Generation Speed: 9.07 toks/s]\n",
      "100%|██████████| 1/1 [00:03<00:00,  3.98s/it]\n"
     ]
    },
    {
     "name": "stdout",
     "output_type": "stream",
     "text": [
      "{'Reactants': ['10'], 'Catalyst_Reagents': ['bromotrimethylsilane', 'TMSBr'], 'Product': ['11.']}\n",
      "第10条数据\n"
     ]
    },
    {
     "name": "stderr",
     "output_type": "stream",
     "text": [
      "Processed prompts: 100%|██████████| 1/1 [00:04<00:00,  4.13s/it, Generation Speed: 8.73 toks/s]\n",
      "100%|██████████| 1/1 [00:04<00:00,  4.14s/it]\n"
     ]
    },
    {
     "name": "stdout",
     "output_type": "stream",
     "text": [
      "{'Reactants': ['2', 'pyridinium bromide perbromidel8'], 'Solvent': ['acetic acid'], 'Product': ['3.']}\n",
      "第11条数据\n"
     ]
    },
    {
     "name": "stderr",
     "output_type": "stream",
     "text": [
      "Processed prompts: 100%|██████████| 1/1 [00:04<00:00,  4.02s/it, Generation Speed: 9.46 toks/s]\n",
      "100%|██████████| 1/1 [00:04<00:00,  4.03s/it]\n"
     ]
    },
    {
     "name": "stdout",
     "output_type": "stream",
     "text": [
      "{'Reactants': ['ethyl 3,3-diamino-2-propenoatelg', '4'], 'Product': ['1'], 'Yield': ['58 %']}\n",
      "第12条数据\n"
     ]
    },
    {
     "name": "stderr",
     "output_type": "stream",
     "text": [
      "Processed prompts: 100%|██████████| 1/1 [00:07<00:00,  7.62s/it, Generation Speed: 8.67 toks/s]\n",
      "100%|██████████| 1/1 [00:07<00:00,  7.63s/it]\n"
     ]
    },
    {
     "name": "stdout",
     "output_type": "stream",
     "text": [
      "{'Reactants': ['α-bromoalkene', '6', 'n- butyllithium', 'n-BuLi'], 'Product': ['4'], 'Solvent': ['Et2O', 't-BuOMe', 'hexane', 'cyclopentane']}\n",
      "第13条数据\n"
     ]
    },
    {
     "name": "stderr",
     "output_type": "stream",
     "text": [
      "Processed prompts: 100%|██████████| 1/1 [00:02<00:00,  2.38s/it, Generation Speed: 6.31 toks/s]\n",
      "100%|██████████| 1/1 [00:02<00:00,  2.39s/it]\n"
     ]
    },
    {
     "name": "stdout",
     "output_type": "stream",
     "text": [
      "{'Reactants': ['1'], 'Product': ['2.']}\n",
      "第14条数据\n"
     ]
    },
    {
     "name": "stderr",
     "output_type": "stream",
     "text": [
      "Processed prompts: 100%|██████████| 1/1 [00:05<00:00,  5.32s/it, Generation Speed: 5.08 toks/s]\n",
      "100%|██████████| 1/1 [00:05<00:00,  5.33s/it]\n"
     ]
    },
    {
     "name": "stdout",
     "output_type": "stream",
     "text": [
      "{'Product': ['1'], 'Reactants': ['2s', '3'], 'Solvent': ['CHCI,']}\n",
      "第15条数据\n"
     ]
    },
    {
     "name": "stderr",
     "output_type": "stream",
     "text": [
      "Processed prompts: 100%|██████████| 1/1 [00:03<00:00,  3.64s/it, Generation Speed: 5.77 toks/s]\n",
      "100%|██████████| 1/1 [00:03<00:00,  3.65s/it]\n"
     ]
    },
    {
     "name": "stdout",
     "output_type": "stream",
     "text": [
      "{'Reactants': ['46', '5.7-8'], 'Product': ['3']}\n",
      "第16条数据\n"
     ]
    },
    {
     "name": "stderr",
     "output_type": "stream",
     "text": [
      "Processed prompts: 100%|██████████| 1/1 [00:03<00:00,  3.21s/it, Generation Speed: 10.28 toks/s]\n",
      "100%|██████████| 1/1 [00:03<00:00,  3.22s/it]\n"
     ]
    },
    {
     "name": "stdout",
     "output_type": "stream",
     "text": [
      "第17条数据\n"
     ]
    },
    {
     "name": "stderr",
     "output_type": "stream",
     "text": [
      "Processed prompts: 100%|██████████| 1/1 [00:03<00:00,  3.77s/it, Generation Speed: 11.69 toks/s]\n",
      "100%|██████████| 1/1 [00:03<00:00,  3.78s/it]\n"
     ]
    },
    {
     "name": "stdout",
     "output_type": "stream",
     "text": [
      "{'Reactants': ['N-acetyl+ galactosamine'], 'Yield': ['55 %'], 'Temperature': ['165-166.5 “ C'], 'Product': ['7']}\n",
      "第18条数据\n"
     ]
    },
    {
     "name": "stderr",
     "output_type": "stream",
     "text": [
      "Processed prompts: 100%|██████████| 1/1 [00:03<00:00,  3.12s/it, Generation Speed: 12.18 toks/s]\n",
      "100%|██████████| 1/1 [00:03<00:00,  3.13s/it]\n"
     ]
    },
    {
     "name": "stdout",
     "output_type": "stream",
     "text": [
      "{'Reactants': ['5'], 'Catalyst_Reagents': ['MeMgBr', '1'], 'Product': ['10'], 'Yield': ['70 %']}\n",
      "第19条数据\n",
      "第20条数据\n"
     ]
    },
    {
     "name": "stderr",
     "output_type": "stream",
     "text": [
      "Processed prompts: 100%|██████████| 1/1 [00:02<00:00,  2.30s/it, Generation Speed: 9.14 toks/s]\n",
      "100%|██████████| 1/1 [00:02<00:00,  2.31s/it]\n"
     ]
    },
    {
     "name": "stdout",
     "output_type": "stream",
     "text": [
      "{'Reactants': ['pivalonitrile', '1'], 'Product': ['3']}\n",
      "第21条数据\n",
      "第22条数据\n",
      "第23条数据\n"
     ]
    },
    {
     "name": "stderr",
     "output_type": "stream",
     "text": [
      "Processed prompts: 100%|██████████| 1/1 [00:02<00:00,  2.96s/it, Generation Speed: 14.54 toks/s]\n",
      "100%|██████████| 1/1 [00:02<00:00,  2.97s/it]\n"
     ]
    },
    {
     "name": "stdout",
     "output_type": "stream",
     "text": [
      "{'Product': ['11'], 'Catalyst_Reagents': ['zirconium'], 'Reactants': ['10'], 'Yield': ['60 %']}\n"
     ]
    },
    {
     "name": "stderr",
     "output_type": "stream",
     "text": [
      "Processed prompts: 100%|██████████| 1/1 [00:02<00:00,  2.76s/it, Generation Speed: 12.35 toks/s]\n",
      "100%|██████████| 1/1 [00:02<00:00,  2.77s/it]\n"
     ]
    },
    {
     "name": "stdout",
     "output_type": "stream",
     "text": [
      "{'Catalyst_Reagents': ['zirconium'], 'Reactants': ['10'], 'Product': ['11'], 'Yield': ['60 %']}\n",
      "第24条数据\n"
     ]
    },
    {
     "name": "stderr",
     "output_type": "stream",
     "text": [
      "Processed prompts: 100%|██████████| 1/1 [00:02<00:00,  2.29s/it, Generation Speed: 11.79 toks/s]\n",
      "100%|██████████| 1/1 [00:02<00:00,  2.30s/it]\n"
     ]
    },
    {
     "name": "stdout",
     "output_type": "stream",
     "text": [
      "{'Reactants': ['13', 'catecholborane'], 'Temperature': ['room'], 'Product': ['8']}\n",
      "第25条数据\n"
     ]
    },
    {
     "name": "stderr",
     "output_type": "stream",
     "text": [
      "Processed prompts: 100%|██████████| 1/1 [00:03<00:00,  3.27s/it, Generation Speed: 6.13 toks/s]\n",
      "100%|██████████| 1/1 [00:03<00:00,  3.27s/it]\n"
     ]
    },
    {
     "name": "stdout",
     "output_type": "stream",
     "text": [
      "{'Reactants': ['5-cyclononynone'], 'Product': ['11']}\n"
     ]
    },
    {
     "name": "stderr",
     "output_type": "stream",
     "text": [
      "Processed prompts: 100%|██████████| 1/1 [00:02<00:00,  2.87s/it, Generation Speed: 6.97 toks/s]\n",
      "100%|██████████| 1/1 [00:02<00:00,  2.88s/it]\n"
     ]
    },
    {
     "name": "stdout",
     "output_type": "stream",
     "text": [
      "{'Reactants': ['5-cyclononynone'], 'Product': ['12']}\n",
      "第26条数据\n"
     ]
    },
    {
     "name": "stderr",
     "output_type": "stream",
     "text": [
      "Processed prompts: 100%|██████████| 1/1 [00:01<00:00,  1.58s/it, Generation Speed: 8.25 toks/s]\n",
      "100%|██████████| 1/1 [00:01<00:00,  1.59s/it]\n"
     ]
    },
    {
     "name": "stdout",
     "output_type": "stream",
     "text": [
      "{'Product': ['3'], 'Temperature': ['room']}\n",
      "第27条数据\n"
     ]
    },
    {
     "name": "stderr",
     "output_type": "stream",
     "text": [
      "Processed prompts: 100%|██████████| 1/1 [00:03<00:00,  3.73s/it, Generation Speed: 6.97 toks/s]\n",
      "100%|██████████| 1/1 [00:03<00:00,  3.74s/it]\n"
     ]
    },
    {
     "name": "stdout",
     "output_type": "stream",
     "text": [
      "{'Reactants': ['5-cyclodecynone', '13),Iz'], 'Product': ['14']}\n"
     ]
    },
    {
     "name": "stderr",
     "output_type": "stream",
     "text": [
      "Processed prompts: 100%|██████████| 1/1 [00:04<00:00,  4.02s/it, Generation Speed: 6.73 toks/s]\n",
      "100%|██████████| 1/1 [00:04<00:00,  4.02s/it]\n"
     ]
    },
    {
     "name": "stdout",
     "output_type": "stream",
     "text": [
      "{'Reactants': ['5-cyclodecynone', '13),Iz'], 'Product': ['16.']}\n",
      "第28条数据\n",
      "第29条数据\n"
     ]
    },
    {
     "name": "stderr",
     "output_type": "stream",
     "text": [
      "Processed prompts: 100%|██████████| 1/1 [00:05<00:00,  5.02s/it, Generation Speed: 6.78 toks/s]\n",
      "100%|██████████| 1/1 [00:05<00:00,  5.03s/it]\n"
     ]
    },
    {
     "name": "stdout",
     "output_type": "stream",
     "text": [
      "{'Reactants': ['23'], 'Catalyst_Reagents': ['NaBH4'], 'Product': ['24'], 'Yield': ['98 %']}\n",
      "第30条数据\n",
      "第31条数据\n",
      "第32条数据\n"
     ]
    },
    {
     "name": "stderr",
     "output_type": "stream",
     "text": [
      "Processed prompts: 100%|██████████| 1/1 [00:05<00:00,  5.99s/it, Generation Speed: 6.02 toks/s]\n",
      "100%|██████████| 1/1 [00:05<00:00,  5.99s/it]\n"
     ]
    },
    {
     "name": "stdout",
     "output_type": "stream",
     "text": [
      "{'Reactants': ['p proline', 'formic acid'], 'Catalyst_Reagents': ['acetic anhydride'], 'Product': ['25']}\n",
      "第33条数据\n"
     ]
    },
    {
     "name": "stderr",
     "output_type": "stream",
     "text": [
      "Processed prompts: 100%|██████████| 1/1 [00:05<00:00,  5.46s/it, Generation Speed: 7.70 toks/s]\n",
      "100%|██████████| 1/1 [00:05<00:00,  5.47s/it]\n"
     ]
    },
    {
     "name": "stdout",
     "output_type": "stream",
     "text": [
      "{'Catalyst_Reagents': ['lithium aluminum hydride'], 'Product': ['(S)-2-(hy- droxymethy1)-1 methylpyrrolidine']}\n"
     ]
    },
    {
     "name": "stderr",
     "output_type": "stream",
     "text": [
      "Processed prompts: 100%|██████████| 1/1 [00:02<00:00,  2.91s/it, Generation Speed: 7.92 toks/s]\n",
      "100%|██████████| 1/1 [00:02<00:00,  2.91s/it]\n"
     ]
    },
    {
     "name": "stdout",
     "output_type": "stream",
     "text": [
      "{'Catalyst_Reagents': ['lithium aluminum hydride'], 'Product': ['26']}\n",
      "第34条数据\n"
     ]
    },
    {
     "name": "stderr",
     "output_type": "stream",
     "text": [
      "Processed prompts: 100%|██████████| 1/1 [00:05<00:00,  5.34s/it, Generation Speed: 7.87 toks/s]\n",
      "100%|██████████| 1/1 [00:05<00:00,  5.35s/it]\n"
     ]
    },
    {
     "name": "stdout",
     "output_type": "stream",
     "text": [
      "{'Product': ['2-(chloromethyl)-l'], 'Reactants': ['27'], 'Catalyst_Reagents': ['thionyl chloride'], 'Solvent': ['chloroform']}\n"
     ]
    },
    {
     "name": "stderr",
     "output_type": "stream",
     "text": [
      "Processed prompts: 100%|██████████| 1/1 [00:05<00:00,  5.84s/it, Generation Speed: 8.05 toks/s]\n",
      "100%|██████████| 1/1 [00:05<00:00,  5.85s/it]\n"
     ]
    },
    {
     "name": "stdout",
     "output_type": "stream",
     "text": [
      "{'Product': ['27'], 'Reactants': ['2-(chloromethyl)-l methylpyrrolidine'], 'Catalyst_Reagents': ['thionyl chloride'], 'Solvent': ['chloroform']}\n",
      "第35条数据\n"
     ]
    },
    {
     "name": "stderr",
     "output_type": "stream",
     "text": [
      "Processed prompts: 100%|██████████| 1/1 [00:03<00:00,  3.16s/it, Generation Speed: 8.24 toks/s]\n",
      "100%|██████████| 1/1 [00:03<00:00,  3.17s/it]\n"
     ]
    },
    {
     "name": "stdout",
     "output_type": "stream",
     "text": [
      "{'Reactants': ['sodium cyanide'], 'Solvent': ['80 % ethanol'], 'Product': ['30']}\n",
      "第36条数据\n"
     ]
    },
    {
     "name": "stderr",
     "output_type": "stream",
     "text": [
      "Processed prompts: 100%|██████████| 1/1 [00:03<00:00,  3.28s/it, Generation Speed: 8.86 toks/s]\n",
      "100%|██████████| 1/1 [00:03<00:00,  3.28s/it]\n"
     ]
    },
    {
     "name": "stdout",
     "output_type": "stream",
     "text": [
      "{'Catalyst_Reagents': ['HCI'], 'Product': ['1 -methylpyrrolidine-2-acetic acid']}\n"
     ]
    },
    {
     "name": "stderr",
     "output_type": "stream",
     "text": [
      "Processed prompts: 100%|██████████| 1/1 [00:02<00:00,  2.35s/it, Generation Speed: 7.24 toks/s]\n",
      "100%|██████████| 1/1 [00:02<00:00,  2.36s/it]\n"
     ]
    },
    {
     "name": "stdout",
     "output_type": "stream",
     "text": [
      "{'Catalyst_Reagents': ['HCI'], 'Product': ['33']}\n",
      "第37条数据\n"
     ]
    },
    {
     "name": "stderr",
     "output_type": "stream",
     "text": [
      "Processed prompts: 100%|██████████| 1/1 [00:07<00:00,  7.10s/it, Generation Speed: 8.74 toks/s]\n",
      "100%|██████████| 1/1 [00:07<00:00,  7.11s/it]\n"
     ]
    },
    {
     "name": "stdout",
     "output_type": "stream",
     "text": [
      "{'Reactants': ['sodium [1,2-13C2]acetate', 'sodium [IJ4C]acetate', 'trimethyl phosphate'], 'Product': [\"methyl [ 1,2- ' 3C2,1-14C]acetate\"]}\n"
     ]
    },
    {
     "name": "stderr",
     "output_type": "stream",
     "text": [
      "Processed prompts: 100%|██████████| 1/1 [00:05<00:00,  5.23s/it, Generation Speed: 8.03 toks/s]\n",
      "100%|██████████| 1/1 [00:05<00:00,  5.24s/it]\n"
     ]
    },
    {
     "name": "stdout",
     "output_type": "stream",
     "text": [
      "{'Reactants': ['sodium [1,2-13C2]acetate', 'sodium [IJ4C]acetate', 'trimethyl phosphate'], 'Product': ['B']}\n"
     ]
    },
    {
     "name": "stderr",
     "output_type": "stream",
     "text": [
      "Processed prompts: 100%|██████████| 1/1 [00:05<00:00,  5.03s/it, Generation Speed: 7.56 toks/s]\n",
      "100%|██████████| 1/1 [00:05<00:00,  5.04s/it]\n"
     ]
    },
    {
     "name": "stdout",
     "output_type": "stream",
     "text": [
      "{'Reactants': [\"methyl [ 1,2- ' 3C2,1-14C]acetate\", '( B )'], 'Product': ['29']}\n",
      "第38条数据\n"
     ]
    },
    {
     "name": "stderr",
     "output_type": "stream",
     "text": [
      "Processed prompts: 100%|██████████| 1/1 [00:03<00:00,  3.93s/it, Generation Speed: 6.63 toks/s]\n",
      "100%|██████████| 1/1 [00:03<00:00,  3.94s/it]\n"
     ]
    },
    {
     "name": "stdout",
     "output_type": "stream",
     "text": [
      "{'Product': ['1 -methyl-2-pyrrolidinyl)-3-oxobutanoate']}\n"
     ]
    },
    {
     "name": "stderr",
     "output_type": "stream",
     "text": [
      "Processed prompts: 100%|██████████| 1/1 [00:02<00:00,  2.02s/it, Generation Speed: 3.48 toks/s]\n",
      "100%|██████████| 1/1 [00:02<00:00,  2.02s/it]\n"
     ]
    },
    {
     "name": "stdout",
     "output_type": "stream",
     "text": [
      "{'Product': ['31']}\n",
      "第39条数据\n"
     ]
    },
    {
     "name": "stderr",
     "output_type": "stream",
     "text": [
      "Processed prompts: 100%|██████████| 1/1 [00:03<00:00,  3.53s/it, Generation Speed: 8.51 toks/s]\n",
      "100%|██████████| 1/1 [00:03<00:00,  3.54s/it]\n"
     ]
    },
    {
     "name": "stdout",
     "output_type": "stream",
     "text": [
      "{'Reactants': ['3a'], 'Solvent': ['water'], 'Product': ['4a'], 'Yield': ['high']}\n",
      "第40条数据\n"
     ]
    },
    {
     "name": "stderr",
     "output_type": "stream",
     "text": [
      "Processed prompts: 100%|██████████| 1/1 [00:06<00:00,  6.76s/it, Generation Speed: 9.76 toks/s]\n",
      "100%|██████████| 1/1 [00:06<00:00,  6.77s/it]\n"
     ]
    },
    {
     "name": "stdout",
     "output_type": "stream",
     "text": [
      "{'Reactants': ['allyl iodoacetate', '3a'], 'Solvent': ['water'], 'Catalyst_Reagents': ['triethylborane'], 'Temperature': ['25 C'], 'Time': ['3 h'], 'Product': ['4a'], 'Yield': ['67 %']}\n",
      "第41条数据\n"
     ]
    },
    {
     "name": "stderr",
     "output_type": "stream",
     "text": [
      "Processed prompts: 100%|██████████| 1/1 [00:13<00:00, 13.09s/it, Generation Speed: 8.79 toks/s]\n",
      "100%|██████████| 1/1 [00:13<00:00, 13.10s/it]\n"
     ]
    },
    {
     "name": "stdout",
     "output_type": "stream",
     "text": [
      "{'Reactants': ['3-iodo- 1-methylquinolin-4(1H)-one', '4', 'phenylboronic acid', '8a'], 'Product': ['3-phenylquinolin-4(1H)-one'], 'Catalyst_Reagents': ['Pd(OAc)2', 'PPh3', 'Na2CO3'], 'Solvent': ['DME', 'EtOH'], 'Temperature': ['70 ° C'], 'Time': ['5 min.']}\n"
     ]
    },
    {
     "name": "stderr",
     "output_type": "stream",
     "text": [
      "Processed prompts: 100%|██████████| 1/1 [00:11<00:00, 11.28s/it, Generation Speed: 9.22 toks/s]\n",
      "100%|██████████| 1/1 [00:11<00:00, 11.29s/it]\n"
     ]
    },
    {
     "name": "stdout",
     "output_type": "stream",
     "text": [
      "{'Reactants': ['3-iodo- 1-methylquinolin-4(1H)-one', '4', 'phenylboronic acid', '8a'], 'Product': ['9a'], 'Catalyst_Reagents': ['Pd(OAc)2', 'PPh3', 'Na2CO3'], 'Solvent': ['DME', 'EtOH'], 'Temperature': ['70 ° C'], 'Time': ['5 min.']}\n",
      "第42条数据\n"
     ]
    },
    {
     "name": "stderr",
     "output_type": "stream",
     "text": [
      "Processed prompts: 100%|██████████| 1/1 [00:03<00:00,  3.83s/it, Generation Speed: 6.01 toks/s]\n",
      "100%|██████████| 1/1 [00:03<00:00,  3.84s/it]\n"
     ]
    },
    {
     "name": "stdout",
     "output_type": "stream",
     "text": [
      "{'Product': ['9a'], 'Yield': ['75 %'], 'Time': ['30 min']}\n",
      "第43条数据\n"
     ]
    },
    {
     "name": "stderr",
     "output_type": "stream",
     "text": [
      "Processed prompts: 100%|██████████| 1/1 [00:02<00:00,  2.29s/it, Generation Speed: 6.12 toks/s]\n",
      "100%|██████████| 1/1 [00:02<00:00,  2.30s/it]\n"
     ]
    },
    {
     "name": "stdout",
     "output_type": "stream",
     "text": [
      "{'Reactants': ['B'], 'Product': ['C']}\n",
      "第44条数据\n"
     ]
    },
    {
     "name": "stderr",
     "output_type": "stream",
     "text": [
      "Processed prompts: 100%|██████████| 1/1 [00:03<00:00,  3.17s/it, Generation Speed: 8.52 toks/s]\n",
      "100%|██████████| 1/1 [00:03<00:00,  3.18s/it]\n"
     ]
    },
    {
     "name": "stdout",
     "output_type": "stream",
     "text": [
      "{'Reactants': ['3a', '(MeCN)3Cr(C0)3'], 'Product': ['4a']}\n"
     ]
    },
    {
     "name": "stderr",
     "output_type": "stream",
     "text": [
      "Processed prompts: 100%|██████████| 1/1 [00:03<00:00,  3.50s/it, Generation Speed: 8.30 toks/s]\n",
      "100%|██████████| 1/1 [00:03<00:00,  3.50s/it]\n"
     ]
    },
    {
     "name": "stdout",
     "output_type": "stream",
     "text": [
      "{'Reactants': ['3a', '(MeCN)3Cr(C0)3'], 'Product': [\"5a1'\"]}\n"
     ]
    },
    {
     "name": "stderr",
     "output_type": "stream",
     "text": [
      "Processed prompts: 100%|██████████| 1/1 [00:03<00:00,  3.65s/it, Generation Speed: 7.96 toks/s]\n",
      "100%|██████████| 1/1 [00:03<00:00,  3.65s/it]\n"
     ]
    },
    {
     "name": "stdout",
     "output_type": "stream",
     "text": [
      "{'Reactants': ['3b', '(MeCN)3Cr(C0)3'], 'Product': [\"4b1'\"]}\n"
     ]
    },
    {
     "name": "stderr",
     "output_type": "stream",
     "text": [
      "Processed prompts: 100%|██████████| 1/1 [00:03<00:00,  3.53s/it, Generation Speed: 7.93 toks/s]\n",
      "100%|██████████| 1/1 [00:03<00:00,  3.54s/it]\n"
     ]
    },
    {
     "name": "stdout",
     "output_type": "stream",
     "text": [
      "{'Reactants': ['3b', '(MeCN)3Cr(C0)3'], 'Product': [\"5b,''\"]}\n",
      "第45条数据\n"
     ]
    },
    {
     "name": "stderr",
     "output_type": "stream",
     "text": [
      "Processed prompts: 100%|██████████| 1/1 [00:03<00:00,  3.96s/it, Generation Speed: 7.58 toks/s]\n",
      "100%|██████████| 1/1 [00:03<00:00,  3.97s/it]\n"
     ]
    },
    {
     "name": "stdout",
     "output_type": "stream",
     "text": [
      "{'Reactants': ['4a', 'ethyl acrylate'], 'Product': ['6a'], 'Yield': ['86 %']}\n",
      "第46条数据\n"
     ]
    },
    {
     "name": "stderr",
     "output_type": "stream",
     "text": [
      "Processed prompts: 100%|██████████| 1/1 [00:05<00:00,  5.73s/it, Generation Speed: 8.03 toks/s]\n",
      "100%|██████████| 1/1 [00:05<00:00,  5.74s/it]\n"
     ]
    },
    {
     "name": "stdout",
     "output_type": "stream",
     "text": [
      "{'Reactants': ['tryptophan methyl ester', '9'], 'Product': ['12'], 'Yield': ['35 %'], 'Temperature': [\"140 'C\"], 'Time': ['3 h']}\n",
      "第47条数据\n",
      "第48条数据\n"
     ]
    },
    {
     "name": "stderr",
     "output_type": "stream",
     "text": [
      "Processed prompts: 100%|██████████| 1/1 [00:01<00:00,  1.98s/it, Generation Speed: 7.10 toks/s]\n",
      "100%|██████████| 1/1 [00:01<00:00,  1.99s/it]\n"
     ]
    },
    {
     "name": "stdout",
     "output_type": "stream",
     "text": [
      "{'Reactants': ['1'], 'Product': ['2']}\n",
      "第49条数据\n"
     ]
    },
    {
     "name": "stderr",
     "output_type": "stream",
     "text": [
      "Processed prompts: 100%|██████████| 1/1 [00:04<00:00,  4.07s/it, Generation Speed: 4.92 toks/s]\n",
      "100%|██████████| 1/1 [00:04<00:00,  4.08s/it]\n"
     ]
    },
    {
     "name": "stdout",
     "output_type": "stream",
     "text": [
      "{'Reactants': ['1a', '2a'], 'Product': ['3a']}\n",
      "第50条数据\n"
     ]
    },
    {
     "name": "stderr",
     "output_type": "stream",
     "text": [
      "Processed prompts: 100%|██████████| 1/1 [00:03<00:00,  3.17s/it, Generation Speed: 6.32 toks/s]\n",
      "100%|██████████| 1/1 [00:03<00:00,  3.17s/it]\n"
     ]
    },
    {
     "name": "stdout",
     "output_type": "stream",
     "text": [
      "{'Reactants': ['2', 'I2O5'], 'Product': ['4']}\n",
      "第51条数据\n"
     ]
    },
    {
     "name": "stderr",
     "output_type": "stream",
     "text": [
      "Processed prompts: 100%|██████████| 1/1 [00:02<00:00,  2.71s/it, Generation Speed: 6.66 toks/s]\n",
      "100%|██████████| 1/1 [00:02<00:00,  2.71s/it]\n"
     ]
    },
    {
     "name": "stdout",
     "output_type": "stream",
     "text": [
      "{'Reactants': ['4', '1'], 'Product': ['5.']}\n",
      "第52条数据\n"
     ]
    },
    {
     "name": "stderr",
     "output_type": "stream",
     "text": [
      "Processed prompts: 100%|██████████| 1/1 [00:03<00:00,  3.17s/it, Generation Speed: 4.42 toks/s]\n",
      "100%|██████████| 1/1 [00:03<00:00,  3.18s/it]\n"
     ]
    },
    {
     "name": "stdout",
     "output_type": "stream",
     "text": [
      "{'Reactants': ['6'], 'Product': ['7']}\n"
     ]
    },
    {
     "name": "stderr",
     "output_type": "stream",
     "text": [
      "Processed prompts: 100%|██████████| 1/1 [00:03<00:00,  3.29s/it, Generation Speed: 5.77 toks/s]\n",
      "100%|██████████| 1/1 [00:03<00:00,  3.30s/it]\n"
     ]
    },
    {
     "name": "stdout",
     "output_type": "stream",
     "text": [
      "{'Reactants': ['H2O', '7'], 'Product': ['8']}\n",
      "第53条数据\n"
     ]
    },
    {
     "name": "stderr",
     "output_type": "stream",
     "text": [
      "Processed prompts: 100%|██████████| 1/1 [00:03<00:00,  3.22s/it, Generation Speed: 7.77 toks/s]\n",
      "100%|██████████| 1/1 [00:03<00:00,  3.23s/it]\n"
     ]
    },
    {
     "name": "stdout",
     "output_type": "stream",
     "text": [
      "{'Reactants': ['8'], 'Catalyst_Reagents': ['TBHP'], 'Product': ['3']}\n",
      "第54条数据\n",
      "第55条数据\n"
     ]
    },
    {
     "name": "stderr",
     "output_type": "stream",
     "text": [
      "Processed prompts: 100%|██████████| 1/1 [00:02<00:00,  2.75s/it, Generation Speed: 8.01 toks/s]\n",
      "100%|██████████| 1/1 [00:02<00:00,  2.76s/it]\n"
     ]
    },
    {
     "name": "stdout",
     "output_type": "stream",
     "text": [
      "{'Product': ['5'], 'Yield': ['28 %'], 'Time': ['2 h']}\n",
      "第56条数据\n",
      "第57条数据\n"
     ]
    },
    {
     "name": "stderr",
     "output_type": "stream",
     "text": [
      "Processed prompts: 100%|██████████| 1/1 [00:04<00:00,  4.78s/it, Generation Speed: 9.20 toks/s]\n",
      "100%|██████████| 1/1 [00:04<00:00,  4.79s/it]\n"
     ]
    },
    {
     "name": "stdout",
     "output_type": "stream",
     "text": [
      "{'Reactants': ['palladium acetate', 'tris(2,6-dimeth- oxyphenyl)phosphineE(TDMPP)'], 'Product': ['4a9']}\n",
      "第58条数据\n",
      "第59条数据\n"
     ]
    },
    {
     "name": "stderr",
     "output_type": "stream",
     "text": [
      "Processed prompts: 100%|██████████| 1/1 [00:04<00:00,  4.42s/it, Generation Speed: 6.12 toks/s]\n",
      "100%|██████████| 1/1 [00:04<00:00,  4.43s/it]\n"
     ]
    },
    {
     "name": "stdout",
     "output_type": "stream",
     "text": [
      "{'Reactants': ['2b'], 'Product': ['3bI0'], 'Solvent': ['benzene']}\n"
     ]
    },
    {
     "name": "stderr",
     "output_type": "stream",
     "text": [
      "Processed prompts: 100%|██████████| 1/1 [00:04<00:00,  4.21s/it, Generation Speed: 6.18 toks/s]\n",
      "100%|██████████| 1/1 [00:04<00:00,  4.22s/it]\n"
     ]
    },
    {
     "name": "stdout",
     "output_type": "stream",
     "text": [
      "{'Solvent': ['benzene'], 'Reactants': ['2b'], 'Product': ['5b.']}\n",
      "第60条数据\n",
      "第61条数据\n"
     ]
    },
    {
     "name": "stderr",
     "output_type": "stream",
     "text": [
      "Processed prompts: 100%|██████████| 1/1 [00:08<00:00,  8.11s/it, Generation Speed: 9.99 toks/s]\n",
      "100%|██████████| 1/1 [00:08<00:00,  8.12s/it]\n"
     ]
    },
    {
     "name": "stdout",
     "output_type": "stream",
     "text": [
      "{'Catalyst_Reagents': ['Pd(PPh3)4'], 'Reactants': ['1a', '3a', 'K3PO4'], 'Temperature': ['110 ° C'], 'Time': ['15 min'], 'Solvent': ['DMF'], 'Yield': ['13 %'], 'Product': ['3-benzazepine']}\n"
     ]
    },
    {
     "name": "stderr",
     "output_type": "stream",
     "text": [
      "Processed prompts: 100%|██████████| 1/1 [00:09<00:00,  9.12s/it, Generation Speed: 8.45 toks/s]\n",
      "100%|██████████| 1/1 [00:09<00:00,  9.13s/it]\n"
     ]
    },
    {
     "name": "stdout",
     "output_type": "stream",
     "text": [
      "{'Catalyst_Reagents': ['Pd(PPh3)4'], 'Reactants': ['1a', '3a', 'K3PO4'], 'Temperature': ['110 ° C'], 'Time': ['15 min'], 'Solvent': ['DMF'], 'Yield': ['13 %'], 'Product': ['4a']}\n",
      "第62条数据\n",
      "第63条数据\n"
     ]
    },
    {
     "name": "stderr",
     "output_type": "stream",
     "text": [
      "Processed prompts: 100%|██████████| 1/1 [00:02<00:00,  2.69s/it, Generation Speed: 6.35 toks/s]\n",
      "100%|██████████| 1/1 [00:02<00:00,  2.69s/it]\n"
     ]
    },
    {
     "name": "stdout",
     "output_type": "stream",
     "text": [
      "{'Reactants': ['11', '21'], 'Product': ['22']}\n",
      "第64条数据\n"
     ]
    },
    {
     "name": "stderr",
     "output_type": "stream",
     "text": [
      "Processed prompts: 100%|██████████| 1/1 [00:04<00:00,  4.60s/it, Generation Speed: 8.49 toks/s]\n",
      "100%|██████████| 1/1 [00:04<00:00,  4.61s/it]\n"
     ]
    },
    {
     "name": "stdout",
     "output_type": "stream",
     "text": [
      "{'Temperature': [\"100 'C\"], 'Solvent': ['toluene'], 'Reactants': ['2a'], 'Product': ['tri-tert-butylsilane']}\n",
      "第65条数据\n"
     ]
    },
    {
     "name": "stderr",
     "output_type": "stream",
     "text": [
      "Processed prompts: 100%|██████████| 1/1 [00:07<00:00,  7.95s/it, Generation Speed: 7.05 toks/s]\n",
      "100%|██████████| 1/1 [00:07<00:00,  7.96s/it]\n"
     ]
    },
    {
     "name": "stdout",
     "output_type": "stream",
     "text": [
      "{'Reactants': ['1r(CR = CRCR3.CR)(PPh3)2C1', '1-Cl', 'R = C02CH3)9', '3-butyn-1-01'], 'Product': ['2,1']}\n"
     ]
    },
    {
     "name": "stderr",
     "output_type": "stream",
     "text": [
      "Processed prompts: 100%|██████████| 1/1 [00:05<00:00,  5.35s/it, Generation Speed: 4.12 toks/s]\n",
      "100%|██████████| 1/1 [00:05<00:00,  5.36s/it]\n"
     ]
    },
    {
     "name": "stdout",
     "output_type": "stream",
     "text": [
      "{'Reactants': ['1-C1', 'propargyl alcohol'], 'Product': ['3']}\n",
      "第66条数据\n"
     ]
    },
    {
     "name": "stderr",
     "output_type": "stream",
     "text": [
      "Processed prompts: 100%|██████████| 1/1 [00:09<00:00,  9.12s/it, Generation Speed: 5.70 toks/s]\n",
      "100%|██████████| 1/1 [00:09<00:00,  9.13s/it]\n"
     ]
    },
    {
     "name": "stdout",
     "output_type": "stream",
     "text": [
      "{'Reactants': ['2b', 'Me2- SiC12I7'], 'Solvent': ['Et20'], 'Temperature': ['-20 \" C'], 'Product': ['8'], 'Yield': ['89 : 11']}\n"
     ]
    },
    {
     "name": "stderr",
     "output_type": "stream",
     "text": [
      "Processed prompts: 100%|██████████| 1/1 [00:08<00:00,  8.55s/it, Generation Speed: 5.74 toks/s]\n",
      "100%|██████████| 1/1 [00:08<00:00,  8.56s/it]"
     ]
    },
    {
     "name": "stdout",
     "output_type": "stream",
     "text": [
      "{'Reactants': ['2b', 'Me2- SiC12I7'], 'Solvent': ['Et20'], 'Temperature': ['-20 \" C'], 'Product': ['9'], 'Yield': ['11']}\n",
      "TP, FP, FN 250 59 149\n",
      "NER:  precision, recall 0.8090614886731392 0.6265664160401002\n",
      "NER:  f1_score 0.7062146892655367\n"
     ]
    },
    {
     "name": "stderr",
     "output_type": "stream",
     "text": [
      "\n"
     ]
    }
   ],
   "source": [
    "import os\n",
    "\n",
    "from evaluate import *\n",
    "from llm_re import *\n",
    "\n",
    "def main():\n",
    "    train_data,test_data=get_data()\n",
    "    \n",
    "    prev_dir='/data/lizh/ChemRxnExtractor-main/test_prev.json'\n",
    "    prev_data=read_json_file(prev_dir)\n",
    "    \n",
    "    prev_data2=chem_re(train_data,prev_data)\n",
    "    Reaction_f1(test_data,prev_data2)\n",
    "\n",
    "main()"
   ]
  }
 ],
 "metadata": {
  "kernelspec": {
   "display_name": "vllm",
   "language": "python",
   "name": "python3"
  },
  "language_info": {
   "codemirror_mode": {
    "name": "ipython",
    "version": 3
   },
   "file_extension": ".py",
   "mimetype": "text/x-python",
   "name": "python",
   "nbconvert_exporter": "python",
   "pygments_lexer": "ipython3",
   "version": "3.9.0"
  }
 },
 "nbformat": 4,
 "nbformat_minor": 2
}
