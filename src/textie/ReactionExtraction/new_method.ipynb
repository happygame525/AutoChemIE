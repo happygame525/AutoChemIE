{
 "cells": [
  {
   "cell_type": "markdown",
   "metadata": {},
   "source": [
    "# 结合两种方法试一下 看F1结果会不会提升"
   ]
  },
  {
   "cell_type": "markdown",
   "metadata": {},
   "source": [
    "微调后的模型\n",
    "TP, FP, FN 256 91 143\n",
    "NER:  precision, recall 0.7377521613832853 0.6416040100250626\n",
    "NER:  f1_score 0.6863270777479892"
   ]
  },
  {
   "cell_type": "code",
   "execution_count": 1,
   "metadata": {},
   "outputs": [
    {
     "name": "stderr",
     "output_type": "stream",
     "text": [
      "/data/lizh/Conda/anaconda3/envs/vllm/lib/python3.9/site-packages/tqdm/auto.py:21: TqdmWarning: IProgress not found. Please update jupyter and ipywidgets. See https://ipywidgets.readthedocs.io/en/stable/user_install.html\n",
      "  from .autonotebook import tqdm as notebook_tqdm\n",
      "2024-12-11 11:35:41,937\tINFO util.py:154 -- Missing packages: ['ipywidgets']. Run `pip install -U ipywidgets`, then restart the notebook server for rich notebook output.\n",
      "2024-12-11 11:35:44,238\tINFO worker.py:1771 -- Started a local Ray instance.\n"
     ]
    },
    {
     "name": "stdout",
     "output_type": "stream",
     "text": [
      "INFO 12-11 11:35:45 llm_engine.py:161] Initializing an LLM engine (v0.4.3) with config: model='/data/lizh/LLaMA-Factory-main/models/qwen2.5_14b_ptsft', speculative_config=None, tokenizer='/data/lizh/LLaMA-Factory-main/models/qwen2.5_14b_ptsft', skip_tokenizer_init=False, tokenizer_mode=auto, revision=None, rope_scaling=None, tokenizer_revision=None, trust_remote_code=False, dtype=torch.bfloat16, max_seq_len=32768, download_dir=None, load_format=LoadFormat.AUTO, tensor_parallel_size=4, disable_custom_all_reduce=False, quantization=None, enforce_eager=False, kv_cache_dtype=auto, quantization_param_path=None, device_config=cuda, decoding_config=DecodingConfig(guided_decoding_backend='outlines'), seed=0, served_model_name=/data/lizh/LLaMA-Factory-main/models/qwen2.5_14b_ptsft)\n",
      "INFO 12-11 11:35:56 utils.py:618] Found nccl from library libnccl.so.2\n",
      "INFO 12-11 11:35:56 pynccl.py:65] vLLM is using nccl==2.20.5\n",
      "\u001b[36m(RayWorkerWrapper pid=949409)\u001b[0m INFO 12-11 11:35:56 utils.py:618] Found nccl from library libnccl.so.2\n",
      "\u001b[36m(RayWorkerWrapper pid=949409)\u001b[0m INFO 12-11 11:35:56 pynccl.py:65] vLLM is using nccl==2.20.5\n",
      "WARNING 12-11 11:35:57 custom_all_reduce.py:158] Custom allreduce is disabled because it's not supported on more than two PCIe-only GPUs. To silence this warning, specify disable_custom_all_reduce=True explicitly.\n",
      "\u001b[36m(RayWorkerWrapper pid=949409)\u001b[0m WARNING 12-11 11:35:57 custom_all_reduce.py:158] Custom allreduce is disabled because it's not supported on more than two PCIe-only GPUs. To silence this warning, specify disable_custom_all_reduce=True explicitly.\n",
      "INFO 12-11 11:36:00 model_runner.py:146] Loading model weights took 6.9459 GB\n",
      "\u001b[36m(RayWorkerWrapper pid=949490)\u001b[0m INFO 12-11 11:36:01 model_runner.py:146] Loading model weights took 6.9459 GB\n",
      "INFO 12-11 11:36:10 distributed_gpu_executor.py:56] # GPU blocks: 51773, # CPU blocks: 5461\n",
      "INFO 12-11 11:36:14 model_runner.py:854] Capturing the model for CUDA graphs. This may lead to unexpected consequences if the model is not static. To run the model in eager mode, set 'enforce_eager=True' or use '--enforce-eager' in the CLI.\n",
      "INFO 12-11 11:36:14 model_runner.py:858] CUDA graphs can take additional 1~3 GiB memory per GPU. If you are running out of memory, consider decreasing `gpu_memory_utilization` or enforcing eager mode. You can also reduce the `max_num_seqs` as needed to decrease memory usage.\n",
      "\u001b[36m(RayWorkerWrapper pid=949409)\u001b[0m INFO 12-11 11:36:14 model_runner.py:854] Capturing the model for CUDA graphs. This may lead to unexpected consequences if the model is not static. To run the model in eager mode, set 'enforce_eager=True' or use '--enforce-eager' in the CLI.\n",
      "\u001b[36m(RayWorkerWrapper pid=949409)\u001b[0m INFO 12-11 11:36:14 model_runner.py:858] CUDA graphs can take additional 1~3 GiB memory per GPU. If you are running out of memory, consider decreasing `gpu_memory_utilization` or enforcing eager mode. You can also reduce the `max_num_seqs` as needed to decrease memory usage.\n",
      "\u001b[36m(RayWorkerWrapper pid=949638)\u001b[0m INFO 12-11 11:35:56 utils.py:618] Found nccl from library libnccl.so.2\u001b[32m [repeated 2x across cluster] (Ray deduplicates logs by default. Set RAY_DEDUP_LOGS=0 to disable log deduplication, or see https://docs.ray.io/en/master/ray-observability/user-guides/configure-logging.html#log-deduplication for more options.)\u001b[0m\n",
      "\u001b[36m(RayWorkerWrapper pid=949638)\u001b[0m INFO 12-11 11:35:56 pynccl.py:65] vLLM is using nccl==2.20.5\u001b[32m [repeated 2x across cluster]\u001b[0m\n",
      "\u001b[36m(RayWorkerWrapper pid=949638)\u001b[0m WARNING 12-11 11:35:57 custom_all_reduce.py:158] Custom allreduce is disabled because it's not supported on more than two PCIe-only GPUs. To silence this warning, specify disable_custom_all_reduce=True explicitly.\u001b[32m [repeated 2x across cluster]\u001b[0m\n",
      "\u001b[36m(RayWorkerWrapper pid=949409)\u001b[0m INFO 12-11 11:36:01 model_runner.py:146] Loading model weights took 6.9459 GB\u001b[32m [repeated 2x across cluster]\u001b[0m\n",
      "INFO 12-11 11:36:24 model_runner.py:924] Graph capturing finished in 11 secs.\n",
      "\u001b[36m(RayWorkerWrapper pid=949409)\u001b[0m INFO 12-11 11:36:24 model_runner.py:924] Graph capturing finished in 10 secs.\n",
      "\u001b[36m(RayWorkerWrapper pid=949638)\u001b[0m INFO 12-11 11:36:14 model_runner.py:854] Capturing the model for CUDA graphs. This may lead to unexpected consequences if the model is not static. To run the model in eager mode, set 'enforce_eager=True' or use '--enforce-eager' in the CLI.\u001b[32m [repeated 2x across cluster]\u001b[0m\n",
      "\u001b[36m(RayWorkerWrapper pid=949638)\u001b[0m INFO 12-11 11:36:14 model_runner.py:858] CUDA graphs can take additional 1~3 GiB memory per GPU. If you are running out of memory, consider decreasing `gpu_memory_utilization` or enforcing eager mode. You can also reduce the `max_num_seqs` as needed to decrease memory usage.\u001b[32m [repeated 2x across cluster]\u001b[0m\n",
      "第0条数据\n"
     ]
    },
    {
     "name": "stderr",
     "output_type": "stream",
     "text": [
      "Processed prompts: 100%|██████████| 1/1 [00:02<00:00,  2.21s/it, Generation Speed: 16.31 toks/s]\n",
      "100%|██████████| 1/1 [00:02<00:00,  2.25s/it]\n"
     ]
    },
    {
     "name": "stdout",
     "output_type": "stream",
     "text": [
      "{'Reactants': ['diphenylacetylene', '19A'], 'Product': ['23A'], 'Yield': ['30 %']}\n"
     ]
    },
    {
     "name": "stderr",
     "output_type": "stream",
     "text": [
      "Processed prompts: 100%|██████████| 1/1 [00:00<00:00,  1.32it/s, Generation Speed: 54.32 toks/s]\n",
      "100%|██████████| 1/1 [00:00<00:00,  1.30it/s]\n"
     ]
    },
    {
     "name": "stdout",
     "output_type": "stream",
     "text": [
      "{'Reactants': ['(phenylcyclopropy1)- carbene complex', '19B'], 'Product': ['25'], 'Yield': ['53 %']}\n",
      "第1条数据\n"
     ]
    },
    {
     "name": "stderr",
     "output_type": "stream",
     "text": [
      "Processed prompts: 100%|██████████| 1/1 [00:01<00:00,  1.28s/it, Generation Speed: 56.99 toks/s]\n",
      "100%|██████████| 1/1 [00:01<00:00,  1.30s/it]\n"
     ]
    },
    {
     "name": "stdout",
     "output_type": "stream",
     "text": [
      "{'Reactants': ['2.0 equiv of copper acetate'], 'Solvent': ['DMSO'], 'Product': ['2-(3-(methylthio)naphthalen-2-yl)pyridine'], 'Yield': ['89 %'], 'Temperature': ['125 ° C']}\n"
     ]
    },
    {
     "name": "stderr",
     "output_type": "stream",
     "text": [
      "Processed prompts: 100%|██████████| 1/1 [00:00<00:00,  1.02it/s, Generation Speed: 55.23 toks/s]\n",
      "100%|██████████| 1/1 [00:00<00:00,  1.01it/s]\n"
     ]
    },
    {
     "name": "stdout",
     "output_type": "stream",
     "text": [
      "{'Catalyst_Reagents': ['copper acetate'], 'Solvent': ['DMSO'], 'Product': ['2b'], 'Yield': ['89 %'], 'Temperature': ['125 ° C']}\n",
      "第2条数据\n"
     ]
    },
    {
     "name": "stderr",
     "output_type": "stream",
     "text": [
      "Processed prompts: 100%|██████████| 1/1 [00:00<00:00,  1.54it/s, Generation Speed: 45.50 toks/s]\n",
      "100%|██████████| 1/1 [00:00<00:00,  1.52it/s]\n"
     ]
    },
    {
     "name": "stdout",
     "output_type": "stream",
     "text": [
      "{'Reactants': ['Me3SiCH2MgC1', '02'], 'Product': ['Me3SiOH']}\n"
     ]
    },
    {
     "name": "stderr",
     "output_type": "stream",
     "text": [
      "Processed prompts: 100%|██████████| 1/1 [00:00<00:00,  1.57it/s, Generation Speed: 50.93 toks/s]\n",
      "100%|██████████| 1/1 [00:00<00:00,  1.54it/s]\n"
     ]
    },
    {
     "name": "stdout",
     "output_type": "stream",
     "text": [
      "{'Reactants': ['Me3SiCH2MgC1', '02'], 'Product': ['(Me3Si)20']}\n"
     ]
    },
    {
     "name": "stderr",
     "output_type": "stream",
     "text": [
      "Processed prompts: 100%|██████████| 1/1 [00:00<00:00,  1.73it/s, Generation Speed: 53.81 toks/s]\n",
      "100%|██████████| 1/1 [00:00<00:00,  1.70it/s]\n"
     ]
    },
    {
     "name": "stdout",
     "output_type": "stream",
     "text": [
      "{'Reactants': ['Me3SiCH2MgC1', '02'], 'Product': ['CH20.22']}\n",
      "第3条数据\n"
     ]
    },
    {
     "name": "stderr",
     "output_type": "stream",
     "text": [
      "Processed prompts: 100%|██████████| 1/1 [00:00<00:00,  1.29it/s, Generation Speed: 60.19 toks/s]\n",
      "100%|██████████| 1/1 [00:00<00:00,  1.28it/s]\n"
     ]
    },
    {
     "name": "stdout",
     "output_type": "stream",
     "text": [
      "{'Reactants': ['8', 'acetone'], 'Catalyst_Reagents': ['trifluoroacetic acid-tri- fluoroacetic anhydride'], 'Product': ['9.']}\n",
      "第4条数据\n"
     ]
    },
    {
     "name": "stderr",
     "output_type": "stream",
     "text": [
      "Processed prompts: 100%|██████████| 1/1 [00:00<00:00,  1.35it/s, Generation Speed: 33.99 toks/s]\n",
      "100%|██████████| 1/1 [00:00<00:00,  1.32it/s]\n"
     ]
    },
    {
     "name": "stdout",
     "output_type": "stream",
     "text": [
      "{'Reactants': ['10'], 'Product': ['11'], 'Yield': ['92 %']}\n"
     ]
    },
    {
     "name": "stderr",
     "output_type": "stream",
     "text": [
      "Processed prompts: 100%|██████████| 1/1 [00:01<00:00,  1.12s/it, Generation Speed: 57.24 toks/s]\n",
      "100%|██████████| 1/1 [00:01<00:00,  1.13s/it]\n"
     ]
    },
    {
     "name": "stdout",
     "output_type": "stream",
     "text": [
      "{'Reactants': ['11', '1-heptyne'], 'Catalyst_Reagents': ['bis(triphenylphosphine)palladium(II) chloride', 'triethylamine- DMF'], 'Product': ['12.'], 'Yield': ['68 %']}\n",
      "第5条数据\n"
     ]
    },
    {
     "name": "stderr",
     "output_type": "stream",
     "text": [
      "Processed prompts: 100%|██████████| 1/1 [00:00<00:00,  1.98it/s, Generation Speed: 49.83 toks/s]\n",
      "100%|██████████| 1/1 [00:00<00:00,  1.95it/s]\n"
     ]
    },
    {
     "name": "stdout",
     "output_type": "stream",
     "text": [
      "{'Reactants': ['12'], 'Product': ['13'], 'Yield': ['-loo %']}\n"
     ]
    },
    {
     "name": "stderr",
     "output_type": "stream",
     "text": [
      "Processed prompts: 100%|██████████| 1/1 [00:00<00:00,  1.05it/s, Generation Speed: 57.15 toks/s]\n",
      "100%|██████████| 1/1 [00:00<00:00,  1.04it/s]\n"
     ]
    },
    {
     "name": "stdout",
     "output_type": "stream",
     "text": [
      "{'Reactants': ['13', 'KOH - DMSO'], 'Temperature': ['120 OC'], 'Product': ['5-heptylresorcinolg'], 'Yield': ['90 %', 'from 12']}\n"
     ]
    },
    {
     "name": "stderr",
     "output_type": "stream",
     "text": [
      "Processed prompts: 100%|██████████| 1/1 [00:00<00:00,  1.26it/s, Generation Speed: 58.47 toks/s]\n",
      "100%|██████████| 1/1 [00:00<00:00,  1.24it/s]\n"
     ]
    },
    {
     "name": "stdout",
     "output_type": "stream",
     "text": [
      "第6条数据\n"
     ]
    },
    {
     "name": "stderr",
     "output_type": "stream",
     "text": [
      "Processed prompts: 100%|██████████| 1/1 [00:00<00:00,  1.54it/s, Generation Speed: 51.33 toks/s]\n",
      "100%|██████████| 1/1 [00:00<00:00,  1.52it/s]\n"
     ]
    },
    {
     "name": "stdout",
     "output_type": "stream",
     "text": [
      "{'Reactants': ['13', 'lithium benzyl oxide'], 'Solvent': ['THF'], 'Product': ['15.']}\n",
      "第7条数据\n"
     ]
    },
    {
     "name": "stderr",
     "output_type": "stream",
     "text": [
      "Processed prompts: 100%|██████████| 1/1 [00:00<00:00,  1.46it/s, Generation Speed: 55.60 toks/s]\n",
      "100%|██████████| 1/1 [00:00<00:00,  1.43it/s]\n"
     ]
    },
    {
     "name": "stdout",
     "output_type": "stream",
     "text": [
      "{'Reactants': ['16', 'j3-(trimethylsilyl)ethanol'], 'Product': ['17'], 'Yield': ['80 %']}\n",
      "第8条数据\n"
     ]
    },
    {
     "name": "stderr",
     "output_type": "stream",
     "text": [
      "Processed prompts: 100%|██████████| 1/1 [00:00<00:00,  1.04it/s, Generation Speed: 62.41 toks/s]\n",
      "100%|██████████| 1/1 [00:00<00:00,  1.03it/s]\n"
     ]
    },
    {
     "name": "stdout",
     "output_type": "stream",
     "text": [
      "{'Reactants': ['17', '18'], 'Catalyst_Reagents': ['K2C03', '18-crown-6'], 'Solvent': ['acetone'], 'Yield': ['81 %'], 'Product': ['19.']}\n",
      "第9条数据\n"
     ]
    },
    {
     "name": "stderr",
     "output_type": "stream",
     "text": [
      "Processed prompts: 100%|██████████| 1/1 [00:00<00:00,  1.42it/s, Generation Speed: 54.40 toks/s]\n",
      "100%|██████████| 1/1 [00:00<00:00,  1.40it/s]\n"
     ]
    },
    {
     "name": "stdout",
     "output_type": "stream",
     "text": [
      "{'Reactants': ['10'], 'Catalyst_Reagents': ['bromotrimethylsilane', 'TMSBr'], 'Product': ['11.']}\n",
      "第10条数据\n"
     ]
    },
    {
     "name": "stderr",
     "output_type": "stream",
     "text": [
      "Processed prompts: 100%|██████████| 1/1 [00:00<00:00,  1.49it/s, Generation Speed: 47.83 toks/s]\n",
      "100%|██████████| 1/1 [00:00<00:00,  1.46it/s]\n"
     ]
    },
    {
     "name": "stdout",
     "output_type": "stream",
     "text": [
      "{'Reactants': ['2', 'pyridinium bromide perbromidel8', 'acetic acid'], 'Product': ['3.']}\n",
      "第11条数据\n"
     ]
    },
    {
     "name": "stderr",
     "output_type": "stream",
     "text": [
      "Processed prompts: 100%|██████████| 1/1 [00:00<00:00,  1.46it/s, Generation Speed: 57.02 toks/s]\n",
      "100%|██████████| 1/1 [00:00<00:00,  1.44it/s]\n"
     ]
    },
    {
     "name": "stdout",
     "output_type": "stream",
     "text": [
      "{'Reactants': ['ethyl 3,3-diamino-2-propenoatelg', '4'], 'Product': ['1'], 'Yield': ['58 %']}\n",
      "第12条数据\n"
     ]
    },
    {
     "name": "stderr",
     "output_type": "stream",
     "text": [
      "Processed prompts: 100%|██████████| 1/1 [00:01<00:00,  1.06s/it, Generation Speed: 52.10 toks/s]\n",
      "100%|██████████| 1/1 [00:01<00:00,  1.07s/it]\n"
     ]
    },
    {
     "name": "stdout",
     "output_type": "stream",
     "text": [
      "{'Product': ['4'], 'Reactants': ['6', 'n- butyllithium', 'n-BuLi'], 'Solvent': ['Et2O', 't-BuOMe', 'hexane', 'cyclopentane']}\n",
      "第13条数据\n"
     ]
    },
    {
     "name": "stderr",
     "output_type": "stream",
     "text": [
      "Processed prompts: 100%|██████████| 1/1 [00:00<00:00,  1.81it/s, Generation Speed: 47.27 toks/s]\n",
      "100%|██████████| 1/1 [00:00<00:00,  1.77it/s]\n"
     ]
    },
    {
     "name": "stdout",
     "output_type": "stream",
     "text": [
      "{'Catalyst_Reagents': ['AA6'], 'Reactants': ['1'], 'Product': ['2.']}\n",
      "第14条数据\n"
     ]
    },
    {
     "name": "stderr",
     "output_type": "stream",
     "text": [
      "Processed prompts: 100%|██████████| 1/1 [00:00<00:00,  1.61it/s, Generation Speed: 44.07 toks/s]\n",
      "100%|██████████| 1/1 [00:00<00:00,  1.58it/s]\n"
     ]
    },
    {
     "name": "stdout",
     "output_type": "stream",
     "text": [
      "{'Product': ['1'], 'Reactants': ['2s', '3'], 'Solvent': ['CHCI,']}\n",
      "第15条数据\n"
     ]
    },
    {
     "name": "stderr",
     "output_type": "stream",
     "text": [
      "Processed prompts: 100%|██████████| 1/1 [00:00<00:00,  2.28it/s, Generation Speed: 41.66 toks/s]\n",
      "100%|██████████| 1/1 [00:00<00:00,  2.21it/s]\n"
     ]
    },
    {
     "name": "stdout",
     "output_type": "stream",
     "text": [
      "{'Reactants': ['46', '5'], 'Product': ['3']}\n",
      "第16条数据\n"
     ]
    },
    {
     "name": "stderr",
     "output_type": "stream",
     "text": [
      "Processed prompts: 100%|██████████| 1/1 [00:00<00:00,  1.32it/s, Generation Speed: 48.19 toks/s]\n",
      "100%|██████████| 1/1 [00:00<00:00,  1.29it/s]\n"
     ]
    },
    {
     "name": "stdout",
     "output_type": "stream",
     "text": [
      "{'Solvent': ['acetone'], 'Yield': ['22 %'], 'Product': ['3-ŏluoropentadecane']}\n",
      "第17条数据\n"
     ]
    },
    {
     "name": "stderr",
     "output_type": "stream",
     "text": [
      "Processed prompts: 100%|██████████| 1/1 [00:00<00:00,  1.36it/s, Generation Speed: 41.43 toks/s]\n",
      "100%|██████████| 1/1 [00:00<00:00,  1.33it/s]\n"
     ]
    },
    {
     "name": "stdout",
     "output_type": "stream",
     "text": [
      "{'Product': ['7'], 'Yield': ['55 %'], 'Reactants': ['N-acetyl+ galactosamine']}\n",
      "第18条数据\n"
     ]
    },
    {
     "name": "stderr",
     "output_type": "stream",
     "text": [
      "Processed prompts: 100%|██████████| 1/1 [00:00<00:00,  1.16it/s, Generation Speed: 46.99 toks/s]\n",
      "100%|██████████| 1/1 [00:00<00:00,  1.14it/s]\n"
     ]
    },
    {
     "name": "stdout",
     "output_type": "stream",
     "text": [
      "{'Reactants': ['5'], 'Catalyst_Reagents': ['MeMgBr', '1'], 'Product': ['10'], 'Yield': ['70 %']}\n",
      "第19条数据\n"
     ]
    },
    {
     "name": "stderr",
     "output_type": "stream",
     "text": [
      "Processed prompts: 100%|██████████| 1/1 [00:00<00:00,  1.45it/s, Generation Speed: 63.29 toks/s]\n",
      "100%|██████████| 1/1 [00:00<00:00,  1.43it/s]\n"
     ]
    },
    {
     "name": "stdout",
     "output_type": "stream",
     "text": [
      "answers:[{'Reactants': ['35'], 'Product': ['36'], 'Solvent': ['alcoholic'], 'Catalyst_Reagents': ['[4]paracyclophane 3']}]\n",
      "第20条数据\n"
     ]
    },
    {
     "name": "stderr",
     "output_type": "stream",
     "text": [
      "Processed prompts: 100%|██████████| 1/1 [00:00<00:00,  1.74it/s, Generation Speed: 36.89 toks/s]\n",
      "100%|██████████| 1/1 [00:00<00:00,  1.69it/s]\n"
     ]
    },
    {
     "name": "stdout",
     "output_type": "stream",
     "text": [
      "{'Reactants': ['pivalonitrile', '1'], 'Product': ['3']}\n",
      "第21条数据\n"
     ]
    },
    {
     "name": "stderr",
     "output_type": "stream",
     "text": [
      "Processed prompts: 100%|██████████| 1/1 [00:00<00:00,  3.34it/s, Generation Speed: 53.74 toks/s]\n",
      "100%|██████████| 1/1 [00:00<00:00,  3.28it/s]\n"
     ]
    },
    {
     "name": "stdout",
     "output_type": "stream",
     "text": [
      "answers:[{'Reactants': ['1'], 'Product': ['glycine']}]\n",
      "第22条数据\n"
     ]
    },
    {
     "name": "stderr",
     "output_type": "stream",
     "text": [
      "Processed prompts: 100%|██████████| 1/1 [00:00<00:00,  2.32it/s, Generation Speed: 62.85 toks/s]\n",
      "100%|██████████| 1/1 [00:00<00:00,  2.28it/s]\n"
     ]
    },
    {
     "name": "stdout",
     "output_type": "stream",
     "text": [
      "answers:[{'Product': ['Gly'], 'Reactants': ['Gly'], 'Yield': ['greater than stoichiometric']}]\n",
      "第23条数据\n"
     ]
    },
    {
     "name": "stderr",
     "output_type": "stream",
     "text": [
      "Processed prompts: 100%|██████████| 1/1 [00:00<00:00,  1.39it/s, Generation Speed: 55.56 toks/s]\n",
      "100%|██████████| 1/1 [00:00<00:00,  1.37it/s]\n"
     ]
    },
    {
     "name": "stdout",
     "output_type": "stream",
     "text": [
      "{'Catalyst_Reagents': ['zirconium-'], 'Reactants': ['10'], 'Product': [\"7,'4b\"], 'Yield': ['60 %']}\n"
     ]
    },
    {
     "name": "stderr",
     "output_type": "stream",
     "text": [
      "Processed prompts: 100%|██████████| 1/1 [00:00<00:00,  1.39it/s, Generation Speed: 53.32 toks/s]\n",
      "100%|██████████| 1/1 [00:00<00:00,  1.37it/s]\n"
     ]
    },
    {
     "name": "stdout",
     "output_type": "stream",
     "text": [
      "{'Reactants': ['10'], 'Catalyst_Reagents': ['zirconium-'], 'Product': ['11'], 'Yield': ['60 %']}\n",
      "第24条数据\n"
     ]
    },
    {
     "name": "stderr",
     "output_type": "stream",
     "text": [
      "Processed prompts: 100%|██████████| 1/1 [00:00<00:00,  1.46it/s, Generation Speed: 51.89 toks/s]\n",
      "100%|██████████| 1/1 [00:00<00:00,  1.43it/s]\n"
     ]
    },
    {
     "name": "stdout",
     "output_type": "stream",
     "text": [
      "{'Reactants': ['13'], 'Catalyst_Reagents': ['catecholborane'], 'Temperature': ['room'], 'Product': ['8']}\n",
      "第25条数据\n"
     ]
    },
    {
     "name": "stderr",
     "output_type": "stream",
     "text": [
      "Processed prompts: 100%|██████████| 1/1 [00:01<00:00,  1.63s/it, Generation Speed: 16.63 toks/s]\n",
      "100%|██████████| 1/1 [00:01<00:00,  1.65s/it]\n"
     ]
    },
    {
     "name": "stdout",
     "output_type": "stream",
     "text": [
      "{'Reactants': ['5-cyclononynone', \"lO,'l\"], 'Product': ['11']}\n"
     ]
    },
    {
     "name": "stderr",
     "output_type": "stream",
     "text": [
      "Processed prompts: 100%|██████████| 1/1 [00:00<00:00,  1.18it/s, Generation Speed: 32.18 toks/s]\n",
      "100%|██████████| 1/1 [00:00<00:00,  1.16it/s]\n"
     ]
    },
    {
     "name": "stdout",
     "output_type": "stream",
     "text": [
      "{'Reactants': ['5-cyclononynone', \"lO,'l\"], 'Product': ['12']}\n",
      "第26条数据\n"
     ]
    },
    {
     "name": "stderr",
     "output_type": "stream",
     "text": [
      "Processed prompts: 100%|██████████| 1/1 [00:00<00:00,  2.49it/s, Generation Speed: 38.28 toks/s]\n",
      "100%|██████████| 1/1 [00:00<00:00,  2.42it/s]\n"
     ]
    },
    {
     "name": "stdout",
     "output_type": "stream",
     "text": [
      "{'Reactants': ['latter'], 'Product': ['3']}\n",
      "第27条数据\n"
     ]
    },
    {
     "name": "stderr",
     "output_type": "stream",
     "text": [
      "Processed prompts: 100%|██████████| 1/1 [00:00<00:00,  1.64it/s, Generation Speed: 41.37 toks/s]\n",
      "100%|██████████| 1/1 [00:00<00:00,  1.60it/s]\n"
     ]
    },
    {
     "name": "stdout",
     "output_type": "stream",
     "text": [
      "{'Reactants': ['5-cyclodecynone', '13'], 'Product': ['14']}\n"
     ]
    },
    {
     "name": "stderr",
     "output_type": "stream",
     "text": [
      "Processed prompts: 100%|██████████| 1/1 [00:00<00:00,  1.50it/s, Generation Speed: 49.78 toks/s]\n",
      "100%|██████████| 1/1 [00:00<00:00,  1.48it/s]\n"
     ]
    },
    {
     "name": "stdout",
     "output_type": "stream",
     "text": [
      "第28条数据\n"
     ]
    },
    {
     "name": "stderr",
     "output_type": "stream",
     "text": [
      "Processed prompts: 100%|██████████| 1/1 [00:00<00:00,  2.86it/s, Generation Speed: 55.15 toks/s]\n",
      "100%|██████████| 1/1 [00:00<00:00,  2.80it/s]\n"
     ]
    },
    {
     "name": "stdout",
     "output_type": "stream",
     "text": [
      "answers:[{'Reactants': ['9', 'lOd'], 'Product': ['1 la']}]\n",
      "第29条数据\n"
     ]
    },
    {
     "name": "stderr",
     "output_type": "stream",
     "text": [
      "Processed prompts: 100%|██████████| 1/1 [00:00<00:00,  1.68it/s, Generation Speed: 50.96 toks/s]\n",
      "100%|██████████| 1/1 [00:00<00:00,  1.65it/s]\n"
     ]
    },
    {
     "name": "stdout",
     "output_type": "stream",
     "text": [
      "{'Reactants': ['23', 'NaBH4'], 'Product': ['24'], 'Yield': ['98 %']}\n",
      "第30条数据\n"
     ]
    },
    {
     "name": "stderr",
     "output_type": "stream",
     "text": [
      "Processed prompts: 100%|██████████| 1/1 [00:00<00:00,  2.10it/s, Generation Speed: 59.91 toks/s]\n",
      "100%|██████████| 1/1 [00:00<00:00,  2.06it/s]\n"
     ]
    },
    {
     "name": "stdout",
     "output_type": "stream",
     "text": [
      "answers:[{'Reactants': ['2,5-Dihydrofuran', 'furan'], 'Temperature': ['465 K']}]\n",
      "第31条数据\n"
     ]
    },
    {
     "name": "stderr",
     "output_type": "stream",
     "text": [
      "Processed prompts: 100%|██████████| 1/1 [00:00<00:00,  1.38it/s, Generation Speed: 62.87 toks/s]\n",
      "100%|██████████| 1/1 [00:00<00:00,  1.36it/s]\n"
     ]
    },
    {
     "name": "stdout",
     "output_type": "stream",
     "text": [
      "answers:[{'Product': ['water', 'carbon dioxide', '2(5H)-furanone', 'maleic anhydride', '4-vinylcyclohexene', 'styrene.']}]\n",
      "第32条数据\n"
     ]
    },
    {
     "name": "stderr",
     "output_type": "stream",
     "text": [
      "Processed prompts: 100%|██████████| 1/1 [00:00<00:00,  1.52it/s, Generation Speed: 56.38 toks/s]\n",
      "100%|██████████| 1/1 [00:00<00:00,  1.49it/s]\n"
     ]
    },
    {
     "name": "stdout",
     "output_type": "stream",
     "text": [
      "{'Reactants': ['p proline'], 'Catalyst_Reagents': ['formic acid', 'acetic anhydride'], 'Product': ['25']}\n",
      "第33条数据\n"
     ]
    },
    {
     "name": "stderr",
     "output_type": "stream",
     "text": [
      "Processed prompts: 100%|██████████| 1/1 [00:00<00:00,  1.31it/s, Generation Speed: 55.83 toks/s]\n",
      "100%|██████████| 1/1 [00:00<00:00,  1.30it/s]\n"
     ]
    },
    {
     "name": "stdout",
     "output_type": "stream",
     "text": [
      "{'Catalyst_Reagents': ['lithium aluminum hydride'], 'Product': ['(S)-2-(hy- droxymethy1)-1 methylpyrrolidine']}\n"
     ]
    },
    {
     "name": "stderr",
     "output_type": "stream",
     "text": [
      "Processed prompts: 100%|██████████| 1/1 [00:00<00:00,  1.96it/s, Generation Speed: 47.39 toks/s]\n",
      "100%|██████████| 1/1 [00:00<00:00,  1.91it/s]\n"
     ]
    },
    {
     "name": "stdout",
     "output_type": "stream",
     "text": [
      "{'Catalyst_Reagents': ['lithium aluminum hydride'], 'Product': ['26']}\n",
      "第34条数据\n"
     ]
    },
    {
     "name": "stderr",
     "output_type": "stream",
     "text": [
      "Processed prompts: 100%|██████████| 1/1 [00:00<00:00,  1.28it/s, Generation Speed: 46.54 toks/s]\n",
      "100%|██████████| 1/1 [00:00<00:00,  1.26it/s]\n"
     ]
    },
    {
     "name": "stdout",
     "output_type": "stream",
     "text": [
      "{'Reactants': ['27', 'thionyl chloride'], 'Solvent': ['chloroform'], 'Product': ['2-(chloromethyl)-l']}\n"
     ]
    },
    {
     "name": "stderr",
     "output_type": "stream",
     "text": [
      "Processed prompts: 100%|██████████| 1/1 [00:00<00:00,  1.03it/s, Generation Speed: 51.07 toks/s]\n",
      "100%|██████████| 1/1 [00:00<00:00,  1.02it/s]\n"
     ]
    },
    {
     "name": "stdout",
     "output_type": "stream",
     "text": [
      "{'Product': ['27'], 'Reactants': ['2-(chloromethyl)-l methylpyrrolidine'], 'Catalyst_Reagents': ['thionyl chloride'], 'Solvent': ['chloroform.']}\n",
      "第35条数据\n"
     ]
    },
    {
     "name": "stderr",
     "output_type": "stream",
     "text": [
      "Processed prompts: 100%|██████████| 1/1 [00:00<00:00,  1.83it/s, Generation Speed: 52.00 toks/s]\n",
      "100%|██████████| 1/1 [00:00<00:00,  1.80it/s]\n"
     ]
    },
    {
     "name": "stdout",
     "output_type": "stream",
     "text": [
      "{'Product': ['30'], 'Reactants': ['sodium cyanide'], 'Solvent': ['80 % ethanol']}\n",
      "第36条数据\n"
     ]
    },
    {
     "name": "stderr",
     "output_type": "stream",
     "text": [
      "Processed prompts: 100%|██████████| 1/1 [00:00<00:00,  1.49it/s, Generation Speed: 55.84 toks/s]\n",
      "100%|██████████| 1/1 [00:00<00:00,  1.46it/s]\n"
     ]
    },
    {
     "name": "stdout",
     "output_type": "stream",
     "text": [
      "{'Reactants': ['33'], 'Catalyst_Reagents': ['HCI'], 'Product': ['1 -methylpyrrolidine-2-acetic acid']}\n"
     ]
    },
    {
     "name": "stderr",
     "output_type": "stream",
     "text": [
      "Processed prompts: 100%|██████████| 1/1 [00:00<00:00,  1.44it/s, Generation Speed: 54.02 toks/s]\n",
      "100%|██████████| 1/1 [00:00<00:00,  1.42it/s]\n"
     ]
    },
    {
     "name": "stdout",
     "output_type": "stream",
     "text": [
      "{'Reactants': ['1 -methylpyrrolidine-2-acetic acid'], 'Solvent': ['concentrated HCI'], 'Product': ['33']}\n",
      "第37条数据\n"
     ]
    },
    {
     "name": "stderr",
     "output_type": "stream",
     "text": [
      "Processed prompts: 100%|██████████| 1/1 [00:01<00:00,  1.18s/it, Generation Speed: 54.61 toks/s]\n",
      "100%|██████████| 1/1 [00:01<00:00,  1.19s/it]\n"
     ]
    },
    {
     "name": "stdout",
     "output_type": "stream",
     "text": [
      "{'Reactants': ['sodium [1,2-13C2]acetate', 'sodium [IJ4C]acetate', 'trimethyl phosphate'], 'Product': [\"methyl [ 1,2- ' 3C2,1-14C]acetate\"]}\n"
     ]
    },
    {
     "name": "stderr",
     "output_type": "stream",
     "text": [
      "Processed prompts: 100%|██████████| 1/1 [00:00<00:00,  1.14it/s, Generation Speed: 49.65 toks/s]\n",
      "100%|██████████| 1/1 [00:00<00:00,  1.13it/s]\n"
     ]
    },
    {
     "name": "stdout",
     "output_type": "stream",
     "text": [
      "{'Reactants': ['sodium [1,2-13C2]acetate', 'sodium [IJ4C]acetate', 'trimethyl phosphate'], 'Product': ['B']}\n"
     ]
    },
    {
     "name": "stderr",
     "output_type": "stream",
     "text": [
      "Processed prompts: 100%|██████████| 1/1 [00:01<00:00,  1.30s/it, Generation Speed: 55.02 toks/s]\n",
      "100%|██████████| 1/1 [00:01<00:00,  1.31s/it]\n"
     ]
    },
    {
     "name": "stdout",
     "output_type": "stream",
     "text": [
      "{'Reactants': ['sodium [1,2-13C2]acetate', 'sodium [IJ4C]acetate', 'trimethyl phosphate', \"methyl [ 1,2- ' 3C2,1-14C]acetate\", 'B'], 'Product': ['29']}\n",
      "第38条数据\n"
     ]
    },
    {
     "name": "stderr",
     "output_type": "stream",
     "text": [
      "Processed prompts: 100%|██████████| 1/1 [00:00<00:00,  1.56it/s, Generation Speed: 41.13 toks/s]\n",
      "100%|██████████| 1/1 [00:00<00:00,  1.52it/s]\n"
     ]
    },
    {
     "name": "stdout",
     "output_type": "stream",
     "text": [
      "{'Product': ['1 -methyl-2-pyrrolidinyl)-3-oxobutanoate']}\n"
     ]
    },
    {
     "name": "stderr",
     "output_type": "stream",
     "text": [
      "Processed prompts: 100%|██████████| 1/1 [00:00<00:00,  2.72it/s, Generation Speed: 22.31 toks/s]\n",
      "100%|██████████| 1/1 [00:00<00:00,  2.63it/s]\n"
     ]
    },
    {
     "name": "stdout",
     "output_type": "stream",
     "text": [
      "{'Product': ['31']}\n",
      "第39条数据\n"
     ]
    },
    {
     "name": "stderr",
     "output_type": "stream",
     "text": [
      "Processed prompts: 100%|██████████| 1/1 [00:00<00:00,  1.82it/s, Generation Speed: 55.03 toks/s]\n",
      "100%|██████████| 1/1 [00:00<00:00,  1.79it/s]\n"
     ]
    },
    {
     "name": "stdout",
     "output_type": "stream",
     "text": [
      "{'Reactants': ['3a'], 'Solvent': ['water'], 'Product': ['4a'], 'Yield': ['high']}\n",
      "第40条数据\n"
     ]
    },
    {
     "name": "stderr",
     "output_type": "stream",
     "text": [
      "Processed prompts: 100%|██████████| 1/1 [00:01<00:00,  1.12s/it, Generation Speed: 62.49 toks/s]\n",
      "100%|██████████| 1/1 [00:01<00:00,  1.13s/it]\n"
     ]
    },
    {
     "name": "stdout",
     "output_type": "stream",
     "text": [
      "{'Reactants': ['allyl iodoacetate', '3a'], 'Solvent': ['water'], 'Catalyst_Reagents': ['triethylborane'], 'Temperature': ['25', 'C'], 'Time': ['3 h'], 'Product': ['4a'], 'Yield': ['67 %']}\n",
      "第41条数据\n"
     ]
    },
    {
     "name": "stderr",
     "output_type": "stream",
     "text": [
      "Processed prompts: 100%|██████████| 1/1 [00:02<00:00,  2.04s/it, Generation Speed: 57.05 toks/s]\n",
      "100%|██████████| 1/1 [00:02<00:00,  2.05s/it]\n"
     ]
    },
    {
     "name": "stdout",
     "output_type": "stream",
     "text": [
      "{'Reactants': ['3-iodo- 1-methylquinolin-4(1H)-one', '4', 'phenylboronic acid', '8a'], 'Product': ['3-phenylquinolin-4(1H)-one'], 'Catalyst_Reagents': ['Pd(OAc)2', 'PPh3', 'Na2CO3'], 'Solvent': ['DME', 'EtOH'], 'Temperature': ['70 ° C'], 'Time': ['5 min']}\n"
     ]
    },
    {
     "name": "stderr",
     "output_type": "stream",
     "text": [
      "Processed prompts: 100%|██████████| 1/1 [00:01<00:00,  1.89s/it, Generation Speed: 55.77 toks/s]\n",
      "100%|██████████| 1/1 [00:01<00:00,  1.91s/it]\n"
     ]
    },
    {
     "name": "stdout",
     "output_type": "stream",
     "text": [
      "{'Reactants': ['3-iodo- 1-methylquinolin-4(1H)-one', '4', 'phenylboronic acid', '8a'], 'Product': ['9a'], 'Catalyst_Reagents': ['Pd(OAc)2', 'PPh3', 'Na2CO3'], 'Solvent': ['DME', 'EtOH'], 'Temperature': ['70 ° C'], 'Time': ['5 min']}\n",
      "第42条数据\n"
     ]
    },
    {
     "name": "stderr",
     "output_type": "stream",
     "text": [
      "Processed prompts: 100%|██████████| 1/1 [00:01<00:00,  1.12s/it, Generation Speed: 51.33 toks/s]\n",
      "100%|██████████| 1/1 [00:01<00:00,  1.13s/it]\n"
     ]
    },
    {
     "name": "stdout",
     "output_type": "stream",
     "text": [
      "{'Reactants': ['1- substituted-3-iodoquinolin-4(1H)-ones', '4', '6.18'], 'Product': ['9a'], 'Yield': ['75 %'], 'Time': ['30 min']}\n",
      "第43条数据\n"
     ]
    },
    {
     "name": "stderr",
     "output_type": "stream",
     "text": [
      "Processed prompts: 100%|██████████| 1/1 [00:00<00:00,  2.45it/s, Generation Speed: 35.16 toks/s]\n",
      "100%|██████████| 1/1 [00:00<00:00,  2.37it/s]\n"
     ]
    },
    {
     "name": "stdout",
     "output_type": "stream",
     "text": [
      "{'Reactants': ['B'], 'Product': ['C']}\n",
      "第44条数据\n"
     ]
    },
    {
     "name": "stderr",
     "output_type": "stream",
     "text": [
      "Processed prompts: 100%|██████████| 1/1 [00:00<00:00,  1.77it/s, Generation Speed: 48.59 toks/s]\n",
      "100%|██████████| 1/1 [00:00<00:00,  1.74it/s]\n"
     ]
    },
    {
     "name": "stdout",
     "output_type": "stream",
     "text": [
      "{'Reactants': ['3a', '(MeCN)3Cr(C0)3'], 'Product': ['4a']}\n"
     ]
    },
    {
     "name": "stderr",
     "output_type": "stream",
     "text": [
      "Processed prompts: 100%|██████████| 1/1 [00:00<00:00,  1.71it/s, Generation Speed: 49.87 toks/s]\n",
      "100%|██████████| 1/1 [00:00<00:00,  1.69it/s]\n"
     ]
    },
    {
     "name": "stdout",
     "output_type": "stream",
     "text": [
      "{'Reactants': ['3a', '(MeCN)3Cr(C0)3'], 'Product': [\"5a1'\"]}\n"
     ]
    },
    {
     "name": "stderr",
     "output_type": "stream",
     "text": [
      "Processed prompts: 100%|██████████| 1/1 [00:00<00:00,  1.45it/s, Generation Speed: 53.94 toks/s]\n",
      "100%|██████████| 1/1 [00:00<00:00,  1.43it/s]\n"
     ]
    },
    {
     "name": "stdout",
     "output_type": "stream",
     "text": [
      "{'Reactants': ['3b'], 'Catalyst_Reagents': ['(MeCN)3Cr(C0)3'], 'Product': [\"4b1'\"]}\n"
     ]
    },
    {
     "name": "stderr",
     "output_type": "stream",
     "text": [
      "Processed prompts: 100%|██████████| 1/1 [00:00<00:00,  1.85it/s, Generation Speed: 51.83 toks/s]\n",
      "100%|██████████| 1/1 [00:00<00:00,  1.82it/s]\n"
     ]
    },
    {
     "name": "stdout",
     "output_type": "stream",
     "text": [
      "{'Reactants': ['3b', '(MeCN)3Cr(C0)3'], 'Product': [\"5b,''\"]}\n",
      "第45条数据\n"
     ]
    },
    {
     "name": "stderr",
     "output_type": "stream",
     "text": [
      "Processed prompts: 100%|██████████| 1/1 [00:00<00:00,  1.63it/s, Generation Speed: 51.22 toks/s]\n",
      "100%|██████████| 1/1 [00:00<00:00,  1.61it/s]\n"
     ]
    },
    {
     "name": "stdout",
     "output_type": "stream",
     "text": [
      "{'Reactants': ['4a', 'ethyl acrylate'], 'Product': ['6a'], 'Yield': ['86 %']}\n",
      "第46条数据\n"
     ]
    },
    {
     "name": "stderr",
     "output_type": "stream",
     "text": [
      "Processed prompts: 100%|██████████| 1/1 [00:00<00:00,  1.09it/s, Generation Speed: 54.85 toks/s]\n",
      "100%|██████████| 1/1 [00:00<00:00,  1.08it/s]\n"
     ]
    },
    {
     "name": "stdout",
     "output_type": "stream",
     "text": [
      "{'Reactants': ['tryptophan methyl ester', '9'], 'Product': ['12'], 'Yield': ['35 %'], 'Temperature': [\"140 'C\"], 'Time': ['3 h']}\n",
      "第47条数据\n"
     ]
    },
    {
     "name": "stderr",
     "output_type": "stream",
     "text": [
      "Processed prompts: 100%|██████████| 1/1 [00:00<00:00,  2.07it/s, Generation Speed: 61.69 toks/s]\n",
      "100%|██████████| 1/1 [00:00<00:00,  2.05it/s]\n"
     ]
    },
    {
     "name": "stdout",
     "output_type": "stream",
     "text": [
      "answers:[{'Reactants': ['6a', '7a'], 'Product': ['8a'], 'Yield': ['23 %']}]\n",
      "第48条数据\n"
     ]
    },
    {
     "name": "stderr",
     "output_type": "stream",
     "text": [
      "Processed prompts: 100%|██████████| 1/1 [00:00<00:00,  2.79it/s, Generation Speed: 40.14 toks/s]\n",
      "100%|██████████| 1/1 [00:00<00:00,  2.70it/s]\n"
     ]
    },
    {
     "name": "stdout",
     "output_type": "stream",
     "text": [
      "{'Reactants': ['1'], 'Product': ['2']}\n",
      "第49条数据\n"
     ]
    },
    {
     "name": "stderr",
     "output_type": "stream",
     "text": [
      "Processed prompts: 100%|██████████| 1/1 [00:00<00:00,  1.40it/s, Generation Speed: 28.43 toks/s]\n",
      "100%|██████████| 1/1 [00:00<00:00,  1.38it/s]\n"
     ]
    },
    {
     "name": "stdout",
     "output_type": "stream",
     "text": [
      "{'Reactants': ['1a', '2a'], 'Product': ['3a']}\n",
      "第50条数据\n"
     ]
    },
    {
     "name": "stderr",
     "output_type": "stream",
     "text": [
      "Processed prompts: 100%|██████████| 1/1 [00:00<00:00,  1.88it/s, Generation Speed: 37.77 toks/s]\n",
      "100%|██████████| 1/1 [00:00<00:00,  1.83it/s]\n"
     ]
    },
    {
     "name": "stdout",
     "output_type": "stream",
     "text": [
      "{'Reactants': ['2', 'I2O5'], 'Product': ['4']}\n",
      "第51条数据\n"
     ]
    },
    {
     "name": "stderr",
     "output_type": "stream",
     "text": [
      "Processed prompts: 100%|██████████| 1/1 [00:00<00:00,  2.39it/s, Generation Speed: 43.42 toks/s]\n",
      "100%|██████████| 1/1 [00:00<00:00,  2.35it/s]\n"
     ]
    },
    {
     "name": "stdout",
     "output_type": "stream",
     "text": [
      "{'Reactants': ['4', '1'], 'Product': ['5.']}\n",
      "第52条数据\n"
     ]
    },
    {
     "name": "stderr",
     "output_type": "stream",
     "text": [
      "Processed prompts: 100%|██████████| 1/1 [00:00<00:00,  1.93it/s, Generation Speed: 27.51 toks/s]\n",
      "100%|██████████| 1/1 [00:00<00:00,  1.89it/s]\n"
     ]
    },
    {
     "name": "stdout",
     "output_type": "stream",
     "text": [
      "{'Reactants': ['6'], 'Product': ['7']}\n"
     ]
    },
    {
     "name": "stderr",
     "output_type": "stream",
     "text": [
      "Processed prompts: 100%|██████████| 1/1 [00:00<00:00,  1.70it/s, Generation Speed: 35.99 toks/s]\n",
      "100%|██████████| 1/1 [00:00<00:00,  1.66it/s]\n"
     ]
    },
    {
     "name": "stdout",
     "output_type": "stream",
     "text": [
      "{'Reactants': ['cation 7', 'H2O'], 'Product': ['8']}\n",
      "第53条数据\n"
     ]
    },
    {
     "name": "stderr",
     "output_type": "stream",
     "text": [
      "Processed prompts: 100%|██████████| 1/1 [00:00<00:00,  2.12it/s, Generation Speed: 38.48 toks/s]\n",
      "100%|██████████| 1/1 [00:00<00:00,  2.08it/s]\n"
     ]
    },
    {
     "name": "stdout",
     "output_type": "stream",
     "text": [
      "{'Reactants': ['8', 'TBHP'], 'Product': ['3']}\n",
      "第54条数据\n"
     ]
    },
    {
     "name": "stderr",
     "output_type": "stream",
     "text": [
      "Processed prompts: 100%|██████████| 1/1 [00:00<00:00,  2.75it/s, Generation Speed: 55.62 toks/s]\n",
      "100%|██████████| 1/1 [00:00<00:00,  2.65it/s]\n"
     ]
    },
    {
     "name": "stdout",
     "output_type": "stream",
     "text": [
      "answers:[{'Time': ['18 h', '2 h'], 'Yield': ['5']}]\n",
      "第55条数据\n"
     ]
    },
    {
     "name": "stderr",
     "output_type": "stream",
     "text": [
      "Processed prompts: 100%|██████████| 1/1 [00:00<00:00,  2.10it/s, Generation Speed: 48.45 toks/s]\n",
      "100%|██████████| 1/1 [00:00<00:00,  2.06it/s]\n"
     ]
    },
    {
     "name": "stdout",
     "output_type": "stream",
     "text": [
      "{'Product': ['5'], 'Yield': ['28 %'], 'Time': ['2 h']}\n",
      "第56条数据\n"
     ]
    },
    {
     "name": "stderr",
     "output_type": "stream",
     "text": [
      "Processed prompts: 100%|██████████| 1/1 [00:00<00:00,  3.61it/s, Generation Speed: 58.10 toks/s]\n",
      "100%|██████████| 1/1 [00:00<00:00,  3.56it/s]\n"
     ]
    },
    {
     "name": "stdout",
     "output_type": "stream",
     "text": [
      "answers:[{'Reactants': ['1'], 'Product': ['4a.']}]\n",
      "第57条数据\n"
     ]
    },
    {
     "name": "stderr",
     "output_type": "stream",
     "text": [
      "Processed prompts: 100%|██████████| 1/1 [00:00<00:00,  1.14it/s, Generation Speed: 59.23 toks/s]\n",
      "100%|██████████| 1/1 [00:00<00:00,  1.13it/s]\n"
     ]
    },
    {
     "name": "stdout",
     "output_type": "stream",
     "text": [
      "{'Reactants': ['2 mol % palladium acetate', '2 mol % tris(2,6-dimeth- oxyphenyl)phosphineE(TDMPP)', 'THF'], 'Product': ['4a9']}\n",
      "第58条数据\n"
     ]
    },
    {
     "name": "stderr",
     "output_type": "stream",
     "text": [
      "Processed prompts: 100%|██████████| 1/1 [00:00<00:00,  3.48it/s, Generation Speed: 56.01 toks/s]\n",
      "100%|██████████| 1/1 [00:00<00:00,  3.43it/s]\n"
     ]
    },
    {
     "name": "stdout",
     "output_type": "stream",
     "text": [
      "answers:[{'Reactants': ['2b'], 'Product': ['5b']}]\n",
      "第59条数据\n"
     ]
    },
    {
     "name": "stderr",
     "output_type": "stream",
     "text": [
      "Processed prompts: 100%|██████████| 1/1 [00:00<00:00,  1.41it/s, Generation Speed: 38.09 toks/s]\n",
      "100%|██████████| 1/1 [00:00<00:00,  1.39it/s]\n"
     ]
    },
    {
     "name": "stdout",
     "output_type": "stream",
     "text": [
      "{'Reactants': ['2b'], 'Solvent': ['benzene'], 'Product': ['3bI0']}\n"
     ]
    },
    {
     "name": "stderr",
     "output_type": "stream",
     "text": [
      "Processed prompts: 100%|██████████| 1/1 [00:00<00:00,  1.72it/s, Generation Speed: 29.32 toks/s]\n",
      "100%|██████████| 1/1 [00:00<00:00,  1.68it/s]\n"
     ]
    },
    {
     "name": "stdout",
     "output_type": "stream",
     "text": [
      "{'Reactants': ['2b'], 'Product': ['5b.']}\n",
      "第60条数据\n"
     ]
    },
    {
     "name": "stderr",
     "output_type": "stream",
     "text": [
      "Processed prompts: 100%|██████████| 1/1 [00:00<00:00,  1.96it/s, Generation Speed: 62.88 toks/s]\n",
      "100%|██████████| 1/1 [00:00<00:00,  1.93it/s]\n"
     ]
    },
    {
     "name": "stdout",
     "output_type": "stream",
     "text": [
      "answers:[{'Reactants': ['TDMPP', 'Pd(OAc)z', '3b'], 'Product': ['complete addition and cyclization']}]\n",
      "第61条数据\n"
     ]
    },
    {
     "name": "stderr",
     "output_type": "stream",
     "text": [
      "Processed prompts: 100%|██████████| 1/1 [00:01<00:00,  1.35s/it, Generation Speed: 52.40 toks/s]\n",
      "100%|██████████| 1/1 [00:01<00:00,  1.35s/it]\n"
     ]
    },
    {
     "name": "stdout",
     "output_type": "stream",
     "text": [
      "{'Reactants': ['1a', '3a', 'K3PO4'], 'Solvent': ['DMF'], 'Temperature': ['110 ° C'], 'Time': ['15 min'], 'Yield': ['13 %'], 'Product': ['3-benzazepine']}\n"
     ]
    },
    {
     "name": "stderr",
     "output_type": "stream",
     "text": [
      "Processed prompts: 100%|██████████| 1/1 [00:01<00:00,  1.23s/it, Generation Speed: 53.75 toks/s]\n",
      "100%|██████████| 1/1 [00:01<00:00,  1.24s/it]\n"
     ]
    },
    {
     "name": "stdout",
     "output_type": "stream",
     "text": [
      "{'Reactants': ['1a', '3a', 'K3PO4'], 'Solvent': ['DMF'], 'Temperature': ['110 ° C'], 'Time': ['15 min'], 'Yield': ['13 %'], 'Product': ['4a']}\n",
      "第62条数据\n"
     ]
    },
    {
     "name": "stderr",
     "output_type": "stream",
     "text": [
      "Processed prompts: 100%|██████████| 1/1 [00:00<00:00,  1.84it/s, Generation Speed: 61.75 toks/s]\n",
      "100%|██████████| 1/1 [00:00<00:00,  1.82it/s]\n"
     ]
    },
    {
     "name": "stdout",
     "output_type": "stream",
     "text": [
      "answers:[{'Reactants': ['methanol'], 'Catalyst_Reagents': ['rhodium', 'iodide'], 'Product': ['acetic acid.']}]\n",
      "第63条数据\n"
     ]
    },
    {
     "name": "stderr",
     "output_type": "stream",
     "text": [
      "Processed prompts: 100%|██████████| 1/1 [00:00<00:00,  2.10it/s, Generation Speed: 42.37 toks/s]\n",
      "100%|██████████| 1/1 [00:00<00:00,  2.05it/s]\n"
     ]
    },
    {
     "name": "stdout",
     "output_type": "stream",
     "text": [
      "{'Reactants': ['11', '21'], 'Product': ['22']}\n",
      "第64条数据\n"
     ]
    },
    {
     "name": "stderr",
     "output_type": "stream",
     "text": [
      "Processed prompts: 100%|██████████| 1/1 [00:00<00:00,  1.28it/s, Generation Speed: 53.05 toks/s]\n",
      "100%|██████████| 1/1 [00:00<00:00,  1.27it/s]\n"
     ]
    },
    {
     "name": "stdout",
     "output_type": "stream",
     "text": [
      "{'Reactants': ['2a'], 'Solvent': ['toluene'], 'Temperature': [\"100 'C\"], 'Product': ['tri-tert-butylsilane']}\n",
      "第65条数据\n"
     ]
    },
    {
     "name": "stderr",
     "output_type": "stream",
     "text": [
      "Processed prompts: 100%|██████████| 1/1 [00:01<00:00,  1.12s/it, Generation Speed: 54.49 toks/s]\n",
      "100%|██████████| 1/1 [00:01<00:00,  1.14s/it]\n"
     ]
    },
    {
     "name": "stdout",
     "output_type": "stream",
     "text": [
      "{'Reactants': ['1r(CR = CRCR3.CR)(PPh3)2C1 ( 1-Cl , R = C02CH3)', '3-butyn-1-01'], 'Product': ['2,1 °']}\n"
     ]
    },
    {
     "name": "stderr",
     "output_type": "stream",
     "text": [
      "Processed prompts: 100%|██████████| 1/1 [00:00<00:00,  1.68it/s, Generation Speed: 37.50 toks/s]\n",
      "100%|██████████| 1/1 [00:00<00:00,  1.64it/s]\n"
     ]
    },
    {
     "name": "stdout",
     "output_type": "stream",
     "text": [
      "{'Reactants': ['1-C1', 'propargyl alcohol'], 'Product': ['3']}\n",
      "第66条数据\n"
     ]
    },
    {
     "name": "stderr",
     "output_type": "stream",
     "text": [
      "Processed prompts: 100%|██████████| 1/1 [00:00<00:00,  1.23it/s, Generation Speed: 50.88 toks/s]\n",
      "100%|██████████| 1/1 [00:00<00:00,  1.21it/s]\n"
     ]
    },
    {
     "name": "stdout",
     "output_type": "stream",
     "text": [
      "{'Reactants': ['2b', 'Me2- SiC12I7', 'Et20'], 'Temperature': ['-20 \" C'], 'Product': ['8']}\n"
     ]
    },
    {
     "name": "stderr",
     "output_type": "stream",
     "text": [
      "Processed prompts: 100%|██████████| 1/1 [00:00<00:00,  1.30it/s, Generation Speed: 53.52 toks/s]\n",
      "100%|██████████| 1/1 [00:00<00:00,  1.27it/s]"
     ]
    },
    {
     "name": "stdout",
     "output_type": "stream",
     "text": [
      "{'Reactants': ['2b', 'Me2- SiC12I7', 'Et20'], 'Temperature': ['-20 \" C'], 'Product': ['9']}\n",
      "TP, FP, FN 256 91 143\n",
      "NER:  precision, recall 0.7377521613832853 0.6416040100250626\n",
      "NER:  f1_score 0.6863270777479892\n"
     ]
    },
    {
     "name": "stderr",
     "output_type": "stream",
     "text": [
      "\n"
     ]
    }
   ],
   "source": [
    "import os\n",
    "\n",
    "from evaluate import *\n",
    "from llm_re import *\n",
    "import warnings\n",
    "warnings.filterwarnings(\"ignore\")\n",
    "\n",
    "def main():\n",
    "    train_data,test_data=get_data()\n",
    "    \n",
    "    prev_dir='/data/lizh/ChemRxnExtractor-main/test_prev.json'\n",
    "    prev_data=read_json_file(prev_dir)\n",
    "    \n",
    "    prev_data2=chem_re_new(train_data,prev_data)\n",
    "    Reaction_f1(test_data,prev_data2)\n",
    "\n",
    "main()"
   ]
  },
  {
   "cell_type": "markdown",
   "metadata": {},
   "source": [
    "原始基座模型\n",
    "TP, FP, FN 217 126 182\n",
    "NER:  precision, recall 0.6326530612244898 0.543859649122807\n",
    "NER:  f1_score 0.5849056603773586"
   ]
  },
  {
   "cell_type": "code",
   "execution_count": 1,
   "metadata": {},
   "outputs": [
    {
     "name": "stderr",
     "output_type": "stream",
     "text": [
      "/data/lizh/Conda/anaconda3/envs/vllm/lib/python3.9/site-packages/tqdm/auto.py:21: TqdmWarning: IProgress not found. Please update jupyter and ipywidgets. See https://ipywidgets.readthedocs.io/en/stable/user_install.html\n",
      "  from .autonotebook import tqdm as notebook_tqdm\n",
      "2024-12-11 11:48:08,655\tINFO util.py:154 -- Missing packages: ['ipywidgets']. Run `pip install -U ipywidgets`, then restart the notebook server for rich notebook output.\n",
      "2024-12-11 11:48:10,970\tINFO worker.py:1771 -- Started a local Ray instance.\n"
     ]
    },
    {
     "name": "stdout",
     "output_type": "stream",
     "text": [
      "INFO 12-11 11:48:12 llm_engine.py:161] Initializing an LLM engine (v0.4.3) with config: model='/data/models/qwen2.5/qwen2.5-14B-Instruct', speculative_config=None, tokenizer='/data/models/qwen2.5/qwen2.5-14B-Instruct', skip_tokenizer_init=False, tokenizer_mode=auto, revision=None, rope_scaling=None, tokenizer_revision=None, trust_remote_code=False, dtype=torch.bfloat16, max_seq_len=32768, download_dir=None, load_format=LoadFormat.AUTO, tensor_parallel_size=4, disable_custom_all_reduce=False, quantization=None, enforce_eager=False, kv_cache_dtype=auto, quantization_param_path=None, device_config=cuda, decoding_config=DecodingConfig(guided_decoding_backend='outlines'), seed=0, served_model_name=/data/models/qwen2.5/qwen2.5-14B-Instruct)\n",
      "INFO 12-11 11:48:25 utils.py:618] Found nccl from library libnccl.so.2\n",
      "INFO 12-11 11:48:25 pynccl.py:65] vLLM is using nccl==2.20.5\n",
      "\u001b[36m(RayWorkerWrapper pid=963943)\u001b[0m INFO 12-11 11:48:25 utils.py:618] Found nccl from library libnccl.so.2\n",
      "\u001b[36m(RayWorkerWrapper pid=963943)\u001b[0m INFO 12-11 11:48:25 pynccl.py:65] vLLM is using nccl==2.20.5\n",
      "WARNING 12-11 11:48:26 custom_all_reduce.py:158] Custom allreduce is disabled because it's not supported on more than two PCIe-only GPUs. To silence this warning, specify disable_custom_all_reduce=True explicitly.\n",
      "\u001b[36m(RayWorkerWrapper pid=963943)\u001b[0m WARNING 12-11 11:48:26 custom_all_reduce.py:158] Custom allreduce is disabled because it's not supported on more than two PCIe-only GPUs. To silence this warning, specify disable_custom_all_reduce=True explicitly.\n",
      "INFO 12-11 11:48:28 model_runner.py:146] Loading model weights took 6.9459 GB\n",
      "\u001b[36m(RayWorkerWrapper pid=964089)\u001b[0m INFO 12-11 11:48:30 model_runner.py:146] Loading model weights took 6.9459 GB\n",
      "\u001b[36m(RayWorkerWrapper pid=964173)\u001b[0m INFO 12-11 11:48:25 utils.py:618] Found nccl from library libnccl.so.2\u001b[32m [repeated 2x across cluster] (Ray deduplicates logs by default. Set RAY_DEDUP_LOGS=0 to disable log deduplication, or see https://docs.ray.io/en/master/ray-observability/user-guides/configure-logging.html#log-deduplication for more options.)\u001b[0m\n",
      "\u001b[36m(RayWorkerWrapper pid=964173)\u001b[0m INFO 12-11 11:48:25 pynccl.py:65] vLLM is using nccl==2.20.5\u001b[32m [repeated 2x across cluster]\u001b[0m\n",
      "INFO 12-11 11:48:37 distributed_gpu_executor.py:56] # GPU blocks: 51773, # CPU blocks: 5461\n",
      "INFO 12-11 11:48:41 model_runner.py:854] Capturing the model for CUDA graphs. This may lead to unexpected consequences if the model is not static. To run the model in eager mode, set 'enforce_eager=True' or use '--enforce-eager' in the CLI.\n",
      "INFO 12-11 11:48:41 model_runner.py:858] CUDA graphs can take additional 1~3 GiB memory per GPU. If you are running out of memory, consider decreasing `gpu_memory_utilization` or enforcing eager mode. You can also reduce the `max_num_seqs` as needed to decrease memory usage.\n",
      "\u001b[36m(RayWorkerWrapper pid=963943)\u001b[0m INFO 12-11 11:48:43 model_runner.py:854] Capturing the model for CUDA graphs. This may lead to unexpected consequences if the model is not static. To run the model in eager mode, set 'enforce_eager=True' or use '--enforce-eager' in the CLI.\n",
      "\u001b[36m(RayWorkerWrapper pid=963943)\u001b[0m INFO 12-11 11:48:43 model_runner.py:858] CUDA graphs can take additional 1~3 GiB memory per GPU. If you are running out of memory, consider decreasing `gpu_memory_utilization` or enforcing eager mode. You can also reduce the `max_num_seqs` as needed to decrease memory usage.\n",
      "\u001b[36m(RayWorkerWrapper pid=964089)\u001b[0m WARNING 12-11 11:48:26 custom_all_reduce.py:158] Custom allreduce is disabled because it's not supported on more than two PCIe-only GPUs. To silence this warning, specify disable_custom_all_reduce=True explicitly.\u001b[32m [repeated 2x across cluster]\u001b[0m\n",
      "\u001b[36m(RayWorkerWrapper pid=963943)\u001b[0m INFO 12-11 11:48:30 model_runner.py:146] Loading model weights took 6.9459 GB\u001b[32m [repeated 2x across cluster]\u001b[0m\n",
      "INFO 12-11 11:48:53 model_runner.py:924] Graph capturing finished in 12 secs.\n",
      "\u001b[36m(RayWorkerWrapper pid=963943)\u001b[0m INFO 12-11 11:48:53 model_runner.py:924] Graph capturing finished in 10 secs.\n",
      "\u001b[36m(RayWorkerWrapper pid=964173)\u001b[0m INFO 12-11 11:48:43 model_runner.py:854] Capturing the model for CUDA graphs. This may lead to unexpected consequences if the model is not static. To run the model in eager mode, set 'enforce_eager=True' or use '--enforce-eager' in the CLI.\u001b[32m [repeated 2x across cluster]\u001b[0m\n",
      "\u001b[36m(RayWorkerWrapper pid=964173)\u001b[0m INFO 12-11 11:48:43 model_runner.py:858] CUDA graphs can take additional 1~3 GiB memory per GPU. If you are running out of memory, consider decreasing `gpu_memory_utilization` or enforcing eager mode. You can also reduce the `max_num_seqs` as needed to decrease memory usage.\u001b[32m [repeated 2x across cluster]\u001b[0m\n",
      "第0条数据\n"
     ]
    },
    {
     "name": "stderr",
     "output_type": "stream",
     "text": [
      "Processed prompts: 100%|██████████| 1/1 [00:00<00:00,  1.39it/s, Generation Speed: 50.51 toks/s]\n",
      "100%|██████████| 1/1 [00:00<00:00,  1.26it/s]\n"
     ]
    },
    {
     "name": "stdout",
     "output_type": "stream",
     "text": [
      "{'Product': ['23A'], 'Reactants': ['diphenylacetylene', '19A'], 'Yield': ['30 %']}\n"
     ]
    },
    {
     "name": "stderr",
     "output_type": "stream",
     "text": [
      "Processed prompts: 100%|██████████| 1/1 [00:00<00:00,  1.13it/s, Generation Speed: 56.66 toks/s]\n",
      "100%|██████████| 1/1 [00:00<00:00,  1.12it/s]\n"
     ]
    },
    {
     "name": "stdout",
     "output_type": "stream",
     "text": [
      "{'Product': ['25'], 'Yield': ['53 %'], 'Reactants': ['(phenylcyclopropy1)-carbene complex 19B', 'diphenylacetylene']}\n",
      "第1条数据\n"
     ]
    },
    {
     "name": "stderr",
     "output_type": "stream",
     "text": [
      "Processed prompts: 100%|██████████| 1/1 [00:01<00:00,  1.22s/it, Generation Speed: 61.62 toks/s]\n",
      "100%|██████████| 1/1 [00:01<00:00,  1.23s/it]\n"
     ]
    },
    {
     "name": "stdout",
     "output_type": "stream",
     "text": [
      "{'Reactants': ['2.0 equiv of copper acetate'], 'Product': ['2-(3-(methylthio)naphthalen-2-yl)pyridine'], 'Yield': ['89 %'], 'Solvent': ['DMSO'], 'Temperature': ['125 ° C']}\n"
     ]
    },
    {
     "name": "stderr",
     "output_type": "stream",
     "text": [
      "Processed prompts: 100%|██████████| 1/1 [00:01<00:00,  1.17s/it, Generation Speed: 61.64 toks/s]\n",
      "100%|██████████| 1/1 [00:01<00:00,  1.18s/it]\n"
     ]
    },
    {
     "name": "stdout",
     "output_type": "stream",
     "text": [
      "{'Reactants': ['2.0 equiv of copper acetate'], 'Product': ['2-(3-(methylthio)naphthalen-2-yl)pyridine', '2b'], 'Yield': ['89 %'], 'Solvent': ['DMSO'], 'Temperature': ['125 ° C']}\n",
      "第2条数据\n"
     ]
    },
    {
     "name": "stderr",
     "output_type": "stream",
     "text": [
      "Processed prompts: 100%|██████████| 1/1 [00:00<00:00,  1.55it/s, Generation Speed: 54.51 toks/s]\n",
      "100%|██████████| 1/1 [00:00<00:00,  1.53it/s]\n"
     ]
    },
    {
     "name": "stdout",
     "output_type": "stream",
     "text": [
      "{'Reactants': ['Me3SiCH2MgCl'], 'Catalyst_Reagents': ['02'], 'Product': ['Me3SiOH']}\n"
     ]
    },
    {
     "name": "stderr",
     "output_type": "stream",
     "text": [
      "Processed prompts: 100%|██████████| 1/1 [00:00<00:00,  1.48it/s, Generation Speed: 56.44 toks/s]\n",
      "100%|██████████| 1/1 [00:00<00:00,  1.46it/s]\n"
     ]
    },
    {
     "name": "stdout",
     "output_type": "stream",
     "text": [
      "{'Reactants': ['Me3SiCH2MgCl'], 'Catalyst_Reagents': ['02'], 'Product': ['(Me3Si)20']}\n"
     ]
    },
    {
     "name": "stderr",
     "output_type": "stream",
     "text": [
      "Processed prompts: 100%|██████████| 1/1 [00:00<00:00,  1.48it/s, Generation Speed: 55.00 toks/s]\n",
      "100%|██████████| 1/1 [00:00<00:00,  1.46it/s]\n"
     ]
    },
    {
     "name": "stdout",
     "output_type": "stream",
     "text": [
      "{'Reactants': ['Me3SiCH2MgCl'], 'Catalyst_Reagents': ['02'], 'Product': ['CH20.22']}\n",
      "第3条数据\n"
     ]
    },
    {
     "name": "stderr",
     "output_type": "stream",
     "text": [
      "Processed prompts: 100%|██████████| 1/1 [00:00<00:00,  1.28it/s, Generation Speed: 59.00 toks/s]\n",
      "100%|██████████| 1/1 [00:00<00:00,  1.26it/s]\n"
     ]
    },
    {
     "name": "stdout",
     "output_type": "stream",
     "text": [
      "{'Reactants': ['8', 'acetone'], 'Catalyst_Reagents': ['trifluoroacetic acid-tri- fluoroacetic anhydride'], 'Product': ['9.']}\n",
      "第4条数据\n"
     ]
    },
    {
     "name": "stderr",
     "output_type": "stream",
     "text": [
      "Processed prompts: 100%|██████████| 1/1 [00:01<00:00,  1.17s/it, Generation Speed: 33.45 toks/s]\n",
      "100%|██████████| 1/1 [00:01<00:00,  1.18s/it]\n"
     ]
    },
    {
     "name": "stdout",
     "output_type": "stream",
     "text": [
      "{'Reactants': ['10', 'triflic anhydride', 'pyridine'], 'Product': ['11'], 'Yield': ['92 %']}\n"
     ]
    },
    {
     "name": "stderr",
     "output_type": "stream",
     "text": [
      "Processed prompts: 100%|██████████| 1/1 [00:01<00:00,  1.17s/it, Generation Speed: 57.60 toks/s]\n",
      "100%|██████████| 1/1 [00:01<00:00,  1.18s/it]\n"
     ]
    },
    {
     "name": "stdout",
     "output_type": "stream",
     "text": [
      "{'Reactants': ['11', '1-heptyne'], 'Catalyst_Reagents': ['bis(triphenylphosphine)palladium(II) chloride'], 'Workup_reagents': ['triethylamine'], 'Solvent': ['DMF'], 'Yield': ['68 %']}\n",
      "第5条数据\n"
     ]
    },
    {
     "name": "stderr",
     "output_type": "stream",
     "text": [
      "Processed prompts: 100%|██████████| 1/1 [00:00<00:00,  1.31it/s, Generation Speed: 56.50 toks/s]\n",
      "100%|██████████| 1/1 [00:00<00:00,  1.29it/s]\n"
     ]
    },
    {
     "name": "stdout",
     "output_type": "stream",
     "text": [
      "{'Reactants': ['its triple bond'], 'Catalyst_Reagents': [], 'Solvent': [], 'Temperature': [], 'Product': ['13'], 'Yield': ['-loo %']}\n"
     ]
    },
    {
     "name": "stderr",
     "output_type": "stream",
     "text": [
      "Processed prompts: 100%|██████████| 1/1 [00:01<00:00,  1.27s/it, Generation Speed: 57.75 toks/s]\n",
      "100%|██████████| 1/1 [00:01<00:00,  1.28s/it]\n"
     ]
    },
    {
     "name": "stdout",
     "output_type": "stream",
     "text": [
      "{'Reactants': ['13', 'KOH', 'DMSO'], 'Workup_reagents': [], 'Solvent': ['DMSO'], 'Temperature': ['120 OC'], 'Product': ['5-heptylresorcinolg'], 'Yield': ['90 %']}\n"
     ]
    },
    {
     "name": "stderr",
     "output_type": "stream",
     "text": [
      "Processed prompts: 100%|██████████| 1/1 [00:01<00:00,  1.17s/it, Generation Speed: 63.44 toks/s]\n",
      "100%|██████████| 1/1 [00:01<00:00,  1.18s/it]\n"
     ]
    },
    {
     "name": "stdout",
     "output_type": "stream",
     "text": [
      "{'Reactants': ['5-heptylresorcinol', 'KOH', 'DMSO'], 'Catalyst_Reagents': [], 'Solvent': ['DMSO'], 'Temperature': ['120 OC'], 'Product': ['14'], 'Yield': ['90 %']}\n",
      "第6条数据\n"
     ]
    },
    {
     "name": "stderr",
     "output_type": "stream",
     "text": [
      "Processed prompts: 100%|██████████| 1/1 [00:00<00:00,  1.60it/s, Generation Speed: 53.17 toks/s]\n",
      "100%|██████████| 1/1 [00:00<00:00,  1.57it/s]\n"
     ]
    },
    {
     "name": "stdout",
     "output_type": "stream",
     "text": [
      "{'Reactants': ['13', 'lithium benzyl oxide'], 'Solvent': ['THF'], 'Product': ['15.']}\n",
      "第7条数据\n"
     ]
    },
    {
     "name": "stderr",
     "output_type": "stream",
     "text": [
      "Processed prompts: 100%|██████████| 1/1 [00:00<00:00,  1.48it/s, Generation Speed: 56.36 toks/s]\n",
      "100%|██████████| 1/1 [00:00<00:00,  1.46it/s]\n"
     ]
    },
    {
     "name": "stdout",
     "output_type": "stream",
     "text": [
      "{'Reactants': ['16', 'j3-(trimethylsilyl)ethanol'], 'Product': ['17'], 'Yield': ['80 %']}\n",
      "第8条数据\n"
     ]
    },
    {
     "name": "stderr",
     "output_type": "stream",
     "text": [
      "Processed prompts: 100%|██████████| 1/1 [00:01<00:00,  1.02s/it, Generation Speed: 58.77 toks/s]\n",
      "100%|██████████| 1/1 [00:01<00:00,  1.03s/it]\n"
     ]
    },
    {
     "name": "stdout",
     "output_type": "stream",
     "text": [
      "{'Reactants': ['17', '18'], 'Catalyst_Reagents': ['K2C03', '18-crown-6'], 'Solvent': ['acetone'], 'Yield': ['81 %'], 'Product': ['19.']}\n",
      "第9条数据\n"
     ]
    },
    {
     "name": "stderr",
     "output_type": "stream",
     "text": [
      "Processed prompts: 100%|██████████| 1/1 [00:00<00:00,  1.35it/s, Generation Speed: 58.13 toks/s]\n",
      "100%|██████████| 1/1 [00:00<00:00,  1.33it/s]\n"
     ]
    },
    {
     "name": "stdout",
     "output_type": "stream",
     "text": [
      "{'Product': ['11.'], 'Reactants': ['10'], 'Catalyst_Reagents': ['bromotrimethylsilane (TMSBr)', 'phosphorylation']}\n",
      "第10条数据\n"
     ]
    },
    {
     "name": "stderr",
     "output_type": "stream",
     "text": [
      "Processed prompts: 100%|██████████| 1/1 [00:00<00:00,  1.65it/s, Generation Speed: 51.40 toks/s]\n",
      "100%|██████████| 1/1 [00:00<00:00,  1.62it/s]\n"
     ]
    },
    {
     "name": "stdout",
     "output_type": "stream",
     "text": [
      "{'Product': ['3.'], 'Reactants': ['2', 'pyridinium bromide perbromide', 'acetic acid']}\n",
      "第11条数据\n"
     ]
    },
    {
     "name": "stderr",
     "output_type": "stream",
     "text": [
      "Processed prompts: 100%|██████████| 1/1 [00:00<00:00,  1.49it/s, Generation Speed: 62.70 toks/s]\n",
      "100%|██████████| 1/1 [00:00<00:00,  1.47it/s]\n"
     ]
    },
    {
     "name": "stdout",
     "output_type": "stream",
     "text": [
      "{'Reactants': ['ethyl 3,3-diamino-2-propenoatelg', '4', '2'], 'Product': ['1'], 'Yield': ['58 %']}\n",
      "第12条数据\n"
     ]
    },
    {
     "name": "stderr",
     "output_type": "stream",
     "text": [
      "Processed prompts: 100%|██████████| 1/1 [00:01<00:00,  1.04s/it, Generation Speed: 57.82 toks/s]\n",
      "100%|██████████| 1/1 [00:01<00:00,  1.05s/it]\n"
     ]
    },
    {
     "name": "stdout",
     "output_type": "stream",
     "text": [
      "{'Reactants': ['6', 'n-BuLi'], 'Product': ['4'], 'Solvent': ['Et2O', 't-BuOMe', 'hexane', 'cyclopentane'], 'Catalyst_Reagents': ['n-BuLi']}\n",
      "第13条数据\n"
     ]
    },
    {
     "name": "stderr",
     "output_type": "stream",
     "text": [
      "Processed prompts: 100%|██████████| 1/1 [00:00<00:00,  1.48it/s, Generation Speed: 58.18 toks/s]\n",
      "100%|██████████| 1/1 [00:00<00:00,  1.46it/s]\n"
     ]
    },
    {
     "name": "stdout",
     "output_type": "stream",
     "text": [
      "{'Product': ['2.'], 'Reactants': ['1'], 'Catalyst_Reagents': ['a 165 nucleotide ( nt ) RNA ( AA6 )']}\n",
      "第14条数据\n"
     ]
    },
    {
     "name": "stderr",
     "output_type": "stream",
     "text": [
      "Processed prompts: 100%|██████████| 1/1 [00:00<00:00,  1.31it/s, Generation Speed: 55.29 toks/s]\n",
      "100%|██████████| 1/1 [00:00<00:00,  1.29it/s]\n"
     ]
    },
    {
     "name": "stdout",
     "output_type": "stream",
     "text": [
      "{'Product': ['1'], 'Reactants': [\"5'-aminoadenosine derivative 2s\", 'biphenyl ester 3'], 'Solvent': ['CHCI,']}\n",
      "第15条数据\n"
     ]
    },
    {
     "name": "stderr",
     "output_type": "stream",
     "text": [
      "Processed prompts: 100%|██████████| 1/1 [00:00<00:00,  1.71it/s, Generation Speed: 56.77 toks/s]\n",
      "100%|██████████| 1/1 [00:00<00:00,  1.68it/s]\n"
     ]
    },
    {
     "name": "stdout",
     "output_type": "stream",
     "text": [
      "{'Reactants': ['imide acid chloride 46', 'biphenyl carboxylic acid 5'], 'Product': ['3']}\n",
      "第16条数据\n"
     ]
    },
    {
     "name": "stderr",
     "output_type": "stream",
     "text": [
      "Processed prompts: 100%|██████████| 1/1 [00:00<00:00,  1.57it/s, Generation Speed: 52.24 toks/s]\n",
      "100%|██████████| 1/1 [00:00<00:00,  1.55it/s]\n"
     ]
    },
    {
     "name": "stdout",
     "output_type": "stream",
     "text": [
      "{'Product': ['3-ﬂuoropentadecane'], 'Yield': ['22 %'], 'Solvent': ['acetone']}\n",
      "第17条数据\n"
     ]
    },
    {
     "name": "stderr",
     "output_type": "stream",
     "text": [
      "Processed prompts: 100%|██████████| 1/1 [00:00<00:00,  1.14it/s, Generation Speed: 54.94 toks/s]\n",
      "100%|██████████| 1/1 [00:00<00:00,  1.13it/s]\n"
     ]
    },
    {
     "name": "stdout",
     "output_type": "stream",
     "text": [
      "{'Reactants': ['N-acetyl+ galactosamine'], 'Product': ['7'], 'Yield': ['55 %'], 'Temperature': ['mp 165-166.5 “ C']}\n",
      "第18条数据\n"
     ]
    },
    {
     "name": "stderr",
     "output_type": "stream",
     "text": [
      "Processed prompts: 100%|██████████| 1/1 [00:00<00:00,  1.20it/s, Generation Speed: 53.24 toks/s]\n",
      "100%|██████████| 1/1 [00:00<00:00,  1.19it/s]\n"
     ]
    },
    {
     "name": "stdout",
     "output_type": "stream",
     "text": [
      "{'Reactants': ['allylic ether 5', 'MeMgBr'], 'Catalyst_Reagents': ['1'], 'Yield': ['70 %'], 'Product': ['10']}\n",
      "第19条数据\n"
     ]
    },
    {
     "name": "stderr",
     "output_type": "stream",
     "text": [
      "Processed prompts: 100%|██████████| 1/1 [00:00<00:00,  1.17it/s, Generation Speed: 72.81 toks/s]\n",
      "100%|██████████| 1/1 [00:00<00:00,  1.16it/s]\n"
     ]
    },
    {
     "name": "stdout",
     "output_type": "stream",
     "text": [
      "answers:[{'Reactants': ['[4]paracyclophane 3', 'alcohol'], 'Product': ['alcohol adduct (s) 36'], 'Solvent': ['alcoholic medium']}]\n",
      "第20条数据\n"
     ]
    },
    {
     "name": "stderr",
     "output_type": "stream",
     "text": [
      "Processed prompts: 100%|██████████| 1/1 [00:00<00:00,  1.32it/s, Generation Speed: 49.03 toks/s]\n",
      "100%|██████████| 1/1 [00:00<00:00,  1.30it/s]\n"
     ]
    },
    {
     "name": "stdout",
     "output_type": "stream",
     "text": [
      "{'Reactants': ['pivalonitrile', 'titanacyclobutane 1', \"Tebbe's reagent\"], 'Product': ['3']}\n",
      "第21条数据\n"
     ]
    },
    {
     "name": "stderr",
     "output_type": "stream",
     "text": [
      "Processed prompts: 100%|██████████| 1/1 [00:00<00:00,  2.13it/s, Generation Speed: 66.52 toks/s]\n",
      "100%|██████████| 1/1 [00:00<00:00,  2.10it/s]\n"
     ]
    },
    {
     "name": "stdout",
     "output_type": "stream",
     "text": [
      "answers:[{'Reactants': ['Gly-Gly'], 'Product': ['glycine']}]\n",
      "第22条数据\n"
     ]
    },
    {
     "name": "stderr",
     "output_type": "stream",
     "text": [
      "Processed prompts: 100%|██████████| 1/1 [00:00<00:00,  1.40it/s, Generation Speed: 70.22 toks/s]\n",
      "100%|██████████| 1/1 [00:00<00:00,  1.38it/s]\n"
     ]
    },
    {
     "name": "stdout",
     "output_type": "stream",
     "text": [
      "answers:[{}]\n",
      "第23条数据\n"
     ]
    },
    {
     "name": "stderr",
     "output_type": "stream",
     "text": [
      "Processed prompts: 100%|██████████| 1/1 [00:02<00:00,  2.19s/it, Generation Speed: 73.83 toks/s]\n",
      "100%|██████████| 1/1 [00:02<00:00,  2.20s/it]\n"
     ]
    },
    {
     "name": "stdout",
     "output_type": "stream",
     "text": [
      "{'Reactants': ['10'], 'Catalyst_Reagents': ['zirconium'], 'Product': ['7,4b'], 'Yield': ['60 %']}\n"
     ]
    },
    {
     "name": "stderr",
     "output_type": "stream",
     "text": [
      "Processed prompts: 100%|██████████| 1/1 [00:00<00:00,  1.31it/s, Generation Speed: 57.97 toks/s]\n",
      "100%|██████████| 1/1 [00:00<00:00,  1.30it/s]\n"
     ]
    },
    {
     "name": "stdout",
     "output_type": "stream",
     "text": [
      "{'Reactants': ['10'], 'Catalyst_Reagents': ['zirconium', 'methylalumination'], 'Product': ['11'], 'Yield': ['60 %']}\n",
      "第24条数据\n"
     ]
    },
    {
     "name": "stderr",
     "output_type": "stream",
     "text": [
      "Processed prompts: 100%|██████████| 1/1 [00:00<00:00,  2.15it/s, Generation Speed: 47.54 toks/s]\n",
      "100%|██████████| 1/1 [00:00<00:00,  2.10it/s]\n"
     ]
    },
    {
     "name": "stdout",
     "output_type": "stream",
     "text": [
      "{'Reactants': ['13', 'catecholborane'], 'Product': ['8']}\n",
      "第25条数据\n"
     ]
    },
    {
     "name": "stderr",
     "output_type": "stream",
     "text": [
      "Processed prompts: 100%|██████████| 1/1 [00:01<00:00,  1.38s/it, Generation Speed: 15.25 toks/s]\n",
      "100%|██████████| 1/1 [00:01<00:00,  1.39s/it]\n"
     ]
    },
    {
     "name": "stdout",
     "output_type": "stream",
     "text": [
      "{'Reactants': ['5-cyclononynone'], 'Product': ['11']}\n"
     ]
    },
    {
     "name": "stderr",
     "output_type": "stream",
     "text": [
      "Processed prompts: 100%|██████████| 1/1 [00:00<00:00,  1.35it/s, Generation Speed: 28.40 toks/s]\n",
      "100%|██████████| 1/1 [00:00<00:00,  1.33it/s]\n"
     ]
    },
    {
     "name": "stdout",
     "output_type": "stream",
     "text": [
      "{'Product': ['12'], 'Reactants': ['5-cyclononynone']}\n",
      "第26条数据\n"
     ]
    },
    {
     "name": "stderr",
     "output_type": "stream",
     "text": [
      "Processed prompts: 100%|██████████| 1/1 [00:00<00:00,  2.16it/s, Generation Speed: 45.84 toks/s]\n",
      "100%|██████████| 1/1 [00:00<00:00,  2.12it/s]\n"
     ]
    },
    {
     "name": "stdout",
     "output_type": "stream",
     "text": [
      "{'Reactants': ['the latter'], 'Temperature': ['room'], 'Product': ['3']}\n",
      "第27条数据\n"
     ]
    },
    {
     "name": "stderr",
     "output_type": "stream",
     "text": [
      "Processed prompts: 100%|██████████| 1/1 [00:00<00:00,  2.14it/s, Generation Speed: 34.60 toks/s]\n",
      "100%|██████████| 1/1 [00:00<00:00,  2.10it/s]\n"
     ]
    },
    {
     "name": "stdout",
     "output_type": "stream",
     "text": [
      "{'Reactants': ['13'], 'Product': ['14']}\n"
     ]
    },
    {
     "name": "stderr",
     "output_type": "stream",
     "text": [
      "Processed prompts: 100%|██████████| 1/1 [00:00<00:00,  1.98it/s, Generation Speed: 33.93 toks/s]\n",
      "100%|██████████| 1/1 [00:00<00:00,  1.95it/s]\n"
     ]
    },
    {
     "name": "stdout",
     "output_type": "stream",
     "text": [
      "{'Product': ['16.'], 'Reactants': ['13']}\n",
      "第28条数据\n"
     ]
    },
    {
     "name": "stderr",
     "output_type": "stream",
     "text": [
      "Processed prompts: 100%|██████████| 1/1 [00:00<00:00,  1.79it/s, Generation Speed: 52.28 toks/s]\n",
      "100%|██████████| 1/1 [00:00<00:00,  1.77it/s]\n"
     ]
    },
    {
     "name": "stdout",
     "output_type": "stream",
     "text": [
      "answers:[{}]\n",
      "第29条数据\n"
     ]
    },
    {
     "name": "stderr",
     "output_type": "stream",
     "text": [
      "Processed prompts: 100%|██████████| 1/1 [00:00<00:00,  1.53it/s, Generation Speed: 57.09 toks/s]\n",
      "100%|██████████| 1/1 [00:00<00:00,  1.52it/s]\n"
     ]
    },
    {
     "name": "stdout",
     "output_type": "stream",
     "text": [
      "{'Reactants': ['23'], 'Catalyst_Reagents': ['NaBH4'], 'Yield': ['98 %'], 'Product': ['24']}\n",
      "第30条数据\n"
     ]
    },
    {
     "name": "stderr",
     "output_type": "stream",
     "text": [
      "Processed prompts: 100%|██████████| 1/1 [00:00<00:00,  1.20it/s, Generation Speed: 68.55 toks/s]\n",
      "100%|██████████| 1/1 [00:00<00:00,  1.19it/s]\n"
     ]
    },
    {
     "name": "stdout",
     "output_type": "stream",
     "text": [
      "answers:[{'Reactants': ['2,5-Dihydrofuran', 'furan'], 'Product': ['the cycloaddition products'], 'Temperature': ['465 K']}]\n",
      "第31条数据\n"
     ]
    },
    {
     "name": "stderr",
     "output_type": "stream",
     "text": [
      "Processed prompts: 100%|██████████| 1/1 [00:00<00:00,  1.65it/s, Generation Speed: 66.19 toks/s]\n",
      "100%|██████████| 1/1 [00:00<00:00,  1.63it/s]\n"
     ]
    },
    {
     "name": "stdout",
     "output_type": "stream",
     "text": [
      "answers:[{}]\n",
      "第32条数据\n"
     ]
    },
    {
     "name": "stderr",
     "output_type": "stream",
     "text": [
      "Processed prompts: 100%|██████████| 1/1 [00:00<00:00,  1.54it/s, Generation Speed: 57.38 toks/s]\n",
      "100%|██████████| 1/1 [00:00<00:00,  1.53it/s]\n"
     ]
    },
    {
     "name": "stdout",
     "output_type": "stream",
     "text": [
      "{'Reactants': ['p proline'], 'Catalyst_Reagents': ['formic acid', 'acetic anhydride'], 'Product': ['25']}\n",
      "第33条数据\n"
     ]
    },
    {
     "name": "stderr",
     "output_type": "stream",
     "text": [
      "Processed prompts: 100%|██████████| 1/1 [00:01<00:00,  1.05s/it, Generation Speed: 62.86 toks/s]\n",
      "100%|██████████| 1/1 [00:01<00:00,  1.06s/it]\n"
     ]
    },
    {
     "name": "stdout",
     "output_type": "stream",
     "text": [
      "{'Reactants': ['(S)-2-(hydroxymethy1)-1 methylpyrrolidine'], 'Catalyst_Reagents': ['lithium aluminum hydride'], 'Product': ['(S)-2-(hy- droxymethy1)-1 methylpyrrolidine']}\n"
     ]
    },
    {
     "name": "stderr",
     "output_type": "stream",
     "text": [
      "Processed prompts: 100%|██████████| 1/1 [00:00<00:00,  1.25it/s, Generation Speed: 59.03 toks/s]\n",
      "100%|██████████| 1/1 [00:00<00:00,  1.24it/s]\n"
     ]
    },
    {
     "name": "stdout",
     "output_type": "stream",
     "text": [
      "{'Reactants': ['(S)-2-(hydroxymethyl)-1-methylpyrrolidine'], 'Catalyst_Reagents': ['lithium aluminum hydride'], 'Product': ['26']}\n",
      "第34条数据\n"
     ]
    },
    {
     "name": "stderr",
     "output_type": "stream",
     "text": [
      "Processed prompts: 100%|██████████| 1/1 [00:01<00:00,  1.07s/it, Generation Speed: 56.88 toks/s]\n",
      "100%|██████████| 1/1 [00:01<00:00,  1.08s/it]\n"
     ]
    },
    {
     "name": "stdout",
     "output_type": "stream",
     "text": [
      "{'Product': ['2-(chloromethyl)-l methylpyrrolidine ( 27 )'], 'Reactants': ['2-(chloromethyl)-l methylpyrrolidine', 'thionyl chloride'], 'Solvent': ['chloroform']}\n"
     ]
    },
    {
     "name": "stderr",
     "output_type": "stream",
     "text": [
      "Processed prompts: 100%|██████████| 1/1 [00:00<00:00,  1.23it/s, Generation Speed: 50.73 toks/s]\n",
      "100%|██████████| 1/1 [00:00<00:00,  1.22it/s]\n"
     ]
    },
    {
     "name": "stdout",
     "output_type": "stream",
     "text": [
      "{'Reactants': ['2-(chloromethyl)-1 methylpyrrolidine', 'thionyl chloride'], 'Solvent': ['chloroform'], 'Product': ['27']}\n",
      "第35条数据\n"
     ]
    },
    {
     "name": "stderr",
     "output_type": "stream",
     "text": [
      "Processed prompts: 100%|██████████| 1/1 [00:00<00:00,  1.97it/s, Generation Speed: 55.23 toks/s]\n",
      "100%|██████████| 1/1 [00:00<00:00,  1.94it/s]\n"
     ]
    },
    {
     "name": "stdout",
     "output_type": "stream",
     "text": [
      "{'Reactants': ['sodium cyanide'], 'Solvent': ['80 % ethanol'], 'Product': ['30']}\n",
      "第36条数据\n"
     ]
    },
    {
     "name": "stderr",
     "output_type": "stream",
     "text": [
      "Processed prompts: 100%|██████████| 1/1 [00:01<00:00,  1.07s/it, Generation Speed: 57.20 toks/s]\n",
      "100%|██████████| 1/1 [00:01<00:00,  1.08s/it]\n"
     ]
    },
    {
     "name": "stdout",
     "output_type": "stream",
     "text": [
      "{'Reactants': [], 'Catalyst_Reagents': ['concentrated HCI'], 'Product': ['1 -methylpyrrolidine-2-acetic acid'], 'Solvent': [], 'Temperature': ['reflux'], 'Time': []}\n"
     ]
    },
    {
     "name": "stderr",
     "output_type": "stream",
     "text": [
      "Processed prompts: 100%|██████████| 1/1 [00:00<00:00,  2.69it/s, Generation Speed: 48.80 toks/s]\n",
      "100%|██████████| 1/1 [00:00<00:00,  2.63it/s]\n"
     ]
    },
    {
     "name": "stdout",
     "output_type": "stream",
     "text": [
      "{'Reactants': ['concentrated HCI'], 'Product': ['33']}\n",
      "第37条数据\n"
     ]
    },
    {
     "name": "stderr",
     "output_type": "stream",
     "text": [
      "Processed prompts: 100%|██████████| 1/1 [00:01<00:00,  1.07s/it, Generation Speed: 59.90 toks/s]\n",
      "100%|██████████| 1/1 [00:01<00:00,  1.08s/it]\n"
     ]
    },
    {
     "name": "stdout",
     "output_type": "stream",
     "text": [
      "{'Reactants': ['sodium [1,2-13C2]acetate', 'sodium [IJ4C]acetate', 'trimethyl phosphate'], 'Product': [\"methyl [ 1,2- ' 3C2,1-14C]acetate\"]}\n"
     ]
    },
    {
     "name": "stderr",
     "output_type": "stream",
     "text": [
      "Processed prompts: 100%|██████████| 1/1 [00:00<00:00,  1.25it/s, Generation Speed: 53.86 toks/s]\n",
      "100%|██████████| 1/1 [00:00<00:00,  1.23it/s]\n"
     ]
    },
    {
     "name": "stdout",
     "output_type": "stream",
     "text": [
      "{'Reactants': ['sodium [1,2-13C2]acetate', 'sodium [IJ4C]acetate', 'trimethyl phosphate'], 'Product': ['B']}\n"
     ]
    },
    {
     "name": "stderr",
     "output_type": "stream",
     "text": [
      "Processed prompts: 100%|██████████| 1/1 [00:00<00:00,  1.32it/s, Generation Speed: 51.83 toks/s]\n",
      "100%|██████████| 1/1 [00:00<00:00,  1.31it/s]\n"
     ]
    },
    {
     "name": "stdout",
     "output_type": "stream",
     "text": [
      "{'Reactants': [\"methyl [ 1,2- ' 3C2,1-14C]acetate ( B )\"], 'Product': ['29']}\n",
      "第38条数据\n"
     ]
    },
    {
     "name": "stderr",
     "output_type": "stream",
     "text": [
      "Processed prompts: 100%|██████████| 1/1 [00:00<00:00,  1.11it/s, Generation Speed: 58.83 toks/s]\n",
      "100%|██████████| 1/1 [00:00<00:00,  1.10it/s]\n"
     ]
    },
    {
     "name": "stdout",
     "output_type": "stream",
     "text": [
      "{'Product': ['methyl (RS)-[ 1,2- 13C2 , 1 -14C]-4-( 1 -methyl-2-pyrrolidinyl)-3-oxobutanoate']}\n"
     ]
    },
    {
     "name": "stderr",
     "output_type": "stream",
     "text": [
      "Processed prompts: 100%|██████████| 1/1 [00:00<00:00,  2.85it/s, Generation Speed: 23.02 toks/s]\n",
      "100%|██████████| 1/1 [00:00<00:00,  2.78it/s]\n"
     ]
    },
    {
     "name": "stdout",
     "output_type": "stream",
     "text": [
      "{'Product': ['31']}\n",
      "第39条数据\n"
     ]
    },
    {
     "name": "stderr",
     "output_type": "stream",
     "text": [
      "Processed prompts: 100%|██████████| 1/1 [00:00<00:00,  1.84it/s, Generation Speed: 55.60 toks/s]\n",
      "100%|██████████| 1/1 [00:00<00:00,  1.82it/s]\n"
     ]
    },
    {
     "name": "stdout",
     "output_type": "stream",
     "text": [
      "{'Reactants': ['3a'], 'Product': ['4a'], 'Yield': ['high'], 'Solvent': ['water']}\n",
      "第40条数据\n"
     ]
    },
    {
     "name": "stderr",
     "output_type": "stream",
     "text": [
      "Processed prompts: 100%|██████████| 1/1 [00:01<00:00,  1.49s/it, Generation Speed: 68.92 toks/s]\n",
      "100%|██████████| 1/1 [00:01<00:00,  1.49s/it]\n"
     ]
    },
    {
     "name": "stdout",
     "output_type": "stream",
     "text": [
      "{'Reactants': ['allyl iodoacetate 3a', 'triethylborane'], 'Solvent': ['water'], 'Catalyst_Reagents': ['triethylborane (1.0 M methanol solution, 0.1 mL, 0.1 mmol)'], 'Product': ['4a'], 'Yield': ['67 %'], 'Temperature': ['25 (cid:176) C'], 'Time': ['3 h']}\n",
      "第41条数据\n"
     ]
    },
    {
     "name": "stderr",
     "output_type": "stream",
     "text": [
      "Processed prompts: 100%|██████████| 1/1 [00:01<00:00,  1.78s/it, Generation Speed: 62.00 toks/s]\n",
      "100%|██████████| 1/1 [00:01<00:00,  1.79s/it]\n"
     ]
    },
    {
     "name": "stdout",
     "output_type": "stream",
     "text": [
      "{'Reactants': ['3-iodo- 1-methylquinolin-4(1H)-one', '4', 'phenylboronic acid', '8a'], 'Product': ['3-phenylquinolin-4(1H)-one'], 'Catalyst_Reagents': ['Pd(OAc)2', 'PPh3', 'Na2CO3'], 'Solvent': ['DME / EtOH'], 'Temperature': ['70 ° C'], 'Time': ['5 min']}\n"
     ]
    },
    {
     "name": "stderr",
     "output_type": "stream",
     "text": [
      "Processed prompts: 100%|██████████| 1/1 [00:01<00:00,  1.68s/it, Generation Speed: 59.12 toks/s]\n",
      "100%|██████████| 1/1 [00:01<00:00,  1.69s/it]\n"
     ]
    },
    {
     "name": "stdout",
     "output_type": "stream",
     "text": [
      "{'Reactants': ['3-iodo- 1-methylquinolin-4(1H)-one', '4', 'phenylboronic acid', '8a'], 'Product': ['9a'], 'Catalyst_Reagents': ['Pd(OAc)2', 'PPh3', 'Na2CO3'], 'Solvent': ['DME / EtOH'], 'Temperature': ['70 ° C'], 'Time': ['5 min']}\n",
      "第42条数据\n"
     ]
    },
    {
     "name": "stderr",
     "output_type": "stream",
     "text": [
      "Processed prompts: 100%|██████████| 1/1 [00:00<00:00,  1.15it/s, Generation Speed: 50.99 toks/s]\n",
      "100%|██████████| 1/1 [00:00<00:00,  1.14it/s]\n"
     ]
    },
    {
     "name": "stdout",
     "output_type": "stream",
     "text": [
      "{'Reactants': ['3-phenylquinolin-4(1H)-one'], 'Product': ['9a'], 'Yield': ['75 %'], 'Time': ['30 min']}\n",
      "第43条数据\n"
     ]
    },
    {
     "name": "stderr",
     "output_type": "stream",
     "text": [
      "Processed prompts: 100%|██████████| 1/1 [00:00<00:00,  2.57it/s, Generation Speed: 36.23 toks/s]\n",
      "100%|██████████| 1/1 [00:00<00:00,  2.50it/s]\n"
     ]
    },
    {
     "name": "stdout",
     "output_type": "stream",
     "text": [
      "{'Reactants': ['B'], 'Product': ['C']}\n",
      "第44条数据\n"
     ]
    },
    {
     "name": "stderr",
     "output_type": "stream",
     "text": [
      "Processed prompts: 100%|██████████| 1/1 [00:00<00:00,  1.86it/s, Generation Speed: 50.44 toks/s]\n",
      "100%|██████████| 1/1 [00:00<00:00,  1.83it/s]\n"
     ]
    },
    {
     "name": "stdout",
     "output_type": "stream",
     "text": [
      "{'Reactants': ['3a', '(MeCN)3Cr(CO)3'], 'Product': ['4a']}\n"
     ]
    },
    {
     "name": "stderr",
     "output_type": "stream",
     "text": [
      "Processed prompts: 100%|██████████| 1/1 [00:00<00:00,  1.77it/s, Generation Speed: 51.73 toks/s]\n",
      "100%|██████████| 1/1 [00:00<00:00,  1.75it/s]\n"
     ]
    },
    {
     "name": "stdout",
     "output_type": "stream",
     "text": [
      "{'Reactants': ['3a', '(MeCN)3Cr(CO)3'], 'Product': [\"5a1'\"]}\n"
     ]
    },
    {
     "name": "stderr",
     "output_type": "stream",
     "text": [
      "Processed prompts: 100%|██████████| 1/1 [00:00<00:00,  1.77it/s, Generation Speed: 51.76 toks/s]\n",
      "100%|██████████| 1/1 [00:00<00:00,  1.75it/s]\n"
     ]
    },
    {
     "name": "stdout",
     "output_type": "stream",
     "text": [
      "{'Reactants': ['3b', '(MeCN)3Cr(CO)3'], 'Product': [\"4b1'\"]}\n"
     ]
    },
    {
     "name": "stderr",
     "output_type": "stream",
     "text": [
      "Processed prompts: 100%|██████████| 1/1 [00:00<00:00,  1.77it/s, Generation Speed: 51.77 toks/s]\n",
      "100%|██████████| 1/1 [00:00<00:00,  1.75it/s]\n"
     ]
    },
    {
     "name": "stdout",
     "output_type": "stream",
     "text": [
      "{'Reactants': ['3b', '(MeCN)3Cr(CO)3'], 'Product': [\"5b,''\"]}\n",
      "第45条数据\n"
     ]
    },
    {
     "name": "stderr",
     "output_type": "stream",
     "text": [
      "Processed prompts: 100%|██████████| 1/1 [00:00<00:00,  1.71it/s, Generation Speed: 53.33 toks/s]\n",
      "100%|██████████| 1/1 [00:00<00:00,  1.69it/s]\n"
     ]
    },
    {
     "name": "stdout",
     "output_type": "stream",
     "text": [
      "{'Reactants': ['4a', 'ethyl acrylate'], 'Product': ['6a'], 'Yield': ['86 %']}\n",
      "第46条数据\n"
     ]
    },
    {
     "name": "stderr",
     "output_type": "stream",
     "text": [
      "Processed prompts: 100%|██████████| 1/1 [00:00<00:00,  1.13it/s, Generation Speed: 56.62 toks/s]\n",
      "100%|██████████| 1/1 [00:00<00:00,  1.12it/s]\n"
     ]
    },
    {
     "name": "stdout",
     "output_type": "stream",
     "text": [
      "{'Reactants': ['tryptophan methyl ester', '9'], 'Product': ['12'], 'Yield': ['35 %'], 'Temperature': [\"140 'C\"], 'Time': ['3 h']}\n",
      "第47条数据\n"
     ]
    },
    {
     "name": "stderr",
     "output_type": "stream",
     "text": [
      "Processed prompts: 100%|██████████| 1/1 [00:00<00:00,  1.27it/s, Generation Speed: 68.97 toks/s]\n",
      "100%|██████████| 1/1 [00:00<00:00,  1.26it/s]\n"
     ]
    },
    {
     "name": "stdout",
     "output_type": "stream",
     "text": [
      "answers:[{'Reactants': ['diol 6a', 'alcohol 7a'], 'Product': ['CM 8a'], 'Yield': ['23%']}]\n",
      "第48条数据\n"
     ]
    },
    {
     "name": "stderr",
     "output_type": "stream",
     "text": [
      "Processed prompts: 100%|██████████| 1/1 [00:00<00:00,  1.37it/s, Generation Speed: 62.02 toks/s]\n",
      "100%|██████████| 1/1 [00:00<00:00,  1.36it/s]\n"
     ]
    },
    {
     "name": "stdout",
     "output_type": "stream",
     "text": [
      "{'Product': ['2'], 'Reactants': ['1'], 'Catalyst_Reagents': ['electrochemical oxidation'], 'Product_Core': ['[Mu03(ri-MeC02)]']}\n",
      "第49条数据\n"
     ]
    },
    {
     "name": "stderr",
     "output_type": "stream",
     "text": [
      "Processed prompts: 100%|██████████| 1/1 [00:00<00:00,  1.44it/s, Generation Speed: 28.92 toks/s]\n",
      "100%|██████████| 1/1 [00:00<00:00,  1.42it/s]\n"
     ]
    },
    {
     "name": "stdout",
     "output_type": "stream",
     "text": [
      "{'Reactants': ['1a', '2a'], 'Product': ['3a']}\n",
      "第50条数据\n"
     ]
    },
    {
     "name": "stderr",
     "output_type": "stream",
     "text": [
      "Processed prompts: 100%|██████████| 1/1 [00:00<00:00,  1.59it/s, Generation Speed: 46.48 toks/s]\n",
      "100%|██████████| 1/1 [00:00<00:00,  1.57it/s]\n"
     ]
    },
    {
     "name": "stdout",
     "output_type": "stream",
     "text": [
      "{'Reactants': ['sulfonylhydrazide 2', 'I2O5'], 'Product': ['4']}\n",
      "第51条数据\n"
     ]
    },
    {
     "name": "stderr",
     "output_type": "stream",
     "text": [
      "Processed prompts: 100%|██████████| 1/1 [00:00<00:00,  1.69it/s, Generation Speed: 51.10 toks/s]\n",
      "100%|██████████| 1/1 [00:00<00:00,  1.67it/s]\n"
     ]
    },
    {
     "name": "stdout",
     "output_type": "stream",
     "text": [
      "{'Reactants': ['sulfonyl radical 4', 'arylpropiolamide 1'], 'Product': ['5.']}\n",
      "第52条数据\n"
     ]
    },
    {
     "name": "stderr",
     "output_type": "stream",
     "text": [
      "Processed prompts: 100%|██████████| 1/1 [00:00<00:00,  1.80it/s, Generation Speed: 32.49 toks/s]\n",
      "100%|██████████| 1/1 [00:00<00:00,  1.76it/s]\n"
     ]
    },
    {
     "name": "stdout",
     "output_type": "stream",
     "text": [
      "{'Reactants': ['radical intermediate 6'], 'Product': ['7']}\n"
     ]
    },
    {
     "name": "stderr",
     "output_type": "stream",
     "text": [
      "Processed prompts: 100%|██████████| 1/1 [00:00<00:00,  1.46it/s, Generation Speed: 42.68 toks/s]\n",
      "100%|██████████| 1/1 [00:00<00:00,  1.43it/s]\n"
     ]
    },
    {
     "name": "stdout",
     "output_type": "stream",
     "text": [
      "{'Reactants': ['cyclohexadienyl cation 7', 'H2O'], 'Product': ['8']}\n",
      "第53条数据\n"
     ]
    },
    {
     "name": "stderr",
     "output_type": "stream",
     "text": [
      "Processed prompts: 100%|██████████| 1/1 [00:00<00:00,  2.13it/s, Generation Speed: 45.05 toks/s]\n",
      "100%|██████████| 1/1 [00:00<00:00,  2.08it/s]\n"
     ]
    },
    {
     "name": "stdout",
     "output_type": "stream",
     "text": [
      "{'Reactants': ['intermediate 8', 'TBHP'], 'Product': ['3']}\n",
      "第54条数据\n"
     ]
    },
    {
     "name": "stderr",
     "output_type": "stream",
     "text": [
      "Processed prompts: 100%|██████████| 1/1 [00:00<00:00,  1.15it/s, Generation Speed: 68.06 toks/s]\n",
      "100%|██████████| 1/1 [00:00<00:00,  1.14it/s]\n"
     ]
    },
    {
     "name": "stdout",
     "output_type": "stream",
     "text": [
      "answers:[{'Reactants': ['oxalate substrates'], 'Product': ['5'], 'Yield': [], 'Temperature': [], 'Time': ['18 h', '2 h']}]\n",
      "第55条数据\n"
     ]
    },
    {
     "name": "stderr",
     "output_type": "stream",
     "text": [
      "Processed prompts: 100%|██████████| 1/1 [00:00<00:00,  1.92it/s, Generation Speed: 53.97 toks/s]\n",
      "100%|██████████| 1/1 [00:00<00:00,  1.88it/s]\n"
     ]
    },
    {
     "name": "stdout",
     "output_type": "stream",
     "text": [
      "{'Product': ['5'], 'Yield': ['28 %', '67 %'], 'Time': ['2 h']}\n",
      "第56条数据\n"
     ]
    },
    {
     "name": "stderr",
     "output_type": "stream",
     "text": [
      "Processed prompts: 100%|██████████| 1/1 [00:00<00:00,  1.55it/s, Generation Speed: 67.25 toks/s]\n",
      "100%|██████████| 1/1 [00:00<00:00,  1.54it/s]\n"
     ]
    },
    {
     "name": "stdout",
     "output_type": "stream",
     "text": [
      "answers:[{}]\n",
      "第57条数据\n"
     ]
    },
    {
     "name": "stderr",
     "output_type": "stream",
     "text": [
      "Processed prompts: 100%|██████████| 1/1 [00:01<00:00,  1.14s/it, Generation Speed: 61.67 toks/s]\n",
      "100%|██████████| 1/1 [00:01<00:00,  1.15s/it]\n"
     ]
    },
    {
     "name": "stdout",
     "output_type": "stream",
     "text": [
      "{'Reactants': ['the two reactants'], 'Catalyst_Reagents': ['2 mol % palladium acetate', '2 mol % tris(2,6-dimethoxyphenyl)phosphine'], 'Solvent': ['THF'], 'Product': ['4a9']}\n",
      "第58条数据\n"
     ]
    },
    {
     "name": "stderr",
     "output_type": "stream",
     "text": [
      "Processed prompts: 100%|██████████| 1/1 [00:00<00:00,  1.85it/s, Generation Speed: 65.34 toks/s]\n",
      "100%|██████████| 1/1 [00:00<00:00,  1.83it/s]\n"
     ]
    },
    {
     "name": "stdout",
     "output_type": "stream",
     "text": [
      "answers:[{'Reactants': ['initial adduct 2b'], 'Product': ['furan 5b']}]\n",
      "第59条数据\n"
     ]
    },
    {
     "name": "stderr",
     "output_type": "stream",
     "text": [
      "Processed prompts: 100%|██████████| 1/1 [00:00<00:00,  1.33it/s, Generation Speed: 41.49 toks/s]\n",
      "100%|██████████| 1/1 [00:00<00:00,  1.32it/s]\n"
     ]
    },
    {
     "name": "stdout",
     "output_type": "stream",
     "text": [
      "{'Reactants': ['initial adduct 2b'], 'Product': ['3bI0'], 'Solvent': ['benzene']}\n"
     ]
    },
    {
     "name": "stderr",
     "output_type": "stream",
     "text": [
      "Processed prompts: 100%|██████████| 1/1 [00:00<00:00,  1.35it/s, Generation Speed: 40.52 toks/s]\n",
      "100%|██████████| 1/1 [00:00<00:00,  1.33it/s]\n"
     ]
    },
    {
     "name": "stdout",
     "output_type": "stream",
     "text": [
      "{'Reactants': ['initial adduct 2b'], 'Product': ['5b.'], 'Solvent': ['benzene']}\n",
      "第60条数据\n"
     ]
    },
    {
     "name": "stderr",
     "output_type": "stream",
     "text": [
      "Processed prompts: 100%|██████████| 1/1 [00:00<00:00,  1.68it/s, Generation Speed: 70.89 toks/s]\n",
      "100%|██████████| 1/1 [00:00<00:00,  1.66it/s]\n"
     ]
    },
    {
     "name": "stdout",
     "output_type": "stream",
     "text": [
      "answers:[{'Reactants': ['3b', '5b'], 'Catalyst_Reagents': ['TDMPP', 'Pd(OAc)2'], 'Product': []}]\n",
      "第61条数据\n"
     ]
    },
    {
     "name": "stderr",
     "output_type": "stream",
     "text": [
      "Processed prompts: 100%|██████████| 1/1 [00:01<00:00,  1.36s/it, Generation Speed: 59.59 toks/s]\n",
      "100%|██████████| 1/1 [00:01<00:00,  1.37s/it]\n"
     ]
    },
    {
     "name": "stdout",
     "output_type": "stream",
     "text": [
      "{'Reactants': ['1a', '3a'], 'Product': ['3-benzazepine'], 'Catalyst_Reagents': ['Pd(PPh3)4', 'K3PO4'], 'Solvent': ['DMF'], 'Temperature': ['110 ° C'], 'Time': ['15 min'], 'Yield': ['13 %']}\n"
     ]
    },
    {
     "name": "stderr",
     "output_type": "stream",
     "text": [
      "Processed prompts: 100%|██████████| 1/1 [00:01<00:00,  1.39s/it, Generation Speed: 55.53 toks/s]\n",
      "100%|██████████| 1/1 [00:01<00:00,  1.40s/it]\n"
     ]
    },
    {
     "name": "stdout",
     "output_type": "stream",
     "text": [
      "{'Reactants': ['1a', '3a'], 'Product': ['4a'], 'Catalyst_Reagents': ['Pd(PPh3)4', 'K3PO4'], 'Solvent': ['DMF'], 'Temperature': ['110 ° C'], 'Time': ['15 min'], 'Yield': ['13 %']}\n",
      "第62条数据\n"
     ]
    },
    {
     "name": "stderr",
     "output_type": "stream",
     "text": [
      "Processed prompts: 100%|██████████| 1/1 [00:00<00:00,  1.36it/s, Generation Speed: 68.13 toks/s]\n",
      "100%|██████████| 1/1 [00:00<00:00,  1.35it/s]\n"
     ]
    },
    {
     "name": "stdout",
     "output_type": "stream",
     "text": [
      "answers:[{'Reactants': ['methanol'], 'Catalyst_Reagents': ['rhodium', 'iodide'], 'Product': ['acetic acid']}]\n",
      "第63条数据\n"
     ]
    },
    {
     "name": "stderr",
     "output_type": "stream",
     "text": [
      "Processed prompts: 100%|██████████| 1/1 [00:00<00:00,  2.15it/s, Generation Speed: 43.46 toks/s]\n",
      "100%|██████████| 1/1 [00:00<00:00,  2.11it/s]\n"
     ]
    },
    {
     "name": "stdout",
     "output_type": "stream",
     "text": [
      "{'Reactants': ['11', '21'], 'Product': ['22']}\n",
      "第64条数据\n"
     ]
    },
    {
     "name": "stderr",
     "output_type": "stream",
     "text": [
      "Processed prompts: 100%|██████████| 1/1 [00:00<00:00,  1.21it/s, Generation Speed: 57.03 toks/s]\n",
      "100%|██████████| 1/1 [00:00<00:00,  1.20it/s]\n"
     ]
    },
    {
     "name": "stdout",
     "output_type": "stream",
     "text": [
      "{'Reactants': ['2a', 'Ge-Si bonds'], 'Solvent': ['toluene'], 'Temperature': [\"100 'C\"], 'Product': ['tri-tert-butylsilane']}\n",
      "第65条数据\n"
     ]
    },
    {
     "name": "stderr",
     "output_type": "stream",
     "text": [
      "Processed prompts: 100%|██████████| 1/1 [00:01<00:00,  1.02s/it, Generation Speed: 54.18 toks/s]\n",
      "100%|██████████| 1/1 [00:01<00:00,  1.03s/it]\n"
     ]
    },
    {
     "name": "stdout",
     "output_type": "stream",
     "text": [
      "{'Product': ['2,1'], 'Reactants': ['1r(CR = CRCR3.CR)(PPh3)2C1 ( 1-Cl , R = C02CH3)', '3-butyn-1-01']}\n"
     ]
    },
    {
     "name": "stderr",
     "output_type": "stream",
     "text": [
      "Processed prompts: 100%|██████████| 1/1 [00:00<00:00,  1.74it/s, Generation Speed: 38.44 toks/s]\n",
      "100%|██████████| 1/1 [00:00<00:00,  1.72it/s]\n"
     ]
    },
    {
     "name": "stdout",
     "output_type": "stream",
     "text": [
      "{'Product': ['3'], 'Reactants': ['1-C1', 'propargyl alcohol']}\n",
      "第66条数据\n"
     ]
    },
    {
     "name": "stderr",
     "output_type": "stream",
     "text": [
      "Processed prompts: 100%|██████████| 1/1 [00:00<00:00,  1.05it/s, Generation Speed: 59.03 toks/s]\n",
      "100%|██████████| 1/1 [00:00<00:00,  1.04it/s]\n"
     ]
    },
    {
     "name": "stdout",
     "output_type": "stream",
     "text": [
      "{'Reactants': ['2b', 'Me2-SiC12I7'], 'Solvent': ['Et20'], 'Temperature': ['-20 C'], 'Product': ['8'], 'Yield': ['> 99 % ee']}\n"
     ]
    },
    {
     "name": "stderr",
     "output_type": "stream",
     "text": [
      "Processed prompts: 100%|██████████| 1/1 [00:00<00:00,  1.25it/s, Generation Speed: 55.07 toks/s]\n",
      "100%|██████████| 1/1 [00:00<00:00,  1.23it/s]"
     ]
    },
    {
     "name": "stdout",
     "output_type": "stream",
     "text": [
      "{'Reactants': ['2b', 'Me2-SiC12I7'], 'Solvent': ['Et20'], 'Temperature': ['-20 C'], 'Product': ['9']}\n",
      "TP, FP, FN 217 126 182\n",
      "NER:  precision, recall 0.6326530612244898 0.543859649122807\n",
      "NER:  f1_score 0.5849056603773586\n"
     ]
    },
    {
     "name": "stderr",
     "output_type": "stream",
     "text": [
      "\n"
     ]
    }
   ],
   "source": [
    "import os\n",
    "\n",
    "from evaluate import *\n",
    "from llm_re import *\n",
    "import warnings\n",
    "warnings.filterwarnings(\"ignore\")\n",
    "\n",
    "def main():\n",
    "    train_data,test_data=get_data()\n",
    "    \n",
    "    prev_dir='/data/lizh/ChemRxnExtractor-main/test_prev.json'\n",
    "    prev_data=read_json_file(prev_dir)\n",
    "    \n",
    "    prev_data2=chem_re_new(train_data,prev_data)\n",
    "    Reaction_f1(test_data,prev_data2)\n",
    "\n",
    "main()"
   ]
  },
  {
   "cell_type": "markdown",
   "metadata": {},
   "source": [
    "使用qwen2.5 72B基座模型\n",
    "TP, FP, FN 220 152 179\n",
    "NER:  precision, recall 0.5913978494623656 0.5513784461152882\n",
    "NER:  f1_score 0.570687418936446"
   ]
  },
  {
   "cell_type": "code",
   "execution_count": 1,
   "metadata": {},
   "outputs": [
    {
     "name": "stderr",
     "output_type": "stream",
     "text": [
      "/data/lizh/Conda/anaconda3/envs/vllm/lib/python3.9/site-packages/tqdm/auto.py:21: TqdmWarning: IProgress not found. Please update jupyter and ipywidgets. See https://ipywidgets.readthedocs.io/en/stable/user_install.html\n",
      "  from .autonotebook import tqdm as notebook_tqdm\n",
      "2024-12-11 16:07:59,700\tINFO util.py:154 -- Missing packages: ['ipywidgets']. Run `pip install -U ipywidgets`, then restart the notebook server for rich notebook output.\n",
      "2024-12-11 16:08:02,918\tINFO worker.py:1771 -- Started a local Ray instance.\n"
     ]
    },
    {
     "name": "stdout",
     "output_type": "stream",
     "text": [
      "INFO 12-11 16:08:03 llm_engine.py:161] Initializing an LLM engine (v0.4.3) with config: model='/data/models/qwen2.5/Qwen2.5-72B-Instruct', speculative_config=None, tokenizer='/data/models/qwen2.5/Qwen2.5-72B-Instruct', skip_tokenizer_init=False, tokenizer_mode=auto, revision=None, rope_scaling=None, tokenizer_revision=None, trust_remote_code=False, dtype=torch.bfloat16, max_seq_len=32768, download_dir=None, load_format=LoadFormat.AUTO, tensor_parallel_size=4, disable_custom_all_reduce=False, quantization=None, enforce_eager=False, kv_cache_dtype=auto, quantization_param_path=None, device_config=cuda, decoding_config=DecodingConfig(guided_decoding_backend='outlines'), seed=0, served_model_name=/data/models/qwen2.5/Qwen2.5-72B-Instruct)\n",
      "INFO 12-11 16:08:17 utils.py:618] Found nccl from library libnccl.so.2\n",
      "INFO 12-11 16:08:17 pynccl.py:65] vLLM is using nccl==2.20.5\n",
      "\u001b[36m(RayWorkerWrapper pid=1044200)\u001b[0m INFO 12-11 16:08:17 utils.py:618] Found nccl from library libnccl.so.2\n",
      "\u001b[36m(RayWorkerWrapper pid=1044200)\u001b[0m INFO 12-11 16:08:17 pynccl.py:65] vLLM is using nccl==2.20.5\n",
      "WARNING 12-11 16:08:17 custom_all_reduce.py:158] Custom allreduce is disabled because it's not supported on more than two PCIe-only GPUs. To silence this warning, specify disable_custom_all_reduce=True explicitly.\n",
      "\u001b[36m(RayWorkerWrapper pid=1044200)\u001b[0m WARNING 12-11 16:08:17 custom_all_reduce.py:158] Custom allreduce is disabled because it's not supported on more than two PCIe-only GPUs. To silence this warning, specify disable_custom_all_reduce=True explicitly.\n",
      "INFO 12-11 16:08:47 model_runner.py:146] Loading model weights took 33.9833 GB\n",
      "\u001b[36m(RayWorkerWrapper pid=1044200)\u001b[0m INFO 12-11 16:08:52 model_runner.py:146] Loading model weights took 33.9833 GB\n",
      "\u001b[36m(RayWorkerWrapper pid=1044430)\u001b[0m INFO 12-11 16:08:17 utils.py:618] Found nccl from library libnccl.so.2\u001b[32m [repeated 2x across cluster] (Ray deduplicates logs by default. Set RAY_DEDUP_LOGS=0 to disable log deduplication, or see https://docs.ray.io/en/master/ray-observability/user-guides/configure-logging.html#log-deduplication for more options.)\u001b[0m\n",
      "\u001b[36m(RayWorkerWrapper pid=1044430)\u001b[0m INFO 12-11 16:08:17 pynccl.py:65] vLLM is using nccl==2.20.5\u001b[32m [repeated 2x across cluster]\u001b[0m\n",
      "\u001b[36m(RayWorkerWrapper pid=1044430)\u001b[0m WARNING 12-11 16:08:17 custom_all_reduce.py:158] Custom allreduce is disabled because it's not supported on more than two PCIe-only GPUs. To silence this warning, specify disable_custom_all_reduce=True explicitly.\u001b[32m [repeated 2x across cluster]\u001b[0m\n",
      "INFO 12-11 16:09:46 distributed_gpu_executor.py:56] # GPU blocks: 7699, # CPU blocks: 3276\n",
      "INFO 12-11 16:09:50 model_runner.py:854] Capturing the model for CUDA graphs. This may lead to unexpected consequences if the model is not static. To run the model in eager mode, set 'enforce_eager=True' or use '--enforce-eager' in the CLI.\n",
      "INFO 12-11 16:09:50 model_runner.py:858] CUDA graphs can take additional 1~3 GiB memory per GPU. If you are running out of memory, consider decreasing `gpu_memory_utilization` or enforcing eager mode. You can also reduce the `max_num_seqs` as needed to decrease memory usage.\n",
      "\u001b[36m(RayWorkerWrapper pid=1044200)\u001b[0m INFO 12-11 16:09:52 model_runner.py:854] Capturing the model for CUDA graphs. This may lead to unexpected consequences if the model is not static. To run the model in eager mode, set 'enforce_eager=True' or use '--enforce-eager' in the CLI.\n",
      "\u001b[36m(RayWorkerWrapper pid=1044200)\u001b[0m INFO 12-11 16:09:52 model_runner.py:858] CUDA graphs can take additional 1~3 GiB memory per GPU. If you are running out of memory, consider decreasing `gpu_memory_utilization` or enforcing eager mode. You can also reduce the `max_num_seqs` as needed to decrease memory usage.\n",
      "\u001b[36m(RayWorkerWrapper pid=1044430)\u001b[0m INFO 12-11 16:08:52 model_runner.py:146] Loading model weights took 33.9833 GB\u001b[32m [repeated 2x across cluster]\u001b[0m\n",
      "INFO 12-11 16:10:29 model_runner.py:924] Graph capturing finished in 39 secs.\n",
      "\u001b[36m(RayWorkerWrapper pid=1044277)\u001b[0m INFO 12-11 16:10:29 model_runner.py:924] Graph capturing finished in 37 secs.\n",
      "\u001b[36m(RayWorkerWrapper pid=1044430)\u001b[0m INFO 12-11 16:09:52 model_runner.py:854] Capturing the model for CUDA graphs. This may lead to unexpected consequences if the model is not static. To run the model in eager mode, set 'enforce_eager=True' or use '--enforce-eager' in the CLI.\u001b[32m [repeated 2x across cluster]\u001b[0m\n",
      "\u001b[36m(RayWorkerWrapper pid=1044430)\u001b[0m INFO 12-11 16:09:52 model_runner.py:858] CUDA graphs can take additional 1~3 GiB memory per GPU. If you are running out of memory, consider decreasing `gpu_memory_utilization` or enforcing eager mode. You can also reduce the `max_num_seqs` as needed to decrease memory usage.\u001b[32m [repeated 2x across cluster]\u001b[0m\n",
      "第0条数据\n"
     ]
    },
    {
     "name": "stderr",
     "output_type": "stream",
     "text": [
      "Processed prompts: 100%|██████████| 1/1 [00:05<00:00,  5.16s/it, Generation Speed: 6.99 toks/s]\n",
      "100%|██████████| 1/1 [00:05<00:00,  5.20s/it]\n"
     ]
    },
    {
     "name": "stdout",
     "output_type": "stream",
     "text": [
      "{'Reactants': ['diphenylacetylene', '19A'], 'Product': ['23A'], 'Yield': ['30 %']}\n"
     ]
    },
    {
     "name": "stderr",
     "output_type": "stream",
     "text": [
      "Processed prompts: 100%|██████████| 1/1 [00:06<00:00,  6.22s/it, Generation Speed: 7.88 toks/s]\n",
      "100%|██████████| 1/1 [00:06<00:00,  6.23s/it]\n"
     ]
    },
    {
     "name": "stdout",
     "output_type": "stream",
     "text": [
      "{'Reactants': ['diphenylacetylene', '(phenylcyclopropy1)-carbene complex 19B'], 'Product': ['25'], 'Yield': ['53 %']}\n",
      "第1条数据\n"
     ]
    },
    {
     "name": "stderr",
     "output_type": "stream",
     "text": [
      "Processed prompts: 100%|██████████| 1/1 [00:09<00:00,  9.35s/it, Generation Speed: 8.88 toks/s]\n",
      "100%|██████████| 1/1 [00:09<00:00,  9.36s/it]\n"
     ]
    },
    {
     "name": "stdout",
     "output_type": "stream",
     "text": [
      "{'Reactants': ['2b'], 'Product': ['2-(3-(methylthio)naphthalen-2-yl)pyridine'], 'Catalyst_Reagents': ['copper acetate'], 'Solvent': ['DMSO'], 'Yield': ['89 %'], 'Temperature': ['125 °C']}\n"
     ]
    },
    {
     "name": "stderr",
     "output_type": "stream",
     "text": [
      "Processed prompts: 100%|██████████| 1/1 [00:07<00:00,  7.41s/it, Generation Speed: 8.37 toks/s]\n",
      "100%|██████████| 1/1 [00:07<00:00,  7.42s/it]\n"
     ]
    },
    {
     "name": "stdout",
     "output_type": "stream",
     "text": [
      "{'Reactants': [], 'Product': ['2b'], 'Catalyst_Reagents': ['copper acetate'], 'Solvent': ['DMSO'], 'Yield': ['89 %'], 'Temperature': ['125 °C']}\n",
      "第2条数据\n"
     ]
    },
    {
     "name": "stderr",
     "output_type": "stream",
     "text": [
      "Processed prompts: 100%|██████████| 1/1 [00:04<00:00,  4.98s/it, Generation Speed: 7.84 toks/s]\n",
      "100%|██████████| 1/1 [00:04<00:00,  4.98s/it]\n"
     ]
    },
    {
     "name": "stdout",
     "output_type": "stream",
     "text": [
      "{'Reactants': ['Me3SiCH2MgCl', 'O2'], 'Product': ['Me3SiOH'], 'Workup_reagents': ['H2O']}\n"
     ]
    },
    {
     "name": "stderr",
     "output_type": "stream",
     "text": [
      "Processed prompts: 100%|██████████| 1/1 [00:05<00:00,  5.40s/it, Generation Speed: 7.97 toks/s]\n",
      "100%|██████████| 1/1 [00:05<00:00,  5.41s/it]\n"
     ]
    },
    {
     "name": "stdout",
     "output_type": "stream",
     "text": [
      "{'Reactants': ['Me3SiCH2MgC1', '02'], 'Product': ['(Me3Si)20'], 'Workup_reagents': ['hydrolysis']}\n"
     ]
    },
    {
     "name": "stderr",
     "output_type": "stream",
     "text": [
      "Processed prompts: 100%|██████████| 1/1 [00:05<00:00,  5.23s/it, Generation Speed: 8.03 toks/s]\n",
      "100%|██████████| 1/1 [00:05<00:00,  5.24s/it]\n"
     ]
    },
    {
     "name": "stdout",
     "output_type": "stream",
     "text": [
      "{'Reactants': ['Me3SiCH2MgC1', '02'], 'Product': ['CH20.22'], 'Workup_reagents': ['hydrolysis']}\n",
      "第3条数据\n"
     ]
    },
    {
     "name": "stderr",
     "output_type": "stream",
     "text": [
      "Processed prompts: 100%|██████████| 1/1 [00:05<00:00,  5.52s/it, Generation Speed: 8.34 toks/s]\n",
      "100%|██████████| 1/1 [00:05<00:00,  5.53s/it]\n"
     ]
    },
    {
     "name": "stdout",
     "output_type": "stream",
     "text": [
      "{'Reactants': ['8', 'acetone'], 'Catalyst_Reagents': ['trifluoroacetic acid-tri- fluoroacetic anhydride'], 'Product': ['9.']}\n",
      "第4条数据\n"
     ]
    },
    {
     "name": "stderr",
     "output_type": "stream",
     "text": [
      "Processed prompts: 100%|██████████| 1/1 [00:06<00:00,  6.52s/it, Generation Speed: 5.98 toks/s]\n",
      "100%|██████████| 1/1 [00:06<00:00,  6.54s/it]\n"
     ]
    },
    {
     "name": "stdout",
     "output_type": "stream",
     "text": [
      "{'Reactants': ['10', 'triflic anhydride', 'pyridine'], 'Product': ['11'], 'Yield': ['92 %']}\n"
     ]
    },
    {
     "name": "stderr",
     "output_type": "stream",
     "text": [
      "Processed prompts: 100%|██████████| 1/1 [00:09<00:00,  9.05s/it, Generation Speed: 8.29 toks/s]\n",
      "100%|██████████| 1/1 [00:09<00:00,  9.06s/it]\n"
     ]
    },
    {
     "name": "stdout",
     "output_type": "stream",
     "text": [
      "{'Reactants': ['11', '1-heptyne'], 'Product': ['12'], 'Catalyst_Reagents': ['bis(triphenylphosphine)palladium(II) chloride', 'triethylamine'], 'Solvent': ['DMF'], 'Yield': ['68 %']}\n",
      "第5条数据\n"
     ]
    },
    {
     "name": "stderr",
     "output_type": "stream",
     "text": [
      "Processed prompts: 100%|██████████| 1/1 [00:03<00:00,  3.79s/it, Generation Speed: 6.86 toks/s]\n",
      "100%|██████████| 1/1 [00:03<00:00,  3.80s/it]\n"
     ]
    },
    {
     "name": "stdout",
     "output_type": "stream",
     "text": [
      "{'Reactants': ['its triple bond'], 'Product': ['13'], 'Yield': ['-loo %']}\n"
     ]
    },
    {
     "name": "stderr",
     "output_type": "stream",
     "text": [
      "Processed prompts: 100%|██████████| 1/1 [00:06<00:00,  6.72s/it, Generation Speed: 8.34 toks/s]\n",
      "100%|██████████| 1/1 [00:06<00:00,  6.73s/it]\n"
     ]
    },
    {
     "name": "stdout",
     "output_type": "stream",
     "text": [
      "{'Reactants': ['13'], 'Catalyst_Reagents': ['KOH', 'DMSO'], 'Temperature': ['120 OC'], 'Product': ['5-heptylresorcinolg'], 'Yield': ['90 %']}\n"
     ]
    },
    {
     "name": "stderr",
     "output_type": "stream",
     "text": [
      "Processed prompts: 100%|██████████| 1/1 [00:06<00:00,  6.08s/it, Generation Speed: 8.23 toks/s]\n",
      "100%|██████████| 1/1 [00:06<00:00,  6.09s/it]\n"
     ]
    },
    {
     "name": "stdout",
     "output_type": "stream",
     "text": [
      "{'Reactants': ['13'], 'Catalyst_Reagents': ['KOH', 'DMSO'], 'Temperature': ['120 OC'], 'Product': ['14'], 'Yield': ['90 %']}\n",
      "第6条数据\n"
     ]
    },
    {
     "name": "stderr",
     "output_type": "stream",
     "text": [
      "Processed prompts: 100%|██████████| 1/1 [00:04<00:00,  4.42s/it, Generation Speed: 7.46 toks/s]\n",
      "100%|██████████| 1/1 [00:04<00:00,  4.43s/it]\n"
     ]
    },
    {
     "name": "stdout",
     "output_type": "stream",
     "text": [
      "{'Reactants': ['13', 'lithium benzyl oxide'], 'Solvent': ['THF'], 'Product': ['15.']}\n",
      "第7条数据\n"
     ]
    },
    {
     "name": "stderr",
     "output_type": "stream",
     "text": [
      "Processed prompts: 100%|██████████| 1/1 [00:04<00:00,  4.69s/it, Generation Speed: 8.10 toks/s]\n",
      "100%|██████████| 1/1 [00:04<00:00,  4.70s/it]\n"
     ]
    },
    {
     "name": "stdout",
     "output_type": "stream",
     "text": [
      "{'Reactants': ['16', 'j3-(trimethylsilyl)ethanol'], 'Product': ['17'], 'Yield': ['80 %']}\n",
      "第8条数据\n"
     ]
    },
    {
     "name": "stderr",
     "output_type": "stream",
     "text": [
      "Processed prompts: 100%|██████████| 1/1 [00:07<00:00,  7.43s/it, Generation Speed: 8.48 toks/s]\n",
      "100%|██████████| 1/1 [00:07<00:00,  7.44s/it]\n"
     ]
    },
    {
     "name": "stdout",
     "output_type": "stream",
     "text": [
      "{'Reactants': ['17', 'epoxide 18'], 'Catalyst_Reagents': ['K2C03', '18-crown-6'], 'Solvent': ['acetone'], 'Product': ['19.'], 'Yield': ['81 %']}\n",
      "第9条数据\n"
     ]
    },
    {
     "name": "stderr",
     "output_type": "stream",
     "text": [
      "Processed prompts: 100%|██████████| 1/1 [00:05<00:00,  5.30s/it, Generation Speed: 7.75 toks/s]\n",
      "100%|██████████| 1/1 [00:05<00:00,  5.31s/it]\n"
     ]
    },
    {
     "name": "stdout",
     "output_type": "stream",
     "text": [
      "{'Product': ['11.'], 'Reactants': ['10'], 'Catalyst_Reagents': ['TMSBr'], 'Workup_reagents': ['phosphorylation']}\n",
      "第10条数据\n"
     ]
    },
    {
     "name": "stderr",
     "output_type": "stream",
     "text": [
      "Processed prompts: 100%|██████████| 1/1 [00:05<00:00,  5.67s/it, Generation Speed: 7.58 toks/s]\n",
      "100%|██████████| 1/1 [00:05<00:00,  5.68s/it]\n"
     ]
    },
    {
     "name": "stdout",
     "output_type": "stream",
     "text": [
      "{'Reactants': ['2', 'pyridinium bromide perbromide'], 'Solvent': ['acetic acid'], 'Product': ['3']}\n",
      "第11条数据\n"
     ]
    },
    {
     "name": "stderr",
     "output_type": "stream",
     "text": [
      "Processed prompts: 100%|██████████| 1/1 [00:04<00:00,  4.97s/it, Generation Speed: 8.46 toks/s]\n",
      "100%|██████████| 1/1 [00:04<00:00,  4.98s/it]\n"
     ]
    },
    {
     "name": "stdout",
     "output_type": "stream",
     "text": [
      "{'Reactants': ['ethyl 3,3-diamino-2-propenoatelg', '4', '2'], 'Product': ['1'], 'Yield': ['58 %']}\n",
      "第12条数据\n"
     ]
    },
    {
     "name": "stderr",
     "output_type": "stream",
     "text": [
      "Processed prompts: 100%|██████████| 1/1 [00:12<00:00, 12.79s/it, Generation Speed: 8.84 toks/s]\n",
      "100%|██████████| 1/1 [00:12<00:00, 12.80s/it]\n"
     ]
    },
    {
     "name": "stdout",
     "output_type": "stream",
     "text": [
      "{'Reactants': ['α-bromoalkene 6', 'n- butyllithium', 'n-BuLi'], 'Product': ['4'], 'Solvent': ['Et2O', 't-BuOMe', 'hexane', 'cyclopentane'], 'Workup_reagents': ['THF'], 'Coproduct': ['1- bromobutane', 'n-BuBr'], 'Byproducts': ['8', 'LiBr']}\n",
      "第13条数据\n"
     ]
    },
    {
     "name": "stderr",
     "output_type": "stream",
     "text": [
      "Processed prompts: 100%|██████████| 1/1 [00:03<00:00,  3.81s/it, Generation Speed: 6.83 toks/s]\n",
      "100%|██████████| 1/1 [00:03<00:00,  3.82s/it]\n"
     ]
    },
    {
     "name": "stdout",
     "output_type": "stream",
     "text": [
      "{'Product': ['2.'], 'Reactants': ['1'], 'Catalyst_Reagents': ['AA6']}\n",
      "第14条数据\n"
     ]
    },
    {
     "name": "stderr",
     "output_type": "stream",
     "text": [
      "Processed prompts: 100%|██████████| 1/1 [00:06<00:00,  6.63s/it, Generation Speed: 7.70 toks/s]\n",
      "100%|██████████| 1/1 [00:06<00:00,  6.64s/it]\n"
     ]
    },
    {
     "name": "stdout",
     "output_type": "stream",
     "text": [
      "{'Product': ['1'], 'Reactants': [\"5'-aminoadenosine derivative 2s\", 'biphenyl ester 3'], 'Solvent': ['CHCI3']}\n",
      "第15条数据\n"
     ]
    },
    {
     "name": "stderr",
     "output_type": "stream",
     "text": [
      "Processed prompts: 100%|██████████| 1/1 [00:03<00:00,  3.44s/it, Generation Speed: 6.40 toks/s]\n",
      "100%|██████████| 1/1 [00:03<00:00,  3.45s/it]\n"
     ]
    },
    {
     "name": "stdout",
     "output_type": "stream",
     "text": [
      "{'Reactants': ['46', '5.7-8'], 'Product': ['3']}\n",
      "第16条数据\n"
     ]
    },
    {
     "name": "stderr",
     "output_type": "stream",
     "text": [
      "Processed prompts: 100%|██████████| 1/1 [00:06<00:00,  6.71s/it, Generation Speed: 8.05 toks/s]\n",
      "100%|██████████| 1/1 [00:06<00:00,  6.72s/it]\n"
     ]
    },
    {
     "name": "stdout",
     "output_type": "stream",
     "text": [
      "{'Solvent': ['acetone', '50 : 50 acetone / water'], 'Product': ['3-ﬂuoropentadecane'], 'Yield': ['22 %', '4 %']}\n",
      "第17条数据\n"
     ]
    },
    {
     "name": "stderr",
     "output_type": "stream",
     "text": [
      "Processed prompts: 100%|██████████| 1/1 [00:06<00:00,  6.57s/it, Generation Speed: 7.16 toks/s]\n",
      "100%|██████████| 1/1 [00:06<00:00,  6.58s/it]\n"
     ]
    },
    {
     "name": "stdout",
     "output_type": "stream",
     "text": [
      "第18条数据\n"
     ]
    },
    {
     "name": "stderr",
     "output_type": "stream",
     "text": [
      "Processed prompts: 100%|██████████| 1/1 [00:07<00:00,  7.27s/it, Generation Speed: 7.44 toks/s]\n",
      "100%|██████████| 1/1 [00:07<00:00,  7.28s/it]\n"
     ]
    },
    {
     "name": "stdout",
     "output_type": "stream",
     "text": [
      "{'Reactants': ['allylic ether 5'], 'Product': ['10'], 'Catalyst_Reagents': ['MeMgBr', '5 mol % 1'], 'Yield': ['70 %']}\n",
      "第19条数据\n"
     ]
    },
    {
     "name": "stderr",
     "output_type": "stream",
     "text": [
      "Processed prompts: 100%|██████████| 1/1 [00:16<00:00, 16.72s/it, Generation Speed: 10.47 toks/s]\n",
      "100%|██████████| 1/1 [00:16<00:00, 16.73s/it]\n"
     ]
    },
    {
     "name": "stdout",
     "output_type": "stream",
     "text": [
      "answers:[{'Reactants': ['35'], 'Product': ['[4]paracyclophane 3'], 'Catalyst_Reagents': [], 'Workup_reagents': [], 'Solvent': ['alcoholic medium'], 'Yield': [], 'Temperature': [], 'Time': []}, {'Reactants': ['[4]paracyclophane 3', 'alcohol'], 'Product': ['alcohol adduct(s) 36'], 'Catalyst_Reagents': [], 'Workup_reagents': [], 'Solvent': ['alcoholic medium'], 'Yield': [], 'Temperature': [], 'Time': []}]\n",
      "第20条数据\n"
     ]
    },
    {
     "name": "stderr",
     "output_type": "stream",
     "text": [
      "Processed prompts: 100%|██████████| 1/1 [00:05<00:00,  5.62s/it, Generation Speed: 6.58 toks/s]\n",
      "100%|██████████| 1/1 [00:05<00:00,  5.63s/it]\n"
     ]
    },
    {
     "name": "stdout",
     "output_type": "stream",
     "text": [
      "{'Reactants': ['pivalonitrile', 'titanacyclobutane 1', 'Tebbe’s reagent'], 'Product': ['3']}\n",
      "第21条数据\n"
     ]
    },
    {
     "name": "stderr",
     "output_type": "stream",
     "text": [
      "Processed prompts: 100%|██████████| 1/1 [00:04<00:00,  4.83s/it, Generation Speed: 9.53 toks/s]\n",
      "100%|██████████| 1/1 [00:04<00:00,  4.84s/it]\n"
     ]
    },
    {
     "name": "stdout",
     "output_type": "stream",
     "text": [
      "answers:[{'Reactants': ['Gly - Gly'], 'Product': ['glycine'], 'Catalyst_Reagents': ['1']}]\n",
      "第22条数据\n"
     ]
    },
    {
     "name": "stderr",
     "output_type": "stream",
     "text": [
      "Processed prompts: 100%|██████████| 1/1 [00:10<00:00, 10.33s/it, Generation Speed: 10.26 toks/s]\n",
      "100%|██████████| 1/1 [00:10<00:00, 10.34s/it]\n"
     ]
    },
    {
     "name": "stdout",
     "output_type": "stream",
     "text": [
      "answers:[{'Reactants': ['Gly - Gly'], 'Product': ['glycine'], 'Solvent': ['NaHCO3'], 'Yield': ['greater than stoichiometric']}, {'Reactants': ['Gly - Gly'], 'Product': ['glycine'], 'Solvent': ['HEPES']}]\n",
      "第23条数据\n"
     ]
    },
    {
     "name": "stderr",
     "output_type": "stream",
     "text": [
      "Processed prompts: 100%|██████████| 1/1 [00:05<00:00,  5.02s/it, Generation Speed: 7.78 toks/s]\n",
      "100%|██████████| 1/1 [00:05<00:00,  5.03s/it]\n"
     ]
    },
    {
     "name": "stdout",
     "output_type": "stream",
     "text": [
      "{'Reactants': ['10'], 'Catalyst_Reagents': ['zirconium'], 'Product': [\"7,'4b\"], 'Yield': ['60 %']}\n"
     ]
    },
    {
     "name": "stderr",
     "output_type": "stream",
     "text": [
      "Processed prompts: 100%|██████████| 1/1 [00:04<00:00,  4.90s/it, Generation Speed: 7.56 toks/s]\n",
      "100%|██████████| 1/1 [00:04<00:00,  4.91s/it]\n"
     ]
    },
    {
     "name": "stdout",
     "output_type": "stream",
     "text": [
      "{'Reactants': ['10'], 'Catalyst_Reagents': ['zirconium'], 'Product': ['11'], 'Yield': ['60 %']}\n",
      "第24条数据\n"
     ]
    },
    {
     "name": "stderr",
     "output_type": "stream",
     "text": [
      "Processed prompts: 100%|██████████| 1/1 [00:05<00:00,  5.00s/it, Generation Speed: 8.00 toks/s]\n",
      "100%|██████████| 1/1 [00:05<00:00,  5.01s/it]\n"
     ]
    },
    {
     "name": "stdout",
     "output_type": "stream",
     "text": [
      "{'Reactants': ['13', 'catecholborane'], 'Product': ['8'], 'Temperature': ['room temperature'], 'Workup_reagents': ['hydrolysis']}\n",
      "第25条数据\n"
     ]
    },
    {
     "name": "stderr",
     "output_type": "stream",
     "text": [
      "Processed prompts: 100%|██████████| 1/1 [00:06<00:00,  6.10s/it, Generation Speed: 4.10 toks/s]\n",
      "100%|██████████| 1/1 [00:06<00:00,  6.11s/it]\n"
     ]
    },
    {
     "name": "stdout",
     "output_type": "stream",
     "text": [
      "{'Reactants': ['5-cyclononynone (lO)'], 'Product': ['11']}\n"
     ]
    },
    {
     "name": "stderr",
     "output_type": "stream",
     "text": [
      "Processed prompts: 100%|██████████| 1/1 [00:05<00:00,  5.87s/it, Generation Speed: 4.26 toks/s]\n",
      "100%|██████████| 1/1 [00:05<00:00,  5.88s/it]\n"
     ]
    },
    {
     "name": "stdout",
     "output_type": "stream",
     "text": [
      "{'Reactants': ['5-cyclononynone (lO)'], 'Product': ['12']}\n",
      "第26条数据\n"
     ]
    },
    {
     "name": "stderr",
     "output_type": "stream",
     "text": [
      "Processed prompts: 100%|██████████| 1/1 [00:02<00:00,  2.57s/it, Generation Speed: 5.07 toks/s]\n",
      "100%|██████████| 1/1 [00:02<00:00,  2.58s/it]\n"
     ]
    },
    {
     "name": "stdout",
     "output_type": "stream",
     "text": [
      "{'Product': ['3'], 'Temperature': ['room']}\n",
      "第27条数据\n"
     ]
    },
    {
     "name": "stderr",
     "output_type": "stream",
     "text": [
      "Processed prompts: 100%|██████████| 1/1 [00:03<00:00,  3.43s/it, Generation Speed: 4.67 toks/s]\n",
      "100%|██████████| 1/1 [00:03<00:00,  3.45s/it]\n"
     ]
    },
    {
     "name": "stdout",
     "output_type": "stream",
     "text": [
      "{'Reactants': ['13'], 'Product': ['14']}\n"
     ]
    },
    {
     "name": "stderr",
     "output_type": "stream",
     "text": [
      "Processed prompts: 100%|██████████| 1/1 [00:03<00:00,  3.51s/it, Generation Speed: 4.84 toks/s]\n",
      "100%|██████████| 1/1 [00:03<00:00,  3.52s/it]\n"
     ]
    },
    {
     "name": "stdout",
     "output_type": "stream",
     "text": [
      "{'Reactants': ['13'], 'Product': ['16.']}\n",
      "第28条数据\n"
     ]
    },
    {
     "name": "stderr",
     "output_type": "stream",
     "text": [
      "Processed prompts: 100%|██████████| 1/1 [00:00<00:00,  1.40it/s, Generation Speed: 2.81 toks/s]\n",
      "100%|██████████| 1/1 [00:00<00:00,  1.38it/s]\n"
     ]
    },
    {
     "name": "stdout",
     "output_type": "stream",
     "text": [
      "answers:[{}]\n",
      "第29条数据\n"
     ]
    },
    {
     "name": "stderr",
     "output_type": "stream",
     "text": [
      "Processed prompts: 100%|██████████| 1/1 [00:04<00:00,  4.69s/it, Generation Speed: 7.89 toks/s]\n",
      "100%|██████████| 1/1 [00:04<00:00,  4.70s/it]\n"
     ]
    },
    {
     "name": "stdout",
     "output_type": "stream",
     "text": [
      "{'Reactants': ['23'], 'Catalyst_Reagents': ['NaBH4'], 'Product': ['24'], 'Yield': ['98 %']}\n",
      "第30条数据\n"
     ]
    },
    {
     "name": "stderr",
     "output_type": "stream",
     "text": [
      "Processed prompts: 100%|██████████| 1/1 [00:05<00:00,  5.84s/it, Generation Speed: 9.77 toks/s]\n",
      "100%|██████████| 1/1 [00:05<00:00,  5.85s/it]\n"
     ]
    },
    {
     "name": "stdout",
     "output_type": "stream",
     "text": [
      "answers:[{'Reactants': ['2,5-Dihydrofuran', 'furan'], 'Product': ['cycloaddition products'], 'Temperature': ['465 K']}]\n",
      "第31条数据\n"
     ]
    },
    {
     "name": "stderr",
     "output_type": "stream",
     "text": [
      "Processed prompts: 100%|██████████| 1/1 [00:00<00:00,  1.38it/s, Generation Speed: 2.77 toks/s]\n",
      "100%|██████████| 1/1 [00:00<00:00,  1.37it/s]\n"
     ]
    },
    {
     "name": "stdout",
     "output_type": "stream",
     "text": [
      "answers:[{}]\n",
      "第32条数据\n"
     ]
    },
    {
     "name": "stderr",
     "output_type": "stream",
     "text": [
      "Processed prompts: 100%|██████████| 1/1 [00:04<00:00,  4.58s/it, Generation Speed: 8.09 toks/s]\n",
      "100%|██████████| 1/1 [00:04<00:00,  4.59s/it]\n"
     ]
    },
    {
     "name": "stdout",
     "output_type": "stream",
     "text": [
      "{'Reactants': ['p proline'], 'Catalyst_Reagents': ['formic acid', 'acetic anhydride'], 'Product': ['25']}\n",
      "第33条数据\n"
     ]
    },
    {
     "name": "stderr",
     "output_type": "stream",
     "text": [
      "Processed prompts: 100%|██████████| 1/1 [00:05<00:00,  5.71s/it, Generation Speed: 8.23 toks/s]\n",
      "100%|██████████| 1/1 [00:05<00:00,  5.72s/it]\n"
     ]
    },
    {
     "name": "stdout",
     "output_type": "stream",
     "text": [
      "{'Reactants': [], 'Catalyst_Reagents': ['lithium aluminum hydride'], 'Product': ['(S)-2-(hy- droxymethy1)-1 methylpyrrolidine']}\n"
     ]
    },
    {
     "name": "stderr",
     "output_type": "stream",
     "text": [
      "Processed prompts: 100%|██████████| 1/1 [00:03<00:00,  3.27s/it, Generation Speed: 6.43 toks/s]\n",
      "100%|██████████| 1/1 [00:03<00:00,  3.28s/it]\n"
     ]
    },
    {
     "name": "stdout",
     "output_type": "stream",
     "text": [
      "{'Reactants': ['lithium aluminum hydride'], 'Product': ['26']}\n",
      "第34条数据\n"
     ]
    },
    {
     "name": "stderr",
     "output_type": "stream",
     "text": [
      "Processed prompts: 100%|██████████| 1/1 [00:08<00:00,  8.93s/it, Generation Speed: 8.18 toks/s]\n",
      "100%|██████████| 1/1 [00:08<00:00,  8.94s/it]\n"
     ]
    },
    {
     "name": "stdout",
     "output_type": "stream",
     "text": [
      "{'Reactants': ['2-(chloromethyl)-1 methylpyrrolidine alcohol'], 'Catalyst_Reagents': ['thionyl chloride'], 'Solvent': ['chloroform'], 'Product': ['2-(chloromethyl)-1 methylpyrrolidine hydrochloride salt']}\n"
     ]
    },
    {
     "name": "stderr",
     "output_type": "stream",
     "text": [
      "Processed prompts: 100%|██████████| 1/1 [00:06<00:00,  6.71s/it, Generation Speed: 7.45 toks/s]\n",
      "100%|██████████| 1/1 [00:06<00:00,  6.72s/it]\n"
     ]
    },
    {
     "name": "stdout",
     "output_type": "stream",
     "text": [
      "{'Reactants': ['2-(chloromethyl)-1-methylpyrrolidine alcohol'], 'Catalyst_Reagents': ['thionyl chloride'], 'Solvent': ['chloroform'], 'Product': ['27']}\n",
      "第35条数据\n"
     ]
    },
    {
     "name": "stderr",
     "output_type": "stream",
     "text": [
      "Processed prompts: 100%|██████████| 1/1 [00:03<00:00,  3.77s/it, Generation Speed: 7.44 toks/s]\n",
      "100%|██████████| 1/1 [00:03<00:00,  3.78s/it]\n"
     ]
    },
    {
     "name": "stdout",
     "output_type": "stream",
     "text": [
      "{'Reactants': ['sodium cyanide'], 'Solvent': ['80 % ethanol'], 'Product': ['30']}\n",
      "第36条数据\n"
     ]
    },
    {
     "name": "stderr",
     "output_type": "stream",
     "text": [
      "Processed prompts: 100%|██████████| 1/1 [00:03<00:00,  3.76s/it, Generation Speed: 7.73 toks/s]\n",
      "100%|██████████| 1/1 [00:03<00:00,  3.76s/it]\n"
     ]
    },
    {
     "name": "stdout",
     "output_type": "stream",
     "text": [
      "{'Reactants': ['concentrated HCI'], 'Product': ['1 -methylpyrrolidine-2-acetic acid']}\n"
     ]
    },
    {
     "name": "stderr",
     "output_type": "stream",
     "text": [
      "Processed prompts: 100%|██████████| 1/1 [00:02<00:00,  2.82s/it, Generation Speed: 6.40 toks/s]\n",
      "100%|██████████| 1/1 [00:02<00:00,  2.83s/it]\n"
     ]
    },
    {
     "name": "stdout",
     "output_type": "stream",
     "text": [
      "{'Reactants': ['concentrated HCI'], 'Product': ['33']}\n",
      "第37条数据\n"
     ]
    },
    {
     "name": "stderr",
     "output_type": "stream",
     "text": [
      "Processed prompts: 100%|██████████| 1/1 [00:08<00:00,  8.10s/it, Generation Speed: 7.90 toks/s]\n",
      "100%|██████████| 1/1 [00:08<00:00,  8.11s/it]\n"
     ]
    },
    {
     "name": "stdout",
     "output_type": "stream",
     "text": [
      "{'Reactants': ['sodium [1,2-13C2]acetate', 'sodium [IJ4C]acetate', 'trimethyl phosphate'], 'Product': [\"methyl [ 1,2- ' 3C2,1-14C]acetate\"]}\n"
     ]
    },
    {
     "name": "stderr",
     "output_type": "stream",
     "text": [
      "Processed prompts: 100%|██████████| 1/1 [00:06<00:00,  6.10s/it, Generation Speed: 7.06 toks/s]\n",
      "100%|██████████| 1/1 [00:06<00:00,  6.10s/it]\n"
     ]
    },
    {
     "name": "stdout",
     "output_type": "stream",
     "text": [
      "{'Reactants': ['sodium [1,2-13C2]acetate', 'sodium [IJ4C]acetate', 'trimethyl phosphate'], 'Product': ['B']}\n"
     ]
    },
    {
     "name": "stderr",
     "output_type": "stream",
     "text": [
      "Processed prompts: 100%|██████████| 1/1 [00:08<00:00,  8.31s/it, Generation Speed: 7.95 toks/s]\n",
      "100%|██████████| 1/1 [00:08<00:00,  8.32s/it]\n"
     ]
    },
    {
     "name": "stdout",
     "output_type": "stream",
     "text": [
      "{'Reactants': ['sodium [1,2-13C2]acetate', 'sodium [IJ4C]acetate', 'trimethyl phosphate', 'imidazole derivative of I-methyl-pyrrolidine-2-acetic acid (32)'], 'Product': ['29']}\n",
      "第38条数据\n"
     ]
    },
    {
     "name": "stderr",
     "output_type": "stream",
     "text": [
      "Processed prompts: 100%|██████████| 1/1 [00:04<00:00,  4.74s/it, Generation Speed: 6.33 toks/s]\n",
      "100%|██████████| 1/1 [00:04<00:00,  4.75s/it]\n"
     ]
    },
    {
     "name": "stdout",
     "output_type": "stream",
     "text": [
      "{'Product': ['1 -methyl-2-pyrrolidinyl)-3-oxobutanoate']}\n"
     ]
    },
    {
     "name": "stderr",
     "output_type": "stream",
     "text": [
      "Processed prompts: 100%|██████████| 1/1 [00:02<00:00,  2.63s/it, Generation Speed: 3.04 toks/s]\n",
      "100%|██████████| 1/1 [00:02<00:00,  2.64s/it]\n"
     ]
    },
    {
     "name": "stdout",
     "output_type": "stream",
     "text": [
      "{'Product': ['31']}\n",
      "第39条数据\n"
     ]
    },
    {
     "name": "stderr",
     "output_type": "stream",
     "text": [
      "Processed prompts: 100%|██████████| 1/1 [00:03<00:00,  3.84s/it, Generation Speed: 7.81 toks/s]\n",
      "100%|██████████| 1/1 [00:03<00:00,  3.85s/it]\n"
     ]
    },
    {
     "name": "stdout",
     "output_type": "stream",
     "text": [
      "{'Reactants': ['3a'], 'Product': ['4a'], 'Solvent': ['water'], 'Yield': ['high']}\n",
      "第40条数据\n"
     ]
    },
    {
     "name": "stderr",
     "output_type": "stream",
     "text": [
      "Processed prompts: 100%|██████████| 1/1 [00:09<00:00,  9.11s/it, Generation Speed: 9.22 toks/s]\n",
      "100%|██████████| 1/1 [00:09<00:00,  9.12s/it]\n"
     ]
    },
    {
     "name": "stdout",
     "output_type": "stream",
     "text": [
      "{'Reactants': ['allyl iodoacetate 3a'], 'Solvent': ['water'], 'Catalyst_Reagents': ['triethylborane'], 'Temperature': ['25 ( cid : 176 ) C'], 'Time': ['3 h'], 'Yield': ['67 %'], 'Product': ['4a']}\n",
      "第41条数据\n"
     ]
    },
    {
     "name": "stderr",
     "output_type": "stream",
     "text": [
      "Processed prompts: 100%|██████████| 1/1 [00:14<00:00, 14.29s/it, Generation Speed: 8.54 toks/s]\n",
      "100%|██████████| 1/1 [00:14<00:00, 14.30s/it]\n"
     ]
    },
    {
     "name": "stdout",
     "output_type": "stream",
     "text": [
      "{'Reactants': ['3-iodo-1-methylquinolin-4(1H)-one', '4', 'phenylboronic acid', '8a'], 'Product': ['3-phenylquinolin-4(1H)-one', '9a'], 'Catalyst_Reagents': ['Pd(OAc)2', 'PPh3', 'Na2CO3'], 'Solvent': ['DME', 'EtOH'], 'Temperature': ['70 ° C'], 'Time': ['5 min']}\n"
     ]
    },
    {
     "name": "stderr",
     "output_type": "stream",
     "text": [
      "Processed prompts: 100%|██████████| 1/1 [00:13<00:00, 13.40s/it, Generation Speed: 8.36 toks/s]\n",
      "100%|██████████| 1/1 [00:13<00:00, 13.41s/it]\n"
     ]
    },
    {
     "name": "stdout",
     "output_type": "stream",
     "text": [
      "{'Reactants': ['3-iodo-1-methylquinolin-4(1H)-one 4', 'phenylboronic acid 8a'], 'Product': ['9a'], 'Catalyst_Reagents': ['Pd(OAc)2', 'PPh3', 'Na2CO3'], 'Solvent': ['DME / EtOH (1.5 : 1)'], 'Temperature': ['70 ° C'], 'Time': ['5 min']}\n",
      "第42条数据\n"
     ]
    },
    {
     "name": "stderr",
     "output_type": "stream",
     "text": [
      "Processed prompts: 100%|██████████| 1/1 [00:08<00:00,  8.11s/it, Generation Speed: 7.90 toks/s]\n",
      "100%|██████████| 1/1 [00:08<00:00,  8.12s/it]\n"
     ]
    },
    {
     "name": "stdout",
     "output_type": "stream",
     "text": [
      "{'Reactants': ['1- substituted-3-iodoquinolin-4(1H)-ones', '4', '6'], 'Product': ['9a'], 'Yield': ['75 %'], 'Time': ['30 min']}\n",
      "第43条数据\n"
     ]
    },
    {
     "name": "stderr",
     "output_type": "stream",
     "text": [
      "Processed prompts: 100%|██████████| 1/1 [00:02<00:00,  2.84s/it, Generation Speed: 4.94 toks/s]\n",
      "100%|██████████| 1/1 [00:02<00:00,  2.85s/it]\n"
     ]
    },
    {
     "name": "stdout",
     "output_type": "stream",
     "text": [
      "{'Reactants': ['B'], 'Product': ['C']}\n",
      "第44条数据\n"
     ]
    },
    {
     "name": "stderr",
     "output_type": "stream",
     "text": [
      "Processed prompts: 100%|██████████| 1/1 [00:03<00:00,  3.84s/it, Generation Speed: 7.03 toks/s]\n",
      "100%|██████████| 1/1 [00:03<00:00,  3.85s/it]\n"
     ]
    },
    {
     "name": "stdout",
     "output_type": "stream",
     "text": [
      "{'Reactants': ['3a', '(MeCN)3Cr(C0)3'], 'Product': ['4a']}\n"
     ]
    },
    {
     "name": "stderr",
     "output_type": "stream",
     "text": [
      "Processed prompts: 100%|██████████| 1/1 [00:04<00:00,  4.09s/it, Generation Speed: 7.09 toks/s]\n",
      "100%|██████████| 1/1 [00:04<00:00,  4.10s/it]\n"
     ]
    },
    {
     "name": "stdout",
     "output_type": "stream",
     "text": [
      "{'Reactants': ['3a', '(MeCN)3Cr(C0)3'], 'Product': [\"5a1'\"]}\n"
     ]
    },
    {
     "name": "stderr",
     "output_type": "stream",
     "text": [
      "Processed prompts: 100%|██████████| 1/1 [00:04<00:00,  4.85s/it, Generation Speed: 7.65 toks/s]\n",
      "100%|██████████| 1/1 [00:04<00:00,  4.86s/it]\n"
     ]
    },
    {
     "name": "stdout",
     "output_type": "stream",
     "text": [
      "{'Reactants': ['3b'], 'Catalyst_Reagents': ['(MeCN)3Cr(C0)3'], 'Product': [\"4b1'\"]}\n"
     ]
    },
    {
     "name": "stderr",
     "output_type": "stream",
     "text": [
      "Processed prompts: 100%|██████████| 1/1 [00:04<00:00,  4.81s/it, Generation Speed: 7.49 toks/s]\n",
      "100%|██████████| 1/1 [00:04<00:00,  4.83s/it]\n"
     ]
    },
    {
     "name": "stdout",
     "output_type": "stream",
     "text": [
      "{'Reactants': ['3b'], 'Catalyst_Reagents': ['(MeCN)3Cr(C0)3'], 'Product': [\"5b,'\"]}\n",
      "第45条数据\n"
     ]
    },
    {
     "name": "stderr",
     "output_type": "stream",
     "text": [
      "Processed prompts: 100%|██████████| 1/1 [00:05<00:00,  5.15s/it, Generation Speed: 7.78 toks/s]\n",
      "100%|██████████| 1/1 [00:05<00:00,  5.16s/it]\n"
     ]
    },
    {
     "name": "stdout",
     "output_type": "stream",
     "text": [
      "{'Reactants': ['4a', 'ethyl acrylate'], 'Product': ['6a'], 'Yield': ['86 %'], 'Temperature': ['photochemically initiated']}\n",
      "第46条数据\n"
     ]
    },
    {
     "name": "stderr",
     "output_type": "stream",
     "text": [
      "Processed prompts: 100%|██████████| 1/1 [00:06<00:00,  6.25s/it, Generation Speed: 8.01 toks/s]\n",
      "100%|██████████| 1/1 [00:06<00:00,  6.26s/it]\n"
     ]
    },
    {
     "name": "stdout",
     "output_type": "stream",
     "text": [
      "{'Reactants': ['tryptophan methyl ester', '9'], 'Product': ['12'], 'Yield': ['35 %'], 'Temperature': [\"140 'C\"], 'Time': ['3 h']}\n",
      "第47条数据\n"
     ]
    },
    {
     "name": "stderr",
     "output_type": "stream",
     "text": [
      "Processed prompts: 100%|██████████| 1/1 [00:05<00:00,  5.50s/it, Generation Speed: 9.82 toks/s]\n",
      "100%|██████████| 1/1 [00:05<00:00,  5.52s/it]\n"
     ]
    },
    {
     "name": "stdout",
     "output_type": "stream",
     "text": [
      "answers:[{'Reactants': ['diol 6a', 'alcohol 7a'], 'Product': ['CM 8a'], 'Yield': ['23%']}]\n",
      "第48条数据\n"
     ]
    },
    {
     "name": "stderr",
     "output_type": "stream",
     "text": [
      "Processed prompts: 100%|██████████| 1/1 [00:05<00:00,  5.84s/it, Generation Speed: 8.74 toks/s]\n",
      "100%|██████████| 1/1 [00:05<00:00,  5.84s/it]\n"
     ]
    },
    {
     "name": "stdout",
     "output_type": "stream",
     "text": [
      "{'Product': ['2'], 'Reactants': ['1'], 'Catalyst_Reagents': ['third oxide'], 'Workup_reagents': [], 'Solvent': [], 'Yield': [], 'Temperature': [], 'Time': []}\n",
      "第49条数据\n"
     ]
    },
    {
     "name": "stderr",
     "output_type": "stream",
     "text": [
      "Processed prompts: 100%|██████████| 1/1 [00:06<00:00,  6.31s/it, Generation Speed: 5.07 toks/s]\n",
      "100%|██████████| 1/1 [00:06<00:00,  6.32s/it]\n"
     ]
    },
    {
     "name": "stdout",
     "output_type": "stream",
     "text": [
      "{'Reactants': ['1a', '2a'], 'Product': ['3a'], 'Catalyst_Reagents': ['18O']}\n",
      "第50条数据\n"
     ]
    },
    {
     "name": "stderr",
     "output_type": "stream",
     "text": [
      "Processed prompts: 100%|██████████| 1/1 [00:05<00:00,  5.70s/it, Generation Speed: 7.37 toks/s]\n",
      "100%|██████████| 1/1 [00:05<00:00,  5.71s/it]\n"
     ]
    },
    {
     "name": "stdout",
     "output_type": "stream",
     "text": [
      "{'Reactants': ['sulfonylhydrazide 2', 'I2O5'], 'Product': ['4'], 'Catalyst_Reagents': ['I2O5']}\n",
      "第51条数据\n"
     ]
    },
    {
     "name": "stderr",
     "output_type": "stream",
     "text": [
      "Processed prompts: 100%|██████████| 1/1 [00:04<00:00,  4.32s/it, Generation Speed: 6.95 toks/s]\n",
      "100%|██████████| 1/1 [00:04<00:00,  4.33s/it]\n"
     ]
    },
    {
     "name": "stdout",
     "output_type": "stream",
     "text": [
      "{'Reactants': ['sulfonyl radical 4', 'arylpropiolamide 1'], 'Product': ['5.']}\n",
      "第52条数据\n"
     ]
    },
    {
     "name": "stderr",
     "output_type": "stream",
     "text": [
      "Processed prompts: 100%|██████████| 1/1 [00:05<00:00,  5.15s/it, Generation Speed: 5.64 toks/s]\n",
      "100%|██████████| 1/1 [00:05<00:00,  5.16s/it]\n"
     ]
    },
    {
     "name": "stdout",
     "output_type": "stream",
     "text": [
      "{'Reactants': ['vinyl radical 5'], 'Product': ['7'], 'Catalyst_Reagents': ['aryl ring']}\n"
     ]
    },
    {
     "name": "stderr",
     "output_type": "stream",
     "text": [
      "Processed prompts: 100%|██████████| 1/1 [00:05<00:00,  5.86s/it, Generation Speed: 6.32 toks/s]\n",
      "100%|██████████| 1/1 [00:05<00:00,  5.87s/it]\n"
     ]
    },
    {
     "name": "stdout",
     "output_type": "stream",
     "text": [
      "{'Reactants': ['cyclohexadienyl cation', '7'], 'Catalyst_Reagents': ['H2O'], 'Product': ['8']}\n",
      "第53条数据\n"
     ]
    },
    {
     "name": "stderr",
     "output_type": "stream",
     "text": [
      "Processed prompts: 100%|██████████| 1/1 [00:03<00:00,  3.79s/it, Generation Speed: 6.61 toks/s]\n",
      "100%|██████████| 1/1 [00:03<00:00,  3.80s/it]\n"
     ]
    },
    {
     "name": "stdout",
     "output_type": "stream",
     "text": [
      "{'Reactants': ['8'], 'Catalyst_Reagents': ['TBHP'], 'Product': ['3']}\n",
      "第54条数据\n"
     ]
    },
    {
     "name": "stderr",
     "output_type": "stream",
     "text": [
      "Processed prompts: 100%|██████████| 1/1 [00:00<00:00,  1.33it/s, Generation Speed: 2.68 toks/s]\n",
      "100%|██████████| 1/1 [00:00<00:00,  1.32it/s]\n"
     ]
    },
    {
     "name": "stdout",
     "output_type": "stream",
     "text": [
      "answers:[{}]\n",
      "第55条数据\n"
     ]
    },
    {
     "name": "stderr",
     "output_type": "stream",
     "text": [
      "Processed prompts: 100%|██████████| 1/1 [00:03<00:00,  3.81s/it, Generation Speed: 7.36 toks/s]\n",
      "100%|██████████| 1/1 [00:03<00:00,  3.82s/it]\n"
     ]
    },
    {
     "name": "stdout",
     "output_type": "stream",
     "text": [
      "{'Product': ['5'], 'Yield': ['28 %', '67 %'], 'Time': ['2 h']}\n",
      "第56条数据\n"
     ]
    },
    {
     "name": "stderr",
     "output_type": "stream",
     "text": [
      "Processed prompts: 100%|██████████| 1/1 [00:00<00:00,  1.38it/s, Generation Speed: 2.78 toks/s]\n",
      "100%|██████████| 1/1 [00:00<00:00,  1.37it/s]\n"
     ]
    },
    {
     "name": "stdout",
     "output_type": "stream",
     "text": [
      "answers:[{}]\n",
      "第57条数据\n"
     ]
    },
    {
     "name": "stderr",
     "output_type": "stream",
     "text": [
      "Processed prompts: 100%|██████████| 1/1 [00:08<00:00,  8.52s/it, Generation Speed: 8.57 toks/s]\n",
      "100%|██████████| 1/1 [00:08<00:00,  8.53s/it]\n"
     ]
    },
    {
     "name": "stdout",
     "output_type": "stream",
     "text": [
      "{'Reactants': ['two reactants'], 'Catalyst_Reagents': ['palladium acetate', 'tris(2,6-dimethoxyphenyl)phosphineE(TDMPP)'], 'Solvent': ['THF'], 'Product': ['4a9']}\n",
      "第58条数据\n"
     ]
    },
    {
     "name": "stderr",
     "output_type": "stream",
     "text": [
      "Processed prompts: 100%|██████████| 1/1 [00:06<00:00,  6.74s/it, Generation Speed: 9.80 toks/s]\n",
      "100%|██████████| 1/1 [00:06<00:00,  6.74s/it]\n"
     ]
    },
    {
     "name": "stdout",
     "output_type": "stream",
     "text": [
      "answers:[{'Reactants': ['initial adduct 2b'], 'Product': ['4b']}, {'Reactants': ['initial adduct 2b'], 'Product': ['furan 5b']}]\n",
      "第59条数据\n"
     ]
    },
    {
     "name": "stderr",
     "output_type": "stream",
     "text": [
      "Processed prompts: 100%|██████████| 1/1 [00:05<00:00,  5.18s/it, Generation Speed: 5.22 toks/s]\n",
      "100%|██████████| 1/1 [00:05<00:00,  5.19s/it]\n"
     ]
    },
    {
     "name": "stdout",
     "output_type": "stream",
     "text": [
      "{'Reactants': ['2b'], 'Product': ['3bI0'], 'Solvent': ['benzene']}\n"
     ]
    },
    {
     "name": "stderr",
     "output_type": "stream",
     "text": [
      "Processed prompts: 100%|██████████| 1/1 [00:05<00:00,  5.09s/it, Generation Speed: 5.11 toks/s]\n",
      "100%|██████████| 1/1 [00:05<00:00,  5.10s/it]\n"
     ]
    },
    {
     "name": "stdout",
     "output_type": "stream",
     "text": [
      "{'Reactants': ['2b'], 'Product': ['5b.'], 'Solvent': ['benzene']}\n",
      "第60条数据\n"
     ]
    },
    {
     "name": "stderr",
     "output_type": "stream",
     "text": [
      "Processed prompts: 100%|██████████| 1/1 [00:08<00:00,  8.09s/it, Generation Speed: 10.15 toks/s]\n",
      "100%|██████████| 1/1 [00:08<00:00,  8.09s/it]\n"
     ]
    },
    {
     "name": "stdout",
     "output_type": "stream",
     "text": [
      "answers:[{'Reactants': ['TDMPP', 'Pd(OAc)2'], 'Product': ['3b', '5b'], 'Catalyst_Reagents': ['Pd(OAc)2'], 'Ratio': ['1:2', '2:5']}]\n",
      "第61条数据\n"
     ]
    },
    {
     "name": "stderr",
     "output_type": "stream",
     "text": [
      "Processed prompts: 100%|██████████| 1/1 [00:12<00:00, 12.20s/it, Generation Speed: 8.29 toks/s]\n",
      "100%|██████████| 1/1 [00:12<00:00, 12.21s/it]\n"
     ]
    },
    {
     "name": "stdout",
     "output_type": "stream",
     "text": [
      "{'Reactants': ['1a', '3a'], 'Product': ['3-benzazepine'], 'Catalyst_Reagents': ['Pd(PPh3)4'], 'Workup_reagents': ['K3PO4'], 'Solvent': ['DMF'], 'Temperature': ['110 ° C'], 'Time': ['15 min'], 'Yield': ['13 %']}\n"
     ]
    },
    {
     "name": "stderr",
     "output_type": "stream",
     "text": [
      "Processed prompts: 100%|██████████| 1/1 [00:11<00:00, 11.34s/it, Generation Speed: 8.20 toks/s]\n",
      "100%|██████████| 1/1 [00:11<00:00, 11.36s/it]\n"
     ]
    },
    {
     "name": "stdout",
     "output_type": "stream",
     "text": [
      "{'Reactants': ['1a', '3a'], 'Product': ['4a'], 'Catalyst_Reagents': ['Pd(PPh3)4'], 'Workup_reagents': ['K3PO4'], 'Solvent': ['DMF'], 'Temperature': ['110 ° C'], 'Time': ['15 min'], 'Yield': ['13 %']}\n",
      "第62条数据\n"
     ]
    },
    {
     "name": "stderr",
     "output_type": "stream",
     "text": [
      "Processed prompts: 100%|██████████| 1/1 [00:05<00:00,  5.17s/it, Generation Speed: 9.68 toks/s]\n",
      "100%|██████████| 1/1 [00:05<00:00,  5.18s/it]\n"
     ]
    },
    {
     "name": "stdout",
     "output_type": "stream",
     "text": [
      "answers:[{'Reactants': ['methanol'], 'Catalyst_Reagents': ['rhodium', 'iodide'], 'Product': ['acetic acid']}]\n",
      "第63条数据\n"
     ]
    },
    {
     "name": "stderr",
     "output_type": "stream",
     "text": [
      "Processed prompts: 100%|██████████| 1/1 [00:03<00:00,  3.36s/it, Generation Speed: 5.95 toks/s]\n",
      "100%|██████████| 1/1 [00:03<00:00,  3.37s/it]\n"
     ]
    },
    {
     "name": "stdout",
     "output_type": "stream",
     "text": [
      "{'Reactants': ['11', '21'], 'Product': ['22']}\n",
      "第64条数据\n"
     ]
    },
    {
     "name": "stderr",
     "output_type": "stream",
     "text": [
      "Processed prompts: 100%|██████████| 1/1 [00:05<00:00,  5.27s/it, Generation Speed: 7.78 toks/s]\n",
      "100%|██████████| 1/1 [00:05<00:00,  5.28s/it]\n"
     ]
    },
    {
     "name": "stdout",
     "output_type": "stream",
     "text": [
      "{'Reactants': ['2a'], 'Solvent': ['toluene'], 'Temperature': [\"100 'C\"], 'Product': ['tri-tert-butylsilane']}\n",
      "第65条数据\n"
     ]
    },
    {
     "name": "stderr",
     "output_type": "stream",
     "text": [
      "Processed prompts: 100%|██████████| 1/1 [00:07<00:00,  7.23s/it, Generation Speed: 7.61 toks/s]\n",
      "100%|██████████| 1/1 [00:07<00:00,  7.24s/it]\n"
     ]
    },
    {
     "name": "stdout",
     "output_type": "stream",
     "text": [
      "{'Reactants': ['1r(CR = CRCR3.CR)(PPh3)2C1 ( 1-Cl , R = C02CH3)', '3-butyn-1-01'], 'Product': ['2,1']}\n"
     ]
    },
    {
     "name": "stderr",
     "output_type": "stream",
     "text": [
      "Processed prompts: 100%|██████████| 1/1 [00:04<00:00,  4.25s/it, Generation Speed: 5.18 toks/s]\n",
      "100%|██████████| 1/1 [00:04<00:00,  4.26s/it]\n"
     ]
    },
    {
     "name": "stdout",
     "output_type": "stream",
     "text": [
      "{'Reactants': ['1-C1', 'propargyl alcohol'], 'Product': ['3']}\n",
      "第66条数据\n"
     ]
    },
    {
     "name": "stderr",
     "output_type": "stream",
     "text": [
      "Processed prompts: 100%|██████████| 1/1 [00:09<00:00,  9.16s/it, Generation Speed: 8.73 toks/s]\n",
      "100%|██████████| 1/1 [00:09<00:00,  9.17s/it]\n"
     ]
    },
    {
     "name": "stdout",
     "output_type": "stream",
     "text": [
      "{'Reactants': ['2b', 'Me2SiCl2I7'], 'Solvent': ['Et2O'], 'Temperature': ['-20 °C'], 'Product': ['8'], 'Yield': ['89 : 11 ratio'], 'Catalyst_Reagents': ['Me2SiCl2I7']}\n"
     ]
    },
    {
     "name": "stderr",
     "output_type": "stream",
     "text": [
      "Processed prompts: 100%|██████████| 1/1 [00:06<00:00,  6.57s/it, Generation Speed: 7.92 toks/s]\n",
      "100%|██████████| 1/1 [00:06<00:00,  6.58s/it]"
     ]
    },
    {
     "name": "stdout",
     "output_type": "stream",
     "text": [
      "TP, FP, FN 220 152 179\n",
      "NER:  precision, recall 0.5913978494623656 0.5513784461152882\n",
      "NER:  f1_score 0.570687418936446\n"
     ]
    },
    {
     "name": "stderr",
     "output_type": "stream",
     "text": [
      "\n"
     ]
    }
   ],
   "source": [
    "import os\n",
    "\n",
    "from evaluate import *\n",
    "from llm_re import *\n",
    "import warnings\n",
    "warnings.filterwarnings(\"ignore\")\n",
    "\n",
    "def main():\n",
    "    train_data,test_data=get_data()\n",
    "    \n",
    "    prev_dir='/data/lizh/ChemRxnExtractor-main/test_prev.json'\n",
    "    prev_data=read_json_file(prev_dir)\n",
    "    \n",
    "    prev_data2=chem_re_new(train_data,prev_data)\n",
    "    Reaction_f1(test_data,prev_data2)\n",
    "\n",
    "main()"
   ]
  },
  {
   "cell_type": "markdown",
   "metadata": {},
   "source": [
    "使用微调后的qwen2.5 72b\n",
    "TP, FP, FN 284 74 115\n",
    "NER:  precision, recall 0.7932960893854749 0.7117794486215538\n",
    "NER:  f1_score 0.7503302509907529"
   ]
  },
  {
   "cell_type": "code",
   "execution_count": 1,
   "metadata": {},
   "outputs": [
    {
     "name": "stderr",
     "output_type": "stream",
     "text": [
      "/data/lizh/Conda/anaconda3/envs/vllm/lib/python3.9/site-packages/tqdm/auto.py:21: TqdmWarning: IProgress not found. Please update jupyter and ipywidgets. See https://ipywidgets.readthedocs.io/en/stable/user_install.html\n",
      "  from .autonotebook import tqdm as notebook_tqdm\n",
      "2024-12-11 19:49:22,243\tINFO util.py:154 -- Missing packages: ['ipywidgets']. Run `pip install -U ipywidgets`, then restart the notebook server for rich notebook output.\n",
      "2024-12-11 19:49:25,369\tINFO worker.py:1771 -- Started a local Ray instance.\n"
     ]
    },
    {
     "name": "stdout",
     "output_type": "stream",
     "text": [
      "INFO 12-11 19:49:27 llm_engine.py:161] Initializing an LLM engine (v0.4.3) with config: model='/data/lizh/LLaMA-Factory-main/models/qwen2.5_72b_reaction_sft', speculative_config=None, tokenizer='/data/lizh/LLaMA-Factory-main/models/qwen2.5_72b_reaction_sft', skip_tokenizer_init=False, tokenizer_mode=auto, revision=None, rope_scaling=None, tokenizer_revision=None, trust_remote_code=False, dtype=torch.bfloat16, max_seq_len=32768, download_dir=None, load_format=LoadFormat.AUTO, tensor_parallel_size=4, disable_custom_all_reduce=False, quantization=None, enforce_eager=False, kv_cache_dtype=auto, quantization_param_path=None, device_config=cuda, decoding_config=DecodingConfig(guided_decoding_backend='outlines'), seed=0, served_model_name=/data/lizh/LLaMA-Factory-main/models/qwen2.5_72b_reaction_sft)\n",
      "INFO 12-11 19:49:47 utils.py:618] Found nccl from library libnccl.so.2\n",
      "INFO 12-11 19:49:47 pynccl.py:65] vLLM is using nccl==2.20.5\n",
      "\u001b[36m(RayWorkerWrapper pid=1120497)\u001b[0m INFO 12-11 19:49:47 utils.py:618] Found nccl from library libnccl.so.2\n",
      "\u001b[36m(RayWorkerWrapper pid=1120497)\u001b[0m INFO 12-11 19:49:47 pynccl.py:65] vLLM is using nccl==2.20.5\n",
      "WARNING 12-11 19:49:48 custom_all_reduce.py:158] Custom allreduce is disabled because it's not supported on more than two PCIe-only GPUs. To silence this warning, specify disable_custom_all_reduce=True explicitly.\n",
      "\u001b[36m(RayWorkerWrapper pid=1120497)\u001b[0m WARNING 12-11 19:49:48 custom_all_reduce.py:158] Custom allreduce is disabled because it's not supported on more than two PCIe-only GPUs. To silence this warning, specify disable_custom_all_reduce=True explicitly.\n",
      "INFO 12-11 19:50:07 model_runner.py:146] Loading model weights took 33.9833 GB\n",
      "\u001b[36m(RayWorkerWrapper pid=1120595)\u001b[0m INFO 12-11 19:50:08 model_runner.py:146] Loading model weights took 33.9833 GB\n",
      "\u001b[36m(RayWorkerWrapper pid=1120682)\u001b[0m INFO 12-11 19:49:47 utils.py:618] Found nccl from library libnccl.so.2\u001b[32m [repeated 2x across cluster] (Ray deduplicates logs by default. Set RAY_DEDUP_LOGS=0 to disable log deduplication, or see https://docs.ray.io/en/master/ray-observability/user-guides/configure-logging.html#log-deduplication for more options.)\u001b[0m\n",
      "\u001b[36m(RayWorkerWrapper pid=1120682)\u001b[0m INFO 12-11 19:49:47 pynccl.py:65] vLLM is using nccl==2.20.5\u001b[32m [repeated 2x across cluster]\u001b[0m\n",
      "\u001b[36m(RayWorkerWrapper pid=1120682)\u001b[0m WARNING 12-11 19:49:48 custom_all_reduce.py:158] Custom allreduce is disabled because it's not supported on more than two PCIe-only GPUs. To silence this warning, specify disable_custom_all_reduce=True explicitly.\u001b[32m [repeated 2x across cluster]\u001b[0m\n",
      "INFO 12-11 19:51:01 distributed_gpu_executor.py:56] # GPU blocks: 20667, # CPU blocks: 3276\n",
      "\u001b[36m(RayWorkerWrapper pid=1120497)\u001b[0m INFO 12-11 19:51:06 model_runner.py:854] Capturing the model for CUDA graphs. This may lead to unexpected consequences if the model is not static. To run the model in eager mode, set 'enforce_eager=True' or use '--enforce-eager' in the CLI.\n",
      "\u001b[36m(RayWorkerWrapper pid=1120497)\u001b[0m INFO 12-11 19:51:06 model_runner.py:858] CUDA graphs can take additional 1~3 GiB memory per GPU. If you are running out of memory, consider decreasing `gpu_memory_utilization` or enforcing eager mode. You can also reduce the `max_num_seqs` as needed to decrease memory usage.\n",
      "\u001b[36m(RayWorkerWrapper pid=1120682)\u001b[0m INFO 12-11 19:50:10 model_runner.py:146] Loading model weights took 33.9833 GB\u001b[32m [repeated 2x across cluster]\u001b[0m\n",
      "INFO 12-11 19:51:06 model_runner.py:854] Capturing the model for CUDA graphs. This may lead to unexpected consequences if the model is not static. To run the model in eager mode, set 'enforce_eager=True' or use '--enforce-eager' in the CLI.\n",
      "INFO 12-11 19:51:06 model_runner.py:858] CUDA graphs can take additional 1~3 GiB memory per GPU. If you are running out of memory, consider decreasing `gpu_memory_utilization` or enforcing eager mode. You can also reduce the `max_num_seqs` as needed to decrease memory usage.\n",
      "\u001b[36m(RayWorkerWrapper pid=1120595)\u001b[0m INFO 12-11 19:51:38 model_runner.py:924] Graph capturing finished in 32 secs.\n",
      "\u001b[36m(RayWorkerWrapper pid=1120682)\u001b[0m INFO 12-11 19:51:06 model_runner.py:854] Capturing the model for CUDA graphs. This may lead to unexpected consequences if the model is not static. To run the model in eager mode, set 'enforce_eager=True' or use '--enforce-eager' in the CLI.\u001b[32m [repeated 2x across cluster]\u001b[0m\n",
      "\u001b[36m(RayWorkerWrapper pid=1120682)\u001b[0m INFO 12-11 19:51:06 model_runner.py:858] CUDA graphs can take additional 1~3 GiB memory per GPU. If you are running out of memory, consider decreasing `gpu_memory_utilization` or enforcing eager mode. You can also reduce the `max_num_seqs` as needed to decrease memory usage.\u001b[32m [repeated 2x across cluster]\u001b[0m\n",
      "INFO 12-11 19:51:38 model_runner.py:924] Graph capturing finished in 32 secs.\n",
      "第0条数据\n"
     ]
    },
    {
     "name": "stderr",
     "output_type": "stream",
     "text": [
      "Processed prompts: 100%|██████████| 1/1 [00:05<00:00,  5.48s/it, Generation Speed: 6.58 toks/s]\n",
      "100%|██████████| 1/1 [00:05<00:00,  5.57s/it]\n"
     ]
    },
    {
     "name": "stdout",
     "output_type": "stream",
     "text": [
      "{'Reactants': ['diphenylacetylene', '19A'], 'Product': ['23A'], 'Yield': ['30 %']}\n"
     ]
    },
    {
     "name": "stderr",
     "output_type": "stream",
     "text": [
      "Processed prompts: 100%|██████████| 1/1 [00:04<00:00,  4.61s/it, Generation Speed: 7.60 toks/s]\n",
      "100%|██████████| 1/1 [00:04<00:00,  4.62s/it]\n"
     ]
    },
    {
     "name": "stdout",
     "output_type": "stream",
     "text": [
      "{'Reactants': ['diphenylacetylene', '19B'], 'Product': ['25'], 'Yield': ['53 %']}\n",
      "第1条数据\n"
     ]
    },
    {
     "name": "stderr",
     "output_type": "stream",
     "text": [
      "Processed prompts: 100%|██████████| 1/1 [00:07<00:00,  7.72s/it, Generation Speed: 9.33 toks/s]\n",
      "100%|██████████| 1/1 [00:07<00:00,  7.73s/it]\n"
     ]
    },
    {
     "name": "stdout",
     "output_type": "stream",
     "text": [
      "{'Catalyst_Reagents': ['copper acetate'], 'Solvent': ['DMSO'], 'Product': ['2-(3-(methylthio)naphthalen-2-yl)pyridine'], 'Yield': ['89 %'], 'Temperature': ['125 ° C']}\n"
     ]
    },
    {
     "name": "stderr",
     "output_type": "stream",
     "text": [
      "Processed prompts: 100%|██████████| 1/1 [00:06<00:00,  6.17s/it, Generation Speed: 8.76 toks/s]\n",
      "100%|██████████| 1/1 [00:06<00:00,  6.18s/it]\n"
     ]
    },
    {
     "name": "stdout",
     "output_type": "stream",
     "text": [
      "{'Catalyst_Reagents': ['copper acetate'], 'Solvent': ['DMSO'], 'Product': ['2b'], 'Yield': ['89 %'], 'Temperature': ['125 ° C']}\n",
      "第2条数据\n"
     ]
    },
    {
     "name": "stderr",
     "output_type": "stream",
     "text": [
      "Processed prompts: 100%|██████████| 1/1 [00:03<00:00,  3.71s/it, Generation Speed: 7.82 toks/s]\n",
      "100%|██████████| 1/1 [00:03<00:00,  3.72s/it]\n"
     ]
    },
    {
     "name": "stdout",
     "output_type": "stream",
     "text": [
      "{'Reactants': ['Me3SiCH2MgC1', '02'], 'Product': ['Me3SiOH']}\n"
     ]
    },
    {
     "name": "stderr",
     "output_type": "stream",
     "text": [
      "Processed prompts: 100%|██████████| 1/1 [00:04<00:00,  4.01s/it, Generation Speed: 7.99 toks/s]\n",
      "100%|██████████| 1/1 [00:04<00:00,  4.02s/it]\n"
     ]
    },
    {
     "name": "stdout",
     "output_type": "stream",
     "text": [
      "{'Reactants': ['Me3SiCH2MgC1', '02'], 'Product': ['(Me3Si)20']}\n"
     ]
    },
    {
     "name": "stderr",
     "output_type": "stream",
     "text": [
      "Processed prompts: 100%|██████████| 1/1 [00:03<00:00,  3.89s/it, Generation Speed: 7.98 toks/s]\n",
      "100%|██████████| 1/1 [00:03<00:00,  3.90s/it]\n"
     ]
    },
    {
     "name": "stdout",
     "output_type": "stream",
     "text": [
      "{'Reactants': ['Me3SiCH2MgC1', '02'], 'Product': ['CH20.22']}\n",
      "第3条数据\n"
     ]
    },
    {
     "name": "stderr",
     "output_type": "stream",
     "text": [
      "Processed prompts: 100%|██████████| 1/1 [00:05<00:00,  5.17s/it, Generation Speed: 8.90 toks/s]\n",
      "100%|██████████| 1/1 [00:05<00:00,  5.18s/it]\n"
     ]
    },
    {
     "name": "stdout",
     "output_type": "stream",
     "text": [
      "{'Reactants': ['8', 'acetone'], 'Catalyst_Reagents': ['trifluoroacetic acid-tri- fluoroacetic anhydride'], 'Product': ['9.']}\n",
      "第4条数据\n"
     ]
    },
    {
     "name": "stderr",
     "output_type": "stream",
     "text": [
      "Processed prompts: 100%|██████████| 1/1 [00:04<00:00,  4.59s/it, Generation Speed: 6.53 toks/s]\n",
      "100%|██████████| 1/1 [00:04<00:00,  4.60s/it]\n"
     ]
    },
    {
     "name": "stdout",
     "output_type": "stream",
     "text": [
      "{'Reactants': ['10', 'triflic anhydride-pyridine.'], 'Product': ['11']}\n"
     ]
    },
    {
     "name": "stderr",
     "output_type": "stream",
     "text": [
      "Processed prompts: 100%|██████████| 1/1 [00:07<00:00,  7.51s/it, Generation Speed: 8.79 toks/s]\n",
      "100%|██████████| 1/1 [00:07<00:00,  7.53s/it]\n"
     ]
    },
    {
     "name": "stdout",
     "output_type": "stream",
     "text": [
      "{'Reactants': ['11', '1-heptyne'], 'Catalyst_Reagents': ['bis(triphenylphosphine)palladium(II) chloride', 'triethylamine- DMF)8'], 'Yield': ['68 %'], 'Product': ['12.']}\n",
      "第5条数据\n"
     ]
    },
    {
     "name": "stderr",
     "output_type": "stream",
     "text": [
      "Processed prompts: 100%|██████████| 1/1 [00:03<00:00,  3.20s/it, Generation Speed: 7.81 toks/s]\n",
      "100%|██████████| 1/1 [00:03<00:00,  3.21s/it]\n"
     ]
    },
    {
     "name": "stdout",
     "output_type": "stream",
     "text": [
      "{'Reactants': ['12'], 'Product': ['13'], 'Yield': ['-loo %']}\n"
     ]
    },
    {
     "name": "stderr",
     "output_type": "stream",
     "text": [
      "Processed prompts: 100%|██████████| 1/1 [00:04<00:00,  4.69s/it, Generation Speed: 8.33 toks/s]\n",
      "100%|██████████| 1/1 [00:04<00:00,  4.70s/it]\n"
     ]
    },
    {
     "name": "stdout",
     "output_type": "stream",
     "text": [
      "{'Reactants': ['13', 'KOH - DMSO'], 'Temperature': ['120 OC'], 'Product': ['5-heptylresorcinolg']}\n"
     ]
    },
    {
     "name": "stderr",
     "output_type": "stream",
     "text": [
      "Processed prompts: 100%|██████████| 1/1 [00:04<00:00,  4.99s/it, Generation Speed: 8.43 toks/s]\n",
      "100%|██████████| 1/1 [00:04<00:00,  5.00s/it]\n"
     ]
    },
    {
     "name": "stdout",
     "output_type": "stream",
     "text": [
      "{'Reactants': ['13', 'KOH - DMSO'], 'Temperature': ['120 OC'], 'Product': ['14'], 'Yield': ['90 %']}\n",
      "第6条数据\n"
     ]
    },
    {
     "name": "stderr",
     "output_type": "stream",
     "text": [
      "Processed prompts: 100%|██████████| 1/1 [00:04<00:00,  4.05s/it, Generation Speed: 8.15 toks/s]\n",
      "100%|██████████| 1/1 [00:04<00:00,  4.06s/it]\n"
     ]
    },
    {
     "name": "stdout",
     "output_type": "stream",
     "text": [
      "{'Reactants': ['13', 'lithium benzyl oxide'], 'Solvent': ['THF'], 'Product': ['15.']}\n",
      "第7条数据\n"
     ]
    },
    {
     "name": "stderr",
     "output_type": "stream",
     "text": [
      "Processed prompts: 100%|██████████| 1/1 [00:04<00:00,  4.40s/it, Generation Speed: 8.63 toks/s]\n",
      "100%|██████████| 1/1 [00:04<00:00,  4.41s/it]\n"
     ]
    },
    {
     "name": "stdout",
     "output_type": "stream",
     "text": [
      "{'Reactants': ['16', 'j3-(trimethylsilyl)ethanol'], 'Product': ['17'], 'Yield': ['80 %']}\n",
      "第8条数据\n"
     ]
    },
    {
     "name": "stderr",
     "output_type": "stream",
     "text": [
      "Processed prompts: 100%|██████████| 1/1 [00:06<00:00,  6.52s/it, Generation Speed: 9.21 toks/s]\n",
      "100%|██████████| 1/1 [00:06<00:00,  6.53s/it]\n"
     ]
    },
    {
     "name": "stdout",
     "output_type": "stream",
     "text": [
      "{'Reactants': ['17', '18'], 'Catalyst_Reagents': ['K2C03', '18-crown-6'], 'Solvent': ['acetone'], 'Yield': ['81 %'], 'Product': ['19.']}\n",
      "第9条数据\n"
     ]
    },
    {
     "name": "stderr",
     "output_type": "stream",
     "text": [
      "Processed prompts: 100%|██████████| 1/1 [00:05<00:00,  5.06s/it, Generation Speed: 8.70 toks/s]\n",
      "100%|██████████| 1/1 [00:05<00:00,  5.08s/it]\n"
     ]
    },
    {
     "name": "stdout",
     "output_type": "stream",
     "text": [
      "{'Reactants': ['10', 'bromotrimethylsilane', 'TMSBr'], 'Catalyst_Reagents': ['phosphorylation'], 'Product': ['11.']}\n",
      "第10条数据\n"
     ]
    },
    {
     "name": "stderr",
     "output_type": "stream",
     "text": [
      "Processed prompts: 100%|██████████| 1/1 [00:04<00:00,  4.22s/it, Generation Speed: 7.59 toks/s]\n",
      "100%|██████████| 1/1 [00:04<00:00,  4.23s/it]\n"
     ]
    },
    {
     "name": "stdout",
     "output_type": "stream",
     "text": [
      "{'Reactants': ['2', 'pyridinium bromide perbromidel8', 'acetic acid'], 'Product': ['3.']}\n",
      "第11条数据\n"
     ]
    },
    {
     "name": "stderr",
     "output_type": "stream",
     "text": [
      "Processed prompts: 100%|██████████| 1/1 [00:04<00:00,  4.60s/it, Generation Speed: 9.35 toks/s]\n",
      "100%|██████████| 1/1 [00:04<00:00,  4.61s/it]\n"
     ]
    },
    {
     "name": "stdout",
     "output_type": "stream",
     "text": [
      "{'Reactants': ['ethyl 3,3-diamino-2-propenoatelg', '4', '2.'], 'Product': ['1'], 'Yield': ['58 %']}\n",
      "第12条数据\n"
     ]
    },
    {
     "name": "stderr",
     "output_type": "stream",
     "text": [
      "Processed prompts: 100%|██████████| 1/1 [00:05<00:00,  5.78s/it, Generation Speed: 7.45 toks/s]\n",
      "100%|██████████| 1/1 [00:05<00:00,  5.79s/it]\n"
     ]
    },
    {
     "name": "stdout",
     "output_type": "stream",
     "text": [
      "{'Reactants': ['6', 'n- butyllithium', 'n-BuLi'], 'Solvent': ['hexane', 'cyclopentane'], 'Product': ['4']}\n",
      "第13条数据\n"
     ]
    },
    {
     "name": "stderr",
     "output_type": "stream",
     "text": [
      "Processed prompts: 100%|██████████| 1/1 [00:02<00:00,  2.57s/it, Generation Speed: 5.84 toks/s]\n",
      "100%|██████████| 1/1 [00:02<00:00,  2.58s/it]\n"
     ]
    },
    {
     "name": "stdout",
     "output_type": "stream",
     "text": [
      "{'Reactants': ['1'], 'Product': ['2.']}\n",
      "第14条数据\n"
     ]
    },
    {
     "name": "stderr",
     "output_type": "stream",
     "text": [
      "Processed prompts: 100%|██████████| 1/1 [00:03<00:00,  3.89s/it, Generation Speed: 6.95 toks/s]\n",
      "100%|██████████| 1/1 [00:03<00:00,  3.90s/it]\n"
     ]
    },
    {
     "name": "stdout",
     "output_type": "stream",
     "text": [
      "{'Product': ['1'], 'Reactants': ['2s', '3'], 'Solvent': ['CHCI,']}\n",
      "第15条数据\n"
     ]
    },
    {
     "name": "stderr",
     "output_type": "stream",
     "text": [
      "Processed prompts: 100%|██████████| 1/1 [00:03<00:00,  3.14s/it, Generation Speed: 7.01 toks/s]\n",
      "100%|██████████| 1/1 [00:03<00:00,  3.15s/it]\n"
     ]
    },
    {
     "name": "stdout",
     "output_type": "stream",
     "text": [
      "{'Product': ['3'], 'Reactants': ['46', '5.7-8']}\n",
      "第16条数据\n"
     ]
    },
    {
     "name": "stderr",
     "output_type": "stream",
     "text": [
      "Processed prompts: 100%|██████████| 1/1 [00:04<00:00,  4.60s/it, Generation Speed: 7.84 toks/s]\n",
      "100%|██████████| 1/1 [00:04<00:00,  4.61s/it]\n"
     ]
    },
    {
     "name": "stdout",
     "output_type": "stream",
     "text": [
      "{'Solvent': ['acetone'], 'Yield': ['22 %'], 'Product': ['3-ﬂuoropentadecane']}\n",
      "第17条数据\n"
     ]
    },
    {
     "name": "stderr",
     "output_type": "stream",
     "text": [
      "Processed prompts: 100%|██████████| 1/1 [00:04<00:00,  4.60s/it, Generation Speed: 6.52 toks/s]\n",
      "100%|██████████| 1/1 [00:04<00:00,  4.62s/it]\n"
     ]
    },
    {
     "name": "stdout",
     "output_type": "stream",
     "text": [
      "{'Product': ['7'], 'Yield': ['55 %'], 'Reactants': ['N-acetyl+ galactosamine']}\n",
      "第18条数据\n"
     ]
    },
    {
     "name": "stderr",
     "output_type": "stream",
     "text": [
      "Processed prompts: 100%|██████████| 1/1 [00:05<00:00,  5.13s/it, Generation Speed: 7.80 toks/s]\n",
      "100%|██████████| 1/1 [00:05<00:00,  5.15s/it]\n"
     ]
    },
    {
     "name": "stdout",
     "output_type": "stream",
     "text": [
      "{'Reactants': ['5'], 'Catalyst_Reagents': ['MeMgBr', '1'], 'Product': ['10'], 'Yield': ['70 %']}\n",
      "第19条数据\n"
     ]
    },
    {
     "name": "stderr",
     "output_type": "stream",
     "text": [
      "Processed prompts: 100%|██████████| 1/1 [00:03<00:00,  3.94s/it, Generation Speed: 10.68 toks/s]\n",
      "100%|██████████| 1/1 [00:03<00:00,  3.94s/it]\n"
     ]
    },
    {
     "name": "stdout",
     "output_type": "stream",
     "text": [
      "answers:[{'Reactants': ['35'], 'Product': ['3'], 'Solvent': ['alcoholic']}, {'Reactants': ['3', 'alcohol'], 'Product': ['36']}]\n",
      "第20条数据\n"
     ]
    },
    {
     "name": "stderr",
     "output_type": "stream",
     "text": [
      "Processed prompts: 100%|██████████| 1/1 [00:05<00:00,  5.95s/it, Generation Speed: 7.39 toks/s]\n",
      "100%|██████████| 1/1 [00:05<00:00,  5.97s/it]\n"
     ]
    },
    {
     "name": "stdout",
     "output_type": "stream",
     "text": [
      "{'Reactants': ['pivalonitrile', 'titanacyclobutane', '1', 'Tebbe ’s reagent'], 'Product': ['3']}\n",
      "第21条数据\n"
     ]
    },
    {
     "name": "stderr",
     "output_type": "stream",
     "text": [
      "Processed prompts: 100%|██████████| 1/1 [00:01<00:00,  1.82s/it, Generation Speed: 8.78 toks/s]\n",
      "100%|██████████| 1/1 [00:01<00:00,  1.83s/it]\n"
     ]
    },
    {
     "name": "stdout",
     "output_type": "stream",
     "text": [
      "answers:[{'Product': ['glycine'], 'Reactants': ['1']}]\n",
      "第22条数据\n"
     ]
    },
    {
     "name": "stderr",
     "output_type": "stream",
     "text": [
      "Processed prompts: 100%|██████████| 1/1 [00:02<00:00,  2.20s/it, Generation Speed: 9.11 toks/s]\n",
      "100%|██████████| 1/1 [00:02<00:00,  2.21s/it]\n"
     ]
    },
    {
     "name": "stdout",
     "output_type": "stream",
     "text": [
      "answers:[{'Product': ['glycine'], 'Yield': ['greater than stoichiometric']}]\n",
      "第23条数据\n"
     ]
    },
    {
     "name": "stderr",
     "output_type": "stream",
     "text": [
      "Processed prompts: 100%|██████████| 1/1 [00:02<00:00,  2.15s/it, Generation Speed: 4.66 toks/s]\n",
      "100%|██████████| 1/1 [00:02<00:00,  2.16s/it]\n"
     ]
    },
    {
     "name": "stdout",
     "output_type": "stream",
     "text": [
      "{'Product': [\"7,'4b\"]}\n"
     ]
    },
    {
     "name": "stderr",
     "output_type": "stream",
     "text": [
      "Processed prompts: 100%|██████████| 1/1 [00:04<00:00,  4.30s/it, Generation Speed: 8.84 toks/s]\n",
      "100%|██████████| 1/1 [00:04<00:00,  4.32s/it]\n"
     ]
    },
    {
     "name": "stdout",
     "output_type": "stream",
     "text": [
      "{'Catalyst_Reagents': ['zirconium-'], 'Reactants': ['10'], 'Product': ['11'], 'Yield': ['60 %']}\n",
      "第24条数据\n"
     ]
    },
    {
     "name": "stderr",
     "output_type": "stream",
     "text": [
      "Processed prompts: 100%|██████████| 1/1 [00:03<00:00,  3.55s/it, Generation Speed: 7.90 toks/s]\n",
      "100%|██████████| 1/1 [00:03<00:00,  3.56s/it]\n"
     ]
    },
    {
     "name": "stdout",
     "output_type": "stream",
     "text": [
      "{'Reactants': ['13', 'catecholborane'], 'Product': ['8'], 'Temperature': ['room']}\n",
      "第25条数据\n"
     ]
    },
    {
     "name": "stderr",
     "output_type": "stream",
     "text": [
      "Processed prompts: 100%|██████████| 1/1 [00:06<00:00,  6.22s/it, Generation Speed: 4.34 toks/s]\n",
      "100%|██████████| 1/1 [00:06<00:00,  6.24s/it]\n"
     ]
    },
    {
     "name": "stdout",
     "output_type": "stream",
     "text": [
      "{'Reactants': ['5-cyclononynone', \"lO)'l\"], 'Product': ['11']}\n"
     ]
    },
    {
     "name": "stderr",
     "output_type": "stream",
     "text": [
      "Processed prompts: 100%|██████████| 1/1 [00:05<00:00,  5.55s/it, Generation Speed: 4.87 toks/s]\n",
      "100%|██████████| 1/1 [00:05<00:00,  5.57s/it]\n"
     ]
    },
    {
     "name": "stdout",
     "output_type": "stream",
     "text": [
      "{'Reactants': ['5-cyclononynone', \"lO)'l\"], 'Product': ['12']}\n",
      "第26条数据\n"
     ]
    },
    {
     "name": "stderr",
     "output_type": "stream",
     "text": [
      "Processed prompts: 100%|██████████| 1/1 [00:01<00:00,  1.88s/it, Generation Speed: 3.73 toks/s]\n",
      "100%|██████████| 1/1 [00:01<00:00,  1.89s/it]\n"
     ]
    },
    {
     "name": "stdout",
     "output_type": "stream",
     "text": [
      "{'Product': ['3']}\n",
      "第27条数据\n"
     ]
    },
    {
     "name": "stderr",
     "output_type": "stream",
     "text": [
      "Processed prompts: 100%|██████████| 1/1 [00:03<00:00,  3.94s/it, Generation Speed: 6.36 toks/s]\n",
      "100%|██████████| 1/1 [00:03<00:00,  3.95s/it]\n"
     ]
    },
    {
     "name": "stdout",
     "output_type": "stream",
     "text": [
      "{'Reactants': ['5-cyclodecynone', '13'], 'Product': ['14']}\n"
     ]
    },
    {
     "name": "stderr",
     "output_type": "stream",
     "text": [
      "Processed prompts: 100%|██████████| 1/1 [00:04<00:00,  4.09s/it, Generation Speed: 6.35 toks/s]\n",
      "100%|██████████| 1/1 [00:04<00:00,  4.11s/it]\n"
     ]
    },
    {
     "name": "stdout",
     "output_type": "stream",
     "text": [
      "{'Reactants': ['5-cyclodecynone', '13'], 'Product': ['16.']}\n",
      "第28条数据\n"
     ]
    },
    {
     "name": "stderr",
     "output_type": "stream",
     "text": [
      "Processed prompts: 100%|██████████| 1/1 [00:03<00:00,  3.09s/it, Generation Speed: 9.72 toks/s]\n",
      "100%|██████████| 1/1 [00:03<00:00,  3.10s/it]\n"
     ]
    },
    {
     "name": "stdout",
     "output_type": "stream",
     "text": [
      "answers:[{'Product': ['1 la'], 'Catalyst_Reagents': ['1 la'], 'Reactants': ['9', 'lOd']}]\n",
      "第29条数据\n"
     ]
    },
    {
     "name": "stderr",
     "output_type": "stream",
     "text": [
      "Processed prompts: 100%|██████████| 1/1 [00:04<00:00,  4.32s/it, Generation Speed: 8.58 toks/s]\n",
      "100%|██████████| 1/1 [00:04<00:00,  4.32s/it]\n"
     ]
    },
    {
     "name": "stdout",
     "output_type": "stream",
     "text": [
      "{'Reactants': ['23'], 'Catalyst_Reagents': ['NaBH4'], 'Product': ['24'], 'Yield': ['98 %']}\n",
      "第30条数据\n"
     ]
    },
    {
     "name": "stderr",
     "output_type": "stream",
     "text": [
      "Processed prompts: 100%|██████████| 1/1 [00:04<00:00,  4.08s/it, Generation Speed: 9.82 toks/s]\n",
      "100%|██████████| 1/1 [00:04<00:00,  4.09s/it]\n"
     ]
    },
    {
     "name": "stdout",
     "output_type": "stream",
     "text": [
      "answers:[{'Reactants': ['2,5-Dihydrofuran', 'furan'], 'Product': ['cycloaddition products'], 'Temperature': ['465 K.']}]\n",
      "第31条数据\n"
     ]
    },
    {
     "name": "stderr",
     "output_type": "stream",
     "text": [
      "Processed prompts: 100%|██████████| 1/1 [00:04<00:00,  4.45s/it, Generation Speed: 10.13 toks/s]\n",
      "100%|██████████| 1/1 [00:04<00:00,  4.46s/it]\n"
     ]
    },
    {
     "name": "stdout",
     "output_type": "stream",
     "text": [
      "answers:[{'Product': ['water', 'carbon dioxide', '2(5H)-furanone', 'maleic anhydride', '4-vinylcyclohexene', 'styrene.']}]\n",
      "第32条数据\n"
     ]
    },
    {
     "name": "stderr",
     "output_type": "stream",
     "text": [
      "Processed prompts: 100%|██████████| 1/1 [00:03<00:00,  3.78s/it, Generation Speed: 8.20 toks/s]\n",
      "100%|██████████| 1/1 [00:03<00:00,  3.80s/it]\n"
     ]
    },
    {
     "name": "stdout",
     "output_type": "stream",
     "text": [
      "{'Reactants': ['p proline', 'formic acid', 'acetic anhydride.'], 'Product': ['25']}\n",
      "第33条数据\n"
     ]
    },
    {
     "name": "stderr",
     "output_type": "stream",
     "text": [
      "Processed prompts: 100%|██████████| 1/1 [00:04<00:00,  4.99s/it, Generation Speed: 8.42 toks/s]\n",
      "100%|██████████| 1/1 [00:05<00:00,  5.00s/it]\n"
     ]
    },
    {
     "name": "stdout",
     "output_type": "stream",
     "text": [
      "{'Catalyst_Reagents': ['lithium aluminum hydride'], 'Product': ['(S)-2-(hy- droxymethy1)-1 methylpyrrolidine']}\n"
     ]
    },
    {
     "name": "stderr",
     "output_type": "stream",
     "text": [
      "Processed prompts: 100%|██████████| 1/1 [00:03<00:00,  3.36s/it, Generation Speed: 7.14 toks/s]\n",
      "100%|██████████| 1/1 [00:03<00:00,  3.37s/it]\n"
     ]
    },
    {
     "name": "stdout",
     "output_type": "stream",
     "text": [
      "{'Catalyst_Reagents': ['lithium aluminum hydride'], 'Product': ['26']}\n",
      "第34条数据\n"
     ]
    },
    {
     "name": "stderr",
     "output_type": "stream",
     "text": [
      "Processed prompts: 100%|██████████| 1/1 [00:05<00:00,  5.22s/it, Generation Speed: 7.09 toks/s]\n",
      "100%|██████████| 1/1 [00:05<00:00,  5.23s/it]\n"
     ]
    },
    {
     "name": "stdout",
     "output_type": "stream",
     "text": [
      "{'Product': ['2-(chloromethyl)-l'], 'Reactants': ['27', 'thionyl chloride'], 'Solvent': ['chloroform.']}\n"
     ]
    },
    {
     "name": "stderr",
     "output_type": "stream",
     "text": [
      "Processed prompts: 100%|██████████| 1/1 [00:05<00:00,  5.62s/it, Generation Speed: 7.29 toks/s]\n",
      "100%|██████████| 1/1 [00:05<00:00,  5.64s/it]\n"
     ]
    },
    {
     "name": "stdout",
     "output_type": "stream",
     "text": [
      "{'Product': ['27'], 'Reactants': ['2-(chloromethyl)-l methylpyrrolidine', 'thionyl chloride'], 'Solvent': ['chloroform']}\n",
      "第35条数据\n"
     ]
    },
    {
     "name": "stderr",
     "output_type": "stream",
     "text": [
      "Processed prompts: 100%|██████████| 1/1 [00:03<00:00,  3.85s/it, Generation Speed: 8.33 toks/s]\n",
      "100%|██████████| 1/1 [00:03<00:00,  3.86s/it]\n"
     ]
    },
    {
     "name": "stdout",
     "output_type": "stream",
     "text": [
      "{'Product': ['30'], 'Catalyst_Reagents': ['sodium cyanide'], 'Solvent': ['80 % ethanol.']}\n",
      "第36条数据\n"
     ]
    },
    {
     "name": "stderr",
     "output_type": "stream",
     "text": [
      "Processed prompts: 100%|██████████| 1/1 [00:03<00:00,  3.63s/it, Generation Speed: 7.99 toks/s]\n",
      "100%|██████████| 1/1 [00:03<00:00,  3.64s/it]\n"
     ]
    },
    {
     "name": "stdout",
     "output_type": "stream",
     "text": [
      "{'Catalyst_Reagents': ['HCI'], 'Product': ['1 -methylpyrrolidine-2-acetic acid']}\n"
     ]
    },
    {
     "name": "stderr",
     "output_type": "stream",
     "text": [
      "Processed prompts: 100%|██████████| 1/1 [00:02<00:00,  2.58s/it, Generation Speed: 6.97 toks/s]\n",
      "100%|██████████| 1/1 [00:02<00:00,  2.59s/it]\n"
     ]
    },
    {
     "name": "stdout",
     "output_type": "stream",
     "text": [
      "{'Catalyst_Reagents': ['HCI'], 'Product': ['33']}\n",
      "第37条数据\n"
     ]
    },
    {
     "name": "stderr",
     "output_type": "stream",
     "text": [
      "Processed prompts: 100%|██████████| 1/1 [00:07<00:00,  7.51s/it, Generation Speed: 8.53 toks/s]\n",
      "100%|██████████| 1/1 [00:07<00:00,  7.52s/it]\n"
     ]
    },
    {
     "name": "stdout",
     "output_type": "stream",
     "text": [
      "{'Reactants': ['sodium [1,2-13C2]acetate', 'sodium [IJ4C]acetate', 'trimethyl phosphate'], 'Product': [\"methyl [ 1,2- ' 3C2,1-14C]acetate\"]}\n"
     ]
    },
    {
     "name": "stderr",
     "output_type": "stream",
     "text": [
      "Processed prompts: 100%|██████████| 1/1 [00:05<00:00,  5.70s/it, Generation Speed: 7.55 toks/s]\n",
      "100%|██████████| 1/1 [00:05<00:00,  5.71s/it]\n"
     ]
    },
    {
     "name": "stdout",
     "output_type": "stream",
     "text": [
      "{'Reactants': ['sodium [1,2-13C2]acetate', 'sodium [IJ4C]acetate', 'trimethyl phosphate'], 'Product': ['B']}\n"
     ]
    },
    {
     "name": "stderr",
     "output_type": "stream",
     "text": [
      "Processed prompts: 100%|██████████| 1/1 [00:05<00:00,  5.43s/it, Generation Speed: 7.19 toks/s]\n",
      "100%|██████████| 1/1 [00:05<00:00,  5.44s/it]\n"
     ]
    },
    {
     "name": "stdout",
     "output_type": "stream",
     "text": [
      "{'Reactants': [\"methyl [ 1,2- ' 3C2,1-14C]acetate\", 'B'], 'Product': ['29']}\n",
      "第38条数据\n"
     ]
    },
    {
     "name": "stderr",
     "output_type": "stream",
     "text": [
      "Processed prompts: 100%|██████████| 1/1 [00:04<00:00,  4.17s/it, Generation Speed: 6.25 toks/s]\n",
      "100%|██████████| 1/1 [00:04<00:00,  4.18s/it]\n"
     ]
    },
    {
     "name": "stdout",
     "output_type": "stream",
     "text": [
      "{'Product': ['1 -methyl-2-pyrrolidinyl)-3-oxobutanoate']}\n"
     ]
    },
    {
     "name": "stderr",
     "output_type": "stream",
     "text": [
      "Processed prompts: 100%|██████████| 1/1 [00:02<00:00,  2.54s/it, Generation Speed: 3.15 toks/s]\n",
      "100%|██████████| 1/1 [00:02<00:00,  2.55s/it]\n"
     ]
    },
    {
     "name": "stdout",
     "output_type": "stream",
     "text": [
      "{'Product': ['31']}\n",
      "第39条数据\n"
     ]
    },
    {
     "name": "stderr",
     "output_type": "stream",
     "text": [
      "Processed prompts: 100%|██████████| 1/1 [00:03<00:00,  3.72s/it, Generation Speed: 8.08 toks/s]\n",
      "100%|██████████| 1/1 [00:03<00:00,  3.73s/it]\n"
     ]
    },
    {
     "name": "stdout",
     "output_type": "stream",
     "text": [
      "{'Reactants': ['3a'], 'Solvent': ['water'], 'Product': ['4a'], 'Yield': ['high']}\n",
      "第40条数据\n"
     ]
    },
    {
     "name": "stderr",
     "output_type": "stream",
     "text": [
      "Processed prompts: 100%|██████████| 1/1 [00:07<00:00,  7.13s/it, Generation Speed: 9.54 toks/s]\n",
      "100%|██████████| 1/1 [00:07<00:00,  7.14s/it]\n"
     ]
    },
    {
     "name": "stdout",
     "output_type": "stream",
     "text": [
      "{'Reactants': ['3a'], 'Solvent': ['water'], 'Catalyst_Reagents': ['triethylborane'], 'Temperature': ['25 ( cid : 176 ) C'], 'Time': ['3 h'], 'Product': ['4a'], 'Yield': ['67 %']}\n",
      "第41条数据\n"
     ]
    },
    {
     "name": "stderr",
     "output_type": "stream",
     "text": [
      "Processed prompts: 100%|██████████| 1/1 [00:12<00:00, 12.95s/it, Generation Speed: 9.04 toks/s]\n",
      "100%|██████████| 1/1 [00:12<00:00, 12.96s/it]\n"
     ]
    },
    {
     "name": "stdout",
     "output_type": "stream",
     "text": [
      "{'Product': ['3-phenylquinolin-4(1H)-one'], 'Reactants': ['3-iodo- 1-methylquinolin-4(1H)-one', '4', 'phenylboronic acid', '8a'], 'Catalyst_Reagents': ['Pd(OAc)2', 'PPh3', 'Na2CO3'], 'Solvent': ['DME', 'EtOH'], 'Temperature': ['70 ° C'], 'Time': ['5 min.']}\n"
     ]
    },
    {
     "name": "stderr",
     "output_type": "stream",
     "text": [
      "Processed prompts: 100%|██████████| 1/1 [00:12<00:00, 12.23s/it, Generation Speed: 8.67 toks/s]\n",
      "100%|██████████| 1/1 [00:12<00:00, 12.25s/it]\n"
     ]
    },
    {
     "name": "stdout",
     "output_type": "stream",
     "text": [
      "{'Product': ['9a'], 'Reactants': ['3-iodo- 1-methylquinolin-4(1H)-one', '4', 'phenylboronic acid', '8a'], 'Catalyst_Reagents': ['Pd(OAc)2', 'PPh3', 'Na2CO3'], 'Solvent': ['DME', 'EtOH'], 'Temperature': ['70 ° C'], 'Time': ['5 min.']}\n",
      "第42条数据\n"
     ]
    },
    {
     "name": "stderr",
     "output_type": "stream",
     "text": [
      "Processed prompts: 100%|██████████| 1/1 [00:04<00:00,  4.37s/it, Generation Speed: 5.73 toks/s]\n",
      "100%|██████████| 1/1 [00:04<00:00,  4.38s/it]\n"
     ]
    },
    {
     "name": "stdout",
     "output_type": "stream",
     "text": [
      "{'Product': ['9a'], 'Yield': ['75 %'], 'Time': ['30 min']}\n",
      "第43条数据\n"
     ]
    },
    {
     "name": "stderr",
     "output_type": "stream",
     "text": [
      "Processed prompts: 100%|██████████| 1/1 [00:02<00:00,  2.69s/it, Generation Speed: 5.22 toks/s]\n",
      "100%|██████████| 1/1 [00:02<00:00,  2.69s/it]\n"
     ]
    },
    {
     "name": "stdout",
     "output_type": "stream",
     "text": [
      "{'Reactants': ['B'], 'Product': ['C']}\n",
      "第44条数据\n"
     ]
    },
    {
     "name": "stderr",
     "output_type": "stream",
     "text": [
      "Processed prompts: 100%|██████████| 1/1 [00:04<00:00,  4.04s/it, Generation Speed: 7.68 toks/s]\n",
      "100%|██████████| 1/1 [00:04<00:00,  4.05s/it]\n"
     ]
    },
    {
     "name": "stdout",
     "output_type": "stream",
     "text": [
      "{'Reactants': ['3a', '3b', '(MeCN)3Cr(C0)3'], 'Product': ['4a']}\n"
     ]
    },
    {
     "name": "stderr",
     "output_type": "stream",
     "text": [
      "Processed prompts: 100%|██████████| 1/1 [00:04<00:00,  4.83s/it, Generation Speed: 8.29 toks/s]\n",
      "100%|██████████| 1/1 [00:04<00:00,  4.84s/it]\n"
     ]
    },
    {
     "name": "stdout",
     "output_type": "stream",
     "text": [
      "{'Reactants': ['3a', '(+)-iso- pinocampheol', '(MeCN)3Cr(C0)3'], 'Product': [\"5a1'\"]}\n"
     ]
    },
    {
     "name": "stderr",
     "output_type": "stream",
     "text": [
      "Processed prompts: 100%|██████████| 1/1 [00:03<00:00,  3.82s/it, Generation Speed: 7.60 toks/s]\n",
      "100%|██████████| 1/1 [00:03<00:00,  3.83s/it]\n"
     ]
    },
    {
     "name": "stdout",
     "output_type": "stream",
     "text": [
      "{'Reactants': ['3b', '(MeCN)3Cr(C0)3'], 'Product': [\"4b1'\"]}\n"
     ]
    },
    {
     "name": "stderr",
     "output_type": "stream",
     "text": [
      "Processed prompts: 100%|██████████| 1/1 [00:04<00:00,  4.47s/it, Generation Speed: 8.06 toks/s]\n",
      "100%|██████████| 1/1 [00:04<00:00,  4.48s/it]\n"
     ]
    },
    {
     "name": "stdout",
     "output_type": "stream",
     "text": [
      "{'Reactants': ['3b'], 'Catalyst_Reagents': ['(MeCN)3Cr(C0)3'], 'Product': [\"5b,''\"]}\n",
      "第45条数据\n"
     ]
    },
    {
     "name": "stderr",
     "output_type": "stream",
     "text": [
      "Processed prompts: 100%|██████████| 1/1 [00:03<00:00,  3.98s/it, Generation Speed: 7.80 toks/s]\n",
      "100%|██████████| 1/1 [00:03<00:00,  3.99s/it]\n"
     ]
    },
    {
     "name": "stdout",
     "output_type": "stream",
     "text": [
      "{'Reactants': ['4a', 'ethyl acrylate'], 'Product': ['6a'], 'Yield': ['86 %']}\n",
      "第46条数据\n"
     ]
    },
    {
     "name": "stderr",
     "output_type": "stream",
     "text": [
      "Processed prompts: 100%|██████████| 1/1 [00:05<00:00,  5.98s/it, Generation Speed: 8.37 toks/s]\n",
      "100%|██████████| 1/1 [00:05<00:00,  5.99s/it]\n"
     ]
    },
    {
     "name": "stdout",
     "output_type": "stream",
     "text": [
      "{'Product': ['12'], 'Yield': ['35 %'], 'Reactants': ['tryptophan methyl ester', '9'], 'Temperature': [\"140 'C\"], 'Time': ['3 h']}\n",
      "第47条数据\n"
     ]
    },
    {
     "name": "stderr",
     "output_type": "stream",
     "text": [
      "Processed prompts: 100%|██████████| 1/1 [00:03<00:00,  3.04s/it, Generation Speed: 9.54 toks/s]\n",
      "100%|██████████| 1/1 [00:03<00:00,  3.05s/it]\n"
     ]
    },
    {
     "name": "stdout",
     "output_type": "stream",
     "text": [
      "answers:[{'Reactants': ['6a', '7a'], 'Product': ['8a'], 'Yield': ['23 %']}]\n",
      "第48条数据\n"
     ]
    },
    {
     "name": "stderr",
     "output_type": "stream",
     "text": [
      "Processed prompts: 100%|██████████| 1/1 [00:02<00:00,  2.43s/it, Generation Speed: 5.77 toks/s]\n",
      "100%|██████████| 1/1 [00:02<00:00,  2.44s/it]\n"
     ]
    },
    {
     "name": "stdout",
     "output_type": "stream",
     "text": [
      "{'Reactants': ['1'], 'Product': ['2']}\n",
      "第49条数据\n"
     ]
    },
    {
     "name": "stderr",
     "output_type": "stream",
     "text": [
      "Processed prompts: 100%|██████████| 1/1 [00:05<00:00,  5.07s/it, Generation Speed: 3.95 toks/s]\n",
      "100%|██████████| 1/1 [00:05<00:00,  5.08s/it]\n"
     ]
    },
    {
     "name": "stdout",
     "output_type": "stream",
     "text": [
      "{'Reactants': ['1a', '2a'], 'Product': ['3a']}\n",
      "第50条数据\n"
     ]
    },
    {
     "name": "stderr",
     "output_type": "stream",
     "text": [
      "Processed prompts: 100%|██████████| 1/1 [00:03<00:00,  3.52s/it, Generation Speed: 5.68 toks/s]\n",
      "100%|██████████| 1/1 [00:03<00:00,  3.53s/it]\n"
     ]
    },
    {
     "name": "stdout",
     "output_type": "stream",
     "text": [
      "{'Reactants': ['2', 'I2O5'], 'Product': ['4']}\n",
      "第51条数据\n"
     ]
    },
    {
     "name": "stderr",
     "output_type": "stream",
     "text": [
      "Processed prompts: 100%|██████████| 1/1 [00:02<00:00,  2.89s/it, Generation Speed: 6.24 toks/s]\n",
      "100%|██████████| 1/1 [00:02<00:00,  2.89s/it]\n"
     ]
    },
    {
     "name": "stdout",
     "output_type": "stream",
     "text": [
      "{'Reactants': ['4', '1'], 'Product': ['5.']}\n",
      "第52条数据\n"
     ]
    },
    {
     "name": "stderr",
     "output_type": "stream",
     "text": [
      "Processed prompts: 100%|██████████| 1/1 [00:03<00:00,  3.44s/it, Generation Speed: 4.07 toks/s]\n",
      "100%|██████████| 1/1 [00:03<00:00,  3.45s/it]\n"
     ]
    },
    {
     "name": "stdout",
     "output_type": "stream",
     "text": [
      "{'Reactants': ['5'], 'Product': ['7']}\n"
     ]
    },
    {
     "name": "stderr",
     "output_type": "stream",
     "text": [
      "Processed prompts: 100%|██████████| 1/1 [00:03<00:00,  3.90s/it, Generation Speed: 4.87 toks/s]\n",
      "100%|██████████| 1/1 [00:03<00:00,  3.92s/it]\n"
     ]
    },
    {
     "name": "stdout",
     "output_type": "stream",
     "text": [
      "{'Reactants': ['H2O', '7'], 'Product': ['8']}\n",
      "第53条数据\n"
     ]
    },
    {
     "name": "stderr",
     "output_type": "stream",
     "text": [
      "Processed prompts: 100%|██████████| 1/1 [00:02<00:00,  2.91s/it, Generation Speed: 6.19 toks/s]\n",
      "100%|██████████| 1/1 [00:02<00:00,  2.93s/it]\n"
     ]
    },
    {
     "name": "stdout",
     "output_type": "stream",
     "text": [
      "{'Reactants': ['8', 'TBHP'], 'Product': ['3']}\n",
      "第54条数据\n"
     ]
    },
    {
     "name": "stderr",
     "output_type": "stream",
     "text": [
      "Processed prompts: 100%|██████████| 1/1 [00:02<00:00,  2.15s/it, Generation Speed: 8.83 toks/s]\n",
      "100%|██████████| 1/1 [00:02<00:00,  2.17s/it]\n"
     ]
    },
    {
     "name": "stdout",
     "output_type": "stream",
     "text": [
      "answers:[{'Time': ['18 h', '2 h'], 'Product': ['5']}]\n",
      "第55条数据\n"
     ]
    },
    {
     "name": "stderr",
     "output_type": "stream",
     "text": [
      "Processed prompts: 100%|██████████| 1/1 [00:03<00:00,  3.61s/it, Generation Speed: 7.75 toks/s]\n",
      "100%|██████████| 1/1 [00:03<00:00,  3.63s/it]\n"
     ]
    },
    {
     "name": "stdout",
     "output_type": "stream",
     "text": [
      "{'Product': ['5'], 'Yield': ['28 %', '67 %'], 'Time': ['2 h']}\n",
      "第56条数据\n"
     ]
    },
    {
     "name": "stderr",
     "output_type": "stream",
     "text": [
      "Processed prompts: 100%|██████████| 1/1 [00:02<00:00,  2.06s/it, Generation Speed: 8.26 toks/s]\n",
      "100%|██████████| 1/1 [00:02<00:00,  2.07s/it]\n"
     ]
    },
    {
     "name": "stdout",
     "output_type": "stream",
     "text": [
      "answers:[{'Reactants': ['l a'], 'Product': ['4a.']}]\n",
      "第57条数据\n"
     ]
    },
    {
     "name": "stderr",
     "output_type": "stream",
     "text": [
      "Processed prompts: 100%|██████████| 1/1 [00:06<00:00,  6.33s/it, Generation Speed: 8.70 toks/s]\n",
      "100%|██████████| 1/1 [00:06<00:00,  6.34s/it]\n"
     ]
    },
    {
     "name": "stdout",
     "output_type": "stream",
     "text": [
      "{'Catalyst_Reagents': ['palladium acetate', 'tris(2,6-dimeth- oxyphenyl)phosphineE(TDMPP)'], 'Solvent': ['THF'], 'Product': ['4a9']}\n",
      "第58条数据\n"
     ]
    },
    {
     "name": "stderr",
     "output_type": "stream",
     "text": [
      "Processed prompts: 100%|██████████| 1/1 [00:03<00:00,  3.22s/it, Generation Speed: 9.64 toks/s]\n",
      "100%|██████████| 1/1 [00:03<00:00,  3.23s/it]\n"
     ]
    },
    {
     "name": "stdout",
     "output_type": "stream",
     "text": [
      "answers:[{'Reactants': ['2b'], 'Product': ['4b']}, {'Reactants': ['2b'], 'Product': ['5b']}]\n",
      "第59条数据\n"
     ]
    },
    {
     "name": "stderr",
     "output_type": "stream",
     "text": [
      "Processed prompts: 100%|██████████| 1/1 [00:04<00:00,  4.91s/it, Generation Speed: 5.51 toks/s]\n",
      "100%|██████████| 1/1 [00:04<00:00,  4.92s/it]\n"
     ]
    },
    {
     "name": "stdout",
     "output_type": "stream",
     "text": [
      "{'Solvent': ['benzene'], 'Reactants': ['2b'], 'Product': ['3bI0']}\n"
     ]
    },
    {
     "name": "stderr",
     "output_type": "stream",
     "text": [
      "Processed prompts: 100%|██████████| 1/1 [00:04<00:00,  4.88s/it, Generation Speed: 5.33 toks/s]\n",
      "100%|██████████| 1/1 [00:04<00:00,  4.89s/it]\n"
     ]
    },
    {
     "name": "stdout",
     "output_type": "stream",
     "text": [
      "{'Solvent': ['benzene'], 'Reactants': ['2b'], 'Product': ['5b.']}\n",
      "第60条数据\n"
     ]
    },
    {
     "name": "stderr",
     "output_type": "stream",
     "text": [
      "Processed prompts: 100%|██████████| 1/1 [00:03<00:00,  3.10s/it, Generation Speed: 9.69 toks/s]\n",
      "100%|██████████| 1/1 [00:03<00:00,  3.11s/it]\n"
     ]
    },
    {
     "name": "stdout",
     "output_type": "stream",
     "text": [
      "answers:[{'Reactants': ['TDMPP', 'Pd(OAc)z'], 'Product': ['3b', '5b.']}]\n",
      "第61条数据\n"
     ]
    },
    {
     "name": "stderr",
     "output_type": "stream",
     "text": [
      "Processed prompts: 100%|██████████| 1/1 [00:10<00:00, 10.17s/it, Generation Speed: 8.46 toks/s]\n",
      "100%|██████████| 1/1 [00:10<00:00, 10.18s/it]\n"
     ]
    },
    {
     "name": "stdout",
     "output_type": "stream",
     "text": [
      "{'Catalyst_Reagents': ['Pd(PPh3)4'], 'Reactants': ['1a', '3a', 'K3PO4'], 'Temperature': ['110 ° C'], 'Time': ['15 min'], 'Solvent': ['DMF'], 'Yield': ['13 %'], 'Product': ['3-benzazepine']}\n"
     ]
    },
    {
     "name": "stderr",
     "output_type": "stream",
     "text": [
      "Processed prompts: 100%|██████████| 1/1 [00:10<00:00, 10.25s/it, Generation Speed: 8.68 toks/s]\n",
      "100%|██████████| 1/1 [00:10<00:00, 10.27s/it]\n"
     ]
    },
    {
     "name": "stdout",
     "output_type": "stream",
     "text": [
      "{'Catalyst_Reagents': ['K3PO4'], 'Reactants': ['1a', '3a'], 'Temperature': ['110 ° C'], 'Time': ['15 min'], 'Solvent': ['DMF'], 'Yield': ['13 %'], 'Product': ['4a']}\n",
      "第62条数据\n"
     ]
    },
    {
     "name": "stderr",
     "output_type": "stream",
     "text": [
      "Processed prompts: 100%|██████████| 1/1 [00:03<00:00,  3.40s/it, Generation Speed: 9.71 toks/s]\n",
      "100%|██████████| 1/1 [00:03<00:00,  3.41s/it]\n"
     ]
    },
    {
     "name": "stdout",
     "output_type": "stream",
     "text": [
      "answers:[{'Catalyst_Reagents': ['rhodium', 'iodide'], 'Reactants': ['methanol'], 'Product': ['acetic acid.']}]\n",
      "第63条数据\n"
     ]
    },
    {
     "name": "stderr",
     "output_type": "stream",
     "text": [
      "Processed prompts: 100%|██████████| 1/1 [00:03<00:00,  3.20s/it, Generation Speed: 6.25 toks/s]\n",
      "100%|██████████| 1/1 [00:03<00:00,  3.21s/it]\n"
     ]
    },
    {
     "name": "stdout",
     "output_type": "stream",
     "text": [
      "{'Reactants': ['11', '21'], 'Product': ['22']}\n",
      "第64条数据\n"
     ]
    },
    {
     "name": "stderr",
     "output_type": "stream",
     "text": [
      "Processed prompts: 100%|██████████| 1/1 [00:04<00:00,  4.29s/it, Generation Speed: 7.70 toks/s]\n",
      "100%|██████████| 1/1 [00:04<00:00,  4.30s/it]\n"
     ]
    },
    {
     "name": "stdout",
     "output_type": "stream",
     "text": [
      "{'Temperature': [\"100 'C\"], 'Solvent': ['toluene'], 'Product': ['tri-tert-butylsilane']}\n",
      "第65条数据\n"
     ]
    },
    {
     "name": "stderr",
     "output_type": "stream",
     "text": [
      "Processed prompts: 100%|██████████| 1/1 [00:07<00:00,  7.14s/it, Generation Speed: 7.98 toks/s]\n",
      "100%|██████████| 1/1 [00:07<00:00,  7.15s/it]\n"
     ]
    },
    {
     "name": "stdout",
     "output_type": "stream",
     "text": [
      "{'Reactants': ['1r(CR = CRCR3.CR)(PPh3)2C1 ( 1-Cl , R = C02CH3)9', '3-butyn-1-01'], 'Product': ['2,1']}\n"
     ]
    },
    {
     "name": "stderr",
     "output_type": "stream",
     "text": [
      "Processed prompts: 100%|██████████| 1/1 [00:04<00:00,  4.08s/it, Generation Speed: 5.39 toks/s]\n",
      "100%|██████████| 1/1 [00:04<00:00,  4.10s/it]\n"
     ]
    },
    {
     "name": "stdout",
     "output_type": "stream",
     "text": [
      "{'Reactants': ['1-C1', 'propargyl alcohol'], 'Product': ['3']}\n",
      "第66条数据\n"
     ]
    },
    {
     "name": "stderr",
     "output_type": "stream",
     "text": [
      "Processed prompts: 100%|██████████| 1/1 [00:06<00:00,  6.44s/it, Generation Speed: 8.70 toks/s]\n",
      "100%|██████████| 1/1 [00:06<00:00,  6.46s/it]\n"
     ]
    },
    {
     "name": "stdout",
     "output_type": "stream",
     "text": [
      "{'Reactants': ['2b', 'Me2- SiC12I7'], 'Solvent': ['Et20'], 'Temperature': ['-20 \" C'], 'Product': ['8'], 'Yield': ['> 99 %']}\n"
     ]
    },
    {
     "name": "stderr",
     "output_type": "stream",
     "text": [
      "Processed prompts: 100%|██████████| 1/1 [00:06<00:00,  6.66s/it, Generation Speed: 8.57 toks/s]\n",
      "100%|██████████| 1/1 [00:06<00:00,  6.68s/it]"
     ]
    },
    {
     "name": "stdout",
     "output_type": "stream",
     "text": [
      "{'Reactants': ['2b', 'Me2- SiC12I7'], 'Solvent': ['Et20'], 'Temperature': ['-20 \" C'], 'Product': ['9'], 'Yield': ['89 : 11']}\n",
      "TP, FP, FN 284 74 115\n",
      "NER:  precision, recall 0.7932960893854749 0.7117794486215538\n",
      "NER:  f1_score 0.7503302509907529\n"
     ]
    },
    {
     "name": "stderr",
     "output_type": "stream",
     "text": [
      "\n"
     ]
    }
   ],
   "source": [
    "import os\n",
    "\n",
    "from evaluate import *\n",
    "from llm_re import *\n",
    "import warnings\n",
    "warnings.filterwarnings(\"ignore\")\n",
    "\n",
    "def main():\n",
    "    train_data,test_data=get_data()\n",
    "    \n",
    "    prev_dir='/data/lizh/ChemRxnExtractor-main/test_prev.json'\n",
    "    prev_data=read_json_file(prev_dir)\n",
    "    \n",
    "    prev_data2=chem_re_new(train_data,prev_data)\n",
    "    Reaction_f1(test_data,prev_data2)\n",
    "\n",
    "main()"
   ]
  },
  {
   "cell_type": "markdown",
   "metadata": {},
   "source": [
    "使用微调后的llama3 70b\n",
    "TP, FP, FN 267 86 132\n",
    "NER:  precision, recall 0.7563739376770539 0.6691729323308271\n",
    "NER:  f1_score 0.7101063829787234"
   ]
  },
  {
   "cell_type": "code",
   "execution_count": 1,
   "metadata": {},
   "outputs": [
    {
     "name": "stderr",
     "output_type": "stream",
     "text": [
      "/data/lizh/Conda/anaconda3/envs/vllm/lib/python3.9/site-packages/tqdm/auto.py:21: TqdmWarning: IProgress not found. Please update jupyter and ipywidgets. See https://ipywidgets.readthedocs.io/en/stable/user_install.html\n",
      "  from .autonotebook import tqdm as notebook_tqdm\n",
      "2024-12-16 20:31:05,989\tINFO util.py:154 -- Missing packages: ['ipywidgets']. Run `pip install -U ipywidgets`, then restart the notebook server for rich notebook output.\n",
      "2024-12-16 20:31:09,101\tINFO worker.py:1771 -- Started a local Ray instance.\n"
     ]
    },
    {
     "name": "stdout",
     "output_type": "stream",
     "text": [
      "INFO 12-16 20:31:10 llm_engine.py:161] Initializing an LLM engine (v0.4.3) with config: model='/data/lizh/LLaMA-Factory-main/models/llama3_70b_reaction_sft', speculative_config=None, tokenizer='/data/lizh/LLaMA-Factory-main/models/llama3_70b_reaction_sft', skip_tokenizer_init=False, tokenizer_mode=auto, revision=None, rope_scaling=None, tokenizer_revision=None, trust_remote_code=False, dtype=torch.bfloat16, max_seq_len=8192, download_dir=None, load_format=LoadFormat.AUTO, tensor_parallel_size=4, disable_custom_all_reduce=False, quantization=None, enforce_eager=False, kv_cache_dtype=auto, quantization_param_path=None, device_config=cuda, decoding_config=DecodingConfig(guided_decoding_backend='outlines'), seed=0, served_model_name=/data/lizh/LLaMA-Factory-main/models/llama3_70b_reaction_sft)\n",
      "INFO 12-16 20:31:23 utils.py:618] Found nccl from library libnccl.so.2\n",
      "INFO 12-16 20:31:23 pynccl.py:65] vLLM is using nccl==2.20.5\n",
      "\u001b[36m(RayWorkerWrapper pid=3833245)\u001b[0m INFO 12-16 20:31:23 utils.py:618] Found nccl from library libnccl.so.2\n",
      "\u001b[36m(RayWorkerWrapper pid=3833245)\u001b[0m INFO 12-16 20:31:23 pynccl.py:65] vLLM is using nccl==2.20.5\n",
      "WARNING 12-16 20:31:23 custom_all_reduce.py:158] Custom allreduce is disabled because it's not supported on more than two PCIe-only GPUs. To silence this warning, specify disable_custom_all_reduce=True explicitly.\n",
      "\u001b[36m(RayWorkerWrapper pid=3833245)\u001b[0m WARNING 12-16 20:31:23 custom_all_reduce.py:158] Custom allreduce is disabled because it's not supported on more than two PCIe-only GPUs. To silence this warning, specify disable_custom_all_reduce=True explicitly.\n",
      "INFO 12-16 20:31:59 model_runner.py:146] Loading model weights took 32.8599 GB\n",
      "\u001b[36m(RayWorkerWrapper pid=3833245)\u001b[0m INFO 12-16 20:32:02 model_runner.py:146] Loading model weights took 32.8599 GB\n",
      "\u001b[36m(RayWorkerWrapper pid=3833494)\u001b[0m INFO 12-16 20:31:23 utils.py:618] Found nccl from library libnccl.so.2\u001b[32m [repeated 2x across cluster] (Ray deduplicates logs by default. Set RAY_DEDUP_LOGS=0 to disable log deduplication, or see https://docs.ray.io/en/master/ray-observability/user-guides/configure-logging.html#log-deduplication for more options.)\u001b[0m\n",
      "\u001b[36m(RayWorkerWrapper pid=3833494)\u001b[0m INFO 12-16 20:31:23 pynccl.py:65] vLLM is using nccl==2.20.5\u001b[32m [repeated 2x across cluster]\u001b[0m\n",
      "\u001b[36m(RayWorkerWrapper pid=3833494)\u001b[0m WARNING 12-16 20:31:23 custom_all_reduce.py:158] Custom allreduce is disabled because it's not supported on more than two PCIe-only GPUs. To silence this warning, specify disable_custom_all_reduce=True explicitly.\u001b[32m [repeated 2x across cluster]\u001b[0m\n",
      "INFO 12-16 20:32:15 distributed_gpu_executor.py:56] # GPU blocks: 10307, # CPU blocks: 3276\n",
      "INFO 12-16 20:32:21 model_runner.py:854] Capturing the model for CUDA graphs. This may lead to unexpected consequences if the model is not static. To run the model in eager mode, set 'enforce_eager=True' or use '--enforce-eager' in the CLI.\n",
      "INFO 12-16 20:32:21 model_runner.py:858] CUDA graphs can take additional 1~3 GiB memory per GPU. If you are running out of memory, consider decreasing `gpu_memory_utilization` or enforcing eager mode. You can also reduce the `max_num_seqs` as needed to decrease memory usage.\n",
      "\u001b[36m(RayWorkerWrapper pid=3833375)\u001b[0m INFO 12-16 20:32:21 model_runner.py:854] Capturing the model for CUDA graphs. This may lead to unexpected consequences if the model is not static. To run the model in eager mode, set 'enforce_eager=True' or use '--enforce-eager' in the CLI.\n",
      "\u001b[36m(RayWorkerWrapper pid=3833375)\u001b[0m INFO 12-16 20:32:21 model_runner.py:858] CUDA graphs can take additional 1~3 GiB memory per GPU. If you are running out of memory, consider decreasing `gpu_memory_utilization` or enforcing eager mode. You can also reduce the `max_num_seqs` as needed to decrease memory usage.\n",
      "\u001b[36m(RayWorkerWrapper pid=3833494)\u001b[0m INFO 12-16 20:32:04 model_runner.py:146] Loading model weights took 32.8599 GB\u001b[32m [repeated 2x across cluster]\u001b[0m\n",
      "INFO 12-16 20:32:48 model_runner.py:924] Graph capturing finished in 27 secs.\n",
      "\u001b[36m(RayWorkerWrapper pid=3833494)\u001b[0m INFO 12-16 20:32:48 model_runner.py:924] Graph capturing finished in 27 secs.\n",
      "\u001b[36m(RayWorkerWrapper pid=3833245)\u001b[0m INFO 12-16 20:32:21 model_runner.py:854] Capturing the model for CUDA graphs. This may lead to unexpected consequences if the model is not static. To run the model in eager mode, set 'enforce_eager=True' or use '--enforce-eager' in the CLI.\u001b[32m [repeated 2x across cluster]\u001b[0m\n",
      "\u001b[36m(RayWorkerWrapper pid=3833245)\u001b[0m INFO 12-16 20:32:21 model_runner.py:858] CUDA graphs can take additional 1~3 GiB memory per GPU. If you are running out of memory, consider decreasing `gpu_memory_utilization` or enforcing eager mode. You can also reduce the `max_num_seqs` as needed to decrease memory usage.\u001b[32m [repeated 2x across cluster]\u001b[0m\n",
      "第0条数据\n"
     ]
    },
    {
     "name": "stderr",
     "output_type": "stream",
     "text": [
      "Processed prompts: 100%|██████████| 1/1 [00:05<00:00,  5.56s/it, Generation Speed: 5.95 toks/s]\n",
      "100%|██████████| 1/1 [00:05<00:00,  5.62s/it]\n"
     ]
    },
    {
     "name": "stdout",
     "output_type": "stream",
     "text": [
      "{'Reactants': ['diphenylacetylene', '19A'], 'Product': ['23A'], 'Yield': ['30 %']}\n"
     ]
    },
    {
     "name": "stderr",
     "output_type": "stream",
     "text": [
      "Processed prompts: 100%|██████████| 1/1 [00:04<00:00,  4.68s/it, Generation Speed: 8.12 toks/s]\n",
      "100%|██████████| 1/1 [00:04<00:00,  4.69s/it]\n"
     ]
    },
    {
     "name": "stdout",
     "output_type": "stream",
     "text": [
      "{'Reactants': ['(phenylcyclopropy1)- carbene complex', '19B'], 'Product': ['25'], 'Yield': ['53 %']}\n",
      "第1条数据\n"
     ]
    },
    {
     "name": "stderr",
     "output_type": "stream",
     "text": [
      "Processed prompts: 100%|██████████| 1/1 [00:05<00:00,  5.59s/it, Generation Speed: 8.24 toks/s]\n",
      "100%|██████████| 1/1 [00:05<00:00,  5.60s/it]\n"
     ]
    },
    {
     "name": "stdout",
     "output_type": "stream",
     "text": [
      "{'Product': ['2-(3-(methylthio)naphthalen-2-yl)pyridine'], 'Yield': ['89 %'], 'Temperature': ['125 ° C']}\n"
     ]
    },
    {
     "name": "stderr",
     "output_type": "stream",
     "text": [
      "Processed prompts: 100%|██████████| 1/1 [00:05<00:00,  5.86s/it, Generation Speed: 8.55 toks/s]\n",
      "100%|██████████| 1/1 [00:05<00:00,  5.87s/it]\n"
     ]
    },
    {
     "name": "stdout",
     "output_type": "stream",
     "text": [
      "{'Catalyst_Reagents': ['copper acetate'], 'Solvent': ['DMSO'], 'Product': ['2b'], 'Yield': ['89 %'], 'Temperature': ['125 ° C']}\n",
      "第2条数据\n"
     ]
    },
    {
     "name": "stderr",
     "output_type": "stream",
     "text": [
      "Processed prompts: 100%|██████████| 1/1 [00:03<00:00,  3.69s/it, Generation Speed: 7.59 toks/s]\n",
      "100%|██████████| 1/1 [00:03<00:00,  3.71s/it]\n"
     ]
    },
    {
     "name": "stdout",
     "output_type": "stream",
     "text": [
      "{'Reactants': ['Me3SiCH2MgC1', '02'], 'Product': ['Me3SiOH']}\n"
     ]
    },
    {
     "name": "stderr",
     "output_type": "stream",
     "text": [
      "Processed prompts: 100%|██████████| 1/1 [00:03<00:00,  3.82s/it, Generation Speed: 7.87 toks/s]\n",
      "100%|██████████| 1/1 [00:03<00:00,  3.83s/it]\n"
     ]
    },
    {
     "name": "stdout",
     "output_type": "stream",
     "text": [
      "{'Reactants': ['Me3SiCH2MgC1', '02'], 'Product': ['(Me3Si)20']}\n"
     ]
    },
    {
     "name": "stderr",
     "output_type": "stream",
     "text": [
      "Processed prompts: 100%|██████████| 1/1 [00:03<00:00,  3.41s/it, Generation Speed: 8.22 toks/s]\n",
      "100%|██████████| 1/1 [00:03<00:00,  3.43s/it]\n"
     ]
    },
    {
     "name": "stdout",
     "output_type": "stream",
     "text": [
      "{'Reactants': ['Me3SiCH2MgC1', '02'], 'Product': ['CH20.22']}\n",
      "第3条数据\n"
     ]
    },
    {
     "name": "stderr",
     "output_type": "stream",
     "text": [
      "Processed prompts: 100%|██████████| 1/1 [00:05<00:00,  5.08s/it, Generation Speed: 9.07 toks/s]\n",
      "100%|██████████| 1/1 [00:05<00:00,  5.09s/it]\n"
     ]
    },
    {
     "name": "stdout",
     "output_type": "stream",
     "text": [
      "{'Reactants': ['8', 'acetone'], 'Catalyst_Reagents': ['trifluoroacetic acid-tri- fluoroacetic anhydride'], 'Product': ['9.']}\n",
      "第4条数据\n"
     ]
    },
    {
     "name": "stderr",
     "output_type": "stream",
     "text": [
      "Processed prompts: 100%|██████████| 1/1 [00:05<00:00,  5.66s/it, Generation Speed: 6.37 toks/s]\n",
      "100%|██████████| 1/1 [00:05<00:00,  5.67s/it]\n"
     ]
    },
    {
     "name": "stdout",
     "output_type": "stream",
     "text": [
      "{'Reactants': ['10', 'triflic anhydride-pyridine.'], 'Product': ['11'], 'Yield': ['92 %']}\n"
     ]
    },
    {
     "name": "stderr",
     "output_type": "stream",
     "text": [
      "Processed prompts: 100%|██████████| 1/1 [00:06<00:00,  6.67s/it, Generation Speed: 8.40 toks/s]\n",
      "100%|██████████| 1/1 [00:06<00:00,  6.68s/it]\n"
     ]
    },
    {
     "name": "stdout",
     "output_type": "stream",
     "text": [
      "{'Reactants': ['11', '1-heptyne', 'bis(triphenylphosphine)palladium(II) chloride', 'triethylamine- DMF)8'], 'Product': ['12.'], 'Yield': ['68 %']}\n",
      "第5条数据\n"
     ]
    },
    {
     "name": "stderr",
     "output_type": "stream",
     "text": [
      "Processed prompts: 100%|██████████| 1/1 [00:02<00:00,  2.50s/it, Generation Speed: 6.40 toks/s]\n",
      "100%|██████████| 1/1 [00:02<00:00,  2.51s/it]\n"
     ]
    },
    {
     "name": "stdout",
     "output_type": "stream",
     "text": [
      "{'Product': ['13'], 'Yield': ['-loo %']}\n"
     ]
    },
    {
     "name": "stderr",
     "output_type": "stream",
     "text": [
      "Processed prompts: 100%|██████████| 1/1 [00:05<00:00,  5.90s/it, Generation Speed: 9.50 toks/s]\n",
      "100%|██████████| 1/1 [00:05<00:00,  5.91s/it]\n"
     ]
    },
    {
     "name": "stdout",
     "output_type": "stream",
     "text": [
      "{'Reactants': ['13'], 'Catalyst_Reagents': ['KOH'], 'Solvent': ['DMSO'], 'Temperature': ['120 OC'], 'Product': ['5-heptylresorcinolg'], 'Yield': ['90 %']}\n"
     ]
    },
    {
     "name": "stderr",
     "output_type": "stream",
     "text": [
      "Processed prompts: 100%|██████████| 1/1 [00:04<00:00,  4.36s/it, Generation Speed: 8.49 toks/s]\n",
      "100%|██████████| 1/1 [00:04<00:00,  4.37s/it]\n"
     ]
    },
    {
     "name": "stdout",
     "output_type": "stream",
     "text": [
      "{'Reactants': ['13', 'KOH - DMSO'], 'Temperature': ['120 OC'], 'Product': ['14'], 'Yield': ['90 %']}\n",
      "第6条数据\n"
     ]
    },
    {
     "name": "stderr",
     "output_type": "stream",
     "text": [
      "Processed prompts: 100%|██████████| 1/1 [00:03<00:00,  3.67s/it, Generation Speed: 8.44 toks/s]\n",
      "100%|██████████| 1/1 [00:03<00:00,  3.68s/it]\n"
     ]
    },
    {
     "name": "stdout",
     "output_type": "stream",
     "text": [
      "{'Reactants': ['13', 'lithium benzyl oxide'], 'Solvent': ['THF'], 'Product': ['15.']}\n",
      "第7条数据\n"
     ]
    },
    {
     "name": "stderr",
     "output_type": "stream",
     "text": [
      "Processed prompts: 100%|██████████| 1/1 [00:03<00:00,  3.96s/it, Generation Speed: 8.84 toks/s]\n",
      "100%|██████████| 1/1 [00:03<00:00,  3.97s/it]\n"
     ]
    },
    {
     "name": "stdout",
     "output_type": "stream",
     "text": [
      "{'Reactants': ['16', 'j3-(trimethylsilyl)ethanol'], 'Product': ['17'], 'Yield': ['80 %']}\n",
      "第8条数据\n"
     ]
    },
    {
     "name": "stderr",
     "output_type": "stream",
     "text": [
      "Processed prompts: 100%|██████████| 1/1 [00:05<00:00,  5.66s/it, Generation Speed: 9.55 toks/s]\n",
      "100%|██████████| 1/1 [00:05<00:00,  5.67s/it]\n"
     ]
    },
    {
     "name": "stdout",
     "output_type": "stream",
     "text": [
      "{'Reactants': ['17', '18'], 'Catalyst_Reagents': ['K2C03', '18-crown-6'], 'Solvent': ['acetone'], 'Yield': ['81 %'], 'Product': ['19.']}\n",
      "第9条数据\n"
     ]
    },
    {
     "name": "stderr",
     "output_type": "stream",
     "text": [
      "Processed prompts: 100%|██████████| 1/1 [00:03<00:00,  3.96s/it, Generation Speed: 9.09 toks/s]\n",
      "100%|██████████| 1/1 [00:03<00:00,  3.97s/it]\n"
     ]
    },
    {
     "name": "stdout",
     "output_type": "stream",
     "text": [
      "{'Reactants': ['10'], 'Catalyst_Reagents': ['bromotrimethylsilane', 'TMSBr'], 'Product': ['11.']}\n",
      "第10条数据\n"
     ]
    },
    {
     "name": "stderr",
     "output_type": "stream",
     "text": [
      "Processed prompts: 100%|██████████| 1/1 [00:04<00:00,  4.34s/it, Generation Speed: 8.29 toks/s]\n",
      "100%|██████████| 1/1 [00:04<00:00,  4.35s/it]\n"
     ]
    },
    {
     "name": "stdout",
     "output_type": "stream",
     "text": [
      "{'Reactants': ['2', 'pyridinium bromide perbromidel8'], 'Solvent': ['acetic acid'], 'Product': ['3.']}\n",
      "第11条数据\n"
     ]
    },
    {
     "name": "stderr",
     "output_type": "stream",
     "text": [
      "Processed prompts: 100%|██████████| 1/1 [00:03<00:00,  3.91s/it, Generation Speed: 9.71 toks/s]\n",
      "100%|██████████| 1/1 [00:03<00:00,  3.92s/it]\n"
     ]
    },
    {
     "name": "stdout",
     "output_type": "stream",
     "text": [
      "{'Reactants': ['ethyl 3,3-diamino-2-propenoatelg', '4'], 'Product': ['1'], 'Yield': ['58 %']}\n",
      "第12条数据\n"
     ]
    },
    {
     "name": "stderr",
     "output_type": "stream",
     "text": [
      "Processed prompts: 100%|██████████| 1/1 [00:07<00:00,  7.87s/it, Generation Speed: 8.39 toks/s]\n",
      "100%|██████████| 1/1 [00:07<00:00,  7.88s/it]\n"
     ]
    },
    {
     "name": "stdout",
     "output_type": "stream",
     "text": [
      "{'Reactants': ['α-bromoalkene', '6', 'n- butyllithium', 'n-BuLi'], 'Product': ['4'], 'Solvent': ['Et2O', 't-BuOMe', 'hexane', 'cyclopentane']}\n",
      "第13条数据\n"
     ]
    },
    {
     "name": "stderr",
     "output_type": "stream",
     "text": [
      "Processed prompts: 100%|██████████| 1/1 [00:02<00:00,  2.45s/it, Generation Speed: 6.14 toks/s]\n",
      "100%|██████████| 1/1 [00:02<00:00,  2.46s/it]\n"
     ]
    },
    {
     "name": "stdout",
     "output_type": "stream",
     "text": [
      "{'Reactants': ['1'], 'Product': ['2.']}\n",
      "第14条数据\n"
     ]
    },
    {
     "name": "stderr",
     "output_type": "stream",
     "text": [
      "Processed prompts: 100%|██████████| 1/1 [00:03<00:00,  3.63s/it, Generation Speed: 7.44 toks/s]\n",
      "100%|██████████| 1/1 [00:03<00:00,  3.64s/it]\n"
     ]
    },
    {
     "name": "stdout",
     "output_type": "stream",
     "text": [
      "{'Product': ['1'], 'Reactants': ['2s', '3'], 'Solvent': ['CHCI,']}\n",
      "第15条数据\n"
     ]
    },
    {
     "name": "stderr",
     "output_type": "stream",
     "text": [
      "Processed prompts: 100%|██████████| 1/1 [00:02<00:00,  2.92s/it, Generation Speed: 7.19 toks/s]\n",
      "100%|██████████| 1/1 [00:02<00:00,  2.93s/it]\n"
     ]
    },
    {
     "name": "stdout",
     "output_type": "stream",
     "text": [
      "{'Reactants': ['46', '5.7-8'], 'Product': ['3']}\n",
      "第16条数据\n"
     ]
    },
    {
     "name": "stderr",
     "output_type": "stream",
     "text": [
      "Processed prompts: 100%|██████████| 1/1 [00:03<00:00,  3.75s/it, Generation Speed: 8.81 toks/s]\n",
      "100%|██████████| 1/1 [00:03<00:00,  3.76s/it]\n"
     ]
    },
    {
     "name": "stdout",
     "output_type": "stream",
     "text": [
      "第17条数据\n"
     ]
    },
    {
     "name": "stderr",
     "output_type": "stream",
     "text": [
      "Processed prompts: 100%|██████████| 1/1 [00:05<00:00,  5.57s/it, Generation Speed: 7.90 toks/s]\n",
      "100%|██████████| 1/1 [00:05<00:00,  5.58s/it]\n"
     ]
    },
    {
     "name": "stdout",
     "output_type": "stream",
     "text": [
      "{'Reactants': ['N-acetyl+ galactosamine'], 'Yield': ['55 %'], 'Temperature': ['165-166.5 “ C'], 'Product': ['7']}\n",
      "第18条数据\n"
     ]
    },
    {
     "name": "stderr",
     "output_type": "stream",
     "text": [
      "Processed prompts: 100%|██████████| 1/1 [00:04<00:00,  4.73s/it, Generation Speed: 8.06 toks/s]\n",
      "100%|██████████| 1/1 [00:04<00:00,  4.74s/it]\n"
     ]
    },
    {
     "name": "stdout",
     "output_type": "stream",
     "text": [
      "{'Reactants': ['5'], 'Catalyst_Reagents': ['MeMgBr', '1'], 'Product': ['10'], 'Yield': ['70 %']}\n",
      "第19条数据\n"
     ]
    },
    {
     "name": "stderr",
     "output_type": "stream",
     "text": [
      "Processed prompts: 100%|██████████| 1/1 [00:03<00:00,  3.17s/it, Generation Speed: 10.11 toks/s]\n",
      "100%|██████████| 1/1 [00:03<00:00,  3.18s/it]\n"
     ]
    },
    {
     "name": "stdout",
     "output_type": "stream",
     "text": [
      "answers:[{'Reactants': ['35'], 'Product': ['[4]paracyclophane', '3'], 'Solvent': ['alcoholic']}]\n",
      "第20条数据\n"
     ]
    },
    {
     "name": "stderr",
     "output_type": "stream",
     "text": [
      "Processed prompts: 100%|██████████| 1/1 [00:03<00:00,  3.55s/it, Generation Speed: 5.91 toks/s]\n",
      "100%|██████████| 1/1 [00:03<00:00,  3.56s/it]\n"
     ]
    },
    {
     "name": "stdout",
     "output_type": "stream",
     "text": [
      "{'Reactants': ['pivalonitrile', '1'], 'Product': ['3']}\n",
      "第21条数据\n"
     ]
    },
    {
     "name": "stderr",
     "output_type": "stream",
     "text": [
      "Processed prompts: 100%|██████████| 1/1 [00:02<00:00,  2.37s/it, Generation Speed: 9.28 toks/s]\n",
      "100%|██████████| 1/1 [00:02<00:00,  2.38s/it]\n"
     ]
    },
    {
     "name": "stdout",
     "output_type": "stream",
     "text": [
      "answers:[{'Reactants': ['1', 'Gly - Gly'], 'Product': ['glycine']}]\n",
      "第22条数据\n"
     ]
    },
    {
     "name": "stderr",
     "output_type": "stream",
     "text": [
      "Processed prompts: 100%|██████████| 1/1 [00:03<00:00,  3.39s/it, Generation Speed: 10.03 toks/s]\n",
      "100%|██████████| 1/1 [00:03<00:00,  3.40s/it]\n"
     ]
    },
    {
     "name": "stdout",
     "output_type": "stream",
     "text": [
      "answers:[{'Reactants': ['Gly - Gly'], 'Product': ['glycine'], 'Solvent': ['NaHCO', 'HEPES.']}]\n",
      "第23条数据\n"
     ]
    },
    {
     "name": "stderr",
     "output_type": "stream",
     "text": [
      "Processed prompts: 100%|██████████| 1/1 [00:04<00:00,  4.35s/it, Generation Speed: 8.51 toks/s]\n",
      "100%|██████████| 1/1 [00:04<00:00,  4.36s/it]\n"
     ]
    },
    {
     "name": "stdout",
     "output_type": "stream",
     "text": [
      "{'Product': [\"7,'4b\"], 'Catalyst_Reagents': ['zirconium'], 'Reactants': ['10'], 'Yield': ['60 %']}\n"
     ]
    },
    {
     "name": "stderr",
     "output_type": "stream",
     "text": [
      "Processed prompts: 100%|██████████| 1/1 [00:04<00:00,  4.07s/it, Generation Speed: 8.35 toks/s]\n",
      "100%|██████████| 1/1 [00:04<00:00,  4.08s/it]\n"
     ]
    },
    {
     "name": "stdout",
     "output_type": "stream",
     "text": [
      "{'Catalyst_Reagents': ['zirconium'], 'Reactants': ['10'], 'Product': ['11'], 'Yield': ['60 %']}\n",
      "第24条数据\n"
     ]
    },
    {
     "name": "stderr",
     "output_type": "stream",
     "text": [
      "Processed prompts: 100%|██████████| 1/1 [00:03<00:00,  3.28s/it, Generation Speed: 8.25 toks/s]\n",
      "100%|██████████| 1/1 [00:03<00:00,  3.28s/it]\n"
     ]
    },
    {
     "name": "stdout",
     "output_type": "stream",
     "text": [
      "{'Reactants': ['13', 'catecholborane'], 'Temperature': ['room'], 'Product': ['8']}\n",
      "第25条数据\n"
     ]
    },
    {
     "name": "stderr",
     "output_type": "stream",
     "text": [
      "Processed prompts: 100%|██████████| 1/1 [00:04<00:00,  4.91s/it, Generation Speed: 4.08 toks/s]\n",
      "100%|██████████| 1/1 [00:04<00:00,  4.91s/it]\n"
     ]
    },
    {
     "name": "stdout",
     "output_type": "stream",
     "text": [
      "{'Reactants': ['5-cyclononynone'], 'Product': ['11']}\n"
     ]
    },
    {
     "name": "stderr",
     "output_type": "stream",
     "text": [
      "Processed prompts: 100%|██████████| 1/1 [00:04<00:00,  4.60s/it, Generation Speed: 4.35 toks/s]\n",
      "100%|██████████| 1/1 [00:04<00:00,  4.61s/it]\n"
     ]
    },
    {
     "name": "stdout",
     "output_type": "stream",
     "text": [
      "{'Reactants': ['5-cyclononynone'], 'Product': ['12']}\n",
      "第26条数据\n"
     ]
    },
    {
     "name": "stderr",
     "output_type": "stream",
     "text": [
      "Processed prompts: 100%|██████████| 1/1 [00:02<00:00,  2.23s/it, Generation Speed: 5.85 toks/s]\n",
      "100%|██████████| 1/1 [00:02<00:00,  2.24s/it]\n"
     ]
    },
    {
     "name": "stdout",
     "output_type": "stream",
     "text": [
      "{'Product': ['3'], 'Temperature': ['room']}\n",
      "第27条数据\n"
     ]
    },
    {
     "name": "stderr",
     "output_type": "stream",
     "text": [
      "Processed prompts: 100%|██████████| 1/1 [00:03<00:00,  3.71s/it, Generation Speed: 7.02 toks/s]\n",
      "100%|██████████| 1/1 [00:03<00:00,  3.72s/it]\n"
     ]
    },
    {
     "name": "stdout",
     "output_type": "stream",
     "text": [
      "{'Reactants': ['5-cyclodecynone', '13),Iz'], 'Product': ['14']}\n"
     ]
    },
    {
     "name": "stderr",
     "output_type": "stream",
     "text": [
      "Processed prompts: 100%|██████████| 1/1 [00:03<00:00,  3.53s/it, Generation Speed: 7.65 toks/s]\n",
      "100%|██████████| 1/1 [00:03<00:00,  3.54s/it]\n"
     ]
    },
    {
     "name": "stdout",
     "output_type": "stream",
     "text": [
      "{'Reactants': ['5-cyclodecynone', '13),Iz'], 'Product': ['16.']}\n",
      "第28条数据\n"
     ]
    },
    {
     "name": "stderr",
     "output_type": "stream",
     "text": [
      "Processed prompts: 100%|██████████| 1/1 [00:02<00:00,  2.12s/it, Generation Speed: 8.97 toks/s]\n",
      "100%|██████████| 1/1 [00:02<00:00,  2.13s/it]\n"
     ]
    },
    {
     "name": "stdout",
     "output_type": "stream",
     "text": [
      "answers:[{'Product': ['1 la'], 'Reactants': ['9', 'lOd']}]\n",
      "第29条数据\n"
     ]
    },
    {
     "name": "stderr",
     "output_type": "stream",
     "text": [
      "Processed prompts: 100%|██████████| 1/1 [00:03<00:00,  3.86s/it, Generation Speed: 8.82 toks/s]\n",
      "100%|██████████| 1/1 [00:03<00:00,  3.87s/it]\n"
     ]
    },
    {
     "name": "stdout",
     "output_type": "stream",
     "text": [
      "{'Reactants': ['23'], 'Catalyst_Reagents': ['NaBH4'], 'Product': ['24'], 'Yield': ['98 %']}\n",
      "第30条数据\n"
     ]
    },
    {
     "name": "stderr",
     "output_type": "stream",
     "text": [
      "Processed prompts: 100%|██████████| 1/1 [00:03<00:00,  3.14s/it, Generation Speed: 10.53 toks/s]\n",
      "100%|██████████| 1/1 [00:03<00:00,  3.14s/it]\n"
     ]
    },
    {
     "name": "stdout",
     "output_type": "stream",
     "text": [
      "answers:[{'Reactants': ['2,5-Dihydrofuran', 'furan'], 'Product': ['gas'], 'Temperature': ['465 K.']}]\n",
      "第31条数据\n"
     ]
    },
    {
     "name": "stderr",
     "output_type": "stream",
     "text": [
      "Processed prompts: 100%|██████████| 1/1 [00:04<00:00,  4.10s/it, Generation Speed: 10.98 toks/s]\n",
      "100%|██████████| 1/1 [00:04<00:00,  4.11s/it]\n"
     ]
    },
    {
     "name": "stdout",
     "output_type": "stream",
     "text": [
      "answers:[{'Product': ['water', 'carbon dioxide', '2(5H)-furanone', 'maleic anhydride', '4-vinylcyclohexene', 'styrene.']}]\n",
      "第32条数据\n"
     ]
    },
    {
     "name": "stderr",
     "output_type": "stream",
     "text": [
      "Processed prompts: 100%|██████████| 1/1 [00:04<00:00,  4.01s/it, Generation Speed: 8.99 toks/s]\n",
      "100%|██████████| 1/1 [00:04<00:00,  4.02s/it]\n"
     ]
    },
    {
     "name": "stdout",
     "output_type": "stream",
     "text": [
      "{'Reactants': ['p proline', 'formic acid'], 'Catalyst_Reagents': ['acetic anhydride'], 'Product': ['25']}\n",
      "第33条数据\n"
     ]
    },
    {
     "name": "stderr",
     "output_type": "stream",
     "text": [
      "Processed prompts: 100%|██████████| 1/1 [00:04<00:00,  4.72s/it, Generation Speed: 8.91 toks/s]\n",
      "100%|██████████| 1/1 [00:04<00:00,  4.73s/it]\n"
     ]
    },
    {
     "name": "stdout",
     "output_type": "stream",
     "text": [
      "{'Catalyst_Reagents': ['lithium aluminum hydride'], 'Product': ['(S)-2-(hy- droxymethy1)-1 methylpyrrolidine']}\n"
     ]
    },
    {
     "name": "stderr",
     "output_type": "stream",
     "text": [
      "Processed prompts: 100%|██████████| 1/1 [00:02<00:00,  2.73s/it, Generation Speed: 8.44 toks/s]\n",
      "100%|██████████| 1/1 [00:02<00:00,  2.74s/it]\n"
     ]
    },
    {
     "name": "stdout",
     "output_type": "stream",
     "text": [
      "{'Catalyst_Reagents': ['lithium aluminum hydride'], 'Product': ['26']}\n",
      "第34条数据\n"
     ]
    },
    {
     "name": "stderr",
     "output_type": "stream",
     "text": [
      "Processed prompts: 100%|██████████| 1/1 [00:05<00:00,  5.08s/it, Generation Speed: 8.28 toks/s]\n",
      "100%|██████████| 1/1 [00:05<00:00,  5.09s/it]\n"
     ]
    },
    {
     "name": "stdout",
     "output_type": "stream",
     "text": [
      "{'Product': ['2-(chloromethyl)-l'], 'Reactants': ['27'], 'Catalyst_Reagents': ['thionyl chloride'], 'Solvent': ['chloroform']}\n"
     ]
    },
    {
     "name": "stderr",
     "output_type": "stream",
     "text": [
      "Processed prompts: 100%|██████████| 1/1 [00:05<00:00,  5.70s/it, Generation Speed: 8.25 toks/s]\n",
      "100%|██████████| 1/1 [00:05<00:00,  5.71s/it]\n"
     ]
    },
    {
     "name": "stdout",
     "output_type": "stream",
     "text": [
      "{'Product': ['27'], 'Reactants': ['2-(chloromethyl)-l methylpyrrolidine'], 'Catalyst_Reagents': ['thionyl chloride'], 'Solvent': ['chloroform']}\n",
      "第35条数据\n"
     ]
    },
    {
     "name": "stderr",
     "output_type": "stream",
     "text": [
      "Processed prompts: 100%|██████████| 1/1 [00:03<00:00,  3.20s/it, Generation Speed: 8.14 toks/s]\n",
      "100%|██████████| 1/1 [00:03<00:00,  3.20s/it]\n"
     ]
    },
    {
     "name": "stdout",
     "output_type": "stream",
     "text": [
      "{'Reactants': ['sodium cyanide'], 'Solvent': ['80 % ethanol'], 'Product': ['30']}\n",
      "第36条数据\n"
     ]
    },
    {
     "name": "stderr",
     "output_type": "stream",
     "text": [
      "Processed prompts: 100%|██████████| 1/1 [00:03<00:00,  3.60s/it, Generation Speed: 8.08 toks/s]\n",
      "100%|██████████| 1/1 [00:03<00:00,  3.60s/it]\n"
     ]
    },
    {
     "name": "stdout",
     "output_type": "stream",
     "text": [
      "{'Catalyst_Reagents': ['HCI'], 'Product': ['1 -methylpyrrolidine-2-acetic acid']}\n"
     ]
    },
    {
     "name": "stderr",
     "output_type": "stream",
     "text": [
      "Processed prompts: 100%|██████████| 1/1 [00:02<00:00,  2.40s/it, Generation Speed: 7.09 toks/s]\n",
      "100%|██████████| 1/1 [00:02<00:00,  2.42s/it]\n"
     ]
    },
    {
     "name": "stdout",
     "output_type": "stream",
     "text": [
      "{'Catalyst_Reagents': ['HCI'], 'Product': ['33']}\n",
      "第37条数据\n"
     ]
    },
    {
     "name": "stderr",
     "output_type": "stream",
     "text": [
      "Processed prompts: 100%|██████████| 1/1 [00:07<00:00,  7.23s/it, Generation Speed: 8.58 toks/s]\n",
      "100%|██████████| 1/1 [00:07<00:00,  7.24s/it]\n"
     ]
    },
    {
     "name": "stdout",
     "output_type": "stream",
     "text": [
      "{'Reactants': ['sodium [1,2-13C2]acetate', 'sodium [IJ4C]acetate', 'trimethyl phosphate'], 'Product': [\"methyl [ 1,2- ' 3C2,1-14C]acetate\"]}\n"
     ]
    },
    {
     "name": "stderr",
     "output_type": "stream",
     "text": [
      "Processed prompts: 100%|██████████| 1/1 [00:05<00:00,  5.24s/it, Generation Speed: 8.02 toks/s]\n",
      "100%|██████████| 1/1 [00:05<00:00,  5.25s/it]\n"
     ]
    },
    {
     "name": "stdout",
     "output_type": "stream",
     "text": [
      "{'Reactants': ['sodium [1,2-13C2]acetate', 'sodium [IJ4C]acetate', 'trimethyl phosphate'], 'Product': ['B']}\n"
     ]
    },
    {
     "name": "stderr",
     "output_type": "stream",
     "text": [
      "Processed prompts: 100%|██████████| 1/1 [00:04<00:00,  4.90s/it, Generation Speed: 7.76 toks/s]\n",
      "100%|██████████| 1/1 [00:04<00:00,  4.91s/it]\n"
     ]
    },
    {
     "name": "stdout",
     "output_type": "stream",
     "text": [
      "{'Reactants': [\"methyl [ 1,2- ' 3C2,1-14C]acetate\", '( B )'], 'Product': ['29']}\n",
      "第38条数据\n"
     ]
    },
    {
     "name": "stderr",
     "output_type": "stream",
     "text": [
      "Processed prompts: 100%|██████████| 1/1 [00:03<00:00,  3.92s/it, Generation Speed: 6.63 toks/s]\n",
      "100%|██████████| 1/1 [00:03<00:00,  3.93s/it]\n"
     ]
    },
    {
     "name": "stdout",
     "output_type": "stream",
     "text": [
      "{'Product': ['1 -methyl-2-pyrrolidinyl)-3-oxobutanoate']}\n"
     ]
    },
    {
     "name": "stderr",
     "output_type": "stream",
     "text": [
      "Processed prompts: 100%|██████████| 1/1 [00:02<00:00,  2.09s/it, Generation Speed: 3.35 toks/s]\n",
      "100%|██████████| 1/1 [00:02<00:00,  2.10s/it]\n"
     ]
    },
    {
     "name": "stdout",
     "output_type": "stream",
     "text": [
      "{'Product': ['31']}\n",
      "第39条数据\n"
     ]
    },
    {
     "name": "stderr",
     "output_type": "stream",
     "text": [
      "Processed prompts: 100%|██████████| 1/1 [00:03<00:00,  3.81s/it, Generation Speed: 7.87 toks/s]\n",
      "100%|██████████| 1/1 [00:03<00:00,  3.82s/it]\n"
     ]
    },
    {
     "name": "stdout",
     "output_type": "stream",
     "text": [
      "{'Reactants': ['3a'], 'Solvent': ['water'], 'Product': ['4a'], 'Yield': ['high']}\n",
      "第40条数据\n"
     ]
    },
    {
     "name": "stderr",
     "output_type": "stream",
     "text": [
      "Processed prompts: 100%|██████████| 1/1 [00:06<00:00,  6.72s/it, Generation Speed: 9.83 toks/s]\n",
      "100%|██████████| 1/1 [00:06<00:00,  6.72s/it]\n"
     ]
    },
    {
     "name": "stdout",
     "output_type": "stream",
     "text": [
      "{'Reactants': ['allyl iodoacetate', '3a'], 'Solvent': ['water'], 'Catalyst_Reagents': ['triethylborane'], 'Temperature': ['25 C'], 'Time': ['3 h'], 'Product': ['4a'], 'Yield': ['67 %']}\n",
      "第41条数据\n"
     ]
    },
    {
     "name": "stderr",
     "output_type": "stream",
     "text": [
      "Processed prompts: 100%|██████████| 1/1 [00:11<00:00, 11.70s/it, Generation Speed: 9.83 toks/s]\n",
      "100%|██████████| 1/1 [00:11<00:00, 11.71s/it]\n"
     ]
    },
    {
     "name": "stdout",
     "output_type": "stream",
     "text": [
      "{'Reactants': ['3-iodo- 1-methylquinolin-4(1H)-one', '4', 'phenylboronic acid', '8a'], 'Product': ['3-phenylquinolin-4(1H)-one'], 'Catalyst_Reagents': ['Pd(OAc)2', 'PPh3', 'Na2CO3'], 'Solvent': ['DME', 'EtOH'], 'Temperature': ['70 ° C'], 'Time': ['5 min.']}\n"
     ]
    },
    {
     "name": "stderr",
     "output_type": "stream",
     "text": [
      "Processed prompts: 100%|██████████| 1/1 [00:11<00:00, 11.27s/it, Generation Speed: 9.23 toks/s]\n",
      "100%|██████████| 1/1 [00:11<00:00, 11.28s/it]\n"
     ]
    },
    {
     "name": "stdout",
     "output_type": "stream",
     "text": [
      "{'Reactants': ['3-iodo- 1-methylquinolin-4(1H)-one', '4', 'phenylboronic acid', '8a'], 'Product': ['9a'], 'Catalyst_Reagents': ['Pd(OAc)2', 'PPh3', 'Na2CO3'], 'Solvent': ['DME', 'EtOH'], 'Temperature': ['70 ° C'], 'Time': ['5 min.']}\n",
      "第42条数据\n"
     ]
    },
    {
     "name": "stderr",
     "output_type": "stream",
     "text": [
      "Processed prompts: 100%|██████████| 1/1 [00:03<00:00,  3.87s/it, Generation Speed: 5.95 toks/s]\n",
      "100%|██████████| 1/1 [00:03<00:00,  3.88s/it]\n"
     ]
    },
    {
     "name": "stdout",
     "output_type": "stream",
     "text": [
      "{'Product': ['9a'], 'Yield': ['75 %'], 'Time': ['30 min']}\n",
      "第43条数据\n"
     ]
    },
    {
     "name": "stderr",
     "output_type": "stream",
     "text": [
      "Processed prompts: 100%|██████████| 1/1 [00:02<00:00,  2.41s/it, Generation Speed: 5.82 toks/s]\n",
      "100%|██████████| 1/1 [00:02<00:00,  2.42s/it]\n"
     ]
    },
    {
     "name": "stdout",
     "output_type": "stream",
     "text": [
      "{'Reactants': ['B'], 'Product': ['C']}\n",
      "第44条数据\n"
     ]
    },
    {
     "name": "stderr",
     "output_type": "stream",
     "text": [
      "Processed prompts: 100%|██████████| 1/1 [00:03<00:00,  3.38s/it, Generation Speed: 8.00 toks/s]\n",
      "100%|██████████| 1/1 [00:03<00:00,  3.39s/it]\n"
     ]
    },
    {
     "name": "stdout",
     "output_type": "stream",
     "text": [
      "{'Reactants': ['3a', '(MeCN)3Cr(C0)3'], 'Product': ['4a']}\n"
     ]
    },
    {
     "name": "stderr",
     "output_type": "stream",
     "text": [
      "Processed prompts: 100%|██████████| 1/1 [00:03<00:00,  3.59s/it, Generation Speed: 8.09 toks/s]\n",
      "100%|██████████| 1/1 [00:03<00:00,  3.59s/it]\n"
     ]
    },
    {
     "name": "stdout",
     "output_type": "stream",
     "text": [
      "{'Reactants': ['3a', '(MeCN)3Cr(C0)3'], 'Product': [\"5a1'\"]}\n"
     ]
    },
    {
     "name": "stderr",
     "output_type": "stream",
     "text": [
      "Processed prompts: 100%|██████████| 1/1 [00:03<00:00,  3.73s/it, Generation Speed: 7.78 toks/s]\n",
      "100%|██████████| 1/1 [00:03<00:00,  3.74s/it]\n"
     ]
    },
    {
     "name": "stdout",
     "output_type": "stream",
     "text": [
      "{'Reactants': ['3b', '(MeCN)3Cr(C0)3'], 'Product': [\"4b1'\"]}\n"
     ]
    },
    {
     "name": "stderr",
     "output_type": "stream",
     "text": [
      "Processed prompts: 100%|██████████| 1/1 [00:03<00:00,  3.79s/it, Generation Speed: 7.40 toks/s]\n",
      "100%|██████████| 1/1 [00:03<00:00,  3.79s/it]\n"
     ]
    },
    {
     "name": "stdout",
     "output_type": "stream",
     "text": [
      "{'Reactants': ['3b', '(MeCN)3Cr(C0)3'], 'Product': [\"5b,''\"]}\n",
      "第45条数据\n"
     ]
    },
    {
     "name": "stderr",
     "output_type": "stream",
     "text": [
      "Processed prompts: 100%|██████████| 1/1 [00:03<00:00,  3.45s/it, Generation Speed: 8.70 toks/s]\n",
      "100%|██████████| 1/1 [00:03<00:00,  3.46s/it]\n"
     ]
    },
    {
     "name": "stdout",
     "output_type": "stream",
     "text": [
      "{'Reactants': ['4a', 'ethyl acrylate'], 'Product': ['6a'], 'Yield': ['86 %']}\n",
      "第46条数据\n"
     ]
    },
    {
     "name": "stderr",
     "output_type": "stream",
     "text": [
      "Processed prompts: 100%|██████████| 1/1 [00:05<00:00,  5.50s/it, Generation Speed: 8.37 toks/s]\n",
      "100%|██████████| 1/1 [00:05<00:00,  5.51s/it]\n"
     ]
    },
    {
     "name": "stdout",
     "output_type": "stream",
     "text": [
      "{'Reactants': ['tryptophan methyl ester', '9'], 'Product': ['12'], 'Yield': ['35 %'], 'Temperature': [\"140 'C\"], 'Time': ['3 h']}\n",
      "第47条数据\n"
     ]
    },
    {
     "name": "stderr",
     "output_type": "stream",
     "text": [
      "Processed prompts: 100%|██████████| 1/1 [00:03<00:00,  3.01s/it, Generation Speed: 9.31 toks/s]\n",
      "100%|██████████| 1/1 [00:03<00:00,  3.02s/it]\n"
     ]
    },
    {
     "name": "stdout",
     "output_type": "stream",
     "text": [
      "answers:[{'Reactants': ['6a', '7a'], 'Product': ['8a'], 'Yield': ['23 %']}]\n",
      "第48条数据\n"
     ]
    },
    {
     "name": "stderr",
     "output_type": "stream",
     "text": [
      "Processed prompts: 100%|██████████| 1/1 [00:02<00:00,  2.07s/it, Generation Speed: 6.76 toks/s]\n",
      "100%|██████████| 1/1 [00:02<00:00,  2.08s/it]\n"
     ]
    },
    {
     "name": "stdout",
     "output_type": "stream",
     "text": [
      "{'Reactants': ['1'], 'Product': ['2']}\n",
      "第49条数据\n"
     ]
    },
    {
     "name": "stderr",
     "output_type": "stream",
     "text": [
      "Processed prompts: 100%|██████████| 1/1 [00:04<00:00,  4.13s/it, Generation Speed: 4.84 toks/s]\n",
      "100%|██████████| 1/1 [00:04<00:00,  4.14s/it]\n"
     ]
    },
    {
     "name": "stdout",
     "output_type": "stream",
     "text": [
      "{'Reactants': ['1a', '2a'], 'Product': ['3a']}\n",
      "第50条数据\n"
     ]
    },
    {
     "name": "stderr",
     "output_type": "stream",
     "text": [
      "Processed prompts: 100%|██████████| 1/1 [00:03<00:00,  3.22s/it, Generation Speed: 6.23 toks/s]\n",
      "100%|██████████| 1/1 [00:03<00:00,  3.23s/it]\n"
     ]
    },
    {
     "name": "stdout",
     "output_type": "stream",
     "text": [
      "{'Reactants': ['2', 'I2O5'], 'Product': ['4']}\n",
      "第51条数据\n"
     ]
    },
    {
     "name": "stderr",
     "output_type": "stream",
     "text": [
      "Processed prompts: 100%|██████████| 1/1 [00:02<00:00,  2.69s/it, Generation Speed: 6.71 toks/s]\n",
      "100%|██████████| 1/1 [00:02<00:00,  2.70s/it]\n"
     ]
    },
    {
     "name": "stdout",
     "output_type": "stream",
     "text": [
      "{'Reactants': ['4', '1'], 'Product': ['5.']}\n",
      "第52条数据\n"
     ]
    },
    {
     "name": "stderr",
     "output_type": "stream",
     "text": [
      "Processed prompts: 100%|██████████| 1/1 [00:03<00:00,  3.23s/it, Generation Speed: 4.33 toks/s]\n",
      "100%|██████████| 1/1 [00:03<00:00,  3.24s/it]\n"
     ]
    },
    {
     "name": "stdout",
     "output_type": "stream",
     "text": [
      "{'Reactants': ['6'], 'Product': ['7']}\n"
     ]
    },
    {
     "name": "stderr",
     "output_type": "stream",
     "text": [
      "Processed prompts: 100%|██████████| 1/1 [00:03<00:00,  3.55s/it, Generation Speed: 5.37 toks/s]\n",
      "100%|██████████| 1/1 [00:03<00:00,  3.55s/it]\n"
     ]
    },
    {
     "name": "stdout",
     "output_type": "stream",
     "text": [
      "{'Reactants': ['H2O', '7'], 'Product': ['8']}\n",
      "第53条数据\n"
     ]
    },
    {
     "name": "stderr",
     "output_type": "stream",
     "text": [
      "Processed prompts: 100%|██████████| 1/1 [00:03<00:00,  3.39s/it, Generation Speed: 7.38 toks/s]\n",
      "100%|██████████| 1/1 [00:03<00:00,  3.40s/it]\n"
     ]
    },
    {
     "name": "stdout",
     "output_type": "stream",
     "text": [
      "{'Reactants': ['8'], 'Catalyst_Reagents': ['TBHP'], 'Product': ['3']}\n",
      "第54条数据\n"
     ]
    },
    {
     "name": "stderr",
     "output_type": "stream",
     "text": [
      "Processed prompts: 100%|██████████| 1/1 [00:02<00:00,  2.41s/it, Generation Speed: 8.71 toks/s]\n",
      "100%|██████████| 1/1 [00:02<00:00,  2.42s/it]\n"
     ]
    },
    {
     "name": "stdout",
     "output_type": "stream",
     "text": [
      "answers:[{'Time': ['18 h', '2 h'], 'Yield': ['nearly identical']}]\n",
      "第55条数据\n"
     ]
    },
    {
     "name": "stderr",
     "output_type": "stream",
     "text": [
      "Processed prompts: 100%|██████████| 1/1 [00:02<00:00,  2.83s/it, Generation Speed: 7.78 toks/s]\n",
      "100%|██████████| 1/1 [00:02<00:00,  2.83s/it]\n"
     ]
    },
    {
     "name": "stdout",
     "output_type": "stream",
     "text": [
      "{'Product': ['5'], 'Yield': ['28 %'], 'Time': ['2 h']}\n",
      "第56条数据\n"
     ]
    },
    {
     "name": "stderr",
     "output_type": "stream",
     "text": [
      "Processed prompts: 100%|██████████| 1/1 [00:02<00:00,  2.54s/it, Generation Speed: 9.09 toks/s]\n",
      "100%|██████████| 1/1 [00:02<00:00,  2.54s/it]\n"
     ]
    },
    {
     "name": "stdout",
     "output_type": "stream",
     "text": [
      "answers:[{'Reactants': ['l a'], 'Product': ['butenolide', '4a.']}]\n",
      "第57条数据\n"
     ]
    },
    {
     "name": "stderr",
     "output_type": "stream",
     "text": [
      "Processed prompts: 100%|██████████| 1/1 [00:05<00:00,  5.07s/it, Generation Speed: 8.68 toks/s]\n",
      "100%|██████████| 1/1 [00:05<00:00,  5.08s/it]\n"
     ]
    },
    {
     "name": "stdout",
     "output_type": "stream",
     "text": [
      "{'Reactants': ['palladium acetate', 'tris(2,6-dimeth- oxyphenyl)phosphineE(TDMPP)'], 'Product': ['4a9']}\n",
      "第58条数据\n"
     ]
    },
    {
     "name": "stderr",
     "output_type": "stream",
     "text": [
      "Processed prompts: 100%|██████████| 1/1 [00:02<00:00,  2.76s/it, Generation Speed: 11.62 toks/s]\n",
      "100%|██████████| 1/1 [00:02<00:00,  2.76s/it]\n"
     ]
    },
    {
     "name": "stdout",
     "output_type": "stream",
     "text": [
      "answers:[{'Reactants': ['2b'], 'Product': ['5b.']}]\n",
      "第59条数据\n"
     ]
    },
    {
     "name": "stderr",
     "output_type": "stream",
     "text": [
      "Processed prompts: 100%|██████████| 1/1 [00:04<00:00,  4.18s/it, Generation Speed: 6.47 toks/s]\n",
      "100%|██████████| 1/1 [00:04<00:00,  4.19s/it]\n"
     ]
    },
    {
     "name": "stdout",
     "output_type": "stream",
     "text": [
      "{'Reactants': ['2b'], 'Product': ['3bI0'], 'Solvent': ['benzene']}\n"
     ]
    },
    {
     "name": "stderr",
     "output_type": "stream",
     "text": [
      "Processed prompts: 100%|██████████| 1/1 [00:04<00:00,  4.15s/it, Generation Speed: 6.27 toks/s]\n",
      "100%|██████████| 1/1 [00:04<00:00,  4.16s/it]\n"
     ]
    },
    {
     "name": "stdout",
     "output_type": "stream",
     "text": [
      "{'Solvent': ['benzene'], 'Reactants': ['2b'], 'Product': ['5b.']}\n",
      "第60条数据\n"
     ]
    },
    {
     "name": "stderr",
     "output_type": "stream",
     "text": [
      "Processed prompts: 100%|██████████| 1/1 [00:02<00:00,  2.95s/it, Generation Speed: 10.18 toks/s]\n",
      "100%|██████████| 1/1 [00:02<00:00,  2.96s/it]\n"
     ]
    },
    {
     "name": "stdout",
     "output_type": "stream",
     "text": [
      "answers:[{'Reactants': ['TDMPP', 'Pd(OAc)z'], 'Product': ['3b', '5b.']}]\n",
      "第61条数据\n"
     ]
    },
    {
     "name": "stderr",
     "output_type": "stream",
     "text": [
      "Processed prompts: 100%|██████████| 1/1 [00:08<00:00,  8.99s/it, Generation Speed: 9.01 toks/s]\n",
      "100%|██████████| 1/1 [00:08<00:00,  9.00s/it]\n"
     ]
    },
    {
     "name": "stdout",
     "output_type": "stream",
     "text": [
      "{'Catalyst_Reagents': ['Pd(PPh3)4'], 'Reactants': ['1a', '3a', 'K3PO4'], 'Temperature': ['110 ° C'], 'Time': ['15 min'], 'Solvent': ['DMF'], 'Yield': ['13 %'], 'Product': ['3-benzazepine']}\n"
     ]
    },
    {
     "name": "stderr",
     "output_type": "stream",
     "text": [
      "Processed prompts: 100%|██████████| 1/1 [00:08<00:00,  8.74s/it, Generation Speed: 8.82 toks/s]\n",
      "100%|██████████| 1/1 [00:08<00:00,  8.75s/it]\n"
     ]
    },
    {
     "name": "stdout",
     "output_type": "stream",
     "text": [
      "{'Catalyst_Reagents': ['Pd(PPh3)4'], 'Reactants': ['1a', '3a', 'K3PO4'], 'Temperature': ['110 ° C'], 'Time': ['15 min'], 'Solvent': ['DMF'], 'Yield': ['13 %'], 'Product': ['4a']}\n",
      "第62条数据\n"
     ]
    },
    {
     "name": "stderr",
     "output_type": "stream",
     "text": [
      "Processed prompts: 100%|██████████| 1/1 [00:03<00:00,  3.33s/it, Generation Speed: 9.62 toks/s]\n",
      "100%|██████████| 1/1 [00:03<00:00,  3.34s/it]\n"
     ]
    },
    {
     "name": "stdout",
     "output_type": "stream",
     "text": [
      "answers:[{'Reactants': ['methanol'], 'Catalyst_Reagents': ['rhodium', 'iodide'], 'Product': ['acetic acid']}]\n",
      "第63条数据\n"
     ]
    },
    {
     "name": "stderr",
     "output_type": "stream",
     "text": [
      "Processed prompts: 100%|██████████| 1/1 [00:02<00:00,  2.43s/it, Generation Speed: 7.00 toks/s]\n",
      "100%|██████████| 1/1 [00:02<00:00,  2.44s/it]\n"
     ]
    },
    {
     "name": "stdout",
     "output_type": "stream",
     "text": [
      "{'Reactants': ['11', '21'], 'Product': ['22']}\n",
      "第64条数据\n"
     ]
    },
    {
     "name": "stderr",
     "output_type": "stream",
     "text": [
      "Processed prompts: 100%|██████████| 1/1 [00:04<00:00,  4.25s/it, Generation Speed: 9.18 toks/s]\n",
      "100%|██████████| 1/1 [00:04<00:00,  4.26s/it]\n"
     ]
    },
    {
     "name": "stdout",
     "output_type": "stream",
     "text": [
      "{'Temperature': [\"100 'C\"], 'Solvent': ['toluene'], 'Reactants': ['2a'], 'Product': ['tri-tert-butylsilane']}\n",
      "第65条数据\n"
     ]
    },
    {
     "name": "stderr",
     "output_type": "stream",
     "text": [
      "Processed prompts: 100%|██████████| 1/1 [00:06<00:00,  6.63s/it, Generation Speed: 8.45 toks/s]\n",
      "100%|██████████| 1/1 [00:06<00:00,  6.64s/it]\n"
     ]
    },
    {
     "name": "stdout",
     "output_type": "stream",
     "text": [
      "{'Reactants': ['1r(CR = CRCR3.CR)(PPh3)2C1', '1-Cl', 'R = C02CH3)9', '3-butyn-1-01'], 'Product': ['2,1']}\n"
     ]
    },
    {
     "name": "stderr",
     "output_type": "stream",
     "text": [
      "Processed prompts: 100%|██████████| 1/1 [00:03<00:00,  3.69s/it, Generation Speed: 5.97 toks/s]\n",
      "100%|██████████| 1/1 [00:03<00:00,  3.70s/it]\n"
     ]
    },
    {
     "name": "stdout",
     "output_type": "stream",
     "text": [
      "{'Reactants': ['1-C1', 'propargyl alcohol'], 'Product': ['3']}\n",
      "第66条数据\n"
     ]
    },
    {
     "name": "stderr",
     "output_type": "stream",
     "text": [
      "Processed prompts: 100%|██████████| 1/1 [00:05<00:00,  5.84s/it, Generation Speed: 8.92 toks/s]\n",
      "100%|██████████| 1/1 [00:05<00:00,  5.85s/it]\n"
     ]
    },
    {
     "name": "stdout",
     "output_type": "stream",
     "text": [
      "{'Reactants': ['2b', 'Me2- SiC12I7'], 'Solvent': ['Et20'], 'Temperature': ['-20 \" C'], 'Product': ['8'], 'Yield': ['89 : 11']}\n"
     ]
    },
    {
     "name": "stderr",
     "output_type": "stream",
     "text": [
      "Processed prompts: 100%|██████████| 1/1 [00:05<00:00,  5.82s/it, Generation Speed: 8.42 toks/s]\n",
      "100%|██████████| 1/1 [00:05<00:00,  5.83s/it]"
     ]
    },
    {
     "name": "stdout",
     "output_type": "stream",
     "text": [
      "{'Reactants': ['2b', 'Me2- SiC12I7'], 'Solvent': ['Et20'], 'Temperature': ['-20 \" C'], 'Product': ['9'], 'Yield': ['11']}\n",
      "TP, FP, FN 267 86 132\n",
      "NER:  precision, recall 0.7563739376770539 0.6691729323308271\n",
      "NER:  f1_score 0.7101063829787234\n"
     ]
    },
    {
     "name": "stderr",
     "output_type": "stream",
     "text": [
      "\n"
     ]
    },
    {
     "name": "stdout",
     "output_type": "stream",
     "text": [
      "\u001b[36m(RayWorkerWrapper pid=3833245)\u001b[0m ERROR 12-16 21:09:26 worker_base.py:148] Error executing method start_worker_execution_loop. This might cause deadlock in distributed execution.\n",
      "\u001b[36m(RayWorkerWrapper pid=3833245)\u001b[0m ERROR 12-16 21:09:26 worker_base.py:148] Traceback (most recent call last):\n",
      "\u001b[36m(RayWorkerWrapper pid=3833245)\u001b[0m ERROR 12-16 21:09:26 worker_base.py:148]   File \"/data/lizh/Conda/anaconda3/envs/vllm/lib/python3.9/site-packages/vllm/worker/worker_base.py\", line 140, in execute_method\n",
      "\u001b[36m(RayWorkerWrapper pid=3833245)\u001b[0m ERROR 12-16 21:09:26 worker_base.py:148]     return executor(*args, **kwargs)\n",
      "\u001b[36m(RayWorkerWrapper pid=3833245)\u001b[0m ERROR 12-16 21:09:26 worker_base.py:148]   File \"/data/lizh/Conda/anaconda3/envs/vllm/lib/python3.9/site-packages/torch/utils/_contextlib.py\", line 115, in decorate_context\n",
      "\u001b[36m(RayWorkerWrapper pid=3833245)\u001b[0m ERROR 12-16 21:09:26 worker_base.py:148]     return func(*args, **kwargs)\n",
      "\u001b[36m(RayWorkerWrapper pid=3833245)\u001b[0m ERROR 12-16 21:09:26 worker_base.py:148]   File \"/data/lizh/Conda/anaconda3/envs/vllm/lib/python3.9/site-packages/vllm/worker/worker.py\", line 286, in start_worker_execution_loop\n",
      "\u001b[36m(RayWorkerWrapper pid=3833245)\u001b[0m ERROR 12-16 21:09:26 worker_base.py:148]     while self._execute_model_non_driver():\n",
      "\u001b[36m(RayWorkerWrapper pid=3833245)\u001b[0m ERROR 12-16 21:09:26 worker_base.py:148]   File \"/data/lizh/Conda/anaconda3/envs/vllm/lib/python3.9/site-packages/vllm/worker/worker.py\", line 295, in _execute_model_non_driver\n",
      "\u001b[36m(RayWorkerWrapper pid=3833245)\u001b[0m ERROR 12-16 21:09:26 worker_base.py:148]     data = broadcast_tensor_dict(src=0)\n",
      "\u001b[36m(RayWorkerWrapper pid=3833245)\u001b[0m ERROR 12-16 21:09:26 worker_base.py:148]   File \"/data/lizh/Conda/anaconda3/envs/vllm/lib/python3.9/site-packages/vllm/distributed/communication_op.py\", line 284, in broadcast_tensor_dict\n",
      "\u001b[36m(RayWorkerWrapper pid=3833245)\u001b[0m ERROR 12-16 21:09:26 worker_base.py:148]     torch.distributed.broadcast_object_list(recv_metadata_list,\n",
      "\u001b[36m(RayWorkerWrapper pid=3833245)\u001b[0m ERROR 12-16 21:09:26 worker_base.py:148]   File \"/data/lizh/Conda/anaconda3/envs/vllm/lib/python3.9/site-packages/torch/distributed/c10d_logger.py\", line 75, in wrapper\n",
      "\u001b[36m(RayWorkerWrapper pid=3833245)\u001b[0m ERROR 12-16 21:09:26 worker_base.py:148]     return func(*args, **kwargs)\n",
      "\u001b[36m(RayWorkerWrapper pid=3833245)\u001b[0m ERROR 12-16 21:09:26 worker_base.py:148]   File \"/data/lizh/Conda/anaconda3/envs/vllm/lib/python3.9/site-packages/torch/distributed/distributed_c10d.py\", line 2649, in broadcast_object_list\n",
      "\u001b[36m(RayWorkerWrapper pid=3833245)\u001b[0m ERROR 12-16 21:09:26 worker_base.py:148]     broadcast(object_sizes_tensor, src=src, group=group)\n",
      "\u001b[36m(RayWorkerWrapper pid=3833245)\u001b[0m ERROR 12-16 21:09:26 worker_base.py:148]   File \"/data/lizh/Conda/anaconda3/envs/vllm/lib/python3.9/site-packages/torch/distributed/c10d_logger.py\", line 75, in wrapper\n",
      "\u001b[36m(RayWorkerWrapper pid=3833245)\u001b[0m ERROR 12-16 21:09:26 worker_base.py:148]     return func(*args, **kwargs)\n",
      "\u001b[36m(RayWorkerWrapper pid=3833245)\u001b[0m ERROR 12-16 21:09:26 worker_base.py:148]   File \"/data/lizh/Conda/anaconda3/envs/vllm/lib/python3.9/site-packages/torch/distributed/distributed_c10d.py\", line 2144, in broadcast\n",
      "\u001b[36m(RayWorkerWrapper pid=3833245)\u001b[0m ERROR 12-16 21:09:26 worker_base.py:148]     work.wait()\n",
      "\u001b[36m(RayWorkerWrapper pid=3833245)\u001b[0m ERROR 12-16 21:09:26 worker_base.py:148] RuntimeError: [../third_party/gloo/gloo/transport/tcp/unbound_buffer.cc:81] Timed out waiting 1800000ms for recv operation to complete\n"
     ]
    },
    {
     "name": "stderr",
     "output_type": "stream",
     "text": [
      "2024-12-16 21:09:32,445\tERROR worker.py:409 -- Unhandled error (suppress with 'RAY_IGNORE_UNHANDLED_ERRORS=1'): \u001b[36mray::RayWorkerWrapper.execute_method()\u001b[39m (pid=3833375, ip=211.86.155.202, actor_id=124edca056f8fc0abc91c4dc01000000, repr=<vllm.executor.ray_utils.RayWorkerWrapper object at 0x7fac32546e80>)\n",
      "  File \"/data/lizh/Conda/anaconda3/envs/vllm/lib/python3.9/site-packages/vllm/worker/worker_base.py\", line 149, in execute_method\n",
      "    raise e\n",
      "  File \"/data/lizh/Conda/anaconda3/envs/vllm/lib/python3.9/site-packages/vllm/worker/worker_base.py\", line 140, in execute_method\n",
      "    return executor(*args, **kwargs)\n",
      "  File \"/data/lizh/Conda/anaconda3/envs/vllm/lib/python3.9/site-packages/torch/utils/_contextlib.py\", line 115, in decorate_context\n",
      "    return func(*args, **kwargs)\n",
      "  File \"/data/lizh/Conda/anaconda3/envs/vllm/lib/python3.9/site-packages/vllm/worker/worker.py\", line 286, in start_worker_execution_loop\n",
      "    while self._execute_model_non_driver():\n",
      "  File \"/data/lizh/Conda/anaconda3/envs/vllm/lib/python3.9/site-packages/vllm/worker/worker.py\", line 295, in _execute_model_non_driver\n",
      "    data = broadcast_tensor_dict(src=0)\n",
      "  File \"/data/lizh/Conda/anaconda3/envs/vllm/lib/python3.9/site-packages/vllm/distributed/communication_op.py\", line 284, in broadcast_tensor_dict\n",
      "    torch.distributed.broadcast_object_list(recv_metadata_list,\n",
      "  File \"/data/lizh/Conda/anaconda3/envs/vllm/lib/python3.9/site-packages/torch/distributed/c10d_logger.py\", line 75, in wrapper\n",
      "    return func(*args, **kwargs)\n",
      "  File \"/data/lizh/Conda/anaconda3/envs/vllm/lib/python3.9/site-packages/torch/distributed/distributed_c10d.py\", line 2649, in broadcast_object_list\n",
      "    broadcast(object_sizes_tensor, src=src, group=group)\n",
      "  File \"/data/lizh/Conda/anaconda3/envs/vllm/lib/python3.9/site-packages/torch/distributed/c10d_logger.py\", line 75, in wrapper\n",
      "    return func(*args, **kwargs)\n",
      "  File \"/data/lizh/Conda/anaconda3/envs/vllm/lib/python3.9/site-packages/torch/distributed/distributed_c10d.py\", line 2144, in broadcast\n",
      "    work.wait()\n",
      "RuntimeError: [../third_party/gloo/gloo/transport/tcp/unbound_buffer.cc:81] Timed out waiting 1800000ms for recv operation to complete\n",
      "2024-12-16 21:09:32,448\tERROR worker.py:409 -- Unhandled error (suppress with 'RAY_IGNORE_UNHANDLED_ERRORS=1'): \u001b[36mray::RayWorkerWrapper.execute_method()\u001b[39m (pid=3833245, ip=211.86.155.202, actor_id=c172251ac91dab3ca911dbbd01000000, repr=<vllm.executor.ray_utils.RayWorkerWrapper object at 0x7fbcc9bcbee0>)\n",
      "  File \"/data/lizh/Conda/anaconda3/envs/vllm/lib/python3.9/site-packages/vllm/worker/worker_base.py\", line 149, in execute_method\n",
      "    raise e\n",
      "  File \"/data/lizh/Conda/anaconda3/envs/vllm/lib/python3.9/site-packages/vllm/worker/worker_base.py\", line 140, in execute_method\n",
      "    return executor(*args, **kwargs)\n",
      "  File \"/data/lizh/Conda/anaconda3/envs/vllm/lib/python3.9/site-packages/torch/utils/_contextlib.py\", line 115, in decorate_context\n",
      "    return func(*args, **kwargs)\n",
      "  File \"/data/lizh/Conda/anaconda3/envs/vllm/lib/python3.9/site-packages/vllm/worker/worker.py\", line 286, in start_worker_execution_loop\n",
      "    while self._execute_model_non_driver():\n",
      "  File \"/data/lizh/Conda/anaconda3/envs/vllm/lib/python3.9/site-packages/vllm/worker/worker.py\", line 295, in _execute_model_non_driver\n",
      "    data = broadcast_tensor_dict(src=0)\n",
      "  File \"/data/lizh/Conda/anaconda3/envs/vllm/lib/python3.9/site-packages/vllm/distributed/communication_op.py\", line 284, in broadcast_tensor_dict\n",
      "    torch.distributed.broadcast_object_list(recv_metadata_list,\n",
      "  File \"/data/lizh/Conda/anaconda3/envs/vllm/lib/python3.9/site-packages/torch/distributed/c10d_logger.py\", line 75, in wrapper\n",
      "    return func(*args, **kwargs)\n",
      "  File \"/data/lizh/Conda/anaconda3/envs/vllm/lib/python3.9/site-packages/torch/distributed/distributed_c10d.py\", line 2649, in broadcast_object_list\n",
      "    broadcast(object_sizes_tensor, src=src, group=group)\n",
      "  File \"/data/lizh/Conda/anaconda3/envs/vllm/lib/python3.9/site-packages/torch/distributed/c10d_logger.py\", line 75, in wrapper\n",
      "    return func(*args, **kwargs)\n",
      "  File \"/data/lizh/Conda/anaconda3/envs/vllm/lib/python3.9/site-packages/torch/distributed/distributed_c10d.py\", line 2144, in broadcast\n",
      "    work.wait()\n",
      "RuntimeError: [../third_party/gloo/gloo/transport/tcp/unbound_buffer.cc:81] Timed out waiting 1800000ms for recv operation to complete\n",
      "2024-12-16 21:09:32,450\tERROR worker.py:409 -- Unhandled error (suppress with 'RAY_IGNORE_UNHANDLED_ERRORS=1'): \u001b[36mray::RayWorkerWrapper.execute_method()\u001b[39m (pid=3833494, ip=211.86.155.202, actor_id=472fb44f9efa8c7059a2b56901000000, repr=<vllm.executor.ray_utils.RayWorkerWrapper object at 0x7ef08b40ef10>)\n",
      "  File \"/data/lizh/Conda/anaconda3/envs/vllm/lib/python3.9/site-packages/vllm/worker/worker_base.py\", line 149, in execute_method\n",
      "    raise e\n",
      "  File \"/data/lizh/Conda/anaconda3/envs/vllm/lib/python3.9/site-packages/vllm/worker/worker_base.py\", line 140, in execute_method\n",
      "    return executor(*args, **kwargs)\n",
      "  File \"/data/lizh/Conda/anaconda3/envs/vllm/lib/python3.9/site-packages/torch/utils/_contextlib.py\", line 115, in decorate_context\n",
      "    return func(*args, **kwargs)\n",
      "  File \"/data/lizh/Conda/anaconda3/envs/vllm/lib/python3.9/site-packages/vllm/worker/worker.py\", line 286, in start_worker_execution_loop\n",
      "    while self._execute_model_non_driver():\n",
      "  File \"/data/lizh/Conda/anaconda3/envs/vllm/lib/python3.9/site-packages/vllm/worker/worker.py\", line 295, in _execute_model_non_driver\n",
      "    data = broadcast_tensor_dict(src=0)\n",
      "  File \"/data/lizh/Conda/anaconda3/envs/vllm/lib/python3.9/site-packages/vllm/distributed/communication_op.py\", line 284, in broadcast_tensor_dict\n",
      "    torch.distributed.broadcast_object_list(recv_metadata_list,\n",
      "  File \"/data/lizh/Conda/anaconda3/envs/vllm/lib/python3.9/site-packages/torch/distributed/c10d_logger.py\", line 75, in wrapper\n",
      "    return func(*args, **kwargs)\n",
      "  File \"/data/lizh/Conda/anaconda3/envs/vllm/lib/python3.9/site-packages/torch/distributed/distributed_c10d.py\", line 2649, in broadcast_object_list\n",
      "    broadcast(object_sizes_tensor, src=src, group=group)\n",
      "  File \"/data/lizh/Conda/anaconda3/envs/vllm/lib/python3.9/site-packages/torch/distributed/c10d_logger.py\", line 75, in wrapper\n",
      "    return func(*args, **kwargs)\n",
      "  File \"/data/lizh/Conda/anaconda3/envs/vllm/lib/python3.9/site-packages/torch/distributed/distributed_c10d.py\", line 2144, in broadcast\n",
      "    work.wait()\n",
      "RuntimeError: [../third_party/gloo/gloo/transport/tcp/unbound_buffer.cc:81] Timed out waiting 1800000ms for recv operation to complete\n"
     ]
    }
   ],
   "source": [
    "import os\n",
    "\n",
    "from evaluate import *\n",
    "from llm_re import *\n",
    "import warnings\n",
    "warnings.filterwarnings(\"ignore\")\n",
    "\n",
    "def main():\n",
    "    train_data,test_data=get_data()\n",
    "    \n",
    "    prev_dir='/data/lizh/ChemRxnExtractor-main/test_prev.json'\n",
    "    prev_data=read_json_file(prev_dir)\n",
    "    \n",
    "    prev_data2=chem_re_new(train_data,prev_data)\n",
    "    Reaction_f1(test_data,prev_data2)\n",
    "\n",
    "main()"
   ]
  }
 ],
 "metadata": {
  "kernelspec": {
   "display_name": "vllm",
   "language": "python",
   "name": "python3"
  },
  "language_info": {
   "codemirror_mode": {
    "name": "ipython",
    "version": 3
   },
   "file_extension": ".py",
   "mimetype": "text/x-python",
   "name": "python",
   "nbconvert_exporter": "python",
   "pygments_lexer": "ipython3",
   "version": "undefined.undefined.undefined"
  }
 },
 "nbformat": 4,
 "nbformat_minor": 2
}
