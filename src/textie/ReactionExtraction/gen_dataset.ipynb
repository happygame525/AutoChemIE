{
 "cells": [
  {
   "cell_type": "markdown",
   "metadata": {},
   "source": [
    "# 根据给定的训练集 生成sft格式的数据集用于大模型微调\n",
    "# sft数据集格式：\n",
    "jsonl文件\n",
    "每一行：{\"instruction\": \"请说一下化学反应动力学的应用现状。\", \"input\": \"\", \"output\": \"化学反应动力学的应用现状包括废水处理、生产过程的反应条件优化、催化剂的设计和评价等领域。例如，化学反应动力学可以用于确定反应机理和催化剂的性能，以更好地解决重要的基础和工业问题。\"}"
   ]
  },
  {
   "cell_type": "markdown",
   "metadata": {},
   "source": [
    "# 训练集格式：\n",
    "{\n",
    "        \"text\": \"As observed for the glycosylations of the 4-OH acceptor 7 , the use of equimolar proportions of the donor 6 and the acceptor 16 , in glycosylation reactions , led to the isolation of significant quantities of the glucal 9 and low yields of the disaccharides.\",\n",
    "        \"metainfo\": \"#\\tpassage=10.1021/ja00144a001-8\\tsegment=1\",\n",
    "        \"reactions\": [\n",
    "            {\n",
    "                \"Yield\": [\n",
    "                    \"significant quantities\"\n",
    "                ],\n",
    "                \"Product\": [\n",
    "                    \"9\"\n",
    "                ]\n",
    "            },\n",
    "            {\n",
    "                \"Yield\": [\n",
    "                    \"low\"\n",
    "                ],\n",
    "                \"Product\": [\n",
    "                    \"disaccharides.\"\n",
    "                ]\n",
    "            }\n",
    "        ]\n",
    "    }"
   ]
  },
  {
   "cell_type": "code",
   "execution_count": 1,
   "metadata": {},
   "outputs": [],
   "source": [
    "import os \n",
    "import json\n",
    "from data_process import *\n",
    "from prompt_construct import *\n",
    "base_dir=os.getcwd()\n",
    "data_dir=base_dir+\"/data/train.json\""
   ]
  },
  {
   "cell_type": "code",
   "execution_count": 2,
   "metadata": {},
   "outputs": [],
   "source": [
    "#读数据\n",
    "train_set=read_json_file(data_dir)\n",
    "res_list=[]\n",
    "for sentence_item in train_set:\n",
    "    sentence=sentence_item['text']\n",
    "    reactions=sentence_item['reactions']\n",
    "    for reaction_item in reactions:\n",
    "        sft_dict={}\n",
    "        product=reaction_item['Product']\n",
    "        instruction,input=gen_sft_template(sentence,product)\n",
    "        output=json.dumps(reaction_item)\n",
    "        sft_dict['instruction']=instruction\n",
    "        sft_dict['input']=input\n",
    "        sft_dict['output']=output\n",
    "        res_list.append(sft_dict)\n",
    "\n",
    "save_dir=base_dir+'/reaction_sft.json'\n",
    "write_dict_to_file(res_list,save_dir)"
   ]
  },
  {
   "cell_type": "code",
   "execution_count": 3,
   "metadata": {},
   "outputs": [
    {
     "name": "stdout",
     "output_type": "stream",
     "text": [
      "599\n"
     ]
    }
   ],
   "source": [
    "data_dir=base_dir+'/reaction_sft.json'\n",
    "data=read_json_file(data_dir)\n",
    "print(len(data))"
   ]
  },
  {
   "cell_type": "markdown",
   "metadata": {},
   "source": [
    "# 生成product类实体的sft数据集"
   ]
  },
  {
   "cell_type": "code",
   "execution_count": 1,
   "metadata": {},
   "outputs": [],
   "source": [
    "import os \n",
    "import json\n",
    "from data_process import *\n",
    "from prompt_construct import *\n",
    "base_dir=os.getcwd()\n",
    "data_dir=\"/data/lizh/ChemRxnExtractor-main/llm_role/data/prod/train.json\"\n",
    "#读数据\n",
    "train_set=read_json_file(data_dir)\n",
    "res_list=[]\n",
    "\n",
    "for data_item in train_set:\n",
    "    sentence=data_item['text']\n",
    "    \n",
    "    sft_dict={}\n",
    "    instruction,input=gen_product_sft(sentence)\n",
    "    entities=data_item['products']\n",
    "\n",
    "    sft_dict['instruction']=instruction\n",
    "    sft_dict['input']=input\n",
    "    sft_dict['output']=str(entities)\n",
    "    res_list.append(sft_dict)\n",
    "\n",
    "save_dir=base_dir+'/product_sft.json'\n",
    "write_dict_to_file(res_list,save_dir)"
   ]
  }
 ],
 "metadata": {
  "kernelspec": {
   "display_name": "chemrxn",
   "language": "python",
   "name": "python3"
  },
  "language_info": {
   "codemirror_mode": {
    "name": "ipython",
    "version": 3
   },
   "file_extension": ".py",
   "mimetype": "text/x-python",
   "name": "python",
   "nbconvert_exporter": "python",
   "pygments_lexer": "ipython3",
   "version": "3.8.0"
  }
 },
 "nbformat": 4,
 "nbformat_minor": 2
}
